{
 "cells": [
  {
   "metadata": {},
   "cell_type": "markdown",
   "source": [
    "# DATA 240-21, Fall 2024\n",
    "# Assignment #3 (Release on Nov 2nd, 2024, Due 11:59pm on Nov 19th, 2024)\n",
    "\n",
    "### Notes\n",
    "- This assignment should be submitted in Canvas as a format of ipython notebook (assignment3.ipynb).\n",
    "- No late assignments will be accepted. Do not accept any other format. Minimum penalty is 2pts with acceptable excuse.\n",
    "- You may collaborate on homework but must independently write code/solutions. Copying and other forms of cheating will not be tolerated and will result in a zero score for the homework (minimal penalty) or a failing grade for the course.\n",
    "- Your work will be graded in terms of correctness, completeness, and clarity, not just the answer. Thus, correct answers with no or poorly written supporting steps may receive very little credit.\n",
    "\n",
    "### NOTE: Please do not use any open-source algorithm for gradient decent method. Instead, you need to write gradient descent method from scratch."
   ],
   "id": "1f12da467301120f"
  },
  {
   "metadata": {
    "ExecuteTime": {
     "end_time": "2024-11-15T10:38:34.545237Z",
     "start_time": "2024-11-15T10:38:34.121516Z"
    }
   },
   "cell_type": "code",
   "source": "import pandas as pd",
   "id": "25c787b75f0a4bb8",
   "outputs": [],
   "execution_count": 1
  },
  {
   "metadata": {},
   "cell_type": "markdown",
   "source": [
    "# 1. (5 pts) Linear regression with gradient decent\n",
    "\n",
    "Please download housing.csv. This is a real-life dataset consisting of housing sales prices in the city of Windsor, Ontario, Canada. You can find a description of the variables in housing.txt. Our target variable is ‘price’.\n",
    "\n",
    "- Linear regression using gradient descent method from scratch \n",
    "- This is the task of Linear regression with multi variables.\n",
    "\n",
    "- You need to find the optimum Weights using gradient decent method from scratch.\n",
    "- Before applying gradient descent method, you might need to normalize variables, which is called feature scaling or normalization.\n",
    "- In gradient descent algorithm, weight needs to be updated every iteration.\n",
    "\n",
    "## 1-1. (3pts) Please build a gradient descent algorithm based on the following formulas.\n",
    "\n",
    "- Please print out the Root Mean Squared Error (RMSE) every iteration (until 10 epochs).\n",
    "- Please fit the data using the Linear regression model with the optimum Weight.\n",
    "- To simply the problem, please plot ‘price’ vs ‘lotsize’ as the below. The ‘price’ and ‘lotsize’ should be original scale instead of normalized scale.\n",
    "- Please plot ‘true-price’(y) vs ‘predicted-price’(𝑦\n",
    "̂) and display R2. The y and 𝑦̂  should be original scale instead of normalized scale."
   ],
   "id": "d87204766f460c17"
  },
  {
   "metadata": {},
   "cell_type": "code",
   "outputs": [],
   "execution_count": null,
   "source": "",
   "id": "35f3a28964873bb4"
  },
  {
   "metadata": {},
   "cell_type": "code",
   "outputs": [],
   "execution_count": null,
   "source": "",
   "id": "e48e64b1a42c2d98"
  },
  {
   "metadata": {},
   "cell_type": "code",
   "outputs": [],
   "execution_count": null,
   "source": "",
   "id": "bdac25a427ab86ca"
  },
  {
   "metadata": {},
   "cell_type": "code",
   "outputs": [],
   "execution_count": null,
   "source": "",
   "id": "f68d2231c93641d3"
  },
  {
   "metadata": {},
   "cell_type": "code",
   "outputs": [],
   "execution_count": null,
   "source": "",
   "id": "6db3afdd049bbc9e"
  },
  {
   "metadata": {
    "ExecuteTime": {
     "end_time": "2024-11-15T08:23:16.311649Z",
     "start_time": "2024-11-15T08:23:16.309565Z"
    }
   },
   "cell_type": "code",
   "source": "",
   "id": "f8942c155b6bc134",
   "outputs": [],
   "execution_count": null
  },
  {
   "metadata": {},
   "cell_type": "markdown",
   "source": [
    "## 1-2. (2pts) Please build a gradient descent algorithm based on the following cost function.\n",
    "\n",
    "- Please print out the Root Mean Squared Error (RMSE) every iteration (until 10 epochs).\n",
    "- Please fit the data using the Linear regression model with the optimum Weight.\n",
    "- Please plot ‘true-price’(y) vs ‘predicted-price’(𝑦̂) and display R2.\n"
   ],
   "id": "5b2fa0dd044d40d5"
  },
  {
   "metadata": {},
   "cell_type": "code",
   "outputs": [],
   "execution_count": null,
   "source": "",
   "id": "8025f666eb487c1c"
  },
  {
   "metadata": {},
   "cell_type": "markdown",
   "source": [
    "# 2. (5 pts) Binary classification with logistic regression\n",
    "\n",
    "- ### Please download heart_disease_train.csv and heart_disease_test.csv. The dataset is for cardiovascular study. The target variable is ‘TenYearCHD’, which shows whether the patient has 10-year risk of future coronary heart disease (CHD). You can find a description of the variables in cardiovascular.txt.\n",
    "\n",
    "- ### This is the task of Binary classification with logistic regression. You need to build a logistic regression model from scratch to predict ‘TenYearCHD’.\n",
    "\n",
    "- ### Before applying gradient descent method, you might need to fill out missing value and normalize variables. \n",
    "\n",
    "- ### Please build a gradient descent algorithm based on the following formulas. Instead, you may build an algorithm based on the matrix formula.\n",
    "\n",
    "- ### Please print out the Cost function J for every iteration (until 10 epochs) for the train dataset. Please print out confusion matrix and its corresponding accuracy, precision, and recall for the train and test dataset after the last iteration."
   ],
   "id": "d9b265de66fd12a2"
  },
  {
   "metadata": {},
   "cell_type": "code",
   "outputs": [],
   "execution_count": null,
   "source": "",
   "id": "114487641e809e11"
  }
 ],
 "metadata": {
  "kernelspec": {
   "display_name": "Python 3",
   "language": "python",
   "name": "python3"
  },
  "language_info": {
   "codemirror_mode": {
    "name": "ipython",
    "version": 2
   },
   "file_extension": ".py",
   "mimetype": "text/x-python",
   "name": "python",
   "nbconvert_exporter": "python",
   "pygments_lexer": "ipython2",
   "version": "2.7.6"
  }
 },
 "nbformat": 4,
 "nbformat_minor": 5
}
