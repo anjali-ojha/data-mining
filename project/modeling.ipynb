{
 "cells": [
  {
   "metadata": {},
   "cell_type": "markdown",
   "source": [
    "Reference:\n",
    "- https://www.kaggle.com/code/shahules/tackling-class-imbalance\n",
    "- https://www.kaggle.com/code/fbasampaio/decision-tree-fraud-prevention\n",
    "- https://www.kaggle.com/code/cdeotte/xgb-fraud-with-magic-0-9600#The-Magic-Feature---UID"
   ],
   "id": "933c805739405145"
  },
  {
   "metadata": {},
   "cell_type": "code",
   "outputs": [],
   "execution_count": null,
   "source": "https://www.kaggle.com/code/shahules/tackling-class-imbalance",
   "id": "54bb11c3c62559b5"
  }
 ],
 "metadata": {
  "kernelspec": {
   "display_name": "Python 3",
   "language": "python",
   "name": "python3"
  },
  "language_info": {
   "codemirror_mode": {
    "name": "ipython",
    "version": 2
   },
   "file_extension": ".py",
   "mimetype": "text/x-python",
   "name": "python",
   "nbconvert_exporter": "python",
   "pygments_lexer": "ipython2",
   "version": "2.7.6"
  }
 },
 "nbformat": 4,
 "nbformat_minor": 5
}
