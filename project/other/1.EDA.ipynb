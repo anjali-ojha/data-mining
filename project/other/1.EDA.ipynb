{
 "cells": [
  {
   "cell_type": "markdown",
   "id": "84a9524a",
   "metadata": {
    "id": "Y9XRNN1sOkF9"
   },
   "source": [
    "<br><br><div style='text-align:center; font-family:serif; font-size:40px; height:40px;'>IEEE-CIS Fraud Detection</div>"
   ]
  },
  {
   "cell_type": "markdown",
   "id": "30ff23b9",
   "metadata": {
    "id": "n5G7DTcOOkGC"
   },
   "source": [
    "<br><img style='border-radius:5px; margin-bottom:-40px;' src=https://www.bloomberg.com/features/2016-credit-card-chip-ninjas/img/card-ninja-970.gif><br><br>\n",
    "<a style='display:block;text-align:right; text-decoration:None;' href='https://www.bloomberg.com/features/2016-credit-card-chip-ninjas/'>Image Source</a>"
   ]
  },
  {
   "cell_type": "markdown",
   "id": "2b27a3bf",
   "metadata": {
    "id": "a0GQfnaBOkGD"
   },
   "source": [
    "<hr>\n",
    "<br><div style='text-align:center;'><b>Challenge Source - </b><a href='https://www.kaggle.com/c/ieee-fraud-detection/overview'> https://www.kaggle.com/c/ieee-fraud-detection/overview</a></div><br><hr>"
   ]
  },
  {
   "cell_type": "markdown",
   "id": "d2a39cda",
   "metadata": {
    "id": "tt6GGIoEOkGD"
   },
   "source": [
    "# 1. Business Problem"
   ]
  },
  {
   "cell_type": "markdown",
   "id": "b12039fd",
   "metadata": {
    "id": "RhD_eljIOkGD"
   },
   "source": [
    "## 1.1 Description - "
   ]
  },
  {
   "cell_type": "markdown",
   "id": "35cf1e42",
   "metadata": {
    "id": "W_lLmIbAOkGE"
   },
   "source": [
    "Imagine standing at the check-out counter at the grocery store with a long line behind you and the cashier not-so-quietly announces that your card has been declined. In this moment, you probably aren’t thinking about the data science that determined your fate.\n",
    "\n",
    "Embarrassed, and certain you have the funds to cover everything needed for an epic nacho party for 50 of your closest friends, you try your card again. Same result. As you step aside and allow the cashier to tend to the next customer, you receive a text message from your bank. “Press 1 if you really tried to spend $500 on cheddar cheese.”\n",
    "\n",
    "While perhaps cumbersome (and often embarrassing) in the moment, this fraud prevention system is actually saving consumers millions of dollars per year. Researchers from the IEEE Computational Intelligence Society (IEEE-CIS) want to improve this figure, while also improving the customer experience. With higher accuracy fraud detection, you can get on with your chips without the hassle.\n",
    "\n",
    "IEEE-CIS works across a variety of AI and machine learning areas, including deep neural networks, fuzzy systems, evolutionary computation, and swarm intelligence. Today they’re partnering with the world’s leading payment service company, Vesta Corporation, seeking the best solutions for fraud prevention industry, and now you are invited to join the challenge.\n",
    "\n",
    "In this competition, you’ll benchmark machine learning models on a challenging large-scale dataset. The data comes from Vesta's real-world e-commerce transactions and contains a wide range of features from device type to product features. You also have the opportunity to create new features to improve your results.\n",
    "\n",
    "If successful, you’ll improve the efficacy of fraudulent transaction alerts for millions of people around the world, helping hundreds of thousands of businesses reduce their fraud loss and increase their revenue. And of course, you will save party people just like you the hassle of false positives."
   ]
  },
  {
   "cell_type": "markdown",
   "id": "808c24c4",
   "metadata": {
    "id": "MWKlgnRVOkGE"
   },
   "source": [
    "## 1.2 Business Objective -"
   ]
  },
  {
   "cell_type": "markdown",
   "id": "222d44dd",
   "metadata": {
    "id": "fsjb0iPwOkGF"
   },
   "source": [
    "The traditional approaches used for detecting the transaction fraudulence involve manual monitoring through humans which also involve interaction with the card holders. This approach is not very efficient as it not only consumes a lot of time but it is also quite expensive in terms of the resources it uses to detect the fraudulence of a transaction. Moreover, in the real world the majority of the transactions being manually monitored turns out to be legit and only a few of them turn out to be fraudulent which wastes a lot of time and energy. And, hence in this competition we need to come up with an automated screening system which requires minimalistic human intervention to detect the legitimacy of transactions using Machine Learning.\n",
    "\n",
    "__We will be predicting whether a transaction is fraudulent or not and to predict this we will be building an ML model using a real-world e-commerce dataset.__"
   ]
  },
  {
   "cell_type": "markdown",
   "id": "6a34bc10",
   "metadata": {
    "id": "CivJd-IdOkGF"
   },
   "source": [
    "## 1.3 Constraints -\n",
    "\n",
    "- The cost of predicting a legit transaction as fraudulent will lead to bad customer experience and predicting the fraud transaction as legit will lead to huge financial losses. And, hence the prediction must be as __accurate__ as possible.\n",
    "\n",
    "\n",
    "- Suppose, a fraudulent transaction occurs and the customer knows about it after hours or days then it is of no use and hence the prediction should be instant. Therefore, we need to build a model which predicts __instantly__ about the state of a transaction.\n",
    "\n",
    "\n",
    "- __Interpretability__ is also partially important especially in cases where a transaction has been declared as fraud since one must know why a transaction has been declared as fraud."
   ]
  },
  {
   "cell_type": "markdown",
   "id": "1e7a1c86",
   "metadata": {
    "id": "9g0LDM3e9ps8"
   },
   "source": [
    "<br>"
   ]
  },
  {
   "cell_type": "markdown",
   "id": "f9dd6e8e",
   "metadata": {
    "id": "c-fBW5C_OkGG"
   },
   "source": [
    "# 2. Machine Learning Problem"
   ]
  },
  {
   "cell_type": "markdown",
   "id": "b6cf32d7",
   "metadata": {
    "id": "rPS08Zj-OkGG"
   },
   "source": [
    "## 2.1 Data"
   ]
  },
  {
   "cell_type": "markdown",
   "id": "a9998596",
   "metadata": {
    "id": "_xca4csDOkGG"
   },
   "source": [
    "The dataset given to us is as follows,\n",
    "\n",
    "- __train_transaction.csv__ : The transaction dataset comprising the transaction details to be used for training the model.\n",
    "\n",
    "\n",
    "- __train_identity.csv__ : The identity dataset comprising the additional details about the identity of the payer and the merchant among whom the transaction was performed, the details of which are present in the train_transaction.csv.\n",
    "\n",
    "\n",
    "- __test_transaction.csv__ : The transaction dataset comprising the transaction information to test the performance of the trained model.\n",
    "\n",
    "\n",
    "- __test_identity.csv__ : The identity dataset comprising the additional identity information about the transactions present in the test_transaction."
   ]
  },
  {
   "cell_type": "markdown",
   "id": "25261a71",
   "metadata": {
    "id": "Lz2BLRniOkGH"
   },
   "source": [
    "__Description of Transaction Dataset__\n",
    "\n",
    "  - **TransactionID** - Id of the transaction and is the foreign key in the Identity Table.\n",
    "  \n",
    "  - **isFraud** - 0 or 1 signifying whether a transaction was fraudulent or not.\n",
    "  \n",
    "  - **TransactionDT** - timedelta from a given reference datetime (not an actual timestamp)\n",
    "\n",
    "  - **TransactionAMT** - Transaction Payment Amount in USD. \n",
    "\n",
    "  - **ProductCD** - Product Code.\n",
    "\n",
    "  - **card1 - card6** - Payment Card information, such as card type, card category, issue bank, country, etc.\n",
    "\n",
    "  - **addr** - Address\n",
    "\n",
    "  - **dist** - Distance\n",
    "\n",
    "  - **P_emaildomain** - Purchaser Email Domain.\n",
    "\n",
    "  - **R_emaildomain** - Receiver Email Domain.\n",
    "\n",
    "  - **C1-C14** - counting, such as how many addresses are found to be associated with the payment card, etc. The actual meaning is masked.\n",
    "\n",
    "  - **D1-D15** - timedelta, such as days between previous transactions, etc.\n",
    "\n",
    "  - **M1-M9** - match, such as names on card and address, etc.\n",
    "\n",
    "  - **Vxxx** - Vesta engineered rich features, including ranking, counting, and other entity relations.\n",
    "\n",
    "  >_**Categorical Features**_ -\n",
    "\n",
    "    - ProductCD\n",
    "    - card1-card6\n",
    "    - addr1, addr2\n",
    "    - P_emaildomain\n",
    "    - R_emaildomain\n",
    "    - M1-M9\n",
    "\n",
    "<br>\n"
   ]
  },
  {
   "cell_type": "markdown",
   "id": "d5d6c9e4",
   "metadata": {
    "id": "ASn0QHQZOkGH"
   },
   "source": [
    "__Description of the Identity Dataset__\n",
    "\n",
    "Variables in this table are identity information – network connection information (IP, ISP, Proxy, etc) and digital signature (UA/browser/os/version, etc) associated with transactions.\n",
    "They're collected by Vesta’s fraud protection system and digital security partners.\n",
    "\n",
    "(The field names are masked and pairwise dictionary will not be provided for privacy protection and contract agreement).\n",
    "\n",
    "> _**Categorical Features**_ -\n",
    "\n",
    "  - DeviceType\n",
    "  - DeviceInfo\n",
    "  - id_12 - id_38\n",
    "\n",
    "<br><br>"
   ]
  },
  {
   "cell_type": "markdown",
   "id": "fcde8892",
   "metadata": {
    "id": "DLUmRFm_OkGI"
   },
   "source": [
    "## 2.2 Mapping the real world problem to an ML Problem"
   ]
  },
  {
   "cell_type": "markdown",
   "id": "0065ee78",
   "metadata": {
    "id": "GzZeEEE4OkGI"
   },
   "source": [
    "### 2.2.1 Problem Type\n",
    "\n",
    "Since, we need to classify a transaction as fraudulent or non-fraudulent and hence, this is a binary classification problem.\n"
   ]
  },
  {
   "cell_type": "markdown",
   "id": "dde0aa25",
   "metadata": {
    "id": "mr0k1M4JOkGI"
   },
   "source": [
    "### 2.2.2 Performance Metric\n",
    "\n",
    "- The organizers decided to evaluate the submissions on area under the ROC curve between the predicted probability and the observed target. Hence, __ROC-AUC__ will be our __Key Performance Indicator (KPI)__.\n",
    "\n",
    "\n",
    "- We will be additionally using the __Confusion Matrix__ to add more interpratability to the models."
   ]
  },
  {
   "cell_type": "markdown",
   "id": "2d059b57",
   "metadata": {
    "id": "PPEKd69KBcZ9"
   },
   "source": [
    "__Explanation on choosing ROC-AUC as the KPI :__\n",
    "\n",
    "In the real world, given a transaction we want our model to correctly declare it as fraudulent or not. The customer in the worst case might accept its legal transaction to be declared as fraud (False Positive) since it won't cost much except for some time to manually mark the transaction as legit but the declaration of a fraud transaction as legit (False Negative) is not at all accepted by any customer since it will often lead to huge financial and personal loss.\n",
    "\n",
    "Thus, we can say that we can say that a model will be a good model if it has a low False Positives Rate as well as the False Negative Rate, this statement explains why we can't use precision or recall alone, since precision is useful when we are more concerned about the False Positives than the False Negatives and Recall is useful when we are more concerned for the False Negatives than the False Positives.\n",
    "\n",
    "Now, one option is to use a metric which is the combination of Precision and Recall, one such metric is the F1-Score. We can surely use this metric but this metric doesn't give any flexibility on weighing the False Positives over False Negatives and vice-versa.\n",
    "\n",
    "So, till now, it is clear that we need a metric which not only reduces False Positives and False Negatives but also provides the user a flexibility to weigh False Positives or False Negatives according to their needs.\n",
    "\n",
    "Hence, a metric which can make us perform all the discussed measures is called the ROC Curve which not only optimizes for False Positives and False Negatives but also gives us the freedom to choose a threshold value which allows the user to weigh False Positives and False Negatives accordingly. The area under the ROC curve often termed as AUC helps us identify the class separability capability of the model i.e. how good is the model in separating class labels.\n",
    "\n",
    "<br>"
   ]
  },
  {
   "cell_type": "markdown",
   "id": "c2501fb6",
   "metadata": {
    "id": "c2501fb6"
   },
   "source": [
    "# 3. Exploratory Data Analysis (EDA)\n",
    "<br><br>"
   ]
  },
  {
   "cell_type": "code",
   "id": "f5e713a0",
   "metadata": {
    "executionInfo": {
     "elapsed": 359,
     "status": "ok",
     "timestamp": 1623066144955,
     "user": {
      "displayName": "Priyank Mishra",
      "photoUrl": "",
      "userId": "18008032652400229851"
     },
     "user_tz": -330
    },
    "id": "f5e713a0"
   },
   "source": [
    "import numpy as np\n",
    "import pandas as pd\n",
    "import pickle\n",
    "import seaborn as sns\n",
    "import matplotlib\n",
    "%matplotlib inline\n",
    "import matplotlib.pyplot as plt\n",
    "import warnings\n",
    "warnings.filterwarnings(\"ignore\")"
   ],
   "outputs": [],
   "execution_count": null
  },
  {
   "cell_type": "markdown",
   "id": "696a21e3",
   "metadata": {
    "id": "696a21e3"
   },
   "source": [
    "## 3.1 Loading and Merging the Datasets\n",
    "<br>"
   ]
  },
  {
   "cell_type": "code",
   "id": "f405d3c7",
   "metadata": {
    "executionInfo": {
     "elapsed": 44859,
     "status": "ok",
     "timestamp": 1623066191870,
     "user": {
      "displayName": "Priyank Mishra",
      "photoUrl": "",
      "userId": "18008032652400229851"
     },
     "user_tz": -330
    },
    "id": "f405d3c7"
   },
   "source": [
    "# Loading Train Dataset\n",
    "\n",
    "train_transaction = pd.read_csv('../data/train_transaction.csv')\n",
    "train_identity = pd.read_csv('../data/train_identity.csv')\n",
    "\n",
    "# Loading Test Dataset\n",
    "\n",
    "test_transaction = pd.read_csv('../data/test_transaction.csv')\n",
    "test_identity = pd.read_csv('../data/test_identity.csv')"
   ],
   "outputs": [],
   "execution_count": null
  },
  {
   "cell_type": "code",
   "id": "6bc64670",
   "metadata": {
    "colab": {
     "base_uri": "https://localhost:8080/"
    },
    "executionInfo": {
     "elapsed": 8,
     "status": "ok",
     "timestamp": 1623066191871,
     "user": {
      "displayName": "Priyank Mishra",
      "photoUrl": "",
      "userId": "18008032652400229851"
     },
     "user_tz": -330
    },
    "id": "6bc64670",
    "outputId": "e8a91b51-2a9f-4f2f-b6fb-3c0a4cf58c44"
   },
   "source": [
    "print(\"Train Transaction Dataset Shape : \",train_transaction.shape)\n",
    "print(\"Train Identity Dataset Shape : \",train_identity.shape)\n",
    "print('-'*50)\n",
    "print(\"Test Transaction Dataset Shape : \",test_transaction.shape)\n",
    "print(\"Test Identity Dataset Shape : \",test_identity.shape)"
   ],
   "outputs": [],
   "execution_count": null
  },
  {
   "cell_type": "markdown",
   "id": "a297cd2f",
   "metadata": {
    "id": "a297cd2f"
   },
   "source": [
    "__Observation(s):__ \n",
    "\n",
    "Different number of rows in the train_transaction and train_identity dataset signifies that the identity information is not present for each transaction in train_transaction dataset. Out of 590540 in the train_transaction dataset we only have identity information of 144233 transactions. \n",
    "\n",
    "And, in the test set we have the identity information of only 141907 transactions out of 506691 transactions.\n",
    "<br><br>"
   ]
  },
  {
   "cell_type": "code",
   "id": "477ac07c",
   "metadata": {
    "executionInfo": {
     "elapsed": 9717,
     "status": "ok",
     "timestamp": 1623066201584,
     "user": {
      "displayName": "Priyank Mishra",
      "photoUrl": "",
      "userId": "18008032652400229851"
     },
     "user_tz": -330
    },
    "id": "477ac07c"
   },
   "source": [
    "# Merging the transaction and identity dataset\n",
    "\n",
    "train_data = train_transaction.merge(train_identity, how='left', on='TransactionID')\n",
    "del train_transaction, train_identity\n",
    "\n",
    "test_data = test_transaction.merge(test_identity, how='left', on='TransactionID')\n",
    "del test_transaction, test_identity"
   ],
   "outputs": [],
   "execution_count": null
  },
  {
   "cell_type": "code",
   "id": "69f93be5",
   "metadata": {
    "colab": {
     "base_uri": "https://localhost:8080/",
     "height": 284
    },
    "executionInfo": {
     "elapsed": 19,
     "status": "ok",
     "timestamp": 1623066201585,
     "user": {
      "displayName": "Priyank Mishra",
      "photoUrl": "",
      "userId": "18008032652400229851"
     },
     "user_tz": -330
    },
    "id": "69f93be5",
    "outputId": "c9e4d31d-c015-46d7-e4b6-69f7369f5e27",
    "scrolled": true
   },
   "source": [
    "train_data.head()"
   ],
   "outputs": [],
   "execution_count": null
  },
  {
   "cell_type": "code",
   "id": "95f24308",
   "metadata": {
    "colab": {
     "base_uri": "https://localhost:8080/",
     "height": 267
    },
    "executionInfo": {
     "elapsed": 14,
     "status": "ok",
     "timestamp": 1623066201586,
     "user": {
      "displayName": "Priyank Mishra",
      "photoUrl": "",
      "userId": "18008032652400229851"
     },
     "user_tz": -330
    },
    "id": "95f24308",
    "outputId": "ad9fc324-2395-4e2a-ed34-cf37834cb06f"
   },
   "source": [
    "test_data.head()"
   ],
   "outputs": [],
   "execution_count": null
  },
  {
   "cell_type": "code",
   "id": "c8ba0c07",
   "metadata": {
    "executionInfo": {
     "elapsed": 14,
     "status": "ok",
     "timestamp": 1623066201588,
     "user": {
      "displayName": "Priyank Mishra",
      "photoUrl": "",
      "userId": "18008032652400229851"
     },
     "user_tz": -330
    },
    "id": "c8ba0c07"
   },
   "source": [
    "# test_data has a mismatch with the train data in the names of the id features, in the train data we have the id \n",
    "# feature as id_x but in the test data we have the id feature as id-x and hence we will be making all names the \n",
    "# id features in the test data same as the names of the id features of the train data \n",
    "\n",
    "test_data.columns = test_data.columns.str.replace('^id-', 'id_', regex=True)"
   ],
   "outputs": [],
   "execution_count": null
  },
  {
   "cell_type": "code",
   "id": "0de56e4b",
   "metadata": {
    "colab": {
     "base_uri": "https://localhost:8080/"
    },
    "id": "0de56e4b",
    "outputId": "cf357fe5-7171-4752-e73d-160453849677"
   },
   "source": [
    "# Checking for Duplicate Rows in the training set\n",
    "\n",
    "duplicate_rows = train_data[train_data.duplicated()]  \n",
    "print(\"Duplicate Rows :\", duplicate_rows)"
   ],
   "outputs": [],
   "execution_count": null
  },
  {
   "cell_type": "markdown",
   "id": "d9ad8ff1",
   "metadata": {
    "id": "d9ad8ff1"
   },
   "source": [
    "**Observation(s):** \n",
    "\n",
    "No duplicate rows are present in the dataset.\n",
    "<br><br>"
   ]
  },
  {
   "cell_type": "code",
   "id": "7a20f2a8",
   "metadata": {
    "colab": {
     "base_uri": "https://localhost:8080/"
    },
    "id": "7a20f2a8",
    "outputId": "01688551-f31a-4823-a555-85a3767457d2"
   },
   "source": [
    "# Checking for duplicate columns\n",
    "\n",
    "def getDuplicateColumns(df):\n",
    "    \n",
    "    '''\n",
    "    Utility Function to get a list of duplicate columns.\n",
    "    '''\n",
    "    \n",
    "    duplicateColumnNames = set()\n",
    "    # Iterate over all the columns in dataframe\n",
    "    for x in range(df.shape[1]):\n",
    "        # Select column at xth index.\n",
    "        col = df.iloc[:, x]\n",
    "        # Iterate over all the columns in DataFrame from (x+1)th index till end\n",
    "        for y in range(x + 1, df.shape[1]):\n",
    "            # Select column at yth index.\n",
    "            otherCol = df.iloc[:, y]\n",
    "            # Check if two columns at x 7 y index are equal\n",
    "            if col.equals(otherCol):\n",
    "                duplicateColumnNames.add(df.columns.values[y])\n",
    "    return list(duplicateColumnNames)\n",
    "\n",
    "duplicate_columns = getDuplicateColumns(train_data)\n",
    "\n",
    "print(duplicate_columns)"
   ],
   "outputs": [],
   "execution_count": null
  },
  {
   "cell_type": "markdown",
   "id": "38f2d604",
   "metadata": {
    "id": "38f2d604"
   },
   "source": [
    "**Observation(s):** \n",
    "\n",
    "No duplicate columns are present in the dataset.\n",
    "<br><br>"
   ]
  },
  {
   "cell_type": "code",
   "id": "aa4e09a2",
   "metadata": {
    "executionInfo": {
     "elapsed": 3965,
     "status": "ok",
     "timestamp": 1623066206161,
     "user": {
      "displayName": "Priyank Mishra",
      "photoUrl": "",
      "userId": "18008032652400229851"
     },
     "user_tz": -330
    },
    "id": "aa4e09a2"
   },
   "source": [
    "# Sorting the Dataframe by the TransactionDT column\n",
    "\n",
    "train_data.sort_values(by='TransactionDT' ,inplace=True)\n",
    "test_data.sort_values(by='TransactionDT' , inplace=True)"
   ],
   "outputs": [],
   "execution_count": null
  },
  {
   "cell_type": "code",
   "id": "2f70c828",
   "metadata": {
    "executionInfo": {
     "elapsed": 24462,
     "status": "ok",
     "timestamp": 1623066230616,
     "user": {
      "displayName": "Priyank Mishra",
      "photoUrl": "",
      "userId": "18008032652400229851"
     },
     "user_tz": -330
    },
    "id": "2f70c828"
   },
   "source": [
    "# Saving the merged train and test dataset into pickle format\n",
    "\n",
    "train_data.to_pickle('/tmp/merged_train.pkl')\n",
    "test_data.to_pickle('/tmp/merged_test.pkl')\n",
    "\n",
    "del train_data, test_data"
   ],
   "outputs": [],
   "execution_count": null
  },
  {
   "cell_type": "markdown",
   "id": "9af17293",
   "metadata": {
    "id": "9af17293"
   },
   "source": [
    "\n",
    "## 3.2 Exploring the Dataset\n",
    "\n",
    "<br>"
   ]
  },
  {
   "cell_type": "markdown",
   "id": "4970f4eb",
   "metadata": {
    "id": "4970f4eb"
   },
   "source": [
    "### Loading Data\n",
    "<br>"
   ]
  },
  {
   "cell_type": "code",
   "id": "dee196d7",
   "metadata": {
    "id": "dee196d7"
   },
   "source": [
    "# Loading the merged train and test dataset\n",
    "\n",
    "train_data = pd.read_pickle(\"/tmp/merged_train.pkl\")\n",
    "test_data = pd.read_pickle(\"/tmp/merged_test.pkl\")"
   ],
   "outputs": [],
   "execution_count": null
  },
  {
   "cell_type": "code",
   "id": "8812b600",
   "metadata": {
    "colab": {
     "base_uri": "https://localhost:8080/"
    },
    "executionInfo": {
     "elapsed": 5,
     "status": "ok",
     "timestamp": 1623066230617,
     "user": {
      "displayName": "Priyank Mishra",
      "photoUrl": "",
      "userId": "18008032652400229851"
     },
     "user_tz": -330
    },
    "id": "8812b600",
    "outputId": "23fceb9b-66ed-481c-ea6b-ecf34c43d4ae"
   },
   "source": [
    "print(\"*\"*35)\n",
    "print(\"\\n Train Data Shape : {} \\n\".format(train_data.shape))\n",
    "print(\"\\n Test Data Shape : {} \\n\".format(test_data.shape))\n",
    "print(\"*\"*35)"
   ],
   "outputs": [],
   "execution_count": null
  },
  {
   "cell_type": "markdown",
   "id": "76a11f3b",
   "metadata": {
    "id": "76a11f3b"
   },
   "source": [
    "### __Exploring Missing Values__\n",
    "<br>"
   ]
  },
  {
   "cell_type": "code",
   "id": "b8bcd1d7",
   "metadata": {
    "id": "b8bcd1d7"
   },
   "source": [
    "def missing_info(column, df):\n",
    "    \n",
    "    '''\n",
    "        Utility Function to compute the missing value info\n",
    "        of any feature in a dataset.\n",
    "    '''\n",
    "    \n",
    "    na = df[column].isna()\n",
    "    count = na.sum()\n",
    "    total_count = df.shape[0]\n",
    "    miss_prcnt = np.round((count/total_count)*100,3)\n",
    "    \n",
    "    return (count, miss_prcnt)"
   ],
   "outputs": [],
   "execution_count": null
  },
  {
   "cell_type": "code",
   "id": "6a80c472",
   "metadata": {
    "id": "6a80c472"
   },
   "source": [
    "def missing_train_info(df):\n",
    "    '''\n",
    "        Utility Function to get information about missing values in the dataframe, \n",
    "        for each column the following information is given by this function.\n",
    "       \n",
    "            - Number of missing values present in the column.\n",
    "            - Percentage of missing values in the column.\n",
    "    '''\n",
    "    \n",
    "    columns_missing_info = []\n",
    "    \n",
    "    for column in df:\n",
    "\n",
    "        count, miss_prcnt = missing_info(column, df);\n",
    "        \n",
    "        if(count):\n",
    "            columns_missing_info.append([column, count, miss_prcnt])\n",
    "      \n",
    "    column_names = ['Feature_Name', 'Missing_Count', 'Missing_Percentage']\n",
    "    \n",
    "    missing_info_df = pd.DataFrame(data = columns_missing_info, columns = column_names)\n",
    "    \n",
    "    return missing_info_df"
   ],
   "outputs": [],
   "execution_count": null
  },
  {
   "cell_type": "code",
   "id": "7bb466d1",
   "metadata": {
    "id": "7bb466d1"
   },
   "source": [
    "missing_train_df = missing_train_info(train_data)"
   ],
   "outputs": [],
   "execution_count": null
  },
  {
   "cell_type": "code",
   "id": "fbf6bfcd",
   "metadata": {
    "id": "fbf6bfcd",
    "scrolled": true
   },
   "source": [
    "# Modifying the display setting of the pandas so as to view all the rows in a dataframe\n",
    "\n",
    "pd.set_option(\"display.max_rows\", None, \"display.max_columns\", None)\n",
    "pd.reset_option(\"display.max_rows\", \"display.max_columns\")"
   ],
   "outputs": [],
   "execution_count": null
  },
  {
   "cell_type": "code",
   "id": "e4d3407f",
   "metadata": {
    "colab": {
     "base_uri": "https://localhost:8080/",
     "height": 1000
    },
    "executionInfo": {
     "elapsed": 11,
     "status": "ok",
     "timestamp": 1622091156994,
     "user": {
      "displayName": "Priyank Mishra",
      "photoUrl": "",
      "userId": "18008032652400229851"
     },
     "user_tz": -330
    },
    "id": "e4d3407f",
    "outputId": "6cb2c5c1-06e4-469b-edd3-4c35f6f3d359",
    "scrolled": true
   },
   "source": [
    "missing_train_df.head(train_data.shape[1])"
   ],
   "outputs": [],
   "execution_count": null
  },
  {
   "cell_type": "markdown",
   "id": "d390da0c",
   "metadata": {},
   "source": [
    "__Observation(s):__\n",
    "\n",
    "A very interesting of missing values can be seen in the V_features, subgroups having same number of missing values are present in the V_features.\n",
    "<br><br>"
   ]
  },
  {
   "cell_type": "markdown",
   "id": "a13f7cce",
   "metadata": {
    "id": "a13f7cce"
   },
   "source": [
    "### __Performing EDA__\n",
    "<br>"
   ]
  },
  {
   "cell_type": "code",
   "id": "e1c282cd",
   "metadata": {
    "executionInfo": {
     "elapsed": 631,
     "status": "ok",
     "timestamp": 1623066272200,
     "user": {
      "displayName": "Priyank Mishra",
      "photoUrl": "",
      "userId": "18008032652400229851"
     },
     "user_tz": -330
    },
    "id": "e1c282cd"
   },
   "source": [
    "def cat_num_features(df):\n",
    "    \n",
    "    '''\n",
    "        Utility Function to get the names of Categorical Features and \n",
    "        Numerical Features of the given Dataset.\n",
    "    '''\n",
    "    \n",
    "    catf = []\n",
    "    numf = []\n",
    "    \n",
    "    # Given Categorical Features \n",
    "    catf = ['ProductCD', 'card1', 'card2', 'card3', 'card4', 'card5', \\\n",
    "            'card6', 'addr1', 'addr2', 'P_emaildomain', 'R_emaildomain', 'M1', 'M2', \\\n",
    "            'M3', 'M4', 'M5', 'M6', 'M7', 'M8', 'M9', \\\n",
    "            'DeviceType', 'DeviceInfo']\n",
    "    catf+=['id_'+str(i) for i in range(12,39)]\n",
    "\n",
    "\n",
    "    # Updating the Categorical Feature Names List based on the columns present in the dataframe\n",
    "    catf = [feature for feature in catf if feature in df.columns.values]\n",
    "    numf = [feature for feature in df.columns if feature not in catf and not feature == 'isFraud']\n",
    "    \n",
    "    return (catf, numf)  "
   ],
   "outputs": [],
   "execution_count": null
  },
  {
   "cell_type": "code",
   "id": "cc0e81c5",
   "metadata": {
    "executionInfo": {
     "elapsed": 3,
     "status": "ok",
     "timestamp": 1623066272200,
     "user": {
      "displayName": "Priyank Mishra",
      "photoUrl": "",
      "userId": "18008032652400229851"
     },
     "user_tz": -330
    },
    "id": "cc0e81c5"
   },
   "source": [
    "# Storing Categorical and Numerical Feature Names \n",
    "\n",
    "catf, numf = cat_num_features(train_data)"
   ],
   "outputs": [],
   "execution_count": null
  },
  {
   "cell_type": "code",
   "id": "2ff550fb",
   "metadata": {
    "id": "2ff550fb"
   },
   "source": [
    "# Filling all the NaN values of Non-Numeric Categorical Features with \"NaN\" string to perform EDA\n",
    "\n",
    "non_num = [f for f in catf if train_data[f].dtype == object]\n",
    "train_data[non_num] = train_data[non_num].fillna('NaN')"
   ],
   "outputs": [],
   "execution_count": null
  },
  {
   "cell_type": "markdown",
   "id": "fa85d09d",
   "metadata": {},
   "source": [
    "<br>"
   ]
  },
  {
   "cell_type": "markdown",
   "id": "6069b888",
   "metadata": {
    "id": "6069b888"
   },
   "source": [
    "#### - Univariate Analysis\n",
    "<br>"
   ]
  },
  {
   "cell_type": "markdown",
   "id": "282117a2",
   "metadata": {
    "id": "282117a2"
   },
   "source": [
    "- #### Target Variable (isFraud)\n",
    "<br>"
   ]
  },
  {
   "cell_type": "code",
   "id": "7b60a8f4",
   "metadata": {
    "colab": {
     "base_uri": "https://localhost:8080/",
     "height": 324
    },
    "id": "7b60a8f4",
    "outputId": "f623c9fb-0d69-4314-f52a-1ea591525973",
    "scrolled": false
   },
   "source": [
    "ax = sns.countplot(x='isFraud', data = train_data)\n",
    "\n",
    "plt.title(\"\\nDistribution of Class Labels\\n\")\n",
    "\n",
    "plt.margins(0.05, 0.1)\n",
    "\n",
    "for p in ax.patches:\n",
    "  x=p.get_bbox().get_points()[:,0]\n",
    "  y=p.get_bbox().get_points()[1,1]\n",
    "  ax.annotate('{} ({:.1f}%)'.format(int(y),100.*y/len(train_data)), (x.mean(), y), \n",
    "          ha='center', va='bottom') \n",
    "\n",
    "plt.show()"
   ],
   "outputs": [],
   "execution_count": null
  },
  {
   "cell_type": "markdown",
   "id": "5e14a966",
   "metadata": {
    "id": "TCNg2V1Y6JKX"
   },
   "source": [
    "__Observation(s):__ \n",
    "\n",
    "1. The count of fraudulent transactions present in the dataset are very few as compared to the non-fraudulent transactions which implies that the dataset is extremely imbalanced. \n",
    "\n",
    "\n",
    "2. We need to keep this thing in mind while modeling especially for the models which get highly impacted due to the class imbalance.\n",
    "<br><br>"
   ]
  },
  {
   "cell_type": "markdown",
   "id": "ee25bce6",
   "metadata": {
    "id": "ee25bce6"
   },
   "source": [
    "- #### Categorical Features\n",
    "<br><br>"
   ]
  },
  {
   "cell_type": "code",
   "id": "09d4e930",
   "metadata": {
    "id": "09d4e930",
    "outputId": "c981407b-d24e-4f42-b572-0252007ce478"
   },
   "source": [
    "# We have the followig Categorical Features\n",
    "\n",
    "print(catf)"
   ],
   "outputs": [],
   "execution_count": null
  },
  {
   "cell_type": "markdown",
   "id": "3a0482d5",
   "metadata": {
    "id": "3a0482d5"
   },
   "source": [
    "> __ProductCD__"
   ]
  },
  {
   "cell_type": "code",
   "id": "162d8657",
   "metadata": {
    "id": "162d8657",
    "outputId": "c48d2ea2-95fb-483f-da2d-10d343377219",
    "scrolled": false
   },
   "source": [
    "train_data[['ProductCD']].describe()"
   ],
   "outputs": [],
   "execution_count": null
  },
  {
   "cell_type": "code",
   "id": "9a612aa6",
   "metadata": {
    "id": "9a612aa6",
    "outputId": "1c9e3257-4d9f-4e36-a18b-033e9c1d6971",
    "scrolled": false
   },
   "source": [
    "ax = sns.countplot(x='ProductCD', hue='isFraud', data = train_data)\n",
    "\n",
    "plt.margins(0.05, 0.1)\n",
    "\n",
    "for p in ax.patches:\n",
    "  x=p.get_bbox().get_points()[:,0]\n",
    "  y=p.get_bbox().get_points()[1,1]\n",
    "  ax.annotate('{:.1f}%'.format(100.*y/len(train_data)), (x.mean(), y), \n",
    "          ha='center', va='bottom') \n",
    "\n",
    "plt.title('\\nProductCD Count Plot\\n')\n",
    "plt.show()"
   ],
   "outputs": [],
   "execution_count": null
  },
  {
   "cell_type": "markdown",
   "id": "cf884618",
   "metadata": {
    "id": "KsMcOw58M6Kq"
   },
   "source": [
    "__Observation(s):__ \n",
    "\n",
    "\n",
    "1. Majority of the transactions have been done for the ProductCD \"W\".\n",
    "\n",
    "\n",
    "2. Even though the number of transactions having ProductCD \"C\" are very less as compared to the number of transactions having ProductCD \"W\", the number of fraudulent transactions are almost comparable for both the categories.\n",
    "<br><br>"
   ]
  },
  {
   "cell_type": "markdown",
   "id": "a6af01b8",
   "metadata": {
    "id": "a6af01b8"
   },
   "source": [
    ">__card1-card6__"
   ]
  },
  {
   "cell_type": "code",
   "id": "d929c263",
   "metadata": {
    "id": "d929c263"
   },
   "source": [
    "card_features = ['card'+str(i) for i in range(1,7) if \"card\"+str(i) in catf]"
   ],
   "outputs": [],
   "execution_count": null
  },
  {
   "cell_type": "code",
   "id": "7e14a1c3",
   "metadata": {
    "id": "7e14a1c3",
    "outputId": "2e7938c4-9962-4197-ffb6-5194071af101",
    "scrolled": false
   },
   "source": [
    "for f in card_features:\n",
    "    print('\\n',\"*\"*10,f,\"*\"*10,'\\n')\n",
    "    print(train_data[f].describe())\n",
    "    if(train_data[f].dtype != object):\n",
    "        len_unique_cat = len(np.unique(train_data[f]))\n",
    "        print(\"\\n{} feature has {} unique categories\\n\".format(f, len_unique_cat))"
   ],
   "outputs": [],
   "execution_count": null
  },
  {
   "cell_type": "code",
   "id": "73dafab3",
   "metadata": {
    "colab": {
     "base_uri": "https://localhost:8080/"
    },
    "id": "73dafab3",
    "outputId": "9d2b9ab7-a747-4259-a565-9226843a2e83",
    "scrolled": false
   },
   "source": [
    "fig, axes = plt.subplots(3, 2, figsize=(14, 15))\n",
    "\n",
    "fig.tight_layout(pad=6.0)\n",
    "fig.suptitle('Plotting for card features')\n",
    "idx = 0\n",
    "\n",
    "plt.margins(0.05, 0.1)\n",
    "\n",
    "for i in range(3):\n",
    "    for j in range(2):\n",
    "        \n",
    "        if(idx==len(card_features)):\n",
    "            break\n",
    "        \n",
    "        f = card_features[idx]\n",
    "        idx+=1\n",
    "        \n",
    "        if(train_data[f].dtype == object):\n",
    "            sns.countplot(x=f,hue='isFraud', data=train_data, ax=axes[i,j])\n",
    "            axes[i,j].set_title(f+\" Count Plot\")\n",
    "\n",
    "            for p in axes[i,j].patches:\n",
    "              x=p.get_bbox().get_points()[:,0]\n",
    "              y=p.get_bbox().get_points()[1,1]\n",
    "              axes[i,j].annotate('{:.1f}%'.format(100.*y/len(train_data)), (x.mean(), y), \n",
    "                      ha='center', va='bottom') \n",
    "\n",
    "        \n",
    "        else:\n",
    "            sns.histplot(x=f,hue='isFraud', data=train_data, ax=axes[i,j], kde=True)\n",
    "            axes[i,j].set_title(f+\" Histogram\")"
   ],
   "outputs": [],
   "execution_count": null
  },
  {
   "cell_type": "markdown",
   "id": "17eea0c5",
   "metadata": {},
   "source": [
    "__Observation(s):__\n",
    "\n",
    "1. card1, card2, card3 and card5 are encoded as a numerical categorical variable and their real meaning is not clear just seeing the values.\n",
    "\n",
    "\n",
    "2. card1 and card2 have the most number of categories as compared to the other cards.\n",
    "\n",
    "\n",
    "3. card4 feature corresponds to the type of card whereas card6 feature corresponds to the card company. Majority of card holders use \"debit\" cards and the most used companies are \"visa\" and \"mastercard\".\n",
    "\n",
    "\n",
    "4. The percentage of fraud is higher with the \"credit\" cards.\n",
    "<br><br>"
   ]
  },
  {
   "cell_type": "markdown",
   "id": "89393696",
   "metadata": {
    "id": "89393696"
   },
   "source": [
    "> __addr1-addr2__"
   ]
  },
  {
   "cell_type": "code",
   "id": "56fb488d",
   "metadata": {
    "id": "56fb488d"
   },
   "source": [
    "addr_features = ['addr'+str(i) for i in range(1,3) if \"addr\"+str(i) in catf]"
   ],
   "outputs": [],
   "execution_count": null
  },
  {
   "cell_type": "code",
   "id": "e453c789",
   "metadata": {
    "id": "e453c789",
    "outputId": "475fbb49-f50f-4b24-8d9c-646fadaf981c",
    "scrolled": false
   },
   "source": [
    "for f in addr_features:\n",
    "    print('\\n',\"*\"*10,f,\"*\"*10,'\\n')\n",
    "    print(train_data[f].describe())\n",
    "    if(train_data[f].dtype != object):\n",
    "        len_unique_cat = len(np.unique(train_data[f]))\n",
    "        print(\"\\n{} feature has {} unique categories\\n\".format(f, len_unique_cat))"
   ],
   "outputs": [],
   "execution_count": null
  },
  {
   "cell_type": "code",
   "id": "7dcd5471",
   "metadata": {
    "colab": {
     "base_uri": "https://localhost:8080/"
    },
    "id": "7dcd5471",
    "outputId": "9d2b9ab7-a747-4259-a565-9226843a2e83",
    "scrolled": false
   },
   "source": [
    "fig, axes = plt.subplots(2, 1, figsize=(10, 10))\n",
    "fig.tight_layout(pad=6.0)\n",
    "fig.suptitle('Plotting for addr features')\n",
    "idx = 0\n",
    "\n",
    "for i in range(2):    \n",
    "    \n",
    "        if(idx==len(addr_features)):\n",
    "            break\n",
    "    \n",
    "        f = addr_features[idx]\n",
    "        idx+=1\n",
    "            \n",
    "        sns.histplot(x=f,hue='isFraud', data=train_data, ax=axes[i], kde=True)\n",
    "        axes[i].set_title(f+\" Histogram\")"
   ],
   "outputs": [],
   "execution_count": null
  },
  {
   "cell_type": "markdown",
   "id": "ab82a837",
   "metadata": {},
   "source": [
    "__Observation(s):__\n",
    "\n",
    "1. addr1 feature corresponds to the city zip code but it is encoded to avoid revealing the actual codes.\n",
    "\n",
    "\n",
    "2. The card2 feature has a majority of values as 87 and the region for this is the fact that this feature corresponds to the billing country and most of the transactions are from a single country only.\n",
    "<br><br>"
   ]
  },
  {
   "cell_type": "markdown",
   "id": "c88552fe",
   "metadata": {
    "id": "c88552fe"
   },
   "source": [
    "> __P_emaildomain and R_emaildomain__"
   ]
  },
  {
   "cell_type": "code",
   "id": "9f14a7c0",
   "metadata": {
    "id": "9f14a7c0"
   },
   "source": [
    "domain_features = ['P_emaildomain', 'R_emaildomain']"
   ],
   "outputs": [],
   "execution_count": null
  },
  {
   "cell_type": "code",
   "id": "6c5a5830",
   "metadata": {
    "id": "6c5a5830",
    "outputId": "fbaa9729-4f91-41f2-957c-dcc5d302fcb9",
    "scrolled": true
   },
   "source": [
    "for f in domain_features:\n",
    "    print('\\n',\"*\"*10,f,\"*\"*10,'\\n')\n",
    "    print(train_data[f].describe())\n",
    "    if(train_data[f].dtype != object):\n",
    "        len_unique_cat = len(np.unique(train_data[f]))\n",
    "        print(\"\\n{} feature has {} unique categories\\n\".format(f, len_unique_cat))"
   ],
   "outputs": [],
   "execution_count": null
  },
  {
   "cell_type": "code",
   "id": "1191ea38",
   "metadata": {
    "id": "1191ea38",
    "outputId": "58956a41-eaa7-40b7-9962-9e41b4a4b429",
    "scrolled": false
   },
   "source": [
    "fig, axes = plt.subplots(2, 1, figsize=(15, 13))\n",
    "\n",
    "fig.tight_layout(pad=15.0)\n",
    "fig.suptitle('Plotting for domain features', y=0.9)\n",
    "idx = 0\n",
    "\n",
    "for i in range(2):\n",
    "    \n",
    "        if(idx==len(domain_features)):\n",
    "            break\n",
    "            \n",
    "        f = domain_features[idx]\n",
    "        idx+=1\n",
    "        \n",
    "        sns.countplot(x=f,hue='isFraud', data=train_data, ax=axes[i])\n",
    "        \n",
    "        axes[i].set_xticklabels(axes[i].get_xticklabels(), rotation=90, ha='center')\n",
    "        axes[i].legend(loc=7)\n",
    "        axes[i].set_title(f+\" Count Plot\")"
   ],
   "outputs": [],
   "execution_count": null
  },
  {
   "cell_type": "markdown",
   "id": "b49484fe",
   "metadata": {
    "id": "EF0VqfAH0MmQ"
   },
   "source": [
    "__Observation(s):__ \n",
    "\n",
    "1. Majority of the Card Holders (Purchaser) have the well know email domains like \"gmail.com\", \"yahoo.com\" etc.\n",
    "\n",
    "\n",
    "2. There are also some domains like outlook.es, protonmail.com, aim.com etc. which have almost same percentage of fraudulent and non-fraudulent transactions which means transactions with these email domains have the highest chance of being fraudulent.\n",
    "\n",
    "\n",
    "3. We do not have any R_emaildomain for majority of transactions and the reason for this is that not every transaction receives a slip from the receipent and hence has no information about his email.\n",
    "<br><br>"
   ]
  },
  {
   "cell_type": "markdown",
   "id": "3ce67d9d",
   "metadata": {
    "id": "3ce67d9d"
   },
   "source": [
    "> __M1-M9__"
   ]
  },
  {
   "cell_type": "code",
   "id": "f9ac876b",
   "metadata": {
    "id": "f9ac876b"
   },
   "source": [
    "m_features = [\"M\"+str(i) for i in range(1,10) if \"M\"+str(i) in catf]"
   ],
   "outputs": [],
   "execution_count": null
  },
  {
   "cell_type": "code",
   "id": "e0cb8265",
   "metadata": {
    "id": "e0cb8265",
    "outputId": "41a61a0c-3d3f-4706-c551-54d29bde5ddb",
    "scrolled": false
   },
   "source": [
    "for f in m_features:\n",
    "    print('\\n',\"*\"*10,f,\"*\"*10,'\\n')\n",
    "    print(train_data[f].describe())\n",
    "    if(train_data[f].dtype != object):\n",
    "        len_unique_cat = len(np.unique(train_data[f]))\n",
    "        print(\"\\n{} feature has {} unique categories\\n\".format(f, len_unique_cat))"
   ],
   "outputs": [],
   "execution_count": null
  },
  {
   "cell_type": "code",
   "id": "814be00a",
   "metadata": {
    "id": "814be00a",
    "outputId": "554be5cd-0471-496d-fe36-5764c5b3a597",
    "scrolled": false
   },
   "source": [
    "fig, axes = plt.subplots(3, 3, figsize=(12, 10))\n",
    "\n",
    "fig.tight_layout(pad=6.0)\n",
    "fig.suptitle('Plotting for M features')\n",
    "idx = 0\n",
    "\n",
    "plt.margins(0.05, 0.1)\n",
    "\n",
    "for i in range(3):\n",
    "    for j in range(3):\n",
    "        \n",
    "        if(idx==len(m_features)):\n",
    "            break\n",
    "        \n",
    "        f = m_features[idx]\n",
    "        idx+=1\n",
    "        \n",
    "        sns.countplot(x=f,hue='isFraud', data=train_data, ax=axes[i,j])\n",
    "        \n",
    "        for p in axes[i,j].patches:\n",
    "              x=p.get_bbox().get_points()[:,0]\n",
    "              y=p.get_bbox().get_points()[1,1]\n",
    "              axes[i,j].annotate('{:.1f}%'.format(100.*y/len(train_data)), (x.mean(), y), \n",
    "                      ha='center', va='bottom') \n",
    "                \n",
    "        axes[i,j].set_title(f+\" Count Plot\")\n",
    "        \n",
    "plt.tight_layout()\n",
    "plt.show()"
   ],
   "outputs": [],
   "execution_count": null
  },
  {
   "cell_type": "markdown",
   "id": "89bdb8e2",
   "metadata": {},
   "source": [
    "__Observation(s):__\n",
    "\n",
    "1. These features corresponds to the match value such as name on card match or not etc. therefore most of these features are of the form \"T\" or \"F\".\n",
    "\n",
    "\n",
    "2. Majority of the transactions have no information regarding these features.\n",
    "<br><br>"
   ]
  },
  {
   "cell_type": "markdown",
   "id": "3313f8bd",
   "metadata": {
    "id": "3313f8bd"
   },
   "source": [
    "> __DeviceType__"
   ]
  },
  {
   "cell_type": "code",
   "id": "99edadac",
   "metadata": {
    "id": "99edadac",
    "outputId": "97d48056-b8be-4982-cead-dba617cbe180",
    "scrolled": false
   },
   "source": [
    "train_data[['DeviceType']].describe()"
   ],
   "outputs": [],
   "execution_count": null
  },
  {
   "cell_type": "code",
   "id": "1c76c844",
   "metadata": {
    "id": "1c76c844",
    "outputId": "1c9e3257-4d9f-4e36-a18b-033e9c1d6971",
    "scrolled": false
   },
   "source": [
    "ax = sns.countplot(x='DeviceType', hue='isFraud', data = train_data)\n",
    "\n",
    "plt.margins(0.05, 0.1)\n",
    "\n",
    "for p in ax.patches:\n",
    "              x=p.get_bbox().get_points()[:,0]\n",
    "              y=p.get_bbox().get_points()[1,1]\n",
    "              ax.annotate('{:.1f}%'.format(100.*y/len(train_data)), (x.mean(), y), \n",
    "                      ha='center', va='bottom') \n",
    "\n",
    "plt.title('\\nDeviceType Count Plot\\n')\n",
    "plt.show()"
   ],
   "outputs": [],
   "execution_count": null
  },
  {
   "cell_type": "markdown",
   "id": "8d0db10a",
   "metadata": {},
   "source": [
    "__Observation(s):__ \n",
    "\n",
    "1. DeviceType Info is not present for majority of the transactions.\n",
    "\n",
    "\n",
    "2. The percentage of fraudulent transactions relative to other transactions is quite high, i.e., the chances of a transaction being fraudulent done using mobile is high.\n",
    "<br><br>"
   ]
  },
  {
   "cell_type": "markdown",
   "id": "39217427",
   "metadata": {
    "id": "39217427"
   },
   "source": [
    "> __DeviceInfo__"
   ]
  },
  {
   "cell_type": "code",
   "id": "f91c0c99",
   "metadata": {
    "id": "f91c0c99",
    "outputId": "ebaa8a2e-2fe7-4313-ef0c-f784f61e33d5",
    "scrolled": true
   },
   "source": [
    "train_data[['DeviceInfo']].describe()"
   ],
   "outputs": [],
   "execution_count": null
  },
  {
   "cell_type": "code",
   "id": "c67b2aff",
   "metadata": {
    "id": "c67b2aff",
    "outputId": "00d4f0e8-a095-4978-86e1-d0fd44e8fcc3"
   },
   "source": [
    "plt.figure(figsize=(250,10))\n",
    "ax = sns.countplot(x='DeviceInfo', hue='isFraud', data=train_data)\n",
    "ax.set_xticklabels(ax.get_xticklabels(), rotation=90, ha='center')\n",
    "plt.title('\\nDeviceInfo Count Plot\\n')\n",
    "plt.tight_layout()\n",
    "plt.show()"
   ],
   "outputs": [],
   "execution_count": null
  },
  {
   "cell_type": "code",
   "id": "c2f7d0fd",
   "metadata": {
    "id": "c2f7d0fd",
    "outputId": "8d41a4ff-2250-49ff-e410-67f773c5df4d",
    "scrolled": false
   },
   "source": [
    "# Top 50 DeviceInfo Value Counts\n",
    "\n",
    "train_data['DeviceInfo'].value_counts()[:50]"
   ],
   "outputs": [],
   "execution_count": null
  },
  {
   "cell_type": "markdown",
   "id": "182b3f0c",
   "metadata": {
    "id": "182b3f0c"
   },
   "source": [
    "> __id_12-id_38__"
   ]
  },
  {
   "cell_type": "code",
   "id": "2eccd25a",
   "metadata": {
    "id": "2eccd25a"
   },
   "source": [
    "id_features = [\"id_\"+str(i) for i in range(12, 39) if \"id_\"+str(i) in catf]"
   ],
   "outputs": [],
   "execution_count": null
  },
  {
   "cell_type": "code",
   "id": "b55eb3a7",
   "metadata": {
    "id": "b55eb3a7",
    "outputId": "2e3b2eea-5075-4a0d-8fbc-e4c2abbc129b",
    "scrolled": false
   },
   "source": [
    "for f in id_features:\n",
    "    print('\\n',\"*\"*10,f,\"*\"*10,'\\n')\n",
    "    print(train_data[f].describe())\n",
    "    if(train_data[f].dtype != object):\n",
    "        len_unique_cat = len(np.unique(train_data[f]))\n",
    "        print(\"\\n{} feature has {} unique categories\\n\".format(f, len_unique_cat))"
   ],
   "outputs": [],
   "execution_count": null
  },
  {
   "cell_type": "code",
   "id": "994498b4",
   "metadata": {
    "id": "994498b4",
    "outputId": "ae08f353-2c38-4424-e725-4f5841e4378c",
    "scrolled": false
   },
   "source": [
    "fig, axes = plt.subplots(27, figsize=(35, 200))\n",
    "\n",
    "fig.tight_layout(pad=18.0)\n",
    "fig.suptitle('Plotting for id features')\n",
    "idx = 0\n",
    "\n",
    "for i in range(27):\n",
    "    \n",
    "        if(idx==len(id_features)):\n",
    "            break\n",
    "        \n",
    "        f = id_features[idx]\n",
    "        idx+=1\n",
    "        \n",
    "        if(train_data[f].dtype == object):\n",
    "            sns.countplot(x=f,hue='isFraud', data=train_data, ax=axes[i])\n",
    "            axes[i].set_title(f+\" Count Plot\")\n",
    "            \n",
    "            if(len(train_data[f].unique())>10):\n",
    "                axes[i].set_xticklabels(axes[i].get_xticklabels(), rotation=90, ha='center')\n",
    "        \n",
    "        else:\n",
    "            sns.histplot(x=f,hue='isFraud', data=train_data, ax=axes[i], kde=True)\n",
    "            axes[i].set_title(f+\" Histogram\")"
   ],
   "outputs": [],
   "execution_count": null
  },
  {
   "cell_type": "markdown",
   "id": "b49b7741",
   "metadata": {},
   "source": [
    "__Observation(s):__\n",
    "\n",
    "1. Some of the id_features are self-explanatory while others are encoded.\n",
    "\n",
    "\n",
    "2. id_28 has values as \"Found\" and \"New\", this feature may correspond to the history of the transaction i.e. whether any transaction with the same details has been done before or this is the first time this transaction is happening.\n",
    "\n",
    "\n",
    "3. id_30 feature corresponds to the operating system being run on the device used for the transaction.\n",
    "\n",
    "\n",
    "4. id_31 corresponds to the browser being used for making the transaction.\n",
    "\n",
    "\n",
    "5. id_33 corresponds to the dimensions of the device being used for the transaction.\n",
    "<br><br>"
   ]
  },
  {
   "cell_type": "markdown",
   "id": "30ced5cb",
   "metadata": {
    "id": "30ced5cb"
   },
   "source": [
    "- #### Quantitative Features\n",
    "<br>"
   ]
  },
  {
   "cell_type": "code",
   "id": "b5b81259",
   "metadata": {
    "colab": {
     "base_uri": "https://localhost:8080/"
    },
    "executionInfo": {
     "elapsed": 339,
     "status": "ok",
     "timestamp": 1623066283486,
     "user": {
      "displayName": "Priyank Mishra",
      "photoUrl": "",
      "userId": "18008032652400229851"
     },
     "user_tz": -330
    },
    "id": "b5b81259",
    "outputId": "7ef4df75-4a3c-4956-b289-6f2642062c75",
    "scrolled": false
   },
   "source": [
    "# We have the followig Quantitative Features\n",
    "\n",
    "print(numf)"
   ],
   "outputs": [],
   "execution_count": null
  },
  {
   "cell_type": "markdown",
   "id": "c5704a13",
   "metadata": {
    "id": "c5704a13"
   },
   "source": [
    ">__TransactionDT__"
   ]
  },
  {
   "cell_type": "code",
   "id": "664de32e",
   "metadata": {
    "colab": {
     "base_uri": "https://localhost:8080/"
    },
    "id": "664de32e",
    "outputId": "f5ded013-e581-4061-a9dc-14cce08477a6"
   },
   "source": [
    "train_data[['TransactionDT']].describe().astype(int)"
   ],
   "outputs": [],
   "execution_count": null
  },
  {
   "cell_type": "markdown",
   "id": "c17f136b",
   "metadata": {
    "id": "LvmQw_IyMsho"
   },
   "source": [
    "__Observation(s):__ \n",
    "\n",
    "Following Inferences can be made from the above result,\n",
    "\n",
    "\n",
    "1. Transaction date does not look like a date but if we closely observe the minimum value of TransactionDT i.e. 86400 which is equal to 24\\*60\\*60 = 86400 i.e. 24 hours * 60 minutes * 60 seconds second. Hence, we can consider this TransactionDT column as the time in seconds. Now, once we know that this column is the time in seconds, we can use this column to create new time related features namely time in minutes and time in hours etc. \n",
    "\n",
    "\n",
    "2. Since we have the minimum value of this feature as 86400 which means the first transaction that took place had this time stamp and for every further transaction the time stamp is given relative to this minimum timestamp only. Hence, if we consider this as any day of week like sunday then all the transactions can also be assigned a day of week which will be another feature.\n",
    "\n",
    "\n",
    "3. In a similar manner we can assign month to each of the transactions.\n",
    "\n",
    "\n",
    "4. The maximum value of TransactionDT in train dataset is 15811131 which is approximately equal to 183 (15811131/(60\\*60\\*24)) which means the train data has a span of 6 months. \n",
    "<br><br>"
   ]
  },
  {
   "cell_type": "code",
   "id": "fbe82b3b",
   "metadata": {},
   "source": [
    "plt.figure(figsize=(10,5))\n",
    "plt.hist(x = 'TransactionDT', data = train_data, label='Train')\n",
    "plt.hist(x = 'TransactionDT', data = test_data, label='Test')\n",
    "plt.title(\"Train vs Test TransactionDT\")\n",
    "plt.xlabel(\"TransactionDT\")\n",
    "plt.ylabel(\"Count\")\n",
    "plt.legend()\n",
    "plt.show()"
   ],
   "outputs": [],
   "execution_count": null
  },
  {
   "cell_type": "markdown",
   "id": "1f115b38",
   "metadata": {},
   "source": [
    "__Observation(s):__ \n",
    "\n",
    "1. Train and Test Split has been done wrt time and there is a gap in terms of time between the train and test set. \n",
    "<br><br>"
   ]
  },
  {
   "cell_type": "markdown",
   "id": "2e36f5a4",
   "metadata": {
    "id": "2e36f5a4"
   },
   "source": [
    ">__TransactionAmt__"
   ]
  },
  {
   "cell_type": "code",
   "id": "bd269d7d",
   "metadata": {
    "colab": {
     "base_uri": "https://localhost:8080/"
    },
    "id": "bd269d7d",
    "outputId": "50578782-b84d-4343-88b1-a092a209cfa4"
   },
   "source": [
    "train_data[['TransactionAmt']].describe()"
   ],
   "outputs": [],
   "execution_count": null
  },
  {
   "cell_type": "code",
   "id": "fd01b9a7",
   "metadata": {
    "id": "fd01b9a7",
    "outputId": "d4b125af-131b-49c0-dfe4-04eea77c7730",
    "scrolled": true
   },
   "source": [
    "sns.histplot(x='TransactionAmt', hue='isFraud', data=train_data, kde=True)\n",
    "plt.title('\\nTransactionAmt Distribution Plot\\n')\n",
    "plt.show()"
   ],
   "outputs": [],
   "execution_count": null
  },
  {
   "cell_type": "code",
   "id": "fd94fa9a",
   "metadata": {
    "colab": {
     "base_uri": "https://localhost:8080/",
     "height": 324
    },
    "id": "fd94fa9a",
    "outputId": "c3776dd0-60fb-4664-c56a-e94c4e070171",
    "scrolled": false
   },
   "source": [
    "sns.boxplot(y='TransactionAmt', x='isFraud', data=train_data[train_data['TransactionAmt']<=np.percentile(train_data['TransactionAmt'], 95)])\n",
    "plt.title('\\nTransactionAmt Box Plot (upto 95th percentile)\\n')\n",
    "plt.show()"
   ],
   "outputs": [],
   "execution_count": null
  },
  {
   "cell_type": "markdown",
   "id": "b32f763f",
   "metadata": {
    "id": "_9msu-QBQbTn"
   },
   "source": [
    "__Observation(s):__ \n",
    "\n",
    "1. The fraudulent transactions semms to have higher average TransactionAmt than the average TransactionAmt of Non-Fraudulent transactions.\n",
    "<br><br>"
   ]
  },
  {
   "cell_type": "markdown",
   "id": "0cd4c949",
   "metadata": {
    "id": "0cd4c949"
   },
   "source": [
    "> __C_features__"
   ]
  },
  {
   "cell_type": "code",
   "id": "addcc4c7",
   "metadata": {
    "id": "addcc4c7"
   },
   "source": [
    "c_features = [\"C\"+str(i) for i in range(1,15) if \"C\"+str(i) in numf]"
   ],
   "outputs": [],
   "execution_count": null
  },
  {
   "cell_type": "code",
   "id": "20ce0c75",
   "metadata": {
    "id": "20ce0c75",
    "outputId": "7ba22c52-2467-4540-8af6-cfb3cd8c47a9",
    "scrolled": false
   },
   "source": [
    "for f in c_features:\n",
    "    print('\\n',\"*\"*10,f,\"*\"*10,'\\n')\n",
    "    print(train_data[f].describe())\n",
    "    len_unique_cat = len(np.unique(train_data[f]))\n",
    "    print(\"\\n{} feature has {} unique categories\\n\".format(f, len_unique_cat))"
   ],
   "outputs": [],
   "execution_count": null
  },
  {
   "cell_type": "code",
   "id": "54970137",
   "metadata": {
    "id": "54970137",
    "outputId": "b7e45dd6-f595-4a1f-edbf-5fa08a8b0e24",
    "scrolled": false
   },
   "source": [
    "fig, axes = plt.subplots(7, 2, figsize=(14, 30))\n",
    "\n",
    "fig.tight_layout(pad=6.0)\n",
    "fig.suptitle('Plotting for C_features', y=1)\n",
    "idx = 0\n",
    "\n",
    "for i in range(7):\n",
    "    for j in range(2):\n",
    "        \n",
    "        if(idx==len(c_features)):\n",
    "            break\n",
    "        \n",
    "        f = c_features[idx]\n",
    "        idx+=1\n",
    "\n",
    "        sns.histplot(x=f, hue='isFraud', data=train_data, ax=axes[i,j])\n",
    "        axes[i,j].set_title(f+\" Histogram\")"
   ],
   "outputs": [],
   "execution_count": null
  },
  {
   "cell_type": "code",
   "id": "eaac008b",
   "metadata": {
    "id": "eaac008b",
    "outputId": "9db2ad61-274e-4622-c1f6-db5c571198e9",
    "scrolled": false
   },
   "source": [
    "fig, axes = plt.subplots(7, 2, figsize=(14, 30))\n",
    "\n",
    "fig.suptitle('Plotting for C_features (upto 95th Percentile)')\n",
    "fig.tight_layout(pad=6.0)\n",
    "idx = 0\n",
    "\n",
    "for i in range(7):\n",
    "    for j in range(2):\n",
    "        \n",
    "        if(idx==len(c_features)):\n",
    "            break\n",
    "        \n",
    "        f = c_features[idx]\n",
    "        idx+=1\n",
    "\n",
    "        sns.violinplot(y=f, x='isFraud', data=train_data[train_data[f]<=np.percentile(train_data[f], 95)], ax=axes[i,j])\n",
    "        axes[i,j].set_title(f+\" Violin Plot\")"
   ],
   "outputs": [],
   "execution_count": null
  },
  {
   "cell_type": "code",
   "id": "hUBPYR4_wRHw",
   "metadata": {
    "id": "hUBPYR4_wRHw",
    "outputId": "b6eaf606-427a-468c-a475-d4fc540f19c7",
    "scrolled": false
   },
   "source": [
    "sns.pairplot(vars = c_features, hue = 'isFraud' , data = train_data, corner=True)\n",
    "plt.suptitle(\"\\nPair Plots of C_features\\n\")\n",
    "plt.show()"
   ],
   "outputs": [],
   "execution_count": null
  },
  {
   "cell_type": "markdown",
   "id": "7296e066",
   "metadata": {
    "id": "jvBSPkSx3lZH"
   },
   "source": [
    "__Observation(s):__ \n",
    "\n",
    "1. All these feature have integral values with equal intervals and majority of the values corresponding to the C_features are 0.\n",
    "\n",
    "\n",
    "2. The C features seems to be highly inter-correlated.\n",
    "<br><br>"
   ]
  },
  {
   "cell_type": "markdown",
   "id": "b25529bf",
   "metadata": {
    "id": "b25529bf"
   },
   "source": [
    "> __D_features__"
   ]
  },
  {
   "cell_type": "code",
   "id": "72d39fa4",
   "metadata": {
    "id": "72d39fa4"
   },
   "source": [
    "d_features = [\"D\"+str(i) for i in range(1,16) if \"D\"+str(i) in numf]"
   ],
   "outputs": [],
   "execution_count": null
  },
  {
   "cell_type": "code",
   "id": "356884f4",
   "metadata": {
    "id": "356884f4",
    "outputId": "83dd5e91-f5ef-4979-ebd9-d650ec06379b",
    "scrolled": false
   },
   "source": [
    "for f in d_features:\n",
    "    print('\\n',\"*\"*10,f,\"*\"*10,'\\n')\n",
    "    print(train_data[f].describe())\n",
    "    len_unique_cat = len(np.unique(train_data[f]))\n",
    "    print(\"\\n{} feature has {} unique categories\\n\".format(f, len_unique_cat))"
   ],
   "outputs": [],
   "execution_count": null
  },
  {
   "cell_type": "code",
   "id": "659ba57e",
   "metadata": {
    "id": "659ba57e",
    "outputId": "fa095aba-6fa7-4243-bee8-3682af08e5e2",
    "scrolled": false
   },
   "source": [
    "fig, axes = plt.subplots(8, 2, figsize=(14, 30))\n",
    "\n",
    "fig.tight_layout(pad=6.0)\n",
    "fig.suptitle('Plotting for D_features', y=1)\n",
    "idx = 0\n",
    "\n",
    "for i in range(8):\n",
    "    for j in range(2):\n",
    "        \n",
    "        if(idx==len(d_features)):\n",
    "            break\n",
    "        \n",
    "        f = d_features[idx]\n",
    "        idx+=1\n",
    "\n",
    "        sns.histplot(x=f,hue='isFraud', data=train_data, ax=axes[i,j], kde=True)\n",
    "        axes[i,j].set_title(f+\" Histogram\")"
   ],
   "outputs": [],
   "execution_count": null
  },
  {
   "cell_type": "code",
   "id": "f3934272",
   "metadata": {
    "id": "f3934272",
    "outputId": "7deaab1b-0975-44eb-8d35-7d0384d00c99",
    "scrolled": false
   },
   "source": [
    "fig, axes = plt.subplots(7, 2, figsize=(14, 30))\n",
    "\n",
    "fig.suptitle('Plotting for D_features')\n",
    "fig.tight_layout(pad=6.0)\n",
    "idx = 0\n",
    "\n",
    "for i in range(7):\n",
    "    for j in range(2):\n",
    "        \n",
    "        if(idx==len(d_features)):\n",
    "            break\n",
    "        \n",
    "        f = d_features[idx]\n",
    "        idx+=1\n",
    "\n",
    "        sns.violinplot(y=f, x='isFraud', data=train_data, ax=axes[i,j], kde=True)\n",
    "        axes[i,j].set_title(f+\" Violin Plot\")"
   ],
   "outputs": [],
   "execution_count": null
  },
  {
   "cell_type": "code",
   "id": "FlAFG8PFwRHy",
   "metadata": {
    "id": "FlAFG8PFwRHy",
    "outputId": "fb182876-9cef-45a5-d5a5-d01fbe205267",
    "scrolled": false
   },
   "source": [
    "sns.pairplot(vars = d_features, hue='isFraud', data = train_data, corner=True)\n",
    "plt.suptitle(\"\\nPair Plots of D_features\\n\")\n",
    "plt.show()"
   ],
   "outputs": [],
   "execution_count": null
  },
  {
   "cell_type": "markdown",
   "id": "72b40e4f",
   "metadata": {},
   "source": [
    "__Observation(s):__\n",
    "\n",
    "1. D_features correspond to the timedelta, such as days between previous transaction, etc.\n",
    "\n",
    "\n",
    "2. D_features does not seem to be intercorrelated except for some where there is a possibility of inter correlation.\n",
    "<br><br>"
   ]
  },
  {
   "cell_type": "markdown",
   "id": "c4a05875",
   "metadata": {
    "id": "c4a05875"
   },
   "source": [
    ">__id_01-id_11__"
   ]
  },
  {
   "cell_type": "code",
   "id": "cc00ce40",
   "metadata": {
    "id": "cc00ce40"
   },
   "source": [
    "id_num_features = ['id_01', 'id_02', 'id_03', 'id_04', 'id_05', 'id_06', 'id_07', 'id_08', 'id_09', 'id_10', 'id_11']"
   ],
   "outputs": [],
   "execution_count": null
  },
  {
   "cell_type": "code",
   "id": "eb2324fb",
   "metadata": {
    "id": "eb2324fb",
    "outputId": "f877a51c-2311-4b97-b618-f525a3865ef1",
    "scrolled": false
   },
   "source": [
    "for f in id_num_features:\n",
    "    print('\\n',\"*\"*10,f,\"*\"*10,'\\n')\n",
    "    print(train_data[f].describe())\n",
    "    len_unique_cat = len(np.unique(train_data[f]))\n",
    "    print(\"\\n{} feature has {} unique categories\\n\".format(f, len_unique_cat))"
   ],
   "outputs": [],
   "execution_count": null
  },
  {
   "cell_type": "code",
   "id": "4b79a2b1",
   "metadata": {
    "id": "4b79a2b1",
    "outputId": "06bfb5d1-bf5a-4e35-9a57-13e4ec9db6fc",
    "scrolled": false
   },
   "source": [
    "fig, axes = plt.subplots(6, 2, figsize=(14, 25))\n",
    "\n",
    "fig.tight_layout(pad=6.0)\n",
    "fig.suptitle('Plotting for Quantitative id features', y=1)\n",
    "idx = 0\n",
    "\n",
    "for i in range(6):\n",
    "    for j in range(2):\n",
    "        \n",
    "        if(idx==len(id_num_features)):\n",
    "            break\n",
    "        \n",
    "        f = id_num_features[idx]\n",
    "        idx+=1\n",
    "\n",
    "        sns.histplot(x=f,hue='isFraud', data=train_data, ax=axes[i,j], kde=True)\n",
    "        axes[i,j].set_title(f+\" Histogram\")"
   ],
   "outputs": [],
   "execution_count": null
  },
  {
   "cell_type": "code",
   "id": "ca87359e",
   "metadata": {
    "id": "ca87359e",
    "outputId": "e05b45ac-0447-41ce-af93-13d53e4e7fb4",
    "scrolled": false
   },
   "source": [
    "fig, axes = plt.subplots(6, 2, figsize=(14, 25))\n",
    "\n",
    "fig.suptitle('Plotting for Quantitative id features')\n",
    "fig.tight_layout(pad=6.0)\n",
    "idx = 0\n",
    "\n",
    "for i in range(6):\n",
    "    for j in range(2):\n",
    "        \n",
    "        if(idx==len(id_num_features)):\n",
    "            break\n",
    "        \n",
    "        f = id_num_features[idx]\n",
    "        idx+=1\n",
    "\n",
    "        sns.violinplot(y=f, x='isFraud', data=train_data, ax=axes[i,j], kde=True)\n",
    "        axes[i,j].set_title(f+\" Violin Plot\")"
   ],
   "outputs": [],
   "execution_count": null
  },
  {
   "cell_type": "code",
   "id": "_g9fFihtwRHz",
   "metadata": {
    "id": "_g9fFihtwRHz",
    "outputId": "f466e493-1e72-4896-bf0b-e2773d8a25ca",
    "scrolled": false
   },
   "source": [
    "sns.pairplot(vars = id_num_features, hue='isFraud', data = train_data, corner=True)\n",
    "plt.suptitle(\"\\nPair Plots of id_num_features\\n\")\n",
    "plt.show()"
   ],
   "outputs": [],
   "execution_count": null
  },
  {
   "cell_type": "markdown",
   "id": "cba16447",
   "metadata": {},
   "source": [
    "__Observation(s):__\n",
    "\n",
    "1. “id01 to id11 are numerical features for identity, which is collected by Vesta and security partners such as device rating, ip_domain rating, proxy rating, etc. Also it recorded behavioral fingerprint like account login times/failed to login times, how long an account stayed on the page, etc. All of these are not able to elaborate due to security partner T&C. \n",
    "\n",
    "\n",
    "2. Based on the scatter plots, the id_feature seems important in identifying the transaction status.\n",
    "<br><br>"
   ]
  },
  {
   "cell_type": "markdown",
   "id": "7302b3cb",
   "metadata": {
    "id": "7302b3cb"
   },
   "source": [
    "> __V_features__"
   ]
  },
  {
   "cell_type": "code",
   "id": "1413d4c1",
   "metadata": {
    "id": "1413d4c1"
   },
   "source": [
    "v_features = [\"V\"+str(i) for i in range(1,340) if \"V\"+str(i) in numf]"
   ],
   "outputs": [],
   "execution_count": null
  },
  {
   "cell_type": "code",
   "id": "44b1f27e",
   "metadata": {
    "id": "44b1f27e",
    "outputId": "67c8be91-cc9c-4e97-ed1f-de70b3a275a3",
    "scrolled": false
   },
   "source": [
    "for f in v_features:\n",
    "    print('\\n',\"*\"*10,f,\"*\"*10,'\\n')\n",
    "    print(train_data[f].describe())\n",
    "    len_unique_cat = len(np.unique(train_data[f]))\n",
    "    print(\"\\n{} feature has {} unique categories\\n\".format(f, len_unique_cat))"
   ],
   "outputs": [],
   "execution_count": null
  },
  {
   "cell_type": "code",
   "id": "b9d81a18",
   "metadata": {
    "id": "b9d81a18",
    "outputId": "98964da4-4ce7-4536-e26a-fd094cca98a0",
    "scrolled": false
   },
   "source": [
    "fig, axes = plt.subplots(113, 3, figsize=(14, 450))\n",
    "\n",
    "fig.suptitle('Plotting for V_features', y=1)\n",
    "fig.tight_layout(pad=6.0)\n",
    "idx = 0\n",
    "\n",
    "for i in range(113):\n",
    "    for j in range(3):\n",
    "        \n",
    "        if(idx==len(v_features)):\n",
    "            break\n",
    "        \n",
    "        f = v_features[idx]\n",
    "        idx+=1\n",
    "\n",
    "        sns.violinplot(y=f, x='isFraud', data=train_data, ax=axes[i,j])\n",
    "        axes[i,j].set_title(f+\" Violin Plot\")"
   ],
   "outputs": [],
   "execution_count": null
  },
  {
   "cell_type": "markdown",
   "id": "e8d4a432",
   "metadata": {},
   "source": [
    "__Observation(s):__\n",
    "\n",
    "1. Almost every V_feature has a value of 0 in majority of transactions.\n",
    "\n",
    "\n",
    "2. Based on the missing value and number of unique value analysis we can find multiple V_features to have the same number of missing values and the same number of unique values. This pattern is widely present in the V_features. \n",
    "\n",
    "\n",
    "3. In the first look these features does not look very important but we will see later on whether these are really useful or not.\n",
    "<br><br>"
   ]
  },
  {
   "cell_type": "markdown",
   "id": "cd9d8a21",
   "metadata": {},
   "source": [
    "#### - Bivariate Analysis\n",
    "<br>"
   ]
  },
  {
   "cell_type": "markdown",
   "id": "86b0a16f",
   "metadata": {
    "id": "W9PZi554M6MW"
   },
   "source": [
    ">__ProductCD vs TransactionAmt__"
   ]
  },
  {
   "cell_type": "code",
   "id": "96c5e561",
   "metadata": {
    "id": "9Sp3i0nSM6MW",
    "outputId": "c880e458-cda3-487b-c60b-a0d5a285c389"
   },
   "source": [
    "sns.boxplot(x='ProductCD', y='TransactionAmt', data=train_data[train_data['TransactionAmt']<=np.percentile(train_data['TransactionAmt'], 95)], hue='isFraud')\n",
    "plt.title('\\nProductCD vs TransactionAmt(upto 95th Percentile)\\n')\n",
    "plt.show()"
   ],
   "outputs": [],
   "execution_count": null
  },
  {
   "cell_type": "markdown",
   "id": "74dfae6f",
   "metadata": {
    "id": "fQeK9I_tM6MX"
   },
   "source": [
    "__Observation(s):__\n",
    "\n",
    "1. The amount spent in highest for ProductCD \"R\" and is lowest for ProductCD \"S\" and \"C\".\n",
    "\n",
    "\n",
    "2. For ProductCD \"W\", \"H\" and \"R\" if the TransactionAmt is high then that transaction is often a fraudulent transaction.\n",
    "<br><br>"
   ]
  },
  {
   "cell_type": "markdown",
   "id": "39419f4d",
   "metadata": {
    "id": "O_40EZsNM6MX"
   },
   "source": [
    ">__P_emaildomain vs TransactionAmt__"
   ]
  },
  {
   "cell_type": "code",
   "id": "04154bdd",
   "metadata": {
    "id": "BEXOXDb8M6MX",
    "outputId": "a1fc2f62-143b-4818-80c8-a715e2987388"
   },
   "source": [
    "plt.figure(figsize=(50,6))\n",
    "ax = sns.violinplot(x='P_emaildomain', y='TransactionAmt', data=train_data[train_data['TransactionAmt']<=np.percentile(train_data['TransactionAmt'], 95)], hue='isFraud', split=False)\n",
    "ax.set_xticklabels(ax.get_xticklabels(), rotation=90, ha='center')\n",
    "plt.title('\\nP_emaildomain vs TransactionAmt(upto 95th Percentile)\\n')\n",
    "plt.show()"
   ],
   "outputs": [],
   "execution_count": null
  },
  {
   "cell_type": "markdown",
   "id": "4c4d9df0",
   "metadata": {
    "id": "7Rh2TzEaM6MX"
   },
   "source": [
    "__Observation(s):__ \n",
    "\n",
    "1. Some Domains like \"verizon.net\", have a high average TransactionAmt as compared to the average TransactionAmt of other domains.\n",
    "\n",
    "\n",
    "2. Some Domains like \"yahoo.com\" have a high average TransactionAmt for Fraudulent Transactions when compared with the avearge Transaction Amt for Non-Fraudulent Transactions.\n",
    "\n",
    "\n",
    "3. Some Domains like \"optonline.net\" have a high average TransactionAmt for Non-Fraudulent Transactions when compared with the avearge Transaction Amt for Fraudulent Transactions.\n",
    "<br><br>"
   ]
  },
  {
   "cell_type": "markdown",
   "id": "684f47c5",
   "metadata": {},
   "source": [
    "> __TransactionDT vs TransctionAmt__"
   ]
  },
  {
   "cell_type": "code",
   "id": "24dd24ae",
   "metadata": {},
   "source": [
    "sns.scatterplot(x='TransactionDT', y='TransactionAmt', hue='isFraud', data = train_data)\n",
    "plt.title(\"\\nTransactionDT vs TransactionAmt\\n\")\n",
    "plt.show()"
   ],
   "outputs": [],
   "execution_count": null
  },
  {
   "cell_type": "markdown",
   "id": "457313f4",
   "metadata": {},
   "source": [
    "__Observation(s):__\n",
    "\n",
    "1. There seem to be some outliers in the TransactionAmt, we will be dealing with these outliers later on.\n",
    "<br><br>"
   ]
  },
  {
   "cell_type": "code",
   "id": "a43ef31d",
   "metadata": {},
   "source": [
    "# Removing Outlier from the TransactionAmt\n",
    "\n",
    "train_data = train_data[train_data['TransactionAmt']<30000]"
   ],
   "outputs": [],
   "execution_count": null
  },
  {
   "cell_type": "code",
   "id": "8896eec8",
   "metadata": {},
   "source": [
    "sns.scatterplot(x='TransactionDT', y='TransactionAmt', hue='isFraud', data = train_data)\n",
    "plt.title(\"\\nTransactionDT vs TransactionAmt(Outlier Removed)\\n\")\n",
    "plt.show()"
   ],
   "outputs": [],
   "execution_count": null
  },
  {
   "cell_type": "markdown",
   "id": "62f383ee",
   "metadata": {},
   "source": [
    "> __card1-card6 vs TransactionAmt__"
   ]
  },
  {
   "cell_type": "code",
   "id": "d1c34c83",
   "metadata": {},
   "source": [
    "sns.scatterplot(x='card1', y='TransactionAmt', hue='isFraud', data = train_data)\n",
    "plt.title(\"\\ncard1 vs TransactionAmt\\n\")\n",
    "plt.show()"
   ],
   "outputs": [],
   "execution_count": null
  },
  {
   "cell_type": "code",
   "id": "ac9e2a81",
   "metadata": {},
   "source": [
    "sns.scatterplot(x='card2', y='TransactionAmt', hue='isFraud', data = train_data)\n",
    "plt.title(\"\\ncard2 vs TransactionAmt\\n\")\n",
    "plt.show()"
   ],
   "outputs": [],
   "execution_count": null
  },
  {
   "cell_type": "code",
   "id": "869b587e",
   "metadata": {
    "scrolled": true
   },
   "source": [
    "sns.scatterplot(x='card3', y='TransactionAmt', hue='isFraud', data = train_data)\n",
    "plt.title(\"\\ncard3 vs TransactionAmt\\n\")\n",
    "plt.show()"
   ],
   "outputs": [],
   "execution_count": null
  },
  {
   "cell_type": "code",
   "id": "2ec9980e",
   "metadata": {},
   "source": [
    "sns.boxplot(x=train_data['card4'], y='TransactionAmt', hue='isFraud', data=train_data[train_data['TransactionAmt']<=np.percentile(train_data['TransactionAmt'], 95)])\n",
    "plt.title('\\ncard4 vs TransactionAmt(upto 95th Percentile)\\n')\n",
    "plt.show()"
   ],
   "outputs": [],
   "execution_count": null
  },
  {
   "cell_type": "markdown",
   "id": "d2b334e0",
   "metadata": {},
   "source": [
    "__Observation(s):__ \n",
    "\n",
    "1. The median TransactionAmt of fraudulent transactions is generally higher than the median TransactionAmt of Legit Transactions done using cards of the company discover or american express.\n",
    "<br><br>"
   ]
  },
  {
   "cell_type": "code",
   "id": "6571923d",
   "metadata": {},
   "source": [
    "sns.scatterplot(x='card5', y='TransactionAmt', hue='isFraud', data = train_data)\n",
    "plt.title(\"\\ncard5 vs TransactionAmt\\n\")\n",
    "plt.show()"
   ],
   "outputs": [],
   "execution_count": null
  },
  {
   "cell_type": "code",
   "id": "dca23600",
   "metadata": {
    "id": "iPiNpf-6M6Mg",
    "outputId": "0d6257b7-8453-4faf-9935-ba0bc9d67114",
    "scrolled": false
   },
   "source": [
    "sns.boxplot(x=train_data['card6'], y='TransactionAmt', hue='isFraud', data=train_data[train_data['TransactionAmt']<=np.percentile(train_data['TransactionAmt'], 95)])\n",
    "plt.title('\\ncard6 vs TransactionAmt(upto 95th Percentile)\\n')\n",
    "plt.show()"
   ],
   "outputs": [],
   "execution_count": null
  },
  {
   "cell_type": "markdown",
   "id": "c06ee71d",
   "metadata": {
    "id": "jNxev0AMM6Mg"
   },
   "source": [
    "__Observation(s):__ \n",
    "\n",
    "1. The TransactionAmt of fraudulent transactions is generally lower than the TransactionAmt of Legit Transactions done using credit card.\n",
    "\n",
    "\n",
    "2. Transactions with \"debit or credit\" or \"charge card\" label are hardly fraudulent.\n",
    "<br><br>"
   ]
  },
  {
   "cell_type": "markdown",
   "id": "37cebe44",
   "metadata": {},
   "source": [
    "> __addr1-addr2 vs TransactionAmt__"
   ]
  },
  {
   "cell_type": "code",
   "id": "58e0c913",
   "metadata": {
    "scrolled": true
   },
   "source": [
    "sns.scatterplot(x='addr1', y='TransactionAmt', hue='isFraud', data = train_data)\n",
    "plt.title(\"\\naddr1 vs TransactionAmt\\n\")\n",
    "plt.show()"
   ],
   "outputs": [],
   "execution_count": null
  },
  {
   "cell_type": "code",
   "id": "b6d95024",
   "metadata": {},
   "source": [
    "sns.scatterplot(x='addr2', y='TransactionAmt', hue='isFraud', data = train_data)\n",
    "plt.title(\"\\naddr2 vs TransactionAmt\\n\")\n",
    "plt.show()"
   ],
   "outputs": [],
   "execution_count": null
  },
  {
   "cell_type": "markdown",
   "id": "8773e183",
   "metadata": {},
   "source": [
    "> __dist1-dist2 vs TransactionAmt__"
   ]
  },
  {
   "cell_type": "code",
   "id": "2d3af5df",
   "metadata": {},
   "source": [
    "sns.scatterplot(x='dist1', y='TransactionAmt', hue='isFraud', data = train_data)\n",
    "plt.title(\"\\ndist1 vs TransactionAmt\\n\")\n",
    "plt.show()"
   ],
   "outputs": [],
   "execution_count": null
  },
  {
   "cell_type": "code",
   "id": "22e9c904",
   "metadata": {},
   "source": [
    "sns.scatterplot(x='dist2', y='TransactionAmt', hue='isFraud', data = train_data)\n",
    "plt.title(\"\\ndist2 vs TransactionAmt\\n\")\n",
    "plt.show()"
   ],
   "outputs": [],
   "execution_count": null
  },
  {
   "cell_type": "markdown",
   "id": "ae9ab17d",
   "metadata": {},
   "source": [
    "> __C1-C14 vs TransactionAmt__"
   ]
  },
  {
   "cell_type": "code",
   "id": "b871f1f9",
   "metadata": {},
   "source": [
    "sns.scatterplot(x='C1', y='TransactionAmt', hue='isFraud', data = train_data)\n",
    "plt.title(\"\\nC1 vs TransactionAmt\\n\")\n",
    "plt.show()"
   ],
   "outputs": [],
   "execution_count": null
  },
  {
   "cell_type": "code",
   "id": "b015f82d",
   "metadata": {},
   "source": [
    "sns.scatterplot(x='C2', y='TransactionAmt', hue='isFraud', data = train_data)\n",
    "plt.title(\"\\nC2 vs TransactionAmt\\n\")\n",
    "plt.show()"
   ],
   "outputs": [],
   "execution_count": null
  },
  {
   "cell_type": "code",
   "id": "3b42c157",
   "metadata": {},
   "source": [
    "sns.scatterplot(x='C3', y='TransactionAmt', hue='isFraud', data = train_data)\n",
    "plt.title(\"\\nC3 vs TransactionAmt\\n\")\n",
    "plt.show()"
   ],
   "outputs": [],
   "execution_count": null
  },
  {
   "cell_type": "code",
   "id": "6806be3a",
   "metadata": {},
   "source": [
    "sns.scatterplot(x='C4', y='TransactionAmt', hue='isFraud', data = train_data)\n",
    "plt.title(\"\\nC4 vs TransactionAmt\\n\")\n",
    "plt.show()"
   ],
   "outputs": [],
   "execution_count": null
  },
  {
   "cell_type": "code",
   "id": "3133adbe",
   "metadata": {},
   "source": [
    "sns.scatterplot(x='C5', y='TransactionAmt', hue='isFraud', data = train_data)\n",
    "plt.title(\"\\nC5 vs TransactionAmt\\n\")\n",
    "plt.show()"
   ],
   "outputs": [],
   "execution_count": null
  },
  {
   "cell_type": "code",
   "id": "863909e8",
   "metadata": {},
   "source": [
    "sns.scatterplot(x='C6', y='TransactionAmt', hue='isFraud', data = train_data)\n",
    "plt.title(\"\\nC6 vs TransactionAmt\\n\")\n",
    "plt.show()"
   ],
   "outputs": [],
   "execution_count": null
  },
  {
   "cell_type": "code",
   "id": "3de05068",
   "metadata": {},
   "source": [
    "sns.scatterplot(x='C7', y='TransactionAmt', hue='isFraud', data = train_data)\n",
    "plt.title(\"\\nC7 vs TransactionAmt\\n\")\n",
    "plt.show()"
   ],
   "outputs": [],
   "execution_count": null
  },
  {
   "cell_type": "code",
   "id": "ded6db35",
   "metadata": {},
   "source": [
    "sns.scatterplot(x='C8', y='TransactionAmt', hue='isFraud', data = train_data)\n",
    "plt.title(\"\\nC8 vs TransactionAmt\\n\")\n",
    "plt.show()"
   ],
   "outputs": [],
   "execution_count": null
  },
  {
   "cell_type": "code",
   "id": "fcc76b42",
   "metadata": {},
   "source": [
    "sns.scatterplot(x='C9', y='TransactionAmt', hue='isFraud', data = train_data)\n",
    "plt.title(\"\\nC9 vs TransactionAmt\\n\")\n",
    "plt.show()"
   ],
   "outputs": [],
   "execution_count": null
  },
  {
   "cell_type": "code",
   "id": "d841494c",
   "metadata": {},
   "source": [
    "sns.scatterplot(x='C10', y='TransactionAmt', hue='isFraud', data = train_data)\n",
    "plt.title(\"\\nC10 vs TransactionAmt\\n\")\n",
    "plt.show()"
   ],
   "outputs": [],
   "execution_count": null
  },
  {
   "cell_type": "code",
   "id": "34f997b6",
   "metadata": {},
   "source": [
    "sns.scatterplot(x='C11', y='TransactionAmt', hue='isFraud', data = train_data)\n",
    "plt.title(\"\\nC11 vs TransactionAmt\\n\")\n",
    "plt.show()"
   ],
   "outputs": [],
   "execution_count": null
  },
  {
   "cell_type": "code",
   "id": "da1aa015",
   "metadata": {},
   "source": [
    "sns.scatterplot(x='C12', y='TransactionAmt', hue='isFraud', data = train_data)\n",
    "plt.title(\"\\nC12 vs TransactionAmt\\n\")\n",
    "plt.show()"
   ],
   "outputs": [],
   "execution_count": null
  },
  {
   "cell_type": "code",
   "id": "744df8e6",
   "metadata": {},
   "source": [
    "sns.scatterplot(x='C13', y='TransactionAmt', hue='isFraud', data = train_data)\n",
    "plt.title(\"\\nC13 vs TransactionAmt\\n\")\n",
    "plt.show()"
   ],
   "outputs": [],
   "execution_count": null
  },
  {
   "cell_type": "code",
   "id": "352e5a07",
   "metadata": {},
   "source": [
    "sns.scatterplot(x='C14', y='TransactionAmt', hue='isFraud', data = train_data)\n",
    "plt.title(\"\\nC14 vs TransactionAmt\\n\")\n",
    "plt.show()"
   ],
   "outputs": [],
   "execution_count": null
  },
  {
   "cell_type": "markdown",
   "id": "df24b5e6",
   "metadata": {},
   "source": [
    "__Observation(s):__ \n",
    "\n",
    "1. C_features being correlated show very similar behavior with TransactionAmt as can be seen from various almost similar plots above. Correlated C_features have very similar plot against TransactionAmt. \n",
    "<br><br>"
   ]
  },
  {
   "cell_type": "markdown",
   "id": "5fba7710",
   "metadata": {},
   "source": [
    "> __D1-D15 vs TransactionAmt__"
   ]
  },
  {
   "cell_type": "code",
   "id": "677ab06d",
   "metadata": {
    "scrolled": true
   },
   "source": [
    "sns.scatterplot(x='D1', y='TransactionAmt', hue='isFraud', data = train_data)\n",
    "plt.title(\"\\nD1 vs TransactionAmt\\n\")\n",
    "plt.show()"
   ],
   "outputs": [],
   "execution_count": null
  },
  {
   "cell_type": "code",
   "id": "c9732e57",
   "metadata": {
    "scrolled": true
   },
   "source": [
    "sns.scatterplot(x='D2', y='TransactionAmt', hue='isFraud', data = train_data)\n",
    "plt.title(\"\\nD2 vs TransactionAmt\\n\")\n",
    "plt.show()"
   ],
   "outputs": [],
   "execution_count": null
  },
  {
   "cell_type": "code",
   "id": "253aedbb",
   "metadata": {
    "scrolled": true
   },
   "source": [
    "sns.scatterplot(x='D3', y='TransactionAmt', hue='isFraud', data = train_data)\n",
    "plt.title(\"\\nD3 vs TransactionAmt\\n\")\n",
    "plt.show()"
   ],
   "outputs": [],
   "execution_count": null
  },
  {
   "cell_type": "code",
   "id": "166f12e3",
   "metadata": {
    "scrolled": true
   },
   "source": [
    "sns.scatterplot(x='D4', y='TransactionAmt', hue='isFraud', data = train_data)\n",
    "plt.title(\"\\nD4 vs TransactionAmt\\n\")\n",
    "plt.show()"
   ],
   "outputs": [],
   "execution_count": null
  },
  {
   "cell_type": "code",
   "id": "b9d6b55b",
   "metadata": {
    "scrolled": true
   },
   "source": [
    "sns.scatterplot(x='D5', y='TransactionAmt', hue='isFraud', data = train_data)\n",
    "plt.title(\"\\nD5 vs TransactionAmt\\n\")\n",
    "plt.show()"
   ],
   "outputs": [],
   "execution_count": null
  },
  {
   "cell_type": "code",
   "id": "42b7fac9",
   "metadata": {
    "scrolled": true
   },
   "source": [
    "sns.scatterplot(x='D1', y='TransactionAmt', hue='isFraud', data = train_data)\n",
    "plt.title(\"\\nD1 vs TransactionAmt\\n\")\n",
    "plt.show()"
   ],
   "outputs": [],
   "execution_count": null
  },
  {
   "cell_type": "code",
   "id": "c6772385",
   "metadata": {
    "scrolled": true
   },
   "source": [
    "sns.scatterplot(x='D6', y='TransactionAmt', hue='isFraud', data = train_data)\n",
    "plt.title(\"\\nD6 vs TransactionAmt\\n\")\n",
    "plt.show()"
   ],
   "outputs": [],
   "execution_count": null
  },
  {
   "cell_type": "code",
   "id": "efc997c2",
   "metadata": {
    "scrolled": true
   },
   "source": [
    "sns.scatterplot(x='D7', y='TransactionAmt', hue='isFraud', data = train_data)\n",
    "plt.title(\"\\nD7 vs TransactionAmt\\n\")\n",
    "plt.show()"
   ],
   "outputs": [],
   "execution_count": null
  },
  {
   "cell_type": "code",
   "id": "e903a3ea",
   "metadata": {
    "scrolled": true
   },
   "source": [
    "sns.scatterplot(x='D8', y='TransactionAmt', hue='isFraud', data = train_data)\n",
    "plt.title(\"\\nD8 vs TransactionAmt\\n\")\n",
    "plt.show()"
   ],
   "outputs": [],
   "execution_count": null
  },
  {
   "cell_type": "code",
   "id": "22490ba1",
   "metadata": {
    "scrolled": true
   },
   "source": [
    "sns.scatterplot(x='D9', y='TransactionAmt', hue='isFraud', data = train_data)\n",
    "plt.title(\"\\nD9 vs TransactionAmt\\n\")\n",
    "plt.show()"
   ],
   "outputs": [],
   "execution_count": null
  },
  {
   "cell_type": "code",
   "id": "d8d8c592",
   "metadata": {
    "scrolled": true
   },
   "source": [
    "sns.scatterplot(x='D10', y='TransactionAmt', hue='isFraud', data = train_data)\n",
    "plt.title(\"\\nD10 vs TransactionAmt\\n\")\n",
    "plt.show()"
   ],
   "outputs": [],
   "execution_count": null
  },
  {
   "cell_type": "code",
   "id": "e1490fec",
   "metadata": {
    "scrolled": true
   },
   "source": [
    "sns.scatterplot(x='D11', y='TransactionAmt', hue='isFraud', data = train_data)\n",
    "plt.title(\"\\nD11 vs TransactionAmt\\n\")\n",
    "plt.show()"
   ],
   "outputs": [],
   "execution_count": null
  },
  {
   "cell_type": "code",
   "id": "867598ef",
   "metadata": {
    "scrolled": true
   },
   "source": [
    "sns.scatterplot(x='D12', y='TransactionAmt', hue='isFraud', data = train_data)\n",
    "plt.title(\"\\nD12 vs TransactionAmt\\n\")\n",
    "plt.show()"
   ],
   "outputs": [],
   "execution_count": null
  },
  {
   "cell_type": "code",
   "id": "5fec3682",
   "metadata": {
    "scrolled": true
   },
   "source": [
    "sns.scatterplot(x='D13', y='TransactionAmt', hue='isFraud', data = train_data)\n",
    "plt.title(\"\\nD13 vs TransactionAmt\\n\")\n",
    "plt.show()"
   ],
   "outputs": [],
   "execution_count": null
  },
  {
   "cell_type": "code",
   "id": "0a9c0d8e",
   "metadata": {
    "scrolled": true
   },
   "source": [
    "sns.scatterplot(x='D14', y='TransactionAmt', hue='isFraud', data = train_data)\n",
    "plt.title(\"\\nD14 vs TransactionAmt\\n\")\n",
    "plt.show()"
   ],
   "outputs": [],
   "execution_count": null
  },
  {
   "cell_type": "code",
   "id": "0490a355",
   "metadata": {
    "scrolled": true
   },
   "source": [
    "sns.scatterplot(x='D15', y='TransactionAmt', hue='isFraud', data = train_data)\n",
    "plt.title(\"\\nD15 vs TransactionAmt\\n\")\n",
    "plt.show()"
   ],
   "outputs": [],
   "execution_count": null
  },
  {
   "cell_type": "markdown",
   "id": "687a4217",
   "metadata": {},
   "source": [
    "<br><br>"
   ]
  },
  {
   "cell_type": "markdown",
   "id": "e45f67ee",
   "metadata": {},
   "source": [
    "# Summary"
   ]
  },
  {
   "cell_type": "markdown",
   "id": "21290120",
   "metadata": {},
   "source": [
    "- Dataset is highly imbalanced with 96.5% negative class labels and 3.5% positive class labels.\n",
    "\n",
    "\n",
    "- A large number of features have a significant amount of missing values.\n",
    "\n",
    "<br>\n",
    "\n",
    "\n",
    "> __Categorical Features__\n",
    "\n",
    "<br>\n",
    "\n",
    "- Majority of the transactions have ProductCD \"W\".\n",
    "\n",
    "\n",
    "- card1-card6 features correspond to the card features and seem important in predicting the transaction status.\n",
    "\n",
    "\n",
    "- Out of all the card features card1, card2, card3 and card5 features have numerical categories and the card4 and card6 are non-numeric features corresponding to the card company and card type respectively.\n",
    "\n",
    "\n",
    "- addr1 feature corresponds to the billing region and addr2 feature corresponds to the billing country and majority of the transactions have the same value for card2 since most of the transactions belong to the same country.\n",
    "\n",
    "\n",
    "- P_emaildomain and R_emaildomain features correspond to the Email Domain of the Purchaser and the Recipient respectively. Majority of the R_emaildomain values are missing since not every transaction needs a receipt from the recipient.\n",
    "\n",
    "\n",
    "- M1-M9 feature corresponds to the match features like whether the name on card matches etc. Majority of transactions have missing values corresponding to these features.\n",
    "\n",
    "\n",
    "- DeviceType feature corresponds to the device used for transactions namely mobile and desktop and in majority of the transactions, the DeviceType information is missing.\n",
    "\n",
    "\n",
    "- DeviceInfo feature corresponds to the Model Name and Number of the device.\n",
    "\n",
    "\n",
    "- id_12-id_38 features correspond to the identity of the Client, some of these features are self explanatory like id_30 feature corresponds to the OS Name and Version, id_31 feature corresponds to the browser name and version and id_33 feature corresponds to the device screen dimensions.\n",
    "\n",
    "<br>\n",
    "\n",
    "> __Quantitative Features__\n",
    "\n",
    "<br>\n",
    "\n",
    "- TransactionDT feature corresponds to the number of seconds elapsed from a reference time and the train and test dataset has been splitted based on time. The test dataset is the continuation after the train dataset and there is some time gap between both the datasets.\n",
    "\n",
    "\n",
    "- Fraudulent Transactions generally have higher median TransactionAmt than the median TransactionAmt of Non-Fraudulent Transactions.\n",
    "\n",
    "\n",
    "- C1-C14 have high inter correlation and most of these features have values of 0 in majority of the transactions.\n",
    "\n",
    "\n",
    "- D_features correspond to the timedelta, such as the number of days between the previous transaction, etc.\n",
    "\n",
    "\n",
    "- D_features does not seem to be intercorrelated except for some where there is a possibility of inter correlation.\n",
    "\n",
    "\n",
    "- id01-id11 features are Quantitative Identify Features and there is no inter-correlation amongst these features.\n",
    "\n",
    "\n",
    "- The largest number of features in the dataset are V_feature which are vesta engineered features and have a count of 339. Many of these features have the same number of missing values and also the same number of unique values, thus forming a group. Also, many of these features have high inter-correlation.\n",
    "<br><br>"
   ]
  },
  {
   "cell_type": "markdown",
   "id": "88298deb",
   "metadata": {},
   "source": [
    "<hr>\n",
    "<hr>\n",
    "<hr>"
   ]
  },
  {
   "metadata": {},
   "cell_type": "code",
   "source": "",
   "id": "179fec0c1bdc705",
   "outputs": [],
   "execution_count": null
  }
 ],
 "metadata": {
  "colab": {
   "collapsed_sections": [
    "c2501fb6",
    "696a21e3",
    "9af17293",
    "76a11f3b",
    "a13f7cce",
    "6069b888",
    "282117a2",
    "ee25bce6",
    "30ced5cb"
   ],
   "machine_shape": "hm",
   "name": "1.EDA.ipynb",
   "provenance": []
  },
  "language_info": {
   "codemirror_mode": {
    "name": "ipython",
    "version": 3
   },
   "file_extension": ".py",
   "mimetype": "text/x-python",
   "name": "python",
   "nbconvert_exporter": "python",
   "pygments_lexer": "ipython3",
   "version": "3.9.1"
  },
  "kernelspec": {
   "name": "python3",
   "language": "python",
   "display_name": "Python 3 (ipykernel)"
  }
 },
 "nbformat": 4,
 "nbformat_minor": 5
}
