{
 "cells": [
  {
   "cell_type": "code",
   "metadata": {
    "ExecuteTime": {
     "end_time": "2024-11-21T12:41:03.973765Z",
     "start_time": "2024-11-21T12:41:03.970563Z"
    }
   },
   "source": [
    "import pandas as pd\n",
    "import matplotlib.pyplot as plt\n",
    "import seaborn as sns\n",
    "import numpy as np\n",
    "\n",
    "sns.set_theme()"
   ],
   "outputs": [],
   "execution_count": 1
  },
  {
   "cell_type": "markdown",
   "metadata": {},
   "source": [
    "### Load training data"
   ]
  },
  {
   "cell_type": "code",
   "metadata": {
    "ExecuteTime": {
     "end_time": "2024-11-21T12:41:04.450017Z",
     "start_time": "2024-11-21T12:41:04.036801Z"
    }
   },
   "source": [
    "train_identity_df = pd.read_csv('./ieee-fraud-detection/train_identity.csv')\n",
    "\n",
    "train_identity_df.head()"
   ],
   "outputs": [
    {
     "data": {
      "text/plain": [
       "   TransactionID  id_01     id_02  id_03  id_04  id_05  id_06  id_07  id_08  \\\n",
       "0        2987004    0.0   70787.0    NaN    NaN    NaN    NaN    NaN    NaN   \n",
       "1        2987008   -5.0   98945.0    NaN    NaN    0.0   -5.0    NaN    NaN   \n",
       "2        2987010   -5.0  191631.0    0.0    0.0    0.0    0.0    NaN    NaN   \n",
       "3        2987011   -5.0  221832.0    NaN    NaN    0.0   -6.0    NaN    NaN   \n",
       "4        2987016    0.0    7460.0    0.0    0.0    1.0    0.0    NaN    NaN   \n",
       "\n",
       "   id_09  ...                id_31  id_32      id_33           id_34  id_35  \\\n",
       "0    NaN  ...  samsung browser 6.2   32.0  2220x1080  match_status:2      T   \n",
       "1    NaN  ...   mobile safari 11.0   32.0   1334x750  match_status:1      T   \n",
       "2    0.0  ...          chrome 62.0    NaN        NaN             NaN      F   \n",
       "3    NaN  ...          chrome 62.0    NaN        NaN             NaN      F   \n",
       "4    0.0  ...          chrome 62.0   24.0   1280x800  match_status:2      T   \n",
       "\n",
       "  id_36 id_37  id_38  DeviceType                     DeviceInfo  \n",
       "0     F     T      T      mobile  SAMSUNG SM-G892A Build/NRD90M  \n",
       "1     F     F      T      mobile                     iOS Device  \n",
       "2     F     T      T     desktop                        Windows  \n",
       "3     F     T      T     desktop                            NaN  \n",
       "4     F     T      T     desktop                          MacOS  \n",
       "\n",
       "[5 rows x 41 columns]"
      ],
      "text/html": [
       "<div>\n",
       "<style scoped>\n",
       "    .dataframe tbody tr th:only-of-type {\n",
       "        vertical-align: middle;\n",
       "    }\n",
       "\n",
       "    .dataframe tbody tr th {\n",
       "        vertical-align: top;\n",
       "    }\n",
       "\n",
       "    .dataframe thead th {\n",
       "        text-align: right;\n",
       "    }\n",
       "</style>\n",
       "<table border=\"1\" class=\"dataframe\">\n",
       "  <thead>\n",
       "    <tr style=\"text-align: right;\">\n",
       "      <th></th>\n",
       "      <th>TransactionID</th>\n",
       "      <th>id_01</th>\n",
       "      <th>id_02</th>\n",
       "      <th>id_03</th>\n",
       "      <th>id_04</th>\n",
       "      <th>id_05</th>\n",
       "      <th>id_06</th>\n",
       "      <th>id_07</th>\n",
       "      <th>id_08</th>\n",
       "      <th>id_09</th>\n",
       "      <th>...</th>\n",
       "      <th>id_31</th>\n",
       "      <th>id_32</th>\n",
       "      <th>id_33</th>\n",
       "      <th>id_34</th>\n",
       "      <th>id_35</th>\n",
       "      <th>id_36</th>\n",
       "      <th>id_37</th>\n",
       "      <th>id_38</th>\n",
       "      <th>DeviceType</th>\n",
       "      <th>DeviceInfo</th>\n",
       "    </tr>\n",
       "  </thead>\n",
       "  <tbody>\n",
       "    <tr>\n",
       "      <th>0</th>\n",
       "      <td>2987004</td>\n",
       "      <td>0.0</td>\n",
       "      <td>70787.0</td>\n",
       "      <td>NaN</td>\n",
       "      <td>NaN</td>\n",
       "      <td>NaN</td>\n",
       "      <td>NaN</td>\n",
       "      <td>NaN</td>\n",
       "      <td>NaN</td>\n",
       "      <td>NaN</td>\n",
       "      <td>...</td>\n",
       "      <td>samsung browser 6.2</td>\n",
       "      <td>32.0</td>\n",
       "      <td>2220x1080</td>\n",
       "      <td>match_status:2</td>\n",
       "      <td>T</td>\n",
       "      <td>F</td>\n",
       "      <td>T</td>\n",
       "      <td>T</td>\n",
       "      <td>mobile</td>\n",
       "      <td>SAMSUNG SM-G892A Build/NRD90M</td>\n",
       "    </tr>\n",
       "    <tr>\n",
       "      <th>1</th>\n",
       "      <td>2987008</td>\n",
       "      <td>-5.0</td>\n",
       "      <td>98945.0</td>\n",
       "      <td>NaN</td>\n",
       "      <td>NaN</td>\n",
       "      <td>0.0</td>\n",
       "      <td>-5.0</td>\n",
       "      <td>NaN</td>\n",
       "      <td>NaN</td>\n",
       "      <td>NaN</td>\n",
       "      <td>...</td>\n",
       "      <td>mobile safari 11.0</td>\n",
       "      <td>32.0</td>\n",
       "      <td>1334x750</td>\n",
       "      <td>match_status:1</td>\n",
       "      <td>T</td>\n",
       "      <td>F</td>\n",
       "      <td>F</td>\n",
       "      <td>T</td>\n",
       "      <td>mobile</td>\n",
       "      <td>iOS Device</td>\n",
       "    </tr>\n",
       "    <tr>\n",
       "      <th>2</th>\n",
       "      <td>2987010</td>\n",
       "      <td>-5.0</td>\n",
       "      <td>191631.0</td>\n",
       "      <td>0.0</td>\n",
       "      <td>0.0</td>\n",
       "      <td>0.0</td>\n",
       "      <td>0.0</td>\n",
       "      <td>NaN</td>\n",
       "      <td>NaN</td>\n",
       "      <td>0.0</td>\n",
       "      <td>...</td>\n",
       "      <td>chrome 62.0</td>\n",
       "      <td>NaN</td>\n",
       "      <td>NaN</td>\n",
       "      <td>NaN</td>\n",
       "      <td>F</td>\n",
       "      <td>F</td>\n",
       "      <td>T</td>\n",
       "      <td>T</td>\n",
       "      <td>desktop</td>\n",
       "      <td>Windows</td>\n",
       "    </tr>\n",
       "    <tr>\n",
       "      <th>3</th>\n",
       "      <td>2987011</td>\n",
       "      <td>-5.0</td>\n",
       "      <td>221832.0</td>\n",
       "      <td>NaN</td>\n",
       "      <td>NaN</td>\n",
       "      <td>0.0</td>\n",
       "      <td>-6.0</td>\n",
       "      <td>NaN</td>\n",
       "      <td>NaN</td>\n",
       "      <td>NaN</td>\n",
       "      <td>...</td>\n",
       "      <td>chrome 62.0</td>\n",
       "      <td>NaN</td>\n",
       "      <td>NaN</td>\n",
       "      <td>NaN</td>\n",
       "      <td>F</td>\n",
       "      <td>F</td>\n",
       "      <td>T</td>\n",
       "      <td>T</td>\n",
       "      <td>desktop</td>\n",
       "      <td>NaN</td>\n",
       "    </tr>\n",
       "    <tr>\n",
       "      <th>4</th>\n",
       "      <td>2987016</td>\n",
       "      <td>0.0</td>\n",
       "      <td>7460.0</td>\n",
       "      <td>0.0</td>\n",
       "      <td>0.0</td>\n",
       "      <td>1.0</td>\n",
       "      <td>0.0</td>\n",
       "      <td>NaN</td>\n",
       "      <td>NaN</td>\n",
       "      <td>0.0</td>\n",
       "      <td>...</td>\n",
       "      <td>chrome 62.0</td>\n",
       "      <td>24.0</td>\n",
       "      <td>1280x800</td>\n",
       "      <td>match_status:2</td>\n",
       "      <td>T</td>\n",
       "      <td>F</td>\n",
       "      <td>T</td>\n",
       "      <td>T</td>\n",
       "      <td>desktop</td>\n",
       "      <td>MacOS</td>\n",
       "    </tr>\n",
       "  </tbody>\n",
       "</table>\n",
       "<p>5 rows × 41 columns</p>\n",
       "</div>"
      ]
     },
     "execution_count": 2,
     "metadata": {},
     "output_type": "execute_result"
    }
   ],
   "execution_count": 2
  },
  {
   "cell_type": "code",
   "metadata": {
    "ExecuteTime": {
     "end_time": "2024-11-21T12:41:17.892900Z",
     "start_time": "2024-11-21T12:41:04.617820Z"
    }
   },
   "source": [
    "train_transaction_df = pd.read_csv('./ieee-fraud-detection/train_transaction.csv')\n",
    "\n",
    "train_transaction_df.head()"
   ],
   "outputs": [
    {
     "data": {
      "text/plain": [
       "   TransactionID  isFraud  TransactionDT  TransactionAmt ProductCD  card1  \\\n",
       "0        2987000        0          86400            68.5         W  13926   \n",
       "1        2987001        0          86401            29.0         W   2755   \n",
       "2        2987002        0          86469            59.0         W   4663   \n",
       "3        2987003        0          86499            50.0         W  18132   \n",
       "4        2987004        0          86506            50.0         H   4497   \n",
       "\n",
       "   card2  card3       card4  card5  ... V330  V331  V332  V333  V334 V335  \\\n",
       "0    NaN  150.0    discover  142.0  ...  NaN   NaN   NaN   NaN   NaN  NaN   \n",
       "1  404.0  150.0  mastercard  102.0  ...  NaN   NaN   NaN   NaN   NaN  NaN   \n",
       "2  490.0  150.0        visa  166.0  ...  NaN   NaN   NaN   NaN   NaN  NaN   \n",
       "3  567.0  150.0  mastercard  117.0  ...  NaN   NaN   NaN   NaN   NaN  NaN   \n",
       "4  514.0  150.0  mastercard  102.0  ...  0.0   0.0   0.0   0.0   0.0  0.0   \n",
       "\n",
       "  V336  V337  V338  V339  \n",
       "0  NaN   NaN   NaN   NaN  \n",
       "1  NaN   NaN   NaN   NaN  \n",
       "2  NaN   NaN   NaN   NaN  \n",
       "3  NaN   NaN   NaN   NaN  \n",
       "4  0.0   0.0   0.0   0.0  \n",
       "\n",
       "[5 rows x 394 columns]"
      ],
      "text/html": [
       "<div>\n",
       "<style scoped>\n",
       "    .dataframe tbody tr th:only-of-type {\n",
       "        vertical-align: middle;\n",
       "    }\n",
       "\n",
       "    .dataframe tbody tr th {\n",
       "        vertical-align: top;\n",
       "    }\n",
       "\n",
       "    .dataframe thead th {\n",
       "        text-align: right;\n",
       "    }\n",
       "</style>\n",
       "<table border=\"1\" class=\"dataframe\">\n",
       "  <thead>\n",
       "    <tr style=\"text-align: right;\">\n",
       "      <th></th>\n",
       "      <th>TransactionID</th>\n",
       "      <th>isFraud</th>\n",
       "      <th>TransactionDT</th>\n",
       "      <th>TransactionAmt</th>\n",
       "      <th>ProductCD</th>\n",
       "      <th>card1</th>\n",
       "      <th>card2</th>\n",
       "      <th>card3</th>\n",
       "      <th>card4</th>\n",
       "      <th>card5</th>\n",
       "      <th>...</th>\n",
       "      <th>V330</th>\n",
       "      <th>V331</th>\n",
       "      <th>V332</th>\n",
       "      <th>V333</th>\n",
       "      <th>V334</th>\n",
       "      <th>V335</th>\n",
       "      <th>V336</th>\n",
       "      <th>V337</th>\n",
       "      <th>V338</th>\n",
       "      <th>V339</th>\n",
       "    </tr>\n",
       "  </thead>\n",
       "  <tbody>\n",
       "    <tr>\n",
       "      <th>0</th>\n",
       "      <td>2987000</td>\n",
       "      <td>0</td>\n",
       "      <td>86400</td>\n",
       "      <td>68.5</td>\n",
       "      <td>W</td>\n",
       "      <td>13926</td>\n",
       "      <td>NaN</td>\n",
       "      <td>150.0</td>\n",
       "      <td>discover</td>\n",
       "      <td>142.0</td>\n",
       "      <td>...</td>\n",
       "      <td>NaN</td>\n",
       "      <td>NaN</td>\n",
       "      <td>NaN</td>\n",
       "      <td>NaN</td>\n",
       "      <td>NaN</td>\n",
       "      <td>NaN</td>\n",
       "      <td>NaN</td>\n",
       "      <td>NaN</td>\n",
       "      <td>NaN</td>\n",
       "      <td>NaN</td>\n",
       "    </tr>\n",
       "    <tr>\n",
       "      <th>1</th>\n",
       "      <td>2987001</td>\n",
       "      <td>0</td>\n",
       "      <td>86401</td>\n",
       "      <td>29.0</td>\n",
       "      <td>W</td>\n",
       "      <td>2755</td>\n",
       "      <td>404.0</td>\n",
       "      <td>150.0</td>\n",
       "      <td>mastercard</td>\n",
       "      <td>102.0</td>\n",
       "      <td>...</td>\n",
       "      <td>NaN</td>\n",
       "      <td>NaN</td>\n",
       "      <td>NaN</td>\n",
       "      <td>NaN</td>\n",
       "      <td>NaN</td>\n",
       "      <td>NaN</td>\n",
       "      <td>NaN</td>\n",
       "      <td>NaN</td>\n",
       "      <td>NaN</td>\n",
       "      <td>NaN</td>\n",
       "    </tr>\n",
       "    <tr>\n",
       "      <th>2</th>\n",
       "      <td>2987002</td>\n",
       "      <td>0</td>\n",
       "      <td>86469</td>\n",
       "      <td>59.0</td>\n",
       "      <td>W</td>\n",
       "      <td>4663</td>\n",
       "      <td>490.0</td>\n",
       "      <td>150.0</td>\n",
       "      <td>visa</td>\n",
       "      <td>166.0</td>\n",
       "      <td>...</td>\n",
       "      <td>NaN</td>\n",
       "      <td>NaN</td>\n",
       "      <td>NaN</td>\n",
       "      <td>NaN</td>\n",
       "      <td>NaN</td>\n",
       "      <td>NaN</td>\n",
       "      <td>NaN</td>\n",
       "      <td>NaN</td>\n",
       "      <td>NaN</td>\n",
       "      <td>NaN</td>\n",
       "    </tr>\n",
       "    <tr>\n",
       "      <th>3</th>\n",
       "      <td>2987003</td>\n",
       "      <td>0</td>\n",
       "      <td>86499</td>\n",
       "      <td>50.0</td>\n",
       "      <td>W</td>\n",
       "      <td>18132</td>\n",
       "      <td>567.0</td>\n",
       "      <td>150.0</td>\n",
       "      <td>mastercard</td>\n",
       "      <td>117.0</td>\n",
       "      <td>...</td>\n",
       "      <td>NaN</td>\n",
       "      <td>NaN</td>\n",
       "      <td>NaN</td>\n",
       "      <td>NaN</td>\n",
       "      <td>NaN</td>\n",
       "      <td>NaN</td>\n",
       "      <td>NaN</td>\n",
       "      <td>NaN</td>\n",
       "      <td>NaN</td>\n",
       "      <td>NaN</td>\n",
       "    </tr>\n",
       "    <tr>\n",
       "      <th>4</th>\n",
       "      <td>2987004</td>\n",
       "      <td>0</td>\n",
       "      <td>86506</td>\n",
       "      <td>50.0</td>\n",
       "      <td>H</td>\n",
       "      <td>4497</td>\n",
       "      <td>514.0</td>\n",
       "      <td>150.0</td>\n",
       "      <td>mastercard</td>\n",
       "      <td>102.0</td>\n",
       "      <td>...</td>\n",
       "      <td>0.0</td>\n",
       "      <td>0.0</td>\n",
       "      <td>0.0</td>\n",
       "      <td>0.0</td>\n",
       "      <td>0.0</td>\n",
       "      <td>0.0</td>\n",
       "      <td>0.0</td>\n",
       "      <td>0.0</td>\n",
       "      <td>0.0</td>\n",
       "      <td>0.0</td>\n",
       "    </tr>\n",
       "  </tbody>\n",
       "</table>\n",
       "<p>5 rows × 394 columns</p>\n",
       "</div>"
      ]
     },
     "execution_count": 3,
     "metadata": {},
     "output_type": "execute_result"
    }
   ],
   "execution_count": 3
  },
  {
   "cell_type": "code",
   "metadata": {
    "ExecuteTime": {
     "end_time": "2024-11-21T12:41:17.937777Z",
     "start_time": "2024-11-21T12:41:17.934863Z"
    }
   },
   "source": [
    "print(f'{train_identity_df.shape = }')\n",
    "print(f'{train_transaction_df.shape = }')"
   ],
   "outputs": [
    {
     "name": "stdout",
     "output_type": "stream",
     "text": [
      "train_identity_df.shape = (144233, 41)\n",
      "train_transaction_df.shape = (590540, 394)\n"
     ]
    }
   ],
   "execution_count": 4
  },
  {
   "cell_type": "code",
   "metadata": {
    "ExecuteTime": {
     "end_time": "2024-11-21T12:41:18.105091Z",
     "start_time": "2024-11-21T12:41:18.048824Z"
    }
   },
   "source": [
    "len(set(train_identity_df['TransactionID']) - set(train_transaction_df['TransactionID']))"
   ],
   "outputs": [
    {
     "data": {
      "text/plain": [
       "0"
      ]
     },
     "execution_count": 5,
     "metadata": {},
     "output_type": "execute_result"
    }
   ],
   "execution_count": 5
  },
  {
   "cell_type": "code",
   "metadata": {
    "ExecuteTime": {
     "end_time": "2024-11-21T12:41:18.306415Z",
     "start_time": "2024-11-21T12:41:18.243689Z"
    }
   },
   "source": [
    "len(set(train_transaction_df['TransactionID']) - set(train_identity_df['TransactionID']))"
   ],
   "outputs": [
    {
     "data": {
      "text/plain": [
       "446307"
      ]
     },
     "execution_count": 6,
     "metadata": {},
     "output_type": "execute_result"
    }
   ],
   "execution_count": 6
  },
  {
   "cell_type": "markdown",
   "metadata": {},
   "source": [
    "### Load test data"
   ]
  },
  {
   "cell_type": "code",
   "metadata": {
    "ExecuteTime": {
     "end_time": "2024-11-21T12:41:18.838605Z",
     "start_time": "2024-11-21T12:41:18.457070Z"
    }
   },
   "source": [
    "test_identity_df = pd.read_csv('./ieee-fraud-detection/test_identity.csv')\n",
    "\n",
    "test_identity_df.head()"
   ],
   "outputs": [
    {
     "data": {
      "text/plain": [
       "   TransactionID  id-01     id-02  id-03  id-04  id-05  id-06  id-07  id-08  \\\n",
       "0        3663586  -45.0  280290.0    NaN    NaN    0.0    0.0    NaN    NaN   \n",
       "1        3663588    0.0    3579.0    0.0    0.0    0.0    0.0    NaN    NaN   \n",
       "2        3663597   -5.0  185210.0    NaN    NaN    1.0    0.0    NaN    NaN   \n",
       "3        3663601  -45.0  252944.0    0.0    0.0    0.0    0.0    NaN    NaN   \n",
       "4        3663602  -95.0  328680.0    NaN    NaN    7.0  -33.0    NaN    NaN   \n",
       "\n",
       "   id-09  ...                    id-31  id-32     id-33           id-34  \\\n",
       "0    NaN  ...  chrome 67.0 for android    NaN       NaN             NaN   \n",
       "1    0.0  ...  chrome 67.0 for android   24.0  1280x720  match_status:2   \n",
       "2    NaN  ...       ie 11.0 for tablet    NaN       NaN             NaN   \n",
       "3    0.0  ...  chrome 67.0 for android    NaN       NaN             NaN   \n",
       "4    NaN  ...  chrome 67.0 for android    NaN       NaN             NaN   \n",
       "\n",
       "   id-35 id-36 id-37  id-38  DeviceType                   DeviceInfo  \n",
       "0      F     F     T      F      mobile  MYA-L13 Build/HUAWEIMYA-L13  \n",
       "1      T     F     T      T      mobile         LGLS676 Build/MXB48T  \n",
       "2      F     T     T      F     desktop                  Trident/7.0  \n",
       "3      F     F     T      F      mobile  MYA-L13 Build/HUAWEIMYA-L13  \n",
       "4      F     F     T      F      mobile         SM-G9650 Build/R16NW  \n",
       "\n",
       "[5 rows x 41 columns]"
      ],
      "text/html": [
       "<div>\n",
       "<style scoped>\n",
       "    .dataframe tbody tr th:only-of-type {\n",
       "        vertical-align: middle;\n",
       "    }\n",
       "\n",
       "    .dataframe tbody tr th {\n",
       "        vertical-align: top;\n",
       "    }\n",
       "\n",
       "    .dataframe thead th {\n",
       "        text-align: right;\n",
       "    }\n",
       "</style>\n",
       "<table border=\"1\" class=\"dataframe\">\n",
       "  <thead>\n",
       "    <tr style=\"text-align: right;\">\n",
       "      <th></th>\n",
       "      <th>TransactionID</th>\n",
       "      <th>id-01</th>\n",
       "      <th>id-02</th>\n",
       "      <th>id-03</th>\n",
       "      <th>id-04</th>\n",
       "      <th>id-05</th>\n",
       "      <th>id-06</th>\n",
       "      <th>id-07</th>\n",
       "      <th>id-08</th>\n",
       "      <th>id-09</th>\n",
       "      <th>...</th>\n",
       "      <th>id-31</th>\n",
       "      <th>id-32</th>\n",
       "      <th>id-33</th>\n",
       "      <th>id-34</th>\n",
       "      <th>id-35</th>\n",
       "      <th>id-36</th>\n",
       "      <th>id-37</th>\n",
       "      <th>id-38</th>\n",
       "      <th>DeviceType</th>\n",
       "      <th>DeviceInfo</th>\n",
       "    </tr>\n",
       "  </thead>\n",
       "  <tbody>\n",
       "    <tr>\n",
       "      <th>0</th>\n",
       "      <td>3663586</td>\n",
       "      <td>-45.0</td>\n",
       "      <td>280290.0</td>\n",
       "      <td>NaN</td>\n",
       "      <td>NaN</td>\n",
       "      <td>0.0</td>\n",
       "      <td>0.0</td>\n",
       "      <td>NaN</td>\n",
       "      <td>NaN</td>\n",
       "      <td>NaN</td>\n",
       "      <td>...</td>\n",
       "      <td>chrome 67.0 for android</td>\n",
       "      <td>NaN</td>\n",
       "      <td>NaN</td>\n",
       "      <td>NaN</td>\n",
       "      <td>F</td>\n",
       "      <td>F</td>\n",
       "      <td>T</td>\n",
       "      <td>F</td>\n",
       "      <td>mobile</td>\n",
       "      <td>MYA-L13 Build/HUAWEIMYA-L13</td>\n",
       "    </tr>\n",
       "    <tr>\n",
       "      <th>1</th>\n",
       "      <td>3663588</td>\n",
       "      <td>0.0</td>\n",
       "      <td>3579.0</td>\n",
       "      <td>0.0</td>\n",
       "      <td>0.0</td>\n",
       "      <td>0.0</td>\n",
       "      <td>0.0</td>\n",
       "      <td>NaN</td>\n",
       "      <td>NaN</td>\n",
       "      <td>0.0</td>\n",
       "      <td>...</td>\n",
       "      <td>chrome 67.0 for android</td>\n",
       "      <td>24.0</td>\n",
       "      <td>1280x720</td>\n",
       "      <td>match_status:2</td>\n",
       "      <td>T</td>\n",
       "      <td>F</td>\n",
       "      <td>T</td>\n",
       "      <td>T</td>\n",
       "      <td>mobile</td>\n",
       "      <td>LGLS676 Build/MXB48T</td>\n",
       "    </tr>\n",
       "    <tr>\n",
       "      <th>2</th>\n",
       "      <td>3663597</td>\n",
       "      <td>-5.0</td>\n",
       "      <td>185210.0</td>\n",
       "      <td>NaN</td>\n",
       "      <td>NaN</td>\n",
       "      <td>1.0</td>\n",
       "      <td>0.0</td>\n",
       "      <td>NaN</td>\n",
       "      <td>NaN</td>\n",
       "      <td>NaN</td>\n",
       "      <td>...</td>\n",
       "      <td>ie 11.0 for tablet</td>\n",
       "      <td>NaN</td>\n",
       "      <td>NaN</td>\n",
       "      <td>NaN</td>\n",
       "      <td>F</td>\n",
       "      <td>T</td>\n",
       "      <td>T</td>\n",
       "      <td>F</td>\n",
       "      <td>desktop</td>\n",
       "      <td>Trident/7.0</td>\n",
       "    </tr>\n",
       "    <tr>\n",
       "      <th>3</th>\n",
       "      <td>3663601</td>\n",
       "      <td>-45.0</td>\n",
       "      <td>252944.0</td>\n",
       "      <td>0.0</td>\n",
       "      <td>0.0</td>\n",
       "      <td>0.0</td>\n",
       "      <td>0.0</td>\n",
       "      <td>NaN</td>\n",
       "      <td>NaN</td>\n",
       "      <td>0.0</td>\n",
       "      <td>...</td>\n",
       "      <td>chrome 67.0 for android</td>\n",
       "      <td>NaN</td>\n",
       "      <td>NaN</td>\n",
       "      <td>NaN</td>\n",
       "      <td>F</td>\n",
       "      <td>F</td>\n",
       "      <td>T</td>\n",
       "      <td>F</td>\n",
       "      <td>mobile</td>\n",
       "      <td>MYA-L13 Build/HUAWEIMYA-L13</td>\n",
       "    </tr>\n",
       "    <tr>\n",
       "      <th>4</th>\n",
       "      <td>3663602</td>\n",
       "      <td>-95.0</td>\n",
       "      <td>328680.0</td>\n",
       "      <td>NaN</td>\n",
       "      <td>NaN</td>\n",
       "      <td>7.0</td>\n",
       "      <td>-33.0</td>\n",
       "      <td>NaN</td>\n",
       "      <td>NaN</td>\n",
       "      <td>NaN</td>\n",
       "      <td>...</td>\n",
       "      <td>chrome 67.0 for android</td>\n",
       "      <td>NaN</td>\n",
       "      <td>NaN</td>\n",
       "      <td>NaN</td>\n",
       "      <td>F</td>\n",
       "      <td>F</td>\n",
       "      <td>T</td>\n",
       "      <td>F</td>\n",
       "      <td>mobile</td>\n",
       "      <td>SM-G9650 Build/R16NW</td>\n",
       "    </tr>\n",
       "  </tbody>\n",
       "</table>\n",
       "<p>5 rows × 41 columns</p>\n",
       "</div>"
      ]
     },
     "execution_count": 7,
     "metadata": {},
     "output_type": "execute_result"
    }
   ],
   "execution_count": 7
  },
  {
   "cell_type": "code",
   "metadata": {
    "ExecuteTime": {
     "end_time": "2024-11-21T12:41:29.892796Z",
     "start_time": "2024-11-21T12:41:18.873592Z"
    }
   },
   "source": [
    "test_transaction_df = pd.read_csv('./ieee-fraud-detection/test_transaction.csv')\n",
    "\n",
    "test_transaction_df.head()"
   ],
   "outputs": [
    {
     "data": {
      "text/plain": [
       "   TransactionID  TransactionDT  TransactionAmt ProductCD  card1  card2  \\\n",
       "0        3663549       18403224           31.95         W  10409  111.0   \n",
       "1        3663550       18403263           49.00         W   4272  111.0   \n",
       "2        3663551       18403310          171.00         W   4476  574.0   \n",
       "3        3663552       18403310          284.95         W  10989  360.0   \n",
       "4        3663553       18403317           67.95         W  18018  452.0   \n",
       "\n",
       "   card3       card4  card5  card6  ...  V330  V331  V332  V333 V334 V335  \\\n",
       "0  150.0        visa  226.0  debit  ...   NaN   NaN   NaN   NaN  NaN  NaN   \n",
       "1  150.0        visa  226.0  debit  ...   NaN   NaN   NaN   NaN  NaN  NaN   \n",
       "2  150.0        visa  226.0  debit  ...   NaN   NaN   NaN   NaN  NaN  NaN   \n",
       "3  150.0        visa  166.0  debit  ...   NaN   NaN   NaN   NaN  NaN  NaN   \n",
       "4  150.0  mastercard  117.0  debit  ...   NaN   NaN   NaN   NaN  NaN  NaN   \n",
       "\n",
       "   V336  V337  V338  V339  \n",
       "0   NaN   NaN   NaN   NaN  \n",
       "1   NaN   NaN   NaN   NaN  \n",
       "2   NaN   NaN   NaN   NaN  \n",
       "3   NaN   NaN   NaN   NaN  \n",
       "4   NaN   NaN   NaN   NaN  \n",
       "\n",
       "[5 rows x 393 columns]"
      ],
      "text/html": [
       "<div>\n",
       "<style scoped>\n",
       "    .dataframe tbody tr th:only-of-type {\n",
       "        vertical-align: middle;\n",
       "    }\n",
       "\n",
       "    .dataframe tbody tr th {\n",
       "        vertical-align: top;\n",
       "    }\n",
       "\n",
       "    .dataframe thead th {\n",
       "        text-align: right;\n",
       "    }\n",
       "</style>\n",
       "<table border=\"1\" class=\"dataframe\">\n",
       "  <thead>\n",
       "    <tr style=\"text-align: right;\">\n",
       "      <th></th>\n",
       "      <th>TransactionID</th>\n",
       "      <th>TransactionDT</th>\n",
       "      <th>TransactionAmt</th>\n",
       "      <th>ProductCD</th>\n",
       "      <th>card1</th>\n",
       "      <th>card2</th>\n",
       "      <th>card3</th>\n",
       "      <th>card4</th>\n",
       "      <th>card5</th>\n",
       "      <th>card6</th>\n",
       "      <th>...</th>\n",
       "      <th>V330</th>\n",
       "      <th>V331</th>\n",
       "      <th>V332</th>\n",
       "      <th>V333</th>\n",
       "      <th>V334</th>\n",
       "      <th>V335</th>\n",
       "      <th>V336</th>\n",
       "      <th>V337</th>\n",
       "      <th>V338</th>\n",
       "      <th>V339</th>\n",
       "    </tr>\n",
       "  </thead>\n",
       "  <tbody>\n",
       "    <tr>\n",
       "      <th>0</th>\n",
       "      <td>3663549</td>\n",
       "      <td>18403224</td>\n",
       "      <td>31.95</td>\n",
       "      <td>W</td>\n",
       "      <td>10409</td>\n",
       "      <td>111.0</td>\n",
       "      <td>150.0</td>\n",
       "      <td>visa</td>\n",
       "      <td>226.0</td>\n",
       "      <td>debit</td>\n",
       "      <td>...</td>\n",
       "      <td>NaN</td>\n",
       "      <td>NaN</td>\n",
       "      <td>NaN</td>\n",
       "      <td>NaN</td>\n",
       "      <td>NaN</td>\n",
       "      <td>NaN</td>\n",
       "      <td>NaN</td>\n",
       "      <td>NaN</td>\n",
       "      <td>NaN</td>\n",
       "      <td>NaN</td>\n",
       "    </tr>\n",
       "    <tr>\n",
       "      <th>1</th>\n",
       "      <td>3663550</td>\n",
       "      <td>18403263</td>\n",
       "      <td>49.00</td>\n",
       "      <td>W</td>\n",
       "      <td>4272</td>\n",
       "      <td>111.0</td>\n",
       "      <td>150.0</td>\n",
       "      <td>visa</td>\n",
       "      <td>226.0</td>\n",
       "      <td>debit</td>\n",
       "      <td>...</td>\n",
       "      <td>NaN</td>\n",
       "      <td>NaN</td>\n",
       "      <td>NaN</td>\n",
       "      <td>NaN</td>\n",
       "      <td>NaN</td>\n",
       "      <td>NaN</td>\n",
       "      <td>NaN</td>\n",
       "      <td>NaN</td>\n",
       "      <td>NaN</td>\n",
       "      <td>NaN</td>\n",
       "    </tr>\n",
       "    <tr>\n",
       "      <th>2</th>\n",
       "      <td>3663551</td>\n",
       "      <td>18403310</td>\n",
       "      <td>171.00</td>\n",
       "      <td>W</td>\n",
       "      <td>4476</td>\n",
       "      <td>574.0</td>\n",
       "      <td>150.0</td>\n",
       "      <td>visa</td>\n",
       "      <td>226.0</td>\n",
       "      <td>debit</td>\n",
       "      <td>...</td>\n",
       "      <td>NaN</td>\n",
       "      <td>NaN</td>\n",
       "      <td>NaN</td>\n",
       "      <td>NaN</td>\n",
       "      <td>NaN</td>\n",
       "      <td>NaN</td>\n",
       "      <td>NaN</td>\n",
       "      <td>NaN</td>\n",
       "      <td>NaN</td>\n",
       "      <td>NaN</td>\n",
       "    </tr>\n",
       "    <tr>\n",
       "      <th>3</th>\n",
       "      <td>3663552</td>\n",
       "      <td>18403310</td>\n",
       "      <td>284.95</td>\n",
       "      <td>W</td>\n",
       "      <td>10989</td>\n",
       "      <td>360.0</td>\n",
       "      <td>150.0</td>\n",
       "      <td>visa</td>\n",
       "      <td>166.0</td>\n",
       "      <td>debit</td>\n",
       "      <td>...</td>\n",
       "      <td>NaN</td>\n",
       "      <td>NaN</td>\n",
       "      <td>NaN</td>\n",
       "      <td>NaN</td>\n",
       "      <td>NaN</td>\n",
       "      <td>NaN</td>\n",
       "      <td>NaN</td>\n",
       "      <td>NaN</td>\n",
       "      <td>NaN</td>\n",
       "      <td>NaN</td>\n",
       "    </tr>\n",
       "    <tr>\n",
       "      <th>4</th>\n",
       "      <td>3663553</td>\n",
       "      <td>18403317</td>\n",
       "      <td>67.95</td>\n",
       "      <td>W</td>\n",
       "      <td>18018</td>\n",
       "      <td>452.0</td>\n",
       "      <td>150.0</td>\n",
       "      <td>mastercard</td>\n",
       "      <td>117.0</td>\n",
       "      <td>debit</td>\n",
       "      <td>...</td>\n",
       "      <td>NaN</td>\n",
       "      <td>NaN</td>\n",
       "      <td>NaN</td>\n",
       "      <td>NaN</td>\n",
       "      <td>NaN</td>\n",
       "      <td>NaN</td>\n",
       "      <td>NaN</td>\n",
       "      <td>NaN</td>\n",
       "      <td>NaN</td>\n",
       "      <td>NaN</td>\n",
       "    </tr>\n",
       "  </tbody>\n",
       "</table>\n",
       "<p>5 rows × 393 columns</p>\n",
       "</div>"
      ]
     },
     "execution_count": 8,
     "metadata": {},
     "output_type": "execute_result"
    }
   ],
   "execution_count": 8
  },
  {
   "cell_type": "code",
   "metadata": {
    "ExecuteTime": {
     "end_time": "2024-11-21T12:41:30.057151Z",
     "start_time": "2024-11-21T12:41:30.054611Z"
    }
   },
   "source": [
    "print(f'{test_identity_df.shape = }')\n",
    "print(f'{test_transaction_df.shape = }')"
   ],
   "outputs": [
    {
     "name": "stdout",
     "output_type": "stream",
     "text": [
      "test_identity_df.shape = (141907, 41)\n",
      "test_transaction_df.shape = (506691, 393)\n"
     ]
    }
   ],
   "execution_count": 9
  },
  {
   "cell_type": "markdown",
   "metadata": {},
   "source": [
    "### Join the identity and transaction tables"
   ]
  },
  {
   "cell_type": "code",
   "metadata": {
    "ExecuteTime": {
     "end_time": "2024-11-21T12:41:32.954521Z",
     "start_time": "2024-11-21T12:41:30.219503Z"
    }
   },
   "source": [
    "train_df = train_transaction_df.merge(train_identity_df, on='TransactionID', how='left')\n",
    "test_df = test_transaction_df.merge(test_identity_df, on='TransactionID', how='left')"
   ],
   "outputs": [],
   "execution_count": 10
  },
  {
   "cell_type": "code",
   "metadata": {
    "ExecuteTime": {
     "end_time": "2024-11-21T12:41:33.094950Z",
     "start_time": "2024-11-21T12:41:33.086063Z"
    }
   },
   "source": [
    "print(f'{train_df.shape =}')\n",
    "train_df.head()"
   ],
   "outputs": [
    {
     "name": "stdout",
     "output_type": "stream",
     "text": [
      "train_df.shape =(590540, 434)\n"
     ]
    },
    {
     "data": {
      "text/plain": [
       "   TransactionID  isFraud  TransactionDT  TransactionAmt ProductCD  card1  \\\n",
       "0        2987000        0          86400            68.5         W  13926   \n",
       "1        2987001        0          86401            29.0         W   2755   \n",
       "2        2987002        0          86469            59.0         W   4663   \n",
       "3        2987003        0          86499            50.0         W  18132   \n",
       "4        2987004        0          86506            50.0         H   4497   \n",
       "\n",
       "   card2  card3       card4  card5  ...                id_31  id_32  \\\n",
       "0    NaN  150.0    discover  142.0  ...                  NaN    NaN   \n",
       "1  404.0  150.0  mastercard  102.0  ...                  NaN    NaN   \n",
       "2  490.0  150.0        visa  166.0  ...                  NaN    NaN   \n",
       "3  567.0  150.0  mastercard  117.0  ...                  NaN    NaN   \n",
       "4  514.0  150.0  mastercard  102.0  ...  samsung browser 6.2   32.0   \n",
       "\n",
       "       id_33           id_34  id_35 id_36 id_37  id_38  DeviceType  \\\n",
       "0        NaN             NaN    NaN   NaN   NaN    NaN         NaN   \n",
       "1        NaN             NaN    NaN   NaN   NaN    NaN         NaN   \n",
       "2        NaN             NaN    NaN   NaN   NaN    NaN         NaN   \n",
       "3        NaN             NaN    NaN   NaN   NaN    NaN         NaN   \n",
       "4  2220x1080  match_status:2      T     F     T      T      mobile   \n",
       "\n",
       "                      DeviceInfo  \n",
       "0                            NaN  \n",
       "1                            NaN  \n",
       "2                            NaN  \n",
       "3                            NaN  \n",
       "4  SAMSUNG SM-G892A Build/NRD90M  \n",
       "\n",
       "[5 rows x 434 columns]"
      ],
      "text/html": [
       "<div>\n",
       "<style scoped>\n",
       "    .dataframe tbody tr th:only-of-type {\n",
       "        vertical-align: middle;\n",
       "    }\n",
       "\n",
       "    .dataframe tbody tr th {\n",
       "        vertical-align: top;\n",
       "    }\n",
       "\n",
       "    .dataframe thead th {\n",
       "        text-align: right;\n",
       "    }\n",
       "</style>\n",
       "<table border=\"1\" class=\"dataframe\">\n",
       "  <thead>\n",
       "    <tr style=\"text-align: right;\">\n",
       "      <th></th>\n",
       "      <th>TransactionID</th>\n",
       "      <th>isFraud</th>\n",
       "      <th>TransactionDT</th>\n",
       "      <th>TransactionAmt</th>\n",
       "      <th>ProductCD</th>\n",
       "      <th>card1</th>\n",
       "      <th>card2</th>\n",
       "      <th>card3</th>\n",
       "      <th>card4</th>\n",
       "      <th>card5</th>\n",
       "      <th>...</th>\n",
       "      <th>id_31</th>\n",
       "      <th>id_32</th>\n",
       "      <th>id_33</th>\n",
       "      <th>id_34</th>\n",
       "      <th>id_35</th>\n",
       "      <th>id_36</th>\n",
       "      <th>id_37</th>\n",
       "      <th>id_38</th>\n",
       "      <th>DeviceType</th>\n",
       "      <th>DeviceInfo</th>\n",
       "    </tr>\n",
       "  </thead>\n",
       "  <tbody>\n",
       "    <tr>\n",
       "      <th>0</th>\n",
       "      <td>2987000</td>\n",
       "      <td>0</td>\n",
       "      <td>86400</td>\n",
       "      <td>68.5</td>\n",
       "      <td>W</td>\n",
       "      <td>13926</td>\n",
       "      <td>NaN</td>\n",
       "      <td>150.0</td>\n",
       "      <td>discover</td>\n",
       "      <td>142.0</td>\n",
       "      <td>...</td>\n",
       "      <td>NaN</td>\n",
       "      <td>NaN</td>\n",
       "      <td>NaN</td>\n",
       "      <td>NaN</td>\n",
       "      <td>NaN</td>\n",
       "      <td>NaN</td>\n",
       "      <td>NaN</td>\n",
       "      <td>NaN</td>\n",
       "      <td>NaN</td>\n",
       "      <td>NaN</td>\n",
       "    </tr>\n",
       "    <tr>\n",
       "      <th>1</th>\n",
       "      <td>2987001</td>\n",
       "      <td>0</td>\n",
       "      <td>86401</td>\n",
       "      <td>29.0</td>\n",
       "      <td>W</td>\n",
       "      <td>2755</td>\n",
       "      <td>404.0</td>\n",
       "      <td>150.0</td>\n",
       "      <td>mastercard</td>\n",
       "      <td>102.0</td>\n",
       "      <td>...</td>\n",
       "      <td>NaN</td>\n",
       "      <td>NaN</td>\n",
       "      <td>NaN</td>\n",
       "      <td>NaN</td>\n",
       "      <td>NaN</td>\n",
       "      <td>NaN</td>\n",
       "      <td>NaN</td>\n",
       "      <td>NaN</td>\n",
       "      <td>NaN</td>\n",
       "      <td>NaN</td>\n",
       "    </tr>\n",
       "    <tr>\n",
       "      <th>2</th>\n",
       "      <td>2987002</td>\n",
       "      <td>0</td>\n",
       "      <td>86469</td>\n",
       "      <td>59.0</td>\n",
       "      <td>W</td>\n",
       "      <td>4663</td>\n",
       "      <td>490.0</td>\n",
       "      <td>150.0</td>\n",
       "      <td>visa</td>\n",
       "      <td>166.0</td>\n",
       "      <td>...</td>\n",
       "      <td>NaN</td>\n",
       "      <td>NaN</td>\n",
       "      <td>NaN</td>\n",
       "      <td>NaN</td>\n",
       "      <td>NaN</td>\n",
       "      <td>NaN</td>\n",
       "      <td>NaN</td>\n",
       "      <td>NaN</td>\n",
       "      <td>NaN</td>\n",
       "      <td>NaN</td>\n",
       "    </tr>\n",
       "    <tr>\n",
       "      <th>3</th>\n",
       "      <td>2987003</td>\n",
       "      <td>0</td>\n",
       "      <td>86499</td>\n",
       "      <td>50.0</td>\n",
       "      <td>W</td>\n",
       "      <td>18132</td>\n",
       "      <td>567.0</td>\n",
       "      <td>150.0</td>\n",
       "      <td>mastercard</td>\n",
       "      <td>117.0</td>\n",
       "      <td>...</td>\n",
       "      <td>NaN</td>\n",
       "      <td>NaN</td>\n",
       "      <td>NaN</td>\n",
       "      <td>NaN</td>\n",
       "      <td>NaN</td>\n",
       "      <td>NaN</td>\n",
       "      <td>NaN</td>\n",
       "      <td>NaN</td>\n",
       "      <td>NaN</td>\n",
       "      <td>NaN</td>\n",
       "    </tr>\n",
       "    <tr>\n",
       "      <th>4</th>\n",
       "      <td>2987004</td>\n",
       "      <td>0</td>\n",
       "      <td>86506</td>\n",
       "      <td>50.0</td>\n",
       "      <td>H</td>\n",
       "      <td>4497</td>\n",
       "      <td>514.0</td>\n",
       "      <td>150.0</td>\n",
       "      <td>mastercard</td>\n",
       "      <td>102.0</td>\n",
       "      <td>...</td>\n",
       "      <td>samsung browser 6.2</td>\n",
       "      <td>32.0</td>\n",
       "      <td>2220x1080</td>\n",
       "      <td>match_status:2</td>\n",
       "      <td>T</td>\n",
       "      <td>F</td>\n",
       "      <td>T</td>\n",
       "      <td>T</td>\n",
       "      <td>mobile</td>\n",
       "      <td>SAMSUNG SM-G892A Build/NRD90M</td>\n",
       "    </tr>\n",
       "  </tbody>\n",
       "</table>\n",
       "<p>5 rows × 434 columns</p>\n",
       "</div>"
      ]
     },
     "execution_count": 11,
     "metadata": {},
     "output_type": "execute_result"
    }
   ],
   "execution_count": 11
  },
  {
   "cell_type": "code",
   "metadata": {
    "ExecuteTime": {
     "end_time": "2024-11-21T12:41:33.141045Z",
     "start_time": "2024-11-21T12:41:33.126211Z"
    }
   },
   "source": [
    "print(f'{test_df.shape = }')\n",
    "test_df.head()"
   ],
   "outputs": [
    {
     "name": "stdout",
     "output_type": "stream",
     "text": [
      "test_df.shape = (506691, 433)\n"
     ]
    },
    {
     "data": {
      "text/plain": [
       "   TransactionID  TransactionDT  TransactionAmt ProductCD  card1  card2  \\\n",
       "0        3663549       18403224           31.95         W  10409  111.0   \n",
       "1        3663550       18403263           49.00         W   4272  111.0   \n",
       "2        3663551       18403310          171.00         W   4476  574.0   \n",
       "3        3663552       18403310          284.95         W  10989  360.0   \n",
       "4        3663553       18403317           67.95         W  18018  452.0   \n",
       "\n",
       "   card3       card4  card5  card6  ...  id-31  id-32  id-33  id-34 id-35  \\\n",
       "0  150.0        visa  226.0  debit  ...    NaN    NaN    NaN    NaN   NaN   \n",
       "1  150.0        visa  226.0  debit  ...    NaN    NaN    NaN    NaN   NaN   \n",
       "2  150.0        visa  226.0  debit  ...    NaN    NaN    NaN    NaN   NaN   \n",
       "3  150.0        visa  166.0  debit  ...    NaN    NaN    NaN    NaN   NaN   \n",
       "4  150.0  mastercard  117.0  debit  ...    NaN    NaN    NaN    NaN   NaN   \n",
       "\n",
       "  id-36  id-37  id-38  DeviceType  DeviceInfo  \n",
       "0   NaN    NaN    NaN         NaN         NaN  \n",
       "1   NaN    NaN    NaN         NaN         NaN  \n",
       "2   NaN    NaN    NaN         NaN         NaN  \n",
       "3   NaN    NaN    NaN         NaN         NaN  \n",
       "4   NaN    NaN    NaN         NaN         NaN  \n",
       "\n",
       "[5 rows x 433 columns]"
      ],
      "text/html": [
       "<div>\n",
       "<style scoped>\n",
       "    .dataframe tbody tr th:only-of-type {\n",
       "        vertical-align: middle;\n",
       "    }\n",
       "\n",
       "    .dataframe tbody tr th {\n",
       "        vertical-align: top;\n",
       "    }\n",
       "\n",
       "    .dataframe thead th {\n",
       "        text-align: right;\n",
       "    }\n",
       "</style>\n",
       "<table border=\"1\" class=\"dataframe\">\n",
       "  <thead>\n",
       "    <tr style=\"text-align: right;\">\n",
       "      <th></th>\n",
       "      <th>TransactionID</th>\n",
       "      <th>TransactionDT</th>\n",
       "      <th>TransactionAmt</th>\n",
       "      <th>ProductCD</th>\n",
       "      <th>card1</th>\n",
       "      <th>card2</th>\n",
       "      <th>card3</th>\n",
       "      <th>card4</th>\n",
       "      <th>card5</th>\n",
       "      <th>card6</th>\n",
       "      <th>...</th>\n",
       "      <th>id-31</th>\n",
       "      <th>id-32</th>\n",
       "      <th>id-33</th>\n",
       "      <th>id-34</th>\n",
       "      <th>id-35</th>\n",
       "      <th>id-36</th>\n",
       "      <th>id-37</th>\n",
       "      <th>id-38</th>\n",
       "      <th>DeviceType</th>\n",
       "      <th>DeviceInfo</th>\n",
       "    </tr>\n",
       "  </thead>\n",
       "  <tbody>\n",
       "    <tr>\n",
       "      <th>0</th>\n",
       "      <td>3663549</td>\n",
       "      <td>18403224</td>\n",
       "      <td>31.95</td>\n",
       "      <td>W</td>\n",
       "      <td>10409</td>\n",
       "      <td>111.0</td>\n",
       "      <td>150.0</td>\n",
       "      <td>visa</td>\n",
       "      <td>226.0</td>\n",
       "      <td>debit</td>\n",
       "      <td>...</td>\n",
       "      <td>NaN</td>\n",
       "      <td>NaN</td>\n",
       "      <td>NaN</td>\n",
       "      <td>NaN</td>\n",
       "      <td>NaN</td>\n",
       "      <td>NaN</td>\n",
       "      <td>NaN</td>\n",
       "      <td>NaN</td>\n",
       "      <td>NaN</td>\n",
       "      <td>NaN</td>\n",
       "    </tr>\n",
       "    <tr>\n",
       "      <th>1</th>\n",
       "      <td>3663550</td>\n",
       "      <td>18403263</td>\n",
       "      <td>49.00</td>\n",
       "      <td>W</td>\n",
       "      <td>4272</td>\n",
       "      <td>111.0</td>\n",
       "      <td>150.0</td>\n",
       "      <td>visa</td>\n",
       "      <td>226.0</td>\n",
       "      <td>debit</td>\n",
       "      <td>...</td>\n",
       "      <td>NaN</td>\n",
       "      <td>NaN</td>\n",
       "      <td>NaN</td>\n",
       "      <td>NaN</td>\n",
       "      <td>NaN</td>\n",
       "      <td>NaN</td>\n",
       "      <td>NaN</td>\n",
       "      <td>NaN</td>\n",
       "      <td>NaN</td>\n",
       "      <td>NaN</td>\n",
       "    </tr>\n",
       "    <tr>\n",
       "      <th>2</th>\n",
       "      <td>3663551</td>\n",
       "      <td>18403310</td>\n",
       "      <td>171.00</td>\n",
       "      <td>W</td>\n",
       "      <td>4476</td>\n",
       "      <td>574.0</td>\n",
       "      <td>150.0</td>\n",
       "      <td>visa</td>\n",
       "      <td>226.0</td>\n",
       "      <td>debit</td>\n",
       "      <td>...</td>\n",
       "      <td>NaN</td>\n",
       "      <td>NaN</td>\n",
       "      <td>NaN</td>\n",
       "      <td>NaN</td>\n",
       "      <td>NaN</td>\n",
       "      <td>NaN</td>\n",
       "      <td>NaN</td>\n",
       "      <td>NaN</td>\n",
       "      <td>NaN</td>\n",
       "      <td>NaN</td>\n",
       "    </tr>\n",
       "    <tr>\n",
       "      <th>3</th>\n",
       "      <td>3663552</td>\n",
       "      <td>18403310</td>\n",
       "      <td>284.95</td>\n",
       "      <td>W</td>\n",
       "      <td>10989</td>\n",
       "      <td>360.0</td>\n",
       "      <td>150.0</td>\n",
       "      <td>visa</td>\n",
       "      <td>166.0</td>\n",
       "      <td>debit</td>\n",
       "      <td>...</td>\n",
       "      <td>NaN</td>\n",
       "      <td>NaN</td>\n",
       "      <td>NaN</td>\n",
       "      <td>NaN</td>\n",
       "      <td>NaN</td>\n",
       "      <td>NaN</td>\n",
       "      <td>NaN</td>\n",
       "      <td>NaN</td>\n",
       "      <td>NaN</td>\n",
       "      <td>NaN</td>\n",
       "    </tr>\n",
       "    <tr>\n",
       "      <th>4</th>\n",
       "      <td>3663553</td>\n",
       "      <td>18403317</td>\n",
       "      <td>67.95</td>\n",
       "      <td>W</td>\n",
       "      <td>18018</td>\n",
       "      <td>452.0</td>\n",
       "      <td>150.0</td>\n",
       "      <td>mastercard</td>\n",
       "      <td>117.0</td>\n",
       "      <td>debit</td>\n",
       "      <td>...</td>\n",
       "      <td>NaN</td>\n",
       "      <td>NaN</td>\n",
       "      <td>NaN</td>\n",
       "      <td>NaN</td>\n",
       "      <td>NaN</td>\n",
       "      <td>NaN</td>\n",
       "      <td>NaN</td>\n",
       "      <td>NaN</td>\n",
       "      <td>NaN</td>\n",
       "      <td>NaN</td>\n",
       "    </tr>\n",
       "  </tbody>\n",
       "</table>\n",
       "<p>5 rows × 433 columns</p>\n",
       "</div>"
      ]
     },
     "execution_count": 12,
     "metadata": {},
     "output_type": "execute_result"
    }
   ],
   "execution_count": 12
  },
  {
   "cell_type": "markdown",
   "metadata": {},
   "source": [
    "## Preprocessing"
   ]
  },
  {
   "cell_type": "markdown",
   "metadata": {},
   "source": [
    "### Drop columns that have too many missing values"
   ]
  },
  {
   "cell_type": "code",
   "metadata": {
    "ExecuteTime": {
     "end_time": "2024-11-21T12:41:34.864168Z",
     "start_time": "2024-11-21T12:41:33.216608Z"
    }
   },
   "source": [
    "missing_percentages = train_df.isnull().mean()\n",
    "missing_thr = 0.9\n",
    "\n",
    "plt.figure(figsize=(10, 6))\n",
    "missing_percentages[missing_percentages > missing_thr].sort_values(ascending=True).plot(kind='barh')\n",
    "plt.xlabel('Percentage of Missing Values')\n",
    "plt.ylabel('Columns')\n",
    "plt.title(f'Percentage of Missing Values by in columns with > {missing_thr * 100} % missing values')\n",
    "plt.show()"
   ],
   "outputs": [
    {
     "data": {
      "text/plain": [
       "<Figure size 1000x600 with 1 Axes>"
      ],
      "image/png": "[encoded data removed]"
     },
     "metadata": {},
     "output_type": "display_data"
    }
   ],
   "execution_count": 13
  },
  {
   "cell_type": "code",
   "metadata": {
    "ExecuteTime": {
     "end_time": "2024-11-21T12:41:36.261724Z",
     "start_time": "2024-11-21T12:41:35.088309Z"
    }
   },
   "source": [
    "N = len(train_df)\n",
    "n_cols_before = train_df.shape[1]\n",
    "train_df = train_df.loc[:, train_df.isnull().mean() < missing_thr]\n",
    "print(f\"Number of columns {n_cols_before} -> {train_df.shape[1]}\")"
   ],
   "outputs": [
    {
     "name": "stdout",
     "output_type": "stream",
     "text": [
      "Number of columns 434 -> 422\n"
     ]
    }
   ],
   "execution_count": 14
  },
  {
   "cell_type": "markdown",
   "metadata": {},
   "source": [
    "### Create os feature"
   ]
  },
  {
   "cell_type": "code",
   "metadata": {
    "ExecuteTime": {
     "end_time": "2024-11-21T12:41:36.567883Z",
     "start_time": "2024-11-21T12:41:36.552393Z"
    }
   },
   "source": [
    "train_df['id_30'].unique()"
   ],
   "outputs": [
    {
     "data": {
      "text/plain": [
       "array([nan, 'Android 7.0', 'iOS 11.1.2', 'Mac OS X 10_11_6', 'Windows 10',\n",
       "       'Android', 'Linux', 'iOS 11.0.3', 'Mac OS X 10_7_5',\n",
       "       'Mac OS X 10_12_6', 'Mac OS X 10_13_1', 'iOS 11.1.0',\n",
       "       'Mac OS X 10_9_5', 'Windows 7', 'Windows 8.1', 'Mac', 'iOS 10.3.3',\n",
       "       'Mac OS X 10.12', 'Mac OS X 10_10_5', 'Mac OS X 10_11_5',\n",
       "       'iOS 9.3.5', 'Android 5.1.1', 'Android 7.1.1', 'Android 6.0',\n",
       "       'iOS 10.3.1', 'Mac OS X 10.9', 'iOS 11.1.1', 'Windows Vista',\n",
       "       'iOS 10.3.2', 'iOS 11.0.2', 'Mac OS X 10.11', 'Android 8.0.0',\n",
       "       'iOS 10.2.0', 'iOS 10.2.1', 'iOS 11.0.0', 'Mac OS X 10.10',\n",
       "       'Mac OS X 10_12_3', 'Mac OS X 10_12', 'Android 6.0.1', 'iOS',\n",
       "       'Mac OS X 10.13', 'Mac OS X 10_12_5', 'Mac OS X 10_8_5',\n",
       "       'iOS 11.0.1', 'iOS 10.0.2', 'Android 5.0.2', 'Windows XP',\n",
       "       'iOS 11.2.0', 'Mac OS X 10.6', 'Windows 8', 'Mac OS X 10_6_8',\n",
       "       'Mac OS X 10_11_4', 'Mac OS X 10_12_1', 'iOS 10.1.1',\n",
       "       'Mac OS X 10_11_3', 'Mac OS X 10_12_4', 'Mac OS X 10_13_2',\n",
       "       'Android 4.4.2', 'Mac OS X 10_12_2', 'Android 5.0', 'func',\n",
       "       'Android 7.1.2', 'Android 8.1.0', 'other', 'Mac OS X 10_13_3',\n",
       "       'iOS 11.2.1', 'iOS 11.2.5', 'Windows', 'iOS 11.2.2', 'iOS 11.3.0',\n",
       "       'iOS 11.2.6', 'Mac OS X 10_13_4', 'Mac OS X 10_13_5', 'iOS 11.4.0',\n",
       "       'iOS 11.3.1', 'iOS 11.4.1'], dtype=object)"
      ]
     },
     "execution_count": 15,
     "metadata": {},
     "output_type": "execute_result"
    }
   ],
   "execution_count": 15
  },
  {
   "cell_type": "code",
   "metadata": {
    "ExecuteTime": {
     "end_time": "2024-11-21T12:41:39.107383Z",
     "start_time": "2024-11-21T12:41:36.812045Z"
    }
   },
   "source": [
    "# Create a new feature called id_30\n",
    "train_df['os'] = train_df['id_30'].str.split(' ', n=1, expand=True)[0]\n",
    "train_df.drop('id_30', axis=1, inplace=True)\n",
    "train_df['os'].head()"
   ],
   "outputs": [
    {
     "data": {
      "text/plain": [
       "0        NaN\n",
       "1        NaN\n",
       "2        NaN\n",
       "3        NaN\n",
       "4    Android\n",
       "Name: os, dtype: object"
      ]
     },
     "execution_count": 16,
     "metadata": {},
     "output_type": "execute_result"
    }
   ],
   "execution_count": 16
  },
  {
   "cell_type": "code",
   "metadata": {
    "ExecuteTime": {
     "end_time": "2024-11-21T12:41:39.150897Z",
     "start_time": "2024-11-21T12:41:39.148089Z"
    }
   },
   "source": [],
   "outputs": [],
   "execution_count": null
  },
  {
   "cell_type": "markdown",
   "metadata": {},
   "source": [
    "### Screen size feature"
   ]
  },
  {
   "cell_type": "code",
   "metadata": {
    "ExecuteTime": {
     "end_time": "2024-11-21T12:41:39.254993Z",
     "start_time": "2024-11-21T12:41:39.239410Z"
    }
   },
   "source": [
    "train_df['id_33'].unique()"
   ],
   "outputs": [
    {
     "data": {
      "text/plain": [
       "array([nan, '2220x1080', '1334x750', '1280x800', '1366x768', '1920x1080',\n",
       "       '1680x1050', '1136x640', '5120x2880', '2880x1800', '1920x1200',\n",
       "       '2560x1600', '2048x1536', '1024x768', '1280x720', '2560x1440',\n",
       "       '2208x1242', '2001x1125', '1440x900', '1600x900', '2672x1440',\n",
       "       '1280x1024', '960x540', '2732x2048', '2436x1125', '2048x1152',\n",
       "       '2960x1440', '1024x600', '855x480', '4096x2304', '2160x1440',\n",
       "       '2562x1442', '801x480', '2736x1824', '3441x1440', '2880x1620',\n",
       "       '3840x2160', '1638x922', '1280x768', '1360x768', '1280x960',\n",
       "       '3440x1440', '1152x720', '1280x1025', '3360x2100', '2304x1296',\n",
       "       '1152x864', '3200x1800', '2112x1188', '2224x1668', '2400x1350',\n",
       "       '2000x1125', '1600x1000', '2560x1080', '1728x972', '3000x2000',\n",
       "       '1024x640', '3840x2400', '2304x1440', '1280x600', '1400x1050',\n",
       "       '1600x1200', '3201x1800', '1356x900', '1344x756', '1624x1080',\n",
       "       '1536x864', '1800x1125', '1920x1281', '2961x1442', '1366x1024',\n",
       "       '1344x840', '3360x1890', '1536x1152', '1200x675', '1480x720',\n",
       "       '2400x1600', '3200x2000', '1281x801', '960x640', '1776x1000',\n",
       "       '2048x1280', '2049x1152', '1138x640', '2160x1215', '2880x1440',\n",
       "       '0x0', '2520x1575', '5760x3240', '3843x2163', '1184x720',\n",
       "       '1440x810', '2076x1080', '1600x837', '1093x615', '1281x721',\n",
       "       '1152x648', '2392x1440', '2048x1080', '2735x1825', '1680x945',\n",
       "       '1805x1015', '5760x1080', '2816x1584', '4500x3000', '1684x947',\n",
       "       '1440x960', '1364x768', '3072x1728', '5040x3150', '7500x5000',\n",
       "       '768x576', '1768x992', '1658x946', '1200x720', '1239x697',\n",
       "       '1188x720', '1232x800', '1920x1280', '1264x924', '1400x900',\n",
       "       '3240x2160', '2961x1440', '1422x889', '1848x1155', '3360x1050',\n",
       "       '3840x1080', '2010x1080', '2160x1350', '1440x720', '1280x712',\n",
       "       '1512x945', '1296x774', '1368x768', '3520x1980', '800x600',\n",
       "       '1700x960', '2560x1800', '6400x3600', '2368x1440', '1824x1026',\n",
       "       '1912x1025', '600x450', '3840x1600', '1760x990', '2700x1800',\n",
       "       '1371x857', '1776x1080', '2552x1337', '3600x2250', '2560x1700',\n",
       "       '2816x1760', '1440x800', '1440x803', '1920x1018', '6016x3384',\n",
       "       '1280x620', '1281x720', '1720x1440', '1408x880', '640x360',\n",
       "       '1920x975', '976x600', '1062x630', '2800x1575', '6720x3780',\n",
       "       '1440x759', '1120x700', '1921x1081', '1280x1023', '1279x1023',\n",
       "       '1441x901', '1679x1049', '1680x1051', '2220x1081', '1920x1079',\n",
       "       '1919x1199', '1680x1049', '1365x768', '1919x1079', '1919x1200',\n",
       "       '1919x1080', '1366x767', '1584x990', '2880x1442', '1281x800',\n",
       "       '1229x691', '1600x1024', '1600x899', '1536x960', '1502x844',\n",
       "       '1920x1201', '1439x809', '1408x792', '1279x1024', '1599x900',\n",
       "       '1920x1081', '921x691', '3841x2161', '1921x1080', '480x320',\n",
       "       '1888x941', '2049x1536', '2160x1439', '1707x960', '1024x767',\n",
       "       '1365x767', '3001x2000', '3839x2160', '1916x901', '3838x2158',\n",
       "       '1599x899', '3199x1800', '1511x944', '2737x1825', '2736x1823',\n",
       "       '2735x1823', '2559x1439', '2400x1500', '2882x1442', '1729x973',\n",
       "       '1727x971', '1023x767', '1918x1080', '1439x900', '4499x2999',\n",
       "       '1280x740', '2999x2000', '1024x552', '1440x899', '2255x1503',\n",
       "       '1025x768', '1280x732', '3839x2159', '3840x2162', '3696x2310',\n",
       "       '2159x1439', '2256x1504', '1439x899', '2159x1440', '1359x768',\n",
       "       '1092x614', '2048x1278', '2591x1619', '4200x2625', '2710x1440',\n",
       "       '1272x960', '1023x768', '3838x2160', '2100x1312', '1360x767',\n",
       "       '1024x819', '1502x845', '2561x1442', '2559x1440', '2160x1081',\n",
       "       '1920x1279', '2160x1080', '1596x710', '1496x844', '1280x900'],\n",
       "      dtype=object)"
      ]
     },
     "execution_count": 17,
     "metadata": {},
     "output_type": "execute_result"
    }
   ],
   "execution_count": 17
  },
  {
   "cell_type": "code",
   "metadata": {
    "ExecuteTime": {
     "end_time": "2024-11-21T12:41:41.319432Z",
     "start_time": "2024-11-21T12:41:39.319555Z"
    }
   },
   "source": [
    "train_df[['width', 'height']] = train_df['id_33'].str.split('x', n=1, expand=True).apply(pd.to_numeric)\n",
    "train_df.drop('id_33', axis=1, inplace=True)\n",
    "train_df[['width', 'height']].head()"
   ],
   "outputs": [
    {
     "data": {
      "text/plain": [
       "    width  height\n",
       "0     NaN     NaN\n",
       "1     NaN     NaN\n",
       "2     NaN     NaN\n",
       "3     NaN     NaN\n",
       "4  2220.0  1080.0"
      ],
      "text/html": [
       "<div>\n",
       "<style scoped>\n",
       "    .dataframe tbody tr th:only-of-type {\n",
       "        vertical-align: middle;\n",
       "    }\n",
       "\n",
       "    .dataframe tbody tr th {\n",
       "        vertical-align: top;\n",
       "    }\n",
       "\n",
       "    .dataframe thead th {\n",
       "        text-align: right;\n",
       "    }\n",
       "</style>\n",
       "<table border=\"1\" class=\"dataframe\">\n",
       "  <thead>\n",
       "    <tr style=\"text-align: right;\">\n",
       "      <th></th>\n",
       "      <th>width</th>\n",
       "      <th>height</th>\n",
       "    </tr>\n",
       "  </thead>\n",
       "  <tbody>\n",
       "    <tr>\n",
       "      <th>0</th>\n",
       "      <td>NaN</td>\n",
       "      <td>NaN</td>\n",
       "    </tr>\n",
       "    <tr>\n",
       "      <th>1</th>\n",
       "      <td>NaN</td>\n",
       "      <td>NaN</td>\n",
       "    </tr>\n",
       "    <tr>\n",
       "      <th>2</th>\n",
       "      <td>NaN</td>\n",
       "      <td>NaN</td>\n",
       "    </tr>\n",
       "    <tr>\n",
       "      <th>3</th>\n",
       "      <td>NaN</td>\n",
       "      <td>NaN</td>\n",
       "    </tr>\n",
       "    <tr>\n",
       "      <th>4</th>\n",
       "      <td>2220.0</td>\n",
       "      <td>1080.0</td>\n",
       "    </tr>\n",
       "  </tbody>\n",
       "</table>\n",
       "</div>"
      ]
     },
     "execution_count": 18,
     "metadata": {},
     "output_type": "execute_result"
    }
   ],
   "execution_count": 18
  },
  {
   "cell_type": "markdown",
   "metadata": {},
   "source": []
  },
  {
   "cell_type": "markdown",
   "metadata": {},
   "source": [
    "### Browser feature"
   ]
  },
  {
   "cell_type": "code",
   "metadata": {
    "ExecuteTime": {
     "end_time": "2024-11-21T12:41:41.395438Z",
     "start_time": "2024-11-21T12:41:41.376949Z"
    }
   },
   "source": [
    "train_df['id_31'].unique()"
   ],
   "outputs": [
    {
     "data": {
      "text/plain": [
       "array([nan, 'samsung browser 6.2', 'mobile safari 11.0', 'chrome 62.0',\n",
       "       'chrome 62.0 for android', 'edge 15.0', 'mobile safari generic',\n",
       "       'chrome 49.0', 'chrome 61.0', 'edge 16.0', 'safari generic',\n",
       "       'edge 14.0', 'chrome 56.0 for android', 'firefox 57.0',\n",
       "       'chrome 54.0 for android', 'mobile safari uiwebview', 'chrome',\n",
       "       'chrome 62.0 for ios', 'firefox', 'chrome 60.0 for android',\n",
       "       'mobile safari 10.0', 'chrome 61.0 for android',\n",
       "       'ie 11.0 for desktop', 'ie 11.0 for tablet', 'mobile safari 9.0',\n",
       "       'chrome generic', 'other', 'chrome 59.0 for android',\n",
       "       'firefox 56.0', 'android webview 4.0', 'chrome 55.0', 'opera 49.0',\n",
       "       'ie', 'chrome 55.0 for android', 'firefox 52.0',\n",
       "       'chrome 57.0 for android', 'chrome 56.0',\n",
       "       'chrome 46.0 for android', 'chrome 58.0', 'firefox 48.0',\n",
       "       'chrome 59.0', 'samsung browser 4.0', 'edge 13.0',\n",
       "       'chrome 53.0 for android', 'chrome 58.0 for android',\n",
       "       'chrome 60.0', 'mobile safari 8.0', 'firefox generic',\n",
       "       'Generic/Android 7.0', 'mobile', 'Samsung/SM-G532M',\n",
       "       'chrome 50.0 for android', 'chrome 51.0 for android',\n",
       "       'chrome 63.0', 'chrome 52.0 for android', 'chrome 51.0',\n",
       "       'firefox 55.0', 'edge', 'opera', 'chrome generic for android',\n",
       "       'aol', 'samsung browser 5.4', 'Samsung/SCH', 'silk', 'chrome 57.0',\n",
       "       'firefox 47.0', 'chrome 63.0 for android', 'Samsung/SM-G531H',\n",
       "       'chrome 43.0 for android', 'waterfox', 'Nokia/Lumia',\n",
       "       'chrome 63.0 for ios', 'puffin', 'Microsoft/Windows', 'cyberfox',\n",
       "       'Generic/Android', 'samsung', 'opera generic',\n",
       "       'chrome 49.0 for android', 'ZTE/Blade', 'safari',\n",
       "       'android browser 4.0', 'samsung browser 5.2', 'palemoon',\n",
       "       'maxthon', 'line', 'LG/K-200', 'iron', 'BLU/Dash', 'seamonkey',\n",
       "       'firefox 58.0', 'chrome 64.0 for android', 'chrome 64.0',\n",
       "       'firefox 59.0', 'chrome 64.0 for ios', 'M4Tel/M4', 'comodo',\n",
       "       'Lanix/Ilium', 'samsung browser generic', 'chromium', 'opera 51.0',\n",
       "       'Inco/Minion', 'samsung browser 7.0', 'Mozilla/Firefox',\n",
       "       'samsung browser 4.2', 'samsung browser 6.4', 'chrome 65.0',\n",
       "       'chrome 65.0 for android', 'chrome 65.0 for ios', 'Cherry',\n",
       "       'icedragon', 'android', 'edge 17.0', 'chrome 66.0',\n",
       "       'chrome 66.0 for android', 'safari 11.0', 'safari 9.0',\n",
       "       'safari 10.0', 'google', 'chrome 66.0 for ios',\n",
       "       'google search application 48.0', 'opera 52.0', 'firefox 60.0',\n",
       "       'opera 53.0', 'samsung browser 3.3',\n",
       "       'google search application 49.0', 'facebook',\n",
       "       'firefox mobile 61.0', 'chrome 67.0', 'chrome 69.0',\n",
       "       'chrome 67.0 for android'], dtype=object)"
      ]
     },
     "execution_count": 19,
     "metadata": {},
     "output_type": "execute_result"
    }
   ],
   "execution_count": 19
  },
  {
   "cell_type": "code",
   "metadata": {
    "ExecuteTime": {
     "end_time": "2024-11-21T12:41:43.612828Z",
     "start_time": "2024-11-21T12:41:41.501465Z"
    }
   },
   "source": [
    "train_df['browser'] = train_df['id_31'].str.split(' ', expand=True)[0].str.lower()\n",
    "train_df.drop('id_31', axis=1, inplace=True)\n",
    "train_df['browser'].head()"
   ],
   "outputs": [
    {
     "data": {
      "text/plain": [
       "0        NaN\n",
       "1        NaN\n",
       "2        NaN\n",
       "3        NaN\n",
       "4    samsung\n",
       "Name: browser, dtype: object"
      ]
     },
     "execution_count": 20,
     "metadata": {},
     "output_type": "execute_result"
    }
   ],
   "execution_count": 20
  },
  {
   "cell_type": "code",
   "metadata": {
    "ExecuteTime": {
     "end_time": "2024-11-21T12:41:43.697252Z",
     "start_time": "2024-11-21T12:41:43.670290Z"
    }
   },
   "source": [
    "train_df['browser'].unique()"
   ],
   "outputs": [
    {
     "data": {
      "text/plain": [
       "array([nan, 'samsung', 'mobile', 'chrome', 'edge', 'safari', 'firefox',\n",
       "       'ie', 'other', 'android', 'opera', 'generic/android',\n",
       "       'samsung/sm-g532m', 'aol', 'samsung/sch', 'silk',\n",
       "       'samsung/sm-g531h', 'waterfox', 'nokia/lumia', 'puffin',\n",
       "       'microsoft/windows', 'cyberfox', 'zte/blade', 'palemoon',\n",
       "       'maxthon', 'line', 'lg/k-200', 'iron', 'blu/dash', 'seamonkey',\n",
       "       'm4tel/m4', 'comodo', 'lanix/ilium', 'chromium', 'inco/minion',\n",
       "       'mozilla/firefox', 'cherry', 'icedragon', 'google', 'facebook'],\n",
       "      dtype=object)"
      ]
     },
     "execution_count": 21,
     "metadata": {},
     "output_type": "execute_result"
    }
   ],
   "execution_count": 21
  },
  {
   "cell_type": "code",
   "metadata": {
    "ExecuteTime": {
     "end_time": "2024-11-21T12:41:43.880390Z",
     "start_time": "2024-11-21T12:41:43.774983Z"
    }
   },
   "source": [
    "# Map browser names to most common ones and group others into \"other\".\n",
    "browser_mapping = {\n",
    "    'samsung': 'samsung',\n",
    "    'samsung/sm-g532m': 'samsung',\n",
    "    'samsung/sch': 'samsung',\n",
    "    'samsung/sm-g531h': 'samsung',\n",
    "    'mobile': 'mobile',\n",
    "    'chrome': 'chrome',\n",
    "    'chromium': 'chrome',\n",
    "    'firefox': 'firefox',\n",
    "    'mozilla/firefox': 'firefox',\n",
    "    'waterfox': 'firefox',\n",
    "    'cyberfox': 'firefox',\n",
    "    'icedragon': 'firefox',\n",
    "    'edge': 'edge',\n",
    "    'ie': 'ie',\n",
    "    'safari': 'safari',\n",
    "    'android': 'android',\n",
    "    'generic/android': 'android',\n",
    "    'opera': 'opera',\n",
    "    'silk': 'opera',\n",
    "    'palemoon': 'other',\n",
    "    'maxthon': 'other',\n",
    "    'line': 'other',\n",
    "    'iron': 'other',\n",
    "    'blu/dash': 'other',\n",
    "    'seamonkey': 'other',\n",
    "    'm4tel/m4': 'other',\n",
    "    'comodo': 'other',\n",
    "    'lanix/ilium': 'other',\n",
    "    'inco/minion': 'other',\n",
    "    'cherry': 'other',\n",
    "    'google': 'google',\n",
    "    'facebook': 'facebook',\n",
    "    'aol': 'other',\n",
    "    'zte/blade': 'other',\n",
    "    'nokia/lumia': 'other',\n",
    "    'lg/k-200': 'other',\n",
    "    'microsoft/windows': 'windows',\n",
    "    np.nan: 'unknown'\n",
    "}\n",
    "\n",
    "train_df['browser'] = train_df['browser'].map(browser_mapping)\n",
    "\n",
    "train_df['browser'].unique()"
   ],
   "outputs": [
    {
     "data": {
      "text/plain": [
       "array(['unknown', 'samsung', 'mobile', 'chrome', 'edge', 'safari',\n",
       "       'firefox', 'ie', nan, 'android', 'opera', 'other', 'windows',\n",
       "       'google', 'facebook'], dtype=object)"
      ]
     },
     "execution_count": 22,
     "metadata": {},
     "output_type": "execute_result"
    }
   ],
   "execution_count": 22
  },
  {
   "cell_type": "code",
   "metadata": {
    "ExecuteTime": {
     "end_time": "2024-11-21T12:41:43.910140Z",
     "start_time": "2024-11-21T12:41:43.908396Z"
    }
   },
   "source": [],
   "outputs": [],
   "execution_count": null
  },
  {
   "cell_type": "markdown",
   "metadata": {},
   "source": [
    "### Transaction Hour and day of the week"
   ]
  },
  {
   "cell_type": "code",
   "metadata": {
    "ExecuteTime": {
     "end_time": "2024-11-21T12:41:43.925843Z",
     "start_time": "2024-11-21T12:41:43.915204Z"
    }
   },
   "source": [
    "train_df['TransactionHour'] = (train_df['TransactionDT'] // (60 * 60)) % 24\n",
    "train_df['TransactionDayOfWeek'] = (train_df['TransactionDT'] // (60 * 60 * 24)) % 7"
   ],
   "outputs": [],
   "execution_count": 23
  },
  {
   "cell_type": "code",
   "metadata": {
    "ExecuteTime": {
     "end_time": "2024-11-21T12:41:43.948942Z",
     "start_time": "2024-11-21T12:41:43.947072Z"
    }
   },
   "source": [],
   "outputs": [],
   "execution_count": null
  },
  {
   "cell_type": "code",
   "metadata": {
    "ExecuteTime": {
     "end_time": "2024-11-21T12:41:45.388216Z",
     "start_time": "2024-11-21T12:41:43.966801Z"
    }
   },
   "source": [
    "v_cols = [c for c in train_df.columns if c.startswith(\"V\")]\n",
    "\n",
    "v_df = train_df[v_cols]\n",
    "missing_counts = v_df.isnull().sum()\n",
    "groups = {}\n",
    "for col, count in missing_counts.items():\n",
    "    groups.setdefault(count, []).append(col)"
   ],
   "outputs": [],
   "execution_count": 24
  },
  {
   "cell_type": "code",
   "metadata": {
    "ExecuteTime": {
     "end_time": "2024-11-21T12:43:46.738464Z",
     "start_time": "2024-11-21T12:41:45.439445Z"
    }
   },
   "source": [
    "from sklearn.preprocessing import StandardScaler\n",
    "from sklearn.decomposition import PCA\n",
    "\n",
    "count = 0\n",
    "new_v_features = []\n",
    "for group in groups.values():\n",
    "    df_group = train_df[group].copy()\n",
    "    df_group.fillna(-999, inplace=True)\n",
    "    v_normalized = StandardScaler().fit_transform(df_group)\n",
    "    pca = PCA().fit(v_normalized)\n",
    "    explained_variance = pca.explained_variance_ratio_.cumsum()\n",
    "    n_components = (explained_variance >= 0.9).argmax() + 1  # Find the first index where variance >= 90%\n",
    "    print(f\"Group: {group}, Components to Retain: {n_components}\")\n",
    "    \n",
    "    pca_reduced = PCA(n_components=n_components)\n",
    "    reduced_data = pca_reduced.fit_transform(v_normalized)\n",
    "    for i in range(n_components):\n",
    "        train_df[f'V_pca_{count}'] = reduced_data[:, i]\n",
    "        new_v_features.append(f'V_pca_{count}')\n",
    "        count += 1\n",
    "\n",
    "print(f'Total V features created: {len(new_v_features)}')"
   ],
   "outputs": [
    {
     "name": "stdout",
     "output_type": "stream",
     "text": [
      "Group: ['V1', 'V2', 'V3', 'V4', 'V5', 'V6', 'V7', 'V8', 'V9', 'V10', 'V11'], Components to Retain: 1\n",
      "Group: ['V12', 'V13', 'V14', 'V15', 'V16', 'V17', 'V18', 'V19', 'V20', 'V21', 'V22', 'V23', 'V24', 'V25', 'V26', 'V27', 'V28', 'V29', 'V30', 'V31', 'V32', 'V33', 'V34'], Components to Retain: 1\n",
      "Group: ['V35', 'V36', 'V37', 'V38', 'V39', 'V40', 'V41', 'V42', 'V43', 'V44', 'V45', 'V46', 'V47', 'V48', 'V49', 'V50', 'V51', 'V52'], Components to Retain: 1\n",
      "Group: ['V53', 'V54', 'V55', 'V56', 'V57', 'V58', 'V59', 'V60', 'V61', 'V62', 'V63', 'V64', 'V65', 'V66', 'V67', 'V68', 'V69', 'V70', 'V71', 'V72', 'V73', 'V74'], Components to Retain: 1\n",
      "Group: ['V75', 'V76', 'V77', 'V78', 'V79', 'V80', 'V81', 'V82', 'V83', 'V84', 'V85', 'V86', 'V87', 'V88', 'V89', 'V90', 'V91', 'V92', 'V93', 'V94'], Components to Retain: 1\n",
      "Group: ['V95', 'V96', 'V97', 'V98', 'V99', 'V100', 'V101', 'V102', 'V103', 'V104', 'V105', 'V106', 'V107', 'V108', 'V109', 'V110', 'V111', 'V112', 'V113', 'V114', 'V115', 'V116', 'V117', 'V118', 'V119', 'V120', 'V121', 'V122', 'V123', 'V124', 'V125', 'V126', 'V127', 'V128', 'V129', 'V130', 'V131', 'V132', 'V133', 'V134', 'V135', 'V136', 'V137'], Components to Retain: 3\n",
      "Group: ['V138', 'V139', 'V140', 'V141', 'V142', 'V146', 'V147', 'V148', 'V149', 'V153', 'V154', 'V155', 'V156', 'V157', 'V158', 'V161', 'V162', 'V163'], Components to Retain: 1\n",
      "Group: ['V143', 'V144', 'V145', 'V150', 'V151', 'V152', 'V159', 'V160', 'V164', 'V165', 'V166'], Components to Retain: 3\n",
      "Group: ['V167', 'V168', 'V172', 'V173', 'V176', 'V177', 'V178', 'V179', 'V181', 'V182', 'V183', 'V186', 'V187', 'V190', 'V191', 'V192', 'V193', 'V196', 'V199', 'V202', 'V203', 'V204', 'V205', 'V206', 'V207', 'V211', 'V212', 'V213', 'V214', 'V215', 'V216'], Components to Retain: 2\n",
      "Group: ['V169', 'V170', 'V171', 'V174', 'V175', 'V180', 'V184', 'V185', 'V188', 'V189', 'V194', 'V195', 'V197', 'V198', 'V200', 'V201', 'V208', 'V209', 'V210'], Components to Retain: 1\n",
      "Group: ['V217', 'V218', 'V219', 'V223', 'V224', 'V225', 'V226', 'V228', 'V229', 'V230', 'V231', 'V232', 'V233', 'V235', 'V236', 'V237', 'V240', 'V241', 'V242', 'V243', 'V244', 'V246', 'V247', 'V248', 'V249', 'V252', 'V253', 'V254', 'V257', 'V258', 'V260', 'V261', 'V262', 'V263', 'V264', 'V265', 'V266', 'V267', 'V268', 'V269', 'V273', 'V274', 'V275', 'V276', 'V277', 'V278'], Components to Retain: 2\n",
      "Group: ['V220', 'V221', 'V222', 'V227', 'V234', 'V238', 'V239', 'V245', 'V250', 'V251', 'V255', 'V256', 'V259', 'V270', 'V271', 'V272'], Components to Retain: 1\n",
      "Group: ['V279', 'V280', 'V284', 'V285', 'V286', 'V287', 'V290', 'V291', 'V292', 'V293', 'V294', 'V295', 'V297', 'V298', 'V299', 'V302', 'V303', 'V304', 'V305', 'V306', 'V307', 'V308', 'V309', 'V310', 'V311', 'V312', 'V316', 'V317', 'V318', 'V319', 'V320', 'V321'], Components to Retain: 5\n",
      "Group: ['V281', 'V282', 'V283', 'V288', 'V289', 'V296', 'V300', 'V301', 'V313', 'V314', 'V315'], Components to Retain: 2\n",
      "Group: ['V322', 'V323', 'V324', 'V325', 'V326', 'V327', 'V328', 'V329', 'V330', 'V331', 'V332', 'V333', 'V334', 'V335', 'V336', 'V337', 'V338', 'V339'], Components to Retain: 2\n",
      "Total V features created: 27\n"
     ]
    }
   ],
   "execution_count": 25
  },
  {
   "cell_type": "code",
   "metadata": {
    "ExecuteTime": {
     "end_time": "2024-11-21T12:43:46.860605Z",
     "start_time": "2024-11-21T12:43:46.853214Z"
    }
   },
   "source": [
    "train_df.columns"
   ],
   "outputs": [
    {
     "data": {
      "text/plain": [
       "Index(['TransactionID', 'isFraud', 'TransactionDT', 'TransactionAmt',\n",
       "       'ProductCD', 'card1', 'card2', 'card3', 'card4', 'card5',\n",
       "       ...\n",
       "       'V_pca_17', 'V_pca_18', 'V_pca_19', 'V_pca_20', 'V_pca_21', 'V_pca_22',\n",
       "       'V_pca_23', 'V_pca_24', 'V_pca_25', 'V_pca_26'],\n",
       "      dtype='object', length=452)"
      ]
     },
     "execution_count": 26,
     "metadata": {},
     "output_type": "execute_result"
    }
   ],
   "execution_count": 26
  },
  {
   "cell_type": "code",
   "metadata": {
    "ExecuteTime": {
     "end_time": "2024-11-21T12:43:48.627365Z",
     "start_time": "2024-11-21T12:43:46.890850Z"
    }
   },
   "source": [
    "def create_email_features(train_df, col):\n",
    "    train_df[col] = train_df[col].fillna('unknown')\n",
    "    fraud_correlation = train_df.groupby(col)['isFraud'].mean()\n",
    "    train_df[f'{col}_fraud_corr'] = train_df[col].map(fraud_correlation)\n",
    "    \n",
    "    common_providers = ['gmail.com', 'yahoo.com', 'hotmail.com', 'outlook.com', 'icloud.com']\n",
    "    train_df[f'{col}_email_provider'] = train_df[col].apply(\n",
    "        lambda x: x if x in common_providers else 'other'\n",
    "    )\n",
    "    train_df[f'{col}_email_tld'] = train_df[col].str.split(' ', n=1, expand=True).apply(\n",
    "        lambda x: x[1] if len(x) > 1 else 'unknown'\n",
    "    )\n",
    "\n",
    "create_email_features(train_df, 'P_emaildomain')\n",
    "create_email_features(train_df, 'R_emaildomain')"
   ],
   "outputs": [],
   "execution_count": 27
  },
  {
   "cell_type": "code",
   "metadata": {
    "ExecuteTime": {
     "end_time": "2024-11-21T12:43:48.657558Z",
     "start_time": "2024-11-21T12:43:48.655964Z"
    }
   },
   "source": [],
   "outputs": [],
   "execution_count": null
  },
  {
   "cell_type": "code",
   "metadata": {
    "ExecuteTime": {
     "end_time": "2024-11-21T12:43:48.687288Z",
     "start_time": "2024-11-21T12:43:48.685666Z"
    }
   },
   "source": [
    "\n"
   ],
   "outputs": [],
   "execution_count": 27
  },
  {
   "cell_type": "code",
   "metadata": {
    "ExecuteTime": {
     "end_time": "2024-11-21T12:43:48.725959Z",
     "start_time": "2024-11-21T12:43:48.724248Z"
    }
   },
   "source": [],
   "outputs": [],
   "execution_count": null
  },
  {
   "cell_type": "code",
   "metadata": {
    "ExecuteTime": {
     "end_time": "2024-11-21T12:43:49.742130Z",
     "start_time": "2024-11-21T12:43:48.752805Z"
    }
   },
   "source": [
    "cand_categorical_features = ([\n",
    "    'ProductCD',\n",
    "    'card1', 'card2', 'card3', 'card4', 'card5', 'card6',\n",
    "    'addr1', 'addr2',\n",
    "    'P_emaildomain_email_provider', 'P_emaildomain_email_tld',\n",
    "    'R_emaildomain_email_provider', 'R_emaildomain_email_tld',\n",
    "    'DeviceType', 'DeviceInfo',\n",
    "    'os', 'browser',\n",
    "]\n",
    "+ [f'id_{i}' for i in range(12, 39)] # id features\n",
    "+ [f'M{i}' for i in range(1, 10)]  # M features\n",
    ")\n",
    "\n",
    "cat_thr = 15\n",
    "categorical_features = [c for c in cand_categorical_features if c in train_df and train_df[c].nunique() < cat_thr]\n",
    "\n",
    "numerical_features = (\n",
    "    ['TransactionAmt', 'TransactionHour', 'TransactionDayOfWeek', 'dist1']\n",
    "    + ['P_emaildomain_fraud_corr', 'R_emaildomain_fraud_corr']\n",
    "    + new_v_features  # V features\n",
    "    + [f'D{i}' for i in range(1, 15) if f'D{i}' in train_df.columns] # D features.\n",
    "    + [c for c in train_df.columns if c.startswith(\"C\")] # C features\n",
    "    + [c for c in cand_categorical_features if c in train_df.columns and train_df[c].nunique() >= cat_thr and c != \"DeviceInfo\"]\n",
    "    + ['width', 'height']\n",
    ")\n",
    "\n",
    "print(categorical_features)\n",
    "print(numerical_features)"
   ],
   "outputs": [
    {
     "name": "stdout",
     "output_type": "stream",
     "text": [
      "['ProductCD', 'card4', 'card6', 'P_emaildomain_email_provider', 'P_emaildomain_email_tld', 'R_emaildomain_email_provider', 'R_emaildomain_email_tld', 'DeviceType', 'os', 'browser', 'id_12', 'id_15', 'id_16', 'id_28', 'id_29', 'id_32', 'id_34', 'id_35', 'id_36', 'id_37', 'id_38', 'M1', 'M2', 'M3', 'M4', 'M5', 'M6', 'M7', 'M8', 'M9']\n",
      "['TransactionAmt', 'TransactionHour', 'TransactionDayOfWeek', 'dist1', 'P_emaildomain_fraud_corr', 'R_emaildomain_fraud_corr', 'V_pca_0', 'V_pca_1', 'V_pca_2', 'V_pca_3', 'V_pca_4', 'V_pca_5', 'V_pca_6', 'V_pca_7', 'V_pca_8', 'V_pca_9', 'V_pca_10', 'V_pca_11', 'V_pca_12', 'V_pca_13', 'V_pca_14', 'V_pca_15', 'V_pca_16', 'V_pca_17', 'V_pca_18', 'V_pca_19', 'V_pca_20', 'V_pca_21', 'V_pca_22', 'V_pca_23', 'V_pca_24', 'V_pca_25', 'V_pca_26', 'D1', 'D2', 'D3', 'D4', 'D5', 'D6', 'D8', 'D9', 'D10', 'D11', 'D12', 'D13', 'D14', 'C1', 'C2', 'C3', 'C4', 'C5', 'C6', 'C7', 'C8', 'C9', 'C10', 'C11', 'C12', 'C13', 'C14', 'card1', 'card2', 'card3', 'card5', 'addr1', 'addr2', 'id_13', 'id_14', 'id_17', 'id_19', 'id_20', 'width', 'height']\n"
     ]
    }
   ],
   "execution_count": 28
  },
  {
   "cell_type": "code",
   "metadata": {
    "ExecuteTime": {
     "end_time": "2024-11-21T12:43:49.770688Z",
     "start_time": "2024-11-21T12:43:49.769302Z"
    }
   },
   "source": [],
   "outputs": [],
   "execution_count": null
  },
  {
   "cell_type": "markdown",
   "metadata": {},
   "source": [
    "### Remove outliers\n",
    "\n",
    "Convert outliers to NaNs so that they can be imputed."
   ]
  },
  {
   "cell_type": "code",
   "metadata": {
    "ExecuteTime": {
     "end_time": "2024-11-21T12:43:49.799507Z",
     "start_time": "2024-11-21T12:43:49.797483Z"
    }
   },
   "source": [
    "import math\n",
    "\n",
    "# cand_outlier_cols = [c for c in numerical_features if \"pca\" not in c and \"fraud_corr\" not in c]\n",
    "# num_features = len(cand_outlier_cols)\n",
    "# cols = 4\n",
    "# rows = math.ceil(num_features / cols)\n",
    "\n",
    "# fig, axes = plt.subplots(rows, cols, figsize=(15, 5 * rows), sharex=False)\n",
    "# axes = axes.flatten()\n",
    "# for i, col in enumerate(cand_outlier_cols):\n",
    "   \n",
    "#     sns.boxplot(ax=axes[i], x='isFraud', y=col, data=train_df, hue='isFraud')\n",
    "#     axes[i].set_title(f'{col} Box Plot by isFraud')\n",
    "#     axes[i].set_ylabel(col)\n",
    "#     axes[i].set_xlabel('isFraud')\n",
    "#     axes[i].legend(title='isFraud')\n",
    "# for j in range(i + 1, len(axes)):\n",
    "#     axes[j].axis('off')\n",
    "\n",
    "# plt.tight_layout()\n",
    "# plt.suptitle('Before outlier removal')\n",
    "# plt.show()"
   ],
   "outputs": [],
   "execution_count": 29
  },
  {
   "cell_type": "code",
   "metadata": {
    "ExecuteTime": {
     "end_time": "2024-11-21T12:43:49.827051Z",
     "start_time": "2024-11-21T12:43:49.825011Z"
    }
   },
   "source": [
    "# Use IQR method for outlier removal\n",
    "\n",
    "# If outliers are removed for features, the validation auc of RandomForest reduces from 0.9337 to 0.9317.\n",
    "# So the outlier removal is disabled.\n",
    "\n",
    "\n",
    "# for col in cand_categorical_features:\n",
    "#     Q1 = train_df[col].quantile(0.25)\n",
    "#     Q3 = train_df[col].quantile(0.75)\n",
    "#     IQR = Q3 - Q1\n",
    "#     lower_bound = Q1 - 1.5 * IQR\n",
    "#     upper_bound = Q3 + 1.5 * IQR\n",
    "    \n",
    "#     # Mark values outside the bounds as NaN\n",
    "#     train_df.loc[(train_df[col] < lower_bound) |  (train_df[col] > upper_bound), col] = np.nan\n",
    "\n",
    "\n",
    "# fig, axes = plt.subplots(rows, cols, figsize=(15, 5 * rows), sharex=False)\n",
    "# axes = axes.flatten()\n",
    "# for i, col in enumerate(cand_outlier_cols):\n",
    "   \n",
    "#     sns.boxplot(ax=axes[i], x='isFraud', y=col, data=train_df, hue='isFraud')\n",
    "#     axes[i].set_title(f'{col} Box Plot by isFraud')\n",
    "#     axes[i].set_ylabel(col)\n",
    "#     axes[i].set_xlabel('isFraud')\n",
    "#     axes[i].legend(title='isFraud')\n",
    "# for j in range(i + 1, len(axes)):\n",
    "#     axes[j].axis('off')\n",
    "\n",
    "# plt.tight_layout()\n",
    "# plt.suptitle('After outlier removal')\n",
    "# plt.show()"
   ],
   "outputs": [],
   "execution_count": 30
  },
  {
   "cell_type": "code",
   "metadata": {
    "ExecuteTime": {
     "end_time": "2024-11-21T12:43:49.856582Z",
     "start_time": "2024-11-21T12:43:49.855250Z"
    }
   },
   "source": [],
   "outputs": [],
   "execution_count": null
  },
  {
   "cell_type": "markdown",
   "metadata": {},
   "source": [
    "### Normalize numerical features"
   ]
  },
  {
   "cell_type": "code",
   "metadata": {
    "ExecuteTime": {
     "end_time": "2024-11-21T12:43:50.550236Z",
     "start_time": "2024-11-21T12:43:49.884158Z"
    }
   },
   "source": [
    "from sklearn.preprocessing import MinMaxScaler\n",
    "scaler = MinMaxScaler()\n",
    "\n",
    "train_df[numerical_features] = scaler.fit_transform(train_df[numerical_features])"
   ],
   "outputs": [],
   "execution_count": 31
  },
  {
   "cell_type": "markdown",
   "metadata": {},
   "source": [
    "### One hot encode categorical features"
   ]
  },
  {
   "cell_type": "code",
   "metadata": {
    "ExecuteTime": {
     "end_time": "2024-11-21T12:43:54.202185Z",
     "start_time": "2024-11-21T12:43:50.581403Z"
    }
   },
   "source": [
    "train_df_encoded = pd.get_dummies(train_df, columns=categorical_features, drop_first=True)\n",
    "new_categorical_columns = train_df_encoded.columns.difference(train_df.columns).tolist()\n",
    "new_categorical_columns"
   ],
   "outputs": [
    {
     "data": {
      "text/plain": [
       "['DeviceType_mobile',\n",
       " 'M1_T',\n",
       " 'M2_T',\n",
       " 'M3_T',\n",
       " 'M4_M1',\n",
       " 'M4_M2',\n",
       " 'M5_T',\n",
       " 'M6_T',\n",
       " 'M7_T',\n",
       " 'M8_T',\n",
       " 'M9_T',\n",
       " 'P_emaildomain_email_provider_hotmail.com',\n",
       " 'P_emaildomain_email_provider_icloud.com',\n",
       " 'P_emaildomain_email_provider_other',\n",
       " 'P_emaildomain_email_provider_outlook.com',\n",
       " 'P_emaildomain_email_provider_yahoo.com',\n",
       " 'ProductCD_H',\n",
       " 'ProductCD_R',\n",
       " 'ProductCD_S',\n",
       " 'ProductCD_W',\n",
       " 'R_emaildomain_email_provider_hotmail.com',\n",
       " 'R_emaildomain_email_provider_icloud.com',\n",
       " 'R_emaildomain_email_provider_other',\n",
       " 'R_emaildomain_email_provider_outlook.com',\n",
       " 'R_emaildomain_email_provider_yahoo.com',\n",
       " 'browser_chrome',\n",
       " 'browser_edge',\n",
       " 'browser_facebook',\n",
       " 'browser_firefox',\n",
       " 'browser_google',\n",
       " 'browser_ie',\n",
       " 'browser_mobile',\n",
       " 'browser_opera',\n",
       " 'browser_other',\n",
       " 'browser_safari',\n",
       " 'browser_samsung',\n",
       " 'browser_unknown',\n",
       " 'browser_windows',\n",
       " 'card4_discover',\n",
       " 'card4_mastercard',\n",
       " 'card4_visa',\n",
       " 'card6_credit',\n",
       " 'card6_debit',\n",
       " 'card6_debit or credit',\n",
       " 'id_12_NotFound',\n",
       " 'id_15_New',\n",
       " 'id_15_Unknown',\n",
       " 'id_16_NotFound',\n",
       " 'id_28_New',\n",
       " 'id_29_NotFound',\n",
       " 'id_32_16.0',\n",
       " 'id_32_24.0',\n",
       " 'id_32_32.0',\n",
       " 'id_34_match_status:0',\n",
       " 'id_34_match_status:1',\n",
       " 'id_34_match_status:2',\n",
       " 'id_35_T',\n",
       " 'id_36_T',\n",
       " 'id_37_T',\n",
       " 'id_38_T',\n",
       " 'os_Linux',\n",
       " 'os_Mac',\n",
       " 'os_Windows',\n",
       " 'os_func',\n",
       " 'os_iOS',\n",
       " 'os_other']"
      ]
     },
     "execution_count": 32,
     "metadata": {},
     "output_type": "execute_result"
    }
   ],
   "execution_count": 32
  },
  {
   "cell_type": "code",
   "metadata": {
    "ExecuteTime": {
     "end_time": "2024-11-21T12:43:54.256326Z",
     "start_time": "2024-11-21T12:43:54.245866Z"
    }
   },
   "source": [
    "train_df_encoded.head()"
   ],
   "outputs": [
    {
     "data": {
      "text/plain": [
       "   TransactionID  isFraud  TransactionDT  TransactionAmt     card1  card2  \\\n",
       "0        2987000        0          86400        0.002137  0.743044    NaN   \n",
       "1        2987001        0          86401        0.000900  0.100885  0.608   \n",
       "2        2987002        0          86469        0.001840  0.210566  0.780   \n",
       "3        2987003        0          86499        0.001558  0.984824  0.934   \n",
       "4        2987004        0          86506        0.001558  0.201023  0.828   \n",
       "\n",
       "      card3     card5     addr1     addr2  ...   M1_T   M2_T   M3_T  M4_M1  \\\n",
       "0  0.381679  0.306569  0.488636  0.836957  ...   True   True   True  False   \n",
       "1  0.381679  0.014599  0.511364  0.836957  ...  False  False  False  False   \n",
       "2  0.381679  0.481752  0.522727  0.836957  ...   True   True   True  False   \n",
       "3  0.381679  0.124088  0.854545  0.836957  ...  False  False  False  False   \n",
       "4  0.381679  0.014599  0.727273  0.836957  ...  False  False  False  False   \n",
       "\n",
       "   M4_M2   M5_T   M6_T   M7_T   M8_T   M9_T  \n",
       "0   True  False   True  False  False  False  \n",
       "1  False   True   True  False  False  False  \n",
       "2  False  False  False  False  False  False  \n",
       "3  False   True  False  False  False  False  \n",
       "4  False  False  False  False  False  False  \n",
       "\n",
       "[5 rows x 494 columns]"
      ],
      "text/html": [
       "<div>\n",
       "<style scoped>\n",
       "    .dataframe tbody tr th:only-of-type {\n",
       "        vertical-align: middle;\n",
       "    }\n",
       "\n",
       "    .dataframe tbody tr th {\n",
       "        vertical-align: top;\n",
       "    }\n",
       "\n",
       "    .dataframe thead th {\n",
       "        text-align: right;\n",
       "    }\n",
       "</style>\n",
       "<table border=\"1\" class=\"dataframe\">\n",
       "  <thead>\n",
       "    <tr style=\"text-align: right;\">\n",
       "      <th></th>\n",
       "      <th>TransactionID</th>\n",
       "      <th>isFraud</th>\n",
       "      <th>TransactionDT</th>\n",
       "      <th>TransactionAmt</th>\n",
       "      <th>card1</th>\n",
       "      <th>card2</th>\n",
       "      <th>card3</th>\n",
       "      <th>card5</th>\n",
       "      <th>addr1</th>\n",
       "      <th>addr2</th>\n",
       "      <th>...</th>\n",
       "      <th>M1_T</th>\n",
       "      <th>M2_T</th>\n",
       "      <th>M3_T</th>\n",
       "      <th>M4_M1</th>\n",
       "      <th>M4_M2</th>\n",
       "      <th>M5_T</th>\n",
       "      <th>M6_T</th>\n",
       "      <th>M7_T</th>\n",
       "      <th>M8_T</th>\n",
       "      <th>M9_T</th>\n",
       "    </tr>\n",
       "  </thead>\n",
       "  <tbody>\n",
       "    <tr>\n",
       "      <th>0</th>\n",
       "      <td>2987000</td>\n",
       "      <td>0</td>\n",
       "      <td>86400</td>\n",
       "      <td>0.002137</td>\n",
       "      <td>0.743044</td>\n",
       "      <td>NaN</td>\n",
       "      <td>0.381679</td>\n",
       "      <td>0.306569</td>\n",
       "      <td>0.488636</td>\n",
       "      <td>0.836957</td>\n",
       "      <td>...</td>\n",
       "      <td>True</td>\n",
       "      <td>True</td>\n",
       "      <td>True</td>\n",
       "      <td>False</td>\n",
       "      <td>True</td>\n",
       "      <td>False</td>\n",
       "      <td>True</td>\n",
       "      <td>False</td>\n",
       "      <td>False</td>\n",
       "      <td>False</td>\n",
       "    </tr>\n",
       "    <tr>\n",
       "      <th>1</th>\n",
       "      <td>2987001</td>\n",
       "      <td>0</td>\n",
       "      <td>86401</td>\n",
       "      <td>0.000900</td>\n",
       "      <td>0.100885</td>\n",
       "      <td>0.608</td>\n",
       "      <td>0.381679</td>\n",
       "      <td>0.014599</td>\n",
       "      <td>0.511364</td>\n",
       "      <td>0.836957</td>\n",
       "      <td>...</td>\n",
       "      <td>False</td>\n",
       "      <td>False</td>\n",
       "      <td>False</td>\n",
       "      <td>False</td>\n",
       "      <td>False</td>\n",
       "      <td>True</td>\n",
       "      <td>True</td>\n",
       "      <td>False</td>\n",
       "      <td>False</td>\n",
       "      <td>False</td>\n",
       "    </tr>\n",
       "    <tr>\n",
       "      <th>2</th>\n",
       "      <td>2987002</td>\n",
       "      <td>0</td>\n",
       "      <td>86469</td>\n",
       "      <td>0.001840</td>\n",
       "      <td>0.210566</td>\n",
       "      <td>0.780</td>\n",
       "      <td>0.381679</td>\n",
       "      <td>0.481752</td>\n",
       "      <td>0.522727</td>\n",
       "      <td>0.836957</td>\n",
       "      <td>...</td>\n",
       "      <td>True</td>\n",
       "      <td>True</td>\n",
       "      <td>True</td>\n",
       "      <td>False</td>\n",
       "      <td>False</td>\n",
       "      <td>False</td>\n",
       "      <td>False</td>\n",
       "      <td>False</td>\n",
       "      <td>False</td>\n",
       "      <td>False</td>\n",
       "    </tr>\n",
       "    <tr>\n",
       "      <th>3</th>\n",
       "      <td>2987003</td>\n",
       "      <td>0</td>\n",
       "      <td>86499</td>\n",
       "      <td>0.001558</td>\n",
       "      <td>0.984824</td>\n",
       "      <td>0.934</td>\n",
       "      <td>0.381679</td>\n",
       "      <td>0.124088</td>\n",
       "      <td>0.854545</td>\n",
       "      <td>0.836957</td>\n",
       "      <td>...</td>\n",
       "      <td>False</td>\n",
       "      <td>False</td>\n",
       "      <td>False</td>\n",
       "      <td>False</td>\n",
       "      <td>False</td>\n",
       "      <td>True</td>\n",
       "      <td>False</td>\n",
       "      <td>False</td>\n",
       "      <td>False</td>\n",
       "      <td>False</td>\n",
       "    </tr>\n",
       "    <tr>\n",
       "      <th>4</th>\n",
       "      <td>2987004</td>\n",
       "      <td>0</td>\n",
       "      <td>86506</td>\n",
       "      <td>0.001558</td>\n",
       "      <td>0.201023</td>\n",
       "      <td>0.828</td>\n",
       "      <td>0.381679</td>\n",
       "      <td>0.014599</td>\n",
       "      <td>0.727273</td>\n",
       "      <td>0.836957</td>\n",
       "      <td>...</td>\n",
       "      <td>False</td>\n",
       "      <td>False</td>\n",
       "      <td>False</td>\n",
       "      <td>False</td>\n",
       "      <td>False</td>\n",
       "      <td>False</td>\n",
       "      <td>False</td>\n",
       "      <td>False</td>\n",
       "      <td>False</td>\n",
       "      <td>False</td>\n",
       "    </tr>\n",
       "  </tbody>\n",
       "</table>\n",
       "<p>5 rows × 494 columns</p>\n",
       "</div>"
      ]
     },
     "execution_count": 33,
     "metadata": {},
     "output_type": "execute_result"
    }
   ],
   "execution_count": 33
  },
  {
   "cell_type": "code",
   "metadata": {
    "ExecuteTime": {
     "end_time": "2024-11-21T12:43:54.524433Z",
     "start_time": "2024-11-21T12:43:54.354658Z"
    }
   },
   "source": [
    "X = train_df_encoded[new_categorical_columns + numerical_features]\n",
    "y = train_df_encoded['isFraud'].to_numpy()\n",
    "\n",
    "print(f'{X.shape = }')\n",
    "print(f'{y.shape = }')"
   ],
   "outputs": [
    {
     "name": "stdout",
     "output_type": "stream",
     "text": [
      "X.shape = (590540, 139)\n",
      "y.shape = (590540,)\n"
     ]
    }
   ],
   "execution_count": 34
  },
  {
   "cell_type": "code",
   "metadata": {
    "ExecuteTime": {
     "end_time": "2024-11-21T12:43:55.233915Z",
     "start_time": "2024-11-21T12:43:54.680033Z"
    }
   },
   "source": [
    "from sklearn.model_selection import train_test_split\n",
    "\n",
    "X_train, X_val, y_train, y_val = train_test_split(X, y, test_size=0.2, stratify=y, random_state=42)\n",
    "\n",
    "print(f'{X_train.shape = }')\n",
    "print(f'{y_train.shape = }')\n",
    "print(f'{X_val.shape = }')\n",
    "print(f'{y_val.shape = }')"
   ],
   "outputs": [
    {
     "name": "stdout",
     "output_type": "stream",
     "text": [
      "X_train.shape = (472432, 139)\n",
      "y_train.shape = (472432,)\n",
      "X_val.shape = (118108, 139)\n",
      "y_val.shape = (118108,)\n"
     ]
    }
   ],
   "execution_count": 35
  },
  {
   "cell_type": "code",
   "metadata": {
    "ExecuteTime": {
     "end_time": "2024-11-21T12:45:41.056552Z",
     "start_time": "2024-11-21T12:45:40.984351Z"
    }
   },
   "source": [
    "[c for c in train_df_encoded[new_categorical_columns].columns]\n",
    "train_df_encoded[new_categorical_columns].head()"
   ],
   "outputs": [
    {
     "data": {
      "text/plain": [
       "   DeviceType_mobile   M1_T   M2_T   M3_T  M4_M1  M4_M2   M5_T   M6_T   M7_T  \\\n",
       "0              False   True   True   True  False   True  False   True  False   \n",
       "1              False  False  False  False  False  False   True   True  False   \n",
       "2              False   True   True   True  False  False  False  False  False   \n",
       "3              False  False  False  False  False  False   True  False  False   \n",
       "4               True  False  False  False  False  False  False  False  False   \n",
       "\n",
       "    M8_T  ...  id_35_T  id_36_T  id_37_T  id_38_T  os_Linux  os_Mac  \\\n",
       "0  False  ...    False    False    False    False     False   False   \n",
       "1  False  ...    False    False    False    False     False   False   \n",
       "2  False  ...    False    False    False    False     False   False   \n",
       "3  False  ...    False    False    False    False     False   False   \n",
       "4  False  ...     True    False     True     True     False   False   \n",
       "\n",
       "   os_Windows  os_func  os_iOS  os_other  \n",
       "0       False    False   False     False  \n",
       "1       False    False   False     False  \n",
       "2       False    False   False     False  \n",
       "3       False    False   False     False  \n",
       "4       False    False   False     False  \n",
       "\n",
       "[5 rows x 66 columns]"
      ],
      "text/html": [
       "<div>\n",
       "<style scoped>\n",
       "    .dataframe tbody tr th:only-of-type {\n",
       "        vertical-align: middle;\n",
       "    }\n",
       "\n",
       "    .dataframe tbody tr th {\n",
       "        vertical-align: top;\n",
       "    }\n",
       "\n",
       "    .dataframe thead th {\n",
       "        text-align: right;\n",
       "    }\n",
       "</style>\n",
       "<table border=\"1\" class=\"dataframe\">\n",
       "  <thead>\n",
       "    <tr style=\"text-align: right;\">\n",
       "      <th></th>\n",
       "      <th>DeviceType_mobile</th>\n",
       "      <th>M1_T</th>\n",
       "      <th>M2_T</th>\n",
       "      <th>M3_T</th>\n",
       "      <th>M4_M1</th>\n",
       "      <th>M4_M2</th>\n",
       "      <th>M5_T</th>\n",
       "      <th>M6_T</th>\n",
       "      <th>M7_T</th>\n",
       "      <th>M8_T</th>\n",
       "      <th>...</th>\n",
       "      <th>id_35_T</th>\n",
       "      <th>id_36_T</th>\n",
       "      <th>id_37_T</th>\n",
       "      <th>id_38_T</th>\n",
       "      <th>os_Linux</th>\n",
       "      <th>os_Mac</th>\n",
       "      <th>os_Windows</th>\n",
       "      <th>os_func</th>\n",
       "      <th>os_iOS</th>\n",
       "      <th>os_other</th>\n",
       "    </tr>\n",
       "  </thead>\n",
       "  <tbody>\n",
       "    <tr>\n",
       "      <th>0</th>\n",
       "      <td>False</td>\n",
       "      <td>True</td>\n",
       "      <td>True</td>\n",
       "      <td>True</td>\n",
       "      <td>False</td>\n",
       "      <td>True</td>\n",
       "      <td>False</td>\n",
       "      <td>True</td>\n",
       "      <td>False</td>\n",
       "      <td>False</td>\n",
       "      <td>...</td>\n",
       "      <td>False</td>\n",
       "      <td>False</td>\n",
       "      <td>False</td>\n",
       "      <td>False</td>\n",
       "      <td>False</td>\n",
       "      <td>False</td>\n",
       "      <td>False</td>\n",
       "      <td>False</td>\n",
       "      <td>False</td>\n",
       "      <td>False</td>\n",
       "    </tr>\n",
       "    <tr>\n",
       "      <th>1</th>\n",
       "      <td>False</td>\n",
       "      <td>False</td>\n",
       "      <td>False</td>\n",
       "      <td>False</td>\n",
       "      <td>False</td>\n",
       "      <td>False</td>\n",
       "      <td>True</td>\n",
       "      <td>True</td>\n",
       "      <td>False</td>\n",
       "      <td>False</td>\n",
       "      <td>...</td>\n",
       "      <td>False</td>\n",
       "      <td>False</td>\n",
       "      <td>False</td>\n",
       "      <td>False</td>\n",
       "      <td>False</td>\n",
       "      <td>False</td>\n",
       "      <td>False</td>\n",
       "      <td>False</td>\n",
       "      <td>False</td>\n",
       "      <td>False</td>\n",
       "    </tr>\n",
       "    <tr>\n",
       "      <th>2</th>\n",
       "      <td>False</td>\n",
       "      <td>True</td>\n",
       "      <td>True</td>\n",
       "      <td>True</td>\n",
       "      <td>False</td>\n",
       "      <td>False</td>\n",
       "      <td>False</td>\n",
       "      <td>False</td>\n",
       "      <td>False</td>\n",
       "      <td>False</td>\n",
       "      <td>...</td>\n",
       "      <td>False</td>\n",
       "      <td>False</td>\n",
       "      <td>False</td>\n",
       "      <td>False</td>\n",
       "      <td>False</td>\n",
       "      <td>False</td>\n",
       "      <td>False</td>\n",
       "      <td>False</td>\n",
       "      <td>False</td>\n",
       "      <td>False</td>\n",
       "    </tr>\n",
       "    <tr>\n",
       "      <th>3</th>\n",
       "      <td>False</td>\n",
       "      <td>False</td>\n",
       "      <td>False</td>\n",
       "      <td>False</td>\n",
       "      <td>False</td>\n",
       "      <td>False</td>\n",
       "      <td>True</td>\n",
       "      <td>False</td>\n",
       "      <td>False</td>\n",
       "      <td>False</td>\n",
       "      <td>...</td>\n",
       "      <td>False</td>\n",
       "      <td>False</td>\n",
       "      <td>False</td>\n",
       "      <td>False</td>\n",
       "      <td>False</td>\n",
       "      <td>False</td>\n",
       "      <td>False</td>\n",
       "      <td>False</td>\n",
       "      <td>False</td>\n",
       "      <td>False</td>\n",
       "    </tr>\n",
       "    <tr>\n",
       "      <th>4</th>\n",
       "      <td>True</td>\n",
       "      <td>False</td>\n",
       "      <td>False</td>\n",
       "      <td>False</td>\n",
       "      <td>False</td>\n",
       "      <td>False</td>\n",
       "      <td>False</td>\n",
       "      <td>False</td>\n",
       "      <td>False</td>\n",
       "      <td>False</td>\n",
       "      <td>...</td>\n",
       "      <td>True</td>\n",
       "      <td>False</td>\n",
       "      <td>True</td>\n",
       "      <td>True</td>\n",
       "      <td>False</td>\n",
       "      <td>False</td>\n",
       "      <td>False</td>\n",
       "      <td>False</td>\n",
       "      <td>False</td>\n",
       "      <td>False</td>\n",
       "    </tr>\n",
       "  </tbody>\n",
       "</table>\n",
       "<p>5 rows × 66 columns</p>\n",
       "</div>"
      ]
     },
     "execution_count": 38,
     "metadata": {},
     "output_type": "execute_result"
    }
   ],
   "execution_count": 38
  },
  {
   "cell_type": "markdown",
   "metadata": {},
   "source": []
  },
  {
   "cell_type": "markdown",
   "metadata": {},
   "source": [
    "### Random Forest"
   ]
  },
  {
   "cell_type": "code",
   "execution_count": null,
   "metadata": {},
   "outputs": [],
   "source": [
    "# from sklearn.ensemble import RandomForestClassifier\n",
    "# from sklearn.model_selection import GridSearchCV\n",
    "# from sklearn import metrics\n",
    "\n",
    "# rf = RandomForestClassifier(random_state=42, n_jobs=-1)\n",
    "\n",
    "# param_grid = {\n",
    "#     'n_estimators': [100, 200, 300],\n",
    "#     'max_depth': [None, 10, 20, 30],\n",
    "#     'min_samples_split': [2, 5, 10],\n",
    "#     'min_samples_leaf': [1, 2, 4],\n",
    "#     'max_features': ['sqrt', 'log2'],\n",
    "# }\n",
    "\n",
    "# grid_search = GridSearchCV(\n",
    "#     estimator=rf, \n",
    "#     param_grid=param_grid, \n",
    "#     scoring='roc_auc',\n",
    "#     cv=5,\n",
    "#     verbose=2, \n",
    "#     n_jobs=-1\n",
    "# )\n",
    "\n",
    "# grid_search.fit(X_train, y_train)\n",
    "\n",
    "# best_params = grid_search.best_params_\n",
    "# best_model = grid_search.best_estimator_\n",
    "# print(best_params)"
   ]
  },
  {
   "cell_type": "code",
   "metadata": {
    "ExecuteTime": {
     "end_time": "2024-11-21T13:49:06.627965Z",
     "start_time": "2024-11-21T13:49:06.620135Z"
    }
   },
   "source": [
    "from sklearn import metrics\n",
    "\n",
    "def evaluate(model, X_val, y_val):\n",
    "    preds_val = model.predict(X_val)\n",
    "    report_dict = metrics.classification_report(y_val, preds_val, output_dict=True)\n",
    "    report_df = pd.DataFrame(report_dict).transpose()\n",
    "    formatted_report = report_df.round(4)\n",
    "    print(formatted_report)\n",
    "\n",
    "    probs_val = model.predict_proba(X_val)[:, 1]\n",
    "    fpr, tpr, _ = metrics.roc_curve(y_val, probs_val)\n",
    "    roc_auc = metrics.auc(fpr, tpr)\n",
    "    print(f'val auc: {roc_auc:.4f}')\n",
    "\n",
    "    plt.figure(figsize=(4, 4), dpi=200)\n",
    "    plt.title('ROC curve')\n",
    "    plt.plot(fpr, tpr, label=f'AUC: {roc_auc:.2f}')\n",
    "    plt.legend()\n",
    "    plt.show()"
   ],
   "outputs": [],
   "execution_count": 63
  },
  {
   "cell_type": "code",
   "metadata": {
    "ExecuteTime": {
     "end_time": "2024-11-21T08:36:41.582556Z",
     "start_time": "2024-11-21T08:34:51.097720Z"
    }
   },
   "source": [
    "# from sklearn.ensemble import RandomForestClassifier\n",
    "#\n",
    "# rf = RandomForestClassifier(n_estimators=100, random_state=42, n_jobs=-1)\n",
    "#\n",
    "# rf.fit(X_train, y_train)\n",
    "\n",
    "from sklearn.impute import SimpleImputer\n",
    "from sklearn.ensemble import RandomForestClassifier\n",
    "from sklearn.pipeline import Pipeline\n",
    "\n",
    "# Define a pipeline\n",
    "rf = Pipeline(steps=[\n",
    "    ('imputer', SimpleImputer(strategy='mean')),  # Options: 'mean', 'median', 'most_frequent'\n",
    "    ('classifier', RandomForestClassifier())\n",
    "])\n",
    "\n",
    "# Fit the pipeline\n",
    "rf.fit(X_train, y_train)\n",
    "evaluate(rf, X_val, y_val)\n",
    "\n"
   ],
   "outputs": [
    {
     "name": "stdout",
     "output_type": "stream",
     "text": [
      "              precision  recall  f1-score      support\n",
      "0                0.9809  0.9991    0.9899  113975.0000\n",
      "1                0.9476  0.4638    0.6228    4133.0000\n",
      "accuracy         0.9803  0.9803    0.9803       0.9803\n",
      "macro avg        0.9643  0.7314    0.8064  118108.0000\n",
      "weighted avg     0.9797  0.9803    0.9771  118108.0000\n",
      "val auc: 0.9327\n"
     ]
    },
    {
     "data": {
      "text/plain": [
       "<Figure size 600x600 with 1 Axes>"
      ],
      "image/png": "[encoded data removed]"
     },
     "metadata": {},
     "output_type": "display_data"
    }
   ],
   "execution_count": 43
  },
  {
   "cell_type": "markdown",
   "metadata": {},
   "source": []
  },
  {
   "cell_type": "markdown",
   "metadata": {},
   "source": [
    "### Missing value imputation\n",
    "\n",
    "Impute missing value for non-tree models."
   ]
  },
  {
   "cell_type": "code",
   "metadata": {
    "ExecuteTime": {
     "end_time": "2024-11-21T12:45:47.529553Z",
     "start_time": "2024-11-21T12:45:47.196877Z"
    }
   },
   "source": [
    "# Impute missing values for numerical columns with the mean\n",
    "for col in numerical_features:\n",
    "    mean_col = X_train[col].mean()\n",
    "    X_train[col] = X_train[col].fillna(mean_col)\n",
    "    X_val[col] = X_val[col].fillna(mean_col)"
   ],
   "outputs": [],
   "execution_count": 39
  },
  {
   "cell_type": "code",
   "metadata": {
    "ExecuteTime": {
     "end_time": "2024-11-21T12:45:48.408263Z",
     "start_time": "2024-11-21T12:45:48.249490Z"
    }
   },
   "source": [
    "# Impute missing values for categorical columns with the mode\n",
    "for col in new_categorical_columns:\n",
    "    mode_col = X_train[col].mode()[0]\n",
    "    X_train[col] = X_train[col].fillna(mode_col)\n",
    "    X_val[col] = X_val[col].fillna(mode_col)"
   ],
   "outputs": [],
   "execution_count": 40
  },
  {
   "metadata": {},
   "cell_type": "markdown",
   "source": "# Support Vector Machine"
  },
  {
   "cell_type": "code",
   "metadata": {
    "ExecuteTime": {
     "end_time": "2024-11-21T13:12:38.594249Z",
     "start_time": "2024-11-21T12:51:23.353530Z"
    }
   },
   "source": [
    "from sklearn.svm import SVC\n",
    "\n",
    "# Define a pipeline\n",
    "svm = Pipeline(steps=[\n",
    "    ('imputer', SimpleImputer(strategy='median')),  # Options: 'mean', 'median', 'most_frequent'\n",
    "    ('classifier', SVC(max_iter=1000, verbose=1, probability=True))\n",
    "])\n",
    "\n",
    "svm.fit(X_train, y_train)\n",
    "evaluate(svm, X_val, y_val)\n"
   ],
   "outputs": [
    {
     "name": "stdout",
     "output_type": "stream",
     "text": [
      "[LibSVM]WARN: libsvm Solver reached max_iter\n",
      "optimization finished, #iter = 1000\n",
      "obj = -1972.164346, rho = -0.276759\n",
      "nSV = 2000, nBSV = 2000\n",
      "Total nSV = 2000\n",
      "WARN: libsvm Solver reached max_iter\n",
      "optimization finished, #iter = 1000\n",
      "obj = -1974.984658, rho = -0.460811\n",
      "nSV = 2000, nBSV = 2000\n",
      "Total nSV = 2000\n",
      "WARN: libsvm Solver reached max_iter\n",
      "optimization finished, #iter = 1000\n",
      "obj = -1979.933255, rho = -0.295652\n",
      "nSV = 2000, nBSV = 2000\n",
      "Total nSV = 2000\n",
      "WARN: libsvm Solver reached max_iter\n",
      "optimization finished, #iter = 1000\n",
      "obj = -1976.036276, rho = -0.232672\n",
      "nSV = 2000, nBSV = 2000\n",
      "Total nSV = 2000\n",
      "WARN: libsvm Solver reached max_iter\n",
      "optimization finished, #iter = 1000\n",
      "obj = -1987.121483, rho = -0.878673\n",
      "nSV = 2000, nBSV = 2000\n",
      "Total nSV = 2000\n",
      "WARN: libsvm Solver reached max_iter\n",
      "optimization finished, #iter = 1000\n",
      "obj = -1997.825297, rho = -0.617228\n",
      "nSV = 2000, nBSV = 2000\n",
      "Total nSV = 2000\n"
     ]
    },
    {
     "name": "stderr",
     "output_type": "stream",
     "text": [
      "/Users/hims/anaconda3/envs/python310/lib/python3.10/site-packages/sklearn/svm/_base.py:299: ConvergenceWarning: Solver terminated early (max_iter=1000).  Consider pre-processing your data with StandardScaler or MinMaxScaler.\n",
      "  warnings.warn(\n"
     ]
    },
    {
     "name": "stdout",
     "output_type": "stream",
     "text": [
      "              precision  recall  f1-score      support\n",
      "0                0.9637  0.7949    0.8712  113975.0000\n",
      "1                0.0299  0.1744    0.0511    4133.0000\n",
      "accuracy         0.7732  0.7732    0.7732       0.7732\n",
      "macro avg        0.4968  0.4847    0.4611  118108.0000\n",
      "weighted avg     0.9310  0.7732    0.8425  118108.0000\n",
      "val auc: 0.5751\n"
     ]
    },
    {
     "data": {
      "text/plain": [
       "<Figure size 600x600 with 1 Axes>"
      ],
      "image/png": "[encoded data removed]"
     },
     "metadata": {},
     "output_type": "display_data"
    }
   ],
   "execution_count": 47
  },
  {
   "cell_type": "code",
   "execution_count": null,
   "metadata": {},
   "outputs": [],
   "source": ""
  },
  {
   "cell_type": "markdown",
   "metadata": {},
   "source": [
    "### Logistic Regression"
   ]
  },
  {
   "cell_type": "code",
   "metadata": {
    "ExecuteTime": {
     "end_time": "2024-11-21T12:49:35.542882Z",
     "start_time": "2024-11-21T12:48:24.307807Z"
    }
   },
   "source": [
    "from sklearn.linear_model import LogisticRegression\n",
    "\n",
    "# lr = LogisticRegression()\n",
    "\n",
    "# Define a pipeline\n",
    "lr = Pipeline(steps=[\n",
    "    ('imputer', SimpleImputer(strategy='mean')),  # Options: 'mean', 'median', 'most_frequent'\n",
    "    ('classifier', LogisticRegression(max_iter=1000, verbose=1))\n",
    "])\n",
    "\n",
    "lr.fit(X_train, y_train)\n",
    "\n",
    "evaluate(lr, X_val, y_val)"
   ],
   "outputs": [
    {
     "name": "stderr",
     "output_type": "stream",
     "text": [
      "[Parallel(n_jobs=1)]: Using backend SequentialBackend with 1 concurrent workers.\n",
      " This problem is unconstrained.\n"
     ]
    },
    {
     "name": "stdout",
     "output_type": "stream",
     "text": [
      "RUNNING THE L-BFGS-B CODE\n",
      "\n",
      "           * * *\n",
      "\n",
      "Machine precision = 2.220D-16\n",
      " N =          140     M =           10\n",
      "\n",
      "At X0         0 variables are exactly at the bounds\n",
      "\n",
      "At iterate    0    f=  3.27465D+05    |proj g|=  2.19686D+05\n",
      "\n",
      "At iterate   50    f=  5.84455D+04    |proj g|=  1.66208D+02\n",
      "\n",
      "At iterate  100    f=  5.81476D+04    |proj g|=  7.51553D+01\n",
      "\n",
      "At iterate  150    f=  5.79978D+04    |proj g|=  4.55958D+01\n",
      "\n",
      "At iterate  200    f=  5.79174D+04    |proj g|=  6.52100D+01\n",
      "\n",
      "At iterate  250    f=  5.78888D+04    |proj g|=  1.07955D+01\n",
      "\n",
      "At iterate  300    f=  5.78827D+04    |proj g|=  6.46914D+00\n",
      "\n",
      "At iterate  350    f=  5.78807D+04    |proj g|=  5.91920D+00\n",
      "\n",
      "At iterate  400    f=  5.78795D+04    |proj g|=  3.13030D+00\n",
      "\n",
      "At iterate  450    f=  5.78790D+04    |proj g|=  1.83900D+00\n",
      "\n",
      "At iterate  500    f=  5.78788D+04    |proj g|=  4.78279D+00\n",
      "\n",
      "At iterate  550    f=  5.78786D+04    |proj g|=  4.45595D+00\n",
      "\n",
      "At iterate  600    f=  5.78786D+04    |proj g|=  1.10648D+00\n"
     ]
    },
    {
     "name": "stderr",
     "output_type": "stream",
     "text": [
      "[Parallel(n_jobs=1)]: Done   1 out of   1 | elapsed:  1.1min finished\n"
     ]
    },
    {
     "name": "stdout",
     "output_type": "stream",
     "text": [
      "\n",
      "           * * *\n",
      "\n",
      "Tit   = total number of iterations\n",
      "Tnf   = total number of function evaluations\n",
      "Tnint = total number of segments explored during Cauchy searches\n",
      "Skip  = number of BFGS updates skipped\n",
      "Nact  = number of active bounds at final generalized Cauchy point\n",
      "Projg = norm of the final projected gradient\n",
      "F     = final function value\n",
      "\n",
      "           * * *\n",
      "\n",
      "   N    Tit     Tnf  Tnint  Skip  Nact     Projg        F\n",
      "  140    629    694      1     0     0   1.227D+00   5.788D+04\n",
      "  F =   57878.577309133820     \n",
      "\n",
      "CONVERGENCE: REL_REDUCTION_OF_F_<=_FACTR*EPSMCH             \n",
      "              precision  recall  f1-score      support\n",
      "0                0.9669  0.9991    0.9827  113975.0000\n",
      "1                0.6994  0.0569    0.1052    4133.0000\n",
      "accuracy         0.9661  0.9661    0.9661       0.9661\n",
      "macro avg        0.8332  0.5280    0.5440  118108.0000\n",
      "weighted avg     0.9575  0.9661    0.9520  118108.0000\n",
      "val auc: 0.8202\n"
     ]
    },
    {
     "data": {
      "text/plain": [
       "<Figure size 600x600 with 1 Axes>"
      ],
      "image/png": "[encoded data removed]"
     },
     "metadata": {},
     "output_type": "display_data"
    }
   ],
   "execution_count": 46
  },
  {
   "cell_type": "markdown",
   "metadata": {},
   "source": [
    "### Naives Bayes"
   ]
  },
  {
   "cell_type": "code",
   "metadata": {
    "ExecuteTime": {
     "end_time": "2024-11-21T12:46:31.787843Z",
     "start_time": "2024-11-21T12:46:25.175701Z"
    }
   },
   "source": [
    "from sklearn.naive_bayes import GaussianNB\n",
    "from sklearn.impute import SimpleImputer\n",
    "from sklearn.pipeline import Pipeline\n",
    "\n",
    "gnb = Pipeline(steps=[\n",
    "    ('imputer', SimpleImputer(strategy='mean')),  # Options: 'mean', 'median', 'most_frequent'\n",
    "    ('classifier', GaussianNB())\n",
    "])\n",
    "\n",
    "gnb.fit(X_train, y_train)\n",
    "\n",
    "evaluate(gnb, X_val, y_val)"
   ],
   "outputs": [
    {
     "name": "stdout",
     "output_type": "stream",
     "text": [
      "              precision  recall  f1-score      support\n",
      "0                0.9828  0.7289    0.8370  113975.0000\n",
      "1                0.0797  0.6477    0.1420    4133.0000\n",
      "accuracy         0.7261  0.7261    0.7261       0.7261\n",
      "macro avg        0.5313  0.6883    0.4895  118108.0000\n",
      "weighted avg     0.9512  0.7261    0.8127  118108.0000\n",
      "val auc: 0.7314\n"
     ]
    },
    {
     "data": {
      "text/plain": [
       "<Figure size 600x600 with 1 Axes>"
      ],
      "image/png": "[encoded data removed]"
     },
     "metadata": {},
     "output_type": "display_data"
    }
   ],
   "execution_count": 44
  },
  {
   "metadata": {},
   "cell_type": "markdown",
   "source": "# Decision Tree"
  },
  {
   "cell_type": "code",
   "metadata": {
    "ExecuteTime": {
     "end_time": "2024-11-21T13:16:14.717499Z",
     "start_time": "2024-11-21T13:15:31.392210Z"
    }
   },
   "source": [
    "import matplotlib.pyplot as plt\n",
    "from sklearn.metrics import confusion_matrix, roc_curve, roc_auc_score, precision_recall_curve, accuracy_score, f1_score, precision_score, recall_score\n",
    "import seaborn as sns\n",
    "from sklearn.metrics import ConfusionMatrixDisplay\n",
    "from sklearn.tree import DecisionTreeClassifier\n",
    "from sklearn.model_selection import GridSearchCV, PredefinedSplit\n",
    "import collections\n",
    "\n",
    "def classification_metrics_and_plots(model, X_train, y_train, X_val, y_val):\n",
    "    # Predict probabilities\n",
    "    train_proba = model.predict_proba(X_train)[:, 1]\n",
    "    val_proba = model.predict_proba(X_val)[:, 1]\n",
    "\n",
    "    # Calculate metrics\n",
    "    metrics = {}\n",
    "    metrics[\"actual\"] = collections.Counter(y_val)\n",
    "    # metrics[\"predicted\"] = collections.Counter(val_proba)\n",
    "    metrics['train_auc'] = roc_auc_score(y_train, train_proba)\n",
    "    metrics['accuracy'] = accuracy_score(y_val, model.predict(X_val))\n",
    "    metrics['f1_score'] = f1_score(y_val, model.predict(X_val))\n",
    "    metrics['precision'] = precision_score(y_val, model.predict(X_val))\n",
    "    metrics['recall'] = recall_score(y_val, model.predict(X_val))\n",
    "    metrics['val_auc'] = roc_auc_score(y_val, val_proba)\n",
    "\n",
    "    # Confusion Matrix\n",
    "    cm = confusion_matrix(y_val, model.predict(X_val))\n",
    "\n",
    "    # ROC Curve\n",
    "    train_fpr, train_tpr, _ = roc_curve(y_train, train_proba)\n",
    "    val_fpr, val_tpr, _ = roc_curve(y_val, val_proba)\n",
    "\n",
    "    # PR Curve\n",
    "    train_precision, train_recall, _ = precision_recall_curve(y_train, train_proba)\n",
    "    val_precision, val_recall, _ = precision_recall_curve(y_val, val_proba)\n",
    "\n",
    "    # Plotting\n",
    "    plt.figure(figsize=(18, 5))\n",
    "\n",
    "    # Confusion Matrix\n",
    "    plt.subplot(1, 3, 1)\n",
    "    disp = ConfusionMatrixDisplay(confusion_matrix=cm)\n",
    "    disp.plot( ax=plt.gca())\n",
    "    plt.title('Confusion Matrix')\n",
    "\n",
    "    # ROC Curve\n",
    "    plt.subplot(1, 3, 2)\n",
    "    plt.plot(train_fpr, train_tpr, label=f'Train AUC = {metrics[\"train_auc\"]:.2f}')\n",
    "    plt.plot(val_fpr, val_tpr, label=f'Val AUC = {metrics[\"val_auc\"]:.2f}')\n",
    "    plt.plot([0, 1], [0, 1], 'k--')\n",
    "    plt.title('ROC Curve')\n",
    "    plt.xlabel('False Positive Rate')\n",
    "    plt.ylabel('True Positive Rate')\n",
    "    plt.legend()\n",
    "\n",
    "    # PR Curve\n",
    "    plt.subplot(1, 3, 3)\n",
    "    plt.plot(train_recall, train_precision, label='Train')\n",
    "    plt.plot(val_recall, val_precision, label='Val')\n",
    "    plt.title('Precision-Recall Curve')\n",
    "    plt.xlabel('Recall')\n",
    "    plt.ylabel('Precision')\n",
    "    plt.legend()\n",
    "\n",
    "    plt.tight_layout()\n",
    "    plt.show()\n",
    "\n",
    "    for k in metrics:\n",
    "        print(f'{k :10}: {metrics[k]}')\n",
    "\n",
    "\n",
    "\n",
    "\n",
    "\n",
    "from sklearn.impute import SimpleImputer\n",
    "from sklearn.pipeline import Pipeline\n",
    "from sklearn.tree import DecisionTreeClassifier\n",
    "from sklearn.model_selection import GridSearchCV\n",
    "from sklearn.metrics import classification_report, roc_auc_score\n",
    "\n",
    "# Define the imputer and classifier pipeline\n",
    "imputer = SimpleImputer(strategy='mean')  # Strategy can be tuned\n",
    "classifier = DecisionTreeClassifier()\n",
    "\n",
    "pipeline = Pipeline(steps=[('imputer', imputer),\n",
    "                           ('classifier', classifier)])\n",
    "\n",
    "# Define the parameter grid for GridSearchCV\n",
    "param_grid = {\n",
    "    'imputer__strategy': ['mean', 'median', 'most_frequent'],  # Imputer strategies\n",
    "    'classifier__criterion': ['gini', 'entropy'],             # Splitting criterion\n",
    "    'classifier__max_depth': [3, 5, 10, None],                # Tree depth\n",
    "    'classifier__min_samples_split': [2, 5, 10],              # Minimum samples to split a node\n",
    "    'classifier__min_samples_leaf': [1, 2, 4],                # Minimum samples per leaf\n",
    "}\n",
    "\n",
    "# Set up GridSearchCV\n",
    "test_fold = np.array([-1] * len(X_train) + [0] * len(X_val))\n",
    "ps = PredefinedSplit(test_fold=test_fold)\n",
    "\n",
    "grid_search = GridSearchCV(pipeline, param_grid, scoring='roc_auc', cv=[(slice(None), slice(None))], verbose=1, n_jobs=-1)\n",
    "\n",
    "# Fit GridSearchCV\n",
    "grid_search.fit(X_train, y_train)\n",
    "\n",
    "# Get the best pipeline from GridSearchCV\n",
    "best_clf = grid_search.best_estimator_\n",
    "\n",
    "# Print best parameters and score\n",
    "print(\"Best Parameters:\", grid_search.best_params_)\n",
    "print(\"Best CV ROC-AUC Score:\", grid_search.best_score_)\n",
    "\n",
    "# Evaluate on training and validation data\n",
    "train_proba = best_clf.predict_proba(X_train)[:, 1]\n",
    "val_proba = best_clf.predict_proba(X_val)[:, 1]\n",
    "\n",
    "print(\"Training ROC-AUC:\", roc_auc_score(y_train, train_proba))\n",
    "print(\"Validation ROC-AUC:\", roc_auc_score(y_val, val_proba))\n",
    "\n",
    "# Classification metrics and plots\n",
    "evaluate(gnb, X_val, y_val)\n",
    "classification_metrics_and_plots(best_clf, X_train, y_train, X_val, y_val)\n"
   ],
   "outputs": [
    {
     "name": "stdout",
     "output_type": "stream",
     "text": [
      "Fitting 1 folds for each of 216 candidates, totalling 216 fits\n"
     ]
    },
    {
     "name": "stderr",
     "output_type": "stream",
     "text": [
      "\n",
      "KeyboardInterrupt\n",
      "\n",
      "Process LokyProcess-6:\n",
      "Traceback (most recent call last):\n",
      "  File \"/Users/hims/anaconda3/envs/python310/lib/python3.10/multiprocessing/process.py\", line 314, in _bootstrap\n",
      "    self.run()\n",
      "  File \"/Users/hims/anaconda3/envs/python310/lib/python3.10/multiprocessing/process.py\", line 108, in run\n",
      "    self._target(*self._args, **self._kwargs)\n",
      "  File \"/Users/hims/anaconda3/envs/python310/lib/python3.10/site-packages/joblib/externals/loky/process_executor.py\", line 443, in _process_worker\n",
      "    _process_reference_size = _get_memory_usage(pid, force_gc=True)\n",
      "  File \"/Users/hims/anaconda3/envs/python310/lib/python3.10/site-packages/joblib/externals/loky/process_executor.py\", line 108, in _get_memory_usage\n",
      "    gc.collect()\n",
      "KeyboardInterrupt\n",
      "Process LokyProcess-1:\n",
      "Traceback (most recent call last):\n",
      "  File \"/Users/hims/anaconda3/envs/python310/lib/python3.10/multiprocessing/process.py\", line 314, in _bootstrap\n",
      "    self.run()\n",
      "  File \"/Users/hims/anaconda3/envs/python310/lib/python3.10/multiprocessing/process.py\", line 108, in run\n",
      "    self._target(*self._args, **self._kwargs)\n",
      "  File \"/Users/hims/anaconda3/envs/python310/lib/python3.10/site-packages/joblib/externals/loky/process_executor.py\", line 443, in _process_worker\n",
      "    _process_reference_size = _get_memory_usage(pid, force_gc=True)\n",
      "  File \"/Users/hims/anaconda3/envs/python310/lib/python3.10/site-packages/joblib/externals/loky/process_executor.py\", line 108, in _get_memory_usage\n",
      "    gc.collect()\n",
      "KeyboardInterrupt\n"
     ]
    }
   ],
   "execution_count": 48
  },
  {
   "metadata": {
    "ExecuteTime": {
     "end_time": "2024-11-21T13:32:06.842309Z",
     "start_time": "2024-11-21T13:32:06.839003Z"
    }
   },
   "cell_type": "code",
   "source": "len([x for x in X_train.columns if x.startswith(\"addr\")])\n",
   "outputs": [
    {
     "data": {
      "text/plain": [
       "2"
      ]
     },
     "execution_count": 61,
     "metadata": {},
     "output_type": "execute_result"
    }
   ],
   "execution_count": 61
  },
  {
   "metadata": {
    "ExecuteTime": {
     "end_time": "2024-11-21T13:32:38.320174Z",
     "start_time": "2024-11-21T13:32:38.316810Z"
    }
   },
   "cell_type": "code",
   "source": "X_train.columns",
   "outputs": [
    {
     "data": {
      "text/plain": [
       "Index(['DeviceType_mobile', 'M1_T', 'M2_T', 'M3_T', 'M4_M1', 'M4_M2', 'M5_T',\n",
       "       'M6_T', 'M7_T', 'M8_T',\n",
       "       ...\n",
       "       'card5', 'addr1', 'addr2', 'id_13', 'id_14', 'id_17', 'id_19', 'id_20',\n",
       "       'width', 'height'],\n",
       "      dtype='object', length=139)"
      ]
     },
     "execution_count": 62,
     "metadata": {},
     "output_type": "execute_result"
    }
   ],
   "execution_count": 62
  },
  {
   "metadata": {},
   "cell_type": "markdown",
   "source": "# New Eval Function"
  },
  {
   "metadata": {
    "ExecuteTime": {
     "end_time": "2024-11-21T13:58:30.068534Z",
     "start_time": "2024-11-21T13:58:30.058773Z"
    }
   },
   "cell_type": "code",
   "source": [
    "from sklearn.metrics import ConfusionMatrixDisplay\n",
    "\n",
    "def evaluate(model, X_val, y_val):\n",
    "    # Classification Report\n",
    "    preds_val = model.predict(X_val)\n",
    "    report_dict = metrics.classification_report(y_val, preds_val, output_dict=True)\n",
    "    report_df = pd.DataFrame(report_dict).transpose()\n",
    "    formatted_report = report_df.round(4)\n",
    "    print(formatted_report)\n",
    "\n",
    "    # ROC Curve and AUC\n",
    "    probs_val = model.predict_proba(X_val)[:, 1]\n",
    "    fpr, tpr, _ = metrics.roc_curve(y_val, probs_val)\n",
    "    roc_auc = metrics.auc(fpr, tpr)\n",
    "    print(f'val auc: {roc_auc:.4f}')\n",
    "\n",
    "    # Confusion Matrix Plot\n",
    "    cm = metrics.confusion_matrix(y_val, preds_val)\n",
    "    plt.figure(figsize=(4, 4), dpi=200)\n",
    "    disp = ConfusionMatrixDisplay(confusion_matrix=cm, display_labels=model.classes_)\n",
    "    disp.plot(cmap='Blues', ax=plt.gca())\n",
    "    plt.title('Confusion Matrix')\n",
    "    plt.grid(False)  # Remove the grid for a cleaner look\n",
    "    plt.show()\n",
    "\n",
    "    # ROC Curve Plot\n",
    "    plt.figure(figsize=(4, 4), dpi=300)\n",
    "    plt.title('ROC Curve')\n",
    "    plt.plot(fpr, tpr, label=f'AUC: {roc_auc:.2f}')\n",
    "    plt.plot([0, 1], [0, 1], 'k--', label='Random Guess')  # Diagonal line\n",
    "    # plt.xlabel('False Positive Rate')\n",
    "    # plt.ylabel('True Positive Rate')\n",
    "    plt.legend(loc=\"lower right\")\n",
    "    plt.show()\n"
   ],
   "outputs": [],
   "execution_count": 73
  },
  {
   "metadata": {
    "ExecuteTime": {
     "end_time": "2024-11-21T13:58:32.553572Z",
     "start_time": "2024-11-21T13:58:30.800694Z"
    }
   },
   "cell_type": "code",
   "source": "evaluate(gnb, X_val, y_val)\n",
   "outputs": [
    {
     "name": "stdout",
     "output_type": "stream",
     "text": [
      "              precision  recall  f1-score      support\n",
      "0                0.9828  0.7289    0.8370  113975.0000\n",
      "1                0.0797  0.6477    0.1420    4133.0000\n",
      "accuracy         0.7261  0.7261    0.7261       0.7261\n",
      "macro avg        0.5313  0.6883    0.4895  118108.0000\n",
      "weighted avg     0.9512  0.7261    0.8127  118108.0000\n",
      "val auc: 0.7314\n"
     ]
    },
    {
     "data": {
      "text/plain": [
       "<Figure size 800x800 with 2 Axes>"
      ],
      "image/png": "[encoded data removed]"
     },
     "metadata": {},
     "output_type": "display_data"
    },
    {
     "data": {
      "text/plain": [
       "<Figure size 1200x1200 with 1 Axes>"
      ],
      "image/png": "[encoded data removed]"
     },
     "metadata": {},
     "output_type": "display_data"
    }
   ],
   "execution_count": 74
  },
  {
   "metadata": {
    "ExecuteTime": {
     "end_time": "2024-11-21T13:52:33.720948Z",
     "start_time": "2024-11-21T13:51:18.325797Z"
    }
   },
   "cell_type": "code",
   "source": "evaluate(svm, X_val, y_val)\n",
   "outputs": [
    {
     "name": "stdout",
     "output_type": "stream",
     "text": [
      "              precision  recall  f1-score      support\n",
      "0                0.9637  0.7949    0.8712  113975.0000\n",
      "1                0.0299  0.1744    0.0511    4133.0000\n",
      "accuracy         0.7732  0.7732    0.7732       0.7732\n",
      "macro avg        0.4968  0.4847    0.4611  118108.0000\n",
      "weighted avg     0.9310  0.7732    0.8425  118108.0000\n",
      "val auc: 0.5751\n"
     ]
    },
    {
     "data": {
      "text/plain": [
       "<Figure size 800x800 with 1 Axes>"
      ],
      "image/png": "[encoded data removed]"
     },
     "metadata": {},
     "output_type": "display_data"
    }
   ],
   "execution_count": 65
  },
  {
   "metadata": {
    "ExecuteTime": {
     "end_time": "2024-11-21T13:52:35.317707Z",
     "start_time": "2024-11-21T13:52:33.798707Z"
    }
   },
   "cell_type": "code",
   "source": "evaluate(lr, X_val, y_val)\n",
   "outputs": [
    {
     "name": "stdout",
     "output_type": "stream",
     "text": [
      "              precision  recall  f1-score      support\n",
      "0                0.9669  0.9991    0.9827  113975.0000\n",
      "1                0.6994  0.0569    0.1052    4133.0000\n",
      "accuracy         0.9661  0.9661    0.9661       0.9661\n",
      "macro avg        0.8332  0.5280    0.5440  118108.0000\n",
      "weighted avg     0.9575  0.9661    0.9520  118108.0000\n",
      "val auc: 0.8202\n"
     ]
    },
    {
     "data": {
      "text/plain": [
       "<Figure size 800x800 with 1 Axes>"
      ],
      "image/png": "[encoded data removed]"
     },
     "metadata": {},
     "output_type": "display_data"
    }
   ],
   "execution_count": 66
  },
  {
   "metadata": {},
   "cell_type": "code",
   "outputs": [],
   "execution_count": null,
   "source": ""
  }
 ],
 "metadata": {
  "kernelspec": {
   "display_name": "venv",
   "language": "python",
   "name": "python3"
  },
  "language_info": {
   "codemirror_mode": {
    "name": "ipython",
    "version": 3
   },
   "file_extension": ".py",
   "mimetype": "text/x-python",
   "name": "python",
   "nbconvert_exporter": "python",
   "pygments_lexer": "ipython3",
   "version": "3.10.15"
  }
 },
 "nbformat": 4,
 "nbformat_minor": 2
}
