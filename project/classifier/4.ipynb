{
 "cells": [
  {
   "cell_type": "code",
   "id": "initial_id",
   "metadata": {
    "collapsed": true,
    "ExecuteTime": {
     "end_time": "2024-10-31T11:26:03.775891Z",
     "start_time": "2024-10-31T11:26:03.767795Z"
    }
   },
   "source": [
    "import pandas as pd\n",
    "\n",
    "import matplotlib.pyplot as plt\n",
    "import seaborn as sns\n",
    "\n",
    "train_transaction_df = pd.read_csv('data/train_transaction.csv')\n",
    "train_identity_df = pd.read_csv('data/train_identity.csv')\n",
    "train_df = train_transaction_df.merge(train_identity_df, on='TransactionID', how='left')\n",
    "\n",
    "print(f\"{train_transaction_df.shape = }, \\n{train_identity_df.shape = }, \\n{train_df.shape = }\")\n",
    "train_df"
   ],
   "execution_count": 2,
   "outputs": []
  },
  {
   "metadata": {
    "ExecuteTime": {
     "end_time": "2024-10-31T10:14:01.066980Z",
     "start_time": "2024-10-31T10:13:59.677216Z"
    }
   },
   "cell_type": "code",
   "source": [
    "# drop the columns with more than 90% missing values\n",
    "missing_values = train_df.isnull().sum() / train_df.shape[0] * 100\n",
    "missing_values = missing_values[missing_values > 90]\n",
    "missing_values"
   ],
   "id": "b9c7838e0fddbbdf",
   "execution_count": 3,
   "outputs": []
  },
  {
   "metadata": {
    "ExecuteTime": {
     "end_time": "2024-10-31T10:17:00.929676Z",
     "start_time": "2024-10-31T10:16:59.241906Z"
    }
   },
   "cell_type": "code",
   "source": [
    "selected_columns = [col for col in train_df.columns if col not in missing_values.index]\n",
    "train_df = train_df[selected_columns]\n",
    "len(train_df.columns)"
   ],
   "id": "79a32e94136a2d0d",
   "execution_count": 4,
   "outputs": []
  },
  {
   "metadata": {
    "ExecuteTime": {
     "end_time": "2024-10-31T10:20:17.643337Z",
     "start_time": "2024-10-31T10:20:15.062582Z"
    }
   },
   "cell_type": "code",
   "source": [
    "# drop the columns with only one unique value\n",
    "unique_values = train_df.nunique()\n",
    "unique_values = unique_values[unique_values == 1]\n",
    "unique_values\n",
    "\n",
    "# drop columns with string values\n",
    "string_columns = train_df.select_dtypes(include='object').columns\n",
    "train_df = train_df.drop(string_columns, axis=1)\n"
   ],
   "id": "4f127063a002bdb4",
   "execution_count": 8,
   "outputs": []
  },
  {
   "metadata": {
    "ExecuteTime": {
     "end_time": "2024-10-31T10:23:30.402149Z",
     "start_time": "2024-10-31T10:20:18.460268Z"
    }
   },
   "cell_type": "code",
   "source": [
    "# implement top 10 features using feature importance\n",
    "from sklearn.ensemble import RandomForestClassifier\n",
    "from sklearn.model_selection import train_test_split\n",
    "\n",
    "train_df = train_df.fillna(-999)\n",
    "X = train_df.drop(['isFraud', 'TransactionID'], axis=1)\n",
    "y = train_df['isFraud']\n",
    "\n",
    "X_train, X_test, y_train, y_test = train_test_split(X, y, test_size=0.2, random_state=42)\n",
    "\n",
    "clf = RandomForestClassifier(n_estimators=100, random_state=42)\n",
    "clf.fit(X_train, y_train)\n",
    "\n",
    "feature_importances = pd.DataFrame(clf.feature_importances_, index=X.columns, columns=['importance']).sort_values('importance', ascending=False)\n",
    "print(feature_importances[:20])\n",
    "\n",
    "#plot it\n",
    "plt.figure(figsize=(10, 6))\n",
    "sns.barplot(x=feature_importances['importance'][:20], y=feature_importances.index[:20])\n",
    "plt.show()\n"
   ],
   "id": "315c8a29af399152",
   "execution_count": 9,
   "outputs": []
  },
  {
   "metadata": {
    "ExecuteTime": {
     "end_time": "2024-10-31T10:35:14.620858Z",
     "start_time": "2024-10-31T10:35:14.605579Z"
    }
   },
   "cell_type": "code",
   "source": "\n",
   "id": "f0263211bdba62ca",
   "execution_count": 9,
   "outputs": []
  },
  {
   "metadata": {
    "ExecuteTime": {
     "end_time": "2024-10-31T10:35:15.074233Z",
     "start_time": "2024-10-31T10:35:15.072666Z"
    }
   },
   "cell_type": "code",
   "source": "",
   "id": "d05d6ec8b4a1355b",
   "execution_count": 9,
   "outputs": []
  },
  {
   "metadata": {
    "ExecuteTime": {
     "end_time": "2024-10-31T10:35:15.076955Z",
     "start_time": "2024-10-31T10:35:15.075456Z"
    }
   },
   "cell_type": "code",
   "source": "",
   "id": "be80fd08fb27b56e",
   "execution_count": 9,
   "outputs": []
  },
  {
   "metadata": {
    "ExecuteTime": {
     "end_time": "2024-10-31T10:35:15.338361Z",
     "start_time": "2024-10-31T10:35:15.336469Z"
    }
   },
   "cell_type": "code",
   "source": "",
   "id": "713a646c88923518",
   "execution_count": 9,
   "outputs": []
  },
  {
   "metadata": {
    "ExecuteTime": {
     "end_time": "2024-10-31T10:35:15.546358Z",
     "start_time": "2024-10-31T10:35:15.544568Z"
    }
   },
   "cell_type": "code",
   "source": "",
   "id": "786878f768be533e",
   "execution_count": 9,
   "outputs": []
  },
  {
   "metadata": {
    "ExecuteTime": {
     "end_time": "2024-10-31T10:35:15.789745Z",
     "start_time": "2024-10-31T10:35:15.787857Z"
    }
   },
   "cell_type": "code",
   "source": "",
   "id": "8fc577697841cd4d",
   "execution_count": 9,
   "outputs": []
  },
  {
   "metadata": {
    "ExecuteTime": {
     "end_time": "2024-10-31T10:35:16.027904Z",
     "start_time": "2024-10-31T10:35:16.026166Z"
    }
   },
   "cell_type": "code",
   "source": "",
   "id": "cceaac068ceee54e",
   "execution_count": 9,
   "outputs": []
  },
  {
   "metadata": {
    "ExecuteTime": {
     "end_time": "2024-10-31T10:35:16.257396Z",
     "start_time": "2024-10-31T10:35:16.255822Z"
    }
   },
   "cell_type": "code",
   "source": "",
   "id": "af6d0f732b0da594",
   "execution_count": 9,
   "outputs": []
  },
  {
   "metadata": {
    "ExecuteTime": {
     "end_time": "2024-10-31T10:35:16.526292Z",
     "start_time": "2024-10-31T10:35:16.524699Z"
    }
   },
   "cell_type": "code",
   "source": "",
   "id": "84efb8674b8cfe8f",
   "execution_count": 9,
   "outputs": []
  },
  {
   "metadata": {
    "ExecuteTime": {
     "end_time": "2024-10-31T10:35:16.739622Z",
     "start_time": "2024-10-31T10:35:16.737224Z"
    }
   },
   "cell_type": "code",
   "source": "",
   "id": "23e2f9b0383a794d",
   "execution_count": 9,
   "outputs": []
  },
  {
   "metadata": {
    "ExecuteTime": {
     "end_time": "2024-10-31T10:35:16.954374Z",
     "start_time": "2024-10-31T10:35:16.952756Z"
    }
   },
   "cell_type": "code",
   "source": "",
   "id": "dfb48e06a5f975f7",
   "execution_count": 9,
   "outputs": []
  },
  {
   "metadata": {
    "ExecuteTime": {
     "end_time": "2024-10-31T11:26:12.444900Z",
     "start_time": "2024-10-31T11:26:12.231002Z"
    }
   },
   "cell_type": "code",
   "source": [
    "BUILD95 = True\n",
    "BUILD96 = True\n",
    "\n",
    "import numpy as np, pandas as pd, os, gc\n",
    "from sklearn.model_selection import GroupKFold\n",
    "from sklearn.metrics import roc_auc_score\n",
    "import matplotlib.pyplot as plt\n",
    "import seaborn as sns\n",
    "\n",
    "# COLUMNS WITH STRINGS\n",
    "str_type = ['ProductCD', 'card4', 'card6', 'P_emaildomain', 'R_emaildomain','M1', 'M2', 'M3', 'M4','M5',\n",
    "            'M6', 'M7', 'M8', 'M9', 'id_12', 'id_15', 'id_16', 'id_23', 'id_27', 'id_28', 'id_29', 'id_30', \n",
    "            'id_31', 'id_33', 'id_34', 'id_35', 'id_36', 'id_37', 'id_38', 'DeviceType', 'DeviceInfo']\n",
    "str_type += ['id-12', 'id-15', 'id-16', 'id-23', 'id-27', 'id-28', 'id-29', 'id-30', \n",
    "            'id-31', 'id-33', 'id-34', 'id-35', 'id-36', 'id-37', 'id-38']\n",
    "\n",
    "# FIRST 53 COLUMNS\n",
    "cols = ['TransactionID', 'TransactionDT', 'TransactionAmt',\n",
    "       'ProductCD', 'card1', 'card2', 'card3', 'card4', 'card5', 'card6',\n",
    "       'addr1', 'addr2', 'dist1', 'dist2', 'P_emaildomain', 'R_emaildomain',\n",
    "       'C1', 'C2', 'C3', 'C4', 'C5', 'C6', 'C7', 'C8', 'C9', 'C10', 'C11',\n",
    "       'C12', 'C13', 'C14', 'D1', 'D2', 'D3', 'D4', 'D5', 'D6', 'D7', 'D8',\n",
    "       'D9', 'D10', 'D11', 'D12', 'D13', 'D14', 'D15', 'M1', 'M2', 'M3', 'M4',\n",
    "       'M5', 'M6', 'M7', 'M8', 'M9']\n",
    "\n",
    "# V COLUMNS TO LOAD DECIDED BY CORRELATION EDA\n",
    "# https://www.kaggle.com/cdeotte/eda-for-columns-v-and-id\n",
    "v =  [1, 3, 4, 6, 8, 11]\n",
    "v += [13, 14, 17, 20, 23, 26, 27, 30]\n",
    "v += [36, 37, 40, 41, 44, 47, 48]\n",
    "v += [54, 56, 59, 62, 65, 67, 68, 70]\n",
    "v += [76, 78, 80, 82, 86, 88, 89, 91]\n",
    "\n",
    "#v += [96, 98, 99, 104] #relates to groups, no NAN \n",
    "v += [107, 108, 111, 115, 117, 120, 121, 123] # maybe group, no NAN\n",
    "v += [124, 127, 129, 130, 136] # relates to groups, no NAN\n",
    "\n",
    "# LOTS OF NAN BELOW\n",
    "v += [138, 139, 142, 147, 156, 162] #b1\n",
    "v += [165, 160, 166] #b1\n",
    "v += [178, 176, 173, 182] #b2\n",
    "v += [187, 203, 205, 207, 215] #b2\n",
    "v += [169, 171, 175, 180, 185, 188, 198, 210, 209] #b2\n",
    "v += [218, 223, 224, 226, 228, 229, 235] #b3\n",
    "v += [240, 258, 257, 253, 252, 260, 261] #b3\n",
    "v += [264, 266, 267, 274, 277] #b3\n",
    "v += [220, 221, 234, 238, 250, 271] #b3\n",
    "\n",
    "v += [294, 284, 285, 286, 291, 297] # relates to grous, no NAN\n",
    "v += [303, 305, 307, 309, 310, 320] # relates to groups, no NAN\n",
    "v += [281, 283, 289, 296, 301, 314] # relates to groups, no NAN\n",
    "#v += [332, 325, 335, 338] # b4 lots NAN\n",
    "\n",
    "cols += ['V'+str(x) for x in v]\n",
    "dtypes = {}\n",
    "for c in cols+['id_0'+str(x) for x in range(1,10)]+['id_'+str(x) for x in range(10,34)]+\\\n",
    "    ['id-0'+str(x) for x in range(1,10)]+['id-'+str(x) for x in range(10,34)]:\n",
    "        dtypes[c] = 'float32'\n",
    "for c in str_type: dtypes[c] = 'category'\n"
   ],
   "id": "697f6087fe847c4",
   "execution_count": 3,
   "outputs": []
  },
  {
   "metadata": {
    "ExecuteTime": {
     "end_time": "2024-10-31T11:26:13.289986Z",
     "start_time": "2024-10-31T11:26:13.282823Z"
    }
   },
   "cell_type": "code",
   "source": "print(dtypes)",
   "id": "bb4a984d1863f790",
   "execution_count": 4,
   "outputs": []
  },
  {
   "metadata": {
    "ExecuteTime": {
     "end_time": "2024-10-31T11:26:27.085481Z",
     "start_time": "2024-10-31T11:26:14.332775Z"
    }
   },
   "cell_type": "code",
   "source": [
    "# from numpy import dtypes\n",
    "\n",
    "X_train = pd.read_csv('data/train_transaction.csv', index_col='TransactionID',  usecols=cols+['isFraud'], dtype=dtypes,)\n",
    "train_id = pd.read_csv('data/train_identity.csv', index_col='TransactionID', dtype=dtypes,)\n",
    "X_train = X_train.merge(train_id, how='left', left_index=True, right_index=True)\n",
    "# LOAD TEST\n",
    "X_test = pd.read_csv('data/test_transaction.csv', index_col='TransactionID',  usecols=cols, dtype=dtypes)\n",
    "test_id = pd.read_csv('data/test_identity.csv', index_col='TransactionID', dtype=dtypes)\n",
    "fix = {o:n for o, n in zip(test_id.columns, train_id.columns)}\n",
    "test_id.rename(columns=fix, inplace=True)\n",
    "X_test = X_test.merge(test_id, how='left', left_index=True, right_index=True)\n",
    "# TARGET\n",
    "y_train = X_train['isFraud'].copy()\n",
    "del train_id, test_id, X_train['isFraud']; x = gc.collect()\n",
    "# PRINT STATUS\n",
    "print('Train shape',X_train.shape,'test shape',X_test.shape)"
   ],
   "id": "df0f154bde7ab36e",
   "execution_count": 5,
   "outputs": []
  },
  {
   "metadata": {
    "ExecuteTime": {
     "end_time": "2024-10-31T11:26:27.112053Z",
     "start_time": "2024-10-31T11:26:27.086587Z"
    }
   },
   "cell_type": "code",
   "source": [
    "# NORMALIZE D COLUMNS\n",
    "for i in range(1,16):\n",
    "    if i in [1,2,3,5,9]: continue\n",
    "    X_train['D'+str(i)] =  X_train['D'+str(i)] - X_train.TransactionDT/np.float32(24*60*60)\n",
    "    X_test['D'+str(i)] = X_test['D'+str(i)] - X_test.TransactionDT/np.float32(24*60*60) "
   ],
   "id": "1b579509b7398bcb",
   "execution_count": 6,
   "outputs": []
  },
  {
   "metadata": {
    "ExecuteTime": {
     "end_time": "2024-10-31T11:26:27.121541Z",
     "start_time": "2024-10-31T11:26:27.112953Z"
    }
   },
   "cell_type": "code",
   "source": [
    "# FREQUENCY ENCODE TOGETHER\n",
    "def encode_FE(df1, df2, cols):\n",
    "    for col in cols:\n",
    "        df = pd.concat([df1[col],df2[col]])\n",
    "        vc = df.value_counts(dropna=True, normalize=True).to_dict()\n",
    "        vc[-1] = -1\n",
    "        nm = col+'_FE'\n",
    "        df1[nm] = df1[col].map(vc)\n",
    "        df1[nm] = df1[nm].astype('float32')\n",
    "        df2[nm] = df2[col].map(vc)\n",
    "        df2[nm] = df2[nm].astype('float32')\n",
    "        print(nm,', ',end='')\n",
    "        \n",
    "# LABEL ENCODE\n",
    "def encode_LE(col, train=X_train, test=X_test ,verbose=True):\n",
    "    df_comb = pd.concat([train[col],test[col]],axis=0)\n",
    "    df_comb,_ = df_comb.factorize(sort=True)\n",
    "    nm = col\n",
    "    if df_comb.max()>32000: \n",
    "        train[nm] = df_comb[:len(train)].astype('int32')\n",
    "        test[nm] = df_comb[len(train):].astype('int32')\n",
    "    else:\n",
    "        train[nm] = df_comb[:len(train)].astype('int16')\n",
    "        test[nm] = df_comb[len(train):].astype('int16')\n",
    "    del df_comb; x=gc.collect()\n",
    "    if verbose: print(nm,', ',end='')\n",
    "        \n",
    "# GROUP AGGREGATION MEAN AND STD\n",
    "# https://www.kaggle.com/kyakovlev/ieee-fe-with-some-eda\n",
    "def encode_AG(main_columns, uids, aggregations=['mean'], train_df=X_train, test_df=X_test, \n",
    "              fillna=True, usena=False):\n",
    "    # AGGREGATION OF MAIN WITH UID FOR GIVEN STATISTICS\n",
    "    for main_column in main_columns:  \n",
    "        for col in uids:\n",
    "            for agg_type in aggregations:\n",
    "                new_col_name = main_column+'_'+col+'_'+agg_type\n",
    "                temp_df = pd.concat([train_df[[col, main_column]], test_df[[col,main_column]]])\n",
    "                if usena: temp_df.loc[temp_df[main_column]==-1,main_column] = np.nan\n",
    "                temp_df = temp_df.groupby([col])[main_column].agg([agg_type]).reset_index().rename(\n",
    "                                                        columns={agg_type: new_col_name})\n",
    "\n",
    "                temp_df.index = list(temp_df[col])\n",
    "                temp_df = temp_df[new_col_name].to_dict()   \n",
    "\n",
    "                train_df[new_col_name] = train_df[col].map(temp_df).astype('float32')\n",
    "                test_df[new_col_name]  = test_df[col].map(temp_df).astype('float32')\n",
    "                \n",
    "                if fillna:\n",
    "                    train_df[new_col_name].fillna(-1,inplace=True)\n",
    "                    test_df[new_col_name].fillna(-1,inplace=True)\n",
    "                \n",
    "                print(\"'\"+new_col_name+\"'\",', ',end='')\n",
    "                \n",
    "# COMBINE FEATURES\n",
    "def encode_CB(col1,col2,df1=X_train,df2=X_test):\n",
    "    nm = col1+'_'+col2\n",
    "    df1[nm] = df1[col1].astype(str)+'_'+df1[col2].astype(str)\n",
    "    df2[nm] = df2[col1].astype(str)+'_'+df2[col2].astype(str) \n",
    "    encode_LE(nm,verbose=False)\n",
    "    print(nm,', ',end='')\n",
    "    \n",
    "# GROUP AGGREGATION NUNIQUE\n",
    "def encode_AG2(main_columns, uids, train_df=X_train, test_df=X_test):\n",
    "    for main_column in main_columns:  \n",
    "        for col in uids:\n",
    "            comb = pd.concat([train_df[[col]+[main_column]],test_df[[col]+[main_column]]],axis=0)\n",
    "            mp = comb.groupby(col)[main_column].agg(['nunique'])['nunique'].to_dict()\n",
    "            train_df[col+'_'+main_column+'_ct'] = train_df[col].map(mp).astype('float32')\n",
    "            test_df[col+'_'+main_column+'_ct'] = test_df[col].map(mp).astype('float32')\n",
    "            print(col+'_'+main_column+'_ct, ',end='')"
   ],
   "id": "bbe2cbf2b0972880",
   "execution_count": 7,
   "outputs": []
  },
  {
   "metadata": {
    "ExecuteTime": {
     "end_time": "2024-10-31T11:26:30.431185Z",
     "start_time": "2024-10-31T11:26:27.123381Z"
    }
   },
   "cell_type": "code",
   "source": [
    "# TRANSACTION AMT CENTS\n",
    "X_train['cents'] = (X_train['TransactionAmt'] - np.floor(X_train['TransactionAmt'])).astype('float32')\n",
    "X_test['cents'] = (X_test['TransactionAmt'] - np.floor(X_test['TransactionAmt'])).astype('float32')\n",
    "print('cents, ', end='')\n",
    "# FREQUENCY ENCODE: ADDR1, CARD1, CARD2, CARD3, P_EMAILDOMAIN\n",
    "encode_FE(X_train,X_test,['addr1','card1','card2','card3','P_emaildomain'])\n",
    "# COMBINE COLUMNS CARD1+ADDR1, CARD1+ADDR1+P_EMAILDOMAIN\n",
    "encode_CB('card1','addr1')\n",
    "encode_CB('card1_addr1','P_emaildomain')\n",
    "# FREQUENCY ENOCDE\n",
    "encode_FE(X_train,X_test,['card1_addr1','card1_addr1_P_emaildomain'])\n",
    "# GROUP AGGREGATE\n",
    "encode_AG(['TransactionAmt','D9','D11'],['card1','card1_addr1','card1_addr1_P_emaildomain'],['mean','std'],usena=True)"
   ],
   "id": "b528debe49863b56",
   "execution_count": 8,
   "outputs": []
  },
  {
   "metadata": {
    "ExecuteTime": {
     "end_time": "2024-10-31T11:26:30.436685Z",
     "start_time": "2024-10-31T11:26:30.432112Z"
    }
   },
   "cell_type": "code",
   "source": [
    "cols = list( X_train.columns )\n",
    "cols.remove('TransactionDT')\n",
    "for c in ['D6','D7','D8','D9','D12','D13','D14']:\n",
    "    cols.remove(c)\n",
    "    \n",
    "# FAILED TIME CONSISTENCY TEST\n",
    "for c in ['C3','M5','id_08','id_33']:\n",
    "    cols.remove(c)\n",
    "for c in ['card4','id_07','id_14','id_21','id_30','id_32','id_34']:\n",
    "    cols.remove(c)\n",
    "for c in ['id_'+str(x) for x in range(22,28)]:\n",
    "    cols.remove(c)\n",
    "    \n",
    "print('NOW USING THE FOLLOWING',len(cols),'FEATURES.')\n",
    "np.array(cols)"
   ],
   "id": "2932a522ea79604d",
   "execution_count": 9,
   "outputs": []
  },
  {
   "metadata": {
    "ExecuteTime": {
     "end_time": "2024-10-31T11:26:30.439983Z",
     "start_time": "2024-10-31T11:26:30.437826Z"
    }
   },
   "cell_type": "code",
   "source": [
    "# CHRIS - TRAIN 75% PREDICT 25%\n",
    "idxT = X_train.index[:3*len(X_train)//4]\n",
    "idxV = X_train.index[3*len(X_train)//4:]\n",
    "\n",
    "# KONSTANTIN - TRAIN 4 SKIP 1 PREDICT 1 MONTH\n",
    "#idxT = X_train.index[:417559]\n",
    "#idxV = X_train.index[-89326:]"
   ],
   "id": "b6d1c00dcce68617",
   "execution_count": 10,
   "outputs": []
  },
  {
   "metadata": {
    "ExecuteTime": {
     "end_time": "2024-10-31T11:26:52.436945Z",
     "start_time": "2024-10-31T11:26:30.440851Z"
    }
   },
   "cell_type": "code",
   "source": [
    "import xgboost as xgb\n",
    "print(\"XGBoost version:\", xgb.__version__)\n",
    "\n",
    "if BUILD95:\n",
    "    # dtrain = xgb.DMatrix(train_df, label=labels, enable_categorical=True)\n",
    "\n",
    "    clf = xgb.XGBClassifier( \n",
    "        n_estimators=2000,\n",
    "        max_depth=12, \n",
    "        learning_rate=0.02, \n",
    "        subsample=0.8,\n",
    "        colsample_bytree=0.4, \n",
    "        missing=-1, \n",
    "        eval_metric='auc',\n",
    "        # USE CPU\n",
    "        nthread=6,\n",
    "        tree_method='hist' ,\n",
    "        # USE GPU\n",
    "        # tree_method='gpu_hist' ,\n",
    "        enable_categorical=True\n",
    "    )\n",
    "    h = clf.fit(X_train.loc[idxT,cols], y_train[idxT], \n",
    "        eval_set=[(X_train.loc[idxV,cols],y_train[idxV])],\n",
    "        verbose=50, early_stopping_rounds=100)"
   ],
   "id": "34b274595fadf7af",
   "execution_count": 11,
   "outputs": []
  },
  {
   "metadata": {},
   "cell_type": "code",
   "execution_count": null,
   "source": [
    "if BUILD95:\n",
    "\n",
    "    feature_imp = pd.DataFrame(sorted(zip(clf.feature_importances_,cols)), columns=['Value','Feature'])\n",
    "    plt.figure(figsize=(20, 10))\n",
    "    sns.barplot(x=\"Value\", y=\"Feature\", data=feature_imp.sort_values(by=\"Value\", ascending=False).iloc[:50])\n",
    "    plt.title('XGB95 Most Important Features')\n",
    "    plt.tight_layout()\n",
    "    plt.show()\n",
    "    del clf, h; x=gc.collect()"
   ],
   "id": "1335711131fe4761",
   "outputs": []
  },
  {
   "metadata": {
    "ExecuteTime": {
     "end_time": "2024-10-31T11:02:50.187722Z",
     "start_time": "2024-10-31T11:02:50.183885Z"
    }
   },
   "cell_type": "code",
   "source": "",
   "id": "54f1dcca02c55c3c",
   "execution_count": 36,
   "outputs": []
  },
  {
   "metadata": {
    "ExecuteTime": {
     "end_time": "2024-10-31T11:02:50.696642Z",
     "start_time": "2024-10-31T11:02:50.694474Z"
    }
   },
   "cell_type": "code",
   "source": "# convert the categorical columns to numerical\n",
   "id": "b0f424550dd4c1af",
   "execution_count": 36,
   "outputs": []
  },
  {
   "metadata": {
    "ExecuteTime": {
     "end_time": "2024-11-01T06:08:14.249509Z",
     "start_time": "2024-10-31T11:27:04.410138Z"
    }
   },
   "cell_type": "code",
   "source": [
    "# implement top 10 features using feature importance\n",
    "from sklearn.ensemble import RandomForestClassifier\n",
    "from sklearn.model_selection import train_test_split\n",
    "\n",
    "# train_df = train_df.fillna(-999)\n",
    "# X = train_df.drop(['isFraud', 'TransactionID'], axis=1)\n",
    "# y = train_df['isFraud']\n",
    "\n",
    "# X_train, X_test, y_train, y_test = train_test_split(X, y, test_size=0.2, random_state=42)\n",
    "\n",
    "X1, y1 = X_train.loc[idxT, cols], y_train[idxT]\n",
    "\n",
    "categorical_columns = X1.select_dtypes(include=['object', 'category']).columns\n",
    "X_train_encoded = pd.get_dummies(X1, columns=categorical_columns)\n",
    "\n",
    "# Use the encoded DataFrame for training\n",
    "X1 = X_train_encoded.loc[idxT, X_train_encoded.columns]\n",
    "\n",
    "\n",
    "from sklearn.ensemble import HistGradientBoostingClassifier\n",
    "\n",
    "clf = HistGradientBoostingClassifier(random_state=42, )\n",
    "clf.fit(X1, y1)\n",
    "\n",
    "feature_importances = pd.DataFrame(clf.feature_importances_, index=cols, columns=['importance']).sort_values('importance', ascending=False)\n",
    "print(feature_importances[:20])\n",
    "\n",
    "#plot it\n",
    "plt.figure(figsize=(10, 6))\n",
    "sns.barplot(x=feature_importances['importance'][:20], y=feature_importances.index[:20])\n",
    "plt.show()\n"
   ],
   "id": "22aaff8150aed5da",
   "execution_count": 12,
   "outputs": []
  },
  {
   "metadata": {},
   "cell_type": "code",
   "source": "# X_train.loc[idxT, cols]",
   "id": "a2b75ebf853943fb",
   "execution_count": null,
   "outputs": []
  },
  {
   "metadata": {},
   "cell_type": "code",
   "source": "",
   "id": "74428faa87247d66",
   "execution_count": null,
   "outputs": []
  },
  {
   "metadata": {},
   "cell_type": "code",
   "execution_count": null,
   "source": "",
   "id": "fb8b4437111620e",
   "outputs": []
  }
 ],
 "metadata": {
  "kernelspec": {
   "display_name": "Python 3",
   "language": "python",
   "name": "python3"
  },
  "language_info": {
   "codemirror_mode": {
    "name": "ipython",
    "version": 2
   },
   "file_extension": ".py",
   "mimetype": "text/x-python",
   "name": "python",
   "nbconvert_exporter": "python",
   "pygments_lexer": "ipython2",
   "version": "2.7.6"
  }
 },
 "nbformat": 4,
 "nbformat_minor": 5
}
