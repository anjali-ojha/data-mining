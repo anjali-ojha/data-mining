{
 "cells": [
  {
   "metadata": {
    "ExecuteTime": {
     "end_time": "2024-10-29T10:07:01.263040Z",
     "start_time": "2024-10-29T10:07:01.117454Z"
    }
   },
   "cell_type": "code",
   "source": "! ls -lrth data/data2",
   "id": "ad0e2040952c0ff5",
   "outputs": [
    {
     "name": "stdout",
     "output_type": "stream",
     "text": [
      "total 1049840\r\n",
      "-rw-r--r--@ 1 hims  staff   145M Oct 29 03:00 credit_card_transaction_test.csv\r\n",
      "-rw-r--r--@ 1 hims  staff   338M Oct 29 03:00 credit_card_transaction_train.csv\r\n"
     ]
    }
   ],
   "execution_count": 5
  },
  {
   "cell_type": "code",
   "id": "initial_id",
   "metadata": {
    "collapsed": true,
    "ExecuteTime": {
     "end_time": "2024-10-29T10:06:29.404053Z",
     "start_time": "2024-10-29T10:06:29.402001Z"
    }
   },
   "source": [
    "import pandas as pd\n",
    "import numpy as np"
   ],
   "outputs": [],
   "execution_count": 1
  },
  {
   "metadata": {
    "ExecuteTime": {
     "end_time": "2024-10-29T23:42:49.391881Z",
     "start_time": "2024-10-29T23:42:47.600807Z"
    }
   },
   "cell_type": "code",
   "source": [
    "df = pd.read_csv('data/data2/credit_card_transaction_test.csv')\n",
    "df.describe().T"
   ],
   "id": "319e10343a2e49de",
   "outputs": [
    {
     "data": {
      "text/plain": [
       "                  count          mean           std           min  \\\n",
       "Unnamed: 0     555719.0  2.778590e+05  1.604224e+05  0.000000e+00   \n",
       "cc_num         555719.0  4.178387e+17  1.309837e+18  6.041621e+10   \n",
       "amt            555719.0  6.939281e+01  1.567459e+02  1.000000e+00   \n",
       "zip            555719.0  4.884263e+04  2.685528e+04  1.257000e+03   \n",
       "lat            555719.0  3.854325e+01  5.061336e+00  2.002710e+01   \n",
       "long           555719.0 -9.023133e+01  1.372178e+01 -1.656723e+02   \n",
       "city_pop       555719.0  8.822189e+04  3.003909e+05  2.300000e+01   \n",
       "unix_time      555719.0  1.380679e+09  5.201104e+06  1.371817e+09   \n",
       "merch_lat      555719.0  3.854280e+01  5.095829e+00  1.902742e+01   \n",
       "merch_long     555719.0 -9.023138e+01  1.373307e+01 -1.666716e+02   \n",
       "is_fraud       555719.0  3.859864e-03  6.200784e-02  0.000000e+00   \n",
       "merch_zipcode  471736.0  4.685848e+04  2.580724e+04  1.001000e+03   \n",
       "\n",
       "                        25%           50%           75%           max  \n",
       "Unnamed: 0     1.389295e+05  2.778590e+05  4.167885e+05  5.557180e+05  \n",
       "cc_num         1.800429e+14  3.521417e+15  4.635331e+15  4.992346e+18  \n",
       "amt            9.630000e+00  4.729000e+01  8.301000e+01  2.276811e+04  \n",
       "zip            2.629200e+04  4.817400e+04  7.201100e+04  9.992100e+04  \n",
       "lat            3.466890e+01  3.937160e+01  4.189480e+01  6.568990e+01  \n",
       "long          -9.679800e+01 -8.747690e+01 -8.017520e+01 -6.795030e+01  \n",
       "city_pop       7.410000e+02  2.408000e+03  1.968500e+04  2.906700e+06  \n",
       "unix_time      1.376029e+09  1.380762e+09  1.385867e+09  1.388534e+09  \n",
       "merch_lat      3.475530e+01  3.937659e+01  4.195416e+01  6.667930e+01  \n",
       "merch_long    -9.690513e+01 -8.744520e+01 -8.026464e+01 -6.695203e+01  \n",
       "is_fraud       0.000000e+00  0.000000e+00  0.000000e+00  1.000000e+00  \n",
       "merch_zipcode  2.517300e+04  4.589500e+04  6.811300e+04  9.940300e+04  "
      ],
      "text/html": [
       "<div>\n",
       "<style scoped>\n",
       "    .dataframe tbody tr th:only-of-type {\n",
       "        vertical-align: middle;\n",
       "    }\n",
       "\n",
       "    .dataframe tbody tr th {\n",
       "        vertical-align: top;\n",
       "    }\n",
       "\n",
       "    .dataframe thead th {\n",
       "        text-align: right;\n",
       "    }\n",
       "</style>\n",
       "<table border=\"1\" class=\"dataframe\">\n",
       "  <thead>\n",
       "    <tr style=\"text-align: right;\">\n",
       "      <th></th>\n",
       "      <th>count</th>\n",
       "      <th>mean</th>\n",
       "      <th>std</th>\n",
       "      <th>min</th>\n",
       "      <th>25%</th>\n",
       "      <th>50%</th>\n",
       "      <th>75%</th>\n",
       "      <th>max</th>\n",
       "    </tr>\n",
       "  </thead>\n",
       "  <tbody>\n",
       "    <tr>\n",
       "      <th>Unnamed: 0</th>\n",
       "      <td>555719.0</td>\n",
       "      <td>2.778590e+05</td>\n",
       "      <td>1.604224e+05</td>\n",
       "      <td>0.000000e+00</td>\n",
       "      <td>1.389295e+05</td>\n",
       "      <td>2.778590e+05</td>\n",
       "      <td>4.167885e+05</td>\n",
       "      <td>5.557180e+05</td>\n",
       "    </tr>\n",
       "    <tr>\n",
       "      <th>cc_num</th>\n",
       "      <td>555719.0</td>\n",
       "      <td>4.178387e+17</td>\n",
       "      <td>1.309837e+18</td>\n",
       "      <td>6.041621e+10</td>\n",
       "      <td>1.800429e+14</td>\n",
       "      <td>3.521417e+15</td>\n",
       "      <td>4.635331e+15</td>\n",
       "      <td>4.992346e+18</td>\n",
       "    </tr>\n",
       "    <tr>\n",
       "      <th>amt</th>\n",
       "      <td>555719.0</td>\n",
       "      <td>6.939281e+01</td>\n",
       "      <td>1.567459e+02</td>\n",
       "      <td>1.000000e+00</td>\n",
       "      <td>9.630000e+00</td>\n",
       "      <td>4.729000e+01</td>\n",
       "      <td>8.301000e+01</td>\n",
       "      <td>2.276811e+04</td>\n",
       "    </tr>\n",
       "    <tr>\n",
       "      <th>zip</th>\n",
       "      <td>555719.0</td>\n",
       "      <td>4.884263e+04</td>\n",
       "      <td>2.685528e+04</td>\n",
       "      <td>1.257000e+03</td>\n",
       "      <td>2.629200e+04</td>\n",
       "      <td>4.817400e+04</td>\n",
       "      <td>7.201100e+04</td>\n",
       "      <td>9.992100e+04</td>\n",
       "    </tr>\n",
       "    <tr>\n",
       "      <th>lat</th>\n",
       "      <td>555719.0</td>\n",
       "      <td>3.854325e+01</td>\n",
       "      <td>5.061336e+00</td>\n",
       "      <td>2.002710e+01</td>\n",
       "      <td>3.466890e+01</td>\n",
       "      <td>3.937160e+01</td>\n",
       "      <td>4.189480e+01</td>\n",
       "      <td>6.568990e+01</td>\n",
       "    </tr>\n",
       "    <tr>\n",
       "      <th>long</th>\n",
       "      <td>555719.0</td>\n",
       "      <td>-9.023133e+01</td>\n",
       "      <td>1.372178e+01</td>\n",
       "      <td>-1.656723e+02</td>\n",
       "      <td>-9.679800e+01</td>\n",
       "      <td>-8.747690e+01</td>\n",
       "      <td>-8.017520e+01</td>\n",
       "      <td>-6.795030e+01</td>\n",
       "    </tr>\n",
       "    <tr>\n",
       "      <th>city_pop</th>\n",
       "      <td>555719.0</td>\n",
       "      <td>8.822189e+04</td>\n",
       "      <td>3.003909e+05</td>\n",
       "      <td>2.300000e+01</td>\n",
       "      <td>7.410000e+02</td>\n",
       "      <td>2.408000e+03</td>\n",
       "      <td>1.968500e+04</td>\n",
       "      <td>2.906700e+06</td>\n",
       "    </tr>\n",
       "    <tr>\n",
       "      <th>unix_time</th>\n",
       "      <td>555719.0</td>\n",
       "      <td>1.380679e+09</td>\n",
       "      <td>5.201104e+06</td>\n",
       "      <td>1.371817e+09</td>\n",
       "      <td>1.376029e+09</td>\n",
       "      <td>1.380762e+09</td>\n",
       "      <td>1.385867e+09</td>\n",
       "      <td>1.388534e+09</td>\n",
       "    </tr>\n",
       "    <tr>\n",
       "      <th>merch_lat</th>\n",
       "      <td>555719.0</td>\n",
       "      <td>3.854280e+01</td>\n",
       "      <td>5.095829e+00</td>\n",
       "      <td>1.902742e+01</td>\n",
       "      <td>3.475530e+01</td>\n",
       "      <td>3.937659e+01</td>\n",
       "      <td>4.195416e+01</td>\n",
       "      <td>6.667930e+01</td>\n",
       "    </tr>\n",
       "    <tr>\n",
       "      <th>merch_long</th>\n",
       "      <td>555719.0</td>\n",
       "      <td>-9.023138e+01</td>\n",
       "      <td>1.373307e+01</td>\n",
       "      <td>-1.666716e+02</td>\n",
       "      <td>-9.690513e+01</td>\n",
       "      <td>-8.744520e+01</td>\n",
       "      <td>-8.026464e+01</td>\n",
       "      <td>-6.695203e+01</td>\n",
       "    </tr>\n",
       "    <tr>\n",
       "      <th>is_fraud</th>\n",
       "      <td>555719.0</td>\n",
       "      <td>3.859864e-03</td>\n",
       "      <td>6.200784e-02</td>\n",
       "      <td>0.000000e+00</td>\n",
       "      <td>0.000000e+00</td>\n",
       "      <td>0.000000e+00</td>\n",
       "      <td>0.000000e+00</td>\n",
       "      <td>1.000000e+00</td>\n",
       "    </tr>\n",
       "    <tr>\n",
       "      <th>merch_zipcode</th>\n",
       "      <td>471736.0</td>\n",
       "      <td>4.685848e+04</td>\n",
       "      <td>2.580724e+04</td>\n",
       "      <td>1.001000e+03</td>\n",
       "      <td>2.517300e+04</td>\n",
       "      <td>4.589500e+04</td>\n",
       "      <td>6.811300e+04</td>\n",
       "      <td>9.940300e+04</td>\n",
       "    </tr>\n",
       "  </tbody>\n",
       "</table>\n",
       "</div>"
      ]
     },
     "execution_count": 33,
     "metadata": {},
     "output_type": "execute_result"
    }
   ],
   "execution_count": 33
  },
  {
   "metadata": {},
   "cell_type": "markdown",
   "source": "# compute distace between two points",
   "id": "5b7ac5930d613092"
  },
  {
   "metadata": {
    "ExecuteTime": {
     "end_time": "2024-10-29T23:42:56.681269Z",
     "start_time": "2024-10-29T23:42:52.517703Z"
    }
   },
   "cell_type": "code",
   "source": [
    "# compute distance between coordinates in miles\n",
    "\n",
    "import math\n",
    "\n",
    "# compute age from the dob, write function to compute that\n",
    "def compute_age(dob):\n",
    "    return 2021 - int(dob.split('-')[0])\n",
    "\n",
    "\n",
    "# Haversine function\n",
    "def haversine(lat1, lon1, lat2, lon2):\n",
    "    R = 3963.0  # Earth radius in miles\n",
    "    lat1, lon1, lat2, lon2 = map(math.radians, [lat1, lon1, lat2, lon2])\n",
    "    dlat = lat2 - lat1\n",
    "    dlon = lon2 - lon1\n",
    "    a = math.sin(dlat / 2)**2 + math.cos(lat1) * math.cos(lat2) * math.sin(dlon / 2)**2\n",
    "    c = 2 * math.asin(math.sqrt(a))\n",
    "    return R * c\n",
    "\n",
    "# Add a new column 'distance' by applying the haversine function row-wise\n",
    "df['distance'] = df.apply(lambda row: haversine(row['lat'], row['long'], row['merch_lat'], row['merch_long']), axis=1)\n",
    "\n",
    "# Display the DataFrame with the new 'distance' column\n",
    "df.head()\n",
    "\n"
   ],
   "id": "9c8fe5f9ab55f02f",
   "outputs": [
    {
     "data": {
      "text/plain": [
       "   Unnamed: 0 trans_date_trans_time            cc_num  \\\n",
       "0           0   2020-06-21 12:14:25  2291163933867244   \n",
       "1           1   2020-06-21 12:14:33  3573030041201292   \n",
       "2           2   2020-06-21 12:14:53  3598215285024754   \n",
       "3           3   2020-06-21 12:15:15  3591919803438423   \n",
       "4           4   2020-06-21 12:15:17  3526826139003047   \n",
       "\n",
       "                               merchant        category    amt   first  \\\n",
       "0                 fraud_Kirlin and Sons   personal_care   2.86    Jeff   \n",
       "1                  fraud_Sporer-Keebler   personal_care  29.84  Joanne   \n",
       "2  fraud_Swaniawski, Nitzsche and Welch  health_fitness  41.28  Ashley   \n",
       "3                     fraud_Haley Group        misc_pos  60.05   Brian   \n",
       "4                 fraud_Johnston-Casper          travel   3.19  Nathan   \n",
       "\n",
       "       last gender                       street  ... city_pop  \\\n",
       "0   Elliott      M            351 Darlene Green  ...   333497   \n",
       "1  Williams      F             3638 Marsh Union  ...      302   \n",
       "2     Lopez      F         9333 Valentine Point  ...    34496   \n",
       "3  Williams      M  32941 Krystal Mill Apt. 552  ...    54767   \n",
       "4    Massey      M     5783 Evan Roads Apt. 465  ...     1126   \n",
       "\n",
       "                      job         dob                         trans_num  \\\n",
       "0     Mechanical engineer  1968-03-19  2da90c7d74bd46a0caf3777415b3ebd3   \n",
       "1  Sales professional, IT  1990-01-17  324cc204407e99f51b0d6ca0055005e7   \n",
       "2       Librarian, public  1970-10-21  c81755dbbbea9d5c77f094348a7579be   \n",
       "3            Set designer  1987-07-25  2159175b9efe66dc301f149d3d5abf8c   \n",
       "4      Furniture designer  1955-07-06  57ff021bd3f328f8738bb535c302a31b   \n",
       "\n",
       "    unix_time  merch_lat  merch_long is_fraud merch_zipcode   distance  \n",
       "0  1371816865  33.986391  -81.200714        0       29072.0  15.278147  \n",
       "1  1371816873  39.450498 -109.960431        0           NaN  65.267327  \n",
       "2  1371816893  40.495810  -74.196111        0       10307.0  36.750015  \n",
       "3  1371816915  28.812398  -80.883061        0       32759.0  17.229544  \n",
       "4  1371816917  44.959148  -85.884734        0       49653.0  64.900334  \n",
       "\n",
       "[5 rows x 25 columns]"
      ],
      "text/html": [
       "<div>\n",
       "<style scoped>\n",
       "    .dataframe tbody tr th:only-of-type {\n",
       "        vertical-align: middle;\n",
       "    }\n",
       "\n",
       "    .dataframe tbody tr th {\n",
       "        vertical-align: top;\n",
       "    }\n",
       "\n",
       "    .dataframe thead th {\n",
       "        text-align: right;\n",
       "    }\n",
       "</style>\n",
       "<table border=\"1\" class=\"dataframe\">\n",
       "  <thead>\n",
       "    <tr style=\"text-align: right;\">\n",
       "      <th></th>\n",
       "      <th>Unnamed: 0</th>\n",
       "      <th>trans_date_trans_time</th>\n",
       "      <th>cc_num</th>\n",
       "      <th>merchant</th>\n",
       "      <th>category</th>\n",
       "      <th>amt</th>\n",
       "      <th>first</th>\n",
       "      <th>last</th>\n",
       "      <th>gender</th>\n",
       "      <th>street</th>\n",
       "      <th>...</th>\n",
       "      <th>city_pop</th>\n",
       "      <th>job</th>\n",
       "      <th>dob</th>\n",
       "      <th>trans_num</th>\n",
       "      <th>unix_time</th>\n",
       "      <th>merch_lat</th>\n",
       "      <th>merch_long</th>\n",
       "      <th>is_fraud</th>\n",
       "      <th>merch_zipcode</th>\n",
       "      <th>distance</th>\n",
       "    </tr>\n",
       "  </thead>\n",
       "  <tbody>\n",
       "    <tr>\n",
       "      <th>0</th>\n",
       "      <td>0</td>\n",
       "      <td>2020-06-21 12:14:25</td>\n",
       "      <td>2291163933867244</td>\n",
       "      <td>fraud_Kirlin and Sons</td>\n",
       "      <td>personal_care</td>\n",
       "      <td>2.86</td>\n",
       "      <td>Jeff</td>\n",
       "      <td>Elliott</td>\n",
       "      <td>M</td>\n",
       "      <td>351 Darlene Green</td>\n",
       "      <td>...</td>\n",
       "      <td>333497</td>\n",
       "      <td>Mechanical engineer</td>\n",
       "      <td>1968-03-19</td>\n",
       "      <td>2da90c7d74bd46a0caf3777415b3ebd3</td>\n",
       "      <td>1371816865</td>\n",
       "      <td>33.986391</td>\n",
       "      <td>-81.200714</td>\n",
       "      <td>0</td>\n",
       "      <td>29072.0</td>\n",
       "      <td>15.278147</td>\n",
       "    </tr>\n",
       "    <tr>\n",
       "      <th>1</th>\n",
       "      <td>1</td>\n",
       "      <td>2020-06-21 12:14:33</td>\n",
       "      <td>3573030041201292</td>\n",
       "      <td>fraud_Sporer-Keebler</td>\n",
       "      <td>personal_care</td>\n",
       "      <td>29.84</td>\n",
       "      <td>Joanne</td>\n",
       "      <td>Williams</td>\n",
       "      <td>F</td>\n",
       "      <td>3638 Marsh Union</td>\n",
       "      <td>...</td>\n",
       "      <td>302</td>\n",
       "      <td>Sales professional, IT</td>\n",
       "      <td>1990-01-17</td>\n",
       "      <td>324cc204407e99f51b0d6ca0055005e7</td>\n",
       "      <td>1371816873</td>\n",
       "      <td>39.450498</td>\n",
       "      <td>-109.960431</td>\n",
       "      <td>0</td>\n",
       "      <td>NaN</td>\n",
       "      <td>65.267327</td>\n",
       "    </tr>\n",
       "    <tr>\n",
       "      <th>2</th>\n",
       "      <td>2</td>\n",
       "      <td>2020-06-21 12:14:53</td>\n",
       "      <td>3598215285024754</td>\n",
       "      <td>fraud_Swaniawski, Nitzsche and Welch</td>\n",
       "      <td>health_fitness</td>\n",
       "      <td>41.28</td>\n",
       "      <td>Ashley</td>\n",
       "      <td>Lopez</td>\n",
       "      <td>F</td>\n",
       "      <td>9333 Valentine Point</td>\n",
       "      <td>...</td>\n",
       "      <td>34496</td>\n",
       "      <td>Librarian, public</td>\n",
       "      <td>1970-10-21</td>\n",
       "      <td>c81755dbbbea9d5c77f094348a7579be</td>\n",
       "      <td>1371816893</td>\n",
       "      <td>40.495810</td>\n",
       "      <td>-74.196111</td>\n",
       "      <td>0</td>\n",
       "      <td>10307.0</td>\n",
       "      <td>36.750015</td>\n",
       "    </tr>\n",
       "    <tr>\n",
       "      <th>3</th>\n",
       "      <td>3</td>\n",
       "      <td>2020-06-21 12:15:15</td>\n",
       "      <td>3591919803438423</td>\n",
       "      <td>fraud_Haley Group</td>\n",
       "      <td>misc_pos</td>\n",
       "      <td>60.05</td>\n",
       "      <td>Brian</td>\n",
       "      <td>Williams</td>\n",
       "      <td>M</td>\n",
       "      <td>32941 Krystal Mill Apt. 552</td>\n",
       "      <td>...</td>\n",
       "      <td>54767</td>\n",
       "      <td>Set designer</td>\n",
       "      <td>1987-07-25</td>\n",
       "      <td>2159175b9efe66dc301f149d3d5abf8c</td>\n",
       "      <td>1371816915</td>\n",
       "      <td>28.812398</td>\n",
       "      <td>-80.883061</td>\n",
       "      <td>0</td>\n",
       "      <td>32759.0</td>\n",
       "      <td>17.229544</td>\n",
       "    </tr>\n",
       "    <tr>\n",
       "      <th>4</th>\n",
       "      <td>4</td>\n",
       "      <td>2020-06-21 12:15:17</td>\n",
       "      <td>3526826139003047</td>\n",
       "      <td>fraud_Johnston-Casper</td>\n",
       "      <td>travel</td>\n",
       "      <td>3.19</td>\n",
       "      <td>Nathan</td>\n",
       "      <td>Massey</td>\n",
       "      <td>M</td>\n",
       "      <td>5783 Evan Roads Apt. 465</td>\n",
       "      <td>...</td>\n",
       "      <td>1126</td>\n",
       "      <td>Furniture designer</td>\n",
       "      <td>1955-07-06</td>\n",
       "      <td>57ff021bd3f328f8738bb535c302a31b</td>\n",
       "      <td>1371816917</td>\n",
       "      <td>44.959148</td>\n",
       "      <td>-85.884734</td>\n",
       "      <td>0</td>\n",
       "      <td>49653.0</td>\n",
       "      <td>64.900334</td>\n",
       "    </tr>\n",
       "  </tbody>\n",
       "</table>\n",
       "<p>5 rows × 25 columns</p>\n",
       "</div>"
      ]
     },
     "execution_count": 34,
     "metadata": {},
     "output_type": "execute_result"
    }
   ],
   "execution_count": 34
  },
  {
   "metadata": {
    "ExecuteTime": {
     "end_time": "2024-10-29T23:42:57.567252Z",
     "start_time": "2024-10-29T23:42:57.541966Z"
    }
   },
   "cell_type": "code",
   "source": "df[df['is_fraud'] == 1].head()",
   "id": "d1d70fe25c0b554a",
   "outputs": [
    {
     "data": {
      "text/plain": [
       "      Unnamed: 0 trans_date_trans_time            cc_num  \\\n",
       "1685        1685   2020-06-21 22:06:39  3560725013359375   \n",
       "1767        1767   2020-06-21 22:32:22  6564459919350820   \n",
       "1781        1781   2020-06-21 22:37:27  6564459919350820   \n",
       "1784        1784   2020-06-21 22:38:55  4005676619255478   \n",
       "1857        1857   2020-06-21 23:02:16  3560725013359375   \n",
       "\n",
       "                                 merchant        category      amt    first  \\\n",
       "1685                 fraud_Hamill-D'Amore  health_fitness    24.84   Brooke   \n",
       "1767    fraud_Rodriguez, Yost and Jenkins        misc_net   780.52  Douglas   \n",
       "1781                     fraud_Nienow PLC   entertainment   620.33  Douglas   \n",
       "1784  fraud_Heathcote, Yost and Kertzmann    shopping_net  1077.69  William   \n",
       "1857               fraud_Hermann and Sons    shopping_pos   842.65   Brooke   \n",
       "\n",
       "        last gender                        street  ... city_pop  \\\n",
       "1685   Smith      F     63542 Luna Brook Apt. 012  ...       23   \n",
       "1767  Willis      M    619 Jeremy Garden Apt. 681  ...     1306   \n",
       "1781  Willis      M    619 Jeremy Garden Apt. 681  ...     1306   \n",
       "1784   Perry      M  458 Phillips Island Apt. 768  ...    71335   \n",
       "1857   Smith      F     63542 Luna Brook Apt. 012  ...       23   \n",
       "\n",
       "                           job         dob                         trans_num  \\\n",
       "1685            Cytogeneticist  1969-09-15  16bf2e46c54369a8eab2214649506425   \n",
       "1767  Public relations officer  1958-09-10  ab4b379d2c0c9c667d46508d4e126d72   \n",
       "1781  Public relations officer  1958-09-10  47a9987ae81d99f7832a54b29a77bf4b   \n",
       "1784                 Herbalist  1994-05-31  fe956c7e4a253c437c18918bf96f7b62   \n",
       "1857            Cytogeneticist  1969-09-15  f6838c01f5d2262006e6b71d33ba7c6d   \n",
       "\n",
       "       unix_time  merch_lat  merch_long is_fraud merch_zipcode   distance  \n",
       "1685  1371852399  32.575873 -102.604290        1       79360.0  50.166778  \n",
       "1767  1371853942  42.461127  -91.147148        1       52040.0  41.115374  \n",
       "1781  1371854247  42.771834  -90.158365        1       53565.0  17.938008  \n",
       "1784  1371854335  31.204974  -90.261595        1       39667.0  64.125226  \n",
       "1857  1371855736  31.315782 -102.736390        1           NaN  37.636338  \n",
       "\n",
       "[5 rows x 25 columns]"
      ],
      "text/html": [
       "<div>\n",
       "<style scoped>\n",
       "    .dataframe tbody tr th:only-of-type {\n",
       "        vertical-align: middle;\n",
       "    }\n",
       "\n",
       "    .dataframe tbody tr th {\n",
       "        vertical-align: top;\n",
       "    }\n",
       "\n",
       "    .dataframe thead th {\n",
       "        text-align: right;\n",
       "    }\n",
       "</style>\n",
       "<table border=\"1\" class=\"dataframe\">\n",
       "  <thead>\n",
       "    <tr style=\"text-align: right;\">\n",
       "      <th></th>\n",
       "      <th>Unnamed: 0</th>\n",
       "      <th>trans_date_trans_time</th>\n",
       "      <th>cc_num</th>\n",
       "      <th>merchant</th>\n",
       "      <th>category</th>\n",
       "      <th>amt</th>\n",
       "      <th>first</th>\n",
       "      <th>last</th>\n",
       "      <th>gender</th>\n",
       "      <th>street</th>\n",
       "      <th>...</th>\n",
       "      <th>city_pop</th>\n",
       "      <th>job</th>\n",
       "      <th>dob</th>\n",
       "      <th>trans_num</th>\n",
       "      <th>unix_time</th>\n",
       "      <th>merch_lat</th>\n",
       "      <th>merch_long</th>\n",
       "      <th>is_fraud</th>\n",
       "      <th>merch_zipcode</th>\n",
       "      <th>distance</th>\n",
       "    </tr>\n",
       "  </thead>\n",
       "  <tbody>\n",
       "    <tr>\n",
       "      <th>1685</th>\n",
       "      <td>1685</td>\n",
       "      <td>2020-06-21 22:06:39</td>\n",
       "      <td>3560725013359375</td>\n",
       "      <td>fraud_Hamill-D'Amore</td>\n",
       "      <td>health_fitness</td>\n",
       "      <td>24.84</td>\n",
       "      <td>Brooke</td>\n",
       "      <td>Smith</td>\n",
       "      <td>F</td>\n",
       "      <td>63542 Luna Brook Apt. 012</td>\n",
       "      <td>...</td>\n",
       "      <td>23</td>\n",
       "      <td>Cytogeneticist</td>\n",
       "      <td>1969-09-15</td>\n",
       "      <td>16bf2e46c54369a8eab2214649506425</td>\n",
       "      <td>1371852399</td>\n",
       "      <td>32.575873</td>\n",
       "      <td>-102.604290</td>\n",
       "      <td>1</td>\n",
       "      <td>79360.0</td>\n",
       "      <td>50.166778</td>\n",
       "    </tr>\n",
       "    <tr>\n",
       "      <th>1767</th>\n",
       "      <td>1767</td>\n",
       "      <td>2020-06-21 22:32:22</td>\n",
       "      <td>6564459919350820</td>\n",
       "      <td>fraud_Rodriguez, Yost and Jenkins</td>\n",
       "      <td>misc_net</td>\n",
       "      <td>780.52</td>\n",
       "      <td>Douglas</td>\n",
       "      <td>Willis</td>\n",
       "      <td>M</td>\n",
       "      <td>619 Jeremy Garden Apt. 681</td>\n",
       "      <td>...</td>\n",
       "      <td>1306</td>\n",
       "      <td>Public relations officer</td>\n",
       "      <td>1958-09-10</td>\n",
       "      <td>ab4b379d2c0c9c667d46508d4e126d72</td>\n",
       "      <td>1371853942</td>\n",
       "      <td>42.461127</td>\n",
       "      <td>-91.147148</td>\n",
       "      <td>1</td>\n",
       "      <td>52040.0</td>\n",
       "      <td>41.115374</td>\n",
       "    </tr>\n",
       "    <tr>\n",
       "      <th>1781</th>\n",
       "      <td>1781</td>\n",
       "      <td>2020-06-21 22:37:27</td>\n",
       "      <td>6564459919350820</td>\n",
       "      <td>fraud_Nienow PLC</td>\n",
       "      <td>entertainment</td>\n",
       "      <td>620.33</td>\n",
       "      <td>Douglas</td>\n",
       "      <td>Willis</td>\n",
       "      <td>M</td>\n",
       "      <td>619 Jeremy Garden Apt. 681</td>\n",
       "      <td>...</td>\n",
       "      <td>1306</td>\n",
       "      <td>Public relations officer</td>\n",
       "      <td>1958-09-10</td>\n",
       "      <td>47a9987ae81d99f7832a54b29a77bf4b</td>\n",
       "      <td>1371854247</td>\n",
       "      <td>42.771834</td>\n",
       "      <td>-90.158365</td>\n",
       "      <td>1</td>\n",
       "      <td>53565.0</td>\n",
       "      <td>17.938008</td>\n",
       "    </tr>\n",
       "    <tr>\n",
       "      <th>1784</th>\n",
       "      <td>1784</td>\n",
       "      <td>2020-06-21 22:38:55</td>\n",
       "      <td>4005676619255478</td>\n",
       "      <td>fraud_Heathcote, Yost and Kertzmann</td>\n",
       "      <td>shopping_net</td>\n",
       "      <td>1077.69</td>\n",
       "      <td>William</td>\n",
       "      <td>Perry</td>\n",
       "      <td>M</td>\n",
       "      <td>458 Phillips Island Apt. 768</td>\n",
       "      <td>...</td>\n",
       "      <td>71335</td>\n",
       "      <td>Herbalist</td>\n",
       "      <td>1994-05-31</td>\n",
       "      <td>fe956c7e4a253c437c18918bf96f7b62</td>\n",
       "      <td>1371854335</td>\n",
       "      <td>31.204974</td>\n",
       "      <td>-90.261595</td>\n",
       "      <td>1</td>\n",
       "      <td>39667.0</td>\n",
       "      <td>64.125226</td>\n",
       "    </tr>\n",
       "    <tr>\n",
       "      <th>1857</th>\n",
       "      <td>1857</td>\n",
       "      <td>2020-06-21 23:02:16</td>\n",
       "      <td>3560725013359375</td>\n",
       "      <td>fraud_Hermann and Sons</td>\n",
       "      <td>shopping_pos</td>\n",
       "      <td>842.65</td>\n",
       "      <td>Brooke</td>\n",
       "      <td>Smith</td>\n",
       "      <td>F</td>\n",
       "      <td>63542 Luna Brook Apt. 012</td>\n",
       "      <td>...</td>\n",
       "      <td>23</td>\n",
       "      <td>Cytogeneticist</td>\n",
       "      <td>1969-09-15</td>\n",
       "      <td>f6838c01f5d2262006e6b71d33ba7c6d</td>\n",
       "      <td>1371855736</td>\n",
       "      <td>31.315782</td>\n",
       "      <td>-102.736390</td>\n",
       "      <td>1</td>\n",
       "      <td>NaN</td>\n",
       "      <td>37.636338</td>\n",
       "    </tr>\n",
       "  </tbody>\n",
       "</table>\n",
       "<p>5 rows × 25 columns</p>\n",
       "</div>"
      ]
     },
     "execution_count": 35,
     "metadata": {},
     "output_type": "execute_result"
    }
   ],
   "execution_count": 35
  },
  {
   "metadata": {
    "ExecuteTime": {
     "end_time": "2024-10-29T23:43:00.666132Z",
     "start_time": "2024-10-29T23:43:00.639834Z"
    }
   },
   "cell_type": "code",
   "source": "df[df['cc_num'] == 3560725013359375].head(100)",
   "id": "e10415e1f3db799a",
   "outputs": [
    {
     "data": {
      "text/plain": [
       "       Unnamed: 0 trans_date_trans_time            cc_num  \\\n",
       "1685         1685   2020-06-21 22:06:39  3560725013359375   \n",
       "1857         1857   2020-06-21 23:02:16  3560725013359375   \n",
       "3590         3590   2020-06-22 11:54:17  3560725013359375   \n",
       "4111         4111   2020-06-22 14:27:21  3560725013359375   \n",
       "4339         4339   2020-06-22 15:29:41  3560725013359375   \n",
       "...           ...                   ...               ...   \n",
       "60022       60022   2020-07-12 10:55:53  3560725013359375   \n",
       "60070       60070   2020-07-12 11:24:32  3560725013359375   \n",
       "60154       60154   2020-07-12 12:03:57  3560725013359375   \n",
       "61391       61391   2020-07-12 19:21:15  3560725013359375   \n",
       "62295       62295   2020-07-13 00:45:08  3560725013359375   \n",
       "\n",
       "                                   merchant        category     amt   first  \\\n",
       "1685                   fraud_Hamill-D'Amore  health_fitness   24.84  Brooke   \n",
       "1857                 fraud_Hermann and Sons    shopping_pos  842.65  Brooke   \n",
       "3590   fraud_Tillman, Dickinson and Labadie   gas_transport   58.87  Brooke   \n",
       "4111     fraud_Bahringer, Osinski and Block     food_dining   83.02  Brooke   \n",
       "4339                        fraud_Fahey Inc       kids_pets   11.34  Brooke   \n",
       "...                                     ...             ...     ...     ...   \n",
       "60022                fraud_Rutherford-Mertz     grocery_pos  120.84  Brooke   \n",
       "60070   fraud_Kovacek, Dibbert and Ondricka     grocery_pos  140.45  Brooke   \n",
       "60154                      fraud_Grimes LLC   entertainment   11.25  Brooke   \n",
       "61391                     fraud_Hills-Boyer   personal_care   11.32  Brooke   \n",
       "62295    fraud_Hayes, Marquardt and Dibbert        misc_net   32.92  Brooke   \n",
       "\n",
       "        last gender                     street  ... city_pop             job  \\\n",
       "1685   Smith      F  63542 Luna Brook Apt. 012  ...       23  Cytogeneticist   \n",
       "1857   Smith      F  63542 Luna Brook Apt. 012  ...       23  Cytogeneticist   \n",
       "3590   Smith      F  63542 Luna Brook Apt. 012  ...       23  Cytogeneticist   \n",
       "4111   Smith      F  63542 Luna Brook Apt. 012  ...       23  Cytogeneticist   \n",
       "4339   Smith      F  63542 Luna Brook Apt. 012  ...       23  Cytogeneticist   \n",
       "...      ...    ...                        ...  ...      ...             ...   \n",
       "60022  Smith      F  63542 Luna Brook Apt. 012  ...       23  Cytogeneticist   \n",
       "60070  Smith      F  63542 Luna Brook Apt. 012  ...       23  Cytogeneticist   \n",
       "60154  Smith      F  63542 Luna Brook Apt. 012  ...       23  Cytogeneticist   \n",
       "61391  Smith      F  63542 Luna Brook Apt. 012  ...       23  Cytogeneticist   \n",
       "62295  Smith      F  63542 Luna Brook Apt. 012  ...       23  Cytogeneticist   \n",
       "\n",
       "              dob                         trans_num   unix_time  merch_lat  \\\n",
       "1685   1969-09-15  16bf2e46c54369a8eab2214649506425  1371852399  32.575873   \n",
       "1857   1969-09-15  f6838c01f5d2262006e6b71d33ba7c6d  1371855736  31.315782   \n",
       "3590   1969-09-15  12b88afa696a1c5eec27caa128d99787  1371902057  32.380452   \n",
       "4111   1969-09-15  b7b0be27afbf837ac8d0d84047bdc8f9  1371911241  31.523789   \n",
       "4339   1969-09-15  3dd17ef2ff60aed870ecc7ba15710837  1371914981  32.738479   \n",
       "...           ...                               ...         ...        ...   \n",
       "60022  1969-09-15  37ee696a11771a11cc8a3326ac62ba11  1373626553  31.362684   \n",
       "60070  1969-09-15  022f3a03dc08f0da2135ae308d3a1c63  1373628272  32.235059   \n",
       "60154  1969-09-15  60aa3f575e8fb1ea715795d747924bbc  1373630637  32.318832   \n",
       "61391  1969-09-15  f4f230f780d49983e21b2c78bb29219b  1373656875  30.954681   \n",
       "62295  1969-09-15  b227419a381d24150e7d324129918411  1373676308  31.855423   \n",
       "\n",
       "       merch_long is_fraud merch_zipcode   distance  \n",
       "1685  -102.604290        1       79360.0  50.166778  \n",
       "1857  -102.736390        1           NaN  37.636338  \n",
       "3590  -102.899603        0           NaN  37.180259  \n",
       "4111  -102.108125        0           NaN  43.921570  \n",
       "4339  -101.904243        0       79331.0  78.024011  \n",
       "...           ...      ...           ...        ...  \n",
       "60022 -101.765161        0           NaN  66.998709  \n",
       "60070 -102.944294        0           NaN  28.547665  \n",
       "60154 -102.830424        0           NaN  32.169899  \n",
       "61391 -102.863302        0       79735.0  63.024495  \n",
       "62295 -102.819436        0           NaN   4.600779  \n",
       "\n",
       "[100 rows x 25 columns]"
      ],
      "text/html": [
       "<div>\n",
       "<style scoped>\n",
       "    .dataframe tbody tr th:only-of-type {\n",
       "        vertical-align: middle;\n",
       "    }\n",
       "\n",
       "    .dataframe tbody tr th {\n",
       "        vertical-align: top;\n",
       "    }\n",
       "\n",
       "    .dataframe thead th {\n",
       "        text-align: right;\n",
       "    }\n",
       "</style>\n",
       "<table border=\"1\" class=\"dataframe\">\n",
       "  <thead>\n",
       "    <tr style=\"text-align: right;\">\n",
       "      <th></th>\n",
       "      <th>Unnamed: 0</th>\n",
       "      <th>trans_date_trans_time</th>\n",
       "      <th>cc_num</th>\n",
       "      <th>merchant</th>\n",
       "      <th>category</th>\n",
       "      <th>amt</th>\n",
       "      <th>first</th>\n",
       "      <th>last</th>\n",
       "      <th>gender</th>\n",
       "      <th>street</th>\n",
       "      <th>...</th>\n",
       "      <th>city_pop</th>\n",
       "      <th>job</th>\n",
       "      <th>dob</th>\n",
       "      <th>trans_num</th>\n",
       "      <th>unix_time</th>\n",
       "      <th>merch_lat</th>\n",
       "      <th>merch_long</th>\n",
       "      <th>is_fraud</th>\n",
       "      <th>merch_zipcode</th>\n",
       "      <th>distance</th>\n",
       "    </tr>\n",
       "  </thead>\n",
       "  <tbody>\n",
       "    <tr>\n",
       "      <th>1685</th>\n",
       "      <td>1685</td>\n",
       "      <td>2020-06-21 22:06:39</td>\n",
       "      <td>3560725013359375</td>\n",
       "      <td>fraud_Hamill-D'Amore</td>\n",
       "      <td>health_fitness</td>\n",
       "      <td>24.84</td>\n",
       "      <td>Brooke</td>\n",
       "      <td>Smith</td>\n",
       "      <td>F</td>\n",
       "      <td>63542 Luna Brook Apt. 012</td>\n",
       "      <td>...</td>\n",
       "      <td>23</td>\n",
       "      <td>Cytogeneticist</td>\n",
       "      <td>1969-09-15</td>\n",
       "      <td>16bf2e46c54369a8eab2214649506425</td>\n",
       "      <td>1371852399</td>\n",
       "      <td>32.575873</td>\n",
       "      <td>-102.604290</td>\n",
       "      <td>1</td>\n",
       "      <td>79360.0</td>\n",
       "      <td>50.166778</td>\n",
       "    </tr>\n",
       "    <tr>\n",
       "      <th>1857</th>\n",
       "      <td>1857</td>\n",
       "      <td>2020-06-21 23:02:16</td>\n",
       "      <td>3560725013359375</td>\n",
       "      <td>fraud_Hermann and Sons</td>\n",
       "      <td>shopping_pos</td>\n",
       "      <td>842.65</td>\n",
       "      <td>Brooke</td>\n",
       "      <td>Smith</td>\n",
       "      <td>F</td>\n",
       "      <td>63542 Luna Brook Apt. 012</td>\n",
       "      <td>...</td>\n",
       "      <td>23</td>\n",
       "      <td>Cytogeneticist</td>\n",
       "      <td>1969-09-15</td>\n",
       "      <td>f6838c01f5d2262006e6b71d33ba7c6d</td>\n",
       "      <td>1371855736</td>\n",
       "      <td>31.315782</td>\n",
       "      <td>-102.736390</td>\n",
       "      <td>1</td>\n",
       "      <td>NaN</td>\n",
       "      <td>37.636338</td>\n",
       "    </tr>\n",
       "    <tr>\n",
       "      <th>3590</th>\n",
       "      <td>3590</td>\n",
       "      <td>2020-06-22 11:54:17</td>\n",
       "      <td>3560725013359375</td>\n",
       "      <td>fraud_Tillman, Dickinson and Labadie</td>\n",
       "      <td>gas_transport</td>\n",
       "      <td>58.87</td>\n",
       "      <td>Brooke</td>\n",
       "      <td>Smith</td>\n",
       "      <td>F</td>\n",
       "      <td>63542 Luna Brook Apt. 012</td>\n",
       "      <td>...</td>\n",
       "      <td>23</td>\n",
       "      <td>Cytogeneticist</td>\n",
       "      <td>1969-09-15</td>\n",
       "      <td>12b88afa696a1c5eec27caa128d99787</td>\n",
       "      <td>1371902057</td>\n",
       "      <td>32.380452</td>\n",
       "      <td>-102.899603</td>\n",
       "      <td>0</td>\n",
       "      <td>NaN</td>\n",
       "      <td>37.180259</td>\n",
       "    </tr>\n",
       "    <tr>\n",
       "      <th>4111</th>\n",
       "      <td>4111</td>\n",
       "      <td>2020-06-22 14:27:21</td>\n",
       "      <td>3560725013359375</td>\n",
       "      <td>fraud_Bahringer, Osinski and Block</td>\n",
       "      <td>food_dining</td>\n",
       "      <td>83.02</td>\n",
       "      <td>Brooke</td>\n",
       "      <td>Smith</td>\n",
       "      <td>F</td>\n",
       "      <td>63542 Luna Brook Apt. 012</td>\n",
       "      <td>...</td>\n",
       "      <td>23</td>\n",
       "      <td>Cytogeneticist</td>\n",
       "      <td>1969-09-15</td>\n",
       "      <td>b7b0be27afbf837ac8d0d84047bdc8f9</td>\n",
       "      <td>1371911241</td>\n",
       "      <td>31.523789</td>\n",
       "      <td>-102.108125</td>\n",
       "      <td>0</td>\n",
       "      <td>NaN</td>\n",
       "      <td>43.921570</td>\n",
       "    </tr>\n",
       "    <tr>\n",
       "      <th>4339</th>\n",
       "      <td>4339</td>\n",
       "      <td>2020-06-22 15:29:41</td>\n",
       "      <td>3560725013359375</td>\n",
       "      <td>fraud_Fahey Inc</td>\n",
       "      <td>kids_pets</td>\n",
       "      <td>11.34</td>\n",
       "      <td>Brooke</td>\n",
       "      <td>Smith</td>\n",
       "      <td>F</td>\n",
       "      <td>63542 Luna Brook Apt. 012</td>\n",
       "      <td>...</td>\n",
       "      <td>23</td>\n",
       "      <td>Cytogeneticist</td>\n",
       "      <td>1969-09-15</td>\n",
       "      <td>3dd17ef2ff60aed870ecc7ba15710837</td>\n",
       "      <td>1371914981</td>\n",
       "      <td>32.738479</td>\n",
       "      <td>-101.904243</td>\n",
       "      <td>0</td>\n",
       "      <td>79331.0</td>\n",
       "      <td>78.024011</td>\n",
       "    </tr>\n",
       "    <tr>\n",
       "      <th>...</th>\n",
       "      <td>...</td>\n",
       "      <td>...</td>\n",
       "      <td>...</td>\n",
       "      <td>...</td>\n",
       "      <td>...</td>\n",
       "      <td>...</td>\n",
       "      <td>...</td>\n",
       "      <td>...</td>\n",
       "      <td>...</td>\n",
       "      <td>...</td>\n",
       "      <td>...</td>\n",
       "      <td>...</td>\n",
       "      <td>...</td>\n",
       "      <td>...</td>\n",
       "      <td>...</td>\n",
       "      <td>...</td>\n",
       "      <td>...</td>\n",
       "      <td>...</td>\n",
       "      <td>...</td>\n",
       "      <td>...</td>\n",
       "      <td>...</td>\n",
       "    </tr>\n",
       "    <tr>\n",
       "      <th>60022</th>\n",
       "      <td>60022</td>\n",
       "      <td>2020-07-12 10:55:53</td>\n",
       "      <td>3560725013359375</td>\n",
       "      <td>fraud_Rutherford-Mertz</td>\n",
       "      <td>grocery_pos</td>\n",
       "      <td>120.84</td>\n",
       "      <td>Brooke</td>\n",
       "      <td>Smith</td>\n",
       "      <td>F</td>\n",
       "      <td>63542 Luna Brook Apt. 012</td>\n",
       "      <td>...</td>\n",
       "      <td>23</td>\n",
       "      <td>Cytogeneticist</td>\n",
       "      <td>1969-09-15</td>\n",
       "      <td>37ee696a11771a11cc8a3326ac62ba11</td>\n",
       "      <td>1373626553</td>\n",
       "      <td>31.362684</td>\n",
       "      <td>-101.765161</td>\n",
       "      <td>0</td>\n",
       "      <td>NaN</td>\n",
       "      <td>66.998709</td>\n",
       "    </tr>\n",
       "    <tr>\n",
       "      <th>60070</th>\n",
       "      <td>60070</td>\n",
       "      <td>2020-07-12 11:24:32</td>\n",
       "      <td>3560725013359375</td>\n",
       "      <td>fraud_Kovacek, Dibbert and Ondricka</td>\n",
       "      <td>grocery_pos</td>\n",
       "      <td>140.45</td>\n",
       "      <td>Brooke</td>\n",
       "      <td>Smith</td>\n",
       "      <td>F</td>\n",
       "      <td>63542 Luna Brook Apt. 012</td>\n",
       "      <td>...</td>\n",
       "      <td>23</td>\n",
       "      <td>Cytogeneticist</td>\n",
       "      <td>1969-09-15</td>\n",
       "      <td>022f3a03dc08f0da2135ae308d3a1c63</td>\n",
       "      <td>1373628272</td>\n",
       "      <td>32.235059</td>\n",
       "      <td>-102.944294</td>\n",
       "      <td>0</td>\n",
       "      <td>NaN</td>\n",
       "      <td>28.547665</td>\n",
       "    </tr>\n",
       "    <tr>\n",
       "      <th>60154</th>\n",
       "      <td>60154</td>\n",
       "      <td>2020-07-12 12:03:57</td>\n",
       "      <td>3560725013359375</td>\n",
       "      <td>fraud_Grimes LLC</td>\n",
       "      <td>entertainment</td>\n",
       "      <td>11.25</td>\n",
       "      <td>Brooke</td>\n",
       "      <td>Smith</td>\n",
       "      <td>F</td>\n",
       "      <td>63542 Luna Brook Apt. 012</td>\n",
       "      <td>...</td>\n",
       "      <td>23</td>\n",
       "      <td>Cytogeneticist</td>\n",
       "      <td>1969-09-15</td>\n",
       "      <td>60aa3f575e8fb1ea715795d747924bbc</td>\n",
       "      <td>1373630637</td>\n",
       "      <td>32.318832</td>\n",
       "      <td>-102.830424</td>\n",
       "      <td>0</td>\n",
       "      <td>NaN</td>\n",
       "      <td>32.169899</td>\n",
       "    </tr>\n",
       "    <tr>\n",
       "      <th>61391</th>\n",
       "      <td>61391</td>\n",
       "      <td>2020-07-12 19:21:15</td>\n",
       "      <td>3560725013359375</td>\n",
       "      <td>fraud_Hills-Boyer</td>\n",
       "      <td>personal_care</td>\n",
       "      <td>11.32</td>\n",
       "      <td>Brooke</td>\n",
       "      <td>Smith</td>\n",
       "      <td>F</td>\n",
       "      <td>63542 Luna Brook Apt. 012</td>\n",
       "      <td>...</td>\n",
       "      <td>23</td>\n",
       "      <td>Cytogeneticist</td>\n",
       "      <td>1969-09-15</td>\n",
       "      <td>f4f230f780d49983e21b2c78bb29219b</td>\n",
       "      <td>1373656875</td>\n",
       "      <td>30.954681</td>\n",
       "      <td>-102.863302</td>\n",
       "      <td>0</td>\n",
       "      <td>79735.0</td>\n",
       "      <td>63.024495</td>\n",
       "    </tr>\n",
       "    <tr>\n",
       "      <th>62295</th>\n",
       "      <td>62295</td>\n",
       "      <td>2020-07-13 00:45:08</td>\n",
       "      <td>3560725013359375</td>\n",
       "      <td>fraud_Hayes, Marquardt and Dibbert</td>\n",
       "      <td>misc_net</td>\n",
       "      <td>32.92</td>\n",
       "      <td>Brooke</td>\n",
       "      <td>Smith</td>\n",
       "      <td>F</td>\n",
       "      <td>63542 Luna Brook Apt. 012</td>\n",
       "      <td>...</td>\n",
       "      <td>23</td>\n",
       "      <td>Cytogeneticist</td>\n",
       "      <td>1969-09-15</td>\n",
       "      <td>b227419a381d24150e7d324129918411</td>\n",
       "      <td>1373676308</td>\n",
       "      <td>31.855423</td>\n",
       "      <td>-102.819436</td>\n",
       "      <td>0</td>\n",
       "      <td>NaN</td>\n",
       "      <td>4.600779</td>\n",
       "    </tr>\n",
       "  </tbody>\n",
       "</table>\n",
       "<p>100 rows × 25 columns</p>\n",
       "</div>"
      ]
     },
     "execution_count": 36,
     "metadata": {},
     "output_type": "execute_result"
    }
   ],
   "execution_count": 36
  },
  {
   "metadata": {
    "ExecuteTime": {
     "end_time": "2024-10-30T01:52:41.012569Z",
     "start_time": "2024-10-30T01:52:40.785957Z"
    }
   },
   "cell_type": "code",
   "source": "df.info()",
   "id": "97f35d0e2f40aae6",
   "outputs": [
    {
     "name": "stdout",
     "output_type": "stream",
     "text": [
      "<class 'pandas.core.frame.DataFrame'>\n",
      "RangeIndex: 555719 entries, 0 to 555718\n",
      "Data columns (total 25 columns):\n",
      " #   Column                 Non-Null Count   Dtype  \n",
      "---  ------                 --------------   -----  \n",
      " 0   Unnamed: 0             555719 non-null  int64  \n",
      " 1   trans_date_trans_time  555719 non-null  object \n",
      " 2   cc_num                 555719 non-null  int64  \n",
      " 3   merchant               555719 non-null  object \n",
      " 4   category               555719 non-null  object \n",
      " 5   amt                    555719 non-null  float64\n",
      " 6   first                  555719 non-null  object \n",
      " 7   last                   555719 non-null  object \n",
      " 8   gender                 555719 non-null  object \n",
      " 9   street                 555719 non-null  object \n",
      " 10  city                   555719 non-null  object \n",
      " 11  state                  555719 non-null  object \n",
      " 12  zip                    555719 non-null  int64  \n",
      " 13  lat                    555719 non-null  float64\n",
      " 14  long                   555719 non-null  float64\n",
      " 15  city_pop               555719 non-null  int64  \n",
      " 16  job                    555719 non-null  object \n",
      " 17  dob                    555719 non-null  object \n",
      " 18  trans_num              555719 non-null  object \n",
      " 19  unix_time              555719 non-null  int64  \n",
      " 20  merch_lat              555719 non-null  float64\n",
      " 21  merch_long             555719 non-null  float64\n",
      " 22  is_fraud               555719 non-null  int64  \n",
      " 23  merch_zipcode          471736 non-null  float64\n",
      " 24  distance               555719 non-null  float64\n",
      "dtypes: float64(7), int64(6), object(12)\n",
      "memory usage: 106.0+ MB\n"
     ]
    }
   ],
   "execution_count": 65
  },
  {
   "metadata": {
    "ExecuteTime": {
     "end_time": "2024-10-30T01:53:35.695441Z",
     "start_time": "2024-10-30T01:53:35.279054Z"
    }
   },
   "cell_type": "code",
   "source": [
    "import matplotlib.pyplot as plt\n",
    "\n",
    "def plot_distance_distribution(df):\n",
    "    # Separate fraud and non-fraud transactions\n",
    "    fraud_transactions = df[df['is_fraud'] == 1]\n",
    "    non_fraud_transactions = df[df['is_fraud'] == 0]\n",
    "    \n",
    "    # Plot histograms\n",
    "    plt.figure(figsize=(12, 6))\n",
    "    \n",
    "    # Non-fraud transactions\n",
    "    plt.hist(non_fraud_transactions['distance'], bins=50, alpha=0.5, label='Non-Fraud', color='blue')\n",
    "    \n",
    "    # Fraud transactions\n",
    "    plt.hist(fraud_transactions['distance'], bins=50, alpha=0.5, label='Fraud', color='red')\n",
    "    \n",
    "    # Add labels and title\n",
    "    plt.xlabel('Distance')\n",
    "    plt.ylabel('Frequency')\n",
    "    plt.title('Distribution of Fraud and Non-Fraud Transactions Based on Distance')\n",
    "    plt.legend()\n",
    "    \n",
    "    plt.show()\n",
    "\n",
    "# Call the function to plot\n",
    "plot_distance_distribution(df)\n"
   ],
   "id": "ed1ad04ae8749b43",
   "outputs": [
    {
     "data": {
      "text/plain": [
       "<Figure size 1200x600 with 1 Axes>"
      ],
      "image/png": "[encoded data removed]"
     },
     "metadata": {},
     "output_type": "display_data"
    }
   ],
   "execution_count": 66
  },
  {
   "metadata": {},
   "cell_type": "code",
   "outputs": [],
   "execution_count": null,
   "source": "",
   "id": "5235e2a0ae4fc44e"
  },
  {
   "metadata": {},
   "cell_type": "code",
   "outputs": [],
   "execution_count": null,
   "source": "",
   "id": "b49f59c7db57ab53"
  },
  {
   "metadata": {},
   "cell_type": "code",
   "outputs": [],
   "execution_count": null,
   "source": "",
   "id": "a2f7579be622aeea"
  },
  {
   "metadata": {},
   "cell_type": "code",
   "outputs": [],
   "execution_count": null,
   "source": "",
   "id": "404a6bbc358625ef"
  },
  {
   "metadata": {},
   "cell_type": "code",
   "outputs": [],
   "execution_count": null,
   "source": "",
   "id": "e167a2c6550dab8"
  },
  {
   "metadata": {},
   "cell_type": "code",
   "outputs": [],
   "execution_count": null,
   "source": "",
   "id": "9184ab1cefb5ca80"
  },
  {
   "metadata": {},
   "cell_type": "code",
   "outputs": [],
   "execution_count": null,
   "source": "",
   "id": "d98f5a8b59dd9bb7"
  },
  {
   "metadata": {
    "ExecuteTime": {
     "end_time": "2024-10-30T10:49:17.231620Z",
     "start_time": "2024-10-30T10:49:16.678951Z"
    }
   },
   "cell_type": "code",
   "source": [
    "import plotly.graph_objects as go\n",
    "\n",
    "# Assume df has the columns 'lat', 'long', 'merch_lat', 'merch_long', and 'is_fraud'\n",
    "\n",
    "def plot_map(df):\n",
    "    # Calculate the center of the map\n",
    "    center_lat = df['lat'].mean()\n",
    "    center_long = df['long'].mean() \n",
    "\n",
    "    # Calculate the latitude and longitude ranges to set the zoom level\n",
    "    lat_range = max(df['lat'].max(), df['merch_lat'].max()) - min(df['lat'].min(), df['merch_lat'].min())\n",
    "    long_range = max(df['long'].max(), df['merch_long'].max()) - min(df['long'].min(), df['merch_long'].min())\n",
    "\n",
    "    # Adjust zoom based on the ranges (lower zoom if range is large)\n",
    "    zoom = 4 if max(lat_range, long_range) > 10 else 8\n",
    "\n",
    "    # Create a list of lines, each line connecting (lat, long) to (merch_lat, merch_long)\n",
    "    fig = go.Figure()\n",
    "\n",
    "    for _, row in df.iterrows():\n",
    "        color = 'red' if row['is_fraud'] == 1 else 'blue'  # Fraud in red, good transactions in blue\n",
    "        fig.add_trace(go.Scattermapbox(\n",
    "            mode=\"lines\",\n",
    "            lon=[row['long'], row['merch_long']],\n",
    "            lat=[row['lat'], row['merch_lat']],\n",
    "            line={'color': color},\n",
    "            marker={'size': 1}\n",
    "        ))\n",
    "\n",
    "    # Update the map layout with the calculated center and zoom\n",
    "    fig.update_layout(\n",
    "        mapbox={\n",
    "            'style': \"carto-positron\",\n",
    "            'center': {'lon': center_long, 'lat': center_lat},  # Center the map\n",
    "            'zoom': zoom  # Adjust the zoom level based on data range\n",
    "        },\n",
    "        height=800,  # Make the y-axis (plot height) bigger\n",
    "        showlegend=False\n",
    "    )\n",
    "\n",
    "    fig.show()\n",
    "\n",
    "\n",
    "# Combine the sampled data\n",
    "sampled_fraud = df[df['is_fraud'] == 1].sample(100)\n",
    "sampled_non_fraud = df[df['is_fraud'] == 0].sample(900)\n",
    "\n",
    "# Concatenate and then take a random sample of 1000 rows\n",
    "sampled_df = pd.concat([sampled_fraud, sampled_non_fraud])\n",
    "\n",
    "plot_map(sampled_df) # [df['cc_num'] == 3560725013359375]\n"
   ],
   "id": "757f213095ca6d52",
   "outputs": [
    {
     "data": {
      "application/vnd.plotly.v1+json": {
       "data": [
        {
         "lat": [
          36.4899,
          37.108707
         ],
         "line": {
          "color": "red"
         },
         "lon": [
          -79.4736,
          -78.649413
         ],
         "marker": {
          "size": 1
         },
         "mode": "lines",
         "type": "scattermapbox"
        },
        {
         "lat": [
          41.0001,
          41.341283
         ],
         "line": {
          "color": "red"
         },
         "lon": [
          -78.2357,
          -78.148225
         ],
         "marker": {
          "size": 1
         },
         "mode": "lines",
         "type": "scattermapbox"
        },
        {
         "lat": [
          42.9993,
          42.027111
         ],
         "line": {
          "color": "red"
         },
         "lon": [
          -88.2196,
          -88.529956
         ],
         "marker": {
          "size": 1
         },
         "mode": "lines",
         "type": "scattermapbox"
        },
        {
         "lat": [
          36.1486,
          36.807533
         ],
         "line": {
          "color": "red"
         },
         "lon": [
          -105.6648,
          -106.651408
         ],
         "marker": {
          "size": 1
         },
         "mode": "lines",
         "type": "scattermapbox"
        },
        {
         "lat": [
          44.9595,
          44.905424
         ],
         "line": {
          "color": "red"
         },
         "lon": [
          -93.8482,
          -92.975724
         ],
         "marker": {
          "size": 1
         },
         "mode": "lines",
         "type": "scattermapbox"
        },
        {
         "lat": [
          32.3739,
          31.974365
         ],
         "line": {
          "color": "red"
         },
         "lon": [
          -90.1293,
          -89.920354
         ],
         "marker": {
          "size": 1
         },
         "mode": "lines",
         "type": "scattermapbox"
        },
        {
         "lat": [
          48.8878,
          49.533242
         ],
         "line": {
          "color": "red"
         },
         "lon": [
          -118.2105,
          -117.87987
         ],
         "marker": {
          "size": 1
         },
         "mode": "lines",
         "type": "scattermapbox"
        },
        {
         "lat": [
          38.097,
          38.150576
         ],
         "line": {
          "color": "red"
         },
         "lon": [
          -86.1723,
          -85.721508
         ],
         "marker": {
          "size": 1
         },
         "mode": "lines",
         "type": "scattermapbox"
        },
        {
         "lat": [
          31.4285,
          32.394329
         ],
         "line": {
          "color": "red"
         },
         "lon": [
          -90.8578,
          -90.150933
         ],
         "marker": {
          "size": 1
         },
         "mode": "lines",
         "type": "scattermapbox"
        },
        {
         "lat": [
          42.2619,
          42.001271
         ],
         "line": {
          "color": "red"
         },
         "lon": [
          -94.5566,
          -94.895399
         ],
         "marker": {
          "size": 1
         },
         "mode": "lines",
         "type": "scattermapbox"
        },
        {
         "lat": [
          39.39,
          39.512316
         ],
         "line": {
          "color": "red"
         },
         "lon": [
          -88.9597,
          -87.990811
         ],
         "marker": {
          "size": 1
         },
         "mode": "lines",
         "type": "scattermapbox"
        },
        {
         "lat": [
          39.6991,
          39.618476
         ],
         "line": {
          "color": "red"
         },
         "lon": [
          -78.1762,
          -77.753339
         ],
         "marker": {
          "size": 1
         },
         "mode": "lines",
         "type": "scattermapbox"
        },
        {
         "lat": [
          34.1248,
          33.845292
         ],
         "line": {
          "color": "red"
         },
         "lon": [
          -117.9031,
          -118.698142
         ],
         "marker": {
          "size": 1
         },
         "mode": "lines",
         "type": "scattermapbox"
        },
        {
         "lat": [
          41.8467,
          41.086853999999995
         ],
         "line": {
          "color": "red"
         },
         "lon": [
          -74.1038,
          -73.44138199999999
         ],
         "marker": {
          "size": 1
         },
         "mode": "lines",
         "type": "scattermapbox"
        },
        {
         "lat": [
          44.8605,
          45.052403000000005
         ],
         "line": {
          "color": "red"
         },
         "lon": [
          -85.8138,
          -84.841629
         ],
         "marker": {
          "size": 1
         },
         "mode": "lines",
         "type": "scattermapbox"
        },
        {
         "lat": [
          47.9657,
          47.538401
         ],
         "line": {
          "color": "red"
         },
         "lon": [
          -116.868,
          -116.523594
         ],
         "marker": {
          "size": 1
         },
         "mode": "lines",
         "type": "scattermapbox"
        },
        {
         "lat": [
          30.8836,
          31.612332
         ],
         "line": {
          "color": "red"
         },
         "lon": [
          -84.3246,
          -84.89478299999999
         ],
         "marker": {
          "size": 1
         },
         "mode": "lines",
         "type": "scattermapbox"
        },
        {
         "lat": [
          30.4983,
          30.755653
         ],
         "line": {
          "color": "red"
         },
         "lon": [
          -88.3282,
          -88.809163
         ],
         "marker": {
          "size": 1
         },
         "mode": "lines",
         "type": "scattermapbox"
        },
        {
         "lat": [
          41.0592,
          40.124429
         ],
         "line": {
          "color": "red"
         },
         "lon": [
          -73.7395,
          -73.783699
         ],
         "marker": {
          "size": 1
         },
         "mode": "lines",
         "type": "scattermapbox"
        },
        {
         "lat": [
          42.1001,
          41.645053999999995
         ],
         "line": {
          "color": "red"
         },
         "lon": [
          -73.3611,
          -73.430254
         ],
         "marker": {
          "size": 1
         },
         "mode": "lines",
         "type": "scattermapbox"
        },
        {
         "lat": [
          34.0326,
          35.01748
         ],
         "line": {
          "color": "red"
         },
         "lon": [
          -82.2027,
          -82.354831
         ],
         "marker": {
          "size": 1
         },
         "mode": "lines",
         "type": "scattermapbox"
        },
        {
         "lat": [
          41.229,
          41.093506
         ],
         "line": {
          "color": "red"
         },
         "lon": [
          -85.3244,
          -84.84890899999999
         ],
         "marker": {
          "size": 1
         },
         "mode": "lines",
         "type": "scattermapbox"
        },
        {
         "lat": [
          41.55,
          41.870903000000006
         ],
         "line": {
          "color": "red"
         },
         "lon": [
          -87.4569,
          -87.172741
         ],
         "marker": {
          "size": 1
         },
         "mode": "lines",
         "type": "scattermapbox"
        },
        {
         "lat": [
          44.4477,
          45.105033
         ],
         "line": {
          "color": "red"
         },
         "lon": [
          -93.4252,
          -94.215523
         ],
         "marker": {
          "size": 1
         },
         "mode": "lines",
         "type": "scattermapbox"
        },
        {
         "lat": [
          48.8328,
          48.125345
         ],
         "line": {
          "color": "red"
         },
         "lon": [
          -108.3961,
          -108.009667
         ],
         "marker": {
          "size": 1
         },
         "mode": "lines",
         "type": "scattermapbox"
        },
        {
         "lat": [
          42.4969,
          41.804918
         ],
         "line": {
          "color": "red"
         },
         "lon": [
          -83.2911,
          -82.308767
         ],
         "marker": {
          "size": 1
         },
         "mode": "lines",
         "type": "scattermapbox"
        },
        {
         "lat": [
          42.4969,
          42.762068
         ],
         "line": {
          "color": "red"
         },
         "lon": [
          -83.2911,
          -82.64480400000001
         ],
         "marker": {
          "size": 1
         },
         "mode": "lines",
         "type": "scattermapbox"
        },
        {
         "lat": [
          42.52,
          42.012741
         ],
         "line": {
          "color": "red"
         },
         "lon": [
          -78.6847,
          -79.204228
         ],
         "marker": {
          "size": 1
         },
         "mode": "lines",
         "type": "scattermapbox"
        },
        {
         "lat": [
          38.5095,
          39.068494
         ],
         "line": {
          "color": "red"
         },
         "lon": [
          -78.2638,
          -79.249052
         ],
         "marker": {
          "size": 1
         },
         "mode": "lines",
         "type": "scattermapbox"
        },
        {
         "lat": [
          40.6761,
          39.748842
         ],
         "line": {
          "color": "red"
         },
         "lon": [
          -91.0391,
          -91.392595
         ],
         "marker": {
          "size": 1
         },
         "mode": "lines",
         "type": "scattermapbox"
        },
        {
         "lat": [
          43.0261,
          43.198536
         ],
         "line": {
          "color": "red"
         },
         "lon": [
          -94.4064,
          -93.5925
         ],
         "marker": {
          "size": 1
         },
         "mode": "lines",
         "type": "scattermapbox"
        },
        {
         "lat": [
          33.3224,
          33.806127000000004
         ],
         "line": {
          "color": "red"
         },
         "lon": [
          -86.9657,
          -87.564435
         ],
         "marker": {
          "size": 1
         },
         "mode": "lines",
         "type": "scattermapbox"
        },
        {
         "lat": [
          40.507,
          39.9323
         ],
         "line": {
          "color": "red"
         },
         "lon": [
          -123.9743,
          -124.521184
         ],
         "marker": {
          "size": 1
         },
         "mode": "lines",
         "type": "scattermapbox"
        },
        {
         "lat": [
          38.2674,
          38.355806
         ],
         "line": {
          "color": "red"
         },
         "lon": [
          -76.4954,
          -75.585197
         ],
         "marker": {
          "size": 1
         },
         "mode": "lines",
         "type": "scattermapbox"
        },
        {
         "lat": [
          38.4207,
          37.588409000000006
         ],
         "line": {
          "color": "red"
         },
         "lon": [
          -79.4629,
          -78.581611
         ],
         "marker": {
          "size": 1
         },
         "mode": "lines",
         "type": "scattermapbox"
        },
        {
         "lat": [
          27.633000000000003,
          27.278059999999996
         ],
         "line": {
          "color": "red"
         },
         "lon": [
          -80.4031,
          -79.59461800000001
         ],
         "marker": {
          "size": 1
         },
         "mode": "lines",
         "type": "scattermapbox"
        },
        {
         "lat": [
          32.2819,
          31.319715
         ],
         "line": {
          "color": "red"
         },
         "lon": [
          -98.5673,
          -98.454167
         ],
         "marker": {
          "size": 1
         },
         "mode": "lines",
         "type": "scattermapbox"
        },
        {
         "lat": [
          38.859,
          39.567029
         ],
         "line": {
          "color": "red"
         },
         "lon": [
          -77.0997,
          -77.383981
         ],
         "marker": {
          "size": 1
         },
         "mode": "lines",
         "type": "scattermapbox"
        },
        {
         "lat": [
          40.9051,
          41.346861
         ],
         "line": {
          "color": "red"
         },
         "lon": [
          -73.3309,
          -73.811637
         ],
         "marker": {
          "size": 1
         },
         "mode": "lines",
         "type": "scattermapbox"
        },
        {
         "lat": [
          42.1808,
          42.065971000000005
         ],
         "line": {
          "color": "red"
         },
         "lon": [
          -112.262,
          -113.202298
         ],
         "marker": {
          "size": 1
         },
         "mode": "lines",
         "type": "scattermapbox"
        },
        {
         "lat": [
          45.5303,
          45.053653999999995
         ],
         "line": {
          "color": "red"
         },
         "lon": [
          -122.7033,
          -121.732743
         ],
         "marker": {
          "size": 1
         },
         "mode": "lines",
         "type": "scattermapbox"
        },
        {
         "lat": [
          43.4512,
          43.25638
         ],
         "line": {
          "color": "red"
         },
         "lon": [
          -71.48899999999999,
          -71.81695500000001
         ],
         "marker": {
          "size": 1
         },
         "mode": "lines",
         "type": "scattermapbox"
        },
        {
         "lat": [
          41.5224,
          42.454688
         ],
         "line": {
          "color": "red"
         },
         "lon": [
          -71.9934,
          -72.521372
         ],
         "marker": {
          "size": 1
         },
         "mode": "lines",
         "type": "scattermapbox"
        },
        {
         "lat": [
          41.55,
          41.505282
         ],
         "line": {
          "color": "red"
         },
         "lon": [
          -87.4569,
          -86.715398
         ],
         "marker": {
          "size": 1
         },
         "mode": "lines",
         "type": "scattermapbox"
        },
        {
         "lat": [
          42.73,
          41.913325
         ],
         "line": {
          "color": "red"
         },
         "lon": [
          -104.7024,
          -105.137269
         ],
         "marker": {
          "size": 1
         },
         "mode": "lines",
         "type": "scattermapbox"
        },
        {
         "lat": [
          31.6489,
          32.496493
         ],
         "line": {
          "color": "red"
         },
         "lon": [
          -82.1982,
          -81.924762
         ],
         "marker": {
          "size": 1
         },
         "mode": "lines",
         "type": "scattermapbox"
        },
        {
         "lat": [
          41.6611,
          42.040289
         ],
         "line": {
          "color": "red"
         },
         "lon": [
          -73.0449,
          -72.75357
         ],
         "marker": {
          "size": 1
         },
         "mode": "lines",
         "type": "scattermapbox"
        },
        {
         "lat": [
          40.9051,
          40.832568
         ],
         "line": {
          "color": "red"
         },
         "lon": [
          -73.3309,
          -72.635088
         ],
         "marker": {
          "size": 1
         },
         "mode": "lines",
         "type": "scattermapbox"
        },
        {
         "lat": [
          39.2048,
          40.08806
         ],
         "line": {
          "color": "red"
         },
         "lon": [
          -94.0259,
          -93.079391
         ],
         "marker": {
          "size": 1
         },
         "mode": "lines",
         "type": "scattermapbox"
        },
        {
         "lat": [
          27.5517,
          26.693036
         ],
         "line": {
          "color": "red"
         },
         "lon": [
          -81.8074,
          -82.674109
         ],
         "marker": {
          "size": 1
         },
         "mode": "lines",
         "type": "scattermapbox"
        },
        {
         "lat": [
          33.4816,
          33.399006
         ],
         "line": {
          "color": "red"
         },
         "lon": [
          -86.859,
          -86.657747
         ],
         "marker": {
          "size": 1
         },
         "mode": "lines",
         "type": "scattermapbox"
        },
        {
         "lat": [
          32.274,
          31.97213
         ],
         "line": {
          "color": "red"
         },
         "lon": [
          -104.0914,
          -104.542286
         ],
         "marker": {
          "size": 1
         },
         "mode": "lines",
         "type": "scattermapbox"
        },
        {
         "lat": [
          41.3851,
          40.991696000000005
         ],
         "line": {
          "color": "red"
         },
         "lon": [
          -80.1752,
          -80.492104
         ],
         "marker": {
          "size": 1
         },
         "mode": "lines",
         "type": "scattermapbox"
        },
        {
         "lat": [
          40.6774,
          40.352201
         ],
         "line": {
          "color": "red"
         },
         "lon": [
          -74.4968,
          -75.487264
         ],
         "marker": {
          "size": 1
         },
         "mode": "lines",
         "type": "scattermapbox"
        },
        {
         "lat": [
          41.3851,
          41.409237
         ],
         "line": {
          "color": "red"
         },
         "lon": [
          -80.1752,
          -81.072455
         ],
         "marker": {
          "size": 1
         },
         "mode": "lines",
         "type": "scattermapbox"
        },
        {
         "lat": [
          34.0326,
          33.375886
         ],
         "line": {
          "color": "red"
         },
         "lon": [
          -82.2027,
          -82.772423
         ],
         "marker": {
          "size": 1
         },
         "mode": "lines",
         "type": "scattermapbox"
        },
        {
         "lat": [
          44.8955,
          45.274574
         ],
         "line": {
          "color": "red"
         },
         "lon": [
          -85.4082,
          -84.74460400000001
         ],
         "marker": {
          "size": 1
         },
         "mode": "lines",
         "type": "scattermapbox"
        },
        {
         "lat": [
          42.1239,
          41.699276
         ],
         "line": {
          "color": "red"
         },
         "lon": [
          -79.1895,
          -79.121394
         ],
         "marker": {
          "size": 1
         },
         "mode": "lines",
         "type": "scattermapbox"
        },
        {
         "lat": [
          55.4732,
          54.539825
         ],
         "line": {
          "color": "red"
         },
         "lon": [
          -133.1171,
          -132.377864
         ],
         "marker": {
          "size": 1
         },
         "mode": "lines",
         "type": "scattermapbox"
        },
        {
         "lat": [
          33.3305,
          32.607518
         ],
         "line": {
          "color": "red"
         },
         "lon": [
          -105.6933,
          -105.74693700000002
         ],
         "marker": {
          "size": 1
         },
         "mode": "lines",
         "type": "scattermapbox"
        },
        {
         "lat": [
          34.1832,
          33.464183
         ],
         "line": {
          "color": "red"
         },
         "lon": [
          -81.5324,
          -81.317635
         ],
         "marker": {
          "size": 1
         },
         "mode": "lines",
         "type": "scattermapbox"
        },
        {
         "lat": [
          37.8795,
          38.740308
         ],
         "line": {
          "color": "red"
         },
         "lon": [
          -82.7251,
          -81.752299
         ],
         "marker": {
          "size": 1
         },
         "mode": "lines",
         "type": "scattermapbox"
        },
        {
         "lat": [
          33.6666,
          33.894833
         ],
         "line": {
          "color": "red"
         },
         "lon": [
          -101.5277,
          -101.576969
         ],
         "marker": {
          "size": 1
         },
         "mode": "lines",
         "type": "scattermapbox"
        },
        {
         "lat": [
          30.592,
          30.936853999999997
         ],
         "line": {
          "color": "red"
         },
         "lon": [
          -97.2893,
          -96.940349
         ],
         "marker": {
          "size": 1
         },
         "mode": "lines",
         "type": "scattermapbox"
        },
        {
         "lat": [
          36.5276,
          36.73723
         ],
         "line": {
          "color": "red"
         },
         "lon": [
          -93.9359,
          -93.960864
         ],
         "marker": {
          "size": 1
         },
         "mode": "lines",
         "type": "scattermapbox"
        },
        {
         "lat": [
          35.833,
          36.330949
         ],
         "line": {
          "color": "red"
         },
         "lon": [
          -97.436,
          -97.892333
         ],
         "marker": {
          "size": 1
         },
         "mode": "lines",
         "type": "scattermapbox"
        },
        {
         "lat": [
          39.9934,
          40.949867
         ],
         "line": {
          "color": "red"
         },
         "lon": [
          -81.8024,
          -80.938135
         ],
         "marker": {
          "size": 1
         },
         "mode": "lines",
         "type": "scattermapbox"
        },
        {
         "lat": [
          34.9572,
          35.935144
         ],
         "line": {
          "color": "red"
         },
         "lon": [
          -81.9916,
          -82.927175
         ],
         "marker": {
          "size": 1
         },
         "mode": "lines",
         "type": "scattermapbox"
        },
        {
         "lat": [
          47.4974,
          46.570814
         ],
         "line": {
          "color": "red"
         },
         "lon": [
          -122.0107,
          -121.952525
         ],
         "marker": {
          "size": 1
         },
         "mode": "lines",
         "type": "scattermapbox"
        },
        {
         "lat": [
          47.3551,
          47.952192
         ],
         "line": {
          "color": "red"
         },
         "lon": [
          -96.798,
          -97.171577
         ],
         "marker": {
          "size": 1
         },
         "mode": "lines",
         "type": "scattermapbox"
        },
        {
         "lat": [
          40.3673,
          40.16684
         ],
         "line": {
          "color": "red"
         },
         "lon": [
          -79.1605,
          -78.553622
         ],
         "marker": {
          "size": 1
         },
         "mode": "lines",
         "type": "scattermapbox"
        },
        {
         "lat": [
          38.3511,
          37.436188
         ],
         "line": {
          "color": "red"
         },
         "lon": [
          -91.4867,
          -91.8161
         ],
         "marker": {
          "size": 1
         },
         "mode": "lines",
         "type": "scattermapbox"
        },
        {
         "lat": [
          38.8938,
          39.609781
         ],
         "line": {
          "color": "red"
         },
         "lon": [
          -86.5246,
          -87.062331
         ],
         "marker": {
          "size": 1
         },
         "mode": "lines",
         "type": "scattermapbox"
        },
        {
         "lat": [
          43.4512,
          42.596517
         ],
         "line": {
          "color": "red"
         },
         "lon": [
          -71.48899999999999,
          -72.334389
         ],
         "marker": {
          "size": 1
         },
         "mode": "lines",
         "type": "scattermapbox"
        },
        {
         "lat": [
          35.8985,
          35.306471
         ],
         "line": {
          "color": "red"
         },
         "lon": [
          -97.2607,
          -97.40572
         ],
         "marker": {
          "size": 1
         },
         "mode": "lines",
         "type": "scattermapbox"
        },
        {
         "lat": [
          38.3511,
          38.696249
         ],
         "line": {
          "color": "red"
         },
         "lon": [
          -91.4867,
          -91.30544
         ],
         "marker": {
          "size": 1
         },
         "mode": "lines",
         "type": "scattermapbox"
        },
        {
         "lat": [
          47.5412,
          46.679249
         ],
         "line": {
          "color": "red"
         },
         "lon": [
          -122.275,
          -123.271805
         ],
         "marker": {
          "size": 1
         },
         "mode": "lines",
         "type": "scattermapbox"
        },
        {
         "lat": [
          40.6267,
          40.96852
         ],
         "line": {
          "color": "red"
         },
         "lon": [
          -96.7456,
          -97.184621
         ],
         "marker": {
          "size": 1
         },
         "mode": "lines",
         "type": "scattermapbox"
        },
        {
         "lat": [
          43.4987,
          43.774875
         ],
         "line": {
          "color": "red"
         },
         "lon": [
          -90.2796,
          -90.727092
         ],
         "marker": {
          "size": 1
         },
         "mode": "lines",
         "type": "scattermapbox"
        },
        {
         "lat": [
          41.0935,
          41.276546
         ],
         "line": {
          "color": "red"
         },
         "lon": [
          -81.0425,
          -80.265867
         ],
         "marker": {
          "size": 1
         },
         "mode": "lines",
         "type": "scattermapbox"
        },
        {
         "lat": [
          39.2092,
          38.650523
         ],
         "line": {
          "color": "red"
         },
         "lon": [
          -76.6681,
          -77.665075
         ],
         "marker": {
          "size": 1
         },
         "mode": "lines",
         "type": "scattermapbox"
        },
        {
         "lat": [
          45.67100000000001,
          44.840338
         ],
         "line": {
          "color": "red"
         },
         "lon": [
          -121.8686,
          -121.99807
         ],
         "marker": {
          "size": 1
         },
         "mode": "lines",
         "type": "scattermapbox"
        },
        {
         "lat": [
          30.592,
          30.038315
         ],
         "line": {
          "color": "red"
         },
         "lon": [
          -97.2893,
          -96.858207
         ],
         "marker": {
          "size": 1
         },
         "mode": "lines",
         "type": "scattermapbox"
        },
        {
         "lat": [
          38.6207,
          38.061033
         ],
         "line": {
          "color": "red"
         },
         "lon": [
          -83.8067,
          -83.31994300000001
         ],
         "marker": {
          "size": 1
         },
         "mode": "lines",
         "type": "scattermapbox"
        },
        {
         "lat": [
          41.0001,
          40.692369
         ],
         "line": {
          "color": "red"
         },
         "lon": [
          -78.2357,
          -78.214276
         ],
         "marker": {
          "size": 1
         },
         "mode": "lines",
         "type": "scattermapbox"
        },
        {
         "lat": [
          45.4093,
          45.410675
         ],
         "line": {
          "color": "red"
         },
         "lon": [
          -122.6847,
          -123.397432
         ],
         "marker": {
          "size": 1
         },
         "mode": "lines",
         "type": "scattermapbox"
        },
        {
         "lat": [
          44.9437,
          44.456675
         ],
         "line": {
          "color": "red"
         },
         "lon": [
          -91.0294,
          -90.767457
         ],
         "marker": {
          "size": 1
         },
         "mode": "lines",
         "type": "scattermapbox"
        },
        {
         "lat": [
          37.7681,
          38.213846999999994
         ],
         "line": {
          "color": "red"
         },
         "lon": [
          -75.6664,
          -76.416574
         ],
         "marker": {
          "size": 1
         },
         "mode": "lines",
         "type": "scattermapbox"
        },
        {
         "lat": [
          41.6611,
          41.374934
         ],
         "line": {
          "color": "red"
         },
         "lon": [
          -73.0449,
          -72.514395
         ],
         "marker": {
          "size": 1
         },
         "mode": "lines",
         "type": "scattermapbox"
        },
        {
         "lat": [
          34.048,
          34.483166
         ],
         "line": {
          "color": "red"
         },
         "lon": [
          -85.9246,
          -86.33510799999999
         ],
         "marker": {
          "size": 1
         },
         "mode": "lines",
         "type": "scattermapbox"
        },
        {
         "lat": [
          37.0581,
          37.356155
         ],
         "line": {
          "color": "red"
         },
         "lon": [
          -86.1938,
          -85.517653
         ],
         "marker": {
          "size": 1
         },
         "mode": "lines",
         "type": "scattermapbox"
        },
        {
         "lat": [
          41.0695,
          40.763354
         ],
         "line": {
          "color": "red"
         },
         "lon": [
          -81.5488,
          -81.317657
         ],
         "marker": {
          "size": 1
         },
         "mode": "lines",
         "type": "scattermapbox"
        },
        {
         "lat": [
          41.8948,
          42.208725
         ],
         "line": {
          "color": "red"
         },
         "lon": [
          -73.9767,
          -74.049635
         ],
         "marker": {
          "size": 1
         },
         "mode": "lines",
         "type": "scattermapbox"
        },
        {
         "lat": [
          45.7364,
          44.823867
         ],
         "line": {
          "color": "red"
         },
         "lon": [
          -94.1658,
          -94.689224
         ],
         "marker": {
          "size": 1
         },
         "mode": "lines",
         "type": "scattermapbox"
        },
        {
         "lat": [
          40.7699,
          40.59868
         ],
         "line": {
          "color": "red"
         },
         "lon": [
          -73.9511,
          -73.301794
         ],
         "marker": {
          "size": 1
         },
         "mode": "lines",
         "type": "scattermapbox"
        },
        {
         "lat": [
          33.5494,
          34.141904
         ],
         "line": {
          "color": "red"
         },
         "lon": [
          -111.9565,
          -112.540038
         ],
         "marker": {
          "size": 1
         },
         "mode": "lines",
         "type": "scattermapbox"
        },
        {
         "lat": [
          36.741,
          35.81365
         ],
         "line": {
          "color": "red"
         },
         "lon": [
          -108.351,
          -107.587304
         ],
         "marker": {
          "size": 1
         },
         "mode": "lines",
         "type": "scattermapbox"
        },
        {
         "lat": [
          40.7152,
          40.600096
         ],
         "line": {
          "color": "red"
         },
         "lon": [
          -89.2706,
          -89.576626
         ],
         "marker": {
          "size": 1
         },
         "mode": "lines",
         "type": "scattermapbox"
        },
        {
         "lat": [
          37.575,
          38.170213
         ],
         "line": {
          "color": "red"
         },
         "lon": [
          -88.9655,
          -89.91609100000001
         ],
         "marker": {
          "size": 1
         },
         "mode": "lines",
         "type": "scattermapbox"
        },
        {
         "lat": [
          36.1124,
          35.944982
         ],
         "line": {
          "color": "red"
         },
         "lon": [
          -78.6476,
          -78.79561600000001
         ],
         "marker": {
          "size": 1
         },
         "mode": "lines",
         "type": "scattermapbox"
        },
        {
         "lat": [
          45.2857,
          44.726715000000006
         ],
         "line": {
          "color": "blue"
         },
         "lon": [
          -108.9082,
          -108.818269
         ],
         "marker": {
          "size": 1
         },
         "mode": "lines",
         "type": "scattermapbox"
        },
        {
         "lat": [
          40.333,
          40.09734
         ],
         "line": {
          "color": "blue"
         },
         "lon": [
          -73.9809,
          -73.648198
         ],
         "marker": {
          "size": 1
         },
         "mode": "lines",
         "type": "scattermapbox"
        },
        {
         "lat": [
          33.9349,
          33.041835999999996
         ],
         "line": {
          "color": "blue"
         },
         "lon": [
          -80.8449,
          -81.806584
         ],
         "marker": {
          "size": 1
         },
         "mode": "lines",
         "type": "scattermapbox"
        },
        {
         "lat": [
          32.7004,
          31.793352
         ],
         "line": {
          "color": "blue"
         },
         "lon": [
          -97.6039,
          -97.383381
         ],
         "marker": {
          "size": 1
         },
         "mode": "lines",
         "type": "scattermapbox"
        },
        {
         "lat": [
          32.1482,
          32.586801
         ],
         "line": {
          "color": "blue"
         },
         "lon": [
          -99.1872,
          -99.548983
         ],
         "marker": {
          "size": 1
         },
         "mode": "lines",
         "type": "scattermapbox"
        },
        {
         "lat": [
          42.3669,
          42.006339
         ],
         "line": {
          "color": "blue"
         },
         "lon": [
          -82.9938,
          -83.985439
         ],
         "marker": {
          "size": 1
         },
         "mode": "lines",
         "type": "scattermapbox"
        },
        {
         "lat": [
          38.2427,
          37.747492
         ],
         "line": {
          "color": "blue"
         },
         "lon": [
          -122.9145,
          -122.317681
         ],
         "marker": {
          "size": 1
         },
         "mode": "lines",
         "type": "scattermapbox"
        },
        {
         "lat": [
          34.847,
          35.524233
         ],
         "line": {
          "color": "blue"
         },
         "lon": [
          -98.9836,
          -98.284063
         ],
         "marker": {
          "size": 1
         },
         "mode": "lines",
         "type": "scattermapbox"
        },
        {
         "lat": [
          40.6761,
          39.874949
         ],
         "line": {
          "color": "blue"
         },
         "lon": [
          -91.0391,
          -90.855803
         ],
         "marker": {
          "size": 1
         },
         "mode": "lines",
         "type": "scattermapbox"
        },
        {
         "lat": [
          38.4549,
          38.216165999999994
         ],
         "line": {
          "color": "blue"
         },
         "lon": [
          -122.2564,
          -121.284006
         ],
         "marker": {
          "size": 1
         },
         "mode": "lines",
         "type": "scattermapbox"
        },
        {
         "lat": [
          42.9993,
          43.69602
         ],
         "line": {
          "color": "blue"
         },
         "lon": [
          -88.2196,
          -88.361492
         ],
         "marker": {
          "size": 1
         },
         "mode": "lines",
         "type": "scattermapbox"
        },
        {
         "lat": [
          41.4798,
          41.752522
         ],
         "line": {
          "color": "blue"
         },
         "lon": [
          -79.9403,
          -79.574387
         ],
         "marker": {
          "size": 1
         },
         "mode": "lines",
         "type": "scattermapbox"
        },
        {
         "lat": [
          32.2768,
          33.036637
         ],
         "line": {
          "color": "blue"
         },
         "lon": [
          -95.3031,
          -95.625792
         ],
         "marker": {
          "size": 1
         },
         "mode": "lines",
         "type": "scattermapbox"
        },
        {
         "lat": [
          41.4193,
          40.710587
         ],
         "line": {
          "color": "blue"
         },
         "lon": [
          -99.3844,
          -99.324373
         ],
         "marker": {
          "size": 1
         },
         "mode": "lines",
         "type": "scattermapbox"
        },
        {
         "lat": [
          40.9051,
          40.94153
         ],
         "line": {
          "color": "blue"
         },
         "lon": [
          -73.3309,
          -74.23893299999999
         ],
         "marker": {
          "size": 1
         },
         "mode": "lines",
         "type": "scattermapbox"
        },
        {
         "lat": [
          27.9865,
          28.414447999999997
         ],
         "line": {
          "color": "blue"
         },
         "lon": [
          -82.0139,
          -81.88571
         ],
         "marker": {
          "size": 1
         },
         "mode": "lines",
         "type": "scattermapbox"
        },
        {
         "lat": [
          40.3928,
          40.795471
         ],
         "line": {
          "color": "blue"
         },
         "lon": [
          -111.7941,
          -110.962005
         ],
         "marker": {
          "size": 1
         },
         "mode": "lines",
         "type": "scattermapbox"
        },
        {
         "lat": [
          26.4215,
          26.03393
         ],
         "line": {
          "color": "blue"
         },
         "lon": [
          -99.0025,
          -98.074765
         ],
         "marker": {
          "size": 1
         },
         "mode": "lines",
         "type": "scattermapbox"
        },
        {
         "lat": [
          41.55,
          41.877409
         ],
         "line": {
          "color": "blue"
         },
         "lon": [
          -87.4569,
          -87.180701
         ],
         "marker": {
          "size": 1
         },
         "mode": "lines",
         "type": "scattermapbox"
        },
        {
         "lat": [
          40.813,
          40.5331
         ],
         "line": {
          "color": "blue"
         },
         "lon": [
          -83.4196,
          -83.81148
         ],
         "marker": {
          "size": 1
         },
         "mode": "lines",
         "type": "scattermapbox"
        },
        {
         "lat": [
          41.6414,
          42.287323
         ],
         "line": {
          "color": "blue"
         },
         "lon": [
          -96.5232,
          -96.287472
         ],
         "marker": {
          "size": 1
         },
         "mode": "lines",
         "type": "scattermapbox"
        },
        {
         "lat": [
          30.2385,
          31.169389
         ],
         "line": {
          "color": "blue"
         },
         "lon": [
          -90.8435,
          -90.727313
         ],
         "marker": {
          "size": 1
         },
         "mode": "lines",
         "type": "scattermapbox"
        },
        {
         "lat": [
          33.9845,
          34.129419
         ],
         "line": {
          "color": "blue"
         },
         "lon": [
          -85.9077,
          -86.674554
         ],
         "marker": {
          "size": 1
         },
         "mode": "lines",
         "type": "scattermapbox"
        },
        {
         "lat": [
          41.7918,
          42.425889
         ],
         "line": {
          "color": "blue"
         },
         "lon": [
          -72.7188,
          -72.71538699999999
         ],
         "marker": {
          "size": 1
         },
         "mode": "lines",
         "type": "scattermapbox"
        },
        {
         "lat": [
          40.2878,
          39.900556
         ],
         "line": {
          "color": "blue"
         },
         "lon": [
          -74.0162,
          -74.803283
         ],
         "marker": {
          "size": 1
         },
         "mode": "lines",
         "type": "scattermapbox"
        },
        {
         "lat": [
          41.1573,
          40.670969
         ],
         "line": {
          "color": "blue"
         },
         "lon": [
          -88.0619,
          -88.628352
         ],
         "marker": {
          "size": 1
         },
         "mode": "lines",
         "type": "scattermapbox"
        },
        {
         "lat": [
          46.3535,
          46.250071000000005
         ],
         "line": {
          "color": "blue"
         },
         "lon": [
          -86.6345,
          -87.264588
         ],
         "marker": {
          "size": 1
         },
         "mode": "lines",
         "type": "scattermapbox"
        },
        {
         "lat": [
          36.7558,
          35.987154
         ],
         "line": {
          "color": "blue"
         },
         "lon": [
          -83.1838,
          -83.66581
         ],
         "marker": {
          "size": 1
         },
         "mode": "lines",
         "type": "scattermapbox"
        },
        {
         "lat": [
          40.6025,
          41.246318
         ],
         "line": {
          "color": "blue"
         },
         "lon": [
          -80.3863,
          -81.207424
         ],
         "marker": {
          "size": 1
         },
         "mode": "lines",
         "type": "scattermapbox"
        },
        {
         "lat": [
          44.0575,
          44.202845
         ],
         "line": {
          "color": "blue"
         },
         "lon": [
          -69.9656,
          -70.944575
         ],
         "marker": {
          "size": 1
         },
         "mode": "lines",
         "type": "scattermapbox"
        },
        {
         "lat": [
          36.7779,
          36.294438
         ],
         "line": {
          "color": "blue"
         },
         "lon": [
          -81.7676,
          -82.196275
         ],
         "marker": {
          "size": 1
         },
         "mode": "lines",
         "type": "scattermapbox"
        },
        {
         "lat": [
          37.7878,
          37.809703000000006
         ],
         "line": {
          "color": "blue"
         },
         "lon": [
          -122.1884,
          -121.364051
         ],
         "marker": {
          "size": 1
         },
         "mode": "lines",
         "type": "scattermapbox"
        },
        {
         "lat": [
          36.1183,
          35.777458
         ],
         "line": {
          "color": "blue"
         },
         "lon": [
          -79.5685,
          -79.276967
         ],
         "marker": {
          "size": 1
         },
         "mode": "lines",
         "type": "scattermapbox"
        },
        {
         "lat": [
          48.6669,
          47.702444
         ],
         "line": {
          "color": "blue"
         },
         "lon": [
          -96.5969,
          -97.552188
         ],
         "marker": {
          "size": 1
         },
         "mode": "lines",
         "type": "scattermapbox"
        },
        {
         "lat": [
          37.9943,
          38.360501
         ],
         "line": {
          "color": "blue"
         },
         "lon": [
          -88.9417,
          -88.184335
         ],
         "marker": {
          "size": 1
         },
         "mode": "lines",
         "type": "scattermapbox"
        },
        {
         "lat": [
          43.5335,
          43.48273
         ],
         "line": {
          "color": "blue"
         },
         "lon": [
          -96.3645,
          -96.770587
         ],
         "marker": {
          "size": 1
         },
         "mode": "lines",
         "type": "scattermapbox"
        },
        {
         "lat": [
          34.6205,
          34.553754
         ],
         "line": {
          "color": "blue"
         },
         "lon": [
          -86.551,
          -86.44086899999999
         ],
         "marker": {
          "size": 1
         },
         "mode": "lines",
         "type": "scattermapbox"
        },
        {
         "lat": [
          43.0397,
          43.48781
         ],
         "line": {
          "color": "blue"
         },
         "lon": [
          -77.6871,
          -78.581696
         ],
         "marker": {
          "size": 1
         },
         "mode": "lines",
         "type": "scattermapbox"
        },
        {
         "lat": [
          48.6669,
          47.766159
         ],
         "line": {
          "color": "blue"
         },
         "lon": [
          -96.5969,
          -95.975082
         ],
         "marker": {
          "size": 1
         },
         "mode": "lines",
         "type": "scattermapbox"
        },
        {
         "lat": [
          43.4269,
          43.73881
         ],
         "line": {
          "color": "blue"
         },
         "lon": [
          -85.2924,
          -84.942758
         ],
         "marker": {
          "size": 1
         },
         "mode": "lines",
         "type": "scattermapbox"
        },
        {
         "lat": [
          39.6967,
          38.79382
         ],
         "line": {
          "color": "blue"
         },
         "lon": [
          -78.8031,
          -78.194106
         ],
         "marker": {
          "size": 1
         },
         "mode": "lines",
         "type": "scattermapbox"
        },
        {
         "lat": [
          44.6255,
          43.838728
         ],
         "line": {
          "color": "blue"
         },
         "lon": [
          -116.4493,
          -117.220641
         ],
         "marker": {
          "size": 1
         },
         "mode": "lines",
         "type": "scattermapbox"
        },
        {
         "lat": [
          29.5894,
          29.639084000000004
         ],
         "line": {
          "color": "blue"
         },
         "lon": [
          -98.5201,
          -98.092819
         ],
         "marker": {
          "size": 1
         },
         "mode": "lines",
         "type": "scattermapbox"
        },
        {
         "lat": [
          46.0062,
          46.702162
         ],
         "line": {
          "color": "blue"
         },
         "lon": [
          -86.2555,
          -85.79632099999999
         ],
         "marker": {
          "size": 1
         },
         "mode": "lines",
         "type": "scattermapbox"
        },
        {
         "lat": [
          44.9913,
          45.437521999999994
         ],
         "line": {
          "color": "blue"
         },
         "lon": [
          -92.9487,
          -93.827976
         ],
         "marker": {
          "size": 1
         },
         "mode": "lines",
         "type": "scattermapbox"
        },
        {
         "lat": [
          20.0827,
          20.498634
         ],
         "line": {
          "color": "blue"
         },
         "lon": [
          -155.488,
          -155.617555
         ],
         "marker": {
          "size": 1
         },
         "mode": "lines",
         "type": "scattermapbox"
        },
        {
         "lat": [
          35.2229,
          36.098955
         ],
         "line": {
          "color": "blue"
         },
         "lon": [
          -89.5518,
          -89.11089100000001
         ],
         "marker": {
          "size": 1
         },
         "mode": "lines",
         "type": "scattermapbox"
        },
        {
         "lat": [
          38.8881,
          38.702321999999995
         ],
         "line": {
          "color": "blue"
         },
         "lon": [
          -104.6556,
          -104.447251
         ],
         "marker": {
          "size": 1
         },
         "mode": "lines",
         "type": "scattermapbox"
        },
        {
         "lat": [
          42.9385,
          42.437336
         ],
         "line": {
          "color": "blue"
         },
         "lon": [
          -88.395,
          -87.988671
         ],
         "marker": {
          "size": 1
         },
         "mode": "lines",
         "type": "scattermapbox"
        },
        {
         "lat": [
          44.0577,
          44.586428999999995
         ],
         "line": {
          "color": "blue"
         },
         "lon": [
          -76.0196,
          -75.96725699999999
         ],
         "marker": {
          "size": 1
         },
         "mode": "lines",
         "type": "scattermapbox"
        },
        {
         "lat": [
          40.6025,
          41.197584
         ],
         "line": {
          "color": "blue"
         },
         "lon": [
          -80.3863,
          -80.647735
         ],
         "marker": {
          "size": 1
         },
         "mode": "lines",
         "type": "scattermapbox"
        },
        {
         "lat": [
          43.7588,
          44.485983
         ],
         "line": {
          "color": "blue"
         },
         "lon": [
          -97.8712,
          -97.490513
         ],
         "marker": {
          "size": 1
         },
         "mode": "lines",
         "type": "scattermapbox"
        },
        {
         "lat": [
          40.1334,
          40.523551
         ],
         "line": {
          "color": "blue"
         },
         "lon": [
          -75.4536,
          -75.640946
         ],
         "marker": {
          "size": 1
         },
         "mode": "lines",
         "type": "scattermapbox"
        },
        {
         "lat": [
          48.1439,
          48.516493
         ],
         "line": {
          "color": "blue"
         },
         "lon": [
          -92.8561,
          -92.430947
         ],
         "marker": {
          "size": 1
         },
         "mode": "lines",
         "type": "scattermapbox"
        },
        {
         "lat": [
          30.9,
          30.139190999999997
         ],
         "line": {
          "color": "blue"
         },
         "lon": [
          -94.7547,
          -94.830365
         ],
         "marker": {
          "size": 1
         },
         "mode": "lines",
         "type": "scattermapbox"
        },
        {
         "lat": [
          41.4622,
          41.364121
         ],
         "line": {
          "color": "blue"
         },
         "lon": [
          -79.1306,
          -78.902574
         ],
         "marker": {
          "size": 1
         },
         "mode": "lines",
         "type": "scattermapbox"
        },
        {
         "lat": [
          38.0828,
          38.464929999999995
         ],
         "line": {
          "color": "blue"
         },
         "lon": [
          -76.3477,
          -75.848778
         ],
         "marker": {
          "size": 1
         },
         "mode": "lines",
         "type": "scattermapbox"
        },
        {
         "lat": [
          32.3836,
          31.456711
         ],
         "line": {
          "color": "blue"
         },
         "lon": [
          -94.8653,
          -95.411379
         ],
         "marker": {
          "size": 1
         },
         "mode": "lines",
         "type": "scattermapbox"
        },
        {
         "lat": [
          32.1482,
          31.890482
         ],
         "line": {
          "color": "blue"
         },
         "lon": [
          -99.1872,
          -99.651517
         ],
         "marker": {
          "size": 1
         },
         "mode": "lines",
         "type": "scattermapbox"
        },
        {
         "lat": [
          38.9999,
          39.517845
         ],
         "line": {
          "color": "blue"
         },
         "lon": [
          -109.615,
          -109.95571499999998
         ],
         "marker": {
          "size": 1
         },
         "mode": "lines",
         "type": "scattermapbox"
        },
        {
         "lat": [
          37.6223,
          37.708498
         ],
         "line": {
          "color": "blue"
         },
         "lon": [
          -97.3136,
          -97.005572
         ],
         "marker": {
          "size": 1
         },
         "mode": "lines",
         "type": "scattermapbox"
        },
        {
         "lat": [
          47.0874,
          47.92815
         ],
         "line": {
          "color": "blue"
         },
         "lon": [
          -93.9196,
          -94.561645
         ],
         "marker": {
          "size": 1
         },
         "mode": "lines",
         "type": "scattermapbox"
        },
        {
         "lat": [
          41.1826,
          40.313673
         ],
         "line": {
          "color": "blue"
         },
         "lon": [
          -92.3097,
          -91.325674
         ],
         "marker": {
          "size": 1
         },
         "mode": "lines",
         "type": "scattermapbox"
        },
        {
         "lat": [
          38.1981,
          37.807359000000005
         ],
         "line": {
          "color": "blue"
         },
         "lon": [
          -86.6821,
          -87.130082
         ],
         "marker": {
          "size": 1
         },
         "mode": "lines",
         "type": "scattermapbox"
        },
        {
         "lat": [
          38.0649,
          37.352593
         ],
         "line": {
          "color": "blue"
         },
         "lon": [
          -99.2374,
          -98.751579
         ],
         "marker": {
          "size": 1
         },
         "mode": "lines",
         "type": "scattermapbox"
        },
        {
         "lat": [
          38.1372,
          37.267941
         ],
         "line": {
          "color": "blue"
         },
         "lon": [
          -81.5962,
          -80.674185
         ],
         "marker": {
          "size": 1
         },
         "mode": "lines",
         "type": "scattermapbox"
        },
        {
         "lat": [
          27.4703,
          27.511351
         ],
         "line": {
          "color": "blue"
         },
         "lon": [
          -81.4872,
          -81.96113299999999
         ],
         "marker": {
          "size": 1
         },
         "mode": "lines",
         "type": "scattermapbox"
        },
        {
         "lat": [
          36.9688,
          37.321078
         ],
         "line": {
          "color": "blue"
         },
         "lon": [
          -78.5615,
          -79.513788
         ],
         "marker": {
          "size": 1
         },
         "mode": "lines",
         "type": "scattermapbox"
        },
        {
         "lat": [
          42.3327,
          42.771265
         ],
         "line": {
          "color": "blue"
         },
         "lon": [
          -95.6045,
          -96.046336
         ],
         "marker": {
          "size": 1
         },
         "mode": "lines",
         "type": "scattermapbox"
        },
        {
         "lat": [
          41.0767,
          41.617567
         ],
         "line": {
          "color": "blue"
         },
         "lon": [
          -74.5982,
          -74.672599
         ],
         "marker": {
          "size": 1
         },
         "mode": "lines",
         "type": "scattermapbox"
        },
        {
         "lat": [
          39.4336,
          38.843619
         ],
         "line": {
          "color": "blue"
         },
         "lon": [
          -87.4101,
          -87.891137
         ],
         "marker": {
          "size": 1
         },
         "mode": "lines",
         "type": "scattermapbox"
        },
        {
         "lat": [
          40.201,
          39.652959
         ],
         "line": {
          "color": "blue"
         },
         "lon": [
          -98.0684,
          -98.741892
         ],
         "marker": {
          "size": 1
         },
         "mode": "lines",
         "type": "scattermapbox"
        },
        {
         "lat": [
          44.6087,
          45.393985
         ],
         "line": {
          "color": "blue"
         },
         "lon": [
          -74.9732,
          -74.443866
         ],
         "marker": {
          "size": 1
         },
         "mode": "lines",
         "type": "scattermapbox"
        },
        {
         "lat": [
          37.3272,
          36.967482
         ],
         "line": {
          "color": "blue"
         },
         "lon": [
          -91.0243,
          -90.898655
         ],
         "marker": {
          "size": 1
         },
         "mode": "lines",
         "type": "scattermapbox"
        },
        {
         "lat": [
          41.0646,
          40.889255
         ],
         "line": {
          "color": "blue"
         },
         "lon": [
          -87.5917,
          -87.95994499999999
         ],
         "marker": {
          "size": 1
         },
         "mode": "lines",
         "type": "scattermapbox"
        },
        {
         "lat": [
          36.1486,
          35.319503999999995
         ],
         "line": {
          "color": "blue"
         },
         "lon": [
          -105.6648,
          -105.161148
         ],
         "marker": {
          "size": 1
         },
         "mode": "lines",
         "type": "scattermapbox"
        },
        {
         "lat": [
          33.4629,
          32.503698
         ],
         "line": {
          "color": "blue"
         },
         "lon": [
          -86.7904,
          -87.15445600000001
         ],
         "marker": {
          "size": 1
         },
         "mode": "lines",
         "type": "scattermapbox"
        },
        {
         "lat": [
          44.0575,
          44.494208
         ],
         "line": {
          "color": "blue"
         },
         "lon": [
          -69.9656,
          -69.126076
         ],
         "marker": {
          "size": 1
         },
         "mode": "lines",
         "type": "scattermapbox"
        },
        {
         "lat": [
          37.6848,
          37.612157
         ],
         "line": {
          "color": "blue"
         },
         "lon": [
          -85.8784,
          -86.262232
         ],
         "marker": {
          "size": 1
         },
         "mode": "lines",
         "type": "scattermapbox"
        },
        {
         "lat": [
          36.8809,
          37.106337
         ],
         "line": {
          "color": "blue"
         },
         "lon": [
          -82.0956,
          -82.643512
         ],
         "marker": {
          "size": 1
         },
         "mode": "lines",
         "type": "scattermapbox"
        },
        {
         "lat": [
          41.4575,
          41.177975
         ],
         "line": {
          "color": "blue"
         },
         "lon": [
          -74.1659,
          -75.056528
         ],
         "marker": {
          "size": 1
         },
         "mode": "lines",
         "type": "scattermapbox"
        },
        {
         "lat": [
          40.4931,
          39.556172
         ],
         "line": {
          "color": "blue"
         },
         "lon": [
          -91.8912,
          -91.385403
         ],
         "marker": {
          "size": 1
         },
         "mode": "lines",
         "type": "scattermapbox"
        },
        {
         "lat": [
          27.4703,
          27.079627
         ],
         "line": {
          "color": "blue"
         },
         "lon": [
          -81.4872,
          -81.260472
         ],
         "marker": {
          "size": 1
         },
         "mode": "lines",
         "type": "scattermapbox"
        },
        {
         "lat": [
          37.9931,
          37.845112
         ],
         "line": {
          "color": "blue"
         },
         "lon": [
          -100.9893,
          -100.129233
         ],
         "marker": {
          "size": 1
         },
         "mode": "lines",
         "type": "scattermapbox"
        },
        {
         "lat": [
          42.074,
          42.017082
         ],
         "line": {
          "color": "blue"
         },
         "lon": [
          -74.453,
          -73.510038
         ],
         "marker": {
          "size": 1
         },
         "mode": "lines",
         "type": "scattermapbox"
        },
        {
         "lat": [
          43.0048,
          43.347528
         ],
         "line": {
          "color": "blue"
         },
         "lon": [
          -108.8964,
          -108.952998
         ],
         "marker": {
          "size": 1
         },
         "mode": "lines",
         "type": "scattermapbox"
        },
        {
         "lat": [
          45.7801,
          45.115739000000005
         ],
         "line": {
          "color": "blue"
         },
         "lon": [
          -111.1439,
          -111.1776
         ],
         "marker": {
          "size": 1
         },
         "mode": "lines",
         "type": "scattermapbox"
        },
        {
         "lat": [
          38.0828,
          37.682821999999994
         ],
         "line": {
          "color": "blue"
         },
         "lon": [
          -76.3477,
          -76.892286
         ],
         "marker": {
          "size": 1
         },
         "mode": "lines",
         "type": "scattermapbox"
        },
        {
         "lat": [
          36.1124,
          36.287062
         ],
         "line": {
          "color": "blue"
         },
         "lon": [
          -78.6476,
          -78.436401
         ],
         "marker": {
          "size": 1
         },
         "mode": "lines",
         "type": "scattermapbox"
        },
        {
         "lat": [
          38.5072,
          38.362891999999995
         ],
         "line": {
          "color": "blue"
         },
         "lon": [
          -81.89,
          -81.472061
         ],
         "marker": {
          "size": 1
         },
         "mode": "lines",
         "type": "scattermapbox"
        },
        {
         "lat": [
          37.1641,
          37.796478
         ],
         "line": {
          "color": "blue"
         },
         "lon": [
          -96.6917,
          -97.464559
         ],
         "marker": {
          "size": 1
         },
         "mode": "lines",
         "type": "scattermapbox"
        },
        {
         "lat": [
          38.9621,
          39.508157
         ],
         "line": {
          "color": "blue"
         },
         "lon": [
          -94.5959,
          -94.688206
         ],
         "marker": {
          "size": 1
         },
         "mode": "lines",
         "type": "scattermapbox"
        },
        {
         "lat": [
          39.6662,
          38.981986
         ],
         "line": {
          "color": "blue"
         },
         "lon": [
          -104.835,
          -104.645251
         ],
         "marker": {
          "size": 1
         },
         "mode": "lines",
         "type": "scattermapbox"
        },
        {
         "lat": [
          34.5091,
          33.925605
         ],
         "line": {
          "color": "blue"
         },
         "lon": [
          -92.4828,
          -92.44467
         ],
         "marker": {
          "size": 1
         },
         "mode": "lines",
         "type": "scattermapbox"
        },
        {
         "lat": [
          37.7878,
          38.398990999999995
         ],
         "line": {
          "color": "blue"
         },
         "lon": [
          -122.1884,
          -121.838096
         ],
         "marker": {
          "size": 1
         },
         "mode": "lines",
         "type": "scattermapbox"
        },
        {
         "lat": [
          37.7827,
          37.868287
         ],
         "line": {
          "color": "blue"
         },
         "lon": [
          -80.3129,
          -80.54518399999999
         ],
         "marker": {
          "size": 1
         },
         "mode": "lines",
         "type": "scattermapbox"
        },
        {
         "lat": [
          43.7575,
          43.365559999999995
         ],
         "line": {
          "color": "blue"
         },
         "lon": [
          -122.481,
          -123.316953
         ],
         "marker": {
          "size": 1
         },
         "mode": "lines",
         "type": "scattermapbox"
        },
        {
         "lat": [
          32.2768,
          32.870215
         ],
         "line": {
          "color": "blue"
         },
         "lon": [
          -95.3031,
          -94.327401
         ],
         "marker": {
          "size": 1
         },
         "mode": "lines",
         "type": "scattermapbox"
        },
        {
         "lat": [
          42.32,
          42.245889
         ],
         "line": {
          "color": "blue"
         },
         "lon": [
          -78.0943,
          -78.25850600000001
         ],
         "marker": {
          "size": 1
         },
         "mode": "lines",
         "type": "scattermapbox"
        },
        {
         "lat": [
          26.529,
          25.723042
         ],
         "line": {
          "color": "blue"
         },
         "lon": [
          -82.0916,
          -81.238396
         ],
         "marker": {
          "size": 1
         },
         "mode": "lines",
         "type": "scattermapbox"
        },
        {
         "lat": [
          39.537,
          39.566973
         ],
         "line": {
          "color": "blue"
         },
         "lon": [
          -83.455,
          -83.21073100000001
         ],
         "marker": {
          "size": 1
         },
         "mode": "lines",
         "type": "scattermapbox"
        },
        {
         "lat": [
          41.6611,
          41.70263
         ],
         "line": {
          "color": "blue"
         },
         "lon": [
          -73.0449,
          -73.324047
         ],
         "marker": {
          "size": 1
         },
         "mode": "lines",
         "type": "scattermapbox"
        },
        {
         "lat": [
          40.8555,
          40.175527
         ],
         "line": {
          "color": "blue"
         },
         "lon": [
          -79.7372,
          -80.072032
         ],
         "marker": {
          "size": 1
         },
         "mode": "lines",
         "type": "scattermapbox"
        },
        {
         "lat": [
          43.6498,
          43.176226
         ],
         "line": {
          "color": "blue"
         },
         "lon": [
          -116.4306,
          -115.987241
         ],
         "marker": {
          "size": 1
         },
         "mode": "lines",
         "type": "scattermapbox"
        },
        {
         "lat": [
          43.5089,
          43.693416
         ],
         "line": {
          "color": "blue"
         },
         "lon": [
          -93.4824,
          -93.831952
         ],
         "marker": {
          "size": 1
         },
         "mode": "lines",
         "type": "scattermapbox"
        },
        {
         "lat": [
          45.6675,
          45.366007
         ],
         "line": {
          "color": "blue"
         },
         "lon": [
          -93.2433,
          -92.396703
         ],
         "marker": {
          "size": 1
         },
         "mode": "lines",
         "type": "scattermapbox"
        },
        {
         "lat": [
          40.6284,
          40.814015999999995
         ],
         "line": {
          "color": "blue"
         },
         "lon": [
          -76.195,
          -76.91883100000001
         ],
         "marker": {
          "size": 1
         },
         "mode": "lines",
         "type": "scattermapbox"
        },
        {
         "lat": [
          28.1762,
          27.740651
         ],
         "line": {
          "color": "blue"
         },
         "lon": [
          -81.9591,
          -82.38125600000001
         ],
         "marker": {
          "size": 1
         },
         "mode": "lines",
         "type": "scattermapbox"
        },
        {
         "lat": [
          34.9298,
          34.291146999999995
         ],
         "line": {
          "color": "blue"
         },
         "lon": [
          -84.9885,
          -84.618381
         ],
         "marker": {
          "size": 1
         },
         "mode": "lines",
         "type": "scattermapbox"
        },
        {
         "lat": [
          32.9413,
          33.660789
         ],
         "line": {
          "color": "blue"
         },
         "lon": [
          -81.1807,
          -80.23514
         ],
         "marker": {
          "size": 1
         },
         "mode": "lines",
         "type": "scattermapbox"
        },
        {
         "lat": [
          38.388000000000005,
          37.470278
         ],
         "line": {
          "color": "blue"
         },
         "lon": [
          -79.9906,
          -79.569903
         ],
         "marker": {
          "size": 1
         },
         "mode": "lines",
         "type": "scattermapbox"
        },
        {
         "lat": [
          42.0158,
          41.310156
         ],
         "line": {
          "color": "blue"
         },
         "lon": [
          -73.2913,
          -72.62046099999999
         ],
         "marker": {
          "size": 1
         },
         "mode": "lines",
         "type": "scattermapbox"
        },
        {
         "lat": [
          36.7558,
          37.364789
         ],
         "line": {
          "color": "blue"
         },
         "lon": [
          -83.1838,
          -82.516356
         ],
         "marker": {
          "size": 1
         },
         "mode": "lines",
         "type": "scattermapbox"
        },
        {
         "lat": [
          39.047,
          39.044981
         ],
         "line": {
          "color": "blue"
         },
         "lon": [
          -122.9328,
          -122.355921
         ],
         "marker": {
          "size": 1
         },
         "mode": "lines",
         "type": "scattermapbox"
        },
        {
         "lat": [
          44.0943,
          43.172325
         ],
         "line": {
          "color": "blue"
         },
         "lon": [
          -69.4828,
          -70.356031
         ],
         "marker": {
          "size": 1
         },
         "mode": "lines",
         "type": "scattermapbox"
        },
        {
         "lat": [
          42.5232,
          43.003573
         ],
         "line": {
          "color": "blue"
         },
         "lon": [
          -72.811,
          -72.950852
         ],
         "marker": {
          "size": 1
         },
         "mode": "lines",
         "type": "scattermapbox"
        },
        {
         "lat": [
          33.141,
          32.170394
         ],
         "line": {
          "color": "blue"
         },
         "lon": [
          -84.1759,
          -83.54868499999999
         ],
         "marker": {
          "size": 1
         },
         "mode": "lines",
         "type": "scattermapbox"
        },
        {
         "lat": [
          34.6205,
          33.864711
         ],
         "line": {
          "color": "blue"
         },
         "lon": [
          -86.551,
          -86.48919000000001
         ],
         "marker": {
          "size": 1
         },
         "mode": "lines",
         "type": "scattermapbox"
        },
        {
         "lat": [
          39.9914,
          40.515882
         ],
         "line": {
          "color": "blue"
         },
         "lon": [
          -80.4408,
          -79.833844
         ],
         "marker": {
          "size": 1
         },
         "mode": "lines",
         "type": "scattermapbox"
        },
        {
         "lat": [
          38.1372,
          38.039831
         ],
         "line": {
          "color": "blue"
         },
         "lon": [
          -81.5962,
          -82.511076
         ],
         "marker": {
          "size": 1
         },
         "mode": "lines",
         "type": "scattermapbox"
        },
        {
         "lat": [
          34.347,
          34.785513
         ],
         "line": {
          "color": "blue"
         },
         "lon": [
          -87.7154,
          -87.10206
         ],
         "marker": {
          "size": 1
         },
         "mode": "lines",
         "type": "scattermapbox"
        },
        {
         "lat": [
          41.1573,
          41.071167
         ],
         "line": {
          "color": "blue"
         },
         "lon": [
          -88.0619,
          -88.940731
         ],
         "marker": {
          "size": 1
         },
         "mode": "lines",
         "type": "scattermapbox"
        },
        {
         "lat": [
          36.385,
          36.114244
         ],
         "line": {
          "color": "blue"
         },
         "lon": [
          -98.0727,
          -97.986019
         ],
         "marker": {
          "size": 1
         },
         "mode": "lines",
         "type": "scattermapbox"
        },
        {
         "lat": [
          41.2244,
          41.680013
         ],
         "line": {
          "color": "blue"
         },
         "lon": [
          -86.6966,
          -86.342311
         ],
         "marker": {
          "size": 1
         },
         "mode": "lines",
         "type": "scattermapbox"
        },
        {
         "lat": [
          38.0261,
          37.925811
         ],
         "line": {
          "color": "blue"
         },
         "lon": [
          -97.6666,
          -98.305991
         ],
         "marker": {
          "size": 1
         },
         "mode": "lines",
         "type": "scattermapbox"
        },
        {
         "lat": [
          46.3535,
          47.19299
         ],
         "line": {
          "color": "blue"
         },
         "lon": [
          -86.6345,
          -87.112706
         ],
         "marker": {
          "size": 1
         },
         "mode": "lines",
         "type": "scattermapbox"
        },
        {
         "lat": [
          42.7012,
          42.064276
         ],
         "line": {
          "color": "blue"
         },
         "lon": [
          -92.0762,
          -91.341971
         ],
         "marker": {
          "size": 1
         },
         "mode": "lines",
         "type": "scattermapbox"
        },
        {
         "lat": [
          41.6858,
          42.100911
         ],
         "line": {
          "color": "blue"
         },
         "lon": [
          -90.3706,
          -90.926318
         ],
         "marker": {
          "size": 1
         },
         "mode": "lines",
         "type": "scattermapbox"
        },
        {
         "lat": [
          42.1782,
          42.553158
         ],
         "line": {
          "color": "blue"
         },
         "lon": [
          -83.2461,
          -83.870377
         ],
         "marker": {
          "size": 1
         },
         "mode": "lines",
         "type": "scattermapbox"
        },
        {
         "lat": [
          32.0913,
          32.461217
         ],
         "line": {
          "color": "blue"
         },
         "lon": [
          -83.7922,
          -83.023225
         ],
         "marker": {
          "size": 1
         },
         "mode": "lines",
         "type": "scattermapbox"
        },
        {
         "lat": [
          40.9918,
          40.489224
         ],
         "line": {
          "color": "blue"
         },
         "lon": [
          -73.98,
          -74.74204
         ],
         "marker": {
          "size": 1
         },
         "mode": "lines",
         "type": "scattermapbox"
        },
        {
         "lat": [
          38.4921,
          37.720003000000005
         ],
         "line": {
          "color": "blue"
         },
         "lon": [
          -85.4524,
          -85.058256
         ],
         "marker": {
          "size": 1
         },
         "mode": "lines",
         "type": "scattermapbox"
        },
        {
         "lat": [
          37.3304,
          37.048783
         ],
         "line": {
          "color": "blue"
         },
         "lon": [
          -121.7913,
          -120.882976
         ],
         "marker": {
          "size": 1
         },
         "mode": "lines",
         "type": "scattermapbox"
        },
        {
         "lat": [
          38.8881,
          38.943514
         ],
         "line": {
          "color": "blue"
         },
         "lon": [
          -104.6556,
          -105.652673
         ],
         "marker": {
          "size": 1
         },
         "mode": "lines",
         "type": "scattermapbox"
        },
        {
         "lat": [
          40.507,
          40.629327
         ],
         "line": {
          "color": "blue"
         },
         "lon": [
          -123.9743,
          -124.193303
         ],
         "marker": {
          "size": 1
         },
         "mode": "lines",
         "type": "scattermapbox"
        },
        {
         "lat": [
          38.9318,
          39.748164
         ],
         "line": {
          "color": "blue"
         },
         "lon": [
          -89.9618,
          -89.07952
         ],
         "marker": {
          "size": 1
         },
         "mode": "lines",
         "type": "scattermapbox"
        },
        {
         "lat": [
          30.6576,
          29.706528
         ],
         "line": {
          "color": "blue"
         },
         "lon": [
          -91.6264,
          -90.817174
         ],
         "marker": {
          "size": 1
         },
         "mode": "lines",
         "type": "scattermapbox"
        },
        {
         "lat": [
          42.73,
          42.957176
         ],
         "line": {
          "color": "blue"
         },
         "lon": [
          -104.7024,
          -105.2008
         ],
         "marker": {
          "size": 1
         },
         "mode": "lines",
         "type": "scattermapbox"
        },
        {
         "lat": [
          26.4215,
          27.408533
         ],
         "line": {
          "color": "blue"
         },
         "lon": [
          -99.0025,
          -99.723605
         ],
         "marker": {
          "size": 1
         },
         "mode": "lines",
         "type": "scattermapbox"
        },
        {
         "lat": [
          30.8635,
          31.145743
         ],
         "line": {
          "color": "blue"
         },
         "lon": [
          -87.7644,
          -88.488527
         ],
         "marker": {
          "size": 1
         },
         "mode": "lines",
         "type": "scattermapbox"
        },
        {
         "lat": [
          44.0577,
          44.427434000000005
         ],
         "line": {
          "color": "blue"
         },
         "lon": [
          -76.0196,
          -75.504209
         ],
         "marker": {
          "size": 1
         },
         "mode": "lines",
         "type": "scattermapbox"
        },
        {
         "lat": [
          38.1372,
          37.863481
         ],
         "line": {
          "color": "blue"
         },
         "lon": [
          -81.5962,
          -81.940044
         ],
         "marker": {
          "size": 1
         },
         "mode": "lines",
         "type": "scattermapbox"
        },
        {
         "lat": [
          42.6911,
          43.052947
         ],
         "line": {
          "color": "blue"
         },
         "lon": [
          -71.1605,
          -70.326263
         ],
         "marker": {
          "size": 1
         },
         "mode": "lines",
         "type": "scattermapbox"
        },
        {
         "lat": [
          43.7557,
          44.670752
         ],
         "line": {
          "color": "blue"
         },
         "lon": [
          -97.5936,
          -96.977989
         ],
         "marker": {
          "size": 1
         },
         "mode": "lines",
         "type": "scattermapbox"
        },
        {
         "lat": [
          44.9673,
          45.712556
         ],
         "line": {
          "color": "blue"
         },
         "lon": [
          -93.2828,
          -92.878454
         ],
         "marker": {
          "size": 1
         },
         "mode": "lines",
         "type": "scattermapbox"
        },
        {
         "lat": [
          40.3928,
          39.596405
         ],
         "line": {
          "color": "blue"
         },
         "lon": [
          -111.7941,
          -111.13295
         ],
         "marker": {
          "size": 1
         },
         "mode": "lines",
         "type": "scattermapbox"
        },
        {
         "lat": [
          35.4311,
          34.851804
         ],
         "line": {
          "color": "blue"
         },
         "lon": [
          -105.9409,
          -106.087144
         ],
         "marker": {
          "size": 1
         },
         "mode": "lines",
         "type": "scattermapbox"
        },
        {
         "lat": [
          40.5046,
          39.957639
         ],
         "line": {
          "color": "blue"
         },
         "lon": [
          -77.7186,
          -77.327711
         ],
         "marker": {
          "size": 1
         },
         "mode": "lines",
         "type": "scattermapbox"
        },
        {
         "lat": [
          31.929,
          31.114215
         ],
         "line": {
          "color": "blue"
         },
         "lon": [
          -97.6443,
          -96.797893
         ],
         "marker": {
          "size": 1
         },
         "mode": "lines",
         "type": "scattermapbox"
        },
        {
         "lat": [
          42.1239,
          42.655014
         ],
         "line": {
          "color": "blue"
         },
         "lon": [
          -79.1895,
          -79.136604
         ],
         "marker": {
          "size": 1
         },
         "mode": "lines",
         "type": "scattermapbox"
        },
        {
         "lat": [
          42.6853,
          41.881164
         ],
         "line": {
          "color": "blue"
         },
         "lon": [
          -73.8253,
          -73.04185600000001
         ],
         "marker": {
          "size": 1
         },
         "mode": "lines",
         "type": "scattermapbox"
        },
        {
         "lat": [
          47.2271,
          46.439006
         ],
         "line": {
          "color": "blue"
         },
         "lon": [
          -117.0819,
          -117.170761
         ],
         "marker": {
          "size": 1
         },
         "mode": "lines",
         "type": "scattermapbox"
        },
        {
         "lat": [
          39.9347,
          40.819208
         ],
         "line": {
          "color": "blue"
         },
         "lon": [
          -86.1633,
          -86.54713000000001
         ],
         "marker": {
          "size": 1
         },
         "mode": "lines",
         "type": "scattermapbox"
        },
        {
         "lat": [
          32.9013,
          32.684246
         ],
         "line": {
          "color": "blue"
         },
         "lon": [
          -91.0286,
          -91.803355
         ],
         "marker": {
          "size": 1
         },
         "mode": "lines",
         "type": "scattermapbox"
        },
        {
         "lat": [
          35.2229,
          34.484395
         ],
         "line": {
          "color": "blue"
         },
         "lon": [
          -89.5518,
          -88.916443
         ],
         "marker": {
          "size": 1
         },
         "mode": "lines",
         "type": "scattermapbox"
        },
        {
         "lat": [
          46.0062,
          45.969986
         ],
         "line": {
          "color": "blue"
         },
         "lon": [
          -86.2555,
          -85.522637
         ],
         "marker": {
          "size": 1
         },
         "mode": "lines",
         "type": "scattermapbox"
        },
        {
         "lat": [
          30.8836,
          30.69545
         ],
         "line": {
          "color": "blue"
         },
         "lon": [
          -84.3246,
          -84.732989
         ],
         "marker": {
          "size": 1
         },
         "mode": "lines",
         "type": "scattermapbox"
        },
        {
         "lat": [
          42.8948,
          42.292775
         ],
         "line": {
          "color": "blue"
         },
         "lon": [
          -74.8209,
          -74.436903
         ],
         "marker": {
          "size": 1
         },
         "mode": "lines",
         "type": "scattermapbox"
        },
        {
         "lat": [
          35.9866,
          35.611798
         ],
         "line": {
          "color": "blue"
         },
         "lon": [
          -106.0654,
          -105.378007
         ],
         "marker": {
          "size": 1
         },
         "mode": "lines",
         "type": "scattermapbox"
        },
        {
         "lat": [
          44.0978,
          43.509729
         ],
         "line": {
          "color": "blue"
         },
         "lon": [
          -72.0191,
          -72.44951400000001
         ],
         "marker": {
          "size": 1
         },
         "mode": "lines",
         "type": "scattermapbox"
        },
        {
         "lat": [
          41.55,
          41.867738
         ],
         "line": {
          "color": "blue"
         },
         "lon": [
          -87.4569,
          -88.368245
         ],
         "marker": {
          "size": 1
         },
         "mode": "lines",
         "type": "scattermapbox"
        },
        {
         "lat": [
          38.9763,
          39.152973
         ],
         "line": {
          "color": "blue"
         },
         "lon": [
          -87.3667,
          -86.53788399999999
         ],
         "marker": {
          "size": 1
         },
         "mode": "lines",
         "type": "scattermapbox"
        },
        {
         "lat": [
          35.0203,
          35.361839
         ],
         "line": {
          "color": "blue"
         },
         "lon": [
          -106.5503,
          -106.770794
         ],
         "marker": {
          "size": 1
         },
         "mode": "lines",
         "type": "scattermapbox"
        },
        {
         "lat": [
          35.8985,
          36.193536
         ],
         "line": {
          "color": "blue"
         },
         "lon": [
          -97.2607,
          -96.900182
         ],
         "marker": {
          "size": 1
         },
         "mode": "lines",
         "type": "scattermapbox"
        },
        {
         "lat": [
          42.2848,
          41.854787
         ],
         "line": {
          "color": "blue"
         },
         "lon": [
          -71.7205,
          -72.23738900000001
         ],
         "marker": {
          "size": 1
         },
         "mode": "lines",
         "type": "scattermapbox"
        },
        {
         "lat": [
          35.5762,
          35.37785
         ],
         "line": {
          "color": "blue"
         },
         "lon": [
          -91.4539,
          -91.193474
         ],
         "marker": {
          "size": 1
         },
         "mode": "lines",
         "type": "scattermapbox"
        },
        {
         "lat": [
          34.3396,
          35.17938
         ],
         "line": {
          "color": "blue"
         },
         "lon": [
          -89.5736,
          -89.072787
         ],
         "marker": {
          "size": 1
         },
         "mode": "lines",
         "type": "scattermapbox"
        },
        {
         "lat": [
          41.2419,
          40.351869
         ],
         "line": {
          "color": "blue"
         },
         "lon": [
          -81.7453,
          -81.429124
         ],
         "marker": {
          "size": 1
         },
         "mode": "lines",
         "type": "scattermapbox"
        },
        {
         "lat": [
          42.9373,
          42.436469
         ],
         "line": {
          "color": "blue"
         },
         "lon": [
          -87.9943,
          -87.477581
         ],
         "marker": {
          "size": 1
         },
         "mode": "lines",
         "type": "scattermapbox"
        },
        {
         "lat": [
          32.8357,
          33.620481
         ],
         "line": {
          "color": "blue"
         },
         "lon": [
          -79.8217,
          -79.912712
         ],
         "marker": {
          "size": 1
         },
         "mode": "lines",
         "type": "scattermapbox"
        },
        {
         "lat": [
          34.347,
          34.120228999999995
         ],
         "line": {
          "color": "blue"
         },
         "lon": [
          -87.7154,
          -88.23239000000001
         ],
         "marker": {
          "size": 1
         },
         "mode": "lines",
         "type": "scattermapbox"
        },
        {
         "lat": [
          37.9073,
          38.706340999999995
         ],
         "line": {
          "color": "blue"
         },
         "lon": [
          -75.5089,
          -74.84237399999999
         ],
         "marker": {
          "size": 1
         },
         "mode": "lines",
         "type": "scattermapbox"
        },
        {
         "lat": [
          41.1762,
          40.780577
         ],
         "line": {
          "color": "blue"
         },
         "lon": [
          -79.1976,
          -79.96880999999999
         ],
         "marker": {
          "size": 1
         },
         "mode": "lines",
         "type": "scattermapbox"
        },
        {
         "lat": [
          46.3535,
          46.949523
         ],
         "line": {
          "color": "blue"
         },
         "lon": [
          -86.6345,
          -87.00166
         ],
         "marker": {
          "size": 1
         },
         "mode": "lines",
         "type": "scattermapbox"
        },
        {
         "lat": [
          39.047,
          38.130537
         ],
         "line": {
          "color": "blue"
         },
         "lon": [
          -122.9328,
          -123.750713
         ],
         "marker": {
          "size": 1
         },
         "mode": "lines",
         "type": "scattermapbox"
        },
        {
         "lat": [
          30.592,
          31.376964
         ],
         "line": {
          "color": "blue"
         },
         "lon": [
          -97.2893,
          -98.073848
         ],
         "marker": {
          "size": 1
         },
         "mode": "lines",
         "type": "scattermapbox"
        },
        {
         "lat": [
          41.173,
          41.376446
         ],
         "line": {
          "color": "blue"
         },
         "lon": [
          -89.2187,
          -88.70118199999999
         ],
         "marker": {
          "size": 1
         },
         "mode": "lines",
         "type": "scattermapbox"
        },
        {
         "lat": [
          38.4921,
          38.439289
         ],
         "line": {
          "color": "blue"
         },
         "lon": [
          -85.4524,
          -86.242939
         ],
         "marker": {
          "size": 1
         },
         "mode": "lines",
         "type": "scattermapbox"
        },
        {
         "lat": [
          39.8936,
          40.058206
         ],
         "line": {
          "color": "blue"
         },
         "lon": [
          -79.7856,
          -80.434267
         ],
         "marker": {
          "size": 1
         },
         "mode": "lines",
         "type": "scattermapbox"
        },
        {
         "lat": [
          41.6125,
          40.826887
         ],
         "line": {
          "color": "blue"
         },
         "lon": [
          -122.5258,
          -122.614847
         ],
         "marker": {
          "size": 1
         },
         "mode": "lines",
         "type": "scattermapbox"
        },
        {
         "lat": [
          35.8759,
          35.006516
         ],
         "line": {
          "color": "blue"
         },
         "lon": [
          -96.9623,
          -97.043694
         ],
         "marker": {
          "size": 1
         },
         "mode": "lines",
         "type": "scattermapbox"
        },
        {
         "lat": [
          42.73,
          43.567421
         ],
         "line": {
          "color": "blue"
         },
         "lon": [
          -104.7024,
          -104.869173
         ],
         "marker": {
          "size": 1
         },
         "mode": "lines",
         "type": "scattermapbox"
        },
        {
         "lat": [
          42.2665,
          43.023058
         ],
         "line": {
          "color": "blue"
         },
         "lon": [
          -72.0821,
          -72.48334
         ],
         "marker": {
          "size": 1
         },
         "mode": "lines",
         "type": "scattermapbox"
        },
        {
         "lat": [
          38.7897,
          38.358524
         ],
         "line": {
          "color": "blue"
         },
         "lon": [
          -93.8702,
          -93.118919
         ],
         "marker": {
          "size": 1
         },
         "mode": "lines",
         "type": "scattermapbox"
        },
        {
         "lat": [
          31.1569,
          31.765195
         ],
         "line": {
          "color": "blue"
         },
         "lon": [
          -94.3871,
          -94.086299
         ],
         "marker": {
          "size": 1
         },
         "mode": "lines",
         "type": "scattermapbox"
        },
        {
         "lat": [
          41.2244,
          41.767942
         ],
         "line": {
          "color": "blue"
         },
         "lon": [
          -86.6966,
          -87.580492
         ],
         "marker": {
          "size": 1
         },
         "mode": "lines",
         "type": "scattermapbox"
        },
        {
         "lat": [
          40.8295,
          41.106933000000005
         ],
         "line": {
          "color": "blue"
         },
         "lon": [
          -72.6473,
          -72.577584
         ],
         "marker": {
          "size": 1
         },
         "mode": "lines",
         "type": "scattermapbox"
        },
        {
         "lat": [
          36.9688,
          37.437226
         ],
         "line": {
          "color": "blue"
         },
         "lon": [
          -78.5615,
          -77.751302
         ],
         "marker": {
          "size": 1
         },
         "mode": "lines",
         "type": "scattermapbox"
        },
        {
         "lat": [
          30.592,
          30.967267
         ],
         "line": {
          "color": "blue"
         },
         "lon": [
          -97.2893,
          -97.007339
         ],
         "marker": {
          "size": 1
         },
         "mode": "lines",
         "type": "scattermapbox"
        },
        {
         "lat": [
          43.4512,
          43.812385
         ],
         "line": {
          "color": "blue"
         },
         "lon": [
          -71.48899999999999,
          -70.775613
         ],
         "marker": {
          "size": 1
         },
         "mode": "lines",
         "type": "scattermapbox"
        },
        {
         "lat": [
          35.6665,
          35.464665000000004
         ],
         "line": {
          "color": "blue"
         },
         "lon": [
          -97.4798,
          -97.766359
         ],
         "marker": {
          "size": 1
         },
         "mode": "lines",
         "type": "scattermapbox"
        },
        {
         "lat": [
          32.2768,
          32.968152
         ],
         "line": {
          "color": "blue"
         },
         "lon": [
          -95.3031,
          -95.631528
         ],
         "marker": {
          "size": 1
         },
         "mode": "lines",
         "type": "scattermapbox"
        },
        {
         "lat": [
          43.196000000000005,
          42.977807
         ],
         "line": {
          "color": "blue"
         },
         "lon": [
          -72.3001,
          -72.341422
         ],
         "marker": {
          "size": 1
         },
         "mode": "lines",
         "type": "scattermapbox"
        },
        {
         "lat": [
          34.7032,
          34.631021000000004
         ],
         "line": {
          "color": "blue"
         },
         "lon": [
          -98.9591,
          -99.56692
         ],
         "marker": {
          "size": 1
         },
         "mode": "lines",
         "type": "scattermapbox"
        },
        {
         "lat": [
          38.7897,
          38.205724
         ],
         "line": {
          "color": "blue"
         },
         "lon": [
          -93.8702,
          -93.176644
         ],
         "marker": {
          "size": 1
         },
         "mode": "lines",
         "type": "scattermapbox"
        },
        {
         "lat": [
          40.6816,
          41.451131
         ],
         "line": {
          "color": "blue"
         },
         "lon": [
          -73.9798,
          -74.69227099999999
         ],
         "marker": {
          "size": 1
         },
         "mode": "lines",
         "type": "scattermapbox"
        },
        {
         "lat": [
          42.4828,
          41.529993
         ],
         "line": {
          "color": "blue"
         },
         "lon": [
          -71.0978,
          -71.693704
         ],
         "marker": {
          "size": 1
         },
         "mode": "lines",
         "type": "scattermapbox"
        },
        {
         "lat": [
          39.6171,
          39.882156
         ],
         "line": {
          "color": "blue"
         },
         "lon": [
          -102.4776,
          -102.653178
         ],
         "marker": {
          "size": 1
         },
         "mode": "lines",
         "type": "scattermapbox"
        },
        {
         "lat": [
          34.2853,
          34.543248
         ],
         "line": {
          "color": "blue"
         },
         "lon": [
          -91.3336,
          -90.484481
         ],
         "marker": {
          "size": 1
         },
         "mode": "lines",
         "type": "scattermapbox"
        },
        {
         "lat": [
          33.9215,
          33.700492
         ],
         "line": {
          "color": "blue"
         },
         "lon": [
          -89.6782,
          -89.43384499999999
         ],
         "marker": {
          "size": 1
         },
         "mode": "lines",
         "type": "scattermapbox"
        },
        {
         "lat": [
          37.9073,
          38.601953
         ],
         "line": {
          "color": "blue"
         },
         "lon": [
          -75.5089,
          -75.978326
         ],
         "marker": {
          "size": 1
         },
         "mode": "lines",
         "type": "scattermapbox"
        },
        {
         "lat": [
          36.0244,
          36.447957
         ],
         "line": {
          "color": "blue"
         },
         "lon": [
          -90.9288,
          -91.213831
         ],
         "marker": {
          "size": 1
         },
         "mode": "lines",
         "type": "scattermapbox"
        },
        {
         "lat": [
          32.2779,
          31.80159
         ],
         "line": {
          "color": "blue"
         },
         "lon": [
          -97.2351,
          -97.442201
         ],
         "marker": {
          "size": 1
         },
         "mode": "lines",
         "type": "scattermapbox"
        },
        {
         "lat": [
          36.385,
          37.149282
         ],
         "line": {
          "color": "blue"
         },
         "lon": [
          -98.0727,
          -97.334254
         ],
         "marker": {
          "size": 1
         },
         "mode": "lines",
         "type": "scattermapbox"
        },
        {
         "lat": [
          41.8114,
          41.903712
         ],
         "line": {
          "color": "blue"
         },
         "lon": [
          -93.4855,
          -93.012199
         ],
         "marker": {
          "size": 1
         },
         "mode": "lines",
         "type": "scattermapbox"
        },
        {
         "lat": [
          30.4983,
          31.155888
         ],
         "line": {
          "color": "blue"
         },
         "lon": [
          -88.3282,
          -89.13774599999999
         ],
         "marker": {
          "size": 1
         },
         "mode": "lines",
         "type": "scattermapbox"
        },
        {
         "lat": [
          39.9148,
          39.306734000000006
         ],
         "line": {
          "color": "blue"
         },
         "lon": [
          -80.73100000000001,
          -80.188897
         ],
         "marker": {
          "size": 1
         },
         "mode": "lines",
         "type": "scattermapbox"
        },
        {
         "lat": [
          39.5994,
          38.903774
         ],
         "line": {
          "color": "blue"
         },
         "lon": [
          -105.0044,
          -104.609195
         ],
         "marker": {
          "size": 1
         },
         "mode": "lines",
         "type": "scattermapbox"
        },
        {
         "lat": [
          26.4722,
          26.751927
         ],
         "line": {
          "color": "blue"
         },
         "lon": [
          -81.8122,
          -82.661034
         ],
         "marker": {
          "size": 1
         },
         "mode": "lines",
         "type": "scattermapbox"
        },
        {
         "lat": [
          40.6866,
          40.535176
         ],
         "line": {
          "color": "blue"
         },
         "lon": [
          -92.6833,
          -93.536831
         ],
         "marker": {
          "size": 1
         },
         "mode": "lines",
         "type": "scattermapbox"
        },
        {
         "lat": [
          43.033,
          43.594762
         ],
         "line": {
          "color": "blue"
         },
         "lon": [
          -77.1575,
          -77.697612
         ],
         "marker": {
          "size": 1
         },
         "mode": "lines",
         "type": "scattermapbox"
        },
        {
         "lat": [
          34.847,
          35.724377000000004
         ],
         "line": {
          "color": "blue"
         },
         "lon": [
          -98.9836,
          -99.305158
         ],
         "marker": {
          "size": 1
         },
         "mode": "lines",
         "type": "scattermapbox"
        },
        {
         "lat": [
          43.7893,
          44.522090000000006
         ],
         "line": {
          "color": "blue"
         },
         "lon": [
          -75.4156,
          -75.455428
         ],
         "marker": {
          "size": 1
         },
         "mode": "lines",
         "type": "scattermapbox"
        },
        {
         "lat": [
          39.8839,
          39.104933
         ],
         "line": {
          "color": "blue"
         },
         "lon": [
          -75.4669,
          -75.902243
         ],
         "marker": {
          "size": 1
         },
         "mode": "lines",
         "type": "scattermapbox"
        },
        {
         "lat": [
          31.0,
          30.74977
         ],
         "line": {
          "color": "blue"
         },
         "lon": [
          -82.8555,
          -82.715129
         ],
         "marker": {
          "size": 1
         },
         "mode": "lines",
         "type": "scattermapbox"
        },
        {
         "lat": [
          34.4793,
          34.284013
         ],
         "line": {
          "color": "blue"
         },
         "lon": [
          -87.4769,
          -88.320877
         ],
         "marker": {
          "size": 1
         },
         "mode": "lines",
         "type": "scattermapbox"
        },
        {
         "lat": [
          46.0062,
          46.476833
         ],
         "line": {
          "color": "blue"
         },
         "lon": [
          -86.2555,
          -85.474452
         ],
         "marker": {
          "size": 1
         },
         "mode": "lines",
         "type": "scattermapbox"
        },
        {
         "lat": [
          36.6966,
          37.104156
         ],
         "line": {
          "color": "blue"
         },
         "lon": [
          -96.7869,
          -97.739733
         ],
         "marker": {
          "size": 1
         },
         "mode": "lines",
         "type": "scattermapbox"
        },
        {
         "lat": [
          37.0462,
          36.592253
         ],
         "line": {
          "color": "blue"
         },
         "lon": [
          -76.4096,
          -75.658204
         ],
         "marker": {
          "size": 1
         },
         "mode": "lines",
         "type": "scattermapbox"
        },
        {
         "lat": [
          31.6489,
          31.441827000000004
         ],
         "line": {
          "color": "blue"
         },
         "lon": [
          -82.1982,
          -82.698141
         ],
         "marker": {
          "size": 1
         },
         "mode": "lines",
         "type": "scattermapbox"
        },
        {
         "lat": [
          44.3481,
          44.744831
         ],
         "line": {
          "color": "blue"
         },
         "lon": [
          -89.1101,
          -88.61740400000001
         ],
         "marker": {
          "size": 1
         },
         "mode": "lines",
         "type": "scattermapbox"
        },
        {
         "lat": [
          40.5662,
          39.760951
         ],
         "line": {
          "color": "blue"
         },
         "lon": [
          -80.2099,
          -80.34700500000001
         ],
         "marker": {
          "size": 1
         },
         "mode": "lines",
         "type": "scattermapbox"
        },
        {
         "lat": [
          34.9889,
          35.311574
         ],
         "line": {
          "color": "blue"
         },
         "lon": [
          -106.0609,
          -105.74117
         ],
         "marker": {
          "size": 1
         },
         "mode": "lines",
         "type": "scattermapbox"
        },
        {
         "lat": [
          32.69,
          33.047404
         ],
         "line": {
          "color": "blue"
         },
         "lon": [
          -96.9177,
          -97.648313
         ],
         "marker": {
          "size": 1
         },
         "mode": "lines",
         "type": "scattermapbox"
        },
        {
         "lat": [
          42.5164,
          43.216148
         ],
         "line": {
          "color": "blue"
         },
         "lon": [
          -82.9832,
          -82.115942
         ],
         "marker": {
          "size": 1
         },
         "mode": "lines",
         "type": "scattermapbox"
        },
        {
         "lat": [
          30.8836,
          31.605346
         ],
         "line": {
          "color": "blue"
         },
         "lon": [
          -84.3246,
          -84.278762
         ],
         "marker": {
          "size": 1
         },
         "mode": "lines",
         "type": "scattermapbox"
        },
        {
         "lat": [
          34.4793,
          35.339217
         ],
         "line": {
          "color": "blue"
         },
         "lon": [
          -87.4769,
          -88.255275
         ],
         "marker": {
          "size": 1
         },
         "mode": "lines",
         "type": "scattermapbox"
        },
        {
         "lat": [
          30.2385,
          30.182798
         ],
         "line": {
          "color": "blue"
         },
         "lon": [
          -90.8435,
          -90.937951
         ],
         "marker": {
          "size": 1
         },
         "mode": "lines",
         "type": "scattermapbox"
        },
        {
         "lat": [
          33.0437,
          32.546414
         ],
         "line": {
          "color": "blue"
         },
         "lon": [
          -81.7106,
          -80.80574
         ],
         "marker": {
          "size": 1
         },
         "mode": "lines",
         "type": "scattermapbox"
        },
        {
         "lat": [
          43.2237,
          43.224264
         ],
         "line": {
          "color": "blue"
         },
         "lon": [
          -75.1612,
          -74.469479
         ],
         "marker": {
          "size": 1
         },
         "mode": "lines",
         "type": "scattermapbox"
        },
        {
         "lat": [
          35.1791,
          34.304653
         ],
         "line": {
          "color": "blue"
         },
         "lon": [
          -91.2594,
          -90.28107
         ],
         "marker": {
          "size": 1
         },
         "mode": "lines",
         "type": "scattermapbox"
        },
        {
         "lat": [
          45.32899999999999,
          45.915255
         ],
         "line": {
          "color": "blue"
         },
         "lon": [
          -98.0837,
          -98.648984
         ],
         "marker": {
          "size": 1
         },
         "mode": "lines",
         "type": "scattermapbox"
        },
        {
         "lat": [
          43.0351,
          43.724722
         ],
         "line": {
          "color": "blue"
         },
         "lon": [
          -108.2024,
          -108.953404
         ],
         "marker": {
          "size": 1
         },
         "mode": "lines",
         "type": "scattermapbox"
        },
        {
         "lat": [
          38.5319,
          38.072957
         ],
         "line": {
          "color": "blue"
         },
         "lon": [
          -93.9221,
          -94.4432
         ],
         "marker": {
          "size": 1
         },
         "mode": "lines",
         "type": "scattermapbox"
        },
        {
         "lat": [
          39.8839,
          38.946477
         ],
         "line": {
          "color": "blue"
         },
         "lon": [
          -75.4669,
          -76.261767
         ],
         "marker": {
          "size": 1
         },
         "mode": "lines",
         "type": "scattermapbox"
        },
        {
         "lat": [
          35.9866,
          35.439017
         ],
         "line": {
          "color": "blue"
         },
         "lon": [
          -106.0654,
          -106.283176
         ],
         "marker": {
          "size": 1
         },
         "mode": "lines",
         "type": "scattermapbox"
        },
        {
         "lat": [
          33.141,
          33.347371
         ],
         "line": {
          "color": "blue"
         },
         "lon": [
          -82.515,
          -81.620159
         ],
         "marker": {
          "size": 1
         },
         "mode": "lines",
         "type": "scattermapbox"
        },
        {
         "lat": [
          33.7163,
          32.795102
         ],
         "line": {
          "color": "blue"
         },
         "lon": [
          -116.3381,
          -117.152158
         ],
         "marker": {
          "size": 1
         },
         "mode": "lines",
         "type": "scattermapbox"
        },
        {
         "lat": [
          39.9972,
          40.763518
         ],
         "line": {
          "color": "blue"
         },
         "lon": [
          -88.6962,
          -89.68504200000001
         ],
         "marker": {
          "size": 1
         },
         "mode": "lines",
         "type": "scattermapbox"
        },
        {
         "lat": [
          39.8839,
          39.749204
         ],
         "line": {
          "color": "blue"
         },
         "lon": [
          -75.4669,
          -75.890846
         ],
         "marker": {
          "size": 1
         },
         "mode": "lines",
         "type": "scattermapbox"
        },
        {
         "lat": [
          30.0041,
          29.479199
         ],
         "line": {
          "color": "blue"
         },
         "lon": [
          -95.2825,
          -95.471315
         ],
         "marker": {
          "size": 1
         },
         "mode": "lines",
         "type": "scattermapbox"
        },
        {
         "lat": [
          29.0393,
          28.999743
         ],
         "line": {
          "color": "blue"
         },
         "lon": [
          -95.4401,
          -95.933716
         ],
         "marker": {
          "size": 1
         },
         "mode": "lines",
         "type": "scattermapbox"
        },
        {
         "lat": [
          41.2419,
          41.061444
         ],
         "line": {
          "color": "blue"
         },
         "lon": [
          -81.7453,
          -80.936776
         ],
         "marker": {
          "size": 1
         },
         "mode": "lines",
         "type": "scattermapbox"
        },
        {
         "lat": [
          42.8223,
          42.583623
         ],
         "line": {
          "color": "blue"
         },
         "lon": [
          -83.2829,
          -83.540345
         ],
         "marker": {
          "size": 1
         },
         "mode": "lines",
         "type": "scattermapbox"
        },
        {
         "lat": [
          35.5762,
          35.291964
         ],
         "line": {
          "color": "blue"
         },
         "lon": [
          -91.4539,
          -91.420327
         ],
         "marker": {
          "size": 1
         },
         "mode": "lines",
         "type": "scattermapbox"
        },
        {
         "lat": [
          34.9906,
          35.987454
         ],
         "line": {
          "color": "blue"
         },
         "lon": [
          -81.8327,
          -82.774206
         ],
         "marker": {
          "size": 1
         },
         "mode": "lines",
         "type": "scattermapbox"
        },
        {
         "lat": [
          34.9572,
          34.396659
         ],
         "line": {
          "color": "blue"
         },
         "lon": [
          -81.9916,
          -81.101175
         ],
         "marker": {
          "size": 1
         },
         "mode": "lines",
         "type": "scattermapbox"
        },
        {
         "lat": [
          38.2833,
          39.179585
         ],
         "line": {
          "color": "blue"
         },
         "lon": [
          -75.8465,
          -75.513244
         ],
         "marker": {
          "size": 1
         },
         "mode": "lines",
         "type": "scattermapbox"
        },
        {
         "lat": [
          39.7562,
          40.26823
         ],
         "line": {
          "color": "blue"
         },
         "lon": [
          -98.4462,
          -98.007695
         ],
         "marker": {
          "size": 1
         },
         "mode": "lines",
         "type": "scattermapbox"
        },
        {
         "lat": [
          39.6251,
          38.716814
         ],
         "line": {
          "color": "blue"
         },
         "lon": [
          -82.7552,
          -82.07310799999999
         ],
         "marker": {
          "size": 1
         },
         "mode": "lines",
         "type": "scattermapbox"
        },
        {
         "lat": [
          32.153,
          33.041686999999996
         ],
         "line": {
          "color": "blue"
         },
         "lon": [
          -90.1217,
          -90.785147
         ],
         "marker": {
          "size": 1
         },
         "mode": "lines",
         "type": "scattermapbox"
        },
        {
         "lat": [
          33.9568,
          33.932365999999995
         ],
         "line": {
          "color": "blue"
         },
         "lon": [
          -81.1405,
          -81.106249
         ],
         "marker": {
          "size": 1
         },
         "mode": "lines",
         "type": "scattermapbox"
        },
        {
         "lat": [
          40.2236,
          40.347227
         ],
         "line": {
          "color": "blue"
         },
         "lon": [
          -76.538,
          -76.979959
         ],
         "marker": {
          "size": 1
         },
         "mode": "lines",
         "type": "scattermapbox"
        },
        {
         "lat": [
          40.6761,
          41.067397
         ],
         "line": {
          "color": "blue"
         },
         "lon": [
          -91.0391,
          -91.593506
         ],
         "marker": {
          "size": 1
         },
         "mode": "lines",
         "type": "scattermapbox"
        },
        {
         "lat": [
          30.459,
          31.339746
         ],
         "line": {
          "color": "blue"
         },
         "lon": [
          -90.9027,
          -91.13685
         ],
         "marker": {
          "size": 1
         },
         "mode": "lines",
         "type": "scattermapbox"
        },
        {
         "lat": [
          39.6321,
          40.43523
         ],
         "line": {
          "color": "blue"
         },
         "lon": [
          -84.2675,
          -85.14621899999999
         ],
         "marker": {
          "size": 1
         },
         "mode": "lines",
         "type": "scattermapbox"
        },
        {
         "lat": [
          47.3551,
          47.596841
         ],
         "line": {
          "color": "blue"
         },
         "lon": [
          -96.798,
          -96.460849
         ],
         "marker": {
          "size": 1
         },
         "mode": "lines",
         "type": "scattermapbox"
        },
        {
         "lat": [
          45.5303,
          45.577411
         ],
         "line": {
          "color": "blue"
         },
         "lon": [
          -122.7033,
          -123.067878
         ],
         "marker": {
          "size": 1
         },
         "mode": "lines",
         "type": "scattermapbox"
        },
        {
         "lat": [
          43.0397,
          42.151242
         ],
         "line": {
          "color": "blue"
         },
         "lon": [
          -77.6871,
          -76.933373
         ],
         "marker": {
          "size": 1
         },
         "mode": "lines",
         "type": "scattermapbox"
        },
        {
         "lat": [
          27.9611,
          27.159941999999997
         ],
         "line": {
          "color": "blue"
         },
         "lon": [
          -81.9398,
          -81.30159599999999
         ],
         "marker": {
          "size": 1
         },
         "mode": "lines",
         "type": "scattermapbox"
        },
        {
         "lat": [
          38.0828,
          38.027789
         ],
         "line": {
          "color": "blue"
         },
         "lon": [
          -76.3477,
          -76.929711
         ],
         "marker": {
          "size": 1
         },
         "mode": "lines",
         "type": "scattermapbox"
        },
        {
         "lat": [
          42.4483,
          42.779534000000005
         ],
         "line": {
          "color": "blue"
         },
         "lon": [
          -95.1726,
          -95.775418
         ],
         "marker": {
          "size": 1
         },
         "mode": "lines",
         "type": "scattermapbox"
        },
        {
         "lat": [
          34.4596,
          34.325281
         ],
         "line": {
          "color": "blue"
         },
         "lon": [
          -93.6743,
          -94.243787
         ],
         "marker": {
          "size": 1
         },
         "mode": "lines",
         "type": "scattermapbox"
        },
        {
         "lat": [
          40.732,
          41.009564000000005
         ],
         "line": {
          "color": "blue"
         },
         "lon": [
          -73.1,
          -73.919814
         ],
         "marker": {
          "size": 1
         },
         "mode": "lines",
         "type": "scattermapbox"
        },
        {
         "lat": [
          36.6659,
          35.707926
         ],
         "line": {
          "color": "blue"
         },
         "lon": [
          -105.4694,
          -105.936764
         ],
         "marker": {
          "size": 1
         },
         "mode": "lines",
         "type": "scattermapbox"
        },
        {
         "lat": [
          41.5378,
          40.837562
         ],
         "line": {
          "color": "blue"
         },
         "lon": [
          -88.0572,
          -88.450947
         ],
         "marker": {
          "size": 1
         },
         "mode": "lines",
         "type": "scattermapbox"
        },
        {
         "lat": [
          39.5483,
          38.855532
         ],
         "line": {
          "color": "blue"
         },
         "lon": [
          -119.7957,
          -120.187153
         ],
         "marker": {
          "size": 1
         },
         "mode": "lines",
         "type": "scattermapbox"
        },
        {
         "lat": [
          39.3036,
          39.941428
         ],
         "line": {
          "color": "blue"
         },
         "lon": [
          -89.2853,
          -89.70326999999999
         ],
         "marker": {
          "size": 1
         },
         "mode": "lines",
         "type": "scattermapbox"
        },
        {
         "lat": [
          43.0048,
          43.851739
         ],
         "line": {
          "color": "blue"
         },
         "lon": [
          -108.8964,
          -109.66429
         ],
         "marker": {
          "size": 1
         },
         "mode": "lines",
         "type": "scattermapbox"
        },
        {
         "lat": [
          30.9416,
          31.670989
         ],
         "line": {
          "color": "blue"
         },
         "lon": [
          -83.3574,
          -83.031348
         ],
         "marker": {
          "size": 1
         },
         "mode": "lines",
         "type": "scattermapbox"
        },
        {
         "lat": [
          44.5592,
          43.90238
         ],
         "line": {
          "color": "blue"
         },
         "lon": [
          -87.8235,
          -88.06392
         ],
         "marker": {
          "size": 1
         },
         "mode": "lines",
         "type": "scattermapbox"
        },
        {
         "lat": [
          36.3924,
          35.934871
         ],
         "line": {
          "color": "blue"
         },
         "lon": [
          -91.9932,
          -91.555309
         ],
         "marker": {
          "size": 1
         },
         "mode": "lines",
         "type": "scattermapbox"
        },
        {
         "lat": [
          37.2409,
          37.261812
         ],
         "line": {
          "color": "blue"
         },
         "lon": [
          -82.7696,
          -83.075707
         ],
         "marker": {
          "size": 1
         },
         "mode": "lines",
         "type": "scattermapbox"
        },
        {
         "lat": [
          44.1554,
          44.73486
         ],
         "line": {
          "color": "blue"
         },
         "lon": [
          -72.4847,
          -72.905293
         ],
         "marker": {
          "size": 1
         },
         "mode": "lines",
         "type": "scattermapbox"
        },
        {
         "lat": [
          39.9636,
          39.958867
         ],
         "line": {
          "color": "blue"
         },
         "lon": [
          -79.7853,
          -80.656617
         ],
         "marker": {
          "size": 1
         },
         "mode": "lines",
         "type": "scattermapbox"
        },
        {
         "lat": [
          47.2271,
          48.106375
         ],
         "line": {
          "color": "blue"
         },
         "lon": [
          -117.0819,
          -117.600704
         ],
         "marker": {
          "size": 1
         },
         "mode": "lines",
         "type": "scattermapbox"
        },
        {
         "lat": [
          40.0113,
          40.240408
         ],
         "line": {
          "color": "blue"
         },
         "lon": [
          -80.9701,
          -81.049605
         ],
         "marker": {
          "size": 1
         },
         "mode": "lines",
         "type": "scattermapbox"
        },
        {
         "lat": [
          39.537,
          38.980086
         ],
         "line": {
          "color": "blue"
         },
         "lon": [
          -83.455,
          -83.78644399999999
         ],
         "marker": {
          "size": 1
         },
         "mode": "lines",
         "type": "scattermapbox"
        },
        {
         "lat": [
          41.6858,
          42.551459
         ],
         "line": {
          "color": "blue"
         },
         "lon": [
          -90.3706,
          -89.850092
         ],
         "marker": {
          "size": 1
         },
         "mode": "lines",
         "type": "scattermapbox"
        },
        {
         "lat": [
          46.1838,
          45.873028000000005
         ],
         "line": {
          "color": "blue"
         },
         "lon": [
          -101.2589,
          -100.830673
         ],
         "marker": {
          "size": 1
         },
         "mode": "lines",
         "type": "scattermapbox"
        },
        {
         "lat": [
          32.2779,
          32.634794
         ],
         "line": {
          "color": "blue"
         },
         "lon": [
          -97.2351,
          -97.955836
         ],
         "marker": {
          "size": 1
         },
         "mode": "lines",
         "type": "scattermapbox"
        },
        {
         "lat": [
          35.9946,
          35.000592
         ],
         "line": {
          "color": "blue"
         },
         "lon": [
          -81.7266,
          -82.234251
         ],
         "marker": {
          "size": 1
         },
         "mode": "lines",
         "type": "scattermapbox"
        },
        {
         "lat": [
          36.6659,
          36.683903
         ],
         "line": {
          "color": "blue"
         },
         "lon": [
          -105.4694,
          -106.255353
         ],
         "marker": {
          "size": 1
         },
         "mode": "lines",
         "type": "scattermapbox"
        },
        {
         "lat": [
          33.6547,
          33.770682
         ],
         "line": {
          "color": "blue"
         },
         "lon": [
          -97.1583,
          -97.804078
         ],
         "marker": {
          "size": 1
         },
         "mode": "lines",
         "type": "scattermapbox"
        },
        {
         "lat": [
          64.7556,
          64.015679
         ],
         "line": {
          "color": "blue"
         },
         "lon": [
          -165.6723,
          -164.856479
         ],
         "marker": {
          "size": 1
         },
         "mode": "lines",
         "type": "scattermapbox"
        },
        {
         "lat": [
          32.5486,
          33.268370000000004
         ],
         "line": {
          "color": "blue"
         },
         "lon": [
          -80.307,
          -80.835927
         ],
         "marker": {
          "size": 1
         },
         "mode": "lines",
         "type": "scattermapbox"
        },
        {
         "lat": [
          30.459,
          31.385481
         ],
         "line": {
          "color": "blue"
         },
         "lon": [
          -90.9027,
          -90.305867
         ],
         "marker": {
          "size": 1
         },
         "mode": "lines",
         "type": "scattermapbox"
        },
        {
         "lat": [
          31.4841,
          31.493693
         ],
         "line": {
          "color": "blue"
         },
         "lon": [
          -97.9903,
          -98.437131
         ],
         "marker": {
          "size": 1
         },
         "mode": "lines",
         "type": "scattermapbox"
        },
        {
         "lat": [
          39.0965,
          39.051389
         ],
         "line": {
          "color": "blue"
         },
         "lon": [
          -84.6431,
          -83.68342
         ],
         "marker": {
          "size": 1
         },
         "mode": "lines",
         "type": "scattermapbox"
        },
        {
         "lat": [
          38.9311,
          39.586732
         ],
         "line": {
          "color": "blue"
         },
         "lon": [
          -89.2463,
          -90.007922
         ],
         "marker": {
          "size": 1
         },
         "mode": "lines",
         "type": "scattermapbox"
        },
        {
         "lat": [
          31.6489,
          32.009534
         ],
         "line": {
          "color": "blue"
         },
         "lon": [
          -82.1982,
          -81.637598
         ],
         "marker": {
          "size": 1
         },
         "mode": "lines",
         "type": "scattermapbox"
        },
        {
         "lat": [
          26.4722,
          26.38193
         ],
         "line": {
          "color": "blue"
         },
         "lon": [
          -81.8122,
          -81.804423
         ],
         "marker": {
          "size": 1
         },
         "mode": "lines",
         "type": "scattermapbox"
        },
        {
         "lat": [
          40.1159,
          40.335008
         ],
         "line": {
          "color": "blue"
         },
         "lon": [
          -74.8536,
          -74.44516
         ],
         "marker": {
          "size": 1
         },
         "mode": "lines",
         "type": "scattermapbox"
        },
        {
         "lat": [
          39.7795,
          40.181535
         ],
         "line": {
          "color": "blue"
         },
         "lon": [
          -93.3014,
          -93.541215
         ],
         "marker": {
          "size": 1
         },
         "mode": "lines",
         "type": "scattermapbox"
        },
        {
         "lat": [
          32.4204,
          31.954441999999997
         ],
         "line": {
          "color": "blue"
         },
         "lon": [
          -85.0796,
          -85.707592
         ],
         "marker": {
          "size": 1
         },
         "mode": "lines",
         "type": "scattermapbox"
        },
        {
         "lat": [
          32.2779,
          32.233272
         ],
         "line": {
          "color": "blue"
         },
         "lon": [
          -97.2351,
          -97.195554
         ],
         "marker": {
          "size": 1
         },
         "mode": "lines",
         "type": "scattermapbox"
        },
        {
         "lat": [
          64.7556,
          65.077232
         ],
         "line": {
          "color": "blue"
         },
         "lon": [
          -165.6723,
          -166.60747
         ],
         "marker": {
          "size": 1
         },
         "mode": "lines",
         "type": "scattermapbox"
        },
        {
         "lat": [
          31.3833,
          32.364451
         ],
         "line": {
          "color": "blue"
         },
         "lon": [
          -95.0619,
          -96.028516
         ],
         "marker": {
          "size": 1
         },
         "mode": "lines",
         "type": "scattermapbox"
        },
        {
         "lat": [
          40.7152,
          40.912275
         ],
         "line": {
          "color": "blue"
         },
         "lon": [
          -89.2706,
          -90.209358
         ],
         "marker": {
          "size": 1
         },
         "mode": "lines",
         "type": "scattermapbox"
        },
        {
         "lat": [
          36.8421,
          37.544546999999994
         ],
         "line": {
          "color": "blue"
         },
         "lon": [
          -85.5396,
          -84.855834
         ],
         "marker": {
          "size": 1
         },
         "mode": "lines",
         "type": "scattermapbox"
        },
        {
         "lat": [
          31.7706,
          31.61986
         ],
         "line": {
          "color": "blue"
         },
         "lon": [
          -84.7936,
          -85.138821
         ],
         "marker": {
          "size": 1
         },
         "mode": "lines",
         "type": "scattermapbox"
        },
        {
         "lat": [
          40.2236,
          40.481163
         ],
         "line": {
          "color": "blue"
         },
         "lon": [
          -76.538,
          -77.157317
         ],
         "marker": {
          "size": 1
         },
         "mode": "lines",
         "type": "scattermapbox"
        },
        {
         "lat": [
          39.7795,
          40.195449
         ],
         "line": {
          "color": "blue"
         },
         "lon": [
          -93.3014,
          -93.696869
         ],
         "marker": {
          "size": 1
         },
         "mode": "lines",
         "type": "scattermapbox"
        },
        {
         "lat": [
          37.1046,
          36.465229
         ],
         "line": {
          "color": "blue"
         },
         "lon": [
          -83.5706,
          -83.45419100000001
         ],
         "marker": {
          "size": 1
         },
         "mode": "lines",
         "type": "scattermapbox"
        },
        {
         "lat": [
          41.4802,
          40.958836
         ],
         "line": {
          "color": "blue"
         },
         "lon": [
          -86.6919,
          -85.76639399999999
         ],
         "marker": {
          "size": 1
         },
         "mode": "lines",
         "type": "scattermapbox"
        },
        {
         "lat": [
          46.0062,
          46.332415999999995
         ],
         "line": {
          "color": "blue"
         },
         "lon": [
          -86.2555,
          -86.995337
         ],
         "marker": {
          "size": 1
         },
         "mode": "lines",
         "type": "scattermapbox"
        },
        {
         "lat": [
          24.6557,
          24.187082
         ],
         "line": {
          "color": "blue"
         },
         "lon": [
          -81.3824,
          -81.94093000000001
         ],
         "marker": {
          "size": 1
         },
         "mode": "lines",
         "type": "scattermapbox"
        },
        {
         "lat": [
          39.0965,
          39.300391999999995
         ],
         "line": {
          "color": "blue"
         },
         "lon": [
          -84.6431,
          -85.330964
         ],
         "marker": {
          "size": 1
         },
         "mode": "lines",
         "type": "scattermapbox"
        },
        {
         "lat": [
          32.8088,
          32.314882
         ],
         "line": {
          "color": "blue"
         },
         "lon": [
          -83.17399999999999,
          -83.369963
         ],
         "marker": {
          "size": 1
         },
         "mode": "lines",
         "type": "scattermapbox"
        },
        {
         "lat": [
          42.9207,
          43.041848
         ],
         "line": {
          "color": "blue"
         },
         "lon": [
          -91.0685,
          -90.44806
         ],
         "marker": {
          "size": 1
         },
         "mode": "lines",
         "type": "scattermapbox"
        },
        {
         "lat": [
          36.5422,
          35.551041
         ],
         "line": {
          "color": "blue"
         },
         "lon": [
          -88.3319,
          -88.293973
         ],
         "marker": {
          "size": 1
         },
         "mode": "lines",
         "type": "scattermapbox"
        },
        {
         "lat": [
          39.9961,
          39.902628
         ],
         "line": {
          "color": "blue"
         },
         "lon": [
          -79.7678,
          -80.433212
         ],
         "marker": {
          "size": 1
         },
         "mode": "lines",
         "type": "scattermapbox"
        },
        {
         "lat": [
          40.0987,
          39.154366
         ],
         "line": {
          "color": "blue"
         },
         "lon": [
          -84.6342,
          -84.581971
         ],
         "marker": {
          "size": 1
         },
         "mode": "lines",
         "type": "scattermapbox"
        },
        {
         "lat": [
          34.4596,
          34.37704
         ],
         "line": {
          "color": "blue"
         },
         "lon": [
          -93.6743,
          -93.829958
         ],
         "marker": {
          "size": 1
         },
         "mode": "lines",
         "type": "scattermapbox"
        },
        {
         "lat": [
          38.8432,
          38.612418
         ],
         "line": {
          "color": "blue"
         },
         "lon": [
          -78.6003,
          -78.640761
         ],
         "marker": {
          "size": 1
         },
         "mode": "lines",
         "type": "scattermapbox"
        },
        {
         "lat": [
          45.4093,
          44.448518
         ],
         "line": {
          "color": "blue"
         },
         "lon": [
          -122.6847,
          -122.142376
         ],
         "marker": {
          "size": 1
         },
         "mode": "lines",
         "type": "scattermapbox"
        },
        {
         "lat": [
          39.8153,
          40.526565000000005
         ],
         "line": {
          "color": "blue"
         },
         "lon": [
          -91.2627,
          -91.94125
         ],
         "marker": {
          "size": 1
         },
         "mode": "lines",
         "type": "scattermapbox"
        },
        {
         "lat": [
          40.5891,
          40.634931
         ],
         "line": {
          "color": "blue"
         },
         "lon": [
          -75.4645,
          -75.433258
         ],
         "marker": {
          "size": 1
         },
         "mode": "lines",
         "type": "scattermapbox"
        },
        {
         "lat": [
          38.9621,
          38.634836
         ],
         "line": {
          "color": "blue"
         },
         "lon": [
          -94.5959,
          -95.196694
         ],
         "marker": {
          "size": 1
         },
         "mode": "lines",
         "type": "scattermapbox"
        },
        {
         "lat": [
          41.4798,
          41.459605
         ],
         "line": {
          "color": "blue"
         },
         "lon": [
          -79.9403,
          -79.782717
         ],
         "marker": {
          "size": 1
         },
         "mode": "lines",
         "type": "scattermapbox"
        },
        {
         "lat": [
          38.9087,
          39.082388
         ],
         "line": {
          "color": "blue"
         },
         "lon": [
          -77.0414,
          -76.814121
         ],
         "marker": {
          "size": 1
         },
         "mode": "lines",
         "type": "scattermapbox"
        },
        {
         "lat": [
          34.1556,
          33.187543
         ],
         "line": {
          "color": "blue"
         },
         "lon": [
          -118.2322,
          -118.134224
         ],
         "marker": {
          "size": 1
         },
         "mode": "lines",
         "type": "scattermapbox"
        },
        {
         "lat": [
          41.141000000000005,
          40.608723
         ],
         "line": {
          "color": "blue"
         },
         "lon": [
          -84.5722,
          -83.739609
         ],
         "marker": {
          "size": 1
         },
         "mode": "lines",
         "type": "scattermapbox"
        },
        {
         "lat": [
          35.584,
          36.230283
         ],
         "line": {
          "color": "blue"
         },
         "lon": [
          -80.8685,
          -80.463041
         ],
         "marker": {
          "size": 1
         },
         "mode": "lines",
         "type": "scattermapbox"
        },
        {
         "lat": [
          39.0965,
          39.252749
         ],
         "line": {
          "color": "blue"
         },
         "lon": [
          -84.6431,
          -84.614356
         ],
         "marker": {
          "size": 1
         },
         "mode": "lines",
         "type": "scattermapbox"
        },
        {
         "lat": [
          43.0976,
          42.596331
         ],
         "line": {
          "color": "blue"
         },
         "lon": [
          -70.7121,
          -69.835665
         ],
         "marker": {
          "size": 1
         },
         "mode": "lines",
         "type": "scattermapbox"
        },
        {
         "lat": [
          42.1239,
          42.889109999999995
         ],
         "line": {
          "color": "blue"
         },
         "lon": [
          -79.1895,
          -79.04146800000001
         ],
         "marker": {
          "size": 1
         },
         "mode": "lines",
         "type": "scattermapbox"
        },
        {
         "lat": [
          40.1151,
          40.57136
         ],
         "line": {
          "color": "blue"
         },
         "lon": [
          -79.8627,
          -79.663969
         ],
         "marker": {
          "size": 1
         },
         "mode": "lines",
         "type": "scattermapbox"
        },
        {
         "lat": [
          41.1437,
          40.921733
         ],
         "line": {
          "color": "blue"
         },
         "lon": [
          -72.2879,
          -71.60615200000001
         ],
         "marker": {
          "size": 1
         },
         "mode": "lines",
         "type": "scattermapbox"
        },
        {
         "lat": [
          41.0472,
          40.276375
         ],
         "line": {
          "color": "blue"
         },
         "lon": [
          -79.8089,
          -80.388678
         ],
         "marker": {
          "size": 1
         },
         "mode": "lines",
         "type": "scattermapbox"
        },
        {
         "lat": [
          42.6911,
          42.996139
         ],
         "line": {
          "color": "blue"
         },
         "lon": [
          -71.1605,
          -72.090837
         ],
         "marker": {
          "size": 1
         },
         "mode": "lines",
         "type": "scattermapbox"
        },
        {
         "lat": [
          38.1372,
          37.872025
         ],
         "line": {
          "color": "blue"
         },
         "lon": [
          -81.5962,
          -82.565988
         ],
         "marker": {
          "size": 1
         },
         "mode": "lines",
         "type": "scattermapbox"
        },
        {
         "lat": [
          44.64,
          44.22484
         ],
         "line": {
          "color": "blue"
         },
         "lon": [
          -73.3113,
          -72.37485699999999
         ],
         "marker": {
          "size": 1
         },
         "mode": "lines",
         "type": "scattermapbox"
        },
        {
         "lat": [
          34.9298,
          34.759754
         ],
         "line": {
          "color": "blue"
         },
         "lon": [
          -84.9885,
          -84.300794
         ],
         "marker": {
          "size": 1
         },
         "mode": "lines",
         "type": "scattermapbox"
        },
        {
         "lat": [
          46.4959,
          46.040808
         ],
         "line": {
          "color": "blue"
         },
         "lon": [
          -90.4383,
          -89.72532700000001
         ],
         "marker": {
          "size": 1
         },
         "mode": "lines",
         "type": "scattermapbox"
        },
        {
         "lat": [
          34.9906,
          34.92823
         ],
         "line": {
          "color": "blue"
         },
         "lon": [
          -81.8327,
          -81.001499
         ],
         "marker": {
          "size": 1
         },
         "mode": "lines",
         "type": "scattermapbox"
        },
        {
         "lat": [
          38.8938,
          38.647604
         ],
         "line": {
          "color": "blue"
         },
         "lon": [
          -86.5246,
          -87.497146
         ],
         "marker": {
          "size": 1
         },
         "mode": "lines",
         "type": "scattermapbox"
        },
        {
         "lat": [
          32.2768,
          32.863823
         ],
         "line": {
          "color": "blue"
         },
         "lon": [
          -95.3031,
          -94.307972
         ],
         "marker": {
          "size": 1
         },
         "mode": "lines",
         "type": "scattermapbox"
        },
        {
         "lat": [
          39.7417,
          39.180193
         ],
         "line": {
          "color": "blue"
         },
         "lon": [
          -93.6289,
          -94.46689
         ],
         "marker": {
          "size": 1
         },
         "mode": "lines",
         "type": "scattermapbox"
        },
        {
         "lat": [
          32.6786,
          32.216791
         ],
         "line": {
          "color": "blue"
         },
         "lon": [
          -81.2455,
          -80.625447
         ],
         "marker": {
          "size": 1
         },
         "mode": "lines",
         "type": "scattermapbox"
        },
        {
         "lat": [
          48.34,
          48.3931
         ],
         "line": {
          "color": "blue"
         },
         "lon": [
          -122.3456,
          -123.118077
         ],
         "marker": {
          "size": 1
         },
         "mode": "lines",
         "type": "scattermapbox"
        },
        {
         "lat": [
          41.2419,
          42.154066
         ],
         "line": {
          "color": "blue"
         },
         "lon": [
          -81.7453,
          -81.26824
         ],
         "marker": {
          "size": 1
         },
         "mode": "lines",
         "type": "scattermapbox"
        },
        {
         "lat": [
          40.9918,
          40.214386
         ],
         "line": {
          "color": "blue"
         },
         "lon": [
          -73.98,
          -74.614453
         ],
         "marker": {
          "size": 1
         },
         "mode": "lines",
         "type": "scattermapbox"
        },
        {
         "lat": [
          41.8467,
          42.381692
         ],
         "line": {
          "color": "blue"
         },
         "lon": [
          -74.1038,
          -74.048066
         ],
         "marker": {
          "size": 1
         },
         "mode": "lines",
         "type": "scattermapbox"
        },
        {
         "lat": [
          29.9975,
          30.013887
         ],
         "line": {
          "color": "blue"
         },
         "lon": [
          -90.2146,
          -90.623434
         ],
         "marker": {
          "size": 1
         },
         "mode": "lines",
         "type": "scattermapbox"
        },
        {
         "lat": [
          46.1966,
          46.036089
         ],
         "line": {
          "color": "blue"
         },
         "lon": [
          -118.9017,
          -118.512989
         ],
         "marker": {
          "size": 1
         },
         "mode": "lines",
         "type": "scattermapbox"
        },
        {
         "lat": [
          41.606,
          40.941749
         ],
         "line": {
          "color": "blue"
         },
         "lon": [
          -109.23,
          -109.063169
         ],
         "marker": {
          "size": 1
         },
         "mode": "lines",
         "type": "scattermapbox"
        },
        {
         "lat": [
          41.0001,
          40.471475
         ],
         "line": {
          "color": "blue"
         },
         "lon": [
          -78.2357,
          -78.25572700000001
         ],
         "marker": {
          "size": 1
         },
         "mode": "lines",
         "type": "scattermapbox"
        },
        {
         "lat": [
          36.6966,
          37.073957
         ],
         "line": {
          "color": "blue"
         },
         "lon": [
          -96.7869,
          -97.404356
         ],
         "marker": {
          "size": 1
         },
         "mode": "lines",
         "type": "scattermapbox"
        },
        {
         "lat": [
          37.1788,
          36.619609
         ],
         "line": {
          "color": "blue"
         },
         "lon": [
          -82.695,
          -82.953005
         ],
         "marker": {
          "size": 1
         },
         "mode": "lines",
         "type": "scattermapbox"
        },
        {
         "lat": [
          34.2956,
          34.236398
         ],
         "line": {
          "color": "blue"
         },
         "lon": [
          -99.7494,
          -99.788795
         ],
         "marker": {
          "size": 1
         },
         "mode": "lines",
         "type": "scattermapbox"
        },
        {
         "lat": [
          48.6031,
          47.933475
         ],
         "line": {
          "color": "blue"
         },
         "lon": [
          -93.2977,
          -94.137476
         ],
         "marker": {
          "size": 1
         },
         "mode": "lines",
         "type": "scattermapbox"
        },
        {
         "lat": [
          43.196000000000005,
          43.93145
         ],
         "line": {
          "color": "blue"
         },
         "lon": [
          -72.3001,
          -73.19268000000001
         ],
         "marker": {
          "size": 1
         },
         "mode": "lines",
         "type": "scattermapbox"
        },
        {
         "lat": [
          45.4093,
          45.52785
         ],
         "line": {
          "color": "blue"
         },
         "lon": [
          -122.6847,
          -122.828373
         ],
         "marker": {
          "size": 1
         },
         "mode": "lines",
         "type": "scattermapbox"
        },
        {
         "lat": [
          40.7699,
          40.010165
         ],
         "line": {
          "color": "blue"
         },
         "lon": [
          -73.9511,
          -74.092395
         ],
         "marker": {
          "size": 1
         },
         "mode": "lines",
         "type": "scattermapbox"
        },
        {
         "lat": [
          45.4963,
          45.822444
         ],
         "line": {
          "color": "blue"
         },
         "lon": [
          -89.7273,
          -90.724743
         ],
         "marker": {
          "size": 1
         },
         "mode": "lines",
         "type": "scattermapbox"
        },
        {
         "lat": [
          38.9763,
          39.504407
         ],
         "line": {
          "color": "blue"
         },
         "lon": [
          -87.3667,
          -86.55785
         ],
         "marker": {
          "size": 1
         },
         "mode": "lines",
         "type": "scattermapbox"
        },
        {
         "lat": [
          42.0158,
          41.066675
         ],
         "line": {
          "color": "blue"
         },
         "lon": [
          -73.2913,
          -73.739173
         ],
         "marker": {
          "size": 1
         },
         "mode": "lines",
         "type": "scattermapbox"
        },
        {
         "lat": [
          32.5104,
          32.539671000000006
         ],
         "line": {
          "color": "blue"
         },
         "lon": [
          -86.8138,
          -87.011048
         ],
         "marker": {
          "size": 1
         },
         "mode": "lines",
         "type": "scattermapbox"
        },
        {
         "lat": [
          40.4308,
          40.922965000000005
         ],
         "line": {
          "color": "blue"
         },
         "lon": [
          -79.9205,
          -80.154202
         ],
         "marker": {
          "size": 1
         },
         "mode": "lines",
         "type": "scattermapbox"
        },
        {
         "lat": [
          40.2236,
          39.561712
         ],
         "line": {
          "color": "blue"
         },
         "lon": [
          -76.538,
          -77.01173100000001
         ],
         "marker": {
          "size": 1
         },
         "mode": "lines",
         "type": "scattermapbox"
        },
        {
         "lat": [
          33.4783,
          33.634458
         ],
         "line": {
          "color": "blue"
         },
         "lon": [
          -90.5142,
          -90.705552
         ],
         "marker": {
          "size": 1
         },
         "mode": "lines",
         "type": "scattermapbox"
        },
        {
         "lat": [
          42.2701,
          42.412657
         ],
         "line": {
          "color": "blue"
         },
         "lon": [
          -78.6847,
          -77.930068
         ],
         "marker": {
          "size": 1
         },
         "mode": "lines",
         "type": "scattermapbox"
        },
        {
         "lat": [
          39.2335,
          38.670885
         ],
         "line": {
          "color": "blue"
         },
         "lon": [
          -77.1458,
          -76.276323
         ],
         "marker": {
          "size": 1
         },
         "mode": "lines",
         "type": "scattermapbox"
        },
        {
         "lat": [
          38.8938,
          38.583559
         ],
         "line": {
          "color": "blue"
         },
         "lon": [
          -86.5246,
          -85.802385
         ],
         "marker": {
          "size": 1
         },
         "mode": "lines",
         "type": "scattermapbox"
        },
        {
         "lat": [
          20.0271,
          19.552335999999997
         ],
         "line": {
          "color": "blue"
         },
         "lon": [
          -155.3697,
          -155.200551
         ],
         "marker": {
          "size": 1
         },
         "mode": "lines",
         "type": "scattermapbox"
        },
        {
         "lat": [
          36.4992,
          36.133522
         ],
         "line": {
          "color": "blue"
         },
         "lon": [
          -120.0936,
          -119.217718
         ],
         "marker": {
          "size": 1
         },
         "mode": "lines",
         "type": "scattermapbox"
        },
        {
         "lat": [
          29.5894,
          30.414273
         ],
         "line": {
          "color": "blue"
         },
         "lon": [
          -98.5201,
          -99.293025
         ],
         "marker": {
          "size": 1
         },
         "mode": "lines",
         "type": "scattermapbox"
        },
        {
         "lat": [
          40.3406,
          40.019483
         ],
         "line": {
          "color": "blue"
         },
         "lon": [
          -120.2824,
          -121.04008600000002
         ],
         "marker": {
          "size": 1
         },
         "mode": "lines",
         "type": "scattermapbox"
        },
        {
         "lat": [
          43.9446,
          43.26841
         ],
         "line": {
          "color": "blue"
         },
         "lon": [
          -88.0911,
          -87.39777
         ],
         "marker": {
          "size": 1
         },
         "mode": "lines",
         "type": "scattermapbox"
        },
        {
         "lat": [
          40.9051,
          41.477262
         ],
         "line": {
          "color": "blue"
         },
         "lon": [
          -73.3309,
          -72.732455
         ],
         "marker": {
          "size": 1
         },
         "mode": "lines",
         "type": "scattermapbox"
        },
        {
         "lat": [
          44.0978,
          44.683126
         ],
         "line": {
          "color": "blue"
         },
         "lon": [
          -72.0191,
          -73.004986
         ],
         "marker": {
          "size": 1
         },
         "mode": "lines",
         "type": "scattermapbox"
        },
        {
         "lat": [
          41.0935,
          41.801745
         ],
         "line": {
          "color": "blue"
         },
         "lon": [
          -81.0425,
          -80.935959
         ],
         "marker": {
          "size": 1
         },
         "mode": "lines",
         "type": "scattermapbox"
        },
        {
         "lat": [
          43.0048,
          42.511557
         ],
         "line": {
          "color": "blue"
         },
         "lon": [
          -108.8964,
          -108.048935
         ],
         "marker": {
          "size": 1
         },
         "mode": "lines",
         "type": "scattermapbox"
        },
        {
         "lat": [
          43.0351,
          43.667944
         ],
         "line": {
          "color": "blue"
         },
         "lon": [
          -108.2024,
          -107.871606
         ],
         "marker": {
          "size": 1
         },
         "mode": "lines",
         "type": "scattermapbox"
        },
        {
         "lat": [
          43.7575,
          43.597874
         ],
         "line": {
          "color": "blue"
         },
         "lon": [
          -122.481,
          -121.676939
         ],
         "marker": {
          "size": 1
         },
         "mode": "lines",
         "type": "scattermapbox"
        },
        {
         "lat": [
          39.8936,
          40.211199
         ],
         "line": {
          "color": "blue"
         },
         "lon": [
          -79.7856,
          -80.057713
         ],
         "marker": {
          "size": 1
         },
         "mode": "lines",
         "type": "scattermapbox"
        },
        {
         "lat": [
          31.2462,
          30.718043
         ],
         "line": {
          "color": "blue"
         },
         "lon": [
          -83.6549,
          -84.608785
         ],
         "marker": {
          "size": 1
         },
         "mode": "lines",
         "type": "scattermapbox"
        },
        {
         "lat": [
          40.0113,
          40.249592
         ],
         "line": {
          "color": "blue"
         },
         "lon": [
          -80.9701,
          -80.112719
         ],
         "marker": {
          "size": 1
         },
         "mode": "lines",
         "type": "scattermapbox"
        },
        {
         "lat": [
          32.153,
          32.90533
         ],
         "line": {
          "color": "blue"
         },
         "lon": [
          -90.1217,
          -89.41199499999999
         ],
         "marker": {
          "size": 1
         },
         "mode": "lines",
         "type": "scattermapbox"
        },
        {
         "lat": [
          30.4066,
          30.963271
         ],
         "line": {
          "color": "blue"
         },
         "lon": [
          -91.1468,
          -91.182105
         ],
         "marker": {
          "size": 1
         },
         "mode": "lines",
         "type": "scattermapbox"
        },
        {
         "lat": [
          39.9972,
          40.219405
         ],
         "line": {
          "color": "blue"
         },
         "lon": [
          -88.6962,
          -87.77270899999999
         ],
         "marker": {
          "size": 1
         },
         "mode": "lines",
         "type": "scattermapbox"
        },
        {
         "lat": [
          48.2777,
          48.438901
         ],
         "line": {
          "color": "blue"
         },
         "lon": [
          -112.8456,
          -113.053314
         ],
         "marker": {
          "size": 1
         },
         "mode": "lines",
         "type": "scattermapbox"
        },
        {
         "lat": [
          46.5901,
          46.284846
         ],
         "line": {
          "color": "blue"
         },
         "lon": [
          -117.1692,
          -117.690328
         ],
         "marker": {
          "size": 1
         },
         "mode": "lines",
         "type": "scattermapbox"
        },
        {
         "lat": [
          44.8605,
          45.618205
         ],
         "line": {
          "color": "blue"
         },
         "lon": [
          -85.8138,
          -86.069383
         ],
         "marker": {
          "size": 1
         },
         "mode": "lines",
         "type": "scattermapbox"
        },
        {
         "lat": [
          33.3305,
          34.065492
         ],
         "line": {
          "color": "blue"
         },
         "lon": [
          -105.6933,
          -105.067806
         ],
         "marker": {
          "size": 1
         },
         "mode": "lines",
         "type": "scattermapbox"
        },
        {
         "lat": [
          32.955,
          33.265907
         ],
         "line": {
          "color": "blue"
         },
         "lon": [
          -92.587,
          -93.320092
         ],
         "marker": {
          "size": 1
         },
         "mode": "lines",
         "type": "scattermapbox"
        },
        {
         "lat": [
          48.6031,
          48.692833
         ],
         "line": {
          "color": "blue"
         },
         "lon": [
          -93.2977,
          -93.412516
         ],
         "marker": {
          "size": 1
         },
         "mode": "lines",
         "type": "scattermapbox"
        },
        {
         "lat": [
          36.6659,
          35.765453
         ],
         "line": {
          "color": "blue"
         },
         "lon": [
          -105.4694,
          -104.953767
         ],
         "marker": {
          "size": 1
         },
         "mode": "lines",
         "type": "scattermapbox"
        },
        {
         "lat": [
          39.0298,
          38.980391999999995
         ],
         "line": {
          "color": "blue"
         },
         "lon": [
          -77.0793,
          -77.157364
         ],
         "marker": {
          "size": 1
         },
         "mode": "lines",
         "type": "scattermapbox"
        },
        {
         "lat": [
          33.1194,
          33.061817
         ],
         "line": {
          "color": "blue"
         },
         "lon": [
          -83.8235,
          -83.640915
         ],
         "marker": {
          "size": 1
         },
         "mode": "lines",
         "type": "scattermapbox"
        },
        {
         "lat": [
          42.73,
          42.769732
         ],
         "line": {
          "color": "blue"
         },
         "lon": [
          -104.7024,
          -105.21551399999998
         ],
         "marker": {
          "size": 1
         },
         "mode": "lines",
         "type": "scattermapbox"
        },
        {
         "lat": [
          34.2853,
          34.238152
         ],
         "line": {
          "color": "blue"
         },
         "lon": [
          -91.3336,
          -90.724941
         ],
         "marker": {
          "size": 1
         },
         "mode": "lines",
         "type": "scattermapbox"
        },
        {
         "lat": [
          42.4048,
          41.68162
         ],
         "line": {
          "color": "blue"
         },
         "lon": [
          -88.3054,
          -88.14836
         ],
         "marker": {
          "size": 1
         },
         "mode": "lines",
         "type": "scattermapbox"
        },
        {
         "lat": [
          45.3099,
          44.354812
         ],
         "line": {
          "color": "blue"
         },
         "lon": [
          -122.9685,
          -123.738238
         ],
         "marker": {
          "size": 1
         },
         "mode": "lines",
         "type": "scattermapbox"
        },
        {
         "lat": [
          33.4783,
          34.466575
         ],
         "line": {
          "color": "blue"
         },
         "lon": [
          -90.5142,
          -89.575585
         ],
         "marker": {
          "size": 1
         },
         "mode": "lines",
         "type": "scattermapbox"
        },
        {
         "lat": [
          38.097,
          38.354151
         ],
         "line": {
          "color": "blue"
         },
         "lon": [
          -86.1723,
          -85.86211999999999
         ],
         "marker": {
          "size": 1
         },
         "mode": "lines",
         "type": "scattermapbox"
        },
        {
         "lat": [
          47.9657,
          48.071404
         ],
         "line": {
          "color": "blue"
         },
         "lon": [
          -116.868,
          -117.44557
         ],
         "marker": {
          "size": 1
         },
         "mode": "lines",
         "type": "scattermapbox"
        },
        {
         "lat": [
          40.0994,
          39.952764
         ],
         "line": {
          "color": "blue"
         },
         "lon": [
          -89.9601,
          -88.970085
         ],
         "marker": {
          "size": 1
         },
         "mode": "lines",
         "type": "scattermapbox"
        },
        {
         "lat": [
          30.1886,
          30.873751
         ],
         "line": {
          "color": "blue"
         },
         "lon": [
          -103.2214,
          -103.404759
         ],
         "marker": {
          "size": 1
         },
         "mode": "lines",
         "type": "scattermapbox"
        },
        {
         "lat": [
          44.2529,
          43.622834999999995
         ],
         "line": {
          "color": "blue"
         },
         "lon": [
          -85.01700000000001,
          -85.772335
         ],
         "marker": {
          "size": 1
         },
         "mode": "lines",
         "type": "scattermapbox"
        },
        {
         "lat": [
          32.5104,
          32.529658000000005
         ],
         "line": {
          "color": "blue"
         },
         "lon": [
          -86.8138,
          -86.241487
         ],
         "marker": {
          "size": 1
         },
         "mode": "lines",
         "type": "scattermapbox"
        },
        {
         "lat": [
          43.5335,
          43.296302
         ],
         "line": {
          "color": "blue"
         },
         "lon": [
          -96.3645,
          -95.399396
         ],
         "marker": {
          "size": 1
         },
         "mode": "lines",
         "type": "scattermapbox"
        },
        {
         "lat": [
          36.8347,
          37.765073
         ],
         "line": {
          "color": "blue"
         },
         "lon": [
          -84.4436,
          -84.02883100000001
         ],
         "marker": {
          "size": 1
         },
         "mode": "lines",
         "type": "scattermapbox"
        },
        {
         "lat": [
          35.584,
          34.802307
         ],
         "line": {
          "color": "blue"
         },
         "lon": [
          -80.8685,
          -80.570646
         ],
         "marker": {
          "size": 1
         },
         "mode": "lines",
         "type": "scattermapbox"
        },
        {
         "lat": [
          41.0767,
          40.669382
         ],
         "line": {
          "color": "blue"
         },
         "lon": [
          -74.5982,
          -73.67015699999999
         ],
         "marker": {
          "size": 1
         },
         "mode": "lines",
         "type": "scattermapbox"
        },
        {
         "lat": [
          27.9611,
          27.085171000000003
         ],
         "line": {
          "color": "blue"
         },
         "lon": [
          -81.9398,
          -81.046949
         ],
         "marker": {
          "size": 1
         },
         "mode": "lines",
         "type": "scattermapbox"
        },
        {
         "lat": [
          34.0287,
          33.779969
         ],
         "line": {
          "color": "blue"
         },
         "lon": [
          -118.4924,
          -119.045319
         ],
         "marker": {
          "size": 1
         },
         "mode": "lines",
         "type": "scattermapbox"
        },
        {
         "lat": [
          42.0716,
          41.922663
         ],
         "line": {
          "color": "blue"
         },
         "lon": [
          -75.0152,
          -75.173665
         ],
         "marker": {
          "size": 1
         },
         "mode": "lines",
         "type": "scattermapbox"
        },
        {
         "lat": [
          40.5553,
          41.232116
         ],
         "line": {
          "color": "blue"
         },
         "lon": [
          -77.4001,
          -76.992974
         ],
         "marker": {
          "size": 1
         },
         "mode": "lines",
         "type": "scattermapbox"
        },
        {
         "lat": [
          42.18899999999999,
          41.360149
         ],
         "line": {
          "color": "blue"
         },
         "lon": [
          -74.9229,
          -74.643915
         ],
         "marker": {
          "size": 1
         },
         "mode": "lines",
         "type": "scattermapbox"
        },
        {
         "lat": [
          33.8084,
          33.04896
         ],
         "line": {
          "color": "blue"
         },
         "lon": [
          -81.5956,
          -82.50205600000001
         ],
         "marker": {
          "size": 1
         },
         "mode": "lines",
         "type": "scattermapbox"
        },
        {
         "lat": [
          38.8881,
          37.920191
         ],
         "line": {
          "color": "blue"
         },
         "lon": [
          -104.6556,
          -104.007111
         ],
         "marker": {
          "size": 1
         },
         "mode": "lines",
         "type": "scattermapbox"
        },
        {
         "lat": [
          45.7549,
          44.994914
         ],
         "line": {
          "color": "blue"
         },
         "lon": [
          -84.447,
          -83.921867
         ],
         "marker": {
          "size": 1
         },
         "mode": "lines",
         "type": "scattermapbox"
        },
        {
         "lat": [
          39.013000000000005,
          38.598443
         ],
         "line": {
          "color": "blue"
         },
         "lon": [
          -86.5457,
          -86.343271
         ],
         "marker": {
          "size": 1
         },
         "mode": "lines",
         "type": "scattermapbox"
        },
        {
         "lat": [
          37.1788,
          37.532538
         ],
         "line": {
          "color": "blue"
         },
         "lon": [
          -82.695,
          -82.348327
         ],
         "marker": {
          "size": 1
         },
         "mode": "lines",
         "type": "scattermapbox"
        },
        {
         "lat": [
          35.8312,
          35.400372999999995
         ],
         "line": {
          "color": "blue"
         },
         "lon": [
          -94.1187,
          -93.180348
         ],
         "marker": {
          "size": 1
         },
         "mode": "lines",
         "type": "scattermapbox"
        },
        {
         "lat": [
          26.4215,
          25.781384
         ],
         "line": {
          "color": "blue"
         },
         "lon": [
          -99.0025,
          -99.754729
         ],
         "marker": {
          "size": 1
         },
         "mode": "lines",
         "type": "scattermapbox"
        },
        {
         "lat": [
          32.2768,
          32.654253999999995
         ],
         "line": {
          "color": "blue"
         },
         "lon": [
          -95.3031,
          -95.744085
         ],
         "marker": {
          "size": 1
         },
         "mode": "lines",
         "type": "scattermapbox"
        },
        {
         "lat": [
          44.6255,
          45.181221
         ],
         "line": {
          "color": "blue"
         },
         "lon": [
          -116.4493,
          -115.468509
         ],
         "marker": {
          "size": 1
         },
         "mode": "lines",
         "type": "scattermapbox"
        },
        {
         "lat": [
          32.153,
          31.357311
         ],
         "line": {
          "color": "blue"
         },
         "lon": [
          -90.1217,
          -89.522559
         ],
         "marker": {
          "size": 1
         },
         "mode": "lines",
         "type": "scattermapbox"
        },
        {
         "lat": [
          38.2586,
          37.513369
         ],
         "line": {
          "color": "blue"
         },
         "lon": [
          -78.4074,
          -78.939155
         ],
         "marker": {
          "size": 1
         },
         "mode": "lines",
         "type": "scattermapbox"
        },
        {
         "lat": [
          34.8698,
          35.857124
         ],
         "line": {
          "color": "blue"
         },
         "lon": [
          -100.6806,
          -100.821722
         ],
         "marker": {
          "size": 1
         },
         "mode": "lines",
         "type": "scattermapbox"
        },
        {
         "lat": [
          30.9416,
          30.482287
         ],
         "line": {
          "color": "blue"
         },
         "lon": [
          -83.3574,
          -82.495786
         ],
         "marker": {
          "size": 1
         },
         "mode": "lines",
         "type": "scattermapbox"
        },
        {
         "lat": [
          33.9845,
          33.15011
         ],
         "line": {
          "color": "blue"
         },
         "lon": [
          -85.9077,
          -85.358187
         ],
         "marker": {
          "size": 1
         },
         "mode": "lines",
         "type": "scattermapbox"
        },
        {
         "lat": [
          40.1159,
          39.720709
         ],
         "line": {
          "color": "blue"
         },
         "lon": [
          -74.8536,
          -74.536876
         ],
         "marker": {
          "size": 1
         },
         "mode": "lines",
         "type": "scattermapbox"
        },
        {
         "lat": [
          38.2911,
          37.958690999999995
         ],
         "line": {
          "color": "blue"
         },
         "lon": [
          -92.7059,
          -92.423215
         ],
         "marker": {
          "size": 1
         },
         "mode": "lines",
         "type": "scattermapbox"
        },
        {
         "lat": [
          33.4783,
          33.468911999999996
         ],
         "line": {
          "color": "blue"
         },
         "lon": [
          -90.5142,
          -90.744914
         ],
         "marker": {
          "size": 1
         },
         "mode": "lines",
         "type": "scattermapbox"
        },
        {
         "lat": [
          40.7687,
          41.230669
         ],
         "line": {
          "color": "blue"
         },
         "lon": [
          -80.3592,
          -80.21525
         ],
         "marker": {
          "size": 1
         },
         "mode": "lines",
         "type": "scattermapbox"
        },
        {
         "lat": [
          34.2651,
          34.914814
         ],
         "line": {
          "color": "blue"
         },
         "lon": [
          -77.867,
          -78.62236899999999
         ],
         "marker": {
          "size": 1
         },
         "mode": "lines",
         "type": "scattermapbox"
        },
        {
         "lat": [
          39.7562,
          40.108405
         ],
         "line": {
          "color": "blue"
         },
         "lon": [
          -98.4462,
          -98.449762
         ],
         "marker": {
          "size": 1
         },
         "mode": "lines",
         "type": "scattermapbox"
        },
        {
         "lat": [
          32.3374,
          31.520566
         ],
         "line": {
          "color": "blue"
         },
         "lon": [
          -86.2715,
          -86.79809499999999
         ],
         "marker": {
          "size": 1
         },
         "mode": "lines",
         "type": "scattermapbox"
        },
        {
         "lat": [
          48.6031,
          49.558329
         ],
         "line": {
          "color": "blue"
         },
         "lon": [
          -93.2977,
          -93.255338
         ],
         "marker": {
          "size": 1
         },
         "mode": "lines",
         "type": "scattermapbox"
        },
        {
         "lat": [
          32.153,
          32.653939
         ],
         "line": {
          "color": "blue"
         },
         "lon": [
          -90.1217,
          -90.244531
         ],
         "marker": {
          "size": 1
         },
         "mode": "lines",
         "type": "scattermapbox"
        },
        {
         "lat": [
          41.5403,
          41.958102
         ],
         "line": {
          "color": "blue"
         },
         "lon": [
          -122.9366,
          -122.701158
         ],
         "marker": {
          "size": 1
         },
         "mode": "lines",
         "type": "scattermapbox"
        },
        {
         "lat": [
          46.2306,
          45.355093
         ],
         "line": {
          "color": "blue"
         },
         "lon": [
          -112.1138,
          -111.254156
         ],
         "marker": {
          "size": 1
         },
         "mode": "lines",
         "type": "scattermapbox"
        },
        {
         "lat": [
          39.1505,
          39.788165
         ],
         "line": {
          "color": "blue"
         },
         "lon": [
          -79.503,
          -79.905091
         ],
         "marker": {
          "size": 1
         },
         "mode": "lines",
         "type": "scattermapbox"
        },
        {
         "lat": [
          34.3424,
          34.638999
         ],
         "line": {
          "color": "blue"
         },
         "lon": [
          -80.5,
          -80.81379
         ],
         "marker": {
          "size": 1
         },
         "mode": "lines",
         "type": "scattermapbox"
        },
        {
         "lat": [
          36.1043,
          36.894991999999995
         ],
         "line": {
          "color": "blue"
         },
         "lon": [
          -97.0609,
          -97.699774
         ],
         "marker": {
          "size": 1
         },
         "mode": "lines",
         "type": "scattermapbox"
        },
        {
         "lat": [
          45.4963,
          45.935831
         ],
         "line": {
          "color": "blue"
         },
         "lon": [
          -89.7273,
          -90.476387
         ],
         "marker": {
          "size": 1
         },
         "mode": "lines",
         "type": "scattermapbox"
        },
        {
         "lat": [
          37.6223,
          37.310741
         ],
         "line": {
          "color": "blue"
         },
         "lon": [
          -97.3136,
          -97.653134
         ],
         "marker": {
          "size": 1
         },
         "mode": "lines",
         "type": "scattermapbox"
        },
        {
         "lat": [
          39.013000000000005,
          39.251985999999995
         ],
         "line": {
          "color": "blue"
         },
         "lon": [
          -86.5457,
          -86.21220600000001
         ],
         "marker": {
          "size": 1
         },
         "mode": "lines",
         "type": "scattermapbox"
        },
        {
         "lat": [
          45.6675,
          46.334754
         ],
         "line": {
          "color": "blue"
         },
         "lon": [
          -93.2433,
          -93.743852
         ],
         "marker": {
          "size": 1
         },
         "mode": "lines",
         "type": "scattermapbox"
        },
        {
         "lat": [
          31.6591,
          30.938
         ],
         "line": {
          "color": "blue"
         },
         "lon": [
          -96.8094,
          -96.696129
         ],
         "marker": {
          "size": 1
         },
         "mode": "lines",
         "type": "scattermapbox"
        },
        {
         "lat": [
          34.3795,
          33.641740000000006
         ],
         "line": {
          "color": "blue"
         },
         "lon": [
          -118.523,
          -118.54348799999998
         ],
         "marker": {
          "size": 1
         },
         "mode": "lines",
         "type": "scattermapbox"
        },
        {
         "lat": [
          33.5623,
          34.303067
         ],
         "line": {
          "color": "blue"
         },
         "lon": [
          -112.0559,
          -112.358126
         ],
         "marker": {
          "size": 1
         },
         "mode": "lines",
         "type": "scattermapbox"
        },
        {
         "lat": [
          31.6591,
          32.542003
         ],
         "line": {
          "color": "blue"
         },
         "lon": [
          -96.8094,
          -96.108789
         ],
         "marker": {
          "size": 1
         },
         "mode": "lines",
         "type": "scattermapbox"
        },
        {
         "lat": [
          26.7383,
          26.736229
         ],
         "line": {
          "color": "blue"
         },
         "lon": [
          -80.27600000000001,
          -79.762914
         ],
         "marker": {
          "size": 1
         },
         "mode": "lines",
         "type": "scattermapbox"
        },
        {
         "lat": [
          44.8816,
          44.288439
         ],
         "line": {
          "color": "blue"
         },
         "lon": [
          -73.6408,
          -73.614458
         ],
         "marker": {
          "size": 1
         },
         "mode": "lines",
         "type": "scattermapbox"
        },
        {
         "lat": [
          40.6729,
          40.052093
         ],
         "line": {
          "color": "blue"
         },
         "lon": [
          -73.5365,
          -74.321854
         ],
         "marker": {
          "size": 1
         },
         "mode": "lines",
         "type": "scattermapbox"
        },
        {
         "lat": [
          38.4207,
          37.819091
         ],
         "line": {
          "color": "blue"
         },
         "lon": [
          -79.4629,
          -79.04227900000001
         ],
         "marker": {
          "size": 1
         },
         "mode": "lines",
         "type": "scattermapbox"
        },
        {
         "lat": [
          40.7491,
          39.95833
         ],
         "line": {
          "color": "blue"
         },
         "lon": [
          -95.038,
          -94.223935
         ],
         "marker": {
          "size": 1
         },
         "mode": "lines",
         "type": "scattermapbox"
        },
        {
         "lat": [
          34.5091,
          33.99304
         ],
         "line": {
          "color": "blue"
         },
         "lon": [
          -92.4828,
          -91.838962
         ],
         "marker": {
          "size": 1
         },
         "mode": "lines",
         "type": "scattermapbox"
        },
        {
         "lat": [
          38.2586,
          37.816178
         ],
         "line": {
          "color": "blue"
         },
         "lon": [
          -78.4074,
          -77.92626899999999
         ],
         "marker": {
          "size": 1
         },
         "mode": "lines",
         "type": "scattermapbox"
        },
        {
         "lat": [
          37.2409,
          37.767687
         ],
         "line": {
          "color": "blue"
         },
         "lon": [
          -82.7696,
          -83.52117199999999
         ],
         "marker": {
          "size": 1
         },
         "mode": "lines",
         "type": "scattermapbox"
        },
        {
         "lat": [
          44.3566,
          44.221284999999995
         ],
         "line": {
          "color": "blue"
         },
         "lon": [
          -103.6999,
          -103.130462
         ],
         "marker": {
          "size": 1
         },
         "mode": "lines",
         "type": "scattermapbox"
        },
        {
         "lat": [
          34.7789,
          34.000426000000004
         ],
         "line": {
          "color": "blue"
         },
         "lon": [
          -86.5438,
          -85.98273499999999
         ],
         "marker": {
          "size": 1
         },
         "mode": "lines",
         "type": "scattermapbox"
        },
        {
         "lat": [
          36.802,
          36.813675
         ],
         "line": {
          "color": "blue"
         },
         "lon": [
          -87.8286,
          -88.755394
         ],
         "marker": {
          "size": 1
         },
         "mode": "lines",
         "type": "scattermapbox"
        },
        {
         "lat": [
          41.173,
          41.740085
         ],
         "line": {
          "color": "blue"
         },
         "lon": [
          -89.2187,
          -89.503578
         ],
         "marker": {
          "size": 1
         },
         "mode": "lines",
         "type": "scattermapbox"
        },
        {
         "lat": [
          39.283,
          39.733776
         ],
         "line": {
          "color": "blue"
         },
         "lon": [
          -82.3977,
          -82.510465
         ],
         "marker": {
          "size": 1
         },
         "mode": "lines",
         "type": "scattermapbox"
        },
        {
         "lat": [
          34.7789,
          35.373915000000004
         ],
         "line": {
          "color": "blue"
         },
         "lon": [
          -86.5438,
          -86.29539100000001
         ],
         "marker": {
          "size": 1
         },
         "mode": "lines",
         "type": "scattermapbox"
        },
        {
         "lat": [
          39.1505,
          39.987165999999995
         ],
         "line": {
          "color": "blue"
         },
         "lon": [
          -79.503,
          -78.556574
         ],
         "marker": {
          "size": 1
         },
         "mode": "lines",
         "type": "scattermapbox"
        },
        {
         "lat": [
          37.3272,
          36.336825
         ],
         "line": {
          "color": "blue"
         },
         "lon": [
          -91.0243,
          -90.726825
         ],
         "marker": {
          "size": 1
         },
         "mode": "lines",
         "type": "scattermapbox"
        },
        {
         "lat": [
          37.0581,
          36.957589
         ],
         "line": {
          "color": "blue"
         },
         "lon": [
          -86.1938,
          -86.244127
         ],
         "marker": {
          "size": 1
         },
         "mode": "lines",
         "type": "scattermapbox"
        },
        {
         "lat": [
          41.2001,
          40.43714
         ],
         "line": {
          "color": "blue"
         },
         "lon": [
          -92.1354,
          -92.86213
         ],
         "marker": {
          "size": 1
         },
         "mode": "lines",
         "type": "scattermapbox"
        },
        {
         "lat": [
          41.173,
          41.603817
         ],
         "line": {
          "color": "blue"
         },
         "lon": [
          -89.2187,
          -89.459581
         ],
         "marker": {
          "size": 1
         },
         "mode": "lines",
         "type": "scattermapbox"
        },
        {
         "lat": [
          38.9621,
          38.081182
         ],
         "line": {
          "color": "blue"
         },
         "lon": [
          -94.5959,
          -95.419453
         ],
         "marker": {
          "size": 1
         },
         "mode": "lines",
         "type": "scattermapbox"
        },
        {
         "lat": [
          43.6718,
          43.704421999999994
         ],
         "line": {
          "color": "blue"
         },
         "lon": [
          -89.1918,
          -88.954426
         ],
         "marker": {
          "size": 1
         },
         "mode": "lines",
         "type": "scattermapbox"
        },
        {
         "lat": [
          31.8287,
          31.271679
         ],
         "line": {
          "color": "blue"
         },
         "lon": [
          -99.427,
          -100.043977
         ],
         "marker": {
          "size": 1
         },
         "mode": "lines",
         "type": "scattermapbox"
        },
        {
         "lat": [
          43.6498,
          42.896458
         ],
         "line": {
          "color": "blue"
         },
         "lon": [
          -116.4306,
          -115.668282
         ],
         "marker": {
          "size": 1
         },
         "mode": "lines",
         "type": "scattermapbox"
        },
        {
         "lat": [
          28.5697,
          28.285411
         ],
         "line": {
          "color": "blue"
         },
         "lon": [
          -80.8191,
          -81.032886
         ],
         "marker": {
          "size": 1
         },
         "mode": "lines",
         "type": "scattermapbox"
        },
        {
         "lat": [
          43.7557,
          43.700181
         ],
         "line": {
          "color": "blue"
         },
         "lon": [
          -97.5936,
          -97.053069
         ],
         "marker": {
          "size": 1
         },
         "mode": "lines",
         "type": "scattermapbox"
        },
        {
         "lat": [
          39.7532,
          39.079046000000005
         ],
         "line": {
          "color": "blue"
         },
         "lon": [
          -105.6356,
          -105.778496
         ],
         "marker": {
          "size": 1
         },
         "mode": "lines",
         "type": "scattermapbox"
        },
        {
         "lat": [
          40.1008,
          39.11608
         ],
         "line": {
          "color": "blue"
         },
         "lon": [
          -80.0652,
          -79.718502
         ],
         "marker": {
          "size": 1
         },
         "mode": "lines",
         "type": "scattermapbox"
        },
        {
         "lat": [
          44.8232,
          44.158795
         ],
         "line": {
          "color": "blue"
         },
         "lon": [
          -89.1665,
          -88.817113
         ],
         "marker": {
          "size": 1
         },
         "mode": "lines",
         "type": "scattermapbox"
        },
        {
         "lat": [
          37.9943,
          38.468323
         ],
         "line": {
          "color": "blue"
         },
         "lon": [
          -88.9417,
          -89.026758
         ],
         "marker": {
          "size": 1
         },
         "mode": "lines",
         "type": "scattermapbox"
        },
        {
         "lat": [
          39.4055,
          40.238543
         ],
         "line": {
          "color": "blue"
         },
         "lon": [
          -75.3209,
          -75.342576
         ],
         "marker": {
          "size": 1
         },
         "mode": "lines",
         "type": "scattermapbox"
        },
        {
         "lat": [
          44.6084,
          44.965369
         ],
         "line": {
          "color": "blue"
         },
         "lon": [
          -70.6993,
          -71.018934
         ],
         "marker": {
          "size": 1
         },
         "mode": "lines",
         "type": "scattermapbox"
        },
        {
         "lat": [
          41.1464,
          40.497779
         ],
         "line": {
          "color": "blue"
         },
         "lon": [
          -81.5107,
          -82.09609300000001
         ],
         "marker": {
          "size": 1
         },
         "mode": "lines",
         "type": "scattermapbox"
        },
        {
         "lat": [
          43.3392,
          43.586021
         ],
         "line": {
          "color": "blue"
         },
         "lon": [
          -75.7543,
          -74.870475
         ],
         "marker": {
          "size": 1
         },
         "mode": "lines",
         "type": "scattermapbox"
        },
        {
         "lat": [
          26.9379,
          26.75906
         ],
         "line": {
          "color": "blue"
         },
         "lon": [
          -82.2388,
          -81.347597
         ],
         "marker": {
          "size": 1
         },
         "mode": "lines",
         "type": "scattermapbox"
        },
        {
         "lat": [
          42.2203,
          42.39683
         ],
         "line": {
          "color": "blue"
         },
         "lon": [
          -83.3583,
          -82.605827
         ],
         "marker": {
          "size": 1
         },
         "mode": "lines",
         "type": "scattermapbox"
        },
        {
         "lat": [
          36.6966,
          36.24561
         ],
         "line": {
          "color": "blue"
         },
         "lon": [
          -96.7869,
          -96.528137
         ],
         "marker": {
          "size": 1
         },
         "mode": "lines",
         "type": "scattermapbox"
        },
        {
         "lat": [
          30.4066,
          30.937154
         ],
         "line": {
          "color": "blue"
         },
         "lon": [
          -91.1468,
          -90.51859
         ],
         "marker": {
          "size": 1
         },
         "mode": "lines",
         "type": "scattermapbox"
        },
        {
         "lat": [
          37.0581,
          37.880468
         ],
         "line": {
          "color": "blue"
         },
         "lon": [
          -86.1938,
          -85.88794399999999
         ],
         "marker": {
          "size": 1
         },
         "mode": "lines",
         "type": "scattermapbox"
        },
        {
         "lat": [
          40.9918,
          40.538419
         ],
         "line": {
          "color": "blue"
         },
         "lon": [
          -73.98,
          -73.154287
         ],
         "marker": {
          "size": 1
         },
         "mode": "lines",
         "type": "scattermapbox"
        },
        {
         "lat": [
          43.3526,
          42.499752
         ],
         "line": {
          "color": "blue"
         },
         "lon": [
          -102.5411,
          -101.936292
         ],
         "marker": {
          "size": 1
         },
         "mode": "lines",
         "type": "scattermapbox"
        },
        {
         "lat": [
          42.2619,
          42.646739
         ],
         "line": {
          "color": "blue"
         },
         "lon": [
          -94.5566,
          -95.173665
         ],
         "marker": {
          "size": 1
         },
         "mode": "lines",
         "type": "scattermapbox"
        },
        {
         "lat": [
          30.9416,
          30.115808
         ],
         "line": {
          "color": "blue"
         },
         "lon": [
          -83.3574,
          -83.899989
         ],
         "marker": {
          "size": 1
         },
         "mode": "lines",
         "type": "scattermapbox"
        },
        {
         "lat": [
          40.8265,
          41.324148
         ],
         "line": {
          "color": "blue"
         },
         "lon": [
          -73.9383,
          -74.28794
         ],
         "marker": {
          "size": 1
         },
         "mode": "lines",
         "type": "scattermapbox"
        },
        {
         "lat": [
          40.0987,
          39.811572
         ],
         "line": {
          "color": "blue"
         },
         "lon": [
          -84.6342,
          -85.281355
         ],
         "marker": {
          "size": 1
         },
         "mode": "lines",
         "type": "scattermapbox"
        },
        {
         "lat": [
          38.5234,
          38.92042
         ],
         "line": {
          "color": "blue"
         },
         "lon": [
          -120.6763,
          -120.52949
         ],
         "marker": {
          "size": 1
         },
         "mode": "lines",
         "type": "scattermapbox"
        },
        {
         "lat": [
          30.592,
          31.308641
         ],
         "line": {
          "color": "blue"
         },
         "lon": [
          -97.2893,
          -96.586306
         ],
         "marker": {
          "size": 1
         },
         "mode": "lines",
         "type": "scattermapbox"
        },
        {
         "lat": [
          41.0646,
          40.071517
         ],
         "line": {
          "color": "blue"
         },
         "lon": [
          -87.5917,
          -86.780629
         ],
         "marker": {
          "size": 1
         },
         "mode": "lines",
         "type": "scattermapbox"
        },
        {
         "lat": [
          43.8065,
          42.893767
         ],
         "line": {
          "color": "blue"
         },
         "lon": [
          -73.0882,
          -73.20872
         ],
         "marker": {
          "size": 1
         },
         "mode": "lines",
         "type": "scattermapbox"
        },
        {
         "lat": [
          40.333,
          39.816395
         ],
         "line": {
          "color": "blue"
         },
         "lon": [
          -73.9809,
          -73.85365999999999
         ],
         "marker": {
          "size": 1
         },
         "mode": "lines",
         "type": "scattermapbox"
        },
        {
         "lat": [
          30.2816,
          29.658237
         ],
         "line": {
          "color": "blue"
         },
         "lon": [
          -99.241,
          -98.500318
         ],
         "marker": {
          "size": 1
         },
         "mode": "lines",
         "type": "scattermapbox"
        },
        {
         "lat": [
          35.0583,
          34.464158000000005
         ],
         "line": {
          "color": "blue"
         },
         "lon": [
          -79.008,
          -79.528425
         ],
         "marker": {
          "size": 1
         },
         "mode": "lines",
         "type": "scattermapbox"
        },
        {
         "lat": [
          34.7032,
          34.037431
         ],
         "line": {
          "color": "blue"
         },
         "lon": [
          -98.9591,
          -98.176826
         ],
         "marker": {
          "size": 1
         },
         "mode": "lines",
         "type": "scattermapbox"
        },
        {
         "lat": [
          48.4786,
          49.011344
         ],
         "line": {
          "color": "blue"
         },
         "lon": [
          -122.3345,
          -121.802865
         ],
         "marker": {
          "size": 1
         },
         "mode": "lines",
         "type": "scattermapbox"
        },
        {
         "lat": [
          37.9943,
          38.294255
         ],
         "line": {
          "color": "blue"
         },
         "lon": [
          -88.9417,
          -89.410213
         ],
         "marker": {
          "size": 1
         },
         "mode": "lines",
         "type": "scattermapbox"
        },
        {
         "lat": [
          39.013000000000005,
          39.377949
         ],
         "line": {
          "color": "blue"
         },
         "lon": [
          -86.5457,
          -87.345548
         ],
         "marker": {
          "size": 1
         },
         "mode": "lines",
         "type": "scattermapbox"
        },
        {
         "lat": [
          34.5444,
          34.249145
         ],
         "line": {
          "color": "blue"
         },
         "lon": [
          -102.1069,
          -101.773751
         ],
         "marker": {
          "size": 1
         },
         "mode": "lines",
         "type": "scattermapbox"
        },
        {
         "lat": [
          34.5444,
          35.205524
         ],
         "line": {
          "color": "blue"
         },
         "lon": [
          -102.1069,
          -102.191564
         ],
         "marker": {
          "size": 1
         },
         "mode": "lines",
         "type": "scattermapbox"
        },
        {
         "lat": [
          48.4786,
          48.116007
         ],
         "line": {
          "color": "blue"
         },
         "lon": [
          -122.3345,
          -123.212642
         ],
         "marker": {
          "size": 1
         },
         "mode": "lines",
         "type": "scattermapbox"
        },
        {
         "lat": [
          33.4783,
          34.43277
         ],
         "line": {
          "color": "blue"
         },
         "lon": [
          -90.5142,
          -90.776463
         ],
         "marker": {
          "size": 1
         },
         "mode": "lines",
         "type": "scattermapbox"
        },
        {
         "lat": [
          42.7012,
          42.196847
         ],
         "line": {
          "color": "blue"
         },
         "lon": [
          -92.0762,
          -92.641673
         ],
         "marker": {
          "size": 1
         },
         "mode": "lines",
         "type": "scattermapbox"
        },
        {
         "lat": [
          41.5744,
          41.810905
         ],
         "line": {
          "color": "blue"
         },
         "lon": [
          -75.5881,
          -76.129768
         ],
         "marker": {
          "size": 1
         },
         "mode": "lines",
         "type": "scattermapbox"
        },
        {
         "lat": [
          39.047,
          38.481435999999995
         ],
         "line": {
          "color": "blue"
         },
         "lon": [
          -122.9328,
          -123.853643
         ],
         "marker": {
          "size": 1
         },
         "mode": "lines",
         "type": "scattermapbox"
        },
        {
         "lat": [
          37.6395,
          37.848883
         ],
         "line": {
          "color": "blue"
         },
         "lon": [
          -97.1714,
          -97.269337
         ],
         "marker": {
          "size": 1
         },
         "mode": "lines",
         "type": "scattermapbox"
        },
        {
         "lat": [
          38.138000000000005,
          38.387637
         ],
         "line": {
          "color": "blue"
         },
         "lon": [
          -89.2231,
          -88.871888
         ],
         "marker": {
          "size": 1
         },
         "mode": "lines",
         "type": "scattermapbox"
        },
        {
         "lat": [
          45.7801,
          45.437771999999995
         ],
         "line": {
          "color": "blue"
         },
         "lon": [
          -111.1439,
          -111.354704
         ],
         "marker": {
          "size": 1
         },
         "mode": "lines",
         "type": "scattermapbox"
        },
        {
         "lat": [
          31.4285,
          30.688723
         ],
         "line": {
          "color": "blue"
         },
         "lon": [
          -90.8578,
          -91.09643
         ],
         "marker": {
          "size": 1
         },
         "mode": "lines",
         "type": "scattermapbox"
        },
        {
         "lat": [
          35.8759,
          35.087447999999995
         ],
         "line": {
          "color": "blue"
         },
         "lon": [
          -96.9623,
          -97.179117
         ],
         "marker": {
          "size": 1
         },
         "mode": "lines",
         "type": "scattermapbox"
        },
        {
         "lat": [
          40.7641,
          40.334678
         ],
         "line": {
          "color": "blue"
         },
         "lon": [
          -84.0973,
          -84.345589
         ],
         "marker": {
          "size": 1
         },
         "mode": "lines",
         "type": "scattermapbox"
        },
        {
         "lat": [
          29.3641,
          29.298754
         ],
         "line": {
          "color": "blue"
         },
         "lon": [
          -98.4924,
          -99.265945
         ],
         "marker": {
          "size": 1
         },
         "mode": "lines",
         "type": "scattermapbox"
        },
        {
         "lat": [
          36.2835,
          37.092671
         ],
         "line": {
          "color": "blue"
         },
         "lon": [
          -87.4581,
          -88.2705
         ],
         "marker": {
          "size": 1
         },
         "mode": "lines",
         "type": "scattermapbox"
        },
        {
         "lat": [
          32.153,
          32.274895
         ],
         "line": {
          "color": "blue"
         },
         "lon": [
          -90.1217,
          -91.10764
         ],
         "marker": {
          "size": 1
         },
         "mode": "lines",
         "type": "scattermapbox"
        },
        {
         "lat": [
          38.9424,
          39.781318
         ],
         "line": {
          "color": "blue"
         },
         "lon": [
          -84.09200000000001,
          -84.12144
         ],
         "marker": {
          "size": 1
         },
         "mode": "lines",
         "type": "scattermapbox"
        },
        {
         "lat": [
          44.3481,
          43.720554
         ],
         "line": {
          "color": "blue"
         },
         "lon": [
          -89.1101,
          -89.012088
         ],
         "marker": {
          "size": 1
         },
         "mode": "lines",
         "type": "scattermapbox"
        },
        {
         "lat": [
          44.1111,
          45.069278999999995
         ],
         "line": {
          "color": "blue"
         },
         "lon": [
          -94.9134,
          -94.301696
         ],
         "marker": {
          "size": 1
         },
         "mode": "lines",
         "type": "scattermapbox"
        },
        {
         "lat": [
          39.6967,
          39.094786
         ],
         "line": {
          "color": "blue"
         },
         "lon": [
          -78.8031,
          -78.424397
         ],
         "marker": {
          "size": 1
         },
         "mode": "lines",
         "type": "scattermapbox"
        },
        {
         "lat": [
          40.9115,
          40.244766
         ],
         "line": {
          "color": "blue"
         },
         "lon": [
          -74.414,
          -74.84823399999999
         ],
         "marker": {
          "size": 1
         },
         "mode": "lines",
         "type": "scattermapbox"
        },
        {
         "lat": [
          39.8936,
          39.763376
         ],
         "line": {
          "color": "blue"
         },
         "lon": [
          -79.7856,
          -79.42666700000001
         ],
         "marker": {
          "size": 1
         },
         "mode": "lines",
         "type": "scattermapbox"
        },
        {
         "lat": [
          33.3364,
          34.128758000000005
         ],
         "line": {
          "color": "blue"
         },
         "lon": [
          -80.1859,
          -79.85131899999999
         ],
         "marker": {
          "size": 1
         },
         "mode": "lines",
         "type": "scattermapbox"
        },
        {
         "lat": [
          39.0298,
          38.037036
         ],
         "line": {
          "color": "blue"
         },
         "lon": [
          -77.0793,
          -77.587477
         ],
         "marker": {
          "size": 1
         },
         "mode": "lines",
         "type": "scattermapbox"
        },
        {
         "lat": [
          35.8072,
          35.977821999999996
         ],
         "line": {
          "color": "blue"
         },
         "lon": [
          -78.0892,
          -78.252434
         ],
         "marker": {
          "size": 1
         },
         "mode": "lines",
         "type": "scattermapbox"
        },
        {
         "lat": [
          27.4703,
          27.633331
         ],
         "line": {
          "color": "blue"
         },
         "lon": [
          -81.4872,
          -82.195196
         ],
         "marker": {
          "size": 1
         },
         "mode": "lines",
         "type": "scattermapbox"
        },
        {
         "lat": [
          41.36600000000001,
          41.289621999999994
         ],
         "line": {
          "color": "blue"
         },
         "lon": [
          -98.0054,
          -97.084009
         ],
         "marker": {
          "size": 1
         },
         "mode": "lines",
         "type": "scattermapbox"
        },
        {
         "lat": [
          35.8985,
          35.272397999999995
         ],
         "line": {
          "color": "blue"
         },
         "lon": [
          -97.2607,
          -98.121239
         ],
         "marker": {
          "size": 1
         },
         "mode": "lines",
         "type": "scattermapbox"
        },
        {
         "lat": [
          45.3637,
          45.285428
         ],
         "line": {
          "color": "blue"
         },
         "lon": [
          -84.4695,
          -84.216233
         ],
         "marker": {
          "size": 1
         },
         "mode": "lines",
         "type": "scattermapbox"
        },
        {
         "lat": [
          34.0442,
          33.218393
         ],
         "line": {
          "color": "blue"
         },
         "lon": [
          -94.3386,
          -93.954552
         ],
         "marker": {
          "size": 1
         },
         "mode": "lines",
         "type": "scattermapbox"
        },
        {
         "lat": [
          39.9373,
          40.318157
         ],
         "line": {
          "color": "blue"
         },
         "lon": [
          -79.1865,
          -78.39394
         ],
         "marker": {
          "size": 1
         },
         "mode": "lines",
         "type": "scattermapbox"
        },
        {
         "lat": [
          43.2893,
          43.668977000000005
         ],
         "line": {
          "color": "blue"
         },
         "lon": [
          -97.1904,
          -96.359632
         ],
         "marker": {
          "size": 1
         },
         "mode": "lines",
         "type": "scattermapbox"
        },
        {
         "lat": [
          44.6437,
          44.09313
         ],
         "line": {
          "color": "blue"
         },
         "lon": [
          -90.1031,
          -90.326525
         ],
         "marker": {
          "size": 1
         },
         "mode": "lines",
         "type": "scattermapbox"
        },
        {
         "lat": [
          37.9073,
          37.85007
         ],
         "line": {
          "color": "blue"
         },
         "lon": [
          -75.5089,
          -76.45052700000001
         ],
         "marker": {
          "size": 1
         },
         "mode": "lines",
         "type": "scattermapbox"
        },
        {
         "lat": [
          33.615,
          33.924819
         ],
         "line": {
          "color": "blue"
         },
         "lon": [
          -117.7114,
          -117.680612
         ],
         "marker": {
          "size": 1
         },
         "mode": "lines",
         "type": "scattermapbox"
        },
        {
         "lat": [
          43.9742,
          44.550074
         ],
         "line": {
          "color": "blue"
         },
         "lon": [
          -71.1503,
          -70.955588
         ],
         "marker": {
          "size": 1
         },
         "mode": "lines",
         "type": "scattermapbox"
        },
        {
         "lat": [
          31.8287,
          32.676052
         ],
         "line": {
          "color": "blue"
         },
         "lon": [
          -99.427,
          -99.933577
         ],
         "marker": {
          "size": 1
         },
         "mode": "lines",
         "type": "scattermapbox"
        },
        {
         "lat": [
          40.2236,
          40.338209
         ],
         "line": {
          "color": "blue"
         },
         "lon": [
          -76.538,
          -77.28678199999999
         ],
         "marker": {
          "size": 1
         },
         "mode": "lines",
         "type": "scattermapbox"
        },
        {
         "lat": [
          46.9777,
          47.293774
         ],
         "line": {
          "color": "blue"
         },
         "lon": [
          -96.4092,
          -97.034748
         ],
         "marker": {
          "size": 1
         },
         "mode": "lines",
         "type": "scattermapbox"
        },
        {
         "lat": [
          34.4793,
          34.688032
         ],
         "line": {
          "color": "blue"
         },
         "lon": [
          -87.4769,
          -87.994837
         ],
         "marker": {
          "size": 1
         },
         "mode": "lines",
         "type": "scattermapbox"
        },
        {
         "lat": [
          38.8881,
          39.454473
         ],
         "line": {
          "color": "blue"
         },
         "lon": [
          -104.6556,
          -104.006124
         ],
         "marker": {
          "size": 1
         },
         "mode": "lines",
         "type": "scattermapbox"
        },
        {
         "lat": [
          38.1485,
          38.270416
         ],
         "line": {
          "color": "blue"
         },
         "lon": [
          -98.6408,
          -98.731707
         ],
         "marker": {
          "size": 1
         },
         "mode": "lines",
         "type": "scattermapbox"
        },
        {
         "lat": [
          44.2541,
          44.149252
         ],
         "line": {
          "color": "blue"
         },
         "lon": [
          -68.5565,
          -67.999471
         ],
         "marker": {
          "size": 1
         },
         "mode": "lines",
         "type": "scattermapbox"
        },
        {
         "lat": [
          41.0646,
          41.084436
         ],
         "line": {
          "color": "blue"
         },
         "lon": [
          -87.5917,
          -87.882564
         ],
         "marker": {
          "size": 1
         },
         "mode": "lines",
         "type": "scattermapbox"
        },
        {
         "lat": [
          33.9143,
          33.541575
         ],
         "line": {
          "color": "blue"
         },
         "lon": [
          -118.3493,
          -117.906439
         ],
         "marker": {
          "size": 1
         },
         "mode": "lines",
         "type": "scattermapbox"
        },
        {
         "lat": [
          32.4122,
          32.255554
         ],
         "line": {
          "color": "blue"
         },
         "lon": [
          -90.1207,
          -90.35416
         ],
         "marker": {
          "size": 1
         },
         "mode": "lines",
         "type": "scattermapbox"
        },
        {
         "lat": [
          29.5894,
          29.076128000000004
         ],
         "line": {
          "color": "blue"
         },
         "lon": [
          -98.5201,
          -97.885333
         ],
         "marker": {
          "size": 1
         },
         "mode": "lines",
         "type": "scattermapbox"
        },
        {
         "lat": [
          45.67100000000001,
          45.507669
         ],
         "line": {
          "color": "blue"
         },
         "lon": [
          -121.8686,
          -122.763193
         ],
         "marker": {
          "size": 1
         },
         "mode": "lines",
         "type": "scattermapbox"
        },
        {
         "lat": [
          36.4992,
          37.217527
         ],
         "line": {
          "color": "blue"
         },
         "lon": [
          -120.0936,
          -120.39611399999998
         ],
         "marker": {
          "size": 1
         },
         "mode": "lines",
         "type": "scattermapbox"
        },
        {
         "lat": [
          45.1939,
          45.38925
         ],
         "line": {
          "color": "blue"
         },
         "lon": [
          -112.0568,
          -112.855993
         ],
         "marker": {
          "size": 1
         },
         "mode": "lines",
         "type": "scattermapbox"
        },
        {
         "lat": [
          41.0552,
          40.959447999999995
         ],
         "line": {
          "color": "blue"
         },
         "lon": [
          -110.1603,
          -110.347714
         ],
         "marker": {
          "size": 1
         },
         "mode": "lines",
         "type": "scattermapbox"
        },
        {
         "lat": [
          40.1959,
          41.143857
         ],
         "line": {
          "color": "blue"
         },
         "lon": [
          -92.4333,
          -92.86599
         ],
         "marker": {
          "size": 1
         },
         "mode": "lines",
         "type": "scattermapbox"
        },
        {
         "lat": [
          32.6205,
          32.623384
         ],
         "line": {
          "color": "blue"
         },
         "lon": [
          -94.2,
          -94.272359
         ],
         "marker": {
          "size": 1
         },
         "mode": "lines",
         "type": "scattermapbox"
        },
        {
         "lat": [
          43.3526,
          42.733967
         ],
         "line": {
          "color": "blue"
         },
         "lon": [
          -102.5411,
          -101.886875
         ],
         "marker": {
          "size": 1
         },
         "mode": "lines",
         "type": "scattermapbox"
        },
        {
         "lat": [
          40.1008,
          40.931746
         ],
         "line": {
          "color": "blue"
         },
         "lon": [
          -80.0652,
          -79.655725
         ],
         "marker": {
          "size": 1
         },
         "mode": "lines",
         "type": "scattermapbox"
        },
        {
         "lat": [
          44.9595,
          44.137786
         ],
         "line": {
          "color": "blue"
         },
         "lon": [
          -93.8482,
          -93.490224
         ],
         "marker": {
          "size": 1
         },
         "mode": "lines",
         "type": "scattermapbox"
        },
        {
         "lat": [
          32.9396,
          33.243301
         ],
         "line": {
          "color": "blue"
         },
         "lon": [
          -105.8189,
          -105.629169
         ],
         "marker": {
          "size": 1
         },
         "mode": "lines",
         "type": "scattermapbox"
        },
        {
         "lat": [
          39.9961,
          40.567861
         ],
         "line": {
          "color": "blue"
         },
         "lon": [
          -79.7678,
          -80.207674
         ],
         "marker": {
          "size": 1
         },
         "mode": "lines",
         "type": "scattermapbox"
        },
        {
         "lat": [
          32.6205,
          32.658865000000006
         ],
         "line": {
          "color": "blue"
         },
         "lon": [
          -94.2,
          -95.123668
         ],
         "marker": {
          "size": 1
         },
         "mode": "lines",
         "type": "scattermapbox"
        },
        {
         "lat": [
          36.4715,
          35.503952000000005
         ],
         "line": {
          "color": "blue"
         },
         "lon": [
          -82.4834,
          -81.540347
         ],
         "marker": {
          "size": 1
         },
         "mode": "lines",
         "type": "scattermapbox"
        },
        {
         "lat": [
          39.7532,
          39.865006
         ],
         "line": {
          "color": "blue"
         },
         "lon": [
          -105.6356,
          -104.810973
         ],
         "marker": {
          "size": 1
         },
         "mode": "lines",
         "type": "scattermapbox"
        },
        {
         "lat": [
          40.6747,
          40.646015000000006
         ],
         "line": {
          "color": "blue"
         },
         "lon": [
          -74.2239,
          -73.600476
         ],
         "marker": {
          "size": 1
         },
         "mode": "lines",
         "type": "scattermapbox"
        },
        {
         "lat": [
          34.047,
          34.684175
         ],
         "line": {
          "color": "blue"
         },
         "lon": [
          -90.7652,
          -91.328372
         ],
         "marker": {
          "size": 1
         },
         "mode": "lines",
         "type": "scattermapbox"
        },
        {
         "lat": [
          28.0758,
          27.177678000000004
         ],
         "line": {
          "color": "blue"
         },
         "lon": [
          -81.5929,
          -81.016563
         ],
         "marker": {
          "size": 1
         },
         "mode": "lines",
         "type": "scattermapbox"
        },
        {
         "lat": [
          40.0235,
          40.551389
         ],
         "line": {
          "color": "blue"
         },
         "lon": [
          -120.7986,
          -121.01963
         ],
         "marker": {
          "size": 1
         },
         "mode": "lines",
         "type": "scattermapbox"
        },
        {
         "lat": [
          36.0244,
          35.628432000000004
         ],
         "line": {
          "color": "blue"
         },
         "lon": [
          -90.9288,
          -90.550749
         ],
         "marker": {
          "size": 1
         },
         "mode": "lines",
         "type": "scattermapbox"
        },
        {
         "lat": [
          40.0246,
          40.239914
         ],
         "line": {
          "color": "blue"
         },
         "lon": [
          -79.6955,
          -79.748796
         ],
         "marker": {
          "size": 1
         },
         "mode": "lines",
         "type": "scattermapbox"
        },
        {
         "lat": [
          24.6557,
          24.882659
         ],
         "line": {
          "color": "blue"
         },
         "lon": [
          -81.3824,
          -80.636797
         ],
         "marker": {
          "size": 1
         },
         "mode": "lines",
         "type": "scattermapbox"
        },
        {
         "lat": [
          38.4207,
          37.551043
         ],
         "line": {
          "color": "blue"
         },
         "lon": [
          -79.4629,
          -79.964838
         ],
         "marker": {
          "size": 1
         },
         "mode": "lines",
         "type": "scattermapbox"
        },
        {
         "lat": [
          44.2415,
          43.511146
         ],
         "line": {
          "color": "blue"
         },
         "lon": [
          -121.0113,
          -120.053351
         ],
         "marker": {
          "size": 1
         },
         "mode": "lines",
         "type": "scattermapbox"
        },
        {
         "lat": [
          39.5994,
          38.673793
         ],
         "line": {
          "color": "blue"
         },
         "lon": [
          -105.0044,
          -105.55636
         ],
         "marker": {
          "size": 1
         },
         "mode": "lines",
         "type": "scattermapbox"
        },
        {
         "lat": [
          40.3928,
          40.013341
         ],
         "line": {
          "color": "blue"
         },
         "lon": [
          -111.7941,
          -112.416047
         ],
         "marker": {
          "size": 1
         },
         "mode": "lines",
         "type": "scattermapbox"
        },
        {
         "lat": [
          38.6411,
          38.148682
         ],
         "line": {
          "color": "blue"
         },
         "lon": [
          -100.138,
          -101.129614
         ],
         "marker": {
          "size": 1
         },
         "mode": "lines",
         "type": "scattermapbox"
        },
        {
         "lat": [
          36.0557,
          35.707254999999996
         ],
         "line": {
          "color": "blue"
         },
         "lon": [
          -96.0602,
          -96.503505
         ],
         "marker": {
          "size": 1
         },
         "mode": "lines",
         "type": "scattermapbox"
        },
        {
         "lat": [
          44.1111,
          43.784357
         ],
         "line": {
          "color": "blue"
         },
         "lon": [
          -94.9134,
          -95.491687
         ],
         "marker": {
          "size": 1
         },
         "mode": "lines",
         "type": "scattermapbox"
        },
        {
         "lat": [
          38.8881,
          38.589724
         ],
         "line": {
          "color": "blue"
         },
         "lon": [
          -104.6556,
          -104.139611
         ],
         "marker": {
          "size": 1
         },
         "mode": "lines",
         "type": "scattermapbox"
        },
        {
         "lat": [
          37.9073,
          38.089012
         ],
         "line": {
          "color": "blue"
         },
         "lon": [
          -75.5089,
          -76.17111700000001
         ],
         "marker": {
          "size": 1
         },
         "mode": "lines",
         "type": "scattermapbox"
        },
        {
         "lat": [
          42.8948,
          42.153935
         ],
         "line": {
          "color": "blue"
         },
         "lon": [
          -74.8209,
          -74.24543
         ],
         "marker": {
          "size": 1
         },
         "mode": "lines",
         "type": "scattermapbox"
        },
        {
         "lat": [
          35.0561,
          35.530985
         ],
         "line": {
          "color": "blue"
         },
         "lon": [
          -106.5506,
          -106.509035
         ],
         "marker": {
          "size": 1
         },
         "mode": "lines",
         "type": "scattermapbox"
        },
        {
         "lat": [
          30.8836,
          30.755707
         ],
         "line": {
          "color": "blue"
         },
         "lon": [
          -84.3246,
          -83.480283
         ],
         "marker": {
          "size": 1
         },
         "mode": "lines",
         "type": "scattermapbox"
        },
        {
         "lat": [
          37.8274,
          38.670386
         ],
         "line": {
          "color": "blue"
         },
         "lon": [
          -88.6235,
          -87.68884399999999
         ],
         "marker": {
          "size": 1
         },
         "mode": "lines",
         "type": "scattermapbox"
        },
        {
         "lat": [
          37.7418,
          38.000494
         ],
         "line": {
          "color": "blue"
         },
         "lon": [
          -80.4626,
          -79.90756999999999
         ],
         "marker": {
          "size": 1
         },
         "mode": "lines",
         "type": "scattermapbox"
        },
        {
         "lat": [
          42.9147,
          42.586203999999995
         ],
         "line": {
          "color": "blue"
         },
         "lon": [
          -83.4845,
          -84.413963
         ],
         "marker": {
          "size": 1
         },
         "mode": "lines",
         "type": "scattermapbox"
        },
        {
         "lat": [
          41.1558,
          41.446147
         ],
         "line": {
          "color": "blue"
         },
         "lon": [
          -101.136,
          -100.272181
         ],
         "marker": {
          "size": 1
         },
         "mode": "lines",
         "type": "scattermapbox"
        },
        {
         "lat": [
          34.3795,
          33.614292
         ],
         "line": {
          "color": "blue"
         },
         "lon": [
          -118.523,
          -117.573638
         ],
         "marker": {
          "size": 1
         },
         "mode": "lines",
         "type": "scattermapbox"
        },
        {
         "lat": [
          33.0067,
          33.777689
         ],
         "line": {
          "color": "blue"
         },
         "lon": [
          -117.069,
          -117.726443
         ],
         "marker": {
          "size": 1
         },
         "mode": "lines",
         "type": "scattermapbox"
        },
        {
         "lat": [
          28.9254,
          29.679492
         ],
         "line": {
          "color": "blue"
         },
         "lon": [
          -81.6801,
          -81.290236
         ],
         "marker": {
          "size": 1
         },
         "mode": "lines",
         "type": "scattermapbox"
        },
        {
         "lat": [
          34.7031,
          34.394852
         ],
         "line": {
          "color": "blue"
         },
         "lon": [
          -86.3068,
          -85.650906
         ],
         "marker": {
          "size": 1
         },
         "mode": "lines",
         "type": "scattermapbox"
        },
        {
         "lat": [
          43.2237,
          42.713982
         ],
         "line": {
          "color": "blue"
         },
         "lon": [
          -75.1612,
          -74.461515
         ],
         "marker": {
          "size": 1
         },
         "mode": "lines",
         "type": "scattermapbox"
        },
        {
         "lat": [
          37.2876,
          37.819602
         ],
         "line": {
          "color": "blue"
         },
         "lon": [
          -77.295,
          -77.03485699999999
         ],
         "marker": {
          "size": 1
         },
         "mode": "lines",
         "type": "scattermapbox"
        },
        {
         "lat": [
          32.2779,
          31.670682
         ],
         "line": {
          "color": "blue"
         },
         "lon": [
          -97.2351,
          -98.114622
         ],
         "marker": {
          "size": 1
         },
         "mode": "lines",
         "type": "scattermapbox"
        },
        {
         "lat": [
          34.9906,
          35.433209999999995
         ],
         "line": {
          "color": "blue"
         },
         "lon": [
          -81.8327,
          -82.112923
         ],
         "marker": {
          "size": 1
         },
         "mode": "lines",
         "type": "scattermapbox"
        },
        {
         "lat": [
          44.4477,
          44.10031
         ],
         "line": {
          "color": "blue"
         },
         "lon": [
          -93.4252,
          -93.585852
         ],
         "marker": {
          "size": 1
         },
         "mode": "lines",
         "type": "scattermapbox"
        },
        {
         "lat": [
          44.6001,
          43.941719
         ],
         "line": {
          "color": "blue"
         },
         "lon": [
          -84.2931,
          -83.512298
         ],
         "marker": {
          "size": 1
         },
         "mode": "lines",
         "type": "scattermapbox"
        },
        {
         "lat": [
          39.2136,
          39.506082
         ],
         "line": {
          "color": "blue"
         },
         "lon": [
          -95.4404,
          -94.470336
         ],
         "marker": {
          "size": 1
         },
         "mode": "lines",
         "type": "scattermapbox"
        },
        {
         "lat": [
          46.3481,
          46.552524
         ],
         "line": {
          "color": "blue"
         },
         "lon": [
          -87.0436,
          -86.13502199999999
         ],
         "marker": {
          "size": 1
         },
         "mode": "lines",
         "type": "scattermapbox"
        },
        {
         "lat": [
          42.8678,
          41.890978
         ],
         "line": {
          "color": "blue"
         },
         "lon": [
          -71.042,
          -71.98269300000001
         ],
         "marker": {
          "size": 1
         },
         "mode": "lines",
         "type": "scattermapbox"
        },
        {
         "lat": [
          41.06399999999999,
          41.795312
         ],
         "line": {
          "color": "blue"
         },
         "lon": [
          -72.3366,
          -72.468532
         ],
         "marker": {
          "size": 1
         },
         "mode": "lines",
         "type": "scattermapbox"
        },
        {
         "lat": [
          36.6704,
          36.41851
         ],
         "line": {
          "color": "blue"
         },
         "lon": [
          -93.0377,
          -92.85089
         ],
         "marker": {
          "size": 1
         },
         "mode": "lines",
         "type": "scattermapbox"
        },
        {
         "lat": [
          27.5155,
          27.067970000000003
         ],
         "line": {
          "color": "blue"
         },
         "lon": [
          -99.4986,
          -99.50585
         ],
         "marker": {
          "size": 1
         },
         "mode": "lines",
         "type": "scattermapbox"
        },
        {
         "lat": [
          43.7893,
          44.72475
         ],
         "line": {
          "color": "blue"
         },
         "lon": [
          -75.4156,
          -74.924894
         ],
         "marker": {
          "size": 1
         },
         "mode": "lines",
         "type": "scattermapbox"
        },
        {
         "lat": [
          42.958,
          43.333557
         ],
         "line": {
          "color": "blue"
         },
         "lon": [
          -77.3083,
          -76.497118
         ],
         "marker": {
          "size": 1
         },
         "mode": "lines",
         "type": "scattermapbox"
        },
        {
         "lat": [
          39.9934,
          40.898956
         ],
         "line": {
          "color": "blue"
         },
         "lon": [
          -81.8024,
          -81.005434
         ],
         "marker": {
          "size": 1
         },
         "mode": "lines",
         "type": "scattermapbox"
        },
        {
         "lat": [
          40.4931,
          40.843837
         ],
         "line": {
          "color": "blue"
         },
         "lon": [
          -91.8912,
          -92.807414
         ],
         "marker": {
          "size": 1
         },
         "mode": "lines",
         "type": "scattermapbox"
        },
        {
         "lat": [
          36.385,
          36.473257
         ],
         "line": {
          "color": "blue"
         },
         "lon": [
          -98.0727,
          -99.037195
         ],
         "marker": {
          "size": 1
         },
         "mode": "lines",
         "type": "scattermapbox"
        },
        {
         "lat": [
          38.8582,
          38.18049
         ],
         "line": {
          "color": "blue"
         },
         "lon": [
          -76.6145,
          -75.851908
         ],
         "marker": {
          "size": 1
         },
         "mode": "lines",
         "type": "scattermapbox"
        },
        {
         "lat": [
          38.046,
          38.279649
         ],
         "line": {
          "color": "blue"
         },
         "lon": [
          -122.1866,
          -122.748793
         ],
         "marker": {
          "size": 1
         },
         "mode": "lines",
         "type": "scattermapbox"
        },
        {
         "lat": [
          43.9742,
          43.379563
         ],
         "line": {
          "color": "blue"
         },
         "lon": [
          -71.1503,
          -71.004866
         ],
         "marker": {
          "size": 1
         },
         "mode": "lines",
         "type": "scattermapbox"
        },
        {
         "lat": [
          41.0646,
          41.422874
         ],
         "line": {
          "color": "blue"
         },
         "lon": [
          -87.5917,
          -88.373837
         ],
         "marker": {
          "size": 1
         },
         "mode": "lines",
         "type": "scattermapbox"
        },
        {
         "lat": [
          44.5232,
          43.699778
         ],
         "line": {
          "color": "blue"
         },
         "lon": [
          -86.2061,
          -87.059933
         ],
         "marker": {
          "size": 1
         },
         "mode": "lines",
         "type": "scattermapbox"
        },
        {
         "lat": [
          43.7557,
          42.901581
         ],
         "line": {
          "color": "blue"
         },
         "lon": [
          -97.5936,
          -98.280126
         ],
         "marker": {
          "size": 1
         },
         "mode": "lines",
         "type": "scattermapbox"
        },
        {
         "lat": [
          39.013000000000005,
          39.259938
         ],
         "line": {
          "color": "blue"
         },
         "lon": [
          -86.5457,
          -86.387918
         ],
         "marker": {
          "size": 1
         },
         "mode": "lines",
         "type": "scattermapbox"
        },
        {
         "lat": [
          34.7032,
          34.10945
         ],
         "line": {
          "color": "blue"
         },
         "lon": [
          -98.9591,
          -98.034898
         ],
         "marker": {
          "size": 1
         },
         "mode": "lines",
         "type": "scattermapbox"
        },
        {
         "lat": [
          34.8838,
          34.359487
         ],
         "line": {
          "color": "blue"
         },
         "lon": [
          -90.7666,
          -90.487886
         ],
         "marker": {
          "size": 1
         },
         "mode": "lines",
         "type": "scattermapbox"
        },
        {
         "lat": [
          38.2833,
          38.111104
         ],
         "line": {
          "color": "blue"
         },
         "lon": [
          -75.8465,
          -76.78391500000001
         ],
         "marker": {
          "size": 1
         },
         "mode": "lines",
         "type": "scattermapbox"
        },
        {
         "lat": [
          33.4783,
          34.389384
         ],
         "line": {
          "color": "blue"
         },
         "lon": [
          -90.5142,
          -90.575221
         ],
         "marker": {
          "size": 1
         },
         "mode": "lines",
         "type": "scattermapbox"
        },
        {
         "lat": [
          44.0575,
          43.104217
         ],
         "line": {
          "color": "blue"
         },
         "lon": [
          -69.9656,
          -69.798563
         ],
         "marker": {
          "size": 1
         },
         "mode": "lines",
         "type": "scattermapbox"
        },
        {
         "lat": [
          31.7706,
          31.87919
         ],
         "line": {
          "color": "blue"
         },
         "lon": [
          -84.7936,
          -85.697202
         ],
         "marker": {
          "size": 1
         },
         "mode": "lines",
         "type": "scattermapbox"
        },
        {
         "lat": [
          33.141,
          32.777569
         ],
         "line": {
          "color": "blue"
         },
         "lon": [
          -82.515,
          -82.736859
         ],
         "marker": {
          "size": 1
         },
         "mode": "lines",
         "type": "scattermapbox"
        },
        {
         "lat": [
          36.0244,
          35.133472
         ],
         "line": {
          "color": "blue"
         },
         "lon": [
          -90.9288,
          -90.352758
         ],
         "marker": {
          "size": 1
         },
         "mode": "lines",
         "type": "scattermapbox"
        },
        {
         "lat": [
          37.3304,
          37.877425
         ],
         "line": {
          "color": "blue"
         },
         "lon": [
          -121.7913,
          -121.439462
         ],
         "marker": {
          "size": 1
         },
         "mode": "lines",
         "type": "scattermapbox"
        },
        {
         "lat": [
          33.9349,
          33.074397
         ],
         "line": {
          "color": "blue"
         },
         "lon": [
          -80.8449,
          -79.875814
         ],
         "marker": {
          "size": 1
         },
         "mode": "lines",
         "type": "scattermapbox"
        },
        {
         "lat": [
          43.5089,
          43.588855
         ],
         "line": {
          "color": "blue"
         },
         "lon": [
          -93.4824,
          -93.740957
         ],
         "marker": {
          "size": 1
         },
         "mode": "lines",
         "type": "scattermapbox"
        },
        {
         "lat": [
          42.4999,
          42.279615
         ],
         "line": {
          "color": "blue"
         },
         "lon": [
          -74.6117,
          -74.998143
         ],
         "marker": {
          "size": 1
         },
         "mode": "lines",
         "type": "scattermapbox"
        },
        {
         "lat": [
          28.3011,
          27.550956
         ],
         "line": {
          "color": "blue"
         },
         "lon": [
          -82.6927,
          -82.619686
         ],
         "marker": {
          "size": 1
         },
         "mode": "lines",
         "type": "scattermapbox"
        },
        {
         "lat": [
          40.2158,
          40.384492
         ],
         "line": {
          "color": "blue"
         },
         "lon": [
          -83.9579,
          -84.897821
         ],
         "marker": {
          "size": 1
         },
         "mode": "lines",
         "type": "scattermapbox"
        },
        {
         "lat": [
          38.2833,
          37.773327
         ],
         "line": {
          "color": "blue"
         },
         "lon": [
          -75.8465,
          -75.08633499999999
         ],
         "marker": {
          "size": 1
         },
         "mode": "lines",
         "type": "scattermapbox"
        },
        {
         "lat": [
          32.9396,
          32.378568
         ],
         "line": {
          "color": "blue"
         },
         "lon": [
          -105.8189,
          -105.861572
         ],
         "marker": {
          "size": 1
         },
         "mode": "lines",
         "type": "scattermapbox"
        },
        {
         "lat": [
          38.4207,
          38.370422
         ],
         "line": {
          "color": "blue"
         },
         "lon": [
          -79.4629,
          -80.449613
         ],
         "marker": {
          "size": 1
         },
         "mode": "lines",
         "type": "scattermapbox"
        },
        {
         "lat": [
          48.1439,
          48.981747
         ],
         "line": {
          "color": "blue"
         },
         "lon": [
          -92.8561,
          -93.331891
         ],
         "marker": {
          "size": 1
         },
         "mode": "lines",
         "type": "scattermapbox"
        },
        {
         "lat": [
          41.0552,
          41.784501
         ],
         "line": {
          "color": "blue"
         },
         "lon": [
          -110.1603,
          -109.902712
         ],
         "marker": {
          "size": 1
         },
         "mode": "lines",
         "type": "scattermapbox"
        },
        {
         "lat": [
          41.0646,
          40.551105
         ],
         "line": {
          "color": "blue"
         },
         "lon": [
          -87.5917,
          -88.133808
         ],
         "marker": {
          "size": 1
         },
         "mode": "lines",
         "type": "scattermapbox"
        },
        {
         "lat": [
          38.8265,
          39.172619
         ],
         "line": {
          "color": "blue"
         },
         "lon": [
          -82.1364,
          -81.914771
         ],
         "marker": {
          "size": 1
         },
         "mode": "lines",
         "type": "scattermapbox"
        },
        {
         "lat": [
          36.0788,
          36.349058
         ],
         "line": {
          "color": "blue"
         },
         "lon": [
          -81.1781,
          -80.353356
         ],
         "marker": {
          "size": 1
         },
         "mode": "lines",
         "type": "scattermapbox"
        },
        {
         "lat": [
          32.2779,
          31.981083
         ],
         "line": {
          "color": "blue"
         },
         "lon": [
          -97.2351,
          -97.016287
         ],
         "marker": {
          "size": 1
         },
         "mode": "lines",
         "type": "scattermapbox"
        },
        {
         "lat": [
          30.4066,
          30.923669
         ],
         "line": {
          "color": "blue"
         },
         "lon": [
          -91.1468,
          -92.020338
         ],
         "marker": {
          "size": 1
         },
         "mode": "lines",
         "type": "scattermapbox"
        },
        {
         "lat": [
          41.2001,
          41.877196000000005
         ],
         "line": {
          "color": "blue"
         },
         "lon": [
          -92.1354,
          -93.101863
         ],
         "marker": {
          "size": 1
         },
         "mode": "lines",
         "type": "scattermapbox"
        },
        {
         "lat": [
          43.2363,
          42.676777
         ],
         "line": {
          "color": "blue"
         },
         "lon": [
          -78.3138,
          -79.197287
         ],
         "marker": {
          "size": 1
         },
         "mode": "lines",
         "type": "scattermapbox"
        },
        {
         "lat": [
          35.8985,
          34.97469
         ],
         "line": {
          "color": "blue"
         },
         "lon": [
          -97.2607,
          -97.366889
         ],
         "marker": {
          "size": 1
         },
         "mode": "lines",
         "type": "scattermapbox"
        },
        {
         "lat": [
          41.8467,
          40.925612
         ],
         "line": {
          "color": "blue"
         },
         "lon": [
          -74.1038,
          -74.827752
         ],
         "marker": {
          "size": 1
         },
         "mode": "lines",
         "type": "scattermapbox"
        },
        {
         "lat": [
          41.1573,
          41.217748
         ],
         "line": {
          "color": "blue"
         },
         "lon": [
          -88.0619,
          -88.64752299999999
         ],
         "marker": {
          "size": 1
         },
         "mode": "lines",
         "type": "scattermapbox"
        },
        {
         "lat": [
          40.6025,
          40.097864
         ],
         "line": {
          "color": "blue"
         },
         "lon": [
          -80.3863,
          -81.150133
         ],
         "marker": {
          "size": 1
         },
         "mode": "lines",
         "type": "scattermapbox"
        },
        {
         "lat": [
          44.5995,
          44.140596
         ],
         "line": {
          "color": "blue"
         },
         "lon": [
          -86.2141,
          -86.906272
         ],
         "marker": {
          "size": 1
         },
         "mode": "lines",
         "type": "scattermapbox"
        },
        {
         "lat": [
          39.4125,
          38.47777
         ],
         "line": {
          "color": "blue"
         },
         "lon": [
          -80.6352,
          -81.501032
         ],
         "marker": {
          "size": 1
         },
         "mode": "lines",
         "type": "scattermapbox"
        },
        {
         "lat": [
          30.592,
          31.229678999999997
         ],
         "line": {
          "color": "blue"
         },
         "lon": [
          -97.2893,
          -96.539169
         ],
         "marker": {
          "size": 1
         },
         "mode": "lines",
         "type": "scattermapbox"
        },
        {
         "lat": [
          40.7699,
          40.057687
         ],
         "line": {
          "color": "blue"
         },
         "lon": [
          -73.9511,
          -74.634887
         ],
         "marker": {
          "size": 1
         },
         "mode": "lines",
         "type": "scattermapbox"
        },
        {
         "lat": [
          34.9889,
          35.335427
         ],
         "line": {
          "color": "blue"
         },
         "lon": [
          -106.0609,
          -105.69659
         ],
         "marker": {
          "size": 1
         },
         "mode": "lines",
         "type": "scattermapbox"
        },
        {
         "lat": [
          33.7467,
          32.993854
         ],
         "line": {
          "color": "blue"
         },
         "lon": [
          -117.1721,
          -116.473152
         ],
         "marker": {
          "size": 1
         },
         "mode": "lines",
         "type": "scattermapbox"
        },
        {
         "lat": [
          42.9207,
          43.251624
         ],
         "line": {
          "color": "blue"
         },
         "lon": [
          -91.0685,
          -91.171386
         ],
         "marker": {
          "size": 1
         },
         "mode": "lines",
         "type": "scattermapbox"
        },
        {
         "lat": [
          40.7491,
          40.406176
         ],
         "line": {
          "color": "blue"
         },
         "lon": [
          -95.038,
          -95.621683
         ],
         "marker": {
          "size": 1
         },
         "mode": "lines",
         "type": "scattermapbox"
        },
        {
         "lat": [
          33.5623,
          32.668011
         ],
         "line": {
          "color": "blue"
         },
         "lon": [
          -112.0559,
          -112.510264
         ],
         "marker": {
          "size": 1
         },
         "mode": "lines",
         "type": "scattermapbox"
        },
        {
         "lat": [
          35.8184,
          35.60388
         ],
         "line": {
          "color": "blue"
         },
         "lon": [
          -91.3375,
          -92.13808
         ],
         "marker": {
          "size": 1
         },
         "mode": "lines",
         "type": "scattermapbox"
        },
        {
         "lat": [
          27.7898,
          28.038803
         ],
         "line": {
          "color": "blue"
         },
         "lon": [
          -82.7243,
          -82.703191
         ],
         "marker": {
          "size": 1
         },
         "mode": "lines",
         "type": "scattermapbox"
        },
        {
         "lat": [
          43.2326,
          43.200148
         ],
         "line": {
          "color": "blue"
         },
         "lon": [
          -86.2492,
          -85.399008
         ],
         "marker": {
          "size": 1
         },
         "mode": "lines",
         "type": "scattermapbox"
        },
        {
         "lat": [
          30.1886,
          30.366347
         ],
         "line": {
          "color": "blue"
         },
         "lon": [
          -103.2214,
          -103.230114
         ],
         "marker": {
          "size": 1
         },
         "mode": "lines",
         "type": "scattermapbox"
        },
        {
         "lat": [
          38.9462,
          38.249422
         ],
         "line": {
          "color": "blue"
         },
         "lon": [
          -94.9714,
          -94.448037
         ],
         "marker": {
          "size": 1
         },
         "mode": "lines",
         "type": "scattermapbox"
        },
        {
         "lat": [
          46.1664,
          45.979439
         ],
         "line": {
          "color": "blue"
         },
         "lon": [
          -103.7079,
          -104.060861
         ],
         "marker": {
          "size": 1
         },
         "mode": "lines",
         "type": "scattermapbox"
        },
        {
         "lat": [
          39.4055,
          40.094127
         ],
         "line": {
          "color": "blue"
         },
         "lon": [
          -75.3209,
          -76.159458
         ],
         "marker": {
          "size": 1
         },
         "mode": "lines",
         "type": "scattermapbox"
        },
        {
         "lat": [
          46.3535,
          46.868623
         ],
         "line": {
          "color": "blue"
         },
         "lon": [
          -86.6345,
          -86.028243
         ],
         "marker": {
          "size": 1
         },
         "mode": "lines",
         "type": "scattermapbox"
        },
        {
         "lat": [
          48.8328,
          49.529425
         ],
         "line": {
          "color": "blue"
         },
         "lon": [
          -108.3961,
          -108.202478
         ],
         "marker": {
          "size": 1
         },
         "mode": "lines",
         "type": "scattermapbox"
        },
        {
         "lat": [
          38.9583,
          38.70136
         ],
         "line": {
          "color": "blue"
         },
         "lon": [
          -76.2842,
          -76.485253
         ],
         "marker": {
          "size": 1
         },
         "mode": "lines",
         "type": "scattermapbox"
        },
        {
         "lat": [
          34.6689,
          34.439275
         ],
         "line": {
          "color": "blue"
         },
         "lon": [
          -86.2296,
          -85.435452
         ],
         "marker": {
          "size": 1
         },
         "mode": "lines",
         "type": "scattermapbox"
        },
        {
         "lat": [
          36.9688,
          36.935365999999995
         ],
         "line": {
          "color": "blue"
         },
         "lon": [
          -78.5615,
          -79.21304
         ],
         "marker": {
          "size": 1
         },
         "mode": "lines",
         "type": "scattermapbox"
        },
        {
         "lat": [
          43.6498,
          43.389569
         ],
         "line": {
          "color": "blue"
         },
         "lon": [
          -116.4306,
          -116.312683
         ],
         "marker": {
          "size": 1
         },
         "mode": "lines",
         "type": "scattermapbox"
        },
        {
         "lat": [
          36.7154,
          35.827998
         ],
         "line": {
          "color": "blue"
         },
         "lon": [
          -89.6287,
          -89.603123
         ],
         "marker": {
          "size": 1
         },
         "mode": "lines",
         "type": "scattermapbox"
        },
        {
         "lat": [
          33.9778,
          34.900523
         ],
         "line": {
          "color": "blue"
         },
         "lon": [
          -86.5598,
          -87.351407
         ],
         "marker": {
          "size": 1
         },
         "mode": "lines",
         "type": "scattermapbox"
        },
        {
         "lat": [
          43.2064,
          42.656172999999995
         ],
         "line": {
          "color": "blue"
         },
         "lon": [
          -90.9405,
          -90.901103
         ],
         "marker": {
          "size": 1
         },
         "mode": "lines",
         "type": "scattermapbox"
        },
        {
         "lat": [
          40.813,
          41.661665
         ],
         "line": {
          "color": "blue"
         },
         "lon": [
          -83.4196,
          -82.736139
         ],
         "marker": {
          "size": 1
         },
         "mode": "lines",
         "type": "scattermapbox"
        },
        {
         "lat": [
          28.0758,
          28.107644
         ],
         "line": {
          "color": "blue"
         },
         "lon": [
          -81.5929,
          -80.97685
         ],
         "marker": {
          "size": 1
         },
         "mode": "lines",
         "type": "scattermapbox"
        },
        {
         "lat": [
          38.4549,
          38.34421
         ],
         "line": {
          "color": "blue"
         },
         "lon": [
          -122.2564,
          -122.71841299999998
         ],
         "marker": {
          "size": 1
         },
         "mode": "lines",
         "type": "scattermapbox"
        },
        {
         "lat": [
          40.4109,
          41.015547
         ],
         "line": {
          "color": "blue"
         },
         "lon": [
          -74.238,
          -74.466043
         ],
         "marker": {
          "size": 1
         },
         "mode": "lines",
         "type": "scattermapbox"
        },
        {
         "lat": [
          39.9636,
          39.523171999999995
         ],
         "line": {
          "color": "blue"
         },
         "lon": [
          -79.7853,
          -80.210657
         ],
         "marker": {
          "size": 1
         },
         "mode": "lines",
         "type": "scattermapbox"
        },
        {
         "lat": [
          33.5623,
          33.310964
         ],
         "line": {
          "color": "blue"
         },
         "lon": [
          -112.0559,
          -111.361032
         ],
         "marker": {
          "size": 1
         },
         "mode": "lines",
         "type": "scattermapbox"
        },
        {
         "lat": [
          39.3426,
          39.081618
         ],
         "line": {
          "color": "blue"
         },
         "lon": [
          -114.8859,
          -113.905352
         ],
         "marker": {
          "size": 1
         },
         "mode": "lines",
         "type": "scattermapbox"
        },
        {
         "lat": [
          38.9999,
          39.947179
         ],
         "line": {
          "color": "blue"
         },
         "lon": [
          -109.615,
          -110.523148
         ],
         "marker": {
          "size": 1
         },
         "mode": "lines",
         "type": "scattermapbox"
        },
        {
         "lat": [
          33.8419,
          33.41985
         ],
         "line": {
          "color": "blue"
         },
         "lon": [
          -117.6043,
          -117.859029
         ],
         "marker": {
          "size": 1
         },
         "mode": "lines",
         "type": "scattermapbox"
        },
        {
         "lat": [
          37.7418,
          36.942331
         ],
         "line": {
          "color": "blue"
         },
         "lon": [
          -80.4626,
          -81.156665
         ],
         "marker": {
          "size": 1
         },
         "mode": "lines",
         "type": "scattermapbox"
        },
        {
         "lat": [
          44.2529,
          44.451485
         ],
         "line": {
          "color": "blue"
         },
         "lon": [
          -85.01700000000001,
          -85.140786
         ],
         "marker": {
          "size": 1
         },
         "mode": "lines",
         "type": "scattermapbox"
        },
        {
         "lat": [
          37.7878,
          37.303627
         ],
         "line": {
          "color": "blue"
         },
         "lon": [
          -122.1884,
          -121.669397
         ],
         "marker": {
          "size": 1
         },
         "mode": "lines",
         "type": "scattermapbox"
        },
        {
         "lat": [
          44.6723,
          44.945198
         ],
         "line": {
          "color": "blue"
         },
         "lon": [
          -103.8396,
          -103.810488
         ],
         "marker": {
          "size": 1
         },
         "mode": "lines",
         "type": "scattermapbox"
        },
        {
         "lat": [
          28.9814,
          29.880751
         ],
         "line": {
          "color": "blue"
         },
         "lon": [
          -98.0156,
          -97.685821
         ],
         "marker": {
          "size": 1
         },
         "mode": "lines",
         "type": "scattermapbox"
        },
        {
         "lat": [
          27.5517,
          26.961413
         ],
         "line": {
          "color": "blue"
         },
         "lon": [
          -81.8074,
          -81.392138
         ],
         "marker": {
          "size": 1
         },
         "mode": "lines",
         "type": "scattermapbox"
        },
        {
         "lat": [
          37.9073,
          37.112759999999994
         ],
         "line": {
          "color": "blue"
         },
         "lon": [
          -75.5089,
          -76.081616
         ],
         "marker": {
          "size": 1
         },
         "mode": "lines",
         "type": "scattermapbox"
        },
        {
         "lat": [
          42.9385,
          41.964009999999995
         ],
         "line": {
          "color": "blue"
         },
         "lon": [
          -88.395,
          -88.170108
         ],
         "marker": {
          "size": 1
         },
         "mode": "lines",
         "type": "scattermapbox"
        },
        {
         "lat": [
          39.9934,
          40.057453
         ],
         "line": {
          "color": "blue"
         },
         "lon": [
          -81.8024,
          -81.718091
         ],
         "marker": {
          "size": 1
         },
         "mode": "lines",
         "type": "scattermapbox"
        },
        {
         "lat": [
          31.929,
          32.221112
         ],
         "line": {
          "color": "blue"
         },
         "lon": [
          -97.6443,
          -97.836848
         ],
         "marker": {
          "size": 1
         },
         "mode": "lines",
         "type": "scattermapbox"
        },
        {
         "lat": [
          36.115,
          36.397088
         ],
         "line": {
          "color": "blue"
         },
         "lon": [
          -84.0438,
          -84.981863
         ],
         "marker": {
          "size": 1
         },
         "mode": "lines",
         "type": "scattermapbox"
        },
        {
         "lat": [
          38.2427,
          38.082898
         ],
         "line": {
          "color": "blue"
         },
         "lon": [
          -122.9145,
          -122.017066
         ],
         "marker": {
          "size": 1
         },
         "mode": "lines",
         "type": "scattermapbox"
        },
        {
         "lat": [
          30.4983,
          29.988089
         ],
         "line": {
          "color": "blue"
         },
         "lon": [
          -88.3282,
          -87.37587099999999
         ],
         "marker": {
          "size": 1
         },
         "mode": "lines",
         "type": "scattermapbox"
        },
        {
         "lat": [
          34.048,
          34.330442
         ],
         "line": {
          "color": "blue"
         },
         "lon": [
          -85.9246,
          -85.950162
         ],
         "marker": {
          "size": 1
         },
         "mode": "lines",
         "type": "scattermapbox"
        },
        {
         "lat": [
          32.9276,
          32.839399
         ],
         "line": {
          "color": "blue"
         },
         "lon": [
          -97.2489,
          -97.21408
         ],
         "marker": {
          "size": 1
         },
         "mode": "lines",
         "type": "scattermapbox"
        },
        {
         "lat": [
          39.3391,
          40.261061
         ],
         "line": {
          "color": "blue"
         },
         "lon": [
          -95.0999,
          -96.063693
         ],
         "marker": {
          "size": 1
         },
         "mode": "lines",
         "type": "scattermapbox"
        },
        {
         "lat": [
          39.7795,
          39.037681
         ],
         "line": {
          "color": "blue"
         },
         "lon": [
          -93.3014,
          -92.959458
         ],
         "marker": {
          "size": 1
         },
         "mode": "lines",
         "type": "scattermapbox"
        },
        {
         "lat": [
          44.64,
          45.626837
         ],
         "line": {
          "color": "blue"
         },
         "lon": [
          -73.3113,
          -74.28804699999999
         ],
         "marker": {
          "size": 1
         },
         "mode": "lines",
         "type": "scattermapbox"
        },
        {
         "lat": [
          26.1184,
          26.765638
         ],
         "line": {
          "color": "blue"
         },
         "lon": [
          -81.7361,
          -81.47942900000001
         ],
         "marker": {
          "size": 1
         },
         "mode": "lines",
         "type": "scattermapbox"
        },
        {
         "lat": [
          41.5686,
          42.511917
         ],
         "line": {
          "color": "blue"
         },
         "lon": [
          -83.3632,
          -83.372425
         ],
         "marker": {
          "size": 1
         },
         "mode": "lines",
         "type": "scattermapbox"
        },
        {
         "lat": [
          41.4575,
          40.978957
         ],
         "line": {
          "color": "blue"
         },
         "lon": [
          -74.1659,
          -74.87556
         ],
         "marker": {
          "size": 1
         },
         "mode": "lines",
         "type": "scattermapbox"
        },
        {
         "lat": [
          41.3851,
          40.433308
         ],
         "line": {
          "color": "blue"
         },
         "lon": [
          -80.1752,
          -79.83478000000001
         ],
         "marker": {
          "size": 1
         },
         "mode": "lines",
         "type": "scattermapbox"
        },
        {
         "lat": [
          31.3833,
          31.214663
         ],
         "line": {
          "color": "blue"
         },
         "lon": [
          -95.0619,
          -95.272685
         ],
         "marker": {
          "size": 1
         },
         "mode": "lines",
         "type": "scattermapbox"
        },
        {
         "lat": [
          45.6675,
          45.329692
         ],
         "line": {
          "color": "blue"
         },
         "lon": [
          -93.2433,
          -93.409772
         ],
         "marker": {
          "size": 1
         },
         "mode": "lines",
         "type": "scattermapbox"
        },
        {
         "lat": [
          41.2244,
          41.671814000000005
         ],
         "line": {
          "color": "blue"
         },
         "lon": [
          -86.6966,
          -86.67939399999999
         ],
         "marker": {
          "size": 1
         },
         "mode": "lines",
         "type": "scattermapbox"
        },
        {
         "lat": [
          35.0659,
          34.726177
         ],
         "line": {
          "color": "blue"
         },
         "lon": [
          -89.1534,
          -88.20464100000001
         ],
         "marker": {
          "size": 1
         },
         "mode": "lines",
         "type": "scattermapbox"
        },
        {
         "lat": [
          31.4841,
          31.221238
         ],
         "line": {
          "color": "blue"
         },
         "lon": [
          -97.9903,
          -98.508114
         ],
         "marker": {
          "size": 1
         },
         "mode": "lines",
         "type": "scattermapbox"
        },
        {
         "lat": [
          37.6787,
          36.947153
         ],
         "line": {
          "color": "blue"
         },
         "lon": [
          -122.478,
          -122.328403
         ],
         "marker": {
          "size": 1
         },
         "mode": "lines",
         "type": "scattermapbox"
        },
        {
         "lat": [
          34.7789,
          34.621161
         ],
         "line": {
          "color": "blue"
         },
         "lon": [
          -86.5438,
          -85.79190600000001
         ],
         "marker": {
          "size": 1
         },
         "mode": "lines",
         "type": "scattermapbox"
        },
        {
         "lat": [
          37.1935,
          38.038526
         ],
         "line": {
          "color": "blue"
         },
         "lon": [
          -89.0933,
          -88.32751
         ],
         "marker": {
          "size": 1
         },
         "mode": "lines",
         "type": "scattermapbox"
        },
        {
         "lat": [
          37.0581,
          37.665625
         ],
         "line": {
          "color": "blue"
         },
         "lon": [
          -86.1938,
          -85.25050999999999
         ],
         "marker": {
          "size": 1
         },
         "mode": "lines",
         "type": "scattermapbox"
        },
        {
         "lat": [
          39.9636,
          39.67279
         ],
         "line": {
          "color": "blue"
         },
         "lon": [
          -79.7853,
          -79.36575400000001
         ],
         "marker": {
          "size": 1
         },
         "mode": "lines",
         "type": "scattermapbox"
        },
        {
         "lat": [
          37.0581,
          37.431319
         ],
         "line": {
          "color": "blue"
         },
         "lon": [
          -86.1938,
          -86.654712
         ],
         "marker": {
          "size": 1
         },
         "mode": "lines",
         "type": "scattermapbox"
        },
        {
         "lat": [
          34.4793,
          34.253808
         ],
         "line": {
          "color": "blue"
         },
         "lon": [
          -87.4769,
          -87.75809
         ],
         "marker": {
          "size": 1
         },
         "mode": "lines",
         "type": "scattermapbox"
        },
        {
         "lat": [
          32.9413,
          32.990856
         ],
         "line": {
          "color": "blue"
         },
         "lon": [
          -81.1807,
          -80.359309
         ],
         "marker": {
          "size": 1
         },
         "mode": "lines",
         "type": "scattermapbox"
        },
        {
         "lat": [
          41.6423,
          41.093384
         ],
         "line": {
          "color": "blue"
         },
         "lon": [
          -104.1974,
          -104.287034
         ],
         "marker": {
          "size": 1
         },
         "mode": "lines",
         "type": "scattermapbox"
        },
        {
         "lat": [
          33.7467,
          32.834245
         ],
         "line": {
          "color": "blue"
         },
         "lon": [
          -117.1721,
          -117.778002
         ],
         "marker": {
          "size": 1
         },
         "mode": "lines",
         "type": "scattermapbox"
        },
        {
         "lat": [
          36.115,
          36.525110999999995
         ],
         "line": {
          "color": "blue"
         },
         "lon": [
          -84.0438,
          -83.30388
         ],
         "marker": {
          "size": 1
         },
         "mode": "lines",
         "type": "scattermapbox"
        },
        {
         "lat": [
          42.0789,
          42.246739
         ],
         "line": {
          "color": "blue"
         },
         "lon": [
          -92.3763,
          -93.099958
         ],
         "marker": {
          "size": 1
         },
         "mode": "lines",
         "type": "scattermapbox"
        },
        {
         "lat": [
          31.6453,
          31.634794
         ],
         "line": {
          "color": "blue"
         },
         "lon": [
          -90.1801,
          -90.711335
         ],
         "marker": {
          "size": 1
         },
         "mode": "lines",
         "type": "scattermapbox"
        },
        {
         "lat": [
          41.0592,
          40.752107
         ],
         "line": {
          "color": "blue"
         },
         "lon": [
          -73.7395,
          -74.71701999999999
         ],
         "marker": {
          "size": 1
         },
         "mode": "lines",
         "type": "scattermapbox"
        },
        {
         "lat": [
          36.2201,
          36.065321999999995
         ],
         "line": {
          "color": "blue"
         },
         "lon": [
          -91.6421,
          -91.011617
         ],
         "marker": {
          "size": 1
         },
         "mode": "lines",
         "type": "scattermapbox"
        },
        {
         "lat": [
          37.8795,
          37.2001
         ],
         "line": {
          "color": "blue"
         },
         "lon": [
          -82.7251,
          -82.136442
         ],
         "marker": {
          "size": 1
         },
         "mode": "lines",
         "type": "scattermapbox"
        },
        {
         "lat": [
          41.606,
          42.241956
         ],
         "line": {
          "color": "blue"
         },
         "lon": [
          -109.23,
          -108.670111
         ],
         "marker": {
          "size": 1
         },
         "mode": "lines",
         "type": "scattermapbox"
        },
        {
         "lat": [
          39.6171,
          39.430908
         ],
         "line": {
          "color": "blue"
         },
         "lon": [
          -102.4776,
          -101.551965
         ],
         "marker": {
          "size": 1
         },
         "mode": "lines",
         "type": "scattermapbox"
        },
        {
         "lat": [
          38.7897,
          39.123812
         ],
         "line": {
          "color": "blue"
         },
         "lon": [
          -93.8702,
          -94.253096
         ],
         "marker": {
          "size": 1
         },
         "mode": "lines",
         "type": "scattermapbox"
        },
        {
         "lat": [
          33.9056,
          34.421949
         ],
         "line": {
          "color": "blue"
         },
         "lon": [
          -118.0818,
          -119.004697
         ],
         "marker": {
          "size": 1
         },
         "mode": "lines",
         "type": "scattermapbox"
        },
        {
         "lat": [
          42.0716,
          42.945314
         ],
         "line": {
          "color": "blue"
         },
         "lon": [
          -75.0152,
          -74.465976
         ],
         "marker": {
          "size": 1
         },
         "mode": "lines",
         "type": "scattermapbox"
        },
        {
         "lat": [
          29.7736,
          30.554263
         ],
         "line": {
          "color": "blue"
         },
         "lon": [
          -95.4034,
          -96.059629
         ],
         "marker": {
          "size": 1
         },
         "mode": "lines",
         "type": "scattermapbox"
        },
        {
         "lat": [
          40.3359,
          39.995771999999995
         ],
         "line": {
          "color": "blue"
         },
         "lon": [
          -79.6607,
          -79.327928
         ],
         "marker": {
          "size": 1
         },
         "mode": "lines",
         "type": "scattermapbox"
        },
        {
         "lat": [
          34.6902,
          35.130609
         ],
         "line": {
          "color": "blue"
         },
         "lon": [
          -79.1834,
          -78.279629
         ],
         "marker": {
          "size": 1
         },
         "mode": "lines",
         "type": "scattermapbox"
        },
        {
         "lat": [
          43.0397,
          43.29228
         ],
         "line": {
          "color": "blue"
         },
         "lon": [
          -77.6871,
          -78.175727
         ],
         "marker": {
          "size": 1
         },
         "mode": "lines",
         "type": "scattermapbox"
        },
        {
         "lat": [
          39.1505,
          38.740523
         ],
         "line": {
          "color": "blue"
         },
         "lon": [
          -79.503,
          -79.103072
         ],
         "marker": {
          "size": 1
         },
         "mode": "lines",
         "type": "scattermapbox"
        },
        {
         "lat": [
          30.4066,
          30.477493
         ],
         "line": {
          "color": "blue"
         },
         "lon": [
          -91.1468,
          -91.475535
         ],
         "marker": {
          "size": 1
         },
         "mode": "lines",
         "type": "scattermapbox"
        },
        {
         "lat": [
          43.4987,
          43.913373
         ],
         "line": {
          "color": "blue"
         },
         "lon": [
          -90.2796,
          -89.529136
         ],
         "marker": {
          "size": 1
         },
         "mode": "lines",
         "type": "scattermapbox"
        },
        {
         "lat": [
          37.3696,
          37.217844
         ],
         "line": {
          "color": "blue"
         },
         "lon": [
          -80.1284,
          -79.401542
         ],
         "marker": {
          "size": 1
         },
         "mode": "lines",
         "type": "scattermapbox"
        },
        {
         "lat": [
          31.2462,
          31.512791999999997
         ],
         "line": {
          "color": "blue"
         },
         "lon": [
          -83.6549,
          -83.667586
         ],
         "marker": {
          "size": 1
         },
         "mode": "lines",
         "type": "scattermapbox"
        },
        {
         "lat": [
          30.4066,
          31.225446999999996
         ],
         "line": {
          "color": "blue"
         },
         "lon": [
          -91.1468,
          -91.12624
         ],
         "marker": {
          "size": 1
         },
         "mode": "lines",
         "type": "scattermapbox"
        },
        {
         "lat": [
          33.1194,
          33.775084
         ],
         "line": {
          "color": "blue"
         },
         "lon": [
          -83.8235,
          -84.4117
         ],
         "marker": {
          "size": 1
         },
         "mode": "lines",
         "type": "scattermapbox"
        },
        {
         "lat": [
          39.0965,
          39.68502
         ],
         "line": {
          "color": "blue"
         },
         "lon": [
          -84.6431,
          -84.013653
         ],
         "marker": {
          "size": 1
         },
         "mode": "lines",
         "type": "scattermapbox"
        },
        {
         "lat": [
          46.1838,
          47.129339
         ],
         "line": {
          "color": "blue"
         },
         "lon": [
          -101.2589,
          -101.455593
         ],
         "marker": {
          "size": 1
         },
         "mode": "lines",
         "type": "scattermapbox"
        },
        {
         "lat": [
          38.4921,
          37.765096
         ],
         "line": {
          "color": "blue"
         },
         "lon": [
          -85.4524,
          -86.150018
         ],
         "marker": {
          "size": 1
         },
         "mode": "lines",
         "type": "scattermapbox"
        },
        {
         "lat": [
          38.138000000000005,
          38.496187
         ],
         "line": {
          "color": "blue"
         },
         "lon": [
          -89.2231,
          -89.958714
         ],
         "marker": {
          "size": 1
         },
         "mode": "lines",
         "type": "scattermapbox"
        },
        {
         "lat": [
          32.9413,
          32.015997999999996
         ],
         "line": {
          "color": "blue"
         },
         "lon": [
          -81.1807,
          -80.426865
         ],
         "marker": {
          "size": 1
         },
         "mode": "lines",
         "type": "scattermapbox"
        },
        {
         "lat": [
          37.9073,
          38.094465
         ],
         "line": {
          "color": "blue"
         },
         "lon": [
          -75.5089,
          -76.068224
         ],
         "marker": {
          "size": 1
         },
         "mode": "lines",
         "type": "scattermapbox"
        },
        {
         "lat": [
          36.2395,
          35.634315
         ],
         "line": {
          "color": "blue"
         },
         "lon": [
          -95.9596,
          -96.89045
         ],
         "marker": {
          "size": 1
         },
         "mode": "lines",
         "type": "scattermapbox"
        },
        {
         "lat": [
          37.7175,
          37.066937
         ],
         "line": {
          "color": "blue"
         },
         "lon": [
          -112.4777,
          -111.487555
         ],
         "marker": {
          "size": 1
         },
         "mode": "lines",
         "type": "scattermapbox"
        },
        {
         "lat": [
          40.1159,
          39.936972999999995
         ],
         "line": {
          "color": "blue"
         },
         "lon": [
          -74.8536,
          -74.00219
         ],
         "marker": {
          "size": 1
         },
         "mode": "lines",
         "type": "scattermapbox"
        },
        {
         "lat": [
          38.5662,
          38.750686
         ],
         "line": {
          "color": "blue"
         },
         "lon": [
          -121.3286,
          -120.51303
         ],
         "marker": {
          "size": 1
         },
         "mode": "lines",
         "type": "scattermapbox"
        },
        {
         "lat": [
          33.6751,
          33.737181
         ],
         "line": {
          "color": "blue"
         },
         "lon": [
          -98.6576,
          -99.244742
         ],
         "marker": {
          "size": 1
         },
         "mode": "lines",
         "type": "scattermapbox"
        },
        {
         "lat": [
          36.802,
          37.715142
         ],
         "line": {
          "color": "blue"
         },
         "lon": [
          -87.8286,
          -88.34665799999999
         ],
         "marker": {
          "size": 1
         },
         "mode": "lines",
         "type": "scattermapbox"
        },
        {
         "lat": [
          40.8798,
          40.889523
         ],
         "line": {
          "color": "blue"
         },
         "lon": [
          -73.9067,
          -73.776534
         ],
         "marker": {
          "size": 1
         },
         "mode": "lines",
         "type": "scattermapbox"
        },
        {
         "lat": [
          37.3272,
          36.795994
         ],
         "line": {
          "color": "blue"
         },
         "lon": [
          -91.0243,
          -90.611231
         ],
         "marker": {
          "size": 1
         },
         "mode": "lines",
         "type": "scattermapbox"
        },
        {
         "lat": [
          34.2651,
          34.555501
         ],
         "line": {
          "color": "blue"
         },
         "lon": [
          -77.867,
          -78.37763299999999
         ],
         "marker": {
          "size": 1
         },
         "mode": "lines",
         "type": "scattermapbox"
        },
        {
         "lat": [
          38.7897,
          38.667691
         ],
         "line": {
          "color": "blue"
         },
         "lon": [
          -93.8702,
          -94.274694
         ],
         "marker": {
          "size": 1
         },
         "mode": "lines",
         "type": "scattermapbox"
        },
        {
         "lat": [
          39.849,
          39.432891
         ],
         "line": {
          "color": "blue"
         },
         "lon": [
          -86.272,
          -85.913164
         ],
         "marker": {
          "size": 1
         },
         "mode": "lines",
         "type": "scattermapbox"
        },
        {
         "lat": [
          41.0646,
          42.010903000000006
         ],
         "line": {
          "color": "blue"
         },
         "lon": [
          -87.5917,
          -88.197808
         ],
         "marker": {
          "size": 1
         },
         "mode": "lines",
         "type": "scattermapbox"
        },
        {
         "lat": [
          43.2326,
          42.976479
         ],
         "line": {
          "color": "blue"
         },
         "lon": [
          -86.2492,
          -86.907112
         ],
         "marker": {
          "size": 1
         },
         "mode": "lines",
         "type": "scattermapbox"
        },
        {
         "lat": [
          40.5503,
          39.6455
         ],
         "line": {
          "color": "blue"
         },
         "lon": [
          -79.3237,
          -78.625462
         ],
         "marker": {
          "size": 1
         },
         "mode": "lines",
         "type": "scattermapbox"
        },
        {
         "lat": [
          39.5102,
          40.188115
         ],
         "line": {
          "color": "blue"
         },
         "lon": [
          -104.7216,
          -105.530385
         ],
         "marker": {
          "size": 1
         },
         "mode": "lines",
         "type": "scattermapbox"
        },
        {
         "lat": [
          40.4679,
          39.495859
         ],
         "line": {
          "color": "blue"
         },
         "lon": [
          -77.8967,
          -77.165713
         ],
         "marker": {
          "size": 1
         },
         "mode": "lines",
         "type": "scattermapbox"
        },
        {
         "lat": [
          39.5803,
          40.261513
         ],
         "line": {
          "color": "blue"
         },
         "lon": [
          -87.4616,
          -87.74611999999999
         ],
         "marker": {
          "size": 1
         },
         "mode": "lines",
         "type": "scattermapbox"
        },
        {
         "lat": [
          40.8095,
          41.396291999999995
         ],
         "line": {
          "color": "blue"
         },
         "lon": [
          -72.8229,
          -72.649435
         ],
         "marker": {
          "size": 1
         },
         "mode": "lines",
         "type": "scattermapbox"
        },
        {
         "lat": [
          39.6967,
          40.050965999999995
         ],
         "line": {
          "color": "blue"
         },
         "lon": [
          -78.8031,
          -78.500463
         ],
         "marker": {
          "size": 1
         },
         "mode": "lines",
         "type": "scattermapbox"
        },
        {
         "lat": [
          31.9907,
          31.203949
         ],
         "line": {
          "color": "blue"
         },
         "lon": [
          -96.9837,
          -97.111785
         ],
         "marker": {
          "size": 1
         },
         "mode": "lines",
         "type": "scattermapbox"
        },
        {
         "lat": [
          33.4783,
          33.725565
         ],
         "line": {
          "color": "blue"
         },
         "lon": [
          -90.5142,
          -91.510351
         ],
         "marker": {
          "size": 1
         },
         "mode": "lines",
         "type": "scattermapbox"
        },
        {
         "lat": [
          48.8878,
          49.446237
         ],
         "line": {
          "color": "blue"
         },
         "lon": [
          -118.2105,
          -118.25356
         ],
         "marker": {
          "size": 1
         },
         "mode": "lines",
         "type": "scattermapbox"
        },
        {
         "lat": [
          42.6835,
          42.87344
         ],
         "line": {
          "color": "blue"
         },
         "lon": [
          -77.8664,
          -78.646803
         ],
         "marker": {
          "size": 1
         },
         "mode": "lines",
         "type": "scattermapbox"
        },
        {
         "lat": [
          43.2893,
          44.010984
         ],
         "line": {
          "color": "blue"
         },
         "lon": [
          -97.1904,
          -98.079408
         ],
         "marker": {
          "size": 1
         },
         "mode": "lines",
         "type": "scattermapbox"
        },
        {
         "lat": [
          38.4305,
          39.284781
         ],
         "line": {
          "color": "blue"
         },
         "lon": [
          -90.387,
          -89.587524
         ],
         "marker": {
          "size": 1
         },
         "mode": "lines",
         "type": "scattermapbox"
        },
        {
         "lat": [
          41.5744,
          40.638157
         ],
         "line": {
          "color": "blue"
         },
         "lon": [
          -75.5881,
          -76.074464
         ],
         "marker": {
          "size": 1
         },
         "mode": "lines",
         "type": "scattermapbox"
        },
        {
         "lat": [
          33.6372,
          34.339764
         ],
         "line": {
          "color": "blue"
         },
         "lon": [
          -96.6184,
          -96.942772
         ],
         "marker": {
          "size": 1
         },
         "mode": "lines",
         "type": "scattermapbox"
        },
        {
         "lat": [
          39.8936,
          40.354146
         ],
         "line": {
          "color": "blue"
         },
         "lon": [
          -79.7856,
          -79.62445
         ],
         "marker": {
          "size": 1
         },
         "mode": "lines",
         "type": "scattermapbox"
        },
        {
         "lat": [
          38.7897,
          39.115345
         ],
         "line": {
          "color": "blue"
         },
         "lon": [
          -93.8702,
          -93.165538
         ],
         "marker": {
          "size": 1
         },
         "mode": "lines",
         "type": "scattermapbox"
        },
        {
         "lat": [
          38.4121,
          39.24572
         ],
         "line": {
          "color": "blue"
         },
         "lon": [
          -75.2811,
          -74.795338
         ],
         "marker": {
          "size": 1
         },
         "mode": "lines",
         "type": "scattermapbox"
        },
        {
         "lat": [
          28.9814,
          29.176887
         ],
         "line": {
          "color": "blue"
         },
         "lon": [
          -98.0156,
          -97.62049
         ],
         "marker": {
          "size": 1
         },
         "mode": "lines",
         "type": "scattermapbox"
        },
        {
         "lat": [
          31.3826,
          31.033527000000003
         ],
         "line": {
          "color": "blue"
         },
         "lon": [
          -81.4312,
          -80.576437
         ],
         "marker": {
          "size": 1
         },
         "mode": "lines",
         "type": "scattermapbox"
        },
        {
         "lat": [
          46.1838,
          46.316928999999995
         ],
         "line": {
          "color": "blue"
         },
         "lon": [
          -101.2589,
          -101.834768
         ],
         "marker": {
          "size": 1
         },
         "mode": "lines",
         "type": "scattermapbox"
        },
        {
         "lat": [
          34.6902,
          34.349559
         ],
         "line": {
          "color": "blue"
         },
         "lon": [
          -79.1834,
          -78.85875899999999
         ],
         "marker": {
          "size": 1
         },
         "mode": "lines",
         "type": "scattermapbox"
        },
        {
         "lat": [
          33.6372,
          33.640035
         ],
         "line": {
          "color": "blue"
         },
         "lon": [
          -96.6184,
          -95.851975
         ],
         "marker": {
          "size": 1
         },
         "mode": "lines",
         "type": "scattermapbox"
        },
        {
         "lat": [
          39.6251,
          38.643285
         ],
         "line": {
          "color": "blue"
         },
         "lon": [
          -82.7552,
          -83.275003
         ],
         "marker": {
          "size": 1
         },
         "mode": "lines",
         "type": "scattermapbox"
        },
        {
         "lat": [
          40.8314,
          39.979438
         ],
         "line": {
          "color": "blue"
         },
         "lon": [
          -83.9758,
          -83.55980500000001
         ],
         "marker": {
          "size": 1
         },
         "mode": "lines",
         "type": "scattermapbox"
        },
        {
         "lat": [
          46.5901,
          46.390642
         ],
         "line": {
          "color": "blue"
         },
         "lon": [
          -117.1692,
          -117.313317
         ],
         "marker": {
          "size": 1
         },
         "mode": "lines",
         "type": "scattermapbox"
        },
        {
         "lat": [
          39.8788,
          40.788706
         ],
         "line": {
          "color": "blue"
         },
         "lon": [
          -82.18799999999999,
          -81.446634
         ],
         "marker": {
          "size": 1
         },
         "mode": "lines",
         "type": "scattermapbox"
        },
        {
         "lat": [
          44.2529,
          43.831274
         ],
         "line": {
          "color": "blue"
         },
         "lon": [
          -85.01700000000001,
          -84.439468
         ],
         "marker": {
          "size": 1
         },
         "mode": "lines",
         "type": "scattermapbox"
        },
        {
         "lat": [
          40.3207,
          40.243968
         ],
         "line": {
          "color": "blue"
         },
         "lon": [
          -110.436,
          -110.873887
         ],
         "marker": {
          "size": 1
         },
         "mode": "lines",
         "type": "scattermapbox"
        },
        {
         "lat": [
          31.6489,
          32.434019
         ],
         "line": {
          "color": "blue"
         },
         "lon": [
          -82.1982,
          -81.432074
         ],
         "marker": {
          "size": 1
         },
         "mode": "lines",
         "type": "scattermapbox"
        },
        {
         "lat": [
          38.8881,
          39.380179
         ],
         "line": {
          "color": "blue"
         },
         "lon": [
          -104.6556,
          -104.914515
         ],
         "marker": {
          "size": 1
         },
         "mode": "lines",
         "type": "scattermapbox"
        },
        {
         "lat": [
          36.2245,
          35.601743
         ],
         "line": {
          "color": "blue"
         },
         "lon": [
          -79.8901,
          -79.19341700000001
         ],
         "marker": {
          "size": 1
         },
         "mode": "lines",
         "type": "scattermapbox"
        },
        {
         "lat": [
          38.5095,
          38.148798
         ],
         "line": {
          "color": "blue"
         },
         "lon": [
          -78.2638,
          -77.72953100000001
         ],
         "marker": {
          "size": 1
         },
         "mode": "lines",
         "type": "scattermapbox"
        },
        {
         "lat": [
          38.5677,
          39.220044
         ],
         "line": {
          "color": "blue"
         },
         "lon": [
          -109.5271,
          -109.697406
         ],
         "marker": {
          "size": 1
         },
         "mode": "lines",
         "type": "scattermapbox"
        },
        {
         "lat": [
          33.0771,
          32.12599
         ],
         "line": {
          "color": "blue"
         },
         "lon": [
          -99.959,
          -100.669515
         ],
         "marker": {
          "size": 1
         },
         "mode": "lines",
         "type": "scattermapbox"
        },
        {
         "lat": [
          39.5483,
          39.422067
         ],
         "line": {
          "color": "blue"
         },
         "lon": [
          -119.7957,
          -120.047222
         ],
         "marker": {
          "size": 1
         },
         "mode": "lines",
         "type": "scattermapbox"
        },
        {
         "lat": [
          45.0632,
          44.186178000000005
         ],
         "line": {
          "color": "blue"
         },
         "lon": [
          -93.3811,
          -92.708057
         ],
         "marker": {
          "size": 1
         },
         "mode": "lines",
         "type": "scattermapbox"
        },
        {
         "lat": [
          33.413000000000004,
          32.593959999999996
         ],
         "line": {
          "color": "blue"
         },
         "lon": [
          -81.69,
          -81.004378
         ],
         "marker": {
          "size": 1
         },
         "mode": "lines",
         "type": "scattermapbox"
        },
        {
         "lat": [
          40.4308,
          41.106948
         ],
         "line": {
          "color": "blue"
         },
         "lon": [
          -79.9205,
          -79.712285
         ],
         "marker": {
          "size": 1
         },
         "mode": "lines",
         "type": "scattermapbox"
        },
        {
         "lat": [
          40.6761,
          41.008009
         ],
         "line": {
          "color": "blue"
         },
         "lon": [
          -91.0391,
          -90.315323
         ],
         "marker": {
          "size": 1
         },
         "mode": "lines",
         "type": "scattermapbox"
        },
        {
         "lat": [
          39.6991,
          39.499646000000006
         ],
         "line": {
          "color": "blue"
         },
         "lon": [
          -78.1762,
          -78.507379
         ],
         "marker": {
          "size": 1
         },
         "mode": "lines",
         "type": "scattermapbox"
        },
        {
         "lat": [
          30.1886,
          29.930143
         ],
         "line": {
          "color": "blue"
         },
         "lon": [
          -103.2214,
          -103.566798
         ],
         "marker": {
          "size": 1
         },
         "mode": "lines",
         "type": "scattermapbox"
        },
        {
         "lat": [
          35.9866,
          36.015074
         ],
         "line": {
          "color": "blue"
         },
         "lon": [
          -106.0654,
          -105.975977
         ],
         "marker": {
          "size": 1
         },
         "mode": "lines",
         "type": "scattermapbox"
        },
        {
         "lat": [
          36.3924,
          37.061645
         ],
         "line": {
          "color": "blue"
         },
         "lon": [
          -91.9932,
          -92.667956
         ],
         "marker": {
          "size": 1
         },
         "mode": "lines",
         "type": "scattermapbox"
        },
        {
         "lat": [
          31.1569,
          30.445603
         ],
         "line": {
          "color": "blue"
         },
         "lon": [
          -94.3871,
          -94.490627
         ],
         "marker": {
          "size": 1
         },
         "mode": "lines",
         "type": "scattermapbox"
        },
        {
         "lat": [
          41.2153,
          41.691606
         ],
         "line": {
          "color": "blue"
         },
         "lon": [
          -90.9879,
          -90.428642
         ],
         "marker": {
          "size": 1
         },
         "mode": "lines",
         "type": "scattermapbox"
        },
        {
         "lat": [
          38.046,
          38.547112
         ],
         "line": {
          "color": "blue"
         },
         "lon": [
          -122.1866,
          -121.583808
         ],
         "marker": {
          "size": 1
         },
         "mode": "lines",
         "type": "scattermapbox"
        },
        {
         "lat": [
          40.4603,
          40.083999
         ],
         "line": {
          "color": "blue"
         },
         "lon": [
          -79.0097,
          -78.36963
         ],
         "marker": {
          "size": 1
         },
         "mode": "lines",
         "type": "scattermapbox"
        },
        {
         "lat": [
          40.813,
          39.992684999999994
         ],
         "line": {
          "color": "blue"
         },
         "lon": [
          -83.4196,
          -83.053515
         ],
         "marker": {
          "size": 1
         },
         "mode": "lines",
         "type": "scattermapbox"
        },
        {
         "lat": [
          34.9572,
          34.010901000000004
         ],
         "line": {
          "color": "blue"
         },
         "lon": [
          -81.9916,
          -82.306557
         ],
         "marker": {
          "size": 1
         },
         "mode": "lines",
         "type": "scattermapbox"
        },
        {
         "lat": [
          48.2777,
          48.198259
         ],
         "line": {
          "color": "blue"
         },
         "lon": [
          -112.8456,
          -113.239232
         ],
         "marker": {
          "size": 1
         },
         "mode": "lines",
         "type": "scattermapbox"
        },
        {
         "lat": [
          42.6911,
          42.506237
         ],
         "line": {
          "color": "blue"
         },
         "lon": [
          -71.1605,
          -71.021946
         ],
         "marker": {
          "size": 1
         },
         "mode": "lines",
         "type": "scattermapbox"
        },
        {
         "lat": [
          41.606,
          41.962245
         ],
         "line": {
          "color": "blue"
         },
         "lon": [
          -109.23,
          -110.108279
         ],
         "marker": {
          "size": 1
         },
         "mode": "lines",
         "type": "scattermapbox"
        },
        {
         "lat": [
          26.4722,
          27.144768
         ],
         "line": {
          "color": "blue"
         },
         "lon": [
          -81.8122,
          -81.378271
         ],
         "marker": {
          "size": 1
         },
         "mode": "lines",
         "type": "scattermapbox"
        },
        {
         "lat": [
          42.32,
          42.954675
         ],
         "line": {
          "color": "blue"
         },
         "lon": [
          -78.0943,
          -78.647645
         ],
         "marker": {
          "size": 1
         },
         "mode": "lines",
         "type": "scattermapbox"
        },
        {
         "lat": [
          38.4121,
          39.350151
         ],
         "line": {
          "color": "blue"
         },
         "lon": [
          -75.2811,
          -75.97784899999999
         ],
         "marker": {
          "size": 1
         },
         "mode": "lines",
         "type": "scattermapbox"
        },
        {
         "lat": [
          39.8936,
          39.47548
         ],
         "line": {
          "color": "blue"
         },
         "lon": [
          -79.7856,
          -80.605642
         ],
         "marker": {
          "size": 1
         },
         "mode": "lines",
         "type": "scattermapbox"
        },
        {
         "lat": [
          36.7558,
          37.431706
         ],
         "line": {
          "color": "blue"
         },
         "lon": [
          -83.1838,
          -82.515384
         ],
         "marker": {
          "size": 1
         },
         "mode": "lines",
         "type": "scattermapbox"
        },
        {
         "lat": [
          41.5177,
          41.505519
         ],
         "line": {
          "color": "blue"
         },
         "lon": [
          -78.2536,
          -78.478138
         ],
         "marker": {
          "size": 1
         },
         "mode": "lines",
         "type": "scattermapbox"
        },
        {
         "lat": [
          36.2395,
          37.04374
         ],
         "line": {
          "color": "blue"
         },
         "lon": [
          -95.9596,
          -96.372502
         ],
         "marker": {
          "size": 1
         },
         "mode": "lines",
         "type": "scattermapbox"
        },
        {
         "lat": [
          41.4802,
          42.087990999999995
         ],
         "line": {
          "color": "blue"
         },
         "lon": [
          -86.6919,
          -85.824402
         ],
         "marker": {
          "size": 1
         },
         "mode": "lines",
         "type": "scattermapbox"
        },
        {
         "lat": [
          38.832,
          37.916332
         ],
         "line": {
          "color": "blue"
         },
         "lon": [
          -77.12,
          -76.25429799999999
         ],
         "marker": {
          "size": 1
         },
         "mode": "lines",
         "type": "scattermapbox"
        },
        {
         "lat": [
          44.3346,
          43.353702
         ],
         "line": {
          "color": "blue"
         },
         "lon": [
          -73.098,
          -73.982989
         ],
         "marker": {
          "size": 1
         },
         "mode": "lines",
         "type": "scattermapbox"
        },
        {
         "lat": [
          40.7699,
          40.577222
         ],
         "line": {
          "color": "blue"
         },
         "lon": [
          -73.9511,
          -74.563681
         ],
         "marker": {
          "size": 1
         },
         "mode": "lines",
         "type": "scattermapbox"
        },
        {
         "lat": [
          34.9889,
          34.099666
         ],
         "line": {
          "color": "blue"
         },
         "lon": [
          -106.0609,
          -106.995648
         ],
         "marker": {
          "size": 1
         },
         "mode": "lines",
         "type": "scattermapbox"
        },
        {
         "lat": [
          32.9013,
          33.003303
         ],
         "line": {
          "color": "blue"
         },
         "lon": [
          -91.0286,
          -90.753602
         ],
         "marker": {
          "size": 1
         },
         "mode": "lines",
         "type": "scattermapbox"
        },
        {
         "lat": [
          39.1412,
          38.670459
         ],
         "line": {
          "color": "blue"
         },
         "lon": [
          -94.3515,
          -93.59706
         ],
         "marker": {
          "size": 1
         },
         "mode": "lines",
         "type": "scattermapbox"
        },
        {
         "lat": [
          33.6028,
          33.25785
         ],
         "line": {
          "color": "blue"
         },
         "lon": [
          -81.9748,
          -80.98646
         ],
         "marker": {
          "size": 1
         },
         "mode": "lines",
         "type": "scattermapbox"
        },
        {
         "lat": [
          37.7175,
          38.615418
         ],
         "line": {
          "color": "blue"
         },
         "lon": [
          -112.4777,
          -113.30626399999998
         ],
         "marker": {
          "size": 1
         },
         "mode": "lines",
         "type": "scattermapbox"
        },
        {
         "lat": [
          41.55,
          40.985077
         ],
         "line": {
          "color": "blue"
         },
         "lon": [
          -87.4569,
          -86.643839
         ],
         "marker": {
          "size": 1
         },
         "mode": "lines",
         "type": "scattermapbox"
        },
        {
         "lat": [
          34.5444,
          33.560801
         ],
         "line": {
          "color": "blue"
         },
         "lon": [
          -102.1069,
          -101.331311
         ],
         "marker": {
          "size": 1
         },
         "mode": "lines",
         "type": "scattermapbox"
        },
        {
         "lat": [
          34.4596,
          35.164589
         ],
         "line": {
          "color": "blue"
         },
         "lon": [
          -93.6743,
          -92.696811
         ],
         "marker": {
          "size": 1
         },
         "mode": "lines",
         "type": "scattermapbox"
        },
        {
         "lat": [
          38.9763,
          38.244326
         ],
         "line": {
          "color": "blue"
         },
         "lon": [
          -87.3667,
          -86.424737
         ],
         "marker": {
          "size": 1
         },
         "mode": "lines",
         "type": "scattermapbox"
        },
        {
         "lat": [
          42.7012,
          42.222116
         ],
         "line": {
          "color": "blue"
         },
         "lon": [
          -92.0762,
          -91.691112
         ],
         "marker": {
          "size": 1
         },
         "mode": "lines",
         "type": "scattermapbox"
        },
        {
         "lat": [
          39.537,
          38.587753
         ],
         "line": {
          "color": "blue"
         },
         "lon": [
          -83.455,
          -82.577814
         ],
         "marker": {
          "size": 1
         },
         "mode": "lines",
         "type": "scattermapbox"
        },
        {
         "lat": [
          43.033,
          43.032295
         ],
         "line": {
          "color": "blue"
         },
         "lon": [
          -77.1575,
          -76.988699
         ],
         "marker": {
          "size": 1
         },
         "mode": "lines",
         "type": "scattermapbox"
        },
        {
         "lat": [
          42.8511,
          43.193067
         ],
         "line": {
          "color": "blue"
         },
         "lon": [
          -93.62,
          -93.664552
         ],
         "marker": {
          "size": 1
         },
         "mode": "lines",
         "type": "scattermapbox"
        },
        {
         "lat": [
          39.9934,
          40.587074
         ],
         "line": {
          "color": "blue"
         },
         "lon": [
          -81.8024,
          -82.311489
         ],
         "marker": {
          "size": 1
         },
         "mode": "lines",
         "type": "scattermapbox"
        },
        {
         "lat": [
          39.7417,
          39.783303
         ],
         "line": {
          "color": "blue"
         },
         "lon": [
          -93.6289,
          -92.761838
         ],
         "marker": {
          "size": 1
         },
         "mode": "lines",
         "type": "scattermapbox"
        },
        {
         "lat": [
          35.8184,
          36.781019
         ],
         "line": {
          "color": "blue"
         },
         "lon": [
          -91.3375,
          -91.336869
         ],
         "marker": {
          "size": 1
         },
         "mode": "lines",
         "type": "scattermapbox"
        },
        {
         "lat": [
          32.4204,
          31.994458
         ],
         "line": {
          "color": "blue"
         },
         "lon": [
          -85.0796,
          -85.531262
         ],
         "marker": {
          "size": 1
         },
         "mode": "lines",
         "type": "scattermapbox"
        },
        {
         "lat": [
          31.2462,
          31.187040000000003
         ],
         "line": {
          "color": "blue"
         },
         "lon": [
          -83.6549,
          -83.090538
         ],
         "marker": {
          "size": 1
         },
         "mode": "lines",
         "type": "scattermapbox"
        },
        {
         "lat": [
          39.8936,
          39.430271999999995
         ],
         "line": {
          "color": "blue"
         },
         "lon": [
          -79.7856,
          -80.231521
         ],
         "marker": {
          "size": 1
         },
         "mode": "lines",
         "type": "scattermapbox"
        },
        {
         "lat": [
          41.4802,
          42.233355
         ],
         "line": {
          "color": "blue"
         },
         "lon": [
          -86.6919,
          -87.034612
         ],
         "marker": {
          "size": 1
         },
         "mode": "lines",
         "type": "scattermapbox"
        },
        {
         "lat": [
          32.153,
          32.983542
         ],
         "line": {
          "color": "blue"
         },
         "lon": [
          -90.1217,
          -89.7849
         ],
         "marker": {
          "size": 1
         },
         "mode": "lines",
         "type": "scattermapbox"
        },
        {
         "lat": [
          40.7152,
          41.062559
         ],
         "line": {
          "color": "blue"
         },
         "lon": [
          -89.2706,
          -89.83033
         ],
         "marker": {
          "size": 1
         },
         "mode": "lines",
         "type": "scattermapbox"
        },
        {
         "lat": [
          32.6205,
          32.108302
         ],
         "line": {
          "color": "blue"
         },
         "lon": [
          -94.2,
          -93.935065
         ],
         "marker": {
          "size": 1
         },
         "mode": "lines",
         "type": "scattermapbox"
        },
        {
         "lat": [
          34.3795,
          34.818855
         ],
         "line": {
          "color": "blue"
         },
         "lon": [
          -118.523,
          -119.503073
         ],
         "marker": {
          "size": 1
         },
         "mode": "lines",
         "type": "scattermapbox"
        },
        {
         "lat": [
          37.6223,
          38.481048
         ],
         "line": {
          "color": "blue"
         },
         "lon": [
          -97.3136,
          -97.465642
         ],
         "marker": {
          "size": 1
         },
         "mode": "lines",
         "type": "scattermapbox"
        },
        {
         "lat": [
          34.847,
          33.99895
         ],
         "line": {
          "color": "blue"
         },
         "lon": [
          -98.9836,
          -98.170564
         ],
         "marker": {
          "size": 1
         },
         "mode": "lines",
         "type": "scattermapbox"
        },
        {
         "lat": [
          40.1151,
          39.961908
         ],
         "line": {
          "color": "blue"
         },
         "lon": [
          -79.8627,
          -79.692453
         ],
         "marker": {
          "size": 1
         },
         "mode": "lines",
         "type": "scattermapbox"
        },
        {
         "lat": [
          43.6498,
          43.28405
         ],
         "line": {
          "color": "blue"
         },
         "lon": [
          -116.4306,
          -115.541004
         ],
         "marker": {
          "size": 1
         },
         "mode": "lines",
         "type": "scattermapbox"
        },
        {
         "lat": [
          32.8357,
          32.546953
         ],
         "line": {
          "color": "blue"
         },
         "lon": [
          -79.8217,
          -79.969003
         ],
         "marker": {
          "size": 1
         },
         "mode": "lines",
         "type": "scattermapbox"
        },
        {
         "lat": [
          39.7562,
          39.082713
         ],
         "line": {
          "color": "blue"
         },
         "lon": [
          -98.4462,
          -99.367704
         ],
         "marker": {
          "size": 1
         },
         "mode": "lines",
         "type": "scattermapbox"
        },
        {
         "lat": [
          38.5677,
          38.392646
         ],
         "line": {
          "color": "blue"
         },
         "lon": [
          -109.5271,
          -109.686197
         ],
         "marker": {
          "size": 1
         },
         "mode": "lines",
         "type": "scattermapbox"
        },
        {
         "lat": [
          38.5319,
          38.517337
         ],
         "line": {
          "color": "blue"
         },
         "lon": [
          -93.9221,
          -94.289192
         ],
         "marker": {
          "size": 1
         },
         "mode": "lines",
         "type": "scattermapbox"
        },
        {
         "lat": [
          32.6205,
          31.675765999999996
         ],
         "line": {
          "color": "blue"
         },
         "lon": [
          -94.2,
          -93.292057
         ],
         "marker": {
          "size": 1
         },
         "mode": "lines",
         "type": "scattermapbox"
        },
        {
         "lat": [
          40.6072,
          40.450944
         ],
         "line": {
          "color": "blue"
         },
         "lon": [
          -83.9585,
          -84.107986
         ],
         "marker": {
          "size": 1
         },
         "mode": "lines",
         "type": "scattermapbox"
        },
        {
         "lat": [
          40.3087,
          41.041794
         ],
         "line": {
          "color": "blue"
         },
         "lon": [
          -76.2963,
          -76.257797
         ],
         "marker": {
          "size": 1
         },
         "mode": "lines",
         "type": "scattermapbox"
        },
        {
         "lat": [
          33.9056,
          34.763905
         ],
         "line": {
          "color": "blue"
         },
         "lon": [
          -118.0818,
          -118.353535
         ],
         "marker": {
          "size": 1
         },
         "mode": "lines",
         "type": "scattermapbox"
        },
        {
         "lat": [
          38.0261,
          38.003733
         ],
         "line": {
          "color": "blue"
         },
         "lon": [
          -97.6666,
          -97.201058
         ],
         "marker": {
          "size": 1
         },
         "mode": "lines",
         "type": "scattermapbox"
        },
        {
         "lat": [
          39.2136,
          40.127413
         ],
         "line": {
          "color": "blue"
         },
         "lon": [
          -95.4404,
          -96.100814
         ],
         "marker": {
          "size": 1
         },
         "mode": "lines",
         "type": "scattermapbox"
        },
        {
         "lat": [
          29.8826,
          30.053738
         ],
         "line": {
          "color": "blue"
         },
         "lon": [
          -84.5964,
          -83.69818599999999
         ],
         "marker": {
          "size": 1
         },
         "mode": "lines",
         "type": "scattermapbox"
        },
        {
         "lat": [
          36.7651,
          36.066244
         ],
         "line": {
          "color": "blue"
         },
         "lon": [
          -94.0492,
          -93.28361
         ],
         "marker": {
          "size": 1
         },
         "mode": "lines",
         "type": "scattermapbox"
        },
        {
         "lat": [
          34.4959,
          35.278002
         ],
         "line": {
          "color": "blue"
         },
         "lon": [
          -86.259,
          -85.59235799999999
         ],
         "marker": {
          "size": 1
         },
         "mode": "lines",
         "type": "scattermapbox"
        },
        {
         "lat": [
          33.5494,
          33.125759
         ],
         "line": {
          "color": "blue"
         },
         "lon": [
          -111.9565,
          -111.37745
         ],
         "marker": {
          "size": 1
         },
         "mode": "lines",
         "type": "scattermapbox"
        },
        {
         "lat": [
          44.6255,
          43.829699
         ],
         "line": {
          "color": "blue"
         },
         "lon": [
          -116.4493,
          -115.465849
         ],
         "marker": {
          "size": 1
         },
         "mode": "lines",
         "type": "scattermapbox"
        },
        {
         "lat": [
          43.0498,
          42.713553000000005
         ],
         "line": {
          "color": "blue"
         },
         "lon": [
          -78.851,
          -79.02284300000001
         ],
         "marker": {
          "size": 1
         },
         "mode": "lines",
         "type": "scattermapbox"
        },
        {
         "lat": [
          35.2087,
          34.811004
         ],
         "line": {
          "color": "blue"
         },
         "lon": [
          -92.2123,
          -92.305648
         ],
         "marker": {
          "size": 1
         },
         "mode": "lines",
         "type": "scattermapbox"
        },
        {
         "lat": [
          33.9143,
          34.233046
         ],
         "line": {
          "color": "blue"
         },
         "lon": [
          -118.3493,
          -117.615016
         ],
         "marker": {
          "size": 1
         },
         "mode": "lines",
         "type": "scattermapbox"
        },
        {
         "lat": [
          40.0897,
          39.099674
         ],
         "line": {
          "color": "blue"
         },
         "lon": [
          -74.9781,
          -75.83840699999999
         ],
         "marker": {
          "size": 1
         },
         "mode": "lines",
         "type": "scattermapbox"
        },
        {
         "lat": [
          40.8027,
          40.635269
         ],
         "line": {
          "color": "blue"
         },
         "lon": [
          -81.3739,
          -80.961153
         ],
         "marker": {
          "size": 1
         },
         "mode": "lines",
         "type": "scattermapbox"
        },
        {
         "lat": [
          39.9347,
          40.069212
         ],
         "line": {
          "color": "blue"
         },
         "lon": [
          -86.1633,
          -86.20581800000001
         ],
         "marker": {
          "size": 1
         },
         "mode": "lines",
         "type": "scattermapbox"
        },
        {
         "lat": [
          41.6414,
          40.924907
         ],
         "line": {
          "color": "blue"
         },
         "lon": [
          -96.5232,
          -95.705191
         ],
         "marker": {
          "size": 1
         },
         "mode": "lines",
         "type": "scattermapbox"
        },
        {
         "lat": [
          39.7562,
          39.15681
         ],
         "line": {
          "color": "blue"
         },
         "lon": [
          -98.4462,
          -99.240898
         ],
         "marker": {
          "size": 1
         },
         "mode": "lines",
         "type": "scattermapbox"
        },
        {
         "lat": [
          45.8289,
          46.38496
         ],
         "line": {
          "color": "blue"
         },
         "lon": [
          -118.4971,
          -118.980282
         ],
         "marker": {
          "size": 1
         },
         "mode": "lines",
         "type": "scattermapbox"
        },
        {
         "lat": [
          42.6835,
          41.894489
         ],
         "line": {
          "color": "blue"
         },
         "lon": [
          -77.8664,
          -77.110927
         ],
         "marker": {
          "size": 1
         },
         "mode": "lines",
         "type": "scattermapbox"
        },
        {
         "lat": [
          33.9143,
          34.131365
         ],
         "line": {
          "color": "blue"
         },
         "lon": [
          -118.3493,
          -118.1359
         ],
         "marker": {
          "size": 1
         },
         "mode": "lines",
         "type": "scattermapbox"
        },
        {
         "lat": [
          39.7562,
          39.32762
         ],
         "line": {
          "color": "blue"
         },
         "lon": [
          -98.4462,
          -97.489789
         ],
         "marker": {
          "size": 1
         },
         "mode": "lines",
         "type": "scattermapbox"
        },
        {
         "lat": [
          44.5995,
          43.881936
         ],
         "line": {
          "color": "blue"
         },
         "lon": [
          -86.2141,
          -86.94832199999999
         ],
         "marker": {
          "size": 1
         },
         "mode": "lines",
         "type": "scattermapbox"
        },
        {
         "lat": [
          26.4215,
          26.10089
         ],
         "line": {
          "color": "blue"
         },
         "lon": [
          -99.0025,
          -99.485418
         ],
         "marker": {
          "size": 1
         },
         "mode": "lines",
         "type": "scattermapbox"
        },
        {
         "lat": [
          41.3851,
          40.938031
         ],
         "line": {
          "color": "blue"
         },
         "lon": [
          -80.1752,
          -79.222022
         ],
         "marker": {
          "size": 1
         },
         "mode": "lines",
         "type": "scattermapbox"
        },
        {
         "lat": [
          47.5375,
          47.246785
         ],
         "line": {
          "color": "blue"
         },
         "lon": [
          -95.9941,
          -95.97443
         ],
         "marker": {
          "size": 1
         },
         "mode": "lines",
         "type": "scattermapbox"
        },
        {
         "lat": [
          36.7558,
          36.041071
         ],
         "line": {
          "color": "blue"
         },
         "lon": [
          -83.1838,
          -83.110551
         ],
         "marker": {
          "size": 1
         },
         "mode": "lines",
         "type": "scattermapbox"
        },
        {
         "lat": [
          36.4539,
          36.7005
         ],
         "line": {
          "color": "blue"
         },
         "lon": [
          -94.118,
          -94.134744
         ],
         "marker": {
          "size": 1
         },
         "mode": "lines",
         "type": "scattermapbox"
        },
        {
         "lat": [
          43.0048,
          42.595338
         ],
         "line": {
          "color": "blue"
         },
         "lon": [
          -108.8964,
          -109.535617
         ],
         "marker": {
          "size": 1
         },
         "mode": "lines",
         "type": "scattermapbox"
        },
        {
         "lat": [
          41.4622,
          40.940265
         ],
         "line": {
          "color": "blue"
         },
         "lon": [
          -79.1306,
          -79.490764
         ],
         "marker": {
          "size": 1
         },
         "mode": "lines",
         "type": "scattermapbox"
        },
        {
         "lat": [
          31.6489,
          31.048758000000003
         ],
         "line": {
          "color": "blue"
         },
         "lon": [
          -82.1982,
          -81.849439
         ],
         "marker": {
          "size": 1
         },
         "mode": "lines",
         "type": "scattermapbox"
        },
        {
         "lat": [
          48.8328,
          48.680925
         ],
         "line": {
          "color": "blue"
         },
         "lon": [
          -108.3961,
          -109.33852
         ],
         "marker": {
          "size": 1
         },
         "mode": "lines",
         "type": "scattermapbox"
        },
        {
         "lat": [
          34.9889,
          34.287609
         ],
         "line": {
          "color": "blue"
         },
         "lon": [
          -106.0609,
          -105.775456
         ],
         "marker": {
          "size": 1
         },
         "mode": "lines",
         "type": "scattermapbox"
        },
        {
         "lat": [
          43.033,
          43.449432
         ],
         "line": {
          "color": "blue"
         },
         "lon": [
          -77.1575,
          -78.00551800000001
         ],
         "marker": {
          "size": 1
         },
         "mode": "lines",
         "type": "scattermapbox"
        },
        {
         "lat": [
          32.6176,
          32.464831
         ],
         "line": {
          "color": "blue"
         },
         "lon": [
          -86.9475,
          -86.863221
         ],
         "marker": {
          "size": 1
         },
         "mode": "lines",
         "type": "scattermapbox"
        },
        {
         "lat": [
          39.1505,
          38.828447
         ],
         "line": {
          "color": "blue"
         },
         "lon": [
          -79.503,
          -80.15019699999999
         ],
         "marker": {
          "size": 1
         },
         "mode": "lines",
         "type": "scattermapbox"
        },
        {
         "lat": [
          43.1128,
          44.058051
         ],
         "line": {
          "color": "blue"
         },
         "lon": [
          -77.4906,
          -77.708754
         ],
         "marker": {
          "size": 1
         },
         "mode": "lines",
         "type": "scattermapbox"
        },
        {
         "lat": [
          44.9673,
          45.335405
         ],
         "line": {
          "color": "blue"
         },
         "lon": [
          -93.2828,
          -93.284703
         ],
         "marker": {
          "size": 1
         },
         "mode": "lines",
         "type": "scattermapbox"
        },
        {
         "lat": [
          42.9373,
          42.927735
         ],
         "line": {
          "color": "blue"
         },
         "lon": [
          -87.9943,
          -88.864544
         ],
         "marker": {
          "size": 1
         },
         "mode": "lines",
         "type": "scattermapbox"
        },
        {
         "lat": [
          47.4852,
          46.650038
         ],
         "line": {
          "color": "blue"
         },
         "lon": [
          -120.4158,
          -120.642492
         ],
         "marker": {
          "size": 1
         },
         "mode": "lines",
         "type": "scattermapbox"
        },
        {
         "lat": [
          39.1329,
          39.146176
         ],
         "line": {
          "color": "blue"
         },
         "lon": [
          -95.7023,
          -95.037865
         ],
         "marker": {
          "size": 1
         },
         "mode": "lines",
         "type": "scattermapbox"
        },
        {
         "lat": [
          40.5553,
          39.974344
         ],
         "line": {
          "color": "blue"
         },
         "lon": [
          -77.4001,
          -76.889865
         ],
         "marker": {
          "size": 1
         },
         "mode": "lines",
         "type": "scattermapbox"
        },
        {
         "lat": [
          43.92100000000001,
          44.184723
         ],
         "line": {
          "color": "blue"
         },
         "lon": [
          -122.7806,
          -122.661703
         ],
         "marker": {
          "size": 1
         },
         "mode": "lines",
         "type": "scattermapbox"
        },
        {
         "lat": [
          34.7789,
          35.702613
         ],
         "line": {
          "color": "blue"
         },
         "lon": [
          -86.5438,
          -87.276527
         ],
         "marker": {
          "size": 1
         },
         "mode": "lines",
         "type": "scattermapbox"
        },
        {
         "lat": [
          40.0246,
          40.299119
         ],
         "line": {
          "color": "blue"
         },
         "lon": [
          -79.6955,
          -80.581761
         ],
         "marker": {
          "size": 1
         },
         "mode": "lines",
         "type": "scattermapbox"
        },
        {
         "lat": [
          42.4999,
          41.744729
         ],
         "line": {
          "color": "blue"
         },
         "lon": [
          -74.6117,
          -75.141358
         ],
         "marker": {
          "size": 1
         },
         "mode": "lines",
         "type": "scattermapbox"
        },
        {
         "lat": [
          31.8287,
          32.313615999999996
         ],
         "line": {
          "color": "blue"
         },
         "lon": [
          -99.427,
          -98.943077
         ],
         "marker": {
          "size": 1
         },
         "mode": "lines",
         "type": "scattermapbox"
        },
        {
         "lat": [
          40.0369,
          40.188007
         ],
         "line": {
          "color": "blue"
         },
         "lon": [
          -75.0664,
          -74.93276999999999
         ],
         "marker": {
          "size": 1
         },
         "mode": "lines",
         "type": "scattermapbox"
        }
       ],
       "layout": {
        "template": {
         "data": {
          "histogram2dcontour": [
           {
            "type": "histogram2dcontour",
            "colorbar": {
             "outlinewidth": 0,
             "ticks": ""
            },
            "colorscale": [
             [
              0.0,
              "#0d0887"
             ],
             [
              0.1111111111111111,
              "#46039f"
             ],
             [
              0.2222222222222222,
              "#7201a8"
             ],
             [
              0.3333333333333333,
              "#9c179e"
             ],
             [
              0.4444444444444444,
              "#bd3786"
             ],
             [
              0.5555555555555556,
              "#d8576b"
             ],
             [
              0.6666666666666666,
              "#ed7953"
             ],
             [
              0.7777777777777778,
              "#fb9f3a"
             ],
             [
              0.8888888888888888,
              "#fdca26"
             ],
             [
              1.0,
              "#f0f921"
             ]
            ]
           }
          ],
          "choropleth": [
           {
            "type": "choropleth",
            "colorbar": {
             "outlinewidth": 0,
             "ticks": ""
            }
           }
          ],
          "histogram2d": [
           {
            "type": "histogram2d",
            "colorbar": {
             "outlinewidth": 0,
             "ticks": ""
            },
            "colorscale": [
             [
              0.0,
              "#0d0887"
             ],
             [
              0.1111111111111111,
              "#46039f"
             ],
             [
              0.2222222222222222,
              "#7201a8"
             ],
             [
              0.3333333333333333,
              "#9c179e"
             ],
             [
              0.4444444444444444,
              "#bd3786"
             ],
             [
              0.5555555555555556,
              "#d8576b"
             ],
             [
              0.6666666666666666,
              "#ed7953"
             ],
             [
              0.7777777777777778,
              "#fb9f3a"
             ],
             [
              0.8888888888888888,
              "#fdca26"
             ],
             [
              1.0,
              "#f0f921"
             ]
            ]
           }
          ],
          "heatmap": [
           {
            "type": "heatmap",
            "colorbar": {
             "outlinewidth": 0,
             "ticks": ""
            },
            "colorscale": [
             [
              0.0,
              "#0d0887"
             ],
             [
              0.1111111111111111,
              "#46039f"
             ],
             [
              0.2222222222222222,
              "#7201a8"
             ],
             [
              0.3333333333333333,
              "#9c179e"
             ],
             [
              0.4444444444444444,
              "#bd3786"
             ],
             [
              0.5555555555555556,
              "#d8576b"
             ],
             [
              0.6666666666666666,
              "#ed7953"
             ],
             [
              0.7777777777777778,
              "#fb9f3a"
             ],
             [
              0.8888888888888888,
              "#fdca26"
             ],
             [
              1.0,
              "#f0f921"
             ]
            ]
           }
          ],
          "heatmapgl": [
           {
            "type": "heatmapgl",
            "colorbar": {
             "outlinewidth": 0,
             "ticks": ""
            },
            "colorscale": [
             [
              0.0,
              "#0d0887"
             ],
             [
              0.1111111111111111,
              "#46039f"
             ],
             [
              0.2222222222222222,
              "#7201a8"
             ],
             [
              0.3333333333333333,
              "#9c179e"
             ],
             [
              0.4444444444444444,
              "#bd3786"
             ],
             [
              0.5555555555555556,
              "#d8576b"
             ],
             [
              0.6666666666666666,
              "#ed7953"
             ],
             [
              0.7777777777777778,
              "#fb9f3a"
             ],
             [
              0.8888888888888888,
              "#fdca26"
             ],
             [
              1.0,
              "#f0f921"
             ]
            ]
           }
          ],
          "contourcarpet": [
           {
            "type": "contourcarpet",
            "colorbar": {
             "outlinewidth": 0,
             "ticks": ""
            }
           }
          ],
          "contour": [
           {
            "type": "contour",
            "colorbar": {
             "outlinewidth": 0,
             "ticks": ""
            },
            "colorscale": [
             [
              0.0,
              "#0d0887"
             ],
             [
              0.1111111111111111,
              "#46039f"
             ],
             [
              0.2222222222222222,
              "#7201a8"
             ],
             [
              0.3333333333333333,
              "#9c179e"
             ],
             [
              0.4444444444444444,
              "#bd3786"
             ],
             [
              0.5555555555555556,
              "#d8576b"
             ],
             [
              0.6666666666666666,
              "#ed7953"
             ],
             [
              0.7777777777777778,
              "#fb9f3a"
             ],
             [
              0.8888888888888888,
              "#fdca26"
             ],
             [
              1.0,
              "#f0f921"
             ]
            ]
           }
          ],
          "surface": [
           {
            "type": "surface",
            "colorbar": {
             "outlinewidth": 0,
             "ticks": ""
            },
            "colorscale": [
             [
              0.0,
              "#0d0887"
             ],
             [
              0.1111111111111111,
              "#46039f"
             ],
             [
              0.2222222222222222,
              "#7201a8"
             ],
             [
              0.3333333333333333,
              "#9c179e"
             ],
             [
              0.4444444444444444,
              "#bd3786"
             ],
             [
              0.5555555555555556,
              "#d8576b"
             ],
             [
              0.6666666666666666,
              "#ed7953"
             ],
             [
              0.7777777777777778,
              "#fb9f3a"
             ],
             [
              0.8888888888888888,
              "#fdca26"
             ],
             [
              1.0,
              "#f0f921"
             ]
            ]
           }
          ],
          "mesh3d": [
           {
            "type": "mesh3d",
            "colorbar": {
             "outlinewidth": 0,
             "ticks": ""
            }
           }
          ],
          "scatter": [
           {
            "fillpattern": {
             "fillmode": "overlay",
             "size": 10,
             "solidity": 0.2
            },
            "type": "scatter"
           }
          ],
          "parcoords": [
           {
            "type": "parcoords",
            "line": {
             "colorbar": {
              "outlinewidth": 0,
              "ticks": ""
             }
            }
           }
          ],
          "scatterpolargl": [
           {
            "type": "scatterpolargl",
            "marker": {
             "colorbar": {
              "outlinewidth": 0,
              "ticks": ""
             }
            }
           }
          ],
          "bar": [
           {
            "error_x": {
             "color": "#2a3f5f"
            },
            "error_y": {
             "color": "#2a3f5f"
            },
            "marker": {
             "line": {
              "color": "#E5ECF6",
              "width": 0.5
             },
             "pattern": {
              "fillmode": "overlay",
              "size": 10,
              "solidity": 0.2
             }
            },
            "type": "bar"
           }
          ],
          "scattergeo": [
           {
            "type": "scattergeo",
            "marker": {
             "colorbar": {
              "outlinewidth": 0,
              "ticks": ""
             }
            }
           }
          ],
          "scatterpolar": [
           {
            "type": "scatterpolar",
            "marker": {
             "colorbar": {
              "outlinewidth": 0,
              "ticks": ""
             }
            }
           }
          ],
          "histogram": [
           {
            "marker": {
             "pattern": {
              "fillmode": "overlay",
              "size": 10,
              "solidity": 0.2
             }
            },
            "type": "histogram"
           }
          ],
          "scattergl": [
           {
            "type": "scattergl",
            "marker": {
             "colorbar": {
              "outlinewidth": 0,
              "ticks": ""
             }
            }
           }
          ],
          "scatter3d": [
           {
            "type": "scatter3d",
            "line": {
             "colorbar": {
              "outlinewidth": 0,
              "ticks": ""
             }
            },
            "marker": {
             "colorbar": {
              "outlinewidth": 0,
              "ticks": ""
             }
            }
           }
          ],
          "scattermapbox": [
           {
            "type": "scattermapbox",
            "marker": {
             "colorbar": {
              "outlinewidth": 0,
              "ticks": ""
             }
            }
           }
          ],
          "scatterternary": [
           {
            "type": "scatterternary",
            "marker": {
             "colorbar": {
              "outlinewidth": 0,
              "ticks": ""
             }
            }
           }
          ],
          "scattercarpet": [
           {
            "type": "scattercarpet",
            "marker": {
             "colorbar": {
              "outlinewidth": 0,
              "ticks": ""
             }
            }
           }
          ],
          "carpet": [
           {
            "aaxis": {
             "endlinecolor": "#2a3f5f",
             "gridcolor": "white",
             "linecolor": "white",
             "minorgridcolor": "white",
             "startlinecolor": "#2a3f5f"
            },
            "baxis": {
             "endlinecolor": "#2a3f5f",
             "gridcolor": "white",
             "linecolor": "white",
             "minorgridcolor": "white",
             "startlinecolor": "#2a3f5f"
            },
            "type": "carpet"
           }
          ],
          "table": [
           {
            "cells": {
             "fill": {
              "color": "#EBF0F8"
             },
             "line": {
              "color": "white"
             }
            },
            "header": {
             "fill": {
              "color": "#C8D4E3"
             },
             "line": {
              "color": "white"
             }
            },
            "type": "table"
           }
          ],
          "barpolar": [
           {
            "marker": {
             "line": {
              "color": "#E5ECF6",
              "width": 0.5
             },
             "pattern": {
              "fillmode": "overlay",
              "size": 10,
              "solidity": 0.2
             }
            },
            "type": "barpolar"
           }
          ],
          "pie": [
           {
            "automargin": true,
            "type": "pie"
           }
          ]
         },
         "layout": {
          "autotypenumbers": "strict",
          "colorway": [
           "#636efa",
           "#EF553B",
           "#00cc96",
           "#ab63fa",
           "#FFA15A",
           "#19d3f3",
           "#FF6692",
           "#B6E880",
           "#FF97FF",
           "#FECB52"
          ],
          "font": {
           "color": "#2a3f5f"
          },
          "hovermode": "closest",
          "hoverlabel": {
           "align": "left"
          },
          "paper_bgcolor": "white",
          "plot_bgcolor": "#E5ECF6",
          "polar": {
           "bgcolor": "#E5ECF6",
           "angularaxis": {
            "gridcolor": "white",
            "linecolor": "white",
            "ticks": ""
           },
           "radialaxis": {
            "gridcolor": "white",
            "linecolor": "white",
            "ticks": ""
           }
          },
          "ternary": {
           "bgcolor": "#E5ECF6",
           "aaxis": {
            "gridcolor": "white",
            "linecolor": "white",
            "ticks": ""
           },
           "baxis": {
            "gridcolor": "white",
            "linecolor": "white",
            "ticks": ""
           },
           "caxis": {
            "gridcolor": "white",
            "linecolor": "white",
            "ticks": ""
           }
          },
          "coloraxis": {
           "colorbar": {
            "outlinewidth": 0,
            "ticks": ""
           }
          },
          "colorscale": {
           "sequential": [
            [
             0.0,
             "#0d0887"
            ],
            [
             0.1111111111111111,
             "#46039f"
            ],
            [
             0.2222222222222222,
             "#7201a8"
            ],
            [
             0.3333333333333333,
             "#9c179e"
            ],
            [
             0.4444444444444444,
             "#bd3786"
            ],
            [
             0.5555555555555556,
             "#d8576b"
            ],
            [
             0.6666666666666666,
             "#ed7953"
            ],
            [
             0.7777777777777778,
             "#fb9f3a"
            ],
            [
             0.8888888888888888,
             "#fdca26"
            ],
            [
             1.0,
             "#f0f921"
            ]
           ],
           "sequentialminus": [
            [
             0.0,
             "#0d0887"
            ],
            [
             0.1111111111111111,
             "#46039f"
            ],
            [
             0.2222222222222222,
             "#7201a8"
            ],
            [
             0.3333333333333333,
             "#9c179e"
            ],
            [
             0.4444444444444444,
             "#bd3786"
            ],
            [
             0.5555555555555556,
             "#d8576b"
            ],
            [
             0.6666666666666666,
             "#ed7953"
            ],
            [
             0.7777777777777778,
             "#fb9f3a"
            ],
            [
             0.8888888888888888,
             "#fdca26"
            ],
            [
             1.0,
             "#f0f921"
            ]
           ],
           "diverging": [
            [
             0,
             "#8e0152"
            ],
            [
             0.1,
             "#c51b7d"
            ],
            [
             0.2,
             "#de77ae"
            ],
            [
             0.3,
             "#f1b6da"
            ],
            [
             0.4,
             "#fde0ef"
            ],
            [
             0.5,
             "#f7f7f7"
            ],
            [
             0.6,
             "#e6f5d0"
            ],
            [
             0.7,
             "#b8e186"
            ],
            [
             0.8,
             "#7fbc41"
            ],
            [
             0.9,
             "#4d9221"
            ],
            [
             1,
             "#276419"
            ]
           ]
          },
          "xaxis": {
           "gridcolor": "white",
           "linecolor": "white",
           "ticks": "",
           "title": {
            "standoff": 15
           },
           "zerolinecolor": "white",
           "automargin": true,
           "zerolinewidth": 2
          },
          "yaxis": {
           "gridcolor": "white",
           "linecolor": "white",
           "ticks": "",
           "title": {
            "standoff": 15
           },
           "zerolinecolor": "white",
           "automargin": true,
           "zerolinewidth": 2
          },
          "scene": {
           "xaxis": {
            "backgroundcolor": "#E5ECF6",
            "gridcolor": "white",
            "linecolor": "white",
            "showbackground": true,
            "ticks": "",
            "zerolinecolor": "white",
            "gridwidth": 2
           },
           "yaxis": {
            "backgroundcolor": "#E5ECF6",
            "gridcolor": "white",
            "linecolor": "white",
            "showbackground": true,
            "ticks": "",
            "zerolinecolor": "white",
            "gridwidth": 2
           },
           "zaxis": {
            "backgroundcolor": "#E5ECF6",
            "gridcolor": "white",
            "linecolor": "white",
            "showbackground": true,
            "ticks": "",
            "zerolinecolor": "white",
            "gridwidth": 2
           }
          },
          "shapedefaults": {
           "line": {
            "color": "#2a3f5f"
           }
          },
          "annotationdefaults": {
           "arrowcolor": "#2a3f5f",
           "arrowhead": 0,
           "arrowwidth": 1
          },
          "geo": {
           "bgcolor": "white",
           "landcolor": "#E5ECF6",
           "subunitcolor": "white",
           "showland": true,
           "showlakes": true,
           "lakecolor": "white"
          },
          "title": {
           "x": 0.05
          },
          "mapbox": {
           "style": "light"
          }
         }
        },
        "mapbox": {
         "center": {
          "lon": -90.633595,
          "lat": 38.5299403
         },
         "style": "carto-positron",
         "zoom": 4
        },
        "height": 800,
        "showlegend": false
       },
       "config": {
        "plotlyServerURL": "https://plot.ly"
       }
      },
      "text/html": [
       "<div>                            <div id=\"c4bb9f47-a2e2-4f45-a467-bd5e95fa2e40\" class=\"plotly-graph-div\" style=\"height:800px; width:100%;\"></div>            <script type=\"text/javascript\">                require([\"plotly\"], function(Plotly) {                    window.PLOTLYENV=window.PLOTLYENV || {};                                    if (document.getElementById(\"c4bb9f47-a2e2-4f45-a467-bd5e95fa2e40\")) {                    Plotly.newPlot(                        \"c4bb9f47-a2e2-4f45-a467-bd5e95fa2e40\",                        [{\"lat\":[36.4899,37.108707],\"line\":{\"color\":\"red\"},\"lon\":[-79.4736,-78.649413],\"marker\":{\"size\":1},\"mode\":\"lines\",\"type\":\"scattermapbox\"},{\"lat\":[41.0001,41.341283],\"line\":{\"color\":\"red\"},\"lon\":[-78.2357,-78.148225],\"marker\":{\"size\":1},\"mode\":\"lines\",\"type\":\"scattermapbox\"},{\"lat\":[42.9993,42.027111],\"line\":{\"color\":\"red\"},\"lon\":[-88.2196,-88.529956],\"marker\":{\"size\":1},\"mode\":\"lines\",\"type\":\"scattermapbox\"},{\"lat\":[36.1486,36.807533],\"line\":{\"color\":\"red\"},\"lon\":[-105.6648,-106.651408],\"marker\":{\"size\":1},\"mode\":\"lines\",\"type\":\"scattermapbox\"},{\"lat\":[44.9595,44.905424],\"line\":{\"color\":\"red\"},\"lon\":[-93.8482,-92.975724],\"marker\":{\"size\":1},\"mode\":\"lines\",\"type\":\"scattermapbox\"},{\"lat\":[32.3739,31.974365],\"line\":{\"color\":\"red\"},\"lon\":[-90.1293,-89.920354],\"marker\":{\"size\":1},\"mode\":\"lines\",\"type\":\"scattermapbox\"},{\"lat\":[48.8878,49.533242],\"line\":{\"color\":\"red\"},\"lon\":[-118.2105,-117.87987],\"marker\":{\"size\":1},\"mode\":\"lines\",\"type\":\"scattermapbox\"},{\"lat\":[38.097,38.150576],\"line\":{\"color\":\"red\"},\"lon\":[-86.1723,-85.721508],\"marker\":{\"size\":1},\"mode\":\"lines\",\"type\":\"scattermapbox\"},{\"lat\":[31.4285,32.394329],\"line\":{\"color\":\"red\"},\"lon\":[-90.8578,-90.150933],\"marker\":{\"size\":1},\"mode\":\"lines\",\"type\":\"scattermapbox\"},{\"lat\":[42.2619,42.001271],\"line\":{\"color\":\"red\"},\"lon\":[-94.5566,-94.895399],\"marker\":{\"size\":1},\"mode\":\"lines\",\"type\":\"scattermapbox\"},{\"lat\":[39.39,39.512316],\"line\":{\"color\":\"red\"},\"lon\":[-88.9597,-87.990811],\"marker\":{\"size\":1},\"mode\":\"lines\",\"type\":\"scattermapbox\"},{\"lat\":[39.6991,39.618476],\"line\":{\"color\":\"red\"},\"lon\":[-78.1762,-77.753339],\"marker\":{\"size\":1},\"mode\":\"lines\",\"type\":\"scattermapbox\"},{\"lat\":[34.1248,33.845292],\"line\":{\"color\":\"red\"},\"lon\":[-117.9031,-118.698142],\"marker\":{\"size\":1},\"mode\":\"lines\",\"type\":\"scattermapbox\"},{\"lat\":[41.8467,41.086853999999995],\"line\":{\"color\":\"red\"},\"lon\":[-74.1038,-73.44138199999999],\"marker\":{\"size\":1},\"mode\":\"lines\",\"type\":\"scattermapbox\"},{\"lat\":[44.8605,45.052403000000005],\"line\":{\"color\":\"red\"},\"lon\":[-85.8138,-84.841629],\"marker\":{\"size\":1},\"mode\":\"lines\",\"type\":\"scattermapbox\"},{\"lat\":[47.9657,47.538401],\"line\":{\"color\":\"red\"},\"lon\":[-116.868,-116.523594],\"marker\":{\"size\":1},\"mode\":\"lines\",\"type\":\"scattermapbox\"},{\"lat\":[30.8836,31.612332],\"line\":{\"color\":\"red\"},\"lon\":[-84.3246,-84.89478299999999],\"marker\":{\"size\":1},\"mode\":\"lines\",\"type\":\"scattermapbox\"},{\"lat\":[30.4983,30.755653],\"line\":{\"color\":\"red\"},\"lon\":[-88.3282,-88.809163],\"marker\":{\"size\":1},\"mode\":\"lines\",\"type\":\"scattermapbox\"},{\"lat\":[41.0592,40.124429],\"line\":{\"color\":\"red\"},\"lon\":[-73.7395,-73.783699],\"marker\":{\"size\":1},\"mode\":\"lines\",\"type\":\"scattermapbox\"},{\"lat\":[42.1001,41.645053999999995],\"line\":{\"color\":\"red\"},\"lon\":[-73.3611,-73.430254],\"marker\":{\"size\":1},\"mode\":\"lines\",\"type\":\"scattermapbox\"},{\"lat\":[34.0326,35.01748],\"line\":{\"color\":\"red\"},\"lon\":[-82.2027,-82.354831],\"marker\":{\"size\":1},\"mode\":\"lines\",\"type\":\"scattermapbox\"},{\"lat\":[41.229,41.093506],\"line\":{\"color\":\"red\"},\"lon\":[-85.3244,-84.84890899999999],\"marker\":{\"size\":1},\"mode\":\"lines\",\"type\":\"scattermapbox\"},{\"lat\":[41.55,41.870903000000006],\"line\":{\"color\":\"red\"},\"lon\":[-87.4569,-87.172741],\"marker\":{\"size\":1},\"mode\":\"lines\",\"type\":\"scattermapbox\"},{\"lat\":[44.4477,45.105033],\"line\":{\"color\":\"red\"},\"lon\":[-93.4252,-94.215523],\"marker\":{\"size\":1},\"mode\":\"lines\",\"type\":\"scattermapbox\"},{\"lat\":[48.8328,48.125345],\"line\":{\"color\":\"red\"},\"lon\":[-108.3961,-108.009667],\"marker\":{\"size\":1},\"mode\":\"lines\",\"type\":\"scattermapbox\"},{\"lat\":[42.4969,41.804918],\"line\":{\"color\":\"red\"},\"lon\":[-83.2911,-82.308767],\"marker\":{\"size\":1},\"mode\":\"lines\",\"type\":\"scattermapbox\"},{\"lat\":[42.4969,42.762068],\"line\":{\"color\":\"red\"},\"lon\":[-83.2911,-82.64480400000001],\"marker\":{\"size\":1},\"mode\":\"lines\",\"type\":\"scattermapbox\"},{\"lat\":[42.52,42.012741],\"line\":{\"color\":\"red\"},\"lon\":[-78.6847,-79.204228],\"marker\":{\"size\":1},\"mode\":\"lines\",\"type\":\"scattermapbox\"},{\"lat\":[38.5095,39.068494],\"line\":{\"color\":\"red\"},\"lon\":[-78.2638,-79.249052],\"marker\":{\"size\":1},\"mode\":\"lines\",\"type\":\"scattermapbox\"},{\"lat\":[40.6761,39.748842],\"line\":{\"color\":\"red\"},\"lon\":[-91.0391,-91.392595],\"marker\":{\"size\":1},\"mode\":\"lines\",\"type\":\"scattermapbox\"},{\"lat\":[43.0261,43.198536],\"line\":{\"color\":\"red\"},\"lon\":[-94.4064,-93.5925],\"marker\":{\"size\":1},\"mode\":\"lines\",\"type\":\"scattermapbox\"},{\"lat\":[33.3224,33.806127000000004],\"line\":{\"color\":\"red\"},\"lon\":[-86.9657,-87.564435],\"marker\":{\"size\":1},\"mode\":\"lines\",\"type\":\"scattermapbox\"},{\"lat\":[40.507,39.9323],\"line\":{\"color\":\"red\"},\"lon\":[-123.9743,-124.521184],\"marker\":{\"size\":1},\"mode\":\"lines\",\"type\":\"scattermapbox\"},{\"lat\":[38.2674,38.355806],\"line\":{\"color\":\"red\"},\"lon\":[-76.4954,-75.585197],\"marker\":{\"size\":1},\"mode\":\"lines\",\"type\":\"scattermapbox\"},{\"lat\":[38.4207,37.588409000000006],\"line\":{\"color\":\"red\"},\"lon\":[-79.4629,-78.581611],\"marker\":{\"size\":1},\"mode\":\"lines\",\"type\":\"scattermapbox\"},{\"lat\":[27.633000000000003,27.278059999999996],\"line\":{\"color\":\"red\"},\"lon\":[-80.4031,-79.59461800000001],\"marker\":{\"size\":1},\"mode\":\"lines\",\"type\":\"scattermapbox\"},{\"lat\":[32.2819,31.319715],\"line\":{\"color\":\"red\"},\"lon\":[-98.5673,-98.454167],\"marker\":{\"size\":1},\"mode\":\"lines\",\"type\":\"scattermapbox\"},{\"lat\":[38.859,39.567029],\"line\":{\"color\":\"red\"},\"lon\":[-77.0997,-77.383981],\"marker\":{\"size\":1},\"mode\":\"lines\",\"type\":\"scattermapbox\"},{\"lat\":[40.9051,41.346861],\"line\":{\"color\":\"red\"},\"lon\":[-73.3309,-73.811637],\"marker\":{\"size\":1},\"mode\":\"lines\",\"type\":\"scattermapbox\"},{\"lat\":[42.1808,42.065971000000005],\"line\":{\"color\":\"red\"},\"lon\":[-112.262,-113.202298],\"marker\":{\"size\":1},\"mode\":\"lines\",\"type\":\"scattermapbox\"},{\"lat\":[45.5303,45.053653999999995],\"line\":{\"color\":\"red\"},\"lon\":[-122.7033,-121.732743],\"marker\":{\"size\":1},\"mode\":\"lines\",\"type\":\"scattermapbox\"},{\"lat\":[43.4512,43.25638],\"line\":{\"color\":\"red\"},\"lon\":[-71.48899999999999,-71.81695500000001],\"marker\":{\"size\":1},\"mode\":\"lines\",\"type\":\"scattermapbox\"},{\"lat\":[41.5224,42.454688],\"line\":{\"color\":\"red\"},\"lon\":[-71.9934,-72.521372],\"marker\":{\"size\":1},\"mode\":\"lines\",\"type\":\"scattermapbox\"},{\"lat\":[41.55,41.505282],\"line\":{\"color\":\"red\"},\"lon\":[-87.4569,-86.715398],\"marker\":{\"size\":1},\"mode\":\"lines\",\"type\":\"scattermapbox\"},{\"lat\":[42.73,41.913325],\"line\":{\"color\":\"red\"},\"lon\":[-104.7024,-105.137269],\"marker\":{\"size\":1},\"mode\":\"lines\",\"type\":\"scattermapbox\"},{\"lat\":[31.6489,32.496493],\"line\":{\"color\":\"red\"},\"lon\":[-82.1982,-81.924762],\"marker\":{\"size\":1},\"mode\":\"lines\",\"type\":\"scattermapbox\"},{\"lat\":[41.6611,42.040289],\"line\":{\"color\":\"red\"},\"lon\":[-73.0449,-72.75357],\"marker\":{\"size\":1},\"mode\":\"lines\",\"type\":\"scattermapbox\"},{\"lat\":[40.9051,40.832568],\"line\":{\"color\":\"red\"},\"lon\":[-73.3309,-72.635088],\"marker\":{\"size\":1},\"mode\":\"lines\",\"type\":\"scattermapbox\"},{\"lat\":[39.2048,40.08806],\"line\":{\"color\":\"red\"},\"lon\":[-94.0259,-93.079391],\"marker\":{\"size\":1},\"mode\":\"lines\",\"type\":\"scattermapbox\"},{\"lat\":[27.5517,26.693036],\"line\":{\"color\":\"red\"},\"lon\":[-81.8074,-82.674109],\"marker\":{\"size\":1},\"mode\":\"lines\",\"type\":\"scattermapbox\"},{\"lat\":[33.4816,33.399006],\"line\":{\"color\":\"red\"},\"lon\":[-86.859,-86.657747],\"marker\":{\"size\":1},\"mode\":\"lines\",\"type\":\"scattermapbox\"},{\"lat\":[32.274,31.97213],\"line\":{\"color\":\"red\"},\"lon\":[-104.0914,-104.542286],\"marker\":{\"size\":1},\"mode\":\"lines\",\"type\":\"scattermapbox\"},{\"lat\":[41.3851,40.991696000000005],\"line\":{\"color\":\"red\"},\"lon\":[-80.1752,-80.492104],\"marker\":{\"size\":1},\"mode\":\"lines\",\"type\":\"scattermapbox\"},{\"lat\":[40.6774,40.352201],\"line\":{\"color\":\"red\"},\"lon\":[-74.4968,-75.487264],\"marker\":{\"size\":1},\"mode\":\"lines\",\"type\":\"scattermapbox\"},{\"lat\":[41.3851,41.409237],\"line\":{\"color\":\"red\"},\"lon\":[-80.1752,-81.072455],\"marker\":{\"size\":1},\"mode\":\"lines\",\"type\":\"scattermapbox\"},{\"lat\":[34.0326,33.375886],\"line\":{\"color\":\"red\"},\"lon\":[-82.2027,-82.772423],\"marker\":{\"size\":1},\"mode\":\"lines\",\"type\":\"scattermapbox\"},{\"lat\":[44.8955,45.274574],\"line\":{\"color\":\"red\"},\"lon\":[-85.4082,-84.74460400000001],\"marker\":{\"size\":1},\"mode\":\"lines\",\"type\":\"scattermapbox\"},{\"lat\":[42.1239,41.699276],\"line\":{\"color\":\"red\"},\"lon\":[-79.1895,-79.121394],\"marker\":{\"size\":1},\"mode\":\"lines\",\"type\":\"scattermapbox\"},{\"lat\":[55.4732,54.539825],\"line\":{\"color\":\"red\"},\"lon\":[-133.1171,-132.377864],\"marker\":{\"size\":1},\"mode\":\"lines\",\"type\":\"scattermapbox\"},{\"lat\":[33.3305,32.607518],\"line\":{\"color\":\"red\"},\"lon\":[-105.6933,-105.74693700000002],\"marker\":{\"size\":1},\"mode\":\"lines\",\"type\":\"scattermapbox\"},{\"lat\":[34.1832,33.464183],\"line\":{\"color\":\"red\"},\"lon\":[-81.5324,-81.317635],\"marker\":{\"size\":1},\"mode\":\"lines\",\"type\":\"scattermapbox\"},{\"lat\":[37.8795,38.740308],\"line\":{\"color\":\"red\"},\"lon\":[-82.7251,-81.752299],\"marker\":{\"size\":1},\"mode\":\"lines\",\"type\":\"scattermapbox\"},{\"lat\":[33.6666,33.894833],\"line\":{\"color\":\"red\"},\"lon\":[-101.5277,-101.576969],\"marker\":{\"size\":1},\"mode\":\"lines\",\"type\":\"scattermapbox\"},{\"lat\":[30.592,30.936853999999997],\"line\":{\"color\":\"red\"},\"lon\":[-97.2893,-96.940349],\"marker\":{\"size\":1},\"mode\":\"lines\",\"type\":\"scattermapbox\"},{\"lat\":[36.5276,36.73723],\"line\":{\"color\":\"red\"},\"lon\":[-93.9359,-93.960864],\"marker\":{\"size\":1},\"mode\":\"lines\",\"type\":\"scattermapbox\"},{\"lat\":[35.833,36.330949],\"line\":{\"color\":\"red\"},\"lon\":[-97.436,-97.892333],\"marker\":{\"size\":1},\"mode\":\"lines\",\"type\":\"scattermapbox\"},{\"lat\":[39.9934,40.949867],\"line\":{\"color\":\"red\"},\"lon\":[-81.8024,-80.938135],\"marker\":{\"size\":1},\"mode\":\"lines\",\"type\":\"scattermapbox\"},{\"lat\":[34.9572,35.935144],\"line\":{\"color\":\"red\"},\"lon\":[-81.9916,-82.927175],\"marker\":{\"size\":1},\"mode\":\"lines\",\"type\":\"scattermapbox\"},{\"lat\":[47.4974,46.570814],\"line\":{\"color\":\"red\"},\"lon\":[-122.0107,-121.952525],\"marker\":{\"size\":1},\"mode\":\"lines\",\"type\":\"scattermapbox\"},{\"lat\":[47.3551,47.952192],\"line\":{\"color\":\"red\"},\"lon\":[-96.798,-97.171577],\"marker\":{\"size\":1},\"mode\":\"lines\",\"type\":\"scattermapbox\"},{\"lat\":[40.3673,40.16684],\"line\":{\"color\":\"red\"},\"lon\":[-79.1605,-78.553622],\"marker\":{\"size\":1},\"mode\":\"lines\",\"type\":\"scattermapbox\"},{\"lat\":[38.3511,37.436188],\"line\":{\"color\":\"red\"},\"lon\":[-91.4867,-91.8161],\"marker\":{\"size\":1},\"mode\":\"lines\",\"type\":\"scattermapbox\"},{\"lat\":[38.8938,39.609781],\"line\":{\"color\":\"red\"},\"lon\":[-86.5246,-87.062331],\"marker\":{\"size\":1},\"mode\":\"lines\",\"type\":\"scattermapbox\"},{\"lat\":[43.4512,42.596517],\"line\":{\"color\":\"red\"},\"lon\":[-71.48899999999999,-72.334389],\"marker\":{\"size\":1},\"mode\":\"lines\",\"type\":\"scattermapbox\"},{\"lat\":[35.8985,35.306471],\"line\":{\"color\":\"red\"},\"lon\":[-97.2607,-97.40572],\"marker\":{\"size\":1},\"mode\":\"lines\",\"type\":\"scattermapbox\"},{\"lat\":[38.3511,38.696249],\"line\":{\"color\":\"red\"},\"lon\":[-91.4867,-91.30544],\"marker\":{\"size\":1},\"mode\":\"lines\",\"type\":\"scattermapbox\"},{\"lat\":[47.5412,46.679249],\"line\":{\"color\":\"red\"},\"lon\":[-122.275,-123.271805],\"marker\":{\"size\":1},\"mode\":\"lines\",\"type\":\"scattermapbox\"},{\"lat\":[40.6267,40.96852],\"line\":{\"color\":\"red\"},\"lon\":[-96.7456,-97.184621],\"marker\":{\"size\":1},\"mode\":\"lines\",\"type\":\"scattermapbox\"},{\"lat\":[43.4987,43.774875],\"line\":{\"color\":\"red\"},\"lon\":[-90.2796,-90.727092],\"marker\":{\"size\":1},\"mode\":\"lines\",\"type\":\"scattermapbox\"},{\"lat\":[41.0935,41.276546],\"line\":{\"color\":\"red\"},\"lon\":[-81.0425,-80.265867],\"marker\":{\"size\":1},\"mode\":\"lines\",\"type\":\"scattermapbox\"},{\"lat\":[39.2092,38.650523],\"line\":{\"color\":\"red\"},\"lon\":[-76.6681,-77.665075],\"marker\":{\"size\":1},\"mode\":\"lines\",\"type\":\"scattermapbox\"},{\"lat\":[45.67100000000001,44.840338],\"line\":{\"color\":\"red\"},\"lon\":[-121.8686,-121.99807],\"marker\":{\"size\":1},\"mode\":\"lines\",\"type\":\"scattermapbox\"},{\"lat\":[30.592,30.038315],\"line\":{\"color\":\"red\"},\"lon\":[-97.2893,-96.858207],\"marker\":{\"size\":1},\"mode\":\"lines\",\"type\":\"scattermapbox\"},{\"lat\":[38.6207,38.061033],\"line\":{\"color\":\"red\"},\"lon\":[-83.8067,-83.31994300000001],\"marker\":{\"size\":1},\"mode\":\"lines\",\"type\":\"scattermapbox\"},{\"lat\":[41.0001,40.692369],\"line\":{\"color\":\"red\"},\"lon\":[-78.2357,-78.214276],\"marker\":{\"size\":1},\"mode\":\"lines\",\"type\":\"scattermapbox\"},{\"lat\":[45.4093,45.410675],\"line\":{\"color\":\"red\"},\"lon\":[-122.6847,-123.397432],\"marker\":{\"size\":1},\"mode\":\"lines\",\"type\":\"scattermapbox\"},{\"lat\":[44.9437,44.456675],\"line\":{\"color\":\"red\"},\"lon\":[-91.0294,-90.767457],\"marker\":{\"size\":1},\"mode\":\"lines\",\"type\":\"scattermapbox\"},{\"lat\":[37.7681,38.213846999999994],\"line\":{\"color\":\"red\"},\"lon\":[-75.6664,-76.416574],\"marker\":{\"size\":1},\"mode\":\"lines\",\"type\":\"scattermapbox\"},{\"lat\":[41.6611,41.374934],\"line\":{\"color\":\"red\"},\"lon\":[-73.0449,-72.514395],\"marker\":{\"size\":1},\"mode\":\"lines\",\"type\":\"scattermapbox\"},{\"lat\":[34.048,34.483166],\"line\":{\"color\":\"red\"},\"lon\":[-85.9246,-86.33510799999999],\"marker\":{\"size\":1},\"mode\":\"lines\",\"type\":\"scattermapbox\"},{\"lat\":[37.0581,37.356155],\"line\":{\"color\":\"red\"},\"lon\":[-86.1938,-85.517653],\"marker\":{\"size\":1},\"mode\":\"lines\",\"type\":\"scattermapbox\"},{\"lat\":[41.0695,40.763354],\"line\":{\"color\":\"red\"},\"lon\":[-81.5488,-81.317657],\"marker\":{\"size\":1},\"mode\":\"lines\",\"type\":\"scattermapbox\"},{\"lat\":[41.8948,42.208725],\"line\":{\"color\":\"red\"},\"lon\":[-73.9767,-74.049635],\"marker\":{\"size\":1},\"mode\":\"lines\",\"type\":\"scattermapbox\"},{\"lat\":[45.7364,44.823867],\"line\":{\"color\":\"red\"},\"lon\":[-94.1658,-94.689224],\"marker\":{\"size\":1},\"mode\":\"lines\",\"type\":\"scattermapbox\"},{\"lat\":[40.7699,40.59868],\"line\":{\"color\":\"red\"},\"lon\":[-73.9511,-73.301794],\"marker\":{\"size\":1},\"mode\":\"lines\",\"type\":\"scattermapbox\"},{\"lat\":[33.5494,34.141904],\"line\":{\"color\":\"red\"},\"lon\":[-111.9565,-112.540038],\"marker\":{\"size\":1},\"mode\":\"lines\",\"type\":\"scattermapbox\"},{\"lat\":[36.741,35.81365],\"line\":{\"color\":\"red\"},\"lon\":[-108.351,-107.587304],\"marker\":{\"size\":1},\"mode\":\"lines\",\"type\":\"scattermapbox\"},{\"lat\":[40.7152,40.600096],\"line\":{\"color\":\"red\"},\"lon\":[-89.2706,-89.576626],\"marker\":{\"size\":1},\"mode\":\"lines\",\"type\":\"scattermapbox\"},{\"lat\":[37.575,38.170213],\"line\":{\"color\":\"red\"},\"lon\":[-88.9655,-89.91609100000001],\"marker\":{\"size\":1},\"mode\":\"lines\",\"type\":\"scattermapbox\"},{\"lat\":[36.1124,35.944982],\"line\":{\"color\":\"red\"},\"lon\":[-78.6476,-78.79561600000001],\"marker\":{\"size\":1},\"mode\":\"lines\",\"type\":\"scattermapbox\"},{\"lat\":[45.2857,44.726715000000006],\"line\":{\"color\":\"blue\"},\"lon\":[-108.9082,-108.818269],\"marker\":{\"size\":1},\"mode\":\"lines\",\"type\":\"scattermapbox\"},{\"lat\":[40.333,40.09734],\"line\":{\"color\":\"blue\"},\"lon\":[-73.9809,-73.648198],\"marker\":{\"size\":1},\"mode\":\"lines\",\"type\":\"scattermapbox\"},{\"lat\":[33.9349,33.041835999999996],\"line\":{\"color\":\"blue\"},\"lon\":[-80.8449,-81.806584],\"marker\":{\"size\":1},\"mode\":\"lines\",\"type\":\"scattermapbox\"},{\"lat\":[32.7004,31.793352],\"line\":{\"color\":\"blue\"},\"lon\":[-97.6039,-97.383381],\"marker\":{\"size\":1},\"mode\":\"lines\",\"type\":\"scattermapbox\"},{\"lat\":[32.1482,32.586801],\"line\":{\"color\":\"blue\"},\"lon\":[-99.1872,-99.548983],\"marker\":{\"size\":1},\"mode\":\"lines\",\"type\":\"scattermapbox\"},{\"lat\":[42.3669,42.006339],\"line\":{\"color\":\"blue\"},\"lon\":[-82.9938,-83.985439],\"marker\":{\"size\":1},\"mode\":\"lines\",\"type\":\"scattermapbox\"},{\"lat\":[38.2427,37.747492],\"line\":{\"color\":\"blue\"},\"lon\":[-122.9145,-122.317681],\"marker\":{\"size\":1},\"mode\":\"lines\",\"type\":\"scattermapbox\"},{\"lat\":[34.847,35.524233],\"line\":{\"color\":\"blue\"},\"lon\":[-98.9836,-98.284063],\"marker\":{\"size\":1},\"mode\":\"lines\",\"type\":\"scattermapbox\"},{\"lat\":[40.6761,39.874949],\"line\":{\"color\":\"blue\"},\"lon\":[-91.0391,-90.855803],\"marker\":{\"size\":1},\"mode\":\"lines\",\"type\":\"scattermapbox\"},{\"lat\":[38.4549,38.216165999999994],\"line\":{\"color\":\"blue\"},\"lon\":[-122.2564,-121.284006],\"marker\":{\"size\":1},\"mode\":\"lines\",\"type\":\"scattermapbox\"},{\"lat\":[42.9993,43.69602],\"line\":{\"color\":\"blue\"},\"lon\":[-88.2196,-88.361492],\"marker\":{\"size\":1},\"mode\":\"lines\",\"type\":\"scattermapbox\"},{\"lat\":[41.4798,41.752522],\"line\":{\"color\":\"blue\"},\"lon\":[-79.9403,-79.574387],\"marker\":{\"size\":1},\"mode\":\"lines\",\"type\":\"scattermapbox\"},{\"lat\":[32.2768,33.036637],\"line\":{\"color\":\"blue\"},\"lon\":[-95.3031,-95.625792],\"marker\":{\"size\":1},\"mode\":\"lines\",\"type\":\"scattermapbox\"},{\"lat\":[41.4193,40.710587],\"line\":{\"color\":\"blue\"},\"lon\":[-99.3844,-99.324373],\"marker\":{\"size\":1},\"mode\":\"lines\",\"type\":\"scattermapbox\"},{\"lat\":[40.9051,40.94153],\"line\":{\"color\":\"blue\"},\"lon\":[-73.3309,-74.23893299999999],\"marker\":{\"size\":1},\"mode\":\"lines\",\"type\":\"scattermapbox\"},{\"lat\":[27.9865,28.414447999999997],\"line\":{\"color\":\"blue\"},\"lon\":[-82.0139,-81.88571],\"marker\":{\"size\":1},\"mode\":\"lines\",\"type\":\"scattermapbox\"},{\"lat\":[40.3928,40.795471],\"line\":{\"color\":\"blue\"},\"lon\":[-111.7941,-110.962005],\"marker\":{\"size\":1},\"mode\":\"lines\",\"type\":\"scattermapbox\"},{\"lat\":[26.4215,26.03393],\"line\":{\"color\":\"blue\"},\"lon\":[-99.0025,-98.074765],\"marker\":{\"size\":1},\"mode\":\"lines\",\"type\":\"scattermapbox\"},{\"lat\":[41.55,41.877409],\"line\":{\"color\":\"blue\"},\"lon\":[-87.4569,-87.180701],\"marker\":{\"size\":1},\"mode\":\"lines\",\"type\":\"scattermapbox\"},{\"lat\":[40.813,40.5331],\"line\":{\"color\":\"blue\"},\"lon\":[-83.4196,-83.81148],\"marker\":{\"size\":1},\"mode\":\"lines\",\"type\":\"scattermapbox\"},{\"lat\":[41.6414,42.287323],\"line\":{\"color\":\"blue\"},\"lon\":[-96.5232,-96.287472],\"marker\":{\"size\":1},\"mode\":\"lines\",\"type\":\"scattermapbox\"},{\"lat\":[30.2385,31.169389],\"line\":{\"color\":\"blue\"},\"lon\":[-90.8435,-90.727313],\"marker\":{\"size\":1},\"mode\":\"lines\",\"type\":\"scattermapbox\"},{\"lat\":[33.9845,34.129419],\"line\":{\"color\":\"blue\"},\"lon\":[-85.9077,-86.674554],\"marker\":{\"size\":1},\"mode\":\"lines\",\"type\":\"scattermapbox\"},{\"lat\":[41.7918,42.425889],\"line\":{\"color\":\"blue\"},\"lon\":[-72.7188,-72.71538699999999],\"marker\":{\"size\":1},\"mode\":\"lines\",\"type\":\"scattermapbox\"},{\"lat\":[40.2878,39.900556],\"line\":{\"color\":\"blue\"},\"lon\":[-74.0162,-74.803283],\"marker\":{\"size\":1},\"mode\":\"lines\",\"type\":\"scattermapbox\"},{\"lat\":[41.1573,40.670969],\"line\":{\"color\":\"blue\"},\"lon\":[-88.0619,-88.628352],\"marker\":{\"size\":1},\"mode\":\"lines\",\"type\":\"scattermapbox\"},{\"lat\":[46.3535,46.250071000000005],\"line\":{\"color\":\"blue\"},\"lon\":[-86.6345,-87.264588],\"marker\":{\"size\":1},\"mode\":\"lines\",\"type\":\"scattermapbox\"},{\"lat\":[36.7558,35.987154],\"line\":{\"color\":\"blue\"},\"lon\":[-83.1838,-83.66581],\"marker\":{\"size\":1},\"mode\":\"lines\",\"type\":\"scattermapbox\"},{\"lat\":[40.6025,41.246318],\"line\":{\"color\":\"blue\"},\"lon\":[-80.3863,-81.207424],\"marker\":{\"size\":1},\"mode\":\"lines\",\"type\":\"scattermapbox\"},{\"lat\":[44.0575,44.202845],\"line\":{\"color\":\"blue\"},\"lon\":[-69.9656,-70.944575],\"marker\":{\"size\":1},\"mode\":\"lines\",\"type\":\"scattermapbox\"},{\"lat\":[36.7779,36.294438],\"line\":{\"color\":\"blue\"},\"lon\":[-81.7676,-82.196275],\"marker\":{\"size\":1},\"mode\":\"lines\",\"type\":\"scattermapbox\"},{\"lat\":[37.7878,37.809703000000006],\"line\":{\"color\":\"blue\"},\"lon\":[-122.1884,-121.364051],\"marker\":{\"size\":1},\"mode\":\"lines\",\"type\":\"scattermapbox\"},{\"lat\":[36.1183,35.777458],\"line\":{\"color\":\"blue\"},\"lon\":[-79.5685,-79.276967],\"marker\":{\"size\":1},\"mode\":\"lines\",\"type\":\"scattermapbox\"},{\"lat\":[48.6669,47.702444],\"line\":{\"color\":\"blue\"},\"lon\":[-96.5969,-97.552188],\"marker\":{\"size\":1},\"mode\":\"lines\",\"type\":\"scattermapbox\"},{\"lat\":[37.9943,38.360501],\"line\":{\"color\":\"blue\"},\"lon\":[-88.9417,-88.184335],\"marker\":{\"size\":1},\"mode\":\"lines\",\"type\":\"scattermapbox\"},{\"lat\":[43.5335,43.48273],\"line\":{\"color\":\"blue\"},\"lon\":[-96.3645,-96.770587],\"marker\":{\"size\":1},\"mode\":\"lines\",\"type\":\"scattermapbox\"},{\"lat\":[34.6205,34.553754],\"line\":{\"color\":\"blue\"},\"lon\":[-86.551,-86.44086899999999],\"marker\":{\"size\":1},\"mode\":\"lines\",\"type\":\"scattermapbox\"},{\"lat\":[43.0397,43.48781],\"line\":{\"color\":\"blue\"},\"lon\":[-77.6871,-78.581696],\"marker\":{\"size\":1},\"mode\":\"lines\",\"type\":\"scattermapbox\"},{\"lat\":[48.6669,47.766159],\"line\":{\"color\":\"blue\"},\"lon\":[-96.5969,-95.975082],\"marker\":{\"size\":1},\"mode\":\"lines\",\"type\":\"scattermapbox\"},{\"lat\":[43.4269,43.73881],\"line\":{\"color\":\"blue\"},\"lon\":[-85.2924,-84.942758],\"marker\":{\"size\":1},\"mode\":\"lines\",\"type\":\"scattermapbox\"},{\"lat\":[39.6967,38.79382],\"line\":{\"color\":\"blue\"},\"lon\":[-78.8031,-78.194106],\"marker\":{\"size\":1},\"mode\":\"lines\",\"type\":\"scattermapbox\"},{\"lat\":[44.6255,43.838728],\"line\":{\"color\":\"blue\"},\"lon\":[-116.4493,-117.220641],\"marker\":{\"size\":1},\"mode\":\"lines\",\"type\":\"scattermapbox\"},{\"lat\":[29.5894,29.639084000000004],\"line\":{\"color\":\"blue\"},\"lon\":[-98.5201,-98.092819],\"marker\":{\"size\":1},\"mode\":\"lines\",\"type\":\"scattermapbox\"},{\"lat\":[46.0062,46.702162],\"line\":{\"color\":\"blue\"},\"lon\":[-86.2555,-85.79632099999999],\"marker\":{\"size\":1},\"mode\":\"lines\",\"type\":\"scattermapbox\"},{\"lat\":[44.9913,45.437521999999994],\"line\":{\"color\":\"blue\"},\"lon\":[-92.9487,-93.827976],\"marker\":{\"size\":1},\"mode\":\"lines\",\"type\":\"scattermapbox\"},{\"lat\":[20.0827,20.498634],\"line\":{\"color\":\"blue\"},\"lon\":[-155.488,-155.617555],\"marker\":{\"size\":1},\"mode\":\"lines\",\"type\":\"scattermapbox\"},{\"lat\":[35.2229,36.098955],\"line\":{\"color\":\"blue\"},\"lon\":[-89.5518,-89.11089100000001],\"marker\":{\"size\":1},\"mode\":\"lines\",\"type\":\"scattermapbox\"},{\"lat\":[38.8881,38.702321999999995],\"line\":{\"color\":\"blue\"},\"lon\":[-104.6556,-104.447251],\"marker\":{\"size\":1},\"mode\":\"lines\",\"type\":\"scattermapbox\"},{\"lat\":[42.9385,42.437336],\"line\":{\"color\":\"blue\"},\"lon\":[-88.395,-87.988671],\"marker\":{\"size\":1},\"mode\":\"lines\",\"type\":\"scattermapbox\"},{\"lat\":[44.0577,44.586428999999995],\"line\":{\"color\":\"blue\"},\"lon\":[-76.0196,-75.96725699999999],\"marker\":{\"size\":1},\"mode\":\"lines\",\"type\":\"scattermapbox\"},{\"lat\":[40.6025,41.197584],\"line\":{\"color\":\"blue\"},\"lon\":[-80.3863,-80.647735],\"marker\":{\"size\":1},\"mode\":\"lines\",\"type\":\"scattermapbox\"},{\"lat\":[43.7588,44.485983],\"line\":{\"color\":\"blue\"},\"lon\":[-97.8712,-97.490513],\"marker\":{\"size\":1},\"mode\":\"lines\",\"type\":\"scattermapbox\"},{\"lat\":[40.1334,40.523551],\"line\":{\"color\":\"blue\"},\"lon\":[-75.4536,-75.640946],\"marker\":{\"size\":1},\"mode\":\"lines\",\"type\":\"scattermapbox\"},{\"lat\":[48.1439,48.516493],\"line\":{\"color\":\"blue\"},\"lon\":[-92.8561,-92.430947],\"marker\":{\"size\":1},\"mode\":\"lines\",\"type\":\"scattermapbox\"},{\"lat\":[30.9,30.139190999999997],\"line\":{\"color\":\"blue\"},\"lon\":[-94.7547,-94.830365],\"marker\":{\"size\":1},\"mode\":\"lines\",\"type\":\"scattermapbox\"},{\"lat\":[41.4622,41.364121],\"line\":{\"color\":\"blue\"},\"lon\":[-79.1306,-78.902574],\"marker\":{\"size\":1},\"mode\":\"lines\",\"type\":\"scattermapbox\"},{\"lat\":[38.0828,38.464929999999995],\"line\":{\"color\":\"blue\"},\"lon\":[-76.3477,-75.848778],\"marker\":{\"size\":1},\"mode\":\"lines\",\"type\":\"scattermapbox\"},{\"lat\":[32.3836,31.456711],\"line\":{\"color\":\"blue\"},\"lon\":[-94.8653,-95.411379],\"marker\":{\"size\":1},\"mode\":\"lines\",\"type\":\"scattermapbox\"},{\"lat\":[32.1482,31.890482],\"line\":{\"color\":\"blue\"},\"lon\":[-99.1872,-99.651517],\"marker\":{\"size\":1},\"mode\":\"lines\",\"type\":\"scattermapbox\"},{\"lat\":[38.9999,39.517845],\"line\":{\"color\":\"blue\"},\"lon\":[-109.615,-109.95571499999998],\"marker\":{\"size\":1},\"mode\":\"lines\",\"type\":\"scattermapbox\"},{\"lat\":[37.6223,37.708498],\"line\":{\"color\":\"blue\"},\"lon\":[-97.3136,-97.005572],\"marker\":{\"size\":1},\"mode\":\"lines\",\"type\":\"scattermapbox\"},{\"lat\":[47.0874,47.92815],\"line\":{\"color\":\"blue\"},\"lon\":[-93.9196,-94.561645],\"marker\":{\"size\":1},\"mode\":\"lines\",\"type\":\"scattermapbox\"},{\"lat\":[41.1826,40.313673],\"line\":{\"color\":\"blue\"},\"lon\":[-92.3097,-91.325674],\"marker\":{\"size\":1},\"mode\":\"lines\",\"type\":\"scattermapbox\"},{\"lat\":[38.1981,37.807359000000005],\"line\":{\"color\":\"blue\"},\"lon\":[-86.6821,-87.130082],\"marker\":{\"size\":1},\"mode\":\"lines\",\"type\":\"scattermapbox\"},{\"lat\":[38.0649,37.352593],\"line\":{\"color\":\"blue\"},\"lon\":[-99.2374,-98.751579],\"marker\":{\"size\":1},\"mode\":\"lines\",\"type\":\"scattermapbox\"},{\"lat\":[38.1372,37.267941],\"line\":{\"color\":\"blue\"},\"lon\":[-81.5962,-80.674185],\"marker\":{\"size\":1},\"mode\":\"lines\",\"type\":\"scattermapbox\"},{\"lat\":[27.4703,27.511351],\"line\":{\"color\":\"blue\"},\"lon\":[-81.4872,-81.96113299999999],\"marker\":{\"size\":1},\"mode\":\"lines\",\"type\":\"scattermapbox\"},{\"lat\":[36.9688,37.321078],\"line\":{\"color\":\"blue\"},\"lon\":[-78.5615,-79.513788],\"marker\":{\"size\":1},\"mode\":\"lines\",\"type\":\"scattermapbox\"},{\"lat\":[42.3327,42.771265],\"line\":{\"color\":\"blue\"},\"lon\":[-95.6045,-96.046336],\"marker\":{\"size\":1},\"mode\":\"lines\",\"type\":\"scattermapbox\"},{\"lat\":[41.0767,41.617567],\"line\":{\"color\":\"blue\"},\"lon\":[-74.5982,-74.672599],\"marker\":{\"size\":1},\"mode\":\"lines\",\"type\":\"scattermapbox\"},{\"lat\":[39.4336,38.843619],\"line\":{\"color\":\"blue\"},\"lon\":[-87.4101,-87.891137],\"marker\":{\"size\":1},\"mode\":\"lines\",\"type\":\"scattermapbox\"},{\"lat\":[40.201,39.652959],\"line\":{\"color\":\"blue\"},\"lon\":[-98.0684,-98.741892],\"marker\":{\"size\":1},\"mode\":\"lines\",\"type\":\"scattermapbox\"},{\"lat\":[44.6087,45.393985],\"line\":{\"color\":\"blue\"},\"lon\":[-74.9732,-74.443866],\"marker\":{\"size\":1},\"mode\":\"lines\",\"type\":\"scattermapbox\"},{\"lat\":[37.3272,36.967482],\"line\":{\"color\":\"blue\"},\"lon\":[-91.0243,-90.898655],\"marker\":{\"size\":1},\"mode\":\"lines\",\"type\":\"scattermapbox\"},{\"lat\":[41.0646,40.889255],\"line\":{\"color\":\"blue\"},\"lon\":[-87.5917,-87.95994499999999],\"marker\":{\"size\":1},\"mode\":\"lines\",\"type\":\"scattermapbox\"},{\"lat\":[36.1486,35.319503999999995],\"line\":{\"color\":\"blue\"},\"lon\":[-105.6648,-105.161148],\"marker\":{\"size\":1},\"mode\":\"lines\",\"type\":\"scattermapbox\"},{\"lat\":[33.4629,32.503698],\"line\":{\"color\":\"blue\"},\"lon\":[-86.7904,-87.15445600000001],\"marker\":{\"size\":1},\"mode\":\"lines\",\"type\":\"scattermapbox\"},{\"lat\":[44.0575,44.494208],\"line\":{\"color\":\"blue\"},\"lon\":[-69.9656,-69.126076],\"marker\":{\"size\":1},\"mode\":\"lines\",\"type\":\"scattermapbox\"},{\"lat\":[37.6848,37.612157],\"line\":{\"color\":\"blue\"},\"lon\":[-85.8784,-86.262232],\"marker\":{\"size\":1},\"mode\":\"lines\",\"type\":\"scattermapbox\"},{\"lat\":[36.8809,37.106337],\"line\":{\"color\":\"blue\"},\"lon\":[-82.0956,-82.643512],\"marker\":{\"size\":1},\"mode\":\"lines\",\"type\":\"scattermapbox\"},{\"lat\":[41.4575,41.177975],\"line\":{\"color\":\"blue\"},\"lon\":[-74.1659,-75.056528],\"marker\":{\"size\":1},\"mode\":\"lines\",\"type\":\"scattermapbox\"},{\"lat\":[40.4931,39.556172],\"line\":{\"color\":\"blue\"},\"lon\":[-91.8912,-91.385403],\"marker\":{\"size\":1},\"mode\":\"lines\",\"type\":\"scattermapbox\"},{\"lat\":[27.4703,27.079627],\"line\":{\"color\":\"blue\"},\"lon\":[-81.4872,-81.260472],\"marker\":{\"size\":1},\"mode\":\"lines\",\"type\":\"scattermapbox\"},{\"lat\":[37.9931,37.845112],\"line\":{\"color\":\"blue\"},\"lon\":[-100.9893,-100.129233],\"marker\":{\"size\":1},\"mode\":\"lines\",\"type\":\"scattermapbox\"},{\"lat\":[42.074,42.017082],\"line\":{\"color\":\"blue\"},\"lon\":[-74.453,-73.510038],\"marker\":{\"size\":1},\"mode\":\"lines\",\"type\":\"scattermapbox\"},{\"lat\":[43.0048,43.347528],\"line\":{\"color\":\"blue\"},\"lon\":[-108.8964,-108.952998],\"marker\":{\"size\":1},\"mode\":\"lines\",\"type\":\"scattermapbox\"},{\"lat\":[45.7801,45.115739000000005],\"line\":{\"color\":\"blue\"},\"lon\":[-111.1439,-111.1776],\"marker\":{\"size\":1},\"mode\":\"lines\",\"type\":\"scattermapbox\"},{\"lat\":[38.0828,37.682821999999994],\"line\":{\"color\":\"blue\"},\"lon\":[-76.3477,-76.892286],\"marker\":{\"size\":1},\"mode\":\"lines\",\"type\":\"scattermapbox\"},{\"lat\":[36.1124,36.287062],\"line\":{\"color\":\"blue\"},\"lon\":[-78.6476,-78.436401],\"marker\":{\"size\":1},\"mode\":\"lines\",\"type\":\"scattermapbox\"},{\"lat\":[38.5072,38.362891999999995],\"line\":{\"color\":\"blue\"},\"lon\":[-81.89,-81.472061],\"marker\":{\"size\":1},\"mode\":\"lines\",\"type\":\"scattermapbox\"},{\"lat\":[37.1641,37.796478],\"line\":{\"color\":\"blue\"},\"lon\":[-96.6917,-97.464559],\"marker\":{\"size\":1},\"mode\":\"lines\",\"type\":\"scattermapbox\"},{\"lat\":[38.9621,39.508157],\"line\":{\"color\":\"blue\"},\"lon\":[-94.5959,-94.688206],\"marker\":{\"size\":1},\"mode\":\"lines\",\"type\":\"scattermapbox\"},{\"lat\":[39.6662,38.981986],\"line\":{\"color\":\"blue\"},\"lon\":[-104.835,-104.645251],\"marker\":{\"size\":1},\"mode\":\"lines\",\"type\":\"scattermapbox\"},{\"lat\":[34.5091,33.925605],\"line\":{\"color\":\"blue\"},\"lon\":[-92.4828,-92.44467],\"marker\":{\"size\":1},\"mode\":\"lines\",\"type\":\"scattermapbox\"},{\"lat\":[37.7878,38.398990999999995],\"line\":{\"color\":\"blue\"},\"lon\":[-122.1884,-121.838096],\"marker\":{\"size\":1},\"mode\":\"lines\",\"type\":\"scattermapbox\"},{\"lat\":[37.7827,37.868287],\"line\":{\"color\":\"blue\"},\"lon\":[-80.3129,-80.54518399999999],\"marker\":{\"size\":1},\"mode\":\"lines\",\"type\":\"scattermapbox\"},{\"lat\":[43.7575,43.365559999999995],\"line\":{\"color\":\"blue\"},\"lon\":[-122.481,-123.316953],\"marker\":{\"size\":1},\"mode\":\"lines\",\"type\":\"scattermapbox\"},{\"lat\":[32.2768,32.870215],\"line\":{\"color\":\"blue\"},\"lon\":[-95.3031,-94.327401],\"marker\":{\"size\":1},\"mode\":\"lines\",\"type\":\"scattermapbox\"},{\"lat\":[42.32,42.245889],\"line\":{\"color\":\"blue\"},\"lon\":[-78.0943,-78.25850600000001],\"marker\":{\"size\":1},\"mode\":\"lines\",\"type\":\"scattermapbox\"},{\"lat\":[26.529,25.723042],\"line\":{\"color\":\"blue\"},\"lon\":[-82.0916,-81.238396],\"marker\":{\"size\":1},\"mode\":\"lines\",\"type\":\"scattermapbox\"},{\"lat\":[39.537,39.566973],\"line\":{\"color\":\"blue\"},\"lon\":[-83.455,-83.21073100000001],\"marker\":{\"size\":1},\"mode\":\"lines\",\"type\":\"scattermapbox\"},{\"lat\":[41.6611,41.70263],\"line\":{\"color\":\"blue\"},\"lon\":[-73.0449,-73.324047],\"marker\":{\"size\":1},\"mode\":\"lines\",\"type\":\"scattermapbox\"},{\"lat\":[40.8555,40.175527],\"line\":{\"color\":\"blue\"},\"lon\":[-79.7372,-80.072032],\"marker\":{\"size\":1},\"mode\":\"lines\",\"type\":\"scattermapbox\"},{\"lat\":[43.6498,43.176226],\"line\":{\"color\":\"blue\"},\"lon\":[-116.4306,-115.987241],\"marker\":{\"size\":1},\"mode\":\"lines\",\"type\":\"scattermapbox\"},{\"lat\":[43.5089,43.693416],\"line\":{\"color\":\"blue\"},\"lon\":[-93.4824,-93.831952],\"marker\":{\"size\":1},\"mode\":\"lines\",\"type\":\"scattermapbox\"},{\"lat\":[45.6675,45.366007],\"line\":{\"color\":\"blue\"},\"lon\":[-93.2433,-92.396703],\"marker\":{\"size\":1},\"mode\":\"lines\",\"type\":\"scattermapbox\"},{\"lat\":[40.6284,40.814015999999995],\"line\":{\"color\":\"blue\"},\"lon\":[-76.195,-76.91883100000001],\"marker\":{\"size\":1},\"mode\":\"lines\",\"type\":\"scattermapbox\"},{\"lat\":[28.1762,27.740651],\"line\":{\"color\":\"blue\"},\"lon\":[-81.9591,-82.38125600000001],\"marker\":{\"size\":1},\"mode\":\"lines\",\"type\":\"scattermapbox\"},{\"lat\":[34.9298,34.291146999999995],\"line\":{\"color\":\"blue\"},\"lon\":[-84.9885,-84.618381],\"marker\":{\"size\":1},\"mode\":\"lines\",\"type\":\"scattermapbox\"},{\"lat\":[32.9413,33.660789],\"line\":{\"color\":\"blue\"},\"lon\":[-81.1807,-80.23514],\"marker\":{\"size\":1},\"mode\":\"lines\",\"type\":\"scattermapbox\"},{\"lat\":[38.388000000000005,37.470278],\"line\":{\"color\":\"blue\"},\"lon\":[-79.9906,-79.569903],\"marker\":{\"size\":1},\"mode\":\"lines\",\"type\":\"scattermapbox\"},{\"lat\":[42.0158,41.310156],\"line\":{\"color\":\"blue\"},\"lon\":[-73.2913,-72.62046099999999],\"marker\":{\"size\":1},\"mode\":\"lines\",\"type\":\"scattermapbox\"},{\"lat\":[36.7558,37.364789],\"line\":{\"color\":\"blue\"},\"lon\":[-83.1838,-82.516356],\"marker\":{\"size\":1},\"mode\":\"lines\",\"type\":\"scattermapbox\"},{\"lat\":[39.047,39.044981],\"line\":{\"color\":\"blue\"},\"lon\":[-122.9328,-122.355921],\"marker\":{\"size\":1},\"mode\":\"lines\",\"type\":\"scattermapbox\"},{\"lat\":[44.0943,43.172325],\"line\":{\"color\":\"blue\"},\"lon\":[-69.4828,-70.356031],\"marker\":{\"size\":1},\"mode\":\"lines\",\"type\":\"scattermapbox\"},{\"lat\":[42.5232,43.003573],\"line\":{\"color\":\"blue\"},\"lon\":[-72.811,-72.950852],\"marker\":{\"size\":1},\"mode\":\"lines\",\"type\":\"scattermapbox\"},{\"lat\":[33.141,32.170394],\"line\":{\"color\":\"blue\"},\"lon\":[-84.1759,-83.54868499999999],\"marker\":{\"size\":1},\"mode\":\"lines\",\"type\":\"scattermapbox\"},{\"lat\":[34.6205,33.864711],\"line\":{\"color\":\"blue\"},\"lon\":[-86.551,-86.48919000000001],\"marker\":{\"size\":1},\"mode\":\"lines\",\"type\":\"scattermapbox\"},{\"lat\":[39.9914,40.515882],\"line\":{\"color\":\"blue\"},\"lon\":[-80.4408,-79.833844],\"marker\":{\"size\":1},\"mode\":\"lines\",\"type\":\"scattermapbox\"},{\"lat\":[38.1372,38.039831],\"line\":{\"color\":\"blue\"},\"lon\":[-81.5962,-82.511076],\"marker\":{\"size\":1},\"mode\":\"lines\",\"type\":\"scattermapbox\"},{\"lat\":[34.347,34.785513],\"line\":{\"color\":\"blue\"},\"lon\":[-87.7154,-87.10206],\"marker\":{\"size\":1},\"mode\":\"lines\",\"type\":\"scattermapbox\"},{\"lat\":[41.1573,41.071167],\"line\":{\"color\":\"blue\"},\"lon\":[-88.0619,-88.940731],\"marker\":{\"size\":1},\"mode\":\"lines\",\"type\":\"scattermapbox\"},{\"lat\":[36.385,36.114244],\"line\":{\"color\":\"blue\"},\"lon\":[-98.0727,-97.986019],\"marker\":{\"size\":1},\"mode\":\"lines\",\"type\":\"scattermapbox\"},{\"lat\":[41.2244,41.680013],\"line\":{\"color\":\"blue\"},\"lon\":[-86.6966,-86.342311],\"marker\":{\"size\":1},\"mode\":\"lines\",\"type\":\"scattermapbox\"},{\"lat\":[38.0261,37.925811],\"line\":{\"color\":\"blue\"},\"lon\":[-97.6666,-98.305991],\"marker\":{\"size\":1},\"mode\":\"lines\",\"type\":\"scattermapbox\"},{\"lat\":[46.3535,47.19299],\"line\":{\"color\":\"blue\"},\"lon\":[-86.6345,-87.112706],\"marker\":{\"size\":1},\"mode\":\"lines\",\"type\":\"scattermapbox\"},{\"lat\":[42.7012,42.064276],\"line\":{\"color\":\"blue\"},\"lon\":[-92.0762,-91.341971],\"marker\":{\"size\":1},\"mode\":\"lines\",\"type\":\"scattermapbox\"},{\"lat\":[41.6858,42.100911],\"line\":{\"color\":\"blue\"},\"lon\":[-90.3706,-90.926318],\"marker\":{\"size\":1},\"mode\":\"lines\",\"type\":\"scattermapbox\"},{\"lat\":[42.1782,42.553158],\"line\":{\"color\":\"blue\"},\"lon\":[-83.2461,-83.870377],\"marker\":{\"size\":1},\"mode\":\"lines\",\"type\":\"scattermapbox\"},{\"lat\":[32.0913,32.461217],\"line\":{\"color\":\"blue\"},\"lon\":[-83.7922,-83.023225],\"marker\":{\"size\":1},\"mode\":\"lines\",\"type\":\"scattermapbox\"},{\"lat\":[40.9918,40.489224],\"line\":{\"color\":\"blue\"},\"lon\":[-73.98,-74.74204],\"marker\":{\"size\":1},\"mode\":\"lines\",\"type\":\"scattermapbox\"},{\"lat\":[38.4921,37.720003000000005],\"line\":{\"color\":\"blue\"},\"lon\":[-85.4524,-85.058256],\"marker\":{\"size\":1},\"mode\":\"lines\",\"type\":\"scattermapbox\"},{\"lat\":[37.3304,37.048783],\"line\":{\"color\":\"blue\"},\"lon\":[-121.7913,-120.882976],\"marker\":{\"size\":1},\"mode\":\"lines\",\"type\":\"scattermapbox\"},{\"lat\":[38.8881,38.943514],\"line\":{\"color\":\"blue\"},\"lon\":[-104.6556,-105.652673],\"marker\":{\"size\":1},\"mode\":\"lines\",\"type\":\"scattermapbox\"},{\"lat\":[40.507,40.629327],\"line\":{\"color\":\"blue\"},\"lon\":[-123.9743,-124.193303],\"marker\":{\"size\":1},\"mode\":\"lines\",\"type\":\"scattermapbox\"},{\"lat\":[38.9318,39.748164],\"line\":{\"color\":\"blue\"},\"lon\":[-89.9618,-89.07952],\"marker\":{\"size\":1},\"mode\":\"lines\",\"type\":\"scattermapbox\"},{\"lat\":[30.6576,29.706528],\"line\":{\"color\":\"blue\"},\"lon\":[-91.6264,-90.817174],\"marker\":{\"size\":1},\"mode\":\"lines\",\"type\":\"scattermapbox\"},{\"lat\":[42.73,42.957176],\"line\":{\"color\":\"blue\"},\"lon\":[-104.7024,-105.2008],\"marker\":{\"size\":1},\"mode\":\"lines\",\"type\":\"scattermapbox\"},{\"lat\":[26.4215,27.408533],\"line\":{\"color\":\"blue\"},\"lon\":[-99.0025,-99.723605],\"marker\":{\"size\":1},\"mode\":\"lines\",\"type\":\"scattermapbox\"},{\"lat\":[30.8635,31.145743],\"line\":{\"color\":\"blue\"},\"lon\":[-87.7644,-88.488527],\"marker\":{\"size\":1},\"mode\":\"lines\",\"type\":\"scattermapbox\"},{\"lat\":[44.0577,44.427434000000005],\"line\":{\"color\":\"blue\"},\"lon\":[-76.0196,-75.504209],\"marker\":{\"size\":1},\"mode\":\"lines\",\"type\":\"scattermapbox\"},{\"lat\":[38.1372,37.863481],\"line\":{\"color\":\"blue\"},\"lon\":[-81.5962,-81.940044],\"marker\":{\"size\":1},\"mode\":\"lines\",\"type\":\"scattermapbox\"},{\"lat\":[42.6911,43.052947],\"line\":{\"color\":\"blue\"},\"lon\":[-71.1605,-70.326263],\"marker\":{\"size\":1},\"mode\":\"lines\",\"type\":\"scattermapbox\"},{\"lat\":[43.7557,44.670752],\"line\":{\"color\":\"blue\"},\"lon\":[-97.5936,-96.977989],\"marker\":{\"size\":1},\"mode\":\"lines\",\"type\":\"scattermapbox\"},{\"lat\":[44.9673,45.712556],\"line\":{\"color\":\"blue\"},\"lon\":[-93.2828,-92.878454],\"marker\":{\"size\":1},\"mode\":\"lines\",\"type\":\"scattermapbox\"},{\"lat\":[40.3928,39.596405],\"line\":{\"color\":\"blue\"},\"lon\":[-111.7941,-111.13295],\"marker\":{\"size\":1},\"mode\":\"lines\",\"type\":\"scattermapbox\"},{\"lat\":[35.4311,34.851804],\"line\":{\"color\":\"blue\"},\"lon\":[-105.9409,-106.087144],\"marker\":{\"size\":1},\"mode\":\"lines\",\"type\":\"scattermapbox\"},{\"lat\":[40.5046,39.957639],\"line\":{\"color\":\"blue\"},\"lon\":[-77.7186,-77.327711],\"marker\":{\"size\":1},\"mode\":\"lines\",\"type\":\"scattermapbox\"},{\"lat\":[31.929,31.114215],\"line\":{\"color\":\"blue\"},\"lon\":[-97.6443,-96.797893],\"marker\":{\"size\":1},\"mode\":\"lines\",\"type\":\"scattermapbox\"},{\"lat\":[42.1239,42.655014],\"line\":{\"color\":\"blue\"},\"lon\":[-79.1895,-79.136604],\"marker\":{\"size\":1},\"mode\":\"lines\",\"type\":\"scattermapbox\"},{\"lat\":[42.6853,41.881164],\"line\":{\"color\":\"blue\"},\"lon\":[-73.8253,-73.04185600000001],\"marker\":{\"size\":1},\"mode\":\"lines\",\"type\":\"scattermapbox\"},{\"lat\":[47.2271,46.439006],\"line\":{\"color\":\"blue\"},\"lon\":[-117.0819,-117.170761],\"marker\":{\"size\":1},\"mode\":\"lines\",\"type\":\"scattermapbox\"},{\"lat\":[39.9347,40.819208],\"line\":{\"color\":\"blue\"},\"lon\":[-86.1633,-86.54713000000001],\"marker\":{\"size\":1},\"mode\":\"lines\",\"type\":\"scattermapbox\"},{\"lat\":[32.9013,32.684246],\"line\":{\"color\":\"blue\"},\"lon\":[-91.0286,-91.803355],\"marker\":{\"size\":1},\"mode\":\"lines\",\"type\":\"scattermapbox\"},{\"lat\":[35.2229,34.484395],\"line\":{\"color\":\"blue\"},\"lon\":[-89.5518,-88.916443],\"marker\":{\"size\":1},\"mode\":\"lines\",\"type\":\"scattermapbox\"},{\"lat\":[46.0062,45.969986],\"line\":{\"color\":\"blue\"},\"lon\":[-86.2555,-85.522637],\"marker\":{\"size\":1},\"mode\":\"lines\",\"type\":\"scattermapbox\"},{\"lat\":[30.8836,30.69545],\"line\":{\"color\":\"blue\"},\"lon\":[-84.3246,-84.732989],\"marker\":{\"size\":1},\"mode\":\"lines\",\"type\":\"scattermapbox\"},{\"lat\":[42.8948,42.292775],\"line\":{\"color\":\"blue\"},\"lon\":[-74.8209,-74.436903],\"marker\":{\"size\":1},\"mode\":\"lines\",\"type\":\"scattermapbox\"},{\"lat\":[35.9866,35.611798],\"line\":{\"color\":\"blue\"},\"lon\":[-106.0654,-105.378007],\"marker\":{\"size\":1},\"mode\":\"lines\",\"type\":\"scattermapbox\"},{\"lat\":[44.0978,43.509729],\"line\":{\"color\":\"blue\"},\"lon\":[-72.0191,-72.44951400000001],\"marker\":{\"size\":1},\"mode\":\"lines\",\"type\":\"scattermapbox\"},{\"lat\":[41.55,41.867738],\"line\":{\"color\":\"blue\"},\"lon\":[-87.4569,-88.368245],\"marker\":{\"size\":1},\"mode\":\"lines\",\"type\":\"scattermapbox\"},{\"lat\":[38.9763,39.152973],\"line\":{\"color\":\"blue\"},\"lon\":[-87.3667,-86.53788399999999],\"marker\":{\"size\":1},\"mode\":\"lines\",\"type\":\"scattermapbox\"},{\"lat\":[35.0203,35.361839],\"line\":{\"color\":\"blue\"},\"lon\":[-106.5503,-106.770794],\"marker\":{\"size\":1},\"mode\":\"lines\",\"type\":\"scattermapbox\"},{\"lat\":[35.8985,36.193536],\"line\":{\"color\":\"blue\"},\"lon\":[-97.2607,-96.900182],\"marker\":{\"size\":1},\"mode\":\"lines\",\"type\":\"scattermapbox\"},{\"lat\":[42.2848,41.854787],\"line\":{\"color\":\"blue\"},\"lon\":[-71.7205,-72.23738900000001],\"marker\":{\"size\":1},\"mode\":\"lines\",\"type\":\"scattermapbox\"},{\"lat\":[35.5762,35.37785],\"line\":{\"color\":\"blue\"},\"lon\":[-91.4539,-91.193474],\"marker\":{\"size\":1},\"mode\":\"lines\",\"type\":\"scattermapbox\"},{\"lat\":[34.3396,35.17938],\"line\":{\"color\":\"blue\"},\"lon\":[-89.5736,-89.072787],\"marker\":{\"size\":1},\"mode\":\"lines\",\"type\":\"scattermapbox\"},{\"lat\":[41.2419,40.351869],\"line\":{\"color\":\"blue\"},\"lon\":[-81.7453,-81.429124],\"marker\":{\"size\":1},\"mode\":\"lines\",\"type\":\"scattermapbox\"},{\"lat\":[42.9373,42.436469],\"line\":{\"color\":\"blue\"},\"lon\":[-87.9943,-87.477581],\"marker\":{\"size\":1},\"mode\":\"lines\",\"type\":\"scattermapbox\"},{\"lat\":[32.8357,33.620481],\"line\":{\"color\":\"blue\"},\"lon\":[-79.8217,-79.912712],\"marker\":{\"size\":1},\"mode\":\"lines\",\"type\":\"scattermapbox\"},{\"lat\":[34.347,34.120228999999995],\"line\":{\"color\":\"blue\"},\"lon\":[-87.7154,-88.23239000000001],\"marker\":{\"size\":1},\"mode\":\"lines\",\"type\":\"scattermapbox\"},{\"lat\":[37.9073,38.706340999999995],\"line\":{\"color\":\"blue\"},\"lon\":[-75.5089,-74.84237399999999],\"marker\":{\"size\":1},\"mode\":\"lines\",\"type\":\"scattermapbox\"},{\"lat\":[41.1762,40.780577],\"line\":{\"color\":\"blue\"},\"lon\":[-79.1976,-79.96880999999999],\"marker\":{\"size\":1},\"mode\":\"lines\",\"type\":\"scattermapbox\"},{\"lat\":[46.3535,46.949523],\"line\":{\"color\":\"blue\"},\"lon\":[-86.6345,-87.00166],\"marker\":{\"size\":1},\"mode\":\"lines\",\"type\":\"scattermapbox\"},{\"lat\":[39.047,38.130537],\"line\":{\"color\":\"blue\"},\"lon\":[-122.9328,-123.750713],\"marker\":{\"size\":1},\"mode\":\"lines\",\"type\":\"scattermapbox\"},{\"lat\":[30.592,31.376964],\"line\":{\"color\":\"blue\"},\"lon\":[-97.2893,-98.073848],\"marker\":{\"size\":1},\"mode\":\"lines\",\"type\":\"scattermapbox\"},{\"lat\":[41.173,41.376446],\"line\":{\"color\":\"blue\"},\"lon\":[-89.2187,-88.70118199999999],\"marker\":{\"size\":1},\"mode\":\"lines\",\"type\":\"scattermapbox\"},{\"lat\":[38.4921,38.439289],\"line\":{\"color\":\"blue\"},\"lon\":[-85.4524,-86.242939],\"marker\":{\"size\":1},\"mode\":\"lines\",\"type\":\"scattermapbox\"},{\"lat\":[39.8936,40.058206],\"line\":{\"color\":\"blue\"},\"lon\":[-79.7856,-80.434267],\"marker\":{\"size\":1},\"mode\":\"lines\",\"type\":\"scattermapbox\"},{\"lat\":[41.6125,40.826887],\"line\":{\"color\":\"blue\"},\"lon\":[-122.5258,-122.614847],\"marker\":{\"size\":1},\"mode\":\"lines\",\"type\":\"scattermapbox\"},{\"lat\":[35.8759,35.006516],\"line\":{\"color\":\"blue\"},\"lon\":[-96.9623,-97.043694],\"marker\":{\"size\":1},\"mode\":\"lines\",\"type\":\"scattermapbox\"},{\"lat\":[42.73,43.567421],\"line\":{\"color\":\"blue\"},\"lon\":[-104.7024,-104.869173],\"marker\":{\"size\":1},\"mode\":\"lines\",\"type\":\"scattermapbox\"},{\"lat\":[42.2665,43.023058],\"line\":{\"color\":\"blue\"},\"lon\":[-72.0821,-72.48334],\"marker\":{\"size\":1},\"mode\":\"lines\",\"type\":\"scattermapbox\"},{\"lat\":[38.7897,38.358524],\"line\":{\"color\":\"blue\"},\"lon\":[-93.8702,-93.118919],\"marker\":{\"size\":1},\"mode\":\"lines\",\"type\":\"scattermapbox\"},{\"lat\":[31.1569,31.765195],\"line\":{\"color\":\"blue\"},\"lon\":[-94.3871,-94.086299],\"marker\":{\"size\":1},\"mode\":\"lines\",\"type\":\"scattermapbox\"},{\"lat\":[41.2244,41.767942],\"line\":{\"color\":\"blue\"},\"lon\":[-86.6966,-87.580492],\"marker\":{\"size\":1},\"mode\":\"lines\",\"type\":\"scattermapbox\"},{\"lat\":[40.8295,41.106933000000005],\"line\":{\"color\":\"blue\"},\"lon\":[-72.6473,-72.577584],\"marker\":{\"size\":1},\"mode\":\"lines\",\"type\":\"scattermapbox\"},{\"lat\":[36.9688,37.437226],\"line\":{\"color\":\"blue\"},\"lon\":[-78.5615,-77.751302],\"marker\":{\"size\":1},\"mode\":\"lines\",\"type\":\"scattermapbox\"},{\"lat\":[30.592,30.967267],\"line\":{\"color\":\"blue\"},\"lon\":[-97.2893,-97.007339],\"marker\":{\"size\":1},\"mode\":\"lines\",\"type\":\"scattermapbox\"},{\"lat\":[43.4512,43.812385],\"line\":{\"color\":\"blue\"},\"lon\":[-71.48899999999999,-70.775613],\"marker\":{\"size\":1},\"mode\":\"lines\",\"type\":\"scattermapbox\"},{\"lat\":[35.6665,35.464665000000004],\"line\":{\"color\":\"blue\"},\"lon\":[-97.4798,-97.766359],\"marker\":{\"size\":1},\"mode\":\"lines\",\"type\":\"scattermapbox\"},{\"lat\":[32.2768,32.968152],\"line\":{\"color\":\"blue\"},\"lon\":[-95.3031,-95.631528],\"marker\":{\"size\":1},\"mode\":\"lines\",\"type\":\"scattermapbox\"},{\"lat\":[43.196000000000005,42.977807],\"line\":{\"color\":\"blue\"},\"lon\":[-72.3001,-72.341422],\"marker\":{\"size\":1},\"mode\":\"lines\",\"type\":\"scattermapbox\"},{\"lat\":[34.7032,34.631021000000004],\"line\":{\"color\":\"blue\"},\"lon\":[-98.9591,-99.56692],\"marker\":{\"size\":1},\"mode\":\"lines\",\"type\":\"scattermapbox\"},{\"lat\":[38.7897,38.205724],\"line\":{\"color\":\"blue\"},\"lon\":[-93.8702,-93.176644],\"marker\":{\"size\":1},\"mode\":\"lines\",\"type\":\"scattermapbox\"},{\"lat\":[40.6816,41.451131],\"line\":{\"color\":\"blue\"},\"lon\":[-73.9798,-74.69227099999999],\"marker\":{\"size\":1},\"mode\":\"lines\",\"type\":\"scattermapbox\"},{\"lat\":[42.4828,41.529993],\"line\":{\"color\":\"blue\"},\"lon\":[-71.0978,-71.693704],\"marker\":{\"size\":1},\"mode\":\"lines\",\"type\":\"scattermapbox\"},{\"lat\":[39.6171,39.882156],\"line\":{\"color\":\"blue\"},\"lon\":[-102.4776,-102.653178],\"marker\":{\"size\":1},\"mode\":\"lines\",\"type\":\"scattermapbox\"},{\"lat\":[34.2853,34.543248],\"line\":{\"color\":\"blue\"},\"lon\":[-91.3336,-90.484481],\"marker\":{\"size\":1},\"mode\":\"lines\",\"type\":\"scattermapbox\"},{\"lat\":[33.9215,33.700492],\"line\":{\"color\":\"blue\"},\"lon\":[-89.6782,-89.43384499999999],\"marker\":{\"size\":1},\"mode\":\"lines\",\"type\":\"scattermapbox\"},{\"lat\":[37.9073,38.601953],\"line\":{\"color\":\"blue\"},\"lon\":[-75.5089,-75.978326],\"marker\":{\"size\":1},\"mode\":\"lines\",\"type\":\"scattermapbox\"},{\"lat\":[36.0244,36.447957],\"line\":{\"color\":\"blue\"},\"lon\":[-90.9288,-91.213831],\"marker\":{\"size\":1},\"mode\":\"lines\",\"type\":\"scattermapbox\"},{\"lat\":[32.2779,31.80159],\"line\":{\"color\":\"blue\"},\"lon\":[-97.2351,-97.442201],\"marker\":{\"size\":1},\"mode\":\"lines\",\"type\":\"scattermapbox\"},{\"lat\":[36.385,37.149282],\"line\":{\"color\":\"blue\"},\"lon\":[-98.0727,-97.334254],\"marker\":{\"size\":1},\"mode\":\"lines\",\"type\":\"scattermapbox\"},{\"lat\":[41.8114,41.903712],\"line\":{\"color\":\"blue\"},\"lon\":[-93.4855,-93.012199],\"marker\":{\"size\":1},\"mode\":\"lines\",\"type\":\"scattermapbox\"},{\"lat\":[30.4983,31.155888],\"line\":{\"color\":\"blue\"},\"lon\":[-88.3282,-89.13774599999999],\"marker\":{\"size\":1},\"mode\":\"lines\",\"type\":\"scattermapbox\"},{\"lat\":[39.9148,39.306734000000006],\"line\":{\"color\":\"blue\"},\"lon\":[-80.73100000000001,-80.188897],\"marker\":{\"size\":1},\"mode\":\"lines\",\"type\":\"scattermapbox\"},{\"lat\":[39.5994,38.903774],\"line\":{\"color\":\"blue\"},\"lon\":[-105.0044,-104.609195],\"marker\":{\"size\":1},\"mode\":\"lines\",\"type\":\"scattermapbox\"},{\"lat\":[26.4722,26.751927],\"line\":{\"color\":\"blue\"},\"lon\":[-81.8122,-82.661034],\"marker\":{\"size\":1},\"mode\":\"lines\",\"type\":\"scattermapbox\"},{\"lat\":[40.6866,40.535176],\"line\":{\"color\":\"blue\"},\"lon\":[-92.6833,-93.536831],\"marker\":{\"size\":1},\"mode\":\"lines\",\"type\":\"scattermapbox\"},{\"lat\":[43.033,43.594762],\"line\":{\"color\":\"blue\"},\"lon\":[-77.1575,-77.697612],\"marker\":{\"size\":1},\"mode\":\"lines\",\"type\":\"scattermapbox\"},{\"lat\":[34.847,35.724377000000004],\"line\":{\"color\":\"blue\"},\"lon\":[-98.9836,-99.305158],\"marker\":{\"size\":1},\"mode\":\"lines\",\"type\":\"scattermapbox\"},{\"lat\":[43.7893,44.522090000000006],\"line\":{\"color\":\"blue\"},\"lon\":[-75.4156,-75.455428],\"marker\":{\"size\":1},\"mode\":\"lines\",\"type\":\"scattermapbox\"},{\"lat\":[39.8839,39.104933],\"line\":{\"color\":\"blue\"},\"lon\":[-75.4669,-75.902243],\"marker\":{\"size\":1},\"mode\":\"lines\",\"type\":\"scattermapbox\"},{\"lat\":[31.0,30.74977],\"line\":{\"color\":\"blue\"},\"lon\":[-82.8555,-82.715129],\"marker\":{\"size\":1},\"mode\":\"lines\",\"type\":\"scattermapbox\"},{\"lat\":[34.4793,34.284013],\"line\":{\"color\":\"blue\"},\"lon\":[-87.4769,-88.320877],\"marker\":{\"size\":1},\"mode\":\"lines\",\"type\":\"scattermapbox\"},{\"lat\":[46.0062,46.476833],\"line\":{\"color\":\"blue\"},\"lon\":[-86.2555,-85.474452],\"marker\":{\"size\":1},\"mode\":\"lines\",\"type\":\"scattermapbox\"},{\"lat\":[36.6966,37.104156],\"line\":{\"color\":\"blue\"},\"lon\":[-96.7869,-97.739733],\"marker\":{\"size\":1},\"mode\":\"lines\",\"type\":\"scattermapbox\"},{\"lat\":[37.0462,36.592253],\"line\":{\"color\":\"blue\"},\"lon\":[-76.4096,-75.658204],\"marker\":{\"size\":1},\"mode\":\"lines\",\"type\":\"scattermapbox\"},{\"lat\":[31.6489,31.441827000000004],\"line\":{\"color\":\"blue\"},\"lon\":[-82.1982,-82.698141],\"marker\":{\"size\":1},\"mode\":\"lines\",\"type\":\"scattermapbox\"},{\"lat\":[44.3481,44.744831],\"line\":{\"color\":\"blue\"},\"lon\":[-89.1101,-88.61740400000001],\"marker\":{\"size\":1},\"mode\":\"lines\",\"type\":\"scattermapbox\"},{\"lat\":[40.5662,39.760951],\"line\":{\"color\":\"blue\"},\"lon\":[-80.2099,-80.34700500000001],\"marker\":{\"size\":1},\"mode\":\"lines\",\"type\":\"scattermapbox\"},{\"lat\":[34.9889,35.311574],\"line\":{\"color\":\"blue\"},\"lon\":[-106.0609,-105.74117],\"marker\":{\"size\":1},\"mode\":\"lines\",\"type\":\"scattermapbox\"},{\"lat\":[32.69,33.047404],\"line\":{\"color\":\"blue\"},\"lon\":[-96.9177,-97.648313],\"marker\":{\"size\":1},\"mode\":\"lines\",\"type\":\"scattermapbox\"},{\"lat\":[42.5164,43.216148],\"line\":{\"color\":\"blue\"},\"lon\":[-82.9832,-82.115942],\"marker\":{\"size\":1},\"mode\":\"lines\",\"type\":\"scattermapbox\"},{\"lat\":[30.8836,31.605346],\"line\":{\"color\":\"blue\"},\"lon\":[-84.3246,-84.278762],\"marker\":{\"size\":1},\"mode\":\"lines\",\"type\":\"scattermapbox\"},{\"lat\":[34.4793,35.339217],\"line\":{\"color\":\"blue\"},\"lon\":[-87.4769,-88.255275],\"marker\":{\"size\":1},\"mode\":\"lines\",\"type\":\"scattermapbox\"},{\"lat\":[30.2385,30.182798],\"line\":{\"color\":\"blue\"},\"lon\":[-90.8435,-90.937951],\"marker\":{\"size\":1},\"mode\":\"lines\",\"type\":\"scattermapbox\"},{\"lat\":[33.0437,32.546414],\"line\":{\"color\":\"blue\"},\"lon\":[-81.7106,-80.80574],\"marker\":{\"size\":1},\"mode\":\"lines\",\"type\":\"scattermapbox\"},{\"lat\":[43.2237,43.224264],\"line\":{\"color\":\"blue\"},\"lon\":[-75.1612,-74.469479],\"marker\":{\"size\":1},\"mode\":\"lines\",\"type\":\"scattermapbox\"},{\"lat\":[35.1791,34.304653],\"line\":{\"color\":\"blue\"},\"lon\":[-91.2594,-90.28107],\"marker\":{\"size\":1},\"mode\":\"lines\",\"type\":\"scattermapbox\"},{\"lat\":[45.32899999999999,45.915255],\"line\":{\"color\":\"blue\"},\"lon\":[-98.0837,-98.648984],\"marker\":{\"size\":1},\"mode\":\"lines\",\"type\":\"scattermapbox\"},{\"lat\":[43.0351,43.724722],\"line\":{\"color\":\"blue\"},\"lon\":[-108.2024,-108.953404],\"marker\":{\"size\":1},\"mode\":\"lines\",\"type\":\"scattermapbox\"},{\"lat\":[38.5319,38.072957],\"line\":{\"color\":\"blue\"},\"lon\":[-93.9221,-94.4432],\"marker\":{\"size\":1},\"mode\":\"lines\",\"type\":\"scattermapbox\"},{\"lat\":[39.8839,38.946477],\"line\":{\"color\":\"blue\"},\"lon\":[-75.4669,-76.261767],\"marker\":{\"size\":1},\"mode\":\"lines\",\"type\":\"scattermapbox\"},{\"lat\":[35.9866,35.439017],\"line\":{\"color\":\"blue\"},\"lon\":[-106.0654,-106.283176],\"marker\":{\"size\":1},\"mode\":\"lines\",\"type\":\"scattermapbox\"},{\"lat\":[33.141,33.347371],\"line\":{\"color\":\"blue\"},\"lon\":[-82.515,-81.620159],\"marker\":{\"size\":1},\"mode\":\"lines\",\"type\":\"scattermapbox\"},{\"lat\":[33.7163,32.795102],\"line\":{\"color\":\"blue\"},\"lon\":[-116.3381,-117.152158],\"marker\":{\"size\":1},\"mode\":\"lines\",\"type\":\"scattermapbox\"},{\"lat\":[39.9972,40.763518],\"line\":{\"color\":\"blue\"},\"lon\":[-88.6962,-89.68504200000001],\"marker\":{\"size\":1},\"mode\":\"lines\",\"type\":\"scattermapbox\"},{\"lat\":[39.8839,39.749204],\"line\":{\"color\":\"blue\"},\"lon\":[-75.4669,-75.890846],\"marker\":{\"size\":1},\"mode\":\"lines\",\"type\":\"scattermapbox\"},{\"lat\":[30.0041,29.479199],\"line\":{\"color\":\"blue\"},\"lon\":[-95.2825,-95.471315],\"marker\":{\"size\":1},\"mode\":\"lines\",\"type\":\"scattermapbox\"},{\"lat\":[29.0393,28.999743],\"line\":{\"color\":\"blue\"},\"lon\":[-95.4401,-95.933716],\"marker\":{\"size\":1},\"mode\":\"lines\",\"type\":\"scattermapbox\"},{\"lat\":[41.2419,41.061444],\"line\":{\"color\":\"blue\"},\"lon\":[-81.7453,-80.936776],\"marker\":{\"size\":1},\"mode\":\"lines\",\"type\":\"scattermapbox\"},{\"lat\":[42.8223,42.583623],\"line\":{\"color\":\"blue\"},\"lon\":[-83.2829,-83.540345],\"marker\":{\"size\":1},\"mode\":\"lines\",\"type\":\"scattermapbox\"},{\"lat\":[35.5762,35.291964],\"line\":{\"color\":\"blue\"},\"lon\":[-91.4539,-91.420327],\"marker\":{\"size\":1},\"mode\":\"lines\",\"type\":\"scattermapbox\"},{\"lat\":[34.9906,35.987454],\"line\":{\"color\":\"blue\"},\"lon\":[-81.8327,-82.774206],\"marker\":{\"size\":1},\"mode\":\"lines\",\"type\":\"scattermapbox\"},{\"lat\":[34.9572,34.396659],\"line\":{\"color\":\"blue\"},\"lon\":[-81.9916,-81.101175],\"marker\":{\"size\":1},\"mode\":\"lines\",\"type\":\"scattermapbox\"},{\"lat\":[38.2833,39.179585],\"line\":{\"color\":\"blue\"},\"lon\":[-75.8465,-75.513244],\"marker\":{\"size\":1},\"mode\":\"lines\",\"type\":\"scattermapbox\"},{\"lat\":[39.7562,40.26823],\"line\":{\"color\":\"blue\"},\"lon\":[-98.4462,-98.007695],\"marker\":{\"size\":1},\"mode\":\"lines\",\"type\":\"scattermapbox\"},{\"lat\":[39.6251,38.716814],\"line\":{\"color\":\"blue\"},\"lon\":[-82.7552,-82.07310799999999],\"marker\":{\"size\":1},\"mode\":\"lines\",\"type\":\"scattermapbox\"},{\"lat\":[32.153,33.041686999999996],\"line\":{\"color\":\"blue\"},\"lon\":[-90.1217,-90.785147],\"marker\":{\"size\":1},\"mode\":\"lines\",\"type\":\"scattermapbox\"},{\"lat\":[33.9568,33.932365999999995],\"line\":{\"color\":\"blue\"},\"lon\":[-81.1405,-81.106249],\"marker\":{\"size\":1},\"mode\":\"lines\",\"type\":\"scattermapbox\"},{\"lat\":[40.2236,40.347227],\"line\":{\"color\":\"blue\"},\"lon\":[-76.538,-76.979959],\"marker\":{\"size\":1},\"mode\":\"lines\",\"type\":\"scattermapbox\"},{\"lat\":[40.6761,41.067397],\"line\":{\"color\":\"blue\"},\"lon\":[-91.0391,-91.593506],\"marker\":{\"size\":1},\"mode\":\"lines\",\"type\":\"scattermapbox\"},{\"lat\":[30.459,31.339746],\"line\":{\"color\":\"blue\"},\"lon\":[-90.9027,-91.13685],\"marker\":{\"size\":1},\"mode\":\"lines\",\"type\":\"scattermapbox\"},{\"lat\":[39.6321,40.43523],\"line\":{\"color\":\"blue\"},\"lon\":[-84.2675,-85.14621899999999],\"marker\":{\"size\":1},\"mode\":\"lines\",\"type\":\"scattermapbox\"},{\"lat\":[47.3551,47.596841],\"line\":{\"color\":\"blue\"},\"lon\":[-96.798,-96.460849],\"marker\":{\"size\":1},\"mode\":\"lines\",\"type\":\"scattermapbox\"},{\"lat\":[45.5303,45.577411],\"line\":{\"color\":\"blue\"},\"lon\":[-122.7033,-123.067878],\"marker\":{\"size\":1},\"mode\":\"lines\",\"type\":\"scattermapbox\"},{\"lat\":[43.0397,42.151242],\"line\":{\"color\":\"blue\"},\"lon\":[-77.6871,-76.933373],\"marker\":{\"size\":1},\"mode\":\"lines\",\"type\":\"scattermapbox\"},{\"lat\":[27.9611,27.159941999999997],\"line\":{\"color\":\"blue\"},\"lon\":[-81.9398,-81.30159599999999],\"marker\":{\"size\":1},\"mode\":\"lines\",\"type\":\"scattermapbox\"},{\"lat\":[38.0828,38.027789],\"line\":{\"color\":\"blue\"},\"lon\":[-76.3477,-76.929711],\"marker\":{\"size\":1},\"mode\":\"lines\",\"type\":\"scattermapbox\"},{\"lat\":[42.4483,42.779534000000005],\"line\":{\"color\":\"blue\"},\"lon\":[-95.1726,-95.775418],\"marker\":{\"size\":1},\"mode\":\"lines\",\"type\":\"scattermapbox\"},{\"lat\":[34.4596,34.325281],\"line\":{\"color\":\"blue\"},\"lon\":[-93.6743,-94.243787],\"marker\":{\"size\":1},\"mode\":\"lines\",\"type\":\"scattermapbox\"},{\"lat\":[40.732,41.009564000000005],\"line\":{\"color\":\"blue\"},\"lon\":[-73.1,-73.919814],\"marker\":{\"size\":1},\"mode\":\"lines\",\"type\":\"scattermapbox\"},{\"lat\":[36.6659,35.707926],\"line\":{\"color\":\"blue\"},\"lon\":[-105.4694,-105.936764],\"marker\":{\"size\":1},\"mode\":\"lines\",\"type\":\"scattermapbox\"},{\"lat\":[41.5378,40.837562],\"line\":{\"color\":\"blue\"},\"lon\":[-88.0572,-88.450947],\"marker\":{\"size\":1},\"mode\":\"lines\",\"type\":\"scattermapbox\"},{\"lat\":[39.5483,38.855532],\"line\":{\"color\":\"blue\"},\"lon\":[-119.7957,-120.187153],\"marker\":{\"size\":1},\"mode\":\"lines\",\"type\":\"scattermapbox\"},{\"lat\":[39.3036,39.941428],\"line\":{\"color\":\"blue\"},\"lon\":[-89.2853,-89.70326999999999],\"marker\":{\"size\":1},\"mode\":\"lines\",\"type\":\"scattermapbox\"},{\"lat\":[43.0048,43.851739],\"line\":{\"color\":\"blue\"},\"lon\":[-108.8964,-109.66429],\"marker\":{\"size\":1},\"mode\":\"lines\",\"type\":\"scattermapbox\"},{\"lat\":[30.9416,31.670989],\"line\":{\"color\":\"blue\"},\"lon\":[-83.3574,-83.031348],\"marker\":{\"size\":1},\"mode\":\"lines\",\"type\":\"scattermapbox\"},{\"lat\":[44.5592,43.90238],\"line\":{\"color\":\"blue\"},\"lon\":[-87.8235,-88.06392],\"marker\":{\"size\":1},\"mode\":\"lines\",\"type\":\"scattermapbox\"},{\"lat\":[36.3924,35.934871],\"line\":{\"color\":\"blue\"},\"lon\":[-91.9932,-91.555309],\"marker\":{\"size\":1},\"mode\":\"lines\",\"type\":\"scattermapbox\"},{\"lat\":[37.2409,37.261812],\"line\":{\"color\":\"blue\"},\"lon\":[-82.7696,-83.075707],\"marker\":{\"size\":1},\"mode\":\"lines\",\"type\":\"scattermapbox\"},{\"lat\":[44.1554,44.73486],\"line\":{\"color\":\"blue\"},\"lon\":[-72.4847,-72.905293],\"marker\":{\"size\":1},\"mode\":\"lines\",\"type\":\"scattermapbox\"},{\"lat\":[39.9636,39.958867],\"line\":{\"color\":\"blue\"},\"lon\":[-79.7853,-80.656617],\"marker\":{\"size\":1},\"mode\":\"lines\",\"type\":\"scattermapbox\"},{\"lat\":[47.2271,48.106375],\"line\":{\"color\":\"blue\"},\"lon\":[-117.0819,-117.600704],\"marker\":{\"size\":1},\"mode\":\"lines\",\"type\":\"scattermapbox\"},{\"lat\":[40.0113,40.240408],\"line\":{\"color\":\"blue\"},\"lon\":[-80.9701,-81.049605],\"marker\":{\"size\":1},\"mode\":\"lines\",\"type\":\"scattermapbox\"},{\"lat\":[39.537,38.980086],\"line\":{\"color\":\"blue\"},\"lon\":[-83.455,-83.78644399999999],\"marker\":{\"size\":1},\"mode\":\"lines\",\"type\":\"scattermapbox\"},{\"lat\":[41.6858,42.551459],\"line\":{\"color\":\"blue\"},\"lon\":[-90.3706,-89.850092],\"marker\":{\"size\":1},\"mode\":\"lines\",\"type\":\"scattermapbox\"},{\"lat\":[46.1838,45.873028000000005],\"line\":{\"color\":\"blue\"},\"lon\":[-101.2589,-100.830673],\"marker\":{\"size\":1},\"mode\":\"lines\",\"type\":\"scattermapbox\"},{\"lat\":[32.2779,32.634794],\"line\":{\"color\":\"blue\"},\"lon\":[-97.2351,-97.955836],\"marker\":{\"size\":1},\"mode\":\"lines\",\"type\":\"scattermapbox\"},{\"lat\":[35.9946,35.000592],\"line\":{\"color\":\"blue\"},\"lon\":[-81.7266,-82.234251],\"marker\":{\"size\":1},\"mode\":\"lines\",\"type\":\"scattermapbox\"},{\"lat\":[36.6659,36.683903],\"line\":{\"color\":\"blue\"},\"lon\":[-105.4694,-106.255353],\"marker\":{\"size\":1},\"mode\":\"lines\",\"type\":\"scattermapbox\"},{\"lat\":[33.6547,33.770682],\"line\":{\"color\":\"blue\"},\"lon\":[-97.1583,-97.804078],\"marker\":{\"size\":1},\"mode\":\"lines\",\"type\":\"scattermapbox\"},{\"lat\":[64.7556,64.015679],\"line\":{\"color\":\"blue\"},\"lon\":[-165.6723,-164.856479],\"marker\":{\"size\":1},\"mode\":\"lines\",\"type\":\"scattermapbox\"},{\"lat\":[32.5486,33.268370000000004],\"line\":{\"color\":\"blue\"},\"lon\":[-80.307,-80.835927],\"marker\":{\"size\":1},\"mode\":\"lines\",\"type\":\"scattermapbox\"},{\"lat\":[30.459,31.385481],\"line\":{\"color\":\"blue\"},\"lon\":[-90.9027,-90.305867],\"marker\":{\"size\":1},\"mode\":\"lines\",\"type\":\"scattermapbox\"},{\"lat\":[31.4841,31.493693],\"line\":{\"color\":\"blue\"},\"lon\":[-97.9903,-98.437131],\"marker\":{\"size\":1},\"mode\":\"lines\",\"type\":\"scattermapbox\"},{\"lat\":[39.0965,39.051389],\"line\":{\"color\":\"blue\"},\"lon\":[-84.6431,-83.68342],\"marker\":{\"size\":1},\"mode\":\"lines\",\"type\":\"scattermapbox\"},{\"lat\":[38.9311,39.586732],\"line\":{\"color\":\"blue\"},\"lon\":[-89.2463,-90.007922],\"marker\":{\"size\":1},\"mode\":\"lines\",\"type\":\"scattermapbox\"},{\"lat\":[31.6489,32.009534],\"line\":{\"color\":\"blue\"},\"lon\":[-82.1982,-81.637598],\"marker\":{\"size\":1},\"mode\":\"lines\",\"type\":\"scattermapbox\"},{\"lat\":[26.4722,26.38193],\"line\":{\"color\":\"blue\"},\"lon\":[-81.8122,-81.804423],\"marker\":{\"size\":1},\"mode\":\"lines\",\"type\":\"scattermapbox\"},{\"lat\":[40.1159,40.335008],\"line\":{\"color\":\"blue\"},\"lon\":[-74.8536,-74.44516],\"marker\":{\"size\":1},\"mode\":\"lines\",\"type\":\"scattermapbox\"},{\"lat\":[39.7795,40.181535],\"line\":{\"color\":\"blue\"},\"lon\":[-93.3014,-93.541215],\"marker\":{\"size\":1},\"mode\":\"lines\",\"type\":\"scattermapbox\"},{\"lat\":[32.4204,31.954441999999997],\"line\":{\"color\":\"blue\"},\"lon\":[-85.0796,-85.707592],\"marker\":{\"size\":1},\"mode\":\"lines\",\"type\":\"scattermapbox\"},{\"lat\":[32.2779,32.233272],\"line\":{\"color\":\"blue\"},\"lon\":[-97.2351,-97.195554],\"marker\":{\"size\":1},\"mode\":\"lines\",\"type\":\"scattermapbox\"},{\"lat\":[64.7556,65.077232],\"line\":{\"color\":\"blue\"},\"lon\":[-165.6723,-166.60747],\"marker\":{\"size\":1},\"mode\":\"lines\",\"type\":\"scattermapbox\"},{\"lat\":[31.3833,32.364451],\"line\":{\"color\":\"blue\"},\"lon\":[-95.0619,-96.028516],\"marker\":{\"size\":1},\"mode\":\"lines\",\"type\":\"scattermapbox\"},{\"lat\":[40.7152,40.912275],\"line\":{\"color\":\"blue\"},\"lon\":[-89.2706,-90.209358],\"marker\":{\"size\":1},\"mode\":\"lines\",\"type\":\"scattermapbox\"},{\"lat\":[36.8421,37.544546999999994],\"line\":{\"color\":\"blue\"},\"lon\":[-85.5396,-84.855834],\"marker\":{\"size\":1},\"mode\":\"lines\",\"type\":\"scattermapbox\"},{\"lat\":[31.7706,31.61986],\"line\":{\"color\":\"blue\"},\"lon\":[-84.7936,-85.138821],\"marker\":{\"size\":1},\"mode\":\"lines\",\"type\":\"scattermapbox\"},{\"lat\":[40.2236,40.481163],\"line\":{\"color\":\"blue\"},\"lon\":[-76.538,-77.157317],\"marker\":{\"size\":1},\"mode\":\"lines\",\"type\":\"scattermapbox\"},{\"lat\":[39.7795,40.195449],\"line\":{\"color\":\"blue\"},\"lon\":[-93.3014,-93.696869],\"marker\":{\"size\":1},\"mode\":\"lines\",\"type\":\"scattermapbox\"},{\"lat\":[37.1046,36.465229],\"line\":{\"color\":\"blue\"},\"lon\":[-83.5706,-83.45419100000001],\"marker\":{\"size\":1},\"mode\":\"lines\",\"type\":\"scattermapbox\"},{\"lat\":[41.4802,40.958836],\"line\":{\"color\":\"blue\"},\"lon\":[-86.6919,-85.76639399999999],\"marker\":{\"size\":1},\"mode\":\"lines\",\"type\":\"scattermapbox\"},{\"lat\":[46.0062,46.332415999999995],\"line\":{\"color\":\"blue\"},\"lon\":[-86.2555,-86.995337],\"marker\":{\"size\":1},\"mode\":\"lines\",\"type\":\"scattermapbox\"},{\"lat\":[24.6557,24.187082],\"line\":{\"color\":\"blue\"},\"lon\":[-81.3824,-81.94093000000001],\"marker\":{\"size\":1},\"mode\":\"lines\",\"type\":\"scattermapbox\"},{\"lat\":[39.0965,39.300391999999995],\"line\":{\"color\":\"blue\"},\"lon\":[-84.6431,-85.330964],\"marker\":{\"size\":1},\"mode\":\"lines\",\"type\":\"scattermapbox\"},{\"lat\":[32.8088,32.314882],\"line\":{\"color\":\"blue\"},\"lon\":[-83.17399999999999,-83.369963],\"marker\":{\"size\":1},\"mode\":\"lines\",\"type\":\"scattermapbox\"},{\"lat\":[42.9207,43.041848],\"line\":{\"color\":\"blue\"},\"lon\":[-91.0685,-90.44806],\"marker\":{\"size\":1},\"mode\":\"lines\",\"type\":\"scattermapbox\"},{\"lat\":[36.5422,35.551041],\"line\":{\"color\":\"blue\"},\"lon\":[-88.3319,-88.293973],\"marker\":{\"size\":1},\"mode\":\"lines\",\"type\":\"scattermapbox\"},{\"lat\":[39.9961,39.902628],\"line\":{\"color\":\"blue\"},\"lon\":[-79.7678,-80.433212],\"marker\":{\"size\":1},\"mode\":\"lines\",\"type\":\"scattermapbox\"},{\"lat\":[40.0987,39.154366],\"line\":{\"color\":\"blue\"},\"lon\":[-84.6342,-84.581971],\"marker\":{\"size\":1},\"mode\":\"lines\",\"type\":\"scattermapbox\"},{\"lat\":[34.4596,34.37704],\"line\":{\"color\":\"blue\"},\"lon\":[-93.6743,-93.829958],\"marker\":{\"size\":1},\"mode\":\"lines\",\"type\":\"scattermapbox\"},{\"lat\":[38.8432,38.612418],\"line\":{\"color\":\"blue\"},\"lon\":[-78.6003,-78.640761],\"marker\":{\"size\":1},\"mode\":\"lines\",\"type\":\"scattermapbox\"},{\"lat\":[45.4093,44.448518],\"line\":{\"color\":\"blue\"},\"lon\":[-122.6847,-122.142376],\"marker\":{\"size\":1},\"mode\":\"lines\",\"type\":\"scattermapbox\"},{\"lat\":[39.8153,40.526565000000005],\"line\":{\"color\":\"blue\"},\"lon\":[-91.2627,-91.94125],\"marker\":{\"size\":1},\"mode\":\"lines\",\"type\":\"scattermapbox\"},{\"lat\":[40.5891,40.634931],\"line\":{\"color\":\"blue\"},\"lon\":[-75.4645,-75.433258],\"marker\":{\"size\":1},\"mode\":\"lines\",\"type\":\"scattermapbox\"},{\"lat\":[38.9621,38.634836],\"line\":{\"color\":\"blue\"},\"lon\":[-94.5959,-95.196694],\"marker\":{\"size\":1},\"mode\":\"lines\",\"type\":\"scattermapbox\"},{\"lat\":[41.4798,41.459605],\"line\":{\"color\":\"blue\"},\"lon\":[-79.9403,-79.782717],\"marker\":{\"size\":1},\"mode\":\"lines\",\"type\":\"scattermapbox\"},{\"lat\":[38.9087,39.082388],\"line\":{\"color\":\"blue\"},\"lon\":[-77.0414,-76.814121],\"marker\":{\"size\":1},\"mode\":\"lines\",\"type\":\"scattermapbox\"},{\"lat\":[34.1556,33.187543],\"line\":{\"color\":\"blue\"},\"lon\":[-118.2322,-118.134224],\"marker\":{\"size\":1},\"mode\":\"lines\",\"type\":\"scattermapbox\"},{\"lat\":[41.141000000000005,40.608723],\"line\":{\"color\":\"blue\"},\"lon\":[-84.5722,-83.739609],\"marker\":{\"size\":1},\"mode\":\"lines\",\"type\":\"scattermapbox\"},{\"lat\":[35.584,36.230283],\"line\":{\"color\":\"blue\"},\"lon\":[-80.8685,-80.463041],\"marker\":{\"size\":1},\"mode\":\"lines\",\"type\":\"scattermapbox\"},{\"lat\":[39.0965,39.252749],\"line\":{\"color\":\"blue\"},\"lon\":[-84.6431,-84.614356],\"marker\":{\"size\":1},\"mode\":\"lines\",\"type\":\"scattermapbox\"},{\"lat\":[43.0976,42.596331],\"line\":{\"color\":\"blue\"},\"lon\":[-70.7121,-69.835665],\"marker\":{\"size\":1},\"mode\":\"lines\",\"type\":\"scattermapbox\"},{\"lat\":[42.1239,42.889109999999995],\"line\":{\"color\":\"blue\"},\"lon\":[-79.1895,-79.04146800000001],\"marker\":{\"size\":1},\"mode\":\"lines\",\"type\":\"scattermapbox\"},{\"lat\":[40.1151,40.57136],\"line\":{\"color\":\"blue\"},\"lon\":[-79.8627,-79.663969],\"marker\":{\"size\":1},\"mode\":\"lines\",\"type\":\"scattermapbox\"},{\"lat\":[41.1437,40.921733],\"line\":{\"color\":\"blue\"},\"lon\":[-72.2879,-71.60615200000001],\"marker\":{\"size\":1},\"mode\":\"lines\",\"type\":\"scattermapbox\"},{\"lat\":[41.0472,40.276375],\"line\":{\"color\":\"blue\"},\"lon\":[-79.8089,-80.388678],\"marker\":{\"size\":1},\"mode\":\"lines\",\"type\":\"scattermapbox\"},{\"lat\":[42.6911,42.996139],\"line\":{\"color\":\"blue\"},\"lon\":[-71.1605,-72.090837],\"marker\":{\"size\":1},\"mode\":\"lines\",\"type\":\"scattermapbox\"},{\"lat\":[38.1372,37.872025],\"line\":{\"color\":\"blue\"},\"lon\":[-81.5962,-82.565988],\"marker\":{\"size\":1},\"mode\":\"lines\",\"type\":\"scattermapbox\"},{\"lat\":[44.64,44.22484],\"line\":{\"color\":\"blue\"},\"lon\":[-73.3113,-72.37485699999999],\"marker\":{\"size\":1},\"mode\":\"lines\",\"type\":\"scattermapbox\"},{\"lat\":[34.9298,34.759754],\"line\":{\"color\":\"blue\"},\"lon\":[-84.9885,-84.300794],\"marker\":{\"size\":1},\"mode\":\"lines\",\"type\":\"scattermapbox\"},{\"lat\":[46.4959,46.040808],\"line\":{\"color\":\"blue\"},\"lon\":[-90.4383,-89.72532700000001],\"marker\":{\"size\":1},\"mode\":\"lines\",\"type\":\"scattermapbox\"},{\"lat\":[34.9906,34.92823],\"line\":{\"color\":\"blue\"},\"lon\":[-81.8327,-81.001499],\"marker\":{\"size\":1},\"mode\":\"lines\",\"type\":\"scattermapbox\"},{\"lat\":[38.8938,38.647604],\"line\":{\"color\":\"blue\"},\"lon\":[-86.5246,-87.497146],\"marker\":{\"size\":1},\"mode\":\"lines\",\"type\":\"scattermapbox\"},{\"lat\":[32.2768,32.863823],\"line\":{\"color\":\"blue\"},\"lon\":[-95.3031,-94.307972],\"marker\":{\"size\":1},\"mode\":\"lines\",\"type\":\"scattermapbox\"},{\"lat\":[39.7417,39.180193],\"line\":{\"color\":\"blue\"},\"lon\":[-93.6289,-94.46689],\"marker\":{\"size\":1},\"mode\":\"lines\",\"type\":\"scattermapbox\"},{\"lat\":[32.6786,32.216791],\"line\":{\"color\":\"blue\"},\"lon\":[-81.2455,-80.625447],\"marker\":{\"size\":1},\"mode\":\"lines\",\"type\":\"scattermapbox\"},{\"lat\":[48.34,48.3931],\"line\":{\"color\":\"blue\"},\"lon\":[-122.3456,-123.118077],\"marker\":{\"size\":1},\"mode\":\"lines\",\"type\":\"scattermapbox\"},{\"lat\":[41.2419,42.154066],\"line\":{\"color\":\"blue\"},\"lon\":[-81.7453,-81.26824],\"marker\":{\"size\":1},\"mode\":\"lines\",\"type\":\"scattermapbox\"},{\"lat\":[40.9918,40.214386],\"line\":{\"color\":\"blue\"},\"lon\":[-73.98,-74.614453],\"marker\":{\"size\":1},\"mode\":\"lines\",\"type\":\"scattermapbox\"},{\"lat\":[41.8467,42.381692],\"line\":{\"color\":\"blue\"},\"lon\":[-74.1038,-74.048066],\"marker\":{\"size\":1},\"mode\":\"lines\",\"type\":\"scattermapbox\"},{\"lat\":[29.9975,30.013887],\"line\":{\"color\":\"blue\"},\"lon\":[-90.2146,-90.623434],\"marker\":{\"size\":1},\"mode\":\"lines\",\"type\":\"scattermapbox\"},{\"lat\":[46.1966,46.036089],\"line\":{\"color\":\"blue\"},\"lon\":[-118.9017,-118.512989],\"marker\":{\"size\":1},\"mode\":\"lines\",\"type\":\"scattermapbox\"},{\"lat\":[41.606,40.941749],\"line\":{\"color\":\"blue\"},\"lon\":[-109.23,-109.063169],\"marker\":{\"size\":1},\"mode\":\"lines\",\"type\":\"scattermapbox\"},{\"lat\":[41.0001,40.471475],\"line\":{\"color\":\"blue\"},\"lon\":[-78.2357,-78.25572700000001],\"marker\":{\"size\":1},\"mode\":\"lines\",\"type\":\"scattermapbox\"},{\"lat\":[36.6966,37.073957],\"line\":{\"color\":\"blue\"},\"lon\":[-96.7869,-97.404356],\"marker\":{\"size\":1},\"mode\":\"lines\",\"type\":\"scattermapbox\"},{\"lat\":[37.1788,36.619609],\"line\":{\"color\":\"blue\"},\"lon\":[-82.695,-82.953005],\"marker\":{\"size\":1},\"mode\":\"lines\",\"type\":\"scattermapbox\"},{\"lat\":[34.2956,34.236398],\"line\":{\"color\":\"blue\"},\"lon\":[-99.7494,-99.788795],\"marker\":{\"size\":1},\"mode\":\"lines\",\"type\":\"scattermapbox\"},{\"lat\":[48.6031,47.933475],\"line\":{\"color\":\"blue\"},\"lon\":[-93.2977,-94.137476],\"marker\":{\"size\":1},\"mode\":\"lines\",\"type\":\"scattermapbox\"},{\"lat\":[43.196000000000005,43.93145],\"line\":{\"color\":\"blue\"},\"lon\":[-72.3001,-73.19268000000001],\"marker\":{\"size\":1},\"mode\":\"lines\",\"type\":\"scattermapbox\"},{\"lat\":[45.4093,45.52785],\"line\":{\"color\":\"blue\"},\"lon\":[-122.6847,-122.828373],\"marker\":{\"size\":1},\"mode\":\"lines\",\"type\":\"scattermapbox\"},{\"lat\":[40.7699,40.010165],\"line\":{\"color\":\"blue\"},\"lon\":[-73.9511,-74.092395],\"marker\":{\"size\":1},\"mode\":\"lines\",\"type\":\"scattermapbox\"},{\"lat\":[45.4963,45.822444],\"line\":{\"color\":\"blue\"},\"lon\":[-89.7273,-90.724743],\"marker\":{\"size\":1},\"mode\":\"lines\",\"type\":\"scattermapbox\"},{\"lat\":[38.9763,39.504407],\"line\":{\"color\":\"blue\"},\"lon\":[-87.3667,-86.55785],\"marker\":{\"size\":1},\"mode\":\"lines\",\"type\":\"scattermapbox\"},{\"lat\":[42.0158,41.066675],\"line\":{\"color\":\"blue\"},\"lon\":[-73.2913,-73.739173],\"marker\":{\"size\":1},\"mode\":\"lines\",\"type\":\"scattermapbox\"},{\"lat\":[32.5104,32.539671000000006],\"line\":{\"color\":\"blue\"},\"lon\":[-86.8138,-87.011048],\"marker\":{\"size\":1},\"mode\":\"lines\",\"type\":\"scattermapbox\"},{\"lat\":[40.4308,40.922965000000005],\"line\":{\"color\":\"blue\"},\"lon\":[-79.9205,-80.154202],\"marker\":{\"size\":1},\"mode\":\"lines\",\"type\":\"scattermapbox\"},{\"lat\":[40.2236,39.561712],\"line\":{\"color\":\"blue\"},\"lon\":[-76.538,-77.01173100000001],\"marker\":{\"size\":1},\"mode\":\"lines\",\"type\":\"scattermapbox\"},{\"lat\":[33.4783,33.634458],\"line\":{\"color\":\"blue\"},\"lon\":[-90.5142,-90.705552],\"marker\":{\"size\":1},\"mode\":\"lines\",\"type\":\"scattermapbox\"},{\"lat\":[42.2701,42.412657],\"line\":{\"color\":\"blue\"},\"lon\":[-78.6847,-77.930068],\"marker\":{\"size\":1},\"mode\":\"lines\",\"type\":\"scattermapbox\"},{\"lat\":[39.2335,38.670885],\"line\":{\"color\":\"blue\"},\"lon\":[-77.1458,-76.276323],\"marker\":{\"size\":1},\"mode\":\"lines\",\"type\":\"scattermapbox\"},{\"lat\":[38.8938,38.583559],\"line\":{\"color\":\"blue\"},\"lon\":[-86.5246,-85.802385],\"marker\":{\"size\":1},\"mode\":\"lines\",\"type\":\"scattermapbox\"},{\"lat\":[20.0271,19.552335999999997],\"line\":{\"color\":\"blue\"},\"lon\":[-155.3697,-155.200551],\"marker\":{\"size\":1},\"mode\":\"lines\",\"type\":\"scattermapbox\"},{\"lat\":[36.4992,36.133522],\"line\":{\"color\":\"blue\"},\"lon\":[-120.0936,-119.217718],\"marker\":{\"size\":1},\"mode\":\"lines\",\"type\":\"scattermapbox\"},{\"lat\":[29.5894,30.414273],\"line\":{\"color\":\"blue\"},\"lon\":[-98.5201,-99.293025],\"marker\":{\"size\":1},\"mode\":\"lines\",\"type\":\"scattermapbox\"},{\"lat\":[40.3406,40.019483],\"line\":{\"color\":\"blue\"},\"lon\":[-120.2824,-121.04008600000002],\"marker\":{\"size\":1},\"mode\":\"lines\",\"type\":\"scattermapbox\"},{\"lat\":[43.9446,43.26841],\"line\":{\"color\":\"blue\"},\"lon\":[-88.0911,-87.39777],\"marker\":{\"size\":1},\"mode\":\"lines\",\"type\":\"scattermapbox\"},{\"lat\":[40.9051,41.477262],\"line\":{\"color\":\"blue\"},\"lon\":[-73.3309,-72.732455],\"marker\":{\"size\":1},\"mode\":\"lines\",\"type\":\"scattermapbox\"},{\"lat\":[44.0978,44.683126],\"line\":{\"color\":\"blue\"},\"lon\":[-72.0191,-73.004986],\"marker\":{\"size\":1},\"mode\":\"lines\",\"type\":\"scattermapbox\"},{\"lat\":[41.0935,41.801745],\"line\":{\"color\":\"blue\"},\"lon\":[-81.0425,-80.935959],\"marker\":{\"size\":1},\"mode\":\"lines\",\"type\":\"scattermapbox\"},{\"lat\":[43.0048,42.511557],\"line\":{\"color\":\"blue\"},\"lon\":[-108.8964,-108.048935],\"marker\":{\"size\":1},\"mode\":\"lines\",\"type\":\"scattermapbox\"},{\"lat\":[43.0351,43.667944],\"line\":{\"color\":\"blue\"},\"lon\":[-108.2024,-107.871606],\"marker\":{\"size\":1},\"mode\":\"lines\",\"type\":\"scattermapbox\"},{\"lat\":[43.7575,43.597874],\"line\":{\"color\":\"blue\"},\"lon\":[-122.481,-121.676939],\"marker\":{\"size\":1},\"mode\":\"lines\",\"type\":\"scattermapbox\"},{\"lat\":[39.8936,40.211199],\"line\":{\"color\":\"blue\"},\"lon\":[-79.7856,-80.057713],\"marker\":{\"size\":1},\"mode\":\"lines\",\"type\":\"scattermapbox\"},{\"lat\":[31.2462,30.718043],\"line\":{\"color\":\"blue\"},\"lon\":[-83.6549,-84.608785],\"marker\":{\"size\":1},\"mode\":\"lines\",\"type\":\"scattermapbox\"},{\"lat\":[40.0113,40.249592],\"line\":{\"color\":\"blue\"},\"lon\":[-80.9701,-80.112719],\"marker\":{\"size\":1},\"mode\":\"lines\",\"type\":\"scattermapbox\"},{\"lat\":[32.153,32.90533],\"line\":{\"color\":\"blue\"},\"lon\":[-90.1217,-89.41199499999999],\"marker\":{\"size\":1},\"mode\":\"lines\",\"type\":\"scattermapbox\"},{\"lat\":[30.4066,30.963271],\"line\":{\"color\":\"blue\"},\"lon\":[-91.1468,-91.182105],\"marker\":{\"size\":1},\"mode\":\"lines\",\"type\":\"scattermapbox\"},{\"lat\":[39.9972,40.219405],\"line\":{\"color\":\"blue\"},\"lon\":[-88.6962,-87.77270899999999],\"marker\":{\"size\":1},\"mode\":\"lines\",\"type\":\"scattermapbox\"},{\"lat\":[48.2777,48.438901],\"line\":{\"color\":\"blue\"},\"lon\":[-112.8456,-113.053314],\"marker\":{\"size\":1},\"mode\":\"lines\",\"type\":\"scattermapbox\"},{\"lat\":[46.5901,46.284846],\"line\":{\"color\":\"blue\"},\"lon\":[-117.1692,-117.690328],\"marker\":{\"size\":1},\"mode\":\"lines\",\"type\":\"scattermapbox\"},{\"lat\":[44.8605,45.618205],\"line\":{\"color\":\"blue\"},\"lon\":[-85.8138,-86.069383],\"marker\":{\"size\":1},\"mode\":\"lines\",\"type\":\"scattermapbox\"},{\"lat\":[33.3305,34.065492],\"line\":{\"color\":\"blue\"},\"lon\":[-105.6933,-105.067806],\"marker\":{\"size\":1},\"mode\":\"lines\",\"type\":\"scattermapbox\"},{\"lat\":[32.955,33.265907],\"line\":{\"color\":\"blue\"},\"lon\":[-92.587,-93.320092],\"marker\":{\"size\":1},\"mode\":\"lines\",\"type\":\"scattermapbox\"},{\"lat\":[48.6031,48.692833],\"line\":{\"color\":\"blue\"},\"lon\":[-93.2977,-93.412516],\"marker\":{\"size\":1},\"mode\":\"lines\",\"type\":\"scattermapbox\"},{\"lat\":[36.6659,35.765453],\"line\":{\"color\":\"blue\"},\"lon\":[-105.4694,-104.953767],\"marker\":{\"size\":1},\"mode\":\"lines\",\"type\":\"scattermapbox\"},{\"lat\":[39.0298,38.980391999999995],\"line\":{\"color\":\"blue\"},\"lon\":[-77.0793,-77.157364],\"marker\":{\"size\":1},\"mode\":\"lines\",\"type\":\"scattermapbox\"},{\"lat\":[33.1194,33.061817],\"line\":{\"color\":\"blue\"},\"lon\":[-83.8235,-83.640915],\"marker\":{\"size\":1},\"mode\":\"lines\",\"type\":\"scattermapbox\"},{\"lat\":[42.73,42.769732],\"line\":{\"color\":\"blue\"},\"lon\":[-104.7024,-105.21551399999998],\"marker\":{\"size\":1},\"mode\":\"lines\",\"type\":\"scattermapbox\"},{\"lat\":[34.2853,34.238152],\"line\":{\"color\":\"blue\"},\"lon\":[-91.3336,-90.724941],\"marker\":{\"size\":1},\"mode\":\"lines\",\"type\":\"scattermapbox\"},{\"lat\":[42.4048,41.68162],\"line\":{\"color\":\"blue\"},\"lon\":[-88.3054,-88.14836],\"marker\":{\"size\":1},\"mode\":\"lines\",\"type\":\"scattermapbox\"},{\"lat\":[45.3099,44.354812],\"line\":{\"color\":\"blue\"},\"lon\":[-122.9685,-123.738238],\"marker\":{\"size\":1},\"mode\":\"lines\",\"type\":\"scattermapbox\"},{\"lat\":[33.4783,34.466575],\"line\":{\"color\":\"blue\"},\"lon\":[-90.5142,-89.575585],\"marker\":{\"size\":1},\"mode\":\"lines\",\"type\":\"scattermapbox\"},{\"lat\":[38.097,38.354151],\"line\":{\"color\":\"blue\"},\"lon\":[-86.1723,-85.86211999999999],\"marker\":{\"size\":1},\"mode\":\"lines\",\"type\":\"scattermapbox\"},{\"lat\":[47.9657,48.071404],\"line\":{\"color\":\"blue\"},\"lon\":[-116.868,-117.44557],\"marker\":{\"size\":1},\"mode\":\"lines\",\"type\":\"scattermapbox\"},{\"lat\":[40.0994,39.952764],\"line\":{\"color\":\"blue\"},\"lon\":[-89.9601,-88.970085],\"marker\":{\"size\":1},\"mode\":\"lines\",\"type\":\"scattermapbox\"},{\"lat\":[30.1886,30.873751],\"line\":{\"color\":\"blue\"},\"lon\":[-103.2214,-103.404759],\"marker\":{\"size\":1},\"mode\":\"lines\",\"type\":\"scattermapbox\"},{\"lat\":[44.2529,43.622834999999995],\"line\":{\"color\":\"blue\"},\"lon\":[-85.01700000000001,-85.772335],\"marker\":{\"size\":1},\"mode\":\"lines\",\"type\":\"scattermapbox\"},{\"lat\":[32.5104,32.529658000000005],\"line\":{\"color\":\"blue\"},\"lon\":[-86.8138,-86.241487],\"marker\":{\"size\":1},\"mode\":\"lines\",\"type\":\"scattermapbox\"},{\"lat\":[43.5335,43.296302],\"line\":{\"color\":\"blue\"},\"lon\":[-96.3645,-95.399396],\"marker\":{\"size\":1},\"mode\":\"lines\",\"type\":\"scattermapbox\"},{\"lat\":[36.8347,37.765073],\"line\":{\"color\":\"blue\"},\"lon\":[-84.4436,-84.02883100000001],\"marker\":{\"size\":1},\"mode\":\"lines\",\"type\":\"scattermapbox\"},{\"lat\":[35.584,34.802307],\"line\":{\"color\":\"blue\"},\"lon\":[-80.8685,-80.570646],\"marker\":{\"size\":1},\"mode\":\"lines\",\"type\":\"scattermapbox\"},{\"lat\":[41.0767,40.669382],\"line\":{\"color\":\"blue\"},\"lon\":[-74.5982,-73.67015699999999],\"marker\":{\"size\":1},\"mode\":\"lines\",\"type\":\"scattermapbox\"},{\"lat\":[27.9611,27.085171000000003],\"line\":{\"color\":\"blue\"},\"lon\":[-81.9398,-81.046949],\"marker\":{\"size\":1},\"mode\":\"lines\",\"type\":\"scattermapbox\"},{\"lat\":[34.0287,33.779969],\"line\":{\"color\":\"blue\"},\"lon\":[-118.4924,-119.045319],\"marker\":{\"size\":1},\"mode\":\"lines\",\"type\":\"scattermapbox\"},{\"lat\":[42.0716,41.922663],\"line\":{\"color\":\"blue\"},\"lon\":[-75.0152,-75.173665],\"marker\":{\"size\":1},\"mode\":\"lines\",\"type\":\"scattermapbox\"},{\"lat\":[40.5553,41.232116],\"line\":{\"color\":\"blue\"},\"lon\":[-77.4001,-76.992974],\"marker\":{\"size\":1},\"mode\":\"lines\",\"type\":\"scattermapbox\"},{\"lat\":[42.18899999999999,41.360149],\"line\":{\"color\":\"blue\"},\"lon\":[-74.9229,-74.643915],\"marker\":{\"size\":1},\"mode\":\"lines\",\"type\":\"scattermapbox\"},{\"lat\":[33.8084,33.04896],\"line\":{\"color\":\"blue\"},\"lon\":[-81.5956,-82.50205600000001],\"marker\":{\"size\":1},\"mode\":\"lines\",\"type\":\"scattermapbox\"},{\"lat\":[38.8881,37.920191],\"line\":{\"color\":\"blue\"},\"lon\":[-104.6556,-104.007111],\"marker\":{\"size\":1},\"mode\":\"lines\",\"type\":\"scattermapbox\"},{\"lat\":[45.7549,44.994914],\"line\":{\"color\":\"blue\"},\"lon\":[-84.447,-83.921867],\"marker\":{\"size\":1},\"mode\":\"lines\",\"type\":\"scattermapbox\"},{\"lat\":[39.013000000000005,38.598443],\"line\":{\"color\":\"blue\"},\"lon\":[-86.5457,-86.343271],\"marker\":{\"size\":1},\"mode\":\"lines\",\"type\":\"scattermapbox\"},{\"lat\":[37.1788,37.532538],\"line\":{\"color\":\"blue\"},\"lon\":[-82.695,-82.348327],\"marker\":{\"size\":1},\"mode\":\"lines\",\"type\":\"scattermapbox\"},{\"lat\":[35.8312,35.400372999999995],\"line\":{\"color\":\"blue\"},\"lon\":[-94.1187,-93.180348],\"marker\":{\"size\":1},\"mode\":\"lines\",\"type\":\"scattermapbox\"},{\"lat\":[26.4215,25.781384],\"line\":{\"color\":\"blue\"},\"lon\":[-99.0025,-99.754729],\"marker\":{\"size\":1},\"mode\":\"lines\",\"type\":\"scattermapbox\"},{\"lat\":[32.2768,32.654253999999995],\"line\":{\"color\":\"blue\"},\"lon\":[-95.3031,-95.744085],\"marker\":{\"size\":1},\"mode\":\"lines\",\"type\":\"scattermapbox\"},{\"lat\":[44.6255,45.181221],\"line\":{\"color\":\"blue\"},\"lon\":[-116.4493,-115.468509],\"marker\":{\"size\":1},\"mode\":\"lines\",\"type\":\"scattermapbox\"},{\"lat\":[32.153,31.357311],\"line\":{\"color\":\"blue\"},\"lon\":[-90.1217,-89.522559],\"marker\":{\"size\":1},\"mode\":\"lines\",\"type\":\"scattermapbox\"},{\"lat\":[38.2586,37.513369],\"line\":{\"color\":\"blue\"},\"lon\":[-78.4074,-78.939155],\"marker\":{\"size\":1},\"mode\":\"lines\",\"type\":\"scattermapbox\"},{\"lat\":[34.8698,35.857124],\"line\":{\"color\":\"blue\"},\"lon\":[-100.6806,-100.821722],\"marker\":{\"size\":1},\"mode\":\"lines\",\"type\":\"scattermapbox\"},{\"lat\":[30.9416,30.482287],\"line\":{\"color\":\"blue\"},\"lon\":[-83.3574,-82.495786],\"marker\":{\"size\":1},\"mode\":\"lines\",\"type\":\"scattermapbox\"},{\"lat\":[33.9845,33.15011],\"line\":{\"color\":\"blue\"},\"lon\":[-85.9077,-85.358187],\"marker\":{\"size\":1},\"mode\":\"lines\",\"type\":\"scattermapbox\"},{\"lat\":[40.1159,39.720709],\"line\":{\"color\":\"blue\"},\"lon\":[-74.8536,-74.536876],\"marker\":{\"size\":1},\"mode\":\"lines\",\"type\":\"scattermapbox\"},{\"lat\":[38.2911,37.958690999999995],\"line\":{\"color\":\"blue\"},\"lon\":[-92.7059,-92.423215],\"marker\":{\"size\":1},\"mode\":\"lines\",\"type\":\"scattermapbox\"},{\"lat\":[33.4783,33.468911999999996],\"line\":{\"color\":\"blue\"},\"lon\":[-90.5142,-90.744914],\"marker\":{\"size\":1},\"mode\":\"lines\",\"type\":\"scattermapbox\"},{\"lat\":[40.7687,41.230669],\"line\":{\"color\":\"blue\"},\"lon\":[-80.3592,-80.21525],\"marker\":{\"size\":1},\"mode\":\"lines\",\"type\":\"scattermapbox\"},{\"lat\":[34.2651,34.914814],\"line\":{\"color\":\"blue\"},\"lon\":[-77.867,-78.62236899999999],\"marker\":{\"size\":1},\"mode\":\"lines\",\"type\":\"scattermapbox\"},{\"lat\":[39.7562,40.108405],\"line\":{\"color\":\"blue\"},\"lon\":[-98.4462,-98.449762],\"marker\":{\"size\":1},\"mode\":\"lines\",\"type\":\"scattermapbox\"},{\"lat\":[32.3374,31.520566],\"line\":{\"color\":\"blue\"},\"lon\":[-86.2715,-86.79809499999999],\"marker\":{\"size\":1},\"mode\":\"lines\",\"type\":\"scattermapbox\"},{\"lat\":[48.6031,49.558329],\"line\":{\"color\":\"blue\"},\"lon\":[-93.2977,-93.255338],\"marker\":{\"size\":1},\"mode\":\"lines\",\"type\":\"scattermapbox\"},{\"lat\":[32.153,32.653939],\"line\":{\"color\":\"blue\"},\"lon\":[-90.1217,-90.244531],\"marker\":{\"size\":1},\"mode\":\"lines\",\"type\":\"scattermapbox\"},{\"lat\":[41.5403,41.958102],\"line\":{\"color\":\"blue\"},\"lon\":[-122.9366,-122.701158],\"marker\":{\"size\":1},\"mode\":\"lines\",\"type\":\"scattermapbox\"},{\"lat\":[46.2306,45.355093],\"line\":{\"color\":\"blue\"},\"lon\":[-112.1138,-111.254156],\"marker\":{\"size\":1},\"mode\":\"lines\",\"type\":\"scattermapbox\"},{\"lat\":[39.1505,39.788165],\"line\":{\"color\":\"blue\"},\"lon\":[-79.503,-79.905091],\"marker\":{\"size\":1},\"mode\":\"lines\",\"type\":\"scattermapbox\"},{\"lat\":[34.3424,34.638999],\"line\":{\"color\":\"blue\"},\"lon\":[-80.5,-80.81379],\"marker\":{\"size\":1},\"mode\":\"lines\",\"type\":\"scattermapbox\"},{\"lat\":[36.1043,36.894991999999995],\"line\":{\"color\":\"blue\"},\"lon\":[-97.0609,-97.699774],\"marker\":{\"size\":1},\"mode\":\"lines\",\"type\":\"scattermapbox\"},{\"lat\":[45.4963,45.935831],\"line\":{\"color\":\"blue\"},\"lon\":[-89.7273,-90.476387],\"marker\":{\"size\":1},\"mode\":\"lines\",\"type\":\"scattermapbox\"},{\"lat\":[37.6223,37.310741],\"line\":{\"color\":\"blue\"},\"lon\":[-97.3136,-97.653134],\"marker\":{\"size\":1},\"mode\":\"lines\",\"type\":\"scattermapbox\"},{\"lat\":[39.013000000000005,39.251985999999995],\"line\":{\"color\":\"blue\"},\"lon\":[-86.5457,-86.21220600000001],\"marker\":{\"size\":1},\"mode\":\"lines\",\"type\":\"scattermapbox\"},{\"lat\":[45.6675,46.334754],\"line\":{\"color\":\"blue\"},\"lon\":[-93.2433,-93.743852],\"marker\":{\"size\":1},\"mode\":\"lines\",\"type\":\"scattermapbox\"},{\"lat\":[31.6591,30.938],\"line\":{\"color\":\"blue\"},\"lon\":[-96.8094,-96.696129],\"marker\":{\"size\":1},\"mode\":\"lines\",\"type\":\"scattermapbox\"},{\"lat\":[34.3795,33.641740000000006],\"line\":{\"color\":\"blue\"},\"lon\":[-118.523,-118.54348799999998],\"marker\":{\"size\":1},\"mode\":\"lines\",\"type\":\"scattermapbox\"},{\"lat\":[33.5623,34.303067],\"line\":{\"color\":\"blue\"},\"lon\":[-112.0559,-112.358126],\"marker\":{\"size\":1},\"mode\":\"lines\",\"type\":\"scattermapbox\"},{\"lat\":[31.6591,32.542003],\"line\":{\"color\":\"blue\"},\"lon\":[-96.8094,-96.108789],\"marker\":{\"size\":1},\"mode\":\"lines\",\"type\":\"scattermapbox\"},{\"lat\":[26.7383,26.736229],\"line\":{\"color\":\"blue\"},\"lon\":[-80.27600000000001,-79.762914],\"marker\":{\"size\":1},\"mode\":\"lines\",\"type\":\"scattermapbox\"},{\"lat\":[44.8816,44.288439],\"line\":{\"color\":\"blue\"},\"lon\":[-73.6408,-73.614458],\"marker\":{\"size\":1},\"mode\":\"lines\",\"type\":\"scattermapbox\"},{\"lat\":[40.6729,40.052093],\"line\":{\"color\":\"blue\"},\"lon\":[-73.5365,-74.321854],\"marker\":{\"size\":1},\"mode\":\"lines\",\"type\":\"scattermapbox\"},{\"lat\":[38.4207,37.819091],\"line\":{\"color\":\"blue\"},\"lon\":[-79.4629,-79.04227900000001],\"marker\":{\"size\":1},\"mode\":\"lines\",\"type\":\"scattermapbox\"},{\"lat\":[40.7491,39.95833],\"line\":{\"color\":\"blue\"},\"lon\":[-95.038,-94.223935],\"marker\":{\"size\":1},\"mode\":\"lines\",\"type\":\"scattermapbox\"},{\"lat\":[34.5091,33.99304],\"line\":{\"color\":\"blue\"},\"lon\":[-92.4828,-91.838962],\"marker\":{\"size\":1},\"mode\":\"lines\",\"type\":\"scattermapbox\"},{\"lat\":[38.2586,37.816178],\"line\":{\"color\":\"blue\"},\"lon\":[-78.4074,-77.92626899999999],\"marker\":{\"size\":1},\"mode\":\"lines\",\"type\":\"scattermapbox\"},{\"lat\":[37.2409,37.767687],\"line\":{\"color\":\"blue\"},\"lon\":[-82.7696,-83.52117199999999],\"marker\":{\"size\":1},\"mode\":\"lines\",\"type\":\"scattermapbox\"},{\"lat\":[44.3566,44.221284999999995],\"line\":{\"color\":\"blue\"},\"lon\":[-103.6999,-103.130462],\"marker\":{\"size\":1},\"mode\":\"lines\",\"type\":\"scattermapbox\"},{\"lat\":[34.7789,34.000426000000004],\"line\":{\"color\":\"blue\"},\"lon\":[-86.5438,-85.98273499999999],\"marker\":{\"size\":1},\"mode\":\"lines\",\"type\":\"scattermapbox\"},{\"lat\":[36.802,36.813675],\"line\":{\"color\":\"blue\"},\"lon\":[-87.8286,-88.755394],\"marker\":{\"size\":1},\"mode\":\"lines\",\"type\":\"scattermapbox\"},{\"lat\":[41.173,41.740085],\"line\":{\"color\":\"blue\"},\"lon\":[-89.2187,-89.503578],\"marker\":{\"size\":1},\"mode\":\"lines\",\"type\":\"scattermapbox\"},{\"lat\":[39.283,39.733776],\"line\":{\"color\":\"blue\"},\"lon\":[-82.3977,-82.510465],\"marker\":{\"size\":1},\"mode\":\"lines\",\"type\":\"scattermapbox\"},{\"lat\":[34.7789,35.373915000000004],\"line\":{\"color\":\"blue\"},\"lon\":[-86.5438,-86.29539100000001],\"marker\":{\"size\":1},\"mode\":\"lines\",\"type\":\"scattermapbox\"},{\"lat\":[39.1505,39.987165999999995],\"line\":{\"color\":\"blue\"},\"lon\":[-79.503,-78.556574],\"marker\":{\"size\":1},\"mode\":\"lines\",\"type\":\"scattermapbox\"},{\"lat\":[37.3272,36.336825],\"line\":{\"color\":\"blue\"},\"lon\":[-91.0243,-90.726825],\"marker\":{\"size\":1},\"mode\":\"lines\",\"type\":\"scattermapbox\"},{\"lat\":[37.0581,36.957589],\"line\":{\"color\":\"blue\"},\"lon\":[-86.1938,-86.244127],\"marker\":{\"size\":1},\"mode\":\"lines\",\"type\":\"scattermapbox\"},{\"lat\":[41.2001,40.43714],\"line\":{\"color\":\"blue\"},\"lon\":[-92.1354,-92.86213],\"marker\":{\"size\":1},\"mode\":\"lines\",\"type\":\"scattermapbox\"},{\"lat\":[41.173,41.603817],\"line\":{\"color\":\"blue\"},\"lon\":[-89.2187,-89.459581],\"marker\":{\"size\":1},\"mode\":\"lines\",\"type\":\"scattermapbox\"},{\"lat\":[38.9621,38.081182],\"line\":{\"color\":\"blue\"},\"lon\":[-94.5959,-95.419453],\"marker\":{\"size\":1},\"mode\":\"lines\",\"type\":\"scattermapbox\"},{\"lat\":[43.6718,43.704421999999994],\"line\":{\"color\":\"blue\"},\"lon\":[-89.1918,-88.954426],\"marker\":{\"size\":1},\"mode\":\"lines\",\"type\":\"scattermapbox\"},{\"lat\":[31.8287,31.271679],\"line\":{\"color\":\"blue\"},\"lon\":[-99.427,-100.043977],\"marker\":{\"size\":1},\"mode\":\"lines\",\"type\":\"scattermapbox\"},{\"lat\":[43.6498,42.896458],\"line\":{\"color\":\"blue\"},\"lon\":[-116.4306,-115.668282],\"marker\":{\"size\":1},\"mode\":\"lines\",\"type\":\"scattermapbox\"},{\"lat\":[28.5697,28.285411],\"line\":{\"color\":\"blue\"},\"lon\":[-80.8191,-81.032886],\"marker\":{\"size\":1},\"mode\":\"lines\",\"type\":\"scattermapbox\"},{\"lat\":[43.7557,43.700181],\"line\":{\"color\":\"blue\"},\"lon\":[-97.5936,-97.053069],\"marker\":{\"size\":1},\"mode\":\"lines\",\"type\":\"scattermapbox\"},{\"lat\":[39.7532,39.079046000000005],\"line\":{\"color\":\"blue\"},\"lon\":[-105.6356,-105.778496],\"marker\":{\"size\":1},\"mode\":\"lines\",\"type\":\"scattermapbox\"},{\"lat\":[40.1008,39.11608],\"line\":{\"color\":\"blue\"},\"lon\":[-80.0652,-79.718502],\"marker\":{\"size\":1},\"mode\":\"lines\",\"type\":\"scattermapbox\"},{\"lat\":[44.8232,44.158795],\"line\":{\"color\":\"blue\"},\"lon\":[-89.1665,-88.817113],\"marker\":{\"size\":1},\"mode\":\"lines\",\"type\":\"scattermapbox\"},{\"lat\":[37.9943,38.468323],\"line\":{\"color\":\"blue\"},\"lon\":[-88.9417,-89.026758],\"marker\":{\"size\":1},\"mode\":\"lines\",\"type\":\"scattermapbox\"},{\"lat\":[39.4055,40.238543],\"line\":{\"color\":\"blue\"},\"lon\":[-75.3209,-75.342576],\"marker\":{\"size\":1},\"mode\":\"lines\",\"type\":\"scattermapbox\"},{\"lat\":[44.6084,44.965369],\"line\":{\"color\":\"blue\"},\"lon\":[-70.6993,-71.018934],\"marker\":{\"size\":1},\"mode\":\"lines\",\"type\":\"scattermapbox\"},{\"lat\":[41.1464,40.497779],\"line\":{\"color\":\"blue\"},\"lon\":[-81.5107,-82.09609300000001],\"marker\":{\"size\":1},\"mode\":\"lines\",\"type\":\"scattermapbox\"},{\"lat\":[43.3392,43.586021],\"line\":{\"color\":\"blue\"},\"lon\":[-75.7543,-74.870475],\"marker\":{\"size\":1},\"mode\":\"lines\",\"type\":\"scattermapbox\"},{\"lat\":[26.9379,26.75906],\"line\":{\"color\":\"blue\"},\"lon\":[-82.2388,-81.347597],\"marker\":{\"size\":1},\"mode\":\"lines\",\"type\":\"scattermapbox\"},{\"lat\":[42.2203,42.39683],\"line\":{\"color\":\"blue\"},\"lon\":[-83.3583,-82.605827],\"marker\":{\"size\":1},\"mode\":\"lines\",\"type\":\"scattermapbox\"},{\"lat\":[36.6966,36.24561],\"line\":{\"color\":\"blue\"},\"lon\":[-96.7869,-96.528137],\"marker\":{\"size\":1},\"mode\":\"lines\",\"type\":\"scattermapbox\"},{\"lat\":[30.4066,30.937154],\"line\":{\"color\":\"blue\"},\"lon\":[-91.1468,-90.51859],\"marker\":{\"size\":1},\"mode\":\"lines\",\"type\":\"scattermapbox\"},{\"lat\":[37.0581,37.880468],\"line\":{\"color\":\"blue\"},\"lon\":[-86.1938,-85.88794399999999],\"marker\":{\"size\":1},\"mode\":\"lines\",\"type\":\"scattermapbox\"},{\"lat\":[40.9918,40.538419],\"line\":{\"color\":\"blue\"},\"lon\":[-73.98,-73.154287],\"marker\":{\"size\":1},\"mode\":\"lines\",\"type\":\"scattermapbox\"},{\"lat\":[43.3526,42.499752],\"line\":{\"color\":\"blue\"},\"lon\":[-102.5411,-101.936292],\"marker\":{\"size\":1},\"mode\":\"lines\",\"type\":\"scattermapbox\"},{\"lat\":[42.2619,42.646739],\"line\":{\"color\":\"blue\"},\"lon\":[-94.5566,-95.173665],\"marker\":{\"size\":1},\"mode\":\"lines\",\"type\":\"scattermapbox\"},{\"lat\":[30.9416,30.115808],\"line\":{\"color\":\"blue\"},\"lon\":[-83.3574,-83.899989],\"marker\":{\"size\":1},\"mode\":\"lines\",\"type\":\"scattermapbox\"},{\"lat\":[40.8265,41.324148],\"line\":{\"color\":\"blue\"},\"lon\":[-73.9383,-74.28794],\"marker\":{\"size\":1},\"mode\":\"lines\",\"type\":\"scattermapbox\"},{\"lat\":[40.0987,39.811572],\"line\":{\"color\":\"blue\"},\"lon\":[-84.6342,-85.281355],\"marker\":{\"size\":1},\"mode\":\"lines\",\"type\":\"scattermapbox\"},{\"lat\":[38.5234,38.92042],\"line\":{\"color\":\"blue\"},\"lon\":[-120.6763,-120.52949],\"marker\":{\"size\":1},\"mode\":\"lines\",\"type\":\"scattermapbox\"},{\"lat\":[30.592,31.308641],\"line\":{\"color\":\"blue\"},\"lon\":[-97.2893,-96.586306],\"marker\":{\"size\":1},\"mode\":\"lines\",\"type\":\"scattermapbox\"},{\"lat\":[41.0646,40.071517],\"line\":{\"color\":\"blue\"},\"lon\":[-87.5917,-86.780629],\"marker\":{\"size\":1},\"mode\":\"lines\",\"type\":\"scattermapbox\"},{\"lat\":[43.8065,42.893767],\"line\":{\"color\":\"blue\"},\"lon\":[-73.0882,-73.20872],\"marker\":{\"size\":1},\"mode\":\"lines\",\"type\":\"scattermapbox\"},{\"lat\":[40.333,39.816395],\"line\":{\"color\":\"blue\"},\"lon\":[-73.9809,-73.85365999999999],\"marker\":{\"size\":1},\"mode\":\"lines\",\"type\":\"scattermapbox\"},{\"lat\":[30.2816,29.658237],\"line\":{\"color\":\"blue\"},\"lon\":[-99.241,-98.500318],\"marker\":{\"size\":1},\"mode\":\"lines\",\"type\":\"scattermapbox\"},{\"lat\":[35.0583,34.464158000000005],\"line\":{\"color\":\"blue\"},\"lon\":[-79.008,-79.528425],\"marker\":{\"size\":1},\"mode\":\"lines\",\"type\":\"scattermapbox\"},{\"lat\":[34.7032,34.037431],\"line\":{\"color\":\"blue\"},\"lon\":[-98.9591,-98.176826],\"marker\":{\"size\":1},\"mode\":\"lines\",\"type\":\"scattermapbox\"},{\"lat\":[48.4786,49.011344],\"line\":{\"color\":\"blue\"},\"lon\":[-122.3345,-121.802865],\"marker\":{\"size\":1},\"mode\":\"lines\",\"type\":\"scattermapbox\"},{\"lat\":[37.9943,38.294255],\"line\":{\"color\":\"blue\"},\"lon\":[-88.9417,-89.410213],\"marker\":{\"size\":1},\"mode\":\"lines\",\"type\":\"scattermapbox\"},{\"lat\":[39.013000000000005,39.377949],\"line\":{\"color\":\"blue\"},\"lon\":[-86.5457,-87.345548],\"marker\":{\"size\":1},\"mode\":\"lines\",\"type\":\"scattermapbox\"},{\"lat\":[34.5444,34.249145],\"line\":{\"color\":\"blue\"},\"lon\":[-102.1069,-101.773751],\"marker\":{\"size\":1},\"mode\":\"lines\",\"type\":\"scattermapbox\"},{\"lat\":[34.5444,35.205524],\"line\":{\"color\":\"blue\"},\"lon\":[-102.1069,-102.191564],\"marker\":{\"size\":1},\"mode\":\"lines\",\"type\":\"scattermapbox\"},{\"lat\":[48.4786,48.116007],\"line\":{\"color\":\"blue\"},\"lon\":[-122.3345,-123.212642],\"marker\":{\"size\":1},\"mode\":\"lines\",\"type\":\"scattermapbox\"},{\"lat\":[33.4783,34.43277],\"line\":{\"color\":\"blue\"},\"lon\":[-90.5142,-90.776463],\"marker\":{\"size\":1},\"mode\":\"lines\",\"type\":\"scattermapbox\"},{\"lat\":[42.7012,42.196847],\"line\":{\"color\":\"blue\"},\"lon\":[-92.0762,-92.641673],\"marker\":{\"size\":1},\"mode\":\"lines\",\"type\":\"scattermapbox\"},{\"lat\":[41.5744,41.810905],\"line\":{\"color\":\"blue\"},\"lon\":[-75.5881,-76.129768],\"marker\":{\"size\":1},\"mode\":\"lines\",\"type\":\"scattermapbox\"},{\"lat\":[39.047,38.481435999999995],\"line\":{\"color\":\"blue\"},\"lon\":[-122.9328,-123.853643],\"marker\":{\"size\":1},\"mode\":\"lines\",\"type\":\"scattermapbox\"},{\"lat\":[37.6395,37.848883],\"line\":{\"color\":\"blue\"},\"lon\":[-97.1714,-97.269337],\"marker\":{\"size\":1},\"mode\":\"lines\",\"type\":\"scattermapbox\"},{\"lat\":[38.138000000000005,38.387637],\"line\":{\"color\":\"blue\"},\"lon\":[-89.2231,-88.871888],\"marker\":{\"size\":1},\"mode\":\"lines\",\"type\":\"scattermapbox\"},{\"lat\":[45.7801,45.437771999999995],\"line\":{\"color\":\"blue\"},\"lon\":[-111.1439,-111.354704],\"marker\":{\"size\":1},\"mode\":\"lines\",\"type\":\"scattermapbox\"},{\"lat\":[31.4285,30.688723],\"line\":{\"color\":\"blue\"},\"lon\":[-90.8578,-91.09643],\"marker\":{\"size\":1},\"mode\":\"lines\",\"type\":\"scattermapbox\"},{\"lat\":[35.8759,35.087447999999995],\"line\":{\"color\":\"blue\"},\"lon\":[-96.9623,-97.179117],\"marker\":{\"size\":1},\"mode\":\"lines\",\"type\":\"scattermapbox\"},{\"lat\":[40.7641,40.334678],\"line\":{\"color\":\"blue\"},\"lon\":[-84.0973,-84.345589],\"marker\":{\"size\":1},\"mode\":\"lines\",\"type\":\"scattermapbox\"},{\"lat\":[29.3641,29.298754],\"line\":{\"color\":\"blue\"},\"lon\":[-98.4924,-99.265945],\"marker\":{\"size\":1},\"mode\":\"lines\",\"type\":\"scattermapbox\"},{\"lat\":[36.2835,37.092671],\"line\":{\"color\":\"blue\"},\"lon\":[-87.4581,-88.2705],\"marker\":{\"size\":1},\"mode\":\"lines\",\"type\":\"scattermapbox\"},{\"lat\":[32.153,32.274895],\"line\":{\"color\":\"blue\"},\"lon\":[-90.1217,-91.10764],\"marker\":{\"size\":1},\"mode\":\"lines\",\"type\":\"scattermapbox\"},{\"lat\":[38.9424,39.781318],\"line\":{\"color\":\"blue\"},\"lon\":[-84.09200000000001,-84.12144],\"marker\":{\"size\":1},\"mode\":\"lines\",\"type\":\"scattermapbox\"},{\"lat\":[44.3481,43.720554],\"line\":{\"color\":\"blue\"},\"lon\":[-89.1101,-89.012088],\"marker\":{\"size\":1},\"mode\":\"lines\",\"type\":\"scattermapbox\"},{\"lat\":[44.1111,45.069278999999995],\"line\":{\"color\":\"blue\"},\"lon\":[-94.9134,-94.301696],\"marker\":{\"size\":1},\"mode\":\"lines\",\"type\":\"scattermapbox\"},{\"lat\":[39.6967,39.094786],\"line\":{\"color\":\"blue\"},\"lon\":[-78.8031,-78.424397],\"marker\":{\"size\":1},\"mode\":\"lines\",\"type\":\"scattermapbox\"},{\"lat\":[40.9115,40.244766],\"line\":{\"color\":\"blue\"},\"lon\":[-74.414,-74.84823399999999],\"marker\":{\"size\":1},\"mode\":\"lines\",\"type\":\"scattermapbox\"},{\"lat\":[39.8936,39.763376],\"line\":{\"color\":\"blue\"},\"lon\":[-79.7856,-79.42666700000001],\"marker\":{\"size\":1},\"mode\":\"lines\",\"type\":\"scattermapbox\"},{\"lat\":[33.3364,34.128758000000005],\"line\":{\"color\":\"blue\"},\"lon\":[-80.1859,-79.85131899999999],\"marker\":{\"size\":1},\"mode\":\"lines\",\"type\":\"scattermapbox\"},{\"lat\":[39.0298,38.037036],\"line\":{\"color\":\"blue\"},\"lon\":[-77.0793,-77.587477],\"marker\":{\"size\":1},\"mode\":\"lines\",\"type\":\"scattermapbox\"},{\"lat\":[35.8072,35.977821999999996],\"line\":{\"color\":\"blue\"},\"lon\":[-78.0892,-78.252434],\"marker\":{\"size\":1},\"mode\":\"lines\",\"type\":\"scattermapbox\"},{\"lat\":[27.4703,27.633331],\"line\":{\"color\":\"blue\"},\"lon\":[-81.4872,-82.195196],\"marker\":{\"size\":1},\"mode\":\"lines\",\"type\":\"scattermapbox\"},{\"lat\":[41.36600000000001,41.289621999999994],\"line\":{\"color\":\"blue\"},\"lon\":[-98.0054,-97.084009],\"marker\":{\"size\":1},\"mode\":\"lines\",\"type\":\"scattermapbox\"},{\"lat\":[35.8985,35.272397999999995],\"line\":{\"color\":\"blue\"},\"lon\":[-97.2607,-98.121239],\"marker\":{\"size\":1},\"mode\":\"lines\",\"type\":\"scattermapbox\"},{\"lat\":[45.3637,45.285428],\"line\":{\"color\":\"blue\"},\"lon\":[-84.4695,-84.216233],\"marker\":{\"size\":1},\"mode\":\"lines\",\"type\":\"scattermapbox\"},{\"lat\":[34.0442,33.218393],\"line\":{\"color\":\"blue\"},\"lon\":[-94.3386,-93.954552],\"marker\":{\"size\":1},\"mode\":\"lines\",\"type\":\"scattermapbox\"},{\"lat\":[39.9373,40.318157],\"line\":{\"color\":\"blue\"},\"lon\":[-79.1865,-78.39394],\"marker\":{\"size\":1},\"mode\":\"lines\",\"type\":\"scattermapbox\"},{\"lat\":[43.2893,43.668977000000005],\"line\":{\"color\":\"blue\"},\"lon\":[-97.1904,-96.359632],\"marker\":{\"size\":1},\"mode\":\"lines\",\"type\":\"scattermapbox\"},{\"lat\":[44.6437,44.09313],\"line\":{\"color\":\"blue\"},\"lon\":[-90.1031,-90.326525],\"marker\":{\"size\":1},\"mode\":\"lines\",\"type\":\"scattermapbox\"},{\"lat\":[37.9073,37.85007],\"line\":{\"color\":\"blue\"},\"lon\":[-75.5089,-76.45052700000001],\"marker\":{\"size\":1},\"mode\":\"lines\",\"type\":\"scattermapbox\"},{\"lat\":[33.615,33.924819],\"line\":{\"color\":\"blue\"},\"lon\":[-117.7114,-117.680612],\"marker\":{\"size\":1},\"mode\":\"lines\",\"type\":\"scattermapbox\"},{\"lat\":[43.9742,44.550074],\"line\":{\"color\":\"blue\"},\"lon\":[-71.1503,-70.955588],\"marker\":{\"size\":1},\"mode\":\"lines\",\"type\":\"scattermapbox\"},{\"lat\":[31.8287,32.676052],\"line\":{\"color\":\"blue\"},\"lon\":[-99.427,-99.933577],\"marker\":{\"size\":1},\"mode\":\"lines\",\"type\":\"scattermapbox\"},{\"lat\":[40.2236,40.338209],\"line\":{\"color\":\"blue\"},\"lon\":[-76.538,-77.28678199999999],\"marker\":{\"size\":1},\"mode\":\"lines\",\"type\":\"scattermapbox\"},{\"lat\":[46.9777,47.293774],\"line\":{\"color\":\"blue\"},\"lon\":[-96.4092,-97.034748],\"marker\":{\"size\":1},\"mode\":\"lines\",\"type\":\"scattermapbox\"},{\"lat\":[34.4793,34.688032],\"line\":{\"color\":\"blue\"},\"lon\":[-87.4769,-87.994837],\"marker\":{\"size\":1},\"mode\":\"lines\",\"type\":\"scattermapbox\"},{\"lat\":[38.8881,39.454473],\"line\":{\"color\":\"blue\"},\"lon\":[-104.6556,-104.006124],\"marker\":{\"size\":1},\"mode\":\"lines\",\"type\":\"scattermapbox\"},{\"lat\":[38.1485,38.270416],\"line\":{\"color\":\"blue\"},\"lon\":[-98.6408,-98.731707],\"marker\":{\"size\":1},\"mode\":\"lines\",\"type\":\"scattermapbox\"},{\"lat\":[44.2541,44.149252],\"line\":{\"color\":\"blue\"},\"lon\":[-68.5565,-67.999471],\"marker\":{\"size\":1},\"mode\":\"lines\",\"type\":\"scattermapbox\"},{\"lat\":[41.0646,41.084436],\"line\":{\"color\":\"blue\"},\"lon\":[-87.5917,-87.882564],\"marker\":{\"size\":1},\"mode\":\"lines\",\"type\":\"scattermapbox\"},{\"lat\":[33.9143,33.541575],\"line\":{\"color\":\"blue\"},\"lon\":[-118.3493,-117.906439],\"marker\":{\"size\":1},\"mode\":\"lines\",\"type\":\"scattermapbox\"},{\"lat\":[32.4122,32.255554],\"line\":{\"color\":\"blue\"},\"lon\":[-90.1207,-90.35416],\"marker\":{\"size\":1},\"mode\":\"lines\",\"type\":\"scattermapbox\"},{\"lat\":[29.5894,29.076128000000004],\"line\":{\"color\":\"blue\"},\"lon\":[-98.5201,-97.885333],\"marker\":{\"size\":1},\"mode\":\"lines\",\"type\":\"scattermapbox\"},{\"lat\":[45.67100000000001,45.507669],\"line\":{\"color\":\"blue\"},\"lon\":[-121.8686,-122.763193],\"marker\":{\"size\":1},\"mode\":\"lines\",\"type\":\"scattermapbox\"},{\"lat\":[36.4992,37.217527],\"line\":{\"color\":\"blue\"},\"lon\":[-120.0936,-120.39611399999998],\"marker\":{\"size\":1},\"mode\":\"lines\",\"type\":\"scattermapbox\"},{\"lat\":[45.1939,45.38925],\"line\":{\"color\":\"blue\"},\"lon\":[-112.0568,-112.855993],\"marker\":{\"size\":1},\"mode\":\"lines\",\"type\":\"scattermapbox\"},{\"lat\":[41.0552,40.959447999999995],\"line\":{\"color\":\"blue\"},\"lon\":[-110.1603,-110.347714],\"marker\":{\"size\":1},\"mode\":\"lines\",\"type\":\"scattermapbox\"},{\"lat\":[40.1959,41.143857],\"line\":{\"color\":\"blue\"},\"lon\":[-92.4333,-92.86599],\"marker\":{\"size\":1},\"mode\":\"lines\",\"type\":\"scattermapbox\"},{\"lat\":[32.6205,32.623384],\"line\":{\"color\":\"blue\"},\"lon\":[-94.2,-94.272359],\"marker\":{\"size\":1},\"mode\":\"lines\",\"type\":\"scattermapbox\"},{\"lat\":[43.3526,42.733967],\"line\":{\"color\":\"blue\"},\"lon\":[-102.5411,-101.886875],\"marker\":{\"size\":1},\"mode\":\"lines\",\"type\":\"scattermapbox\"},{\"lat\":[40.1008,40.931746],\"line\":{\"color\":\"blue\"},\"lon\":[-80.0652,-79.655725],\"marker\":{\"size\":1},\"mode\":\"lines\",\"type\":\"scattermapbox\"},{\"lat\":[44.9595,44.137786],\"line\":{\"color\":\"blue\"},\"lon\":[-93.8482,-93.490224],\"marker\":{\"size\":1},\"mode\":\"lines\",\"type\":\"scattermapbox\"},{\"lat\":[32.9396,33.243301],\"line\":{\"color\":\"blue\"},\"lon\":[-105.8189,-105.629169],\"marker\":{\"size\":1},\"mode\":\"lines\",\"type\":\"scattermapbox\"},{\"lat\":[39.9961,40.567861],\"line\":{\"color\":\"blue\"},\"lon\":[-79.7678,-80.207674],\"marker\":{\"size\":1},\"mode\":\"lines\",\"type\":\"scattermapbox\"},{\"lat\":[32.6205,32.658865000000006],\"line\":{\"color\":\"blue\"},\"lon\":[-94.2,-95.123668],\"marker\":{\"size\":1},\"mode\":\"lines\",\"type\":\"scattermapbox\"},{\"lat\":[36.4715,35.503952000000005],\"line\":{\"color\":\"blue\"},\"lon\":[-82.4834,-81.540347],\"marker\":{\"size\":1},\"mode\":\"lines\",\"type\":\"scattermapbox\"},{\"lat\":[39.7532,39.865006],\"line\":{\"color\":\"blue\"},\"lon\":[-105.6356,-104.810973],\"marker\":{\"size\":1},\"mode\":\"lines\",\"type\":\"scattermapbox\"},{\"lat\":[40.6747,40.646015000000006],\"line\":{\"color\":\"blue\"},\"lon\":[-74.2239,-73.600476],\"marker\":{\"size\":1},\"mode\":\"lines\",\"type\":\"scattermapbox\"},{\"lat\":[34.047,34.684175],\"line\":{\"color\":\"blue\"},\"lon\":[-90.7652,-91.328372],\"marker\":{\"size\":1},\"mode\":\"lines\",\"type\":\"scattermapbox\"},{\"lat\":[28.0758,27.177678000000004],\"line\":{\"color\":\"blue\"},\"lon\":[-81.5929,-81.016563],\"marker\":{\"size\":1},\"mode\":\"lines\",\"type\":\"scattermapbox\"},{\"lat\":[40.0235,40.551389],\"line\":{\"color\":\"blue\"},\"lon\":[-120.7986,-121.01963],\"marker\":{\"size\":1},\"mode\":\"lines\",\"type\":\"scattermapbox\"},{\"lat\":[36.0244,35.628432000000004],\"line\":{\"color\":\"blue\"},\"lon\":[-90.9288,-90.550749],\"marker\":{\"size\":1},\"mode\":\"lines\",\"type\":\"scattermapbox\"},{\"lat\":[40.0246,40.239914],\"line\":{\"color\":\"blue\"},\"lon\":[-79.6955,-79.748796],\"marker\":{\"size\":1},\"mode\":\"lines\",\"type\":\"scattermapbox\"},{\"lat\":[24.6557,24.882659],\"line\":{\"color\":\"blue\"},\"lon\":[-81.3824,-80.636797],\"marker\":{\"size\":1},\"mode\":\"lines\",\"type\":\"scattermapbox\"},{\"lat\":[38.4207,37.551043],\"line\":{\"color\":\"blue\"},\"lon\":[-79.4629,-79.964838],\"marker\":{\"size\":1},\"mode\":\"lines\",\"type\":\"scattermapbox\"},{\"lat\":[44.2415,43.511146],\"line\":{\"color\":\"blue\"},\"lon\":[-121.0113,-120.053351],\"marker\":{\"size\":1},\"mode\":\"lines\",\"type\":\"scattermapbox\"},{\"lat\":[39.5994,38.673793],\"line\":{\"color\":\"blue\"},\"lon\":[-105.0044,-105.55636],\"marker\":{\"size\":1},\"mode\":\"lines\",\"type\":\"scattermapbox\"},{\"lat\":[40.3928,40.013341],\"line\":{\"color\":\"blue\"},\"lon\":[-111.7941,-112.416047],\"marker\":{\"size\":1},\"mode\":\"lines\",\"type\":\"scattermapbox\"},{\"lat\":[38.6411,38.148682],\"line\":{\"color\":\"blue\"},\"lon\":[-100.138,-101.129614],\"marker\":{\"size\":1},\"mode\":\"lines\",\"type\":\"scattermapbox\"},{\"lat\":[36.0557,35.707254999999996],\"line\":{\"color\":\"blue\"},\"lon\":[-96.0602,-96.503505],\"marker\":{\"size\":1},\"mode\":\"lines\",\"type\":\"scattermapbox\"},{\"lat\":[44.1111,43.784357],\"line\":{\"color\":\"blue\"},\"lon\":[-94.9134,-95.491687],\"marker\":{\"size\":1},\"mode\":\"lines\",\"type\":\"scattermapbox\"},{\"lat\":[38.8881,38.589724],\"line\":{\"color\":\"blue\"},\"lon\":[-104.6556,-104.139611],\"marker\":{\"size\":1},\"mode\":\"lines\",\"type\":\"scattermapbox\"},{\"lat\":[37.9073,38.089012],\"line\":{\"color\":\"blue\"},\"lon\":[-75.5089,-76.17111700000001],\"marker\":{\"size\":1},\"mode\":\"lines\",\"type\":\"scattermapbox\"},{\"lat\":[42.8948,42.153935],\"line\":{\"color\":\"blue\"},\"lon\":[-74.8209,-74.24543],\"marker\":{\"size\":1},\"mode\":\"lines\",\"type\":\"scattermapbox\"},{\"lat\":[35.0561,35.530985],\"line\":{\"color\":\"blue\"},\"lon\":[-106.5506,-106.509035],\"marker\":{\"size\":1},\"mode\":\"lines\",\"type\":\"scattermapbox\"},{\"lat\":[30.8836,30.755707],\"line\":{\"color\":\"blue\"},\"lon\":[-84.3246,-83.480283],\"marker\":{\"size\":1},\"mode\":\"lines\",\"type\":\"scattermapbox\"},{\"lat\":[37.8274,38.670386],\"line\":{\"color\":\"blue\"},\"lon\":[-88.6235,-87.68884399999999],\"marker\":{\"size\":1},\"mode\":\"lines\",\"type\":\"scattermapbox\"},{\"lat\":[37.7418,38.000494],\"line\":{\"color\":\"blue\"},\"lon\":[-80.4626,-79.90756999999999],\"marker\":{\"size\":1},\"mode\":\"lines\",\"type\":\"scattermapbox\"},{\"lat\":[42.9147,42.586203999999995],\"line\":{\"color\":\"blue\"},\"lon\":[-83.4845,-84.413963],\"marker\":{\"size\":1},\"mode\":\"lines\",\"type\":\"scattermapbox\"},{\"lat\":[41.1558,41.446147],\"line\":{\"color\":\"blue\"},\"lon\":[-101.136,-100.272181],\"marker\":{\"size\":1},\"mode\":\"lines\",\"type\":\"scattermapbox\"},{\"lat\":[34.3795,33.614292],\"line\":{\"color\":\"blue\"},\"lon\":[-118.523,-117.573638],\"marker\":{\"size\":1},\"mode\":\"lines\",\"type\":\"scattermapbox\"},{\"lat\":[33.0067,33.777689],\"line\":{\"color\":\"blue\"},\"lon\":[-117.069,-117.726443],\"marker\":{\"size\":1},\"mode\":\"lines\",\"type\":\"scattermapbox\"},{\"lat\":[28.9254,29.679492],\"line\":{\"color\":\"blue\"},\"lon\":[-81.6801,-81.290236],\"marker\":{\"size\":1},\"mode\":\"lines\",\"type\":\"scattermapbox\"},{\"lat\":[34.7031,34.394852],\"line\":{\"color\":\"blue\"},\"lon\":[-86.3068,-85.650906],\"marker\":{\"size\":1},\"mode\":\"lines\",\"type\":\"scattermapbox\"},{\"lat\":[43.2237,42.713982],\"line\":{\"color\":\"blue\"},\"lon\":[-75.1612,-74.461515],\"marker\":{\"size\":1},\"mode\":\"lines\",\"type\":\"scattermapbox\"},{\"lat\":[37.2876,37.819602],\"line\":{\"color\":\"blue\"},\"lon\":[-77.295,-77.03485699999999],\"marker\":{\"size\":1},\"mode\":\"lines\",\"type\":\"scattermapbox\"},{\"lat\":[32.2779,31.670682],\"line\":{\"color\":\"blue\"},\"lon\":[-97.2351,-98.114622],\"marker\":{\"size\":1},\"mode\":\"lines\",\"type\":\"scattermapbox\"},{\"lat\":[34.9906,35.433209999999995],\"line\":{\"color\":\"blue\"},\"lon\":[-81.8327,-82.112923],\"marker\":{\"size\":1},\"mode\":\"lines\",\"type\":\"scattermapbox\"},{\"lat\":[44.4477,44.10031],\"line\":{\"color\":\"blue\"},\"lon\":[-93.4252,-93.585852],\"marker\":{\"size\":1},\"mode\":\"lines\",\"type\":\"scattermapbox\"},{\"lat\":[44.6001,43.941719],\"line\":{\"color\":\"blue\"},\"lon\":[-84.2931,-83.512298],\"marker\":{\"size\":1},\"mode\":\"lines\",\"type\":\"scattermapbox\"},{\"lat\":[39.2136,39.506082],\"line\":{\"color\":\"blue\"},\"lon\":[-95.4404,-94.470336],\"marker\":{\"size\":1},\"mode\":\"lines\",\"type\":\"scattermapbox\"},{\"lat\":[46.3481,46.552524],\"line\":{\"color\":\"blue\"},\"lon\":[-87.0436,-86.13502199999999],\"marker\":{\"size\":1},\"mode\":\"lines\",\"type\":\"scattermapbox\"},{\"lat\":[42.8678,41.890978],\"line\":{\"color\":\"blue\"},\"lon\":[-71.042,-71.98269300000001],\"marker\":{\"size\":1},\"mode\":\"lines\",\"type\":\"scattermapbox\"},{\"lat\":[41.06399999999999,41.795312],\"line\":{\"color\":\"blue\"},\"lon\":[-72.3366,-72.468532],\"marker\":{\"size\":1},\"mode\":\"lines\",\"type\":\"scattermapbox\"},{\"lat\":[36.6704,36.41851],\"line\":{\"color\":\"blue\"},\"lon\":[-93.0377,-92.85089],\"marker\":{\"size\":1},\"mode\":\"lines\",\"type\":\"scattermapbox\"},{\"lat\":[27.5155,27.067970000000003],\"line\":{\"color\":\"blue\"},\"lon\":[-99.4986,-99.50585],\"marker\":{\"size\":1},\"mode\":\"lines\",\"type\":\"scattermapbox\"},{\"lat\":[43.7893,44.72475],\"line\":{\"color\":\"blue\"},\"lon\":[-75.4156,-74.924894],\"marker\":{\"size\":1},\"mode\":\"lines\",\"type\":\"scattermapbox\"},{\"lat\":[42.958,43.333557],\"line\":{\"color\":\"blue\"},\"lon\":[-77.3083,-76.497118],\"marker\":{\"size\":1},\"mode\":\"lines\",\"type\":\"scattermapbox\"},{\"lat\":[39.9934,40.898956],\"line\":{\"color\":\"blue\"},\"lon\":[-81.8024,-81.005434],\"marker\":{\"size\":1},\"mode\":\"lines\",\"type\":\"scattermapbox\"},{\"lat\":[40.4931,40.843837],\"line\":{\"color\":\"blue\"},\"lon\":[-91.8912,-92.807414],\"marker\":{\"size\":1},\"mode\":\"lines\",\"type\":\"scattermapbox\"},{\"lat\":[36.385,36.473257],\"line\":{\"color\":\"blue\"},\"lon\":[-98.0727,-99.037195],\"marker\":{\"size\":1},\"mode\":\"lines\",\"type\":\"scattermapbox\"},{\"lat\":[38.8582,38.18049],\"line\":{\"color\":\"blue\"},\"lon\":[-76.6145,-75.851908],\"marker\":{\"size\":1},\"mode\":\"lines\",\"type\":\"scattermapbox\"},{\"lat\":[38.046,38.279649],\"line\":{\"color\":\"blue\"},\"lon\":[-122.1866,-122.748793],\"marker\":{\"size\":1},\"mode\":\"lines\",\"type\":\"scattermapbox\"},{\"lat\":[43.9742,43.379563],\"line\":{\"color\":\"blue\"},\"lon\":[-71.1503,-71.004866],\"marker\":{\"size\":1},\"mode\":\"lines\",\"type\":\"scattermapbox\"},{\"lat\":[41.0646,41.422874],\"line\":{\"color\":\"blue\"},\"lon\":[-87.5917,-88.373837],\"marker\":{\"size\":1},\"mode\":\"lines\",\"type\":\"scattermapbox\"},{\"lat\":[44.5232,43.699778],\"line\":{\"color\":\"blue\"},\"lon\":[-86.2061,-87.059933],\"marker\":{\"size\":1},\"mode\":\"lines\",\"type\":\"scattermapbox\"},{\"lat\":[43.7557,42.901581],\"line\":{\"color\":\"blue\"},\"lon\":[-97.5936,-98.280126],\"marker\":{\"size\":1},\"mode\":\"lines\",\"type\":\"scattermapbox\"},{\"lat\":[39.013000000000005,39.259938],\"line\":{\"color\":\"blue\"},\"lon\":[-86.5457,-86.387918],\"marker\":{\"size\":1},\"mode\":\"lines\",\"type\":\"scattermapbox\"},{\"lat\":[34.7032,34.10945],\"line\":{\"color\":\"blue\"},\"lon\":[-98.9591,-98.034898],\"marker\":{\"size\":1},\"mode\":\"lines\",\"type\":\"scattermapbox\"},{\"lat\":[34.8838,34.359487],\"line\":{\"color\":\"blue\"},\"lon\":[-90.7666,-90.487886],\"marker\":{\"size\":1},\"mode\":\"lines\",\"type\":\"scattermapbox\"},{\"lat\":[38.2833,38.111104],\"line\":{\"color\":\"blue\"},\"lon\":[-75.8465,-76.78391500000001],\"marker\":{\"size\":1},\"mode\":\"lines\",\"type\":\"scattermapbox\"},{\"lat\":[33.4783,34.389384],\"line\":{\"color\":\"blue\"},\"lon\":[-90.5142,-90.575221],\"marker\":{\"size\":1},\"mode\":\"lines\",\"type\":\"scattermapbox\"},{\"lat\":[44.0575,43.104217],\"line\":{\"color\":\"blue\"},\"lon\":[-69.9656,-69.798563],\"marker\":{\"size\":1},\"mode\":\"lines\",\"type\":\"scattermapbox\"},{\"lat\":[31.7706,31.87919],\"line\":{\"color\":\"blue\"},\"lon\":[-84.7936,-85.697202],\"marker\":{\"size\":1},\"mode\":\"lines\",\"type\":\"scattermapbox\"},{\"lat\":[33.141,32.777569],\"line\":{\"color\":\"blue\"},\"lon\":[-82.515,-82.736859],\"marker\":{\"size\":1},\"mode\":\"lines\",\"type\":\"scattermapbox\"},{\"lat\":[36.0244,35.133472],\"line\":{\"color\":\"blue\"},\"lon\":[-90.9288,-90.352758],\"marker\":{\"size\":1},\"mode\":\"lines\",\"type\":\"scattermapbox\"},{\"lat\":[37.3304,37.877425],\"line\":{\"color\":\"blue\"},\"lon\":[-121.7913,-121.439462],\"marker\":{\"size\":1},\"mode\":\"lines\",\"type\":\"scattermapbox\"},{\"lat\":[33.9349,33.074397],\"line\":{\"color\":\"blue\"},\"lon\":[-80.8449,-79.875814],\"marker\":{\"size\":1},\"mode\":\"lines\",\"type\":\"scattermapbox\"},{\"lat\":[43.5089,43.588855],\"line\":{\"color\":\"blue\"},\"lon\":[-93.4824,-93.740957],\"marker\":{\"size\":1},\"mode\":\"lines\",\"type\":\"scattermapbox\"},{\"lat\":[42.4999,42.279615],\"line\":{\"color\":\"blue\"},\"lon\":[-74.6117,-74.998143],\"marker\":{\"size\":1},\"mode\":\"lines\",\"type\":\"scattermapbox\"},{\"lat\":[28.3011,27.550956],\"line\":{\"color\":\"blue\"},\"lon\":[-82.6927,-82.619686],\"marker\":{\"size\":1},\"mode\":\"lines\",\"type\":\"scattermapbox\"},{\"lat\":[40.2158,40.384492],\"line\":{\"color\":\"blue\"},\"lon\":[-83.9579,-84.897821],\"marker\":{\"size\":1},\"mode\":\"lines\",\"type\":\"scattermapbox\"},{\"lat\":[38.2833,37.773327],\"line\":{\"color\":\"blue\"},\"lon\":[-75.8465,-75.08633499999999],\"marker\":{\"size\":1},\"mode\":\"lines\",\"type\":\"scattermapbox\"},{\"lat\":[32.9396,32.378568],\"line\":{\"color\":\"blue\"},\"lon\":[-105.8189,-105.861572],\"marker\":{\"size\":1},\"mode\":\"lines\",\"type\":\"scattermapbox\"},{\"lat\":[38.4207,38.370422],\"line\":{\"color\":\"blue\"},\"lon\":[-79.4629,-80.449613],\"marker\":{\"size\":1},\"mode\":\"lines\",\"type\":\"scattermapbox\"},{\"lat\":[48.1439,48.981747],\"line\":{\"color\":\"blue\"},\"lon\":[-92.8561,-93.331891],\"marker\":{\"size\":1},\"mode\":\"lines\",\"type\":\"scattermapbox\"},{\"lat\":[41.0552,41.784501],\"line\":{\"color\":\"blue\"},\"lon\":[-110.1603,-109.902712],\"marker\":{\"size\":1},\"mode\":\"lines\",\"type\":\"scattermapbox\"},{\"lat\":[41.0646,40.551105],\"line\":{\"color\":\"blue\"},\"lon\":[-87.5917,-88.133808],\"marker\":{\"size\":1},\"mode\":\"lines\",\"type\":\"scattermapbox\"},{\"lat\":[38.8265,39.172619],\"line\":{\"color\":\"blue\"},\"lon\":[-82.1364,-81.914771],\"marker\":{\"size\":1},\"mode\":\"lines\",\"type\":\"scattermapbox\"},{\"lat\":[36.0788,36.349058],\"line\":{\"color\":\"blue\"},\"lon\":[-81.1781,-80.353356],\"marker\":{\"size\":1},\"mode\":\"lines\",\"type\":\"scattermapbox\"},{\"lat\":[32.2779,31.981083],\"line\":{\"color\":\"blue\"},\"lon\":[-97.2351,-97.016287],\"marker\":{\"size\":1},\"mode\":\"lines\",\"type\":\"scattermapbox\"},{\"lat\":[30.4066,30.923669],\"line\":{\"color\":\"blue\"},\"lon\":[-91.1468,-92.020338],\"marker\":{\"size\":1},\"mode\":\"lines\",\"type\":\"scattermapbox\"},{\"lat\":[41.2001,41.877196000000005],\"line\":{\"color\":\"blue\"},\"lon\":[-92.1354,-93.101863],\"marker\":{\"size\":1},\"mode\":\"lines\",\"type\":\"scattermapbox\"},{\"lat\":[43.2363,42.676777],\"line\":{\"color\":\"blue\"},\"lon\":[-78.3138,-79.197287],\"marker\":{\"size\":1},\"mode\":\"lines\",\"type\":\"scattermapbox\"},{\"lat\":[35.8985,34.97469],\"line\":{\"color\":\"blue\"},\"lon\":[-97.2607,-97.366889],\"marker\":{\"size\":1},\"mode\":\"lines\",\"type\":\"scattermapbox\"},{\"lat\":[41.8467,40.925612],\"line\":{\"color\":\"blue\"},\"lon\":[-74.1038,-74.827752],\"marker\":{\"size\":1},\"mode\":\"lines\",\"type\":\"scattermapbox\"},{\"lat\":[41.1573,41.217748],\"line\":{\"color\":\"blue\"},\"lon\":[-88.0619,-88.64752299999999],\"marker\":{\"size\":1},\"mode\":\"lines\",\"type\":\"scattermapbox\"},{\"lat\":[40.6025,40.097864],\"line\":{\"color\":\"blue\"},\"lon\":[-80.3863,-81.150133],\"marker\":{\"size\":1},\"mode\":\"lines\",\"type\":\"scattermapbox\"},{\"lat\":[44.5995,44.140596],\"line\":{\"color\":\"blue\"},\"lon\":[-86.2141,-86.906272],\"marker\":{\"size\":1},\"mode\":\"lines\",\"type\":\"scattermapbox\"},{\"lat\":[39.4125,38.47777],\"line\":{\"color\":\"blue\"},\"lon\":[-80.6352,-81.501032],\"marker\":{\"size\":1},\"mode\":\"lines\",\"type\":\"scattermapbox\"},{\"lat\":[30.592,31.229678999999997],\"line\":{\"color\":\"blue\"},\"lon\":[-97.2893,-96.539169],\"marker\":{\"size\":1},\"mode\":\"lines\",\"type\":\"scattermapbox\"},{\"lat\":[40.7699,40.057687],\"line\":{\"color\":\"blue\"},\"lon\":[-73.9511,-74.634887],\"marker\":{\"size\":1},\"mode\":\"lines\",\"type\":\"scattermapbox\"},{\"lat\":[34.9889,35.335427],\"line\":{\"color\":\"blue\"},\"lon\":[-106.0609,-105.69659],\"marker\":{\"size\":1},\"mode\":\"lines\",\"type\":\"scattermapbox\"},{\"lat\":[33.7467,32.993854],\"line\":{\"color\":\"blue\"},\"lon\":[-117.1721,-116.473152],\"marker\":{\"size\":1},\"mode\":\"lines\",\"type\":\"scattermapbox\"},{\"lat\":[42.9207,43.251624],\"line\":{\"color\":\"blue\"},\"lon\":[-91.0685,-91.171386],\"marker\":{\"size\":1},\"mode\":\"lines\",\"type\":\"scattermapbox\"},{\"lat\":[40.7491,40.406176],\"line\":{\"color\":\"blue\"},\"lon\":[-95.038,-95.621683],\"marker\":{\"size\":1},\"mode\":\"lines\",\"type\":\"scattermapbox\"},{\"lat\":[33.5623,32.668011],\"line\":{\"color\":\"blue\"},\"lon\":[-112.0559,-112.510264],\"marker\":{\"size\":1},\"mode\":\"lines\",\"type\":\"scattermapbox\"},{\"lat\":[35.8184,35.60388],\"line\":{\"color\":\"blue\"},\"lon\":[-91.3375,-92.13808],\"marker\":{\"size\":1},\"mode\":\"lines\",\"type\":\"scattermapbox\"},{\"lat\":[27.7898,28.038803],\"line\":{\"color\":\"blue\"},\"lon\":[-82.7243,-82.703191],\"marker\":{\"size\":1},\"mode\":\"lines\",\"type\":\"scattermapbox\"},{\"lat\":[43.2326,43.200148],\"line\":{\"color\":\"blue\"},\"lon\":[-86.2492,-85.399008],\"marker\":{\"size\":1},\"mode\":\"lines\",\"type\":\"scattermapbox\"},{\"lat\":[30.1886,30.366347],\"line\":{\"color\":\"blue\"},\"lon\":[-103.2214,-103.230114],\"marker\":{\"size\":1},\"mode\":\"lines\",\"type\":\"scattermapbox\"},{\"lat\":[38.9462,38.249422],\"line\":{\"color\":\"blue\"},\"lon\":[-94.9714,-94.448037],\"marker\":{\"size\":1},\"mode\":\"lines\",\"type\":\"scattermapbox\"},{\"lat\":[46.1664,45.979439],\"line\":{\"color\":\"blue\"},\"lon\":[-103.7079,-104.060861],\"marker\":{\"size\":1},\"mode\":\"lines\",\"type\":\"scattermapbox\"},{\"lat\":[39.4055,40.094127],\"line\":{\"color\":\"blue\"},\"lon\":[-75.3209,-76.159458],\"marker\":{\"size\":1},\"mode\":\"lines\",\"type\":\"scattermapbox\"},{\"lat\":[46.3535,46.868623],\"line\":{\"color\":\"blue\"},\"lon\":[-86.6345,-86.028243],\"marker\":{\"size\":1},\"mode\":\"lines\",\"type\":\"scattermapbox\"},{\"lat\":[48.8328,49.529425],\"line\":{\"color\":\"blue\"},\"lon\":[-108.3961,-108.202478],\"marker\":{\"size\":1},\"mode\":\"lines\",\"type\":\"scattermapbox\"},{\"lat\":[38.9583,38.70136],\"line\":{\"color\":\"blue\"},\"lon\":[-76.2842,-76.485253],\"marker\":{\"size\":1},\"mode\":\"lines\",\"type\":\"scattermapbox\"},{\"lat\":[34.6689,34.439275],\"line\":{\"color\":\"blue\"},\"lon\":[-86.2296,-85.435452],\"marker\":{\"size\":1},\"mode\":\"lines\",\"type\":\"scattermapbox\"},{\"lat\":[36.9688,36.935365999999995],\"line\":{\"color\":\"blue\"},\"lon\":[-78.5615,-79.21304],\"marker\":{\"size\":1},\"mode\":\"lines\",\"type\":\"scattermapbox\"},{\"lat\":[43.6498,43.389569],\"line\":{\"color\":\"blue\"},\"lon\":[-116.4306,-116.312683],\"marker\":{\"size\":1},\"mode\":\"lines\",\"type\":\"scattermapbox\"},{\"lat\":[36.7154,35.827998],\"line\":{\"color\":\"blue\"},\"lon\":[-89.6287,-89.603123],\"marker\":{\"size\":1},\"mode\":\"lines\",\"type\":\"scattermapbox\"},{\"lat\":[33.9778,34.900523],\"line\":{\"color\":\"blue\"},\"lon\":[-86.5598,-87.351407],\"marker\":{\"size\":1},\"mode\":\"lines\",\"type\":\"scattermapbox\"},{\"lat\":[43.2064,42.656172999999995],\"line\":{\"color\":\"blue\"},\"lon\":[-90.9405,-90.901103],\"marker\":{\"size\":1},\"mode\":\"lines\",\"type\":\"scattermapbox\"},{\"lat\":[40.813,41.661665],\"line\":{\"color\":\"blue\"},\"lon\":[-83.4196,-82.736139],\"marker\":{\"size\":1},\"mode\":\"lines\",\"type\":\"scattermapbox\"},{\"lat\":[28.0758,28.107644],\"line\":{\"color\":\"blue\"},\"lon\":[-81.5929,-80.97685],\"marker\":{\"size\":1},\"mode\":\"lines\",\"type\":\"scattermapbox\"},{\"lat\":[38.4549,38.34421],\"line\":{\"color\":\"blue\"},\"lon\":[-122.2564,-122.71841299999998],\"marker\":{\"size\":1},\"mode\":\"lines\",\"type\":\"scattermapbox\"},{\"lat\":[40.4109,41.015547],\"line\":{\"color\":\"blue\"},\"lon\":[-74.238,-74.466043],\"marker\":{\"size\":1},\"mode\":\"lines\",\"type\":\"scattermapbox\"},{\"lat\":[39.9636,39.523171999999995],\"line\":{\"color\":\"blue\"},\"lon\":[-79.7853,-80.210657],\"marker\":{\"size\":1},\"mode\":\"lines\",\"type\":\"scattermapbox\"},{\"lat\":[33.5623,33.310964],\"line\":{\"color\":\"blue\"},\"lon\":[-112.0559,-111.361032],\"marker\":{\"size\":1},\"mode\":\"lines\",\"type\":\"scattermapbox\"},{\"lat\":[39.3426,39.081618],\"line\":{\"color\":\"blue\"},\"lon\":[-114.8859,-113.905352],\"marker\":{\"size\":1},\"mode\":\"lines\",\"type\":\"scattermapbox\"},{\"lat\":[38.9999,39.947179],\"line\":{\"color\":\"blue\"},\"lon\":[-109.615,-110.523148],\"marker\":{\"size\":1},\"mode\":\"lines\",\"type\":\"scattermapbox\"},{\"lat\":[33.8419,33.41985],\"line\":{\"color\":\"blue\"},\"lon\":[-117.6043,-117.859029],\"marker\":{\"size\":1},\"mode\":\"lines\",\"type\":\"scattermapbox\"},{\"lat\":[37.7418,36.942331],\"line\":{\"color\":\"blue\"},\"lon\":[-80.4626,-81.156665],\"marker\":{\"size\":1},\"mode\":\"lines\",\"type\":\"scattermapbox\"},{\"lat\":[44.2529,44.451485],\"line\":{\"color\":\"blue\"},\"lon\":[-85.01700000000001,-85.140786],\"marker\":{\"size\":1},\"mode\":\"lines\",\"type\":\"scattermapbox\"},{\"lat\":[37.7878,37.303627],\"line\":{\"color\":\"blue\"},\"lon\":[-122.1884,-121.669397],\"marker\":{\"size\":1},\"mode\":\"lines\",\"type\":\"scattermapbox\"},{\"lat\":[44.6723,44.945198],\"line\":{\"color\":\"blue\"},\"lon\":[-103.8396,-103.810488],\"marker\":{\"size\":1},\"mode\":\"lines\",\"type\":\"scattermapbox\"},{\"lat\":[28.9814,29.880751],\"line\":{\"color\":\"blue\"},\"lon\":[-98.0156,-97.685821],\"marker\":{\"size\":1},\"mode\":\"lines\",\"type\":\"scattermapbox\"},{\"lat\":[27.5517,26.961413],\"line\":{\"color\":\"blue\"},\"lon\":[-81.8074,-81.392138],\"marker\":{\"size\":1},\"mode\":\"lines\",\"type\":\"scattermapbox\"},{\"lat\":[37.9073,37.112759999999994],\"line\":{\"color\":\"blue\"},\"lon\":[-75.5089,-76.081616],\"marker\":{\"size\":1},\"mode\":\"lines\",\"type\":\"scattermapbox\"},{\"lat\":[42.9385,41.964009999999995],\"line\":{\"color\":\"blue\"},\"lon\":[-88.395,-88.170108],\"marker\":{\"size\":1},\"mode\":\"lines\",\"type\":\"scattermapbox\"},{\"lat\":[39.9934,40.057453],\"line\":{\"color\":\"blue\"},\"lon\":[-81.8024,-81.718091],\"marker\":{\"size\":1},\"mode\":\"lines\",\"type\":\"scattermapbox\"},{\"lat\":[31.929,32.221112],\"line\":{\"color\":\"blue\"},\"lon\":[-97.6443,-97.836848],\"marker\":{\"size\":1},\"mode\":\"lines\",\"type\":\"scattermapbox\"},{\"lat\":[36.115,36.397088],\"line\":{\"color\":\"blue\"},\"lon\":[-84.0438,-84.981863],\"marker\":{\"size\":1},\"mode\":\"lines\",\"type\":\"scattermapbox\"},{\"lat\":[38.2427,38.082898],\"line\":{\"color\":\"blue\"},\"lon\":[-122.9145,-122.017066],\"marker\":{\"size\":1},\"mode\":\"lines\",\"type\":\"scattermapbox\"},{\"lat\":[30.4983,29.988089],\"line\":{\"color\":\"blue\"},\"lon\":[-88.3282,-87.37587099999999],\"marker\":{\"size\":1},\"mode\":\"lines\",\"type\":\"scattermapbox\"},{\"lat\":[34.048,34.330442],\"line\":{\"color\":\"blue\"},\"lon\":[-85.9246,-85.950162],\"marker\":{\"size\":1},\"mode\":\"lines\",\"type\":\"scattermapbox\"},{\"lat\":[32.9276,32.839399],\"line\":{\"color\":\"blue\"},\"lon\":[-97.2489,-97.21408],\"marker\":{\"size\":1},\"mode\":\"lines\",\"type\":\"scattermapbox\"},{\"lat\":[39.3391,40.261061],\"line\":{\"color\":\"blue\"},\"lon\":[-95.0999,-96.063693],\"marker\":{\"size\":1},\"mode\":\"lines\",\"type\":\"scattermapbox\"},{\"lat\":[39.7795,39.037681],\"line\":{\"color\":\"blue\"},\"lon\":[-93.3014,-92.959458],\"marker\":{\"size\":1},\"mode\":\"lines\",\"type\":\"scattermapbox\"},{\"lat\":[44.64,45.626837],\"line\":{\"color\":\"blue\"},\"lon\":[-73.3113,-74.28804699999999],\"marker\":{\"size\":1},\"mode\":\"lines\",\"type\":\"scattermapbox\"},{\"lat\":[26.1184,26.765638],\"line\":{\"color\":\"blue\"},\"lon\":[-81.7361,-81.47942900000001],\"marker\":{\"size\":1},\"mode\":\"lines\",\"type\":\"scattermapbox\"},{\"lat\":[41.5686,42.511917],\"line\":{\"color\":\"blue\"},\"lon\":[-83.3632,-83.372425],\"marker\":{\"size\":1},\"mode\":\"lines\",\"type\":\"scattermapbox\"},{\"lat\":[41.4575,40.978957],\"line\":{\"color\":\"blue\"},\"lon\":[-74.1659,-74.87556],\"marker\":{\"size\":1},\"mode\":\"lines\",\"type\":\"scattermapbox\"},{\"lat\":[41.3851,40.433308],\"line\":{\"color\":\"blue\"},\"lon\":[-80.1752,-79.83478000000001],\"marker\":{\"size\":1},\"mode\":\"lines\",\"type\":\"scattermapbox\"},{\"lat\":[31.3833,31.214663],\"line\":{\"color\":\"blue\"},\"lon\":[-95.0619,-95.272685],\"marker\":{\"size\":1},\"mode\":\"lines\",\"type\":\"scattermapbox\"},{\"lat\":[45.6675,45.329692],\"line\":{\"color\":\"blue\"},\"lon\":[-93.2433,-93.409772],\"marker\":{\"size\":1},\"mode\":\"lines\",\"type\":\"scattermapbox\"},{\"lat\":[41.2244,41.671814000000005],\"line\":{\"color\":\"blue\"},\"lon\":[-86.6966,-86.67939399999999],\"marker\":{\"size\":1},\"mode\":\"lines\",\"type\":\"scattermapbox\"},{\"lat\":[35.0659,34.726177],\"line\":{\"color\":\"blue\"},\"lon\":[-89.1534,-88.20464100000001],\"marker\":{\"size\":1},\"mode\":\"lines\",\"type\":\"scattermapbox\"},{\"lat\":[31.4841,31.221238],\"line\":{\"color\":\"blue\"},\"lon\":[-97.9903,-98.508114],\"marker\":{\"size\":1},\"mode\":\"lines\",\"type\":\"scattermapbox\"},{\"lat\":[37.6787,36.947153],\"line\":{\"color\":\"blue\"},\"lon\":[-122.478,-122.328403],\"marker\":{\"size\":1},\"mode\":\"lines\",\"type\":\"scattermapbox\"},{\"lat\":[34.7789,34.621161],\"line\":{\"color\":\"blue\"},\"lon\":[-86.5438,-85.79190600000001],\"marker\":{\"size\":1},\"mode\":\"lines\",\"type\":\"scattermapbox\"},{\"lat\":[37.1935,38.038526],\"line\":{\"color\":\"blue\"},\"lon\":[-89.0933,-88.32751],\"marker\":{\"size\":1},\"mode\":\"lines\",\"type\":\"scattermapbox\"},{\"lat\":[37.0581,37.665625],\"line\":{\"color\":\"blue\"},\"lon\":[-86.1938,-85.25050999999999],\"marker\":{\"size\":1},\"mode\":\"lines\",\"type\":\"scattermapbox\"},{\"lat\":[39.9636,39.67279],\"line\":{\"color\":\"blue\"},\"lon\":[-79.7853,-79.36575400000001],\"marker\":{\"size\":1},\"mode\":\"lines\",\"type\":\"scattermapbox\"},{\"lat\":[37.0581,37.431319],\"line\":{\"color\":\"blue\"},\"lon\":[-86.1938,-86.654712],\"marker\":{\"size\":1},\"mode\":\"lines\",\"type\":\"scattermapbox\"},{\"lat\":[34.4793,34.253808],\"line\":{\"color\":\"blue\"},\"lon\":[-87.4769,-87.75809],\"marker\":{\"size\":1},\"mode\":\"lines\",\"type\":\"scattermapbox\"},{\"lat\":[32.9413,32.990856],\"line\":{\"color\":\"blue\"},\"lon\":[-81.1807,-80.359309],\"marker\":{\"size\":1},\"mode\":\"lines\",\"type\":\"scattermapbox\"},{\"lat\":[41.6423,41.093384],\"line\":{\"color\":\"blue\"},\"lon\":[-104.1974,-104.287034],\"marker\":{\"size\":1},\"mode\":\"lines\",\"type\":\"scattermapbox\"},{\"lat\":[33.7467,32.834245],\"line\":{\"color\":\"blue\"},\"lon\":[-117.1721,-117.778002],\"marker\":{\"size\":1},\"mode\":\"lines\",\"type\":\"scattermapbox\"},{\"lat\":[36.115,36.525110999999995],\"line\":{\"color\":\"blue\"},\"lon\":[-84.0438,-83.30388],\"marker\":{\"size\":1},\"mode\":\"lines\",\"type\":\"scattermapbox\"},{\"lat\":[42.0789,42.246739],\"line\":{\"color\":\"blue\"},\"lon\":[-92.3763,-93.099958],\"marker\":{\"size\":1},\"mode\":\"lines\",\"type\":\"scattermapbox\"},{\"lat\":[31.6453,31.634794],\"line\":{\"color\":\"blue\"},\"lon\":[-90.1801,-90.711335],\"marker\":{\"size\":1},\"mode\":\"lines\",\"type\":\"scattermapbox\"},{\"lat\":[41.0592,40.752107],\"line\":{\"color\":\"blue\"},\"lon\":[-73.7395,-74.71701999999999],\"marker\":{\"size\":1},\"mode\":\"lines\",\"type\":\"scattermapbox\"},{\"lat\":[36.2201,36.065321999999995],\"line\":{\"color\":\"blue\"},\"lon\":[-91.6421,-91.011617],\"marker\":{\"size\":1},\"mode\":\"lines\",\"type\":\"scattermapbox\"},{\"lat\":[37.8795,37.2001],\"line\":{\"color\":\"blue\"},\"lon\":[-82.7251,-82.136442],\"marker\":{\"size\":1},\"mode\":\"lines\",\"type\":\"scattermapbox\"},{\"lat\":[41.606,42.241956],\"line\":{\"color\":\"blue\"},\"lon\":[-109.23,-108.670111],\"marker\":{\"size\":1},\"mode\":\"lines\",\"type\":\"scattermapbox\"},{\"lat\":[39.6171,39.430908],\"line\":{\"color\":\"blue\"},\"lon\":[-102.4776,-101.551965],\"marker\":{\"size\":1},\"mode\":\"lines\",\"type\":\"scattermapbox\"},{\"lat\":[38.7897,39.123812],\"line\":{\"color\":\"blue\"},\"lon\":[-93.8702,-94.253096],\"marker\":{\"size\":1},\"mode\":\"lines\",\"type\":\"scattermapbox\"},{\"lat\":[33.9056,34.421949],\"line\":{\"color\":\"blue\"},\"lon\":[-118.0818,-119.004697],\"marker\":{\"size\":1},\"mode\":\"lines\",\"type\":\"scattermapbox\"},{\"lat\":[42.0716,42.945314],\"line\":{\"color\":\"blue\"},\"lon\":[-75.0152,-74.465976],\"marker\":{\"size\":1},\"mode\":\"lines\",\"type\":\"scattermapbox\"},{\"lat\":[29.7736,30.554263],\"line\":{\"color\":\"blue\"},\"lon\":[-95.4034,-96.059629],\"marker\":{\"size\":1},\"mode\":\"lines\",\"type\":\"scattermapbox\"},{\"lat\":[40.3359,39.995771999999995],\"line\":{\"color\":\"blue\"},\"lon\":[-79.6607,-79.327928],\"marker\":{\"size\":1},\"mode\":\"lines\",\"type\":\"scattermapbox\"},{\"lat\":[34.6902,35.130609],\"line\":{\"color\":\"blue\"},\"lon\":[-79.1834,-78.279629],\"marker\":{\"size\":1},\"mode\":\"lines\",\"type\":\"scattermapbox\"},{\"lat\":[43.0397,43.29228],\"line\":{\"color\":\"blue\"},\"lon\":[-77.6871,-78.175727],\"marker\":{\"size\":1},\"mode\":\"lines\",\"type\":\"scattermapbox\"},{\"lat\":[39.1505,38.740523],\"line\":{\"color\":\"blue\"},\"lon\":[-79.503,-79.103072],\"marker\":{\"size\":1},\"mode\":\"lines\",\"type\":\"scattermapbox\"},{\"lat\":[30.4066,30.477493],\"line\":{\"color\":\"blue\"},\"lon\":[-91.1468,-91.475535],\"marker\":{\"size\":1},\"mode\":\"lines\",\"type\":\"scattermapbox\"},{\"lat\":[43.4987,43.913373],\"line\":{\"color\":\"blue\"},\"lon\":[-90.2796,-89.529136],\"marker\":{\"size\":1},\"mode\":\"lines\",\"type\":\"scattermapbox\"},{\"lat\":[37.3696,37.217844],\"line\":{\"color\":\"blue\"},\"lon\":[-80.1284,-79.401542],\"marker\":{\"size\":1},\"mode\":\"lines\",\"type\":\"scattermapbox\"},{\"lat\":[31.2462,31.512791999999997],\"line\":{\"color\":\"blue\"},\"lon\":[-83.6549,-83.667586],\"marker\":{\"size\":1},\"mode\":\"lines\",\"type\":\"scattermapbox\"},{\"lat\":[30.4066,31.225446999999996],\"line\":{\"color\":\"blue\"},\"lon\":[-91.1468,-91.12624],\"marker\":{\"size\":1},\"mode\":\"lines\",\"type\":\"scattermapbox\"},{\"lat\":[33.1194,33.775084],\"line\":{\"color\":\"blue\"},\"lon\":[-83.8235,-84.4117],\"marker\":{\"size\":1},\"mode\":\"lines\",\"type\":\"scattermapbox\"},{\"lat\":[39.0965,39.68502],\"line\":{\"color\":\"blue\"},\"lon\":[-84.6431,-84.013653],\"marker\":{\"size\":1},\"mode\":\"lines\",\"type\":\"scattermapbox\"},{\"lat\":[46.1838,47.129339],\"line\":{\"color\":\"blue\"},\"lon\":[-101.2589,-101.455593],\"marker\":{\"size\":1},\"mode\":\"lines\",\"type\":\"scattermapbox\"},{\"lat\":[38.4921,37.765096],\"line\":{\"color\":\"blue\"},\"lon\":[-85.4524,-86.150018],\"marker\":{\"size\":1},\"mode\":\"lines\",\"type\":\"scattermapbox\"},{\"lat\":[38.138000000000005,38.496187],\"line\":{\"color\":\"blue\"},\"lon\":[-89.2231,-89.958714],\"marker\":{\"size\":1},\"mode\":\"lines\",\"type\":\"scattermapbox\"},{\"lat\":[32.9413,32.015997999999996],\"line\":{\"color\":\"blue\"},\"lon\":[-81.1807,-80.426865],\"marker\":{\"size\":1},\"mode\":\"lines\",\"type\":\"scattermapbox\"},{\"lat\":[37.9073,38.094465],\"line\":{\"color\":\"blue\"},\"lon\":[-75.5089,-76.068224],\"marker\":{\"size\":1},\"mode\":\"lines\",\"type\":\"scattermapbox\"},{\"lat\":[36.2395,35.634315],\"line\":{\"color\":\"blue\"},\"lon\":[-95.9596,-96.89045],\"marker\":{\"size\":1},\"mode\":\"lines\",\"type\":\"scattermapbox\"},{\"lat\":[37.7175,37.066937],\"line\":{\"color\":\"blue\"},\"lon\":[-112.4777,-111.487555],\"marker\":{\"size\":1},\"mode\":\"lines\",\"type\":\"scattermapbox\"},{\"lat\":[40.1159,39.936972999999995],\"line\":{\"color\":\"blue\"},\"lon\":[-74.8536,-74.00219],\"marker\":{\"size\":1},\"mode\":\"lines\",\"type\":\"scattermapbox\"},{\"lat\":[38.5662,38.750686],\"line\":{\"color\":\"blue\"},\"lon\":[-121.3286,-120.51303],\"marker\":{\"size\":1},\"mode\":\"lines\",\"type\":\"scattermapbox\"},{\"lat\":[33.6751,33.737181],\"line\":{\"color\":\"blue\"},\"lon\":[-98.6576,-99.244742],\"marker\":{\"size\":1},\"mode\":\"lines\",\"type\":\"scattermapbox\"},{\"lat\":[36.802,37.715142],\"line\":{\"color\":\"blue\"},\"lon\":[-87.8286,-88.34665799999999],\"marker\":{\"size\":1},\"mode\":\"lines\",\"type\":\"scattermapbox\"},{\"lat\":[40.8798,40.889523],\"line\":{\"color\":\"blue\"},\"lon\":[-73.9067,-73.776534],\"marker\":{\"size\":1},\"mode\":\"lines\",\"type\":\"scattermapbox\"},{\"lat\":[37.3272,36.795994],\"line\":{\"color\":\"blue\"},\"lon\":[-91.0243,-90.611231],\"marker\":{\"size\":1},\"mode\":\"lines\",\"type\":\"scattermapbox\"},{\"lat\":[34.2651,34.555501],\"line\":{\"color\":\"blue\"},\"lon\":[-77.867,-78.37763299999999],\"marker\":{\"size\":1},\"mode\":\"lines\",\"type\":\"scattermapbox\"},{\"lat\":[38.7897,38.667691],\"line\":{\"color\":\"blue\"},\"lon\":[-93.8702,-94.274694],\"marker\":{\"size\":1},\"mode\":\"lines\",\"type\":\"scattermapbox\"},{\"lat\":[39.849,39.432891],\"line\":{\"color\":\"blue\"},\"lon\":[-86.272,-85.913164],\"marker\":{\"size\":1},\"mode\":\"lines\",\"type\":\"scattermapbox\"},{\"lat\":[41.0646,42.010903000000006],\"line\":{\"color\":\"blue\"},\"lon\":[-87.5917,-88.197808],\"marker\":{\"size\":1},\"mode\":\"lines\",\"type\":\"scattermapbox\"},{\"lat\":[43.2326,42.976479],\"line\":{\"color\":\"blue\"},\"lon\":[-86.2492,-86.907112],\"marker\":{\"size\":1},\"mode\":\"lines\",\"type\":\"scattermapbox\"},{\"lat\":[40.5503,39.6455],\"line\":{\"color\":\"blue\"},\"lon\":[-79.3237,-78.625462],\"marker\":{\"size\":1},\"mode\":\"lines\",\"type\":\"scattermapbox\"},{\"lat\":[39.5102,40.188115],\"line\":{\"color\":\"blue\"},\"lon\":[-104.7216,-105.530385],\"marker\":{\"size\":1},\"mode\":\"lines\",\"type\":\"scattermapbox\"},{\"lat\":[40.4679,39.495859],\"line\":{\"color\":\"blue\"},\"lon\":[-77.8967,-77.165713],\"marker\":{\"size\":1},\"mode\":\"lines\",\"type\":\"scattermapbox\"},{\"lat\":[39.5803,40.261513],\"line\":{\"color\":\"blue\"},\"lon\":[-87.4616,-87.74611999999999],\"marker\":{\"size\":1},\"mode\":\"lines\",\"type\":\"scattermapbox\"},{\"lat\":[40.8095,41.396291999999995],\"line\":{\"color\":\"blue\"},\"lon\":[-72.8229,-72.649435],\"marker\":{\"size\":1},\"mode\":\"lines\",\"type\":\"scattermapbox\"},{\"lat\":[39.6967,40.050965999999995],\"line\":{\"color\":\"blue\"},\"lon\":[-78.8031,-78.500463],\"marker\":{\"size\":1},\"mode\":\"lines\",\"type\":\"scattermapbox\"},{\"lat\":[31.9907,31.203949],\"line\":{\"color\":\"blue\"},\"lon\":[-96.9837,-97.111785],\"marker\":{\"size\":1},\"mode\":\"lines\",\"type\":\"scattermapbox\"},{\"lat\":[33.4783,33.725565],\"line\":{\"color\":\"blue\"},\"lon\":[-90.5142,-91.510351],\"marker\":{\"size\":1},\"mode\":\"lines\",\"type\":\"scattermapbox\"},{\"lat\":[48.8878,49.446237],\"line\":{\"color\":\"blue\"},\"lon\":[-118.2105,-118.25356],\"marker\":{\"size\":1},\"mode\":\"lines\",\"type\":\"scattermapbox\"},{\"lat\":[42.6835,42.87344],\"line\":{\"color\":\"blue\"},\"lon\":[-77.8664,-78.646803],\"marker\":{\"size\":1},\"mode\":\"lines\",\"type\":\"scattermapbox\"},{\"lat\":[43.2893,44.010984],\"line\":{\"color\":\"blue\"},\"lon\":[-97.1904,-98.079408],\"marker\":{\"size\":1},\"mode\":\"lines\",\"type\":\"scattermapbox\"},{\"lat\":[38.4305,39.284781],\"line\":{\"color\":\"blue\"},\"lon\":[-90.387,-89.587524],\"marker\":{\"size\":1},\"mode\":\"lines\",\"type\":\"scattermapbox\"},{\"lat\":[41.5744,40.638157],\"line\":{\"color\":\"blue\"},\"lon\":[-75.5881,-76.074464],\"marker\":{\"size\":1},\"mode\":\"lines\",\"type\":\"scattermapbox\"},{\"lat\":[33.6372,34.339764],\"line\":{\"color\":\"blue\"},\"lon\":[-96.6184,-96.942772],\"marker\":{\"size\":1},\"mode\":\"lines\",\"type\":\"scattermapbox\"},{\"lat\":[39.8936,40.354146],\"line\":{\"color\":\"blue\"},\"lon\":[-79.7856,-79.62445],\"marker\":{\"size\":1},\"mode\":\"lines\",\"type\":\"scattermapbox\"},{\"lat\":[38.7897,39.115345],\"line\":{\"color\":\"blue\"},\"lon\":[-93.8702,-93.165538],\"marker\":{\"size\":1},\"mode\":\"lines\",\"type\":\"scattermapbox\"},{\"lat\":[38.4121,39.24572],\"line\":{\"color\":\"blue\"},\"lon\":[-75.2811,-74.795338],\"marker\":{\"size\":1},\"mode\":\"lines\",\"type\":\"scattermapbox\"},{\"lat\":[28.9814,29.176887],\"line\":{\"color\":\"blue\"},\"lon\":[-98.0156,-97.62049],\"marker\":{\"size\":1},\"mode\":\"lines\",\"type\":\"scattermapbox\"},{\"lat\":[31.3826,31.033527000000003],\"line\":{\"color\":\"blue\"},\"lon\":[-81.4312,-80.576437],\"marker\":{\"size\":1},\"mode\":\"lines\",\"type\":\"scattermapbox\"},{\"lat\":[46.1838,46.316928999999995],\"line\":{\"color\":\"blue\"},\"lon\":[-101.2589,-101.834768],\"marker\":{\"size\":1},\"mode\":\"lines\",\"type\":\"scattermapbox\"},{\"lat\":[34.6902,34.349559],\"line\":{\"color\":\"blue\"},\"lon\":[-79.1834,-78.85875899999999],\"marker\":{\"size\":1},\"mode\":\"lines\",\"type\":\"scattermapbox\"},{\"lat\":[33.6372,33.640035],\"line\":{\"color\":\"blue\"},\"lon\":[-96.6184,-95.851975],\"marker\":{\"size\":1},\"mode\":\"lines\",\"type\":\"scattermapbox\"},{\"lat\":[39.6251,38.643285],\"line\":{\"color\":\"blue\"},\"lon\":[-82.7552,-83.275003],\"marker\":{\"size\":1},\"mode\":\"lines\",\"type\":\"scattermapbox\"},{\"lat\":[40.8314,39.979438],\"line\":{\"color\":\"blue\"},\"lon\":[-83.9758,-83.55980500000001],\"marker\":{\"size\":1},\"mode\":\"lines\",\"type\":\"scattermapbox\"},{\"lat\":[46.5901,46.390642],\"line\":{\"color\":\"blue\"},\"lon\":[-117.1692,-117.313317],\"marker\":{\"size\":1},\"mode\":\"lines\",\"type\":\"scattermapbox\"},{\"lat\":[39.8788,40.788706],\"line\":{\"color\":\"blue\"},\"lon\":[-82.18799999999999,-81.446634],\"marker\":{\"size\":1},\"mode\":\"lines\",\"type\":\"scattermapbox\"},{\"lat\":[44.2529,43.831274],\"line\":{\"color\":\"blue\"},\"lon\":[-85.01700000000001,-84.439468],\"marker\":{\"size\":1},\"mode\":\"lines\",\"type\":\"scattermapbox\"},{\"lat\":[40.3207,40.243968],\"line\":{\"color\":\"blue\"},\"lon\":[-110.436,-110.873887],\"marker\":{\"size\":1},\"mode\":\"lines\",\"type\":\"scattermapbox\"},{\"lat\":[31.6489,32.434019],\"line\":{\"color\":\"blue\"},\"lon\":[-82.1982,-81.432074],\"marker\":{\"size\":1},\"mode\":\"lines\",\"type\":\"scattermapbox\"},{\"lat\":[38.8881,39.380179],\"line\":{\"color\":\"blue\"},\"lon\":[-104.6556,-104.914515],\"marker\":{\"size\":1},\"mode\":\"lines\",\"type\":\"scattermapbox\"},{\"lat\":[36.2245,35.601743],\"line\":{\"color\":\"blue\"},\"lon\":[-79.8901,-79.19341700000001],\"marker\":{\"size\":1},\"mode\":\"lines\",\"type\":\"scattermapbox\"},{\"lat\":[38.5095,38.148798],\"line\":{\"color\":\"blue\"},\"lon\":[-78.2638,-77.72953100000001],\"marker\":{\"size\":1},\"mode\":\"lines\",\"type\":\"scattermapbox\"},{\"lat\":[38.5677,39.220044],\"line\":{\"color\":\"blue\"},\"lon\":[-109.5271,-109.697406],\"marker\":{\"size\":1},\"mode\":\"lines\",\"type\":\"scattermapbox\"},{\"lat\":[33.0771,32.12599],\"line\":{\"color\":\"blue\"},\"lon\":[-99.959,-100.669515],\"marker\":{\"size\":1},\"mode\":\"lines\",\"type\":\"scattermapbox\"},{\"lat\":[39.5483,39.422067],\"line\":{\"color\":\"blue\"},\"lon\":[-119.7957,-120.047222],\"marker\":{\"size\":1},\"mode\":\"lines\",\"type\":\"scattermapbox\"},{\"lat\":[45.0632,44.186178000000005],\"line\":{\"color\":\"blue\"},\"lon\":[-93.3811,-92.708057],\"marker\":{\"size\":1},\"mode\":\"lines\",\"type\":\"scattermapbox\"},{\"lat\":[33.413000000000004,32.593959999999996],\"line\":{\"color\":\"blue\"},\"lon\":[-81.69,-81.004378],\"marker\":{\"size\":1},\"mode\":\"lines\",\"type\":\"scattermapbox\"},{\"lat\":[40.4308,41.106948],\"line\":{\"color\":\"blue\"},\"lon\":[-79.9205,-79.712285],\"marker\":{\"size\":1},\"mode\":\"lines\",\"type\":\"scattermapbox\"},{\"lat\":[40.6761,41.008009],\"line\":{\"color\":\"blue\"},\"lon\":[-91.0391,-90.315323],\"marker\":{\"size\":1},\"mode\":\"lines\",\"type\":\"scattermapbox\"},{\"lat\":[39.6991,39.499646000000006],\"line\":{\"color\":\"blue\"},\"lon\":[-78.1762,-78.507379],\"marker\":{\"size\":1},\"mode\":\"lines\",\"type\":\"scattermapbox\"},{\"lat\":[30.1886,29.930143],\"line\":{\"color\":\"blue\"},\"lon\":[-103.2214,-103.566798],\"marker\":{\"size\":1},\"mode\":\"lines\",\"type\":\"scattermapbox\"},{\"lat\":[35.9866,36.015074],\"line\":{\"color\":\"blue\"},\"lon\":[-106.0654,-105.975977],\"marker\":{\"size\":1},\"mode\":\"lines\",\"type\":\"scattermapbox\"},{\"lat\":[36.3924,37.061645],\"line\":{\"color\":\"blue\"},\"lon\":[-91.9932,-92.667956],\"marker\":{\"size\":1},\"mode\":\"lines\",\"type\":\"scattermapbox\"},{\"lat\":[31.1569,30.445603],\"line\":{\"color\":\"blue\"},\"lon\":[-94.3871,-94.490627],\"marker\":{\"size\":1},\"mode\":\"lines\",\"type\":\"scattermapbox\"},{\"lat\":[41.2153,41.691606],\"line\":{\"color\":\"blue\"},\"lon\":[-90.9879,-90.428642],\"marker\":{\"size\":1},\"mode\":\"lines\",\"type\":\"scattermapbox\"},{\"lat\":[38.046,38.547112],\"line\":{\"color\":\"blue\"},\"lon\":[-122.1866,-121.583808],\"marker\":{\"size\":1},\"mode\":\"lines\",\"type\":\"scattermapbox\"},{\"lat\":[40.4603,40.083999],\"line\":{\"color\":\"blue\"},\"lon\":[-79.0097,-78.36963],\"marker\":{\"size\":1},\"mode\":\"lines\",\"type\":\"scattermapbox\"},{\"lat\":[40.813,39.992684999999994],\"line\":{\"color\":\"blue\"},\"lon\":[-83.4196,-83.053515],\"marker\":{\"size\":1},\"mode\":\"lines\",\"type\":\"scattermapbox\"},{\"lat\":[34.9572,34.010901000000004],\"line\":{\"color\":\"blue\"},\"lon\":[-81.9916,-82.306557],\"marker\":{\"size\":1},\"mode\":\"lines\",\"type\":\"scattermapbox\"},{\"lat\":[48.2777,48.198259],\"line\":{\"color\":\"blue\"},\"lon\":[-112.8456,-113.239232],\"marker\":{\"size\":1},\"mode\":\"lines\",\"type\":\"scattermapbox\"},{\"lat\":[42.6911,42.506237],\"line\":{\"color\":\"blue\"},\"lon\":[-71.1605,-71.021946],\"marker\":{\"size\":1},\"mode\":\"lines\",\"type\":\"scattermapbox\"},{\"lat\":[41.606,41.962245],\"line\":{\"color\":\"blue\"},\"lon\":[-109.23,-110.108279],\"marker\":{\"size\":1},\"mode\":\"lines\",\"type\":\"scattermapbox\"},{\"lat\":[26.4722,27.144768],\"line\":{\"color\":\"blue\"},\"lon\":[-81.8122,-81.378271],\"marker\":{\"size\":1},\"mode\":\"lines\",\"type\":\"scattermapbox\"},{\"lat\":[42.32,42.954675],\"line\":{\"color\":\"blue\"},\"lon\":[-78.0943,-78.647645],\"marker\":{\"size\":1},\"mode\":\"lines\",\"type\":\"scattermapbox\"},{\"lat\":[38.4121,39.350151],\"line\":{\"color\":\"blue\"},\"lon\":[-75.2811,-75.97784899999999],\"marker\":{\"size\":1},\"mode\":\"lines\",\"type\":\"scattermapbox\"},{\"lat\":[39.8936,39.47548],\"line\":{\"color\":\"blue\"},\"lon\":[-79.7856,-80.605642],\"marker\":{\"size\":1},\"mode\":\"lines\",\"type\":\"scattermapbox\"},{\"lat\":[36.7558,37.431706],\"line\":{\"color\":\"blue\"},\"lon\":[-83.1838,-82.515384],\"marker\":{\"size\":1},\"mode\":\"lines\",\"type\":\"scattermapbox\"},{\"lat\":[41.5177,41.505519],\"line\":{\"color\":\"blue\"},\"lon\":[-78.2536,-78.478138],\"marker\":{\"size\":1},\"mode\":\"lines\",\"type\":\"scattermapbox\"},{\"lat\":[36.2395,37.04374],\"line\":{\"color\":\"blue\"},\"lon\":[-95.9596,-96.372502],\"marker\":{\"size\":1},\"mode\":\"lines\",\"type\":\"scattermapbox\"},{\"lat\":[41.4802,42.087990999999995],\"line\":{\"color\":\"blue\"},\"lon\":[-86.6919,-85.824402],\"marker\":{\"size\":1},\"mode\":\"lines\",\"type\":\"scattermapbox\"},{\"lat\":[38.832,37.916332],\"line\":{\"color\":\"blue\"},\"lon\":[-77.12,-76.25429799999999],\"marker\":{\"size\":1},\"mode\":\"lines\",\"type\":\"scattermapbox\"},{\"lat\":[44.3346,43.353702],\"line\":{\"color\":\"blue\"},\"lon\":[-73.098,-73.982989],\"marker\":{\"size\":1},\"mode\":\"lines\",\"type\":\"scattermapbox\"},{\"lat\":[40.7699,40.577222],\"line\":{\"color\":\"blue\"},\"lon\":[-73.9511,-74.563681],\"marker\":{\"size\":1},\"mode\":\"lines\",\"type\":\"scattermapbox\"},{\"lat\":[34.9889,34.099666],\"line\":{\"color\":\"blue\"},\"lon\":[-106.0609,-106.995648],\"marker\":{\"size\":1},\"mode\":\"lines\",\"type\":\"scattermapbox\"},{\"lat\":[32.9013,33.003303],\"line\":{\"color\":\"blue\"},\"lon\":[-91.0286,-90.753602],\"marker\":{\"size\":1},\"mode\":\"lines\",\"type\":\"scattermapbox\"},{\"lat\":[39.1412,38.670459],\"line\":{\"color\":\"blue\"},\"lon\":[-94.3515,-93.59706],\"marker\":{\"size\":1},\"mode\":\"lines\",\"type\":\"scattermapbox\"},{\"lat\":[33.6028,33.25785],\"line\":{\"color\":\"blue\"},\"lon\":[-81.9748,-80.98646],\"marker\":{\"size\":1},\"mode\":\"lines\",\"type\":\"scattermapbox\"},{\"lat\":[37.7175,38.615418],\"line\":{\"color\":\"blue\"},\"lon\":[-112.4777,-113.30626399999998],\"marker\":{\"size\":1},\"mode\":\"lines\",\"type\":\"scattermapbox\"},{\"lat\":[41.55,40.985077],\"line\":{\"color\":\"blue\"},\"lon\":[-87.4569,-86.643839],\"marker\":{\"size\":1},\"mode\":\"lines\",\"type\":\"scattermapbox\"},{\"lat\":[34.5444,33.560801],\"line\":{\"color\":\"blue\"},\"lon\":[-102.1069,-101.331311],\"marker\":{\"size\":1},\"mode\":\"lines\",\"type\":\"scattermapbox\"},{\"lat\":[34.4596,35.164589],\"line\":{\"color\":\"blue\"},\"lon\":[-93.6743,-92.696811],\"marker\":{\"size\":1},\"mode\":\"lines\",\"type\":\"scattermapbox\"},{\"lat\":[38.9763,38.244326],\"line\":{\"color\":\"blue\"},\"lon\":[-87.3667,-86.424737],\"marker\":{\"size\":1},\"mode\":\"lines\",\"type\":\"scattermapbox\"},{\"lat\":[42.7012,42.222116],\"line\":{\"color\":\"blue\"},\"lon\":[-92.0762,-91.691112],\"marker\":{\"size\":1},\"mode\":\"lines\",\"type\":\"scattermapbox\"},{\"lat\":[39.537,38.587753],\"line\":{\"color\":\"blue\"},\"lon\":[-83.455,-82.577814],\"marker\":{\"size\":1},\"mode\":\"lines\",\"type\":\"scattermapbox\"},{\"lat\":[43.033,43.032295],\"line\":{\"color\":\"blue\"},\"lon\":[-77.1575,-76.988699],\"marker\":{\"size\":1},\"mode\":\"lines\",\"type\":\"scattermapbox\"},{\"lat\":[42.8511,43.193067],\"line\":{\"color\":\"blue\"},\"lon\":[-93.62,-93.664552],\"marker\":{\"size\":1},\"mode\":\"lines\",\"type\":\"scattermapbox\"},{\"lat\":[39.9934,40.587074],\"line\":{\"color\":\"blue\"},\"lon\":[-81.8024,-82.311489],\"marker\":{\"size\":1},\"mode\":\"lines\",\"type\":\"scattermapbox\"},{\"lat\":[39.7417,39.783303],\"line\":{\"color\":\"blue\"},\"lon\":[-93.6289,-92.761838],\"marker\":{\"size\":1},\"mode\":\"lines\",\"type\":\"scattermapbox\"},{\"lat\":[35.8184,36.781019],\"line\":{\"color\":\"blue\"},\"lon\":[-91.3375,-91.336869],\"marker\":{\"size\":1},\"mode\":\"lines\",\"type\":\"scattermapbox\"},{\"lat\":[32.4204,31.994458],\"line\":{\"color\":\"blue\"},\"lon\":[-85.0796,-85.531262],\"marker\":{\"size\":1},\"mode\":\"lines\",\"type\":\"scattermapbox\"},{\"lat\":[31.2462,31.187040000000003],\"line\":{\"color\":\"blue\"},\"lon\":[-83.6549,-83.090538],\"marker\":{\"size\":1},\"mode\":\"lines\",\"type\":\"scattermapbox\"},{\"lat\":[39.8936,39.430271999999995],\"line\":{\"color\":\"blue\"},\"lon\":[-79.7856,-80.231521],\"marker\":{\"size\":1},\"mode\":\"lines\",\"type\":\"scattermapbox\"},{\"lat\":[41.4802,42.233355],\"line\":{\"color\":\"blue\"},\"lon\":[-86.6919,-87.034612],\"marker\":{\"size\":1},\"mode\":\"lines\",\"type\":\"scattermapbox\"},{\"lat\":[32.153,32.983542],\"line\":{\"color\":\"blue\"},\"lon\":[-90.1217,-89.7849],\"marker\":{\"size\":1},\"mode\":\"lines\",\"type\":\"scattermapbox\"},{\"lat\":[40.7152,41.062559],\"line\":{\"color\":\"blue\"},\"lon\":[-89.2706,-89.83033],\"marker\":{\"size\":1},\"mode\":\"lines\",\"type\":\"scattermapbox\"},{\"lat\":[32.6205,32.108302],\"line\":{\"color\":\"blue\"},\"lon\":[-94.2,-93.935065],\"marker\":{\"size\":1},\"mode\":\"lines\",\"type\":\"scattermapbox\"},{\"lat\":[34.3795,34.818855],\"line\":{\"color\":\"blue\"},\"lon\":[-118.523,-119.503073],\"marker\":{\"size\":1},\"mode\":\"lines\",\"type\":\"scattermapbox\"},{\"lat\":[37.6223,38.481048],\"line\":{\"color\":\"blue\"},\"lon\":[-97.3136,-97.465642],\"marker\":{\"size\":1},\"mode\":\"lines\",\"type\":\"scattermapbox\"},{\"lat\":[34.847,33.99895],\"line\":{\"color\":\"blue\"},\"lon\":[-98.9836,-98.170564],\"marker\":{\"size\":1},\"mode\":\"lines\",\"type\":\"scattermapbox\"},{\"lat\":[40.1151,39.961908],\"line\":{\"color\":\"blue\"},\"lon\":[-79.8627,-79.692453],\"marker\":{\"size\":1},\"mode\":\"lines\",\"type\":\"scattermapbox\"},{\"lat\":[43.6498,43.28405],\"line\":{\"color\":\"blue\"},\"lon\":[-116.4306,-115.541004],\"marker\":{\"size\":1},\"mode\":\"lines\",\"type\":\"scattermapbox\"},{\"lat\":[32.8357,32.546953],\"line\":{\"color\":\"blue\"},\"lon\":[-79.8217,-79.969003],\"marker\":{\"size\":1},\"mode\":\"lines\",\"type\":\"scattermapbox\"},{\"lat\":[39.7562,39.082713],\"line\":{\"color\":\"blue\"},\"lon\":[-98.4462,-99.367704],\"marker\":{\"size\":1},\"mode\":\"lines\",\"type\":\"scattermapbox\"},{\"lat\":[38.5677,38.392646],\"line\":{\"color\":\"blue\"},\"lon\":[-109.5271,-109.686197],\"marker\":{\"size\":1},\"mode\":\"lines\",\"type\":\"scattermapbox\"},{\"lat\":[38.5319,38.517337],\"line\":{\"color\":\"blue\"},\"lon\":[-93.9221,-94.289192],\"marker\":{\"size\":1},\"mode\":\"lines\",\"type\":\"scattermapbox\"},{\"lat\":[32.6205,31.675765999999996],\"line\":{\"color\":\"blue\"},\"lon\":[-94.2,-93.292057],\"marker\":{\"size\":1},\"mode\":\"lines\",\"type\":\"scattermapbox\"},{\"lat\":[40.6072,40.450944],\"line\":{\"color\":\"blue\"},\"lon\":[-83.9585,-84.107986],\"marker\":{\"size\":1},\"mode\":\"lines\",\"type\":\"scattermapbox\"},{\"lat\":[40.3087,41.041794],\"line\":{\"color\":\"blue\"},\"lon\":[-76.2963,-76.257797],\"marker\":{\"size\":1},\"mode\":\"lines\",\"type\":\"scattermapbox\"},{\"lat\":[33.9056,34.763905],\"line\":{\"color\":\"blue\"},\"lon\":[-118.0818,-118.353535],\"marker\":{\"size\":1},\"mode\":\"lines\",\"type\":\"scattermapbox\"},{\"lat\":[38.0261,38.003733],\"line\":{\"color\":\"blue\"},\"lon\":[-97.6666,-97.201058],\"marker\":{\"size\":1},\"mode\":\"lines\",\"type\":\"scattermapbox\"},{\"lat\":[39.2136,40.127413],\"line\":{\"color\":\"blue\"},\"lon\":[-95.4404,-96.100814],\"marker\":{\"size\":1},\"mode\":\"lines\",\"type\":\"scattermapbox\"},{\"lat\":[29.8826,30.053738],\"line\":{\"color\":\"blue\"},\"lon\":[-84.5964,-83.69818599999999],\"marker\":{\"size\":1},\"mode\":\"lines\",\"type\":\"scattermapbox\"},{\"lat\":[36.7651,36.066244],\"line\":{\"color\":\"blue\"},\"lon\":[-94.0492,-93.28361],\"marker\":{\"size\":1},\"mode\":\"lines\",\"type\":\"scattermapbox\"},{\"lat\":[34.4959,35.278002],\"line\":{\"color\":\"blue\"},\"lon\":[-86.259,-85.59235799999999],\"marker\":{\"size\":1},\"mode\":\"lines\",\"type\":\"scattermapbox\"},{\"lat\":[33.5494,33.125759],\"line\":{\"color\":\"blue\"},\"lon\":[-111.9565,-111.37745],\"marker\":{\"size\":1},\"mode\":\"lines\",\"type\":\"scattermapbox\"},{\"lat\":[44.6255,43.829699],\"line\":{\"color\":\"blue\"},\"lon\":[-116.4493,-115.465849],\"marker\":{\"size\":1},\"mode\":\"lines\",\"type\":\"scattermapbox\"},{\"lat\":[43.0498,42.713553000000005],\"line\":{\"color\":\"blue\"},\"lon\":[-78.851,-79.02284300000001],\"marker\":{\"size\":1},\"mode\":\"lines\",\"type\":\"scattermapbox\"},{\"lat\":[35.2087,34.811004],\"line\":{\"color\":\"blue\"},\"lon\":[-92.2123,-92.305648],\"marker\":{\"size\":1},\"mode\":\"lines\",\"type\":\"scattermapbox\"},{\"lat\":[33.9143,34.233046],\"line\":{\"color\":\"blue\"},\"lon\":[-118.3493,-117.615016],\"marker\":{\"size\":1},\"mode\":\"lines\",\"type\":\"scattermapbox\"},{\"lat\":[40.0897,39.099674],\"line\":{\"color\":\"blue\"},\"lon\":[-74.9781,-75.83840699999999],\"marker\":{\"size\":1},\"mode\":\"lines\",\"type\":\"scattermapbox\"},{\"lat\":[40.8027,40.635269],\"line\":{\"color\":\"blue\"},\"lon\":[-81.3739,-80.961153],\"marker\":{\"size\":1},\"mode\":\"lines\",\"type\":\"scattermapbox\"},{\"lat\":[39.9347,40.069212],\"line\":{\"color\":\"blue\"},\"lon\":[-86.1633,-86.20581800000001],\"marker\":{\"size\":1},\"mode\":\"lines\",\"type\":\"scattermapbox\"},{\"lat\":[41.6414,40.924907],\"line\":{\"color\":\"blue\"},\"lon\":[-96.5232,-95.705191],\"marker\":{\"size\":1},\"mode\":\"lines\",\"type\":\"scattermapbox\"},{\"lat\":[39.7562,39.15681],\"line\":{\"color\":\"blue\"},\"lon\":[-98.4462,-99.240898],\"marker\":{\"size\":1},\"mode\":\"lines\",\"type\":\"scattermapbox\"},{\"lat\":[45.8289,46.38496],\"line\":{\"color\":\"blue\"},\"lon\":[-118.4971,-118.980282],\"marker\":{\"size\":1},\"mode\":\"lines\",\"type\":\"scattermapbox\"},{\"lat\":[42.6835,41.894489],\"line\":{\"color\":\"blue\"},\"lon\":[-77.8664,-77.110927],\"marker\":{\"size\":1},\"mode\":\"lines\",\"type\":\"scattermapbox\"},{\"lat\":[33.9143,34.131365],\"line\":{\"color\":\"blue\"},\"lon\":[-118.3493,-118.1359],\"marker\":{\"size\":1},\"mode\":\"lines\",\"type\":\"scattermapbox\"},{\"lat\":[39.7562,39.32762],\"line\":{\"color\":\"blue\"},\"lon\":[-98.4462,-97.489789],\"marker\":{\"size\":1},\"mode\":\"lines\",\"type\":\"scattermapbox\"},{\"lat\":[44.5995,43.881936],\"line\":{\"color\":\"blue\"},\"lon\":[-86.2141,-86.94832199999999],\"marker\":{\"size\":1},\"mode\":\"lines\",\"type\":\"scattermapbox\"},{\"lat\":[26.4215,26.10089],\"line\":{\"color\":\"blue\"},\"lon\":[-99.0025,-99.485418],\"marker\":{\"size\":1},\"mode\":\"lines\",\"type\":\"scattermapbox\"},{\"lat\":[41.3851,40.938031],\"line\":{\"color\":\"blue\"},\"lon\":[-80.1752,-79.222022],\"marker\":{\"size\":1},\"mode\":\"lines\",\"type\":\"scattermapbox\"},{\"lat\":[47.5375,47.246785],\"line\":{\"color\":\"blue\"},\"lon\":[-95.9941,-95.97443],\"marker\":{\"size\":1},\"mode\":\"lines\",\"type\":\"scattermapbox\"},{\"lat\":[36.7558,36.041071],\"line\":{\"color\":\"blue\"},\"lon\":[-83.1838,-83.110551],\"marker\":{\"size\":1},\"mode\":\"lines\",\"type\":\"scattermapbox\"},{\"lat\":[36.4539,36.7005],\"line\":{\"color\":\"blue\"},\"lon\":[-94.118,-94.134744],\"marker\":{\"size\":1},\"mode\":\"lines\",\"type\":\"scattermapbox\"},{\"lat\":[43.0048,42.595338],\"line\":{\"color\":\"blue\"},\"lon\":[-108.8964,-109.535617],\"marker\":{\"size\":1},\"mode\":\"lines\",\"type\":\"scattermapbox\"},{\"lat\":[41.4622,40.940265],\"line\":{\"color\":\"blue\"},\"lon\":[-79.1306,-79.490764],\"marker\":{\"size\":1},\"mode\":\"lines\",\"type\":\"scattermapbox\"},{\"lat\":[31.6489,31.048758000000003],\"line\":{\"color\":\"blue\"},\"lon\":[-82.1982,-81.849439],\"marker\":{\"size\":1},\"mode\":\"lines\",\"type\":\"scattermapbox\"},{\"lat\":[48.8328,48.680925],\"line\":{\"color\":\"blue\"},\"lon\":[-108.3961,-109.33852],\"marker\":{\"size\":1},\"mode\":\"lines\",\"type\":\"scattermapbox\"},{\"lat\":[34.9889,34.287609],\"line\":{\"color\":\"blue\"},\"lon\":[-106.0609,-105.775456],\"marker\":{\"size\":1},\"mode\":\"lines\",\"type\":\"scattermapbox\"},{\"lat\":[43.033,43.449432],\"line\":{\"color\":\"blue\"},\"lon\":[-77.1575,-78.00551800000001],\"marker\":{\"size\":1},\"mode\":\"lines\",\"type\":\"scattermapbox\"},{\"lat\":[32.6176,32.464831],\"line\":{\"color\":\"blue\"},\"lon\":[-86.9475,-86.863221],\"marker\":{\"size\":1},\"mode\":\"lines\",\"type\":\"scattermapbox\"},{\"lat\":[39.1505,38.828447],\"line\":{\"color\":\"blue\"},\"lon\":[-79.503,-80.15019699999999],\"marker\":{\"size\":1},\"mode\":\"lines\",\"type\":\"scattermapbox\"},{\"lat\":[43.1128,44.058051],\"line\":{\"color\":\"blue\"},\"lon\":[-77.4906,-77.708754],\"marker\":{\"size\":1},\"mode\":\"lines\",\"type\":\"scattermapbox\"},{\"lat\":[44.9673,45.335405],\"line\":{\"color\":\"blue\"},\"lon\":[-93.2828,-93.284703],\"marker\":{\"size\":1},\"mode\":\"lines\",\"type\":\"scattermapbox\"},{\"lat\":[42.9373,42.927735],\"line\":{\"color\":\"blue\"},\"lon\":[-87.9943,-88.864544],\"marker\":{\"size\":1},\"mode\":\"lines\",\"type\":\"scattermapbox\"},{\"lat\":[47.4852,46.650038],\"line\":{\"color\":\"blue\"},\"lon\":[-120.4158,-120.642492],\"marker\":{\"size\":1},\"mode\":\"lines\",\"type\":\"scattermapbox\"},{\"lat\":[39.1329,39.146176],\"line\":{\"color\":\"blue\"},\"lon\":[-95.7023,-95.037865],\"marker\":{\"size\":1},\"mode\":\"lines\",\"type\":\"scattermapbox\"},{\"lat\":[40.5553,39.974344],\"line\":{\"color\":\"blue\"},\"lon\":[-77.4001,-76.889865],\"marker\":{\"size\":1},\"mode\":\"lines\",\"type\":\"scattermapbox\"},{\"lat\":[43.92100000000001,44.184723],\"line\":{\"color\":\"blue\"},\"lon\":[-122.7806,-122.661703],\"marker\":{\"size\":1},\"mode\":\"lines\",\"type\":\"scattermapbox\"},{\"lat\":[34.7789,35.702613],\"line\":{\"color\":\"blue\"},\"lon\":[-86.5438,-87.276527],\"marker\":{\"size\":1},\"mode\":\"lines\",\"type\":\"scattermapbox\"},{\"lat\":[40.0246,40.299119],\"line\":{\"color\":\"blue\"},\"lon\":[-79.6955,-80.581761],\"marker\":{\"size\":1},\"mode\":\"lines\",\"type\":\"scattermapbox\"},{\"lat\":[42.4999,41.744729],\"line\":{\"color\":\"blue\"},\"lon\":[-74.6117,-75.141358],\"marker\":{\"size\":1},\"mode\":\"lines\",\"type\":\"scattermapbox\"},{\"lat\":[31.8287,32.313615999999996],\"line\":{\"color\":\"blue\"},\"lon\":[-99.427,-98.943077],\"marker\":{\"size\":1},\"mode\":\"lines\",\"type\":\"scattermapbox\"},{\"lat\":[40.0369,40.188007],\"line\":{\"color\":\"blue\"},\"lon\":[-75.0664,-74.93276999999999],\"marker\":{\"size\":1},\"mode\":\"lines\",\"type\":\"scattermapbox\"}],                        {\"template\":{\"data\":{\"histogram2dcontour\":[{\"type\":\"histogram2dcontour\",\"colorbar\":{\"outlinewidth\":0,\"ticks\":\"\"},\"colorscale\":[[0.0,\"#0d0887\"],[0.1111111111111111,\"#46039f\"],[0.2222222222222222,\"#7201a8\"],[0.3333333333333333,\"#9c179e\"],[0.4444444444444444,\"#bd3786\"],[0.5555555555555556,\"#d8576b\"],[0.6666666666666666,\"#ed7953\"],[0.7777777777777778,\"#fb9f3a\"],[0.8888888888888888,\"#fdca26\"],[1.0,\"#f0f921\"]]}],\"choropleth\":[{\"type\":\"choropleth\",\"colorbar\":{\"outlinewidth\":0,\"ticks\":\"\"}}],\"histogram2d\":[{\"type\":\"histogram2d\",\"colorbar\":{\"outlinewidth\":0,\"ticks\":\"\"},\"colorscale\":[[0.0,\"#0d0887\"],[0.1111111111111111,\"#46039f\"],[0.2222222222222222,\"#7201a8\"],[0.3333333333333333,\"#9c179e\"],[0.4444444444444444,\"#bd3786\"],[0.5555555555555556,\"#d8576b\"],[0.6666666666666666,\"#ed7953\"],[0.7777777777777778,\"#fb9f3a\"],[0.8888888888888888,\"#fdca26\"],[1.0,\"#f0f921\"]]}],\"heatmap\":[{\"type\":\"heatmap\",\"colorbar\":{\"outlinewidth\":0,\"ticks\":\"\"},\"colorscale\":[[0.0,\"#0d0887\"],[0.1111111111111111,\"#46039f\"],[0.2222222222222222,\"#7201a8\"],[0.3333333333333333,\"#9c179e\"],[0.4444444444444444,\"#bd3786\"],[0.5555555555555556,\"#d8576b\"],[0.6666666666666666,\"#ed7953\"],[0.7777777777777778,\"#fb9f3a\"],[0.8888888888888888,\"#fdca26\"],[1.0,\"#f0f921\"]]}],\"heatmapgl\":[{\"type\":\"heatmapgl\",\"colorbar\":{\"outlinewidth\":0,\"ticks\":\"\"},\"colorscale\":[[0.0,\"#0d0887\"],[0.1111111111111111,\"#46039f\"],[0.2222222222222222,\"#7201a8\"],[0.3333333333333333,\"#9c179e\"],[0.4444444444444444,\"#bd3786\"],[0.5555555555555556,\"#d8576b\"],[0.6666666666666666,\"#ed7953\"],[0.7777777777777778,\"#fb9f3a\"],[0.8888888888888888,\"#fdca26\"],[1.0,\"#f0f921\"]]}],\"contourcarpet\":[{\"type\":\"contourcarpet\",\"colorbar\":{\"outlinewidth\":0,\"ticks\":\"\"}}],\"contour\":[{\"type\":\"contour\",\"colorbar\":{\"outlinewidth\":0,\"ticks\":\"\"},\"colorscale\":[[0.0,\"#0d0887\"],[0.1111111111111111,\"#46039f\"],[0.2222222222222222,\"#7201a8\"],[0.3333333333333333,\"#9c179e\"],[0.4444444444444444,\"#bd3786\"],[0.5555555555555556,\"#d8576b\"],[0.6666666666666666,\"#ed7953\"],[0.7777777777777778,\"#fb9f3a\"],[0.8888888888888888,\"#fdca26\"],[1.0,\"#f0f921\"]]}],\"surface\":[{\"type\":\"surface\",\"colorbar\":{\"outlinewidth\":0,\"ticks\":\"\"},\"colorscale\":[[0.0,\"#0d0887\"],[0.1111111111111111,\"#46039f\"],[0.2222222222222222,\"#7201a8\"],[0.3333333333333333,\"#9c179e\"],[0.4444444444444444,\"#bd3786\"],[0.5555555555555556,\"#d8576b\"],[0.6666666666666666,\"#ed7953\"],[0.7777777777777778,\"#fb9f3a\"],[0.8888888888888888,\"#fdca26\"],[1.0,\"#f0f921\"]]}],\"mesh3d\":[{\"type\":\"mesh3d\",\"colorbar\":{\"outlinewidth\":0,\"ticks\":\"\"}}],\"scatter\":[{\"fillpattern\":{\"fillmode\":\"overlay\",\"size\":10,\"solidity\":0.2},\"type\":\"scatter\"}],\"parcoords\":[{\"type\":\"parcoords\",\"line\":{\"colorbar\":{\"outlinewidth\":0,\"ticks\":\"\"}}}],\"scatterpolargl\":[{\"type\":\"scatterpolargl\",\"marker\":{\"colorbar\":{\"outlinewidth\":0,\"ticks\":\"\"}}}],\"bar\":[{\"error_x\":{\"color\":\"#2a3f5f\"},\"error_y\":{\"color\":\"#2a3f5f\"},\"marker\":{\"line\":{\"color\":\"#E5ECF6\",\"width\":0.5},\"pattern\":{\"fillmode\":\"overlay\",\"size\":10,\"solidity\":0.2}},\"type\":\"bar\"}],\"scattergeo\":[{\"type\":\"scattergeo\",\"marker\":{\"colorbar\":{\"outlinewidth\":0,\"ticks\":\"\"}}}],\"scatterpolar\":[{\"type\":\"scatterpolar\",\"marker\":{\"colorbar\":{\"outlinewidth\":0,\"ticks\":\"\"}}}],\"histogram\":[{\"marker\":{\"pattern\":{\"fillmode\":\"overlay\",\"size\":10,\"solidity\":0.2}},\"type\":\"histogram\"}],\"scattergl\":[{\"type\":\"scattergl\",\"marker\":{\"colorbar\":{\"outlinewidth\":0,\"ticks\":\"\"}}}],\"scatter3d\":[{\"type\":\"scatter3d\",\"line\":{\"colorbar\":{\"outlinewidth\":0,\"ticks\":\"\"}},\"marker\":{\"colorbar\":{\"outlinewidth\":0,\"ticks\":\"\"}}}],\"scattermapbox\":[{\"type\":\"scattermapbox\",\"marker\":{\"colorbar\":{\"outlinewidth\":0,\"ticks\":\"\"}}}],\"scatterternary\":[{\"type\":\"scatterternary\",\"marker\":{\"colorbar\":{\"outlinewidth\":0,\"ticks\":\"\"}}}],\"scattercarpet\":[{\"type\":\"scattercarpet\",\"marker\":{\"colorbar\":{\"outlinewidth\":0,\"ticks\":\"\"}}}],\"carpet\":[{\"aaxis\":{\"endlinecolor\":\"#2a3f5f\",\"gridcolor\":\"white\",\"linecolor\":\"white\",\"minorgridcolor\":\"white\",\"startlinecolor\":\"#2a3f5f\"},\"baxis\":{\"endlinecolor\":\"#2a3f5f\",\"gridcolor\":\"white\",\"linecolor\":\"white\",\"minorgridcolor\":\"white\",\"startlinecolor\":\"#2a3f5f\"},\"type\":\"carpet\"}],\"table\":[{\"cells\":{\"fill\":{\"color\":\"#EBF0F8\"},\"line\":{\"color\":\"white\"}},\"header\":{\"fill\":{\"color\":\"#C8D4E3\"},\"line\":{\"color\":\"white\"}},\"type\":\"table\"}],\"barpolar\":[{\"marker\":{\"line\":{\"color\":\"#E5ECF6\",\"width\":0.5},\"pattern\":{\"fillmode\":\"overlay\",\"size\":10,\"solidity\":0.2}},\"type\":\"barpolar\"}],\"pie\":[{\"automargin\":true,\"type\":\"pie\"}]},\"layout\":{\"autotypenumbers\":\"strict\",\"colorway\":[\"#636efa\",\"#EF553B\",\"#00cc96\",\"#ab63fa\",\"#FFA15A\",\"#19d3f3\",\"#FF6692\",\"#B6E880\",\"#FF97FF\",\"#FECB52\"],\"font\":{\"color\":\"#2a3f5f\"},\"hovermode\":\"closest\",\"hoverlabel\":{\"align\":\"left\"},\"paper_bgcolor\":\"white\",\"plot_bgcolor\":\"#E5ECF6\",\"polar\":{\"bgcolor\":\"#E5ECF6\",\"angularaxis\":{\"gridcolor\":\"white\",\"linecolor\":\"white\",\"ticks\":\"\"},\"radialaxis\":{\"gridcolor\":\"white\",\"linecolor\":\"white\",\"ticks\":\"\"}},\"ternary\":{\"bgcolor\":\"#E5ECF6\",\"aaxis\":{\"gridcolor\":\"white\",\"linecolor\":\"white\",\"ticks\":\"\"},\"baxis\":{\"gridcolor\":\"white\",\"linecolor\":\"white\",\"ticks\":\"\"},\"caxis\":{\"gridcolor\":\"white\",\"linecolor\":\"white\",\"ticks\":\"\"}},\"coloraxis\":{\"colorbar\":{\"outlinewidth\":0,\"ticks\":\"\"}},\"colorscale\":{\"sequential\":[[0.0,\"#0d0887\"],[0.1111111111111111,\"#46039f\"],[0.2222222222222222,\"#7201a8\"],[0.3333333333333333,\"#9c179e\"],[0.4444444444444444,\"#bd3786\"],[0.5555555555555556,\"#d8576b\"],[0.6666666666666666,\"#ed7953\"],[0.7777777777777778,\"#fb9f3a\"],[0.8888888888888888,\"#fdca26\"],[1.0,\"#f0f921\"]],\"sequentialminus\":[[0.0,\"#0d0887\"],[0.1111111111111111,\"#46039f\"],[0.2222222222222222,\"#7201a8\"],[0.3333333333333333,\"#9c179e\"],[0.4444444444444444,\"#bd3786\"],[0.5555555555555556,\"#d8576b\"],[0.6666666666666666,\"#ed7953\"],[0.7777777777777778,\"#fb9f3a\"],[0.8888888888888888,\"#fdca26\"],[1.0,\"#f0f921\"]],\"diverging\":[[0,\"#8e0152\"],[0.1,\"#c51b7d\"],[0.2,\"#de77ae\"],[0.3,\"#f1b6da\"],[0.4,\"#fde0ef\"],[0.5,\"#f7f7f7\"],[0.6,\"#e6f5d0\"],[0.7,\"#b8e186\"],[0.8,\"#7fbc41\"],[0.9,\"#4d9221\"],[1,\"#276419\"]]},\"xaxis\":{\"gridcolor\":\"white\",\"linecolor\":\"white\",\"ticks\":\"\",\"title\":{\"standoff\":15},\"zerolinecolor\":\"white\",\"automargin\":true,\"zerolinewidth\":2},\"yaxis\":{\"gridcolor\":\"white\",\"linecolor\":\"white\",\"ticks\":\"\",\"title\":{\"standoff\":15},\"zerolinecolor\":\"white\",\"automargin\":true,\"zerolinewidth\":2},\"scene\":{\"xaxis\":{\"backgroundcolor\":\"#E5ECF6\",\"gridcolor\":\"white\",\"linecolor\":\"white\",\"showbackground\":true,\"ticks\":\"\",\"zerolinecolor\":\"white\",\"gridwidth\":2},\"yaxis\":{\"backgroundcolor\":\"#E5ECF6\",\"gridcolor\":\"white\",\"linecolor\":\"white\",\"showbackground\":true,\"ticks\":\"\",\"zerolinecolor\":\"white\",\"gridwidth\":2},\"zaxis\":{\"backgroundcolor\":\"#E5ECF6\",\"gridcolor\":\"white\",\"linecolor\":\"white\",\"showbackground\":true,\"ticks\":\"\",\"zerolinecolor\":\"white\",\"gridwidth\":2}},\"shapedefaults\":{\"line\":{\"color\":\"#2a3f5f\"}},\"annotationdefaults\":{\"arrowcolor\":\"#2a3f5f\",\"arrowhead\":0,\"arrowwidth\":1},\"geo\":{\"bgcolor\":\"white\",\"landcolor\":\"#E5ECF6\",\"subunitcolor\":\"white\",\"showland\":true,\"showlakes\":true,\"lakecolor\":\"white\"},\"title\":{\"x\":0.05},\"mapbox\":{\"style\":\"light\"}}},\"mapbox\":{\"center\":{\"lon\":-90.633595,\"lat\":38.5299403},\"style\":\"carto-positron\",\"zoom\":4},\"height\":800,\"showlegend\":false},                        {\"responsive\": true}                    ).then(function(){\n",
       "                            \n",
       "var gd = document.getElementById('c4bb9f47-a2e2-4f45-a467-bd5e95fa2e40');\n",
       "var x = new MutationObserver(function (mutations, observer) {{\n",
       "        var display = window.getComputedStyle(gd).display;\n",
       "        if (!display || display === 'none') {{\n",
       "            console.log([gd, 'removed!']);\n",
       "            Plotly.purge(gd);\n",
       "            observer.disconnect();\n",
       "        }}\n",
       "}});\n",
       "\n",
       "// Listen for the removal of the full notebook cells\n",
       "var notebookContainer = gd.closest('#notebook-container');\n",
       "if (notebookContainer) {{\n",
       "    x.observe(notebookContainer, {childList: true});\n",
       "}}\n",
       "\n",
       "// Listen for the clearing of the current output cell\n",
       "var outputEl = gd.closest('.output');\n",
       "if (outputEl) {{\n",
       "    x.observe(outputEl, {childList: true});\n",
       "}}\n",
       "\n",
       "                        })                };                });            </script>        </div>"
      ]
     },
     "metadata": {},
     "output_type": "display_data"
    }
   ],
   "execution_count": 79
  },
  {
   "metadata": {},
   "cell_type": "code",
   "outputs": [],
   "execution_count": null,
   "source": [
    "# show the distribution of the fraud and non fraud transactions based on the distance\n",
    "import plotly.express as px\n"
   ],
   "id": "4018138dacc1968f"
  },
  {
   "metadata": {},
   "cell_type": "code",
   "outputs": [],
   "execution_count": null,
   "source": "\n",
   "id": "3a1834fbc32323c4"
  }
 ],
 "metadata": {
  "kernelspec": {
   "display_name": "Python 3",
   "language": "python",
   "name": "python3"
  },
  "language_info": {
   "codemirror_mode": {
    "name": "ipython",
    "version": 2
   },
   "file_extension": ".py",
   "mimetype": "text/x-python",
   "name": "python",
   "nbconvert_exporter": "python",
   "pygments_lexer": "ipython2",
   "version": "2.7.6"
  }
 },
 "nbformat": 4,
 "nbformat_minor": 5
}
